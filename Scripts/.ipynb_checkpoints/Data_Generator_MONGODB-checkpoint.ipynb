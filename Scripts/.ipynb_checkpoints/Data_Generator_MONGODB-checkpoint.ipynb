{
 "cells": [
  {
   "cell_type": "markdown",
   "metadata": {},
   "source": [
    "Script de generación de datos documentales TFM Daniel Herranz Segundo"
   ]
  },
  {
   "cell_type": "code",
   "execution_count": 1,
   "metadata": {},
   "outputs": [],
   "source": [
    "import pandas as pd\n",
    "import numpy as np\n",
    "import os\n",
    "import json\n",
    "import random\n",
    "import uuid"
   ]
  },
  {
   "cell_type": "code",
   "execution_count": 2,
   "metadata": {},
   "outputs": [],
   "source": [
    "#Variables de los ficheros de datos salida\n",
    "CurrentAccountCollection_file_out = '../MockData/MongoDB/CurrentAccountCollection/CurrentAccountCollection.json'\n",
    "PositionKeepingCollection_file_out = '../MockData/MongoDB/PositionKeepingCollection/PositionKeepingCollection.json'\n",
    "CustomerProfileCollection_file_out = '../MockData/MongoDB/CustomerProfileCollection/CustomerProfileCollection.json'\n",
    "\n",
    "CurrentAccountCollection_sample_out = '../MockData/MongoDB/CurrentAccountCollection/CurrentAccountCollection_sample.json'\n",
    "PositionKeepingCollection_sample_out = '../MockData/MongoDB/PositionKeepingCollection/PositionKeepingCollection_sample.json'\n",
    "CustomerProfileCollection_sample_out = '../MockData/MongoDB/CustomerProfileCollection/CustomerProfileCollection_sample.json'"
   ]
  },
  {
   "cell_type": "code",
   "execution_count": 3,
   "metadata": {},
   "outputs": [],
   "source": [
    "#Función para resetear ficheros de salida\n",
    "def reset_files(file):\n",
    "    if os.path.exists(file):\n",
    "        os.remove(file)\n",
    "        print(\"The file\", file ,\"have been removed\")\n",
    "    else:\n",
    "        print(\"The file\", file ,\"does not exist\")"
   ]
  },
  {
   "cell_type": "code",
   "execution_count": 4,
   "metadata": {},
   "outputs": [
    {
     "name": "stdout",
     "output_type": "stream",
     "text": [
      "The file ../MockData/MongoDB/CurrentAccountCollection/CurrentAccountCollection_sample.json does not exist\n",
      "The file ../MockData/MongoDB/PositionKeepingCollection/PositionKeepingCollection_sample.json does not exist\n",
      "The file ../MockData/MongoDB/CustomerProfileCollection/CustomerProfileCollection_sample.json have been removed\n"
     ]
    }
   ],
   "source": [
    "#Limpiamos los ficheros de salida\n",
    "#reset_files(CurrentAccountCollection_file_out)\n",
    "#reset_files(PositionKeepingCollection_file_out)\n",
    "#reset_files(CustomerProfileCollection_file_out)\n",
    "reset_files(CurrentAccountCollection_sample_out)\n",
    "reset_files(PositionKeepingCollection_sample_out)\n",
    "reset_files(CustomerProfileCollection_sample_out)"
   ]
  },
  {
   "cell_type": "markdown",
   "metadata": {},
   "source": [
    "# Generación coleccion CustomerProfile para MongoDB"
   ]
  },
  {
   "cell_type": "code",
   "execution_count": 5,
   "metadata": {},
   "outputs": [],
   "source": [
    "#Carga de la información de dataframes por entidades\n",
    "\n",
    "Address_df = pd.read_csv('../MockData/Address_1M.csv')\n",
    "CustomerProfile_df = pd.read_csv('../MockData/CustomerProfile_1M.csv')\n",
    "Country_df = pd.read_csv('../MockData/base/Country.csv')"
   ]
  },
  {
   "cell_type": "code",
   "execution_count": 6,
   "metadata": {},
   "outputs": [
    {
     "name": "stdout",
     "output_type": "stream",
     "text": [
      "Index(['PartyId', 'AddressType', 'AddressLine', 'StreetName', 'BuildingNumber',\n",
      "       'PostCode', 'TownName', 'CountrySubDivision', 'CountryId'],\n",
      "      dtype='object')\n",
      "Index(['PartyId', 'PartyNumber', 'PartyType', 'Name', 'FullLegalName',\n",
      "       'LegalStructure', 'BeneficialOwnership', 'AccountRole', 'EmailAddress',\n",
      "       'Phone'],\n",
      "      dtype='object')\n",
      "Index(['CountryId', 'ShortName', 'Description', 'Code', 'Unnamed: 4'], dtype='object')\n",
      "1090853\n",
      "1297441\n",
      "3\n"
     ]
    }
   ],
   "source": [
    "print(Address_df.columns)\n",
    "print(CustomerProfile_df.columns)\n",
    "print(Country_df.columns)\n",
    "print(len(Address_df))\n",
    "print(len(CustomerProfile_df))\n",
    "print(len(Country_df))"
   ]
  },
  {
   "cell_type": "code",
   "execution_count": 7,
   "metadata": {},
   "outputs": [],
   "source": [
    "#Indexado PartyId para mejor legibilidad\n",
    "del(Country_df['CountryId'])\n",
    "del(Country_df['Unnamed: 4'])\n",
    "\n",
    "del(Address_df['PartyId'])\n",
    "del(Address_df['CountryId'])"
   ]
  },
  {
   "cell_type": "code",
   "execution_count": 8,
   "metadata": {},
   "outputs": [],
   "source": [
    "CustomerProfile_df = CustomerProfile_df.sample(10000)\n",
    "Address_df = Address_df.sample(10000)"
   ]
  },
  {
   "cell_type": "code",
   "execution_count": 9,
   "metadata": {},
   "outputs": [
    {
     "data": {
      "text/html": [
       "<div>\n",
       "<style scoped>\n",
       "    .dataframe tbody tr th:only-of-type {\n",
       "        vertical-align: middle;\n",
       "    }\n",
       "\n",
       "    .dataframe tbody tr th {\n",
       "        vertical-align: top;\n",
       "    }\n",
       "\n",
       "    .dataframe thead th {\n",
       "        text-align: right;\n",
       "    }\n",
       "</style>\n",
       "<table border=\"1\" class=\"dataframe\">\n",
       "  <thead>\n",
       "    <tr style=\"text-align: right;\">\n",
       "      <th></th>\n",
       "      <th>PartyId</th>\n",
       "      <th>PartyNumber</th>\n",
       "      <th>PartyType</th>\n",
       "      <th>Name</th>\n",
       "      <th>FullLegalName</th>\n",
       "      <th>LegalStructure</th>\n",
       "      <th>BeneficialOwnership</th>\n",
       "      <th>AccountRole</th>\n",
       "      <th>EmailAddress</th>\n",
       "      <th>Phone</th>\n",
       "      <th>Address</th>\n",
       "    </tr>\n",
       "  </thead>\n",
       "  <tbody>\n",
       "    <tr>\n",
       "      <th>1248977</th>\n",
       "      <td>7285</td>\n",
       "      <td>7285</td>\n",
       "      <td>sol</td>\n",
       "      <td>Simone</td>\n",
       "      <td>Mr. Ricardo Reichert II</td>\n",
       "      <td>Mr.</td>\n",
       "      <td>3</td>\n",
       "      <td>UK.OBIE.Secundary</td>\n",
       "      <td>pbechtelar@example.com</td>\n",
       "      <td>07482100005</td>\n",
       "      <td>[{'AddressType': 'Port', 'AddressLine': '218 L...</td>\n",
       "    </tr>\n",
       "    <tr>\n",
       "      <th>396786</th>\n",
       "      <td>6019</td>\n",
       "      <td>6019</td>\n",
       "      <td>pri</td>\n",
       "      <td>Wilfred</td>\n",
       "      <td>Katharina Kub</td>\n",
       "      <td>Prof.</td>\n",
       "      <td>5</td>\n",
       "      <td>DE.OBIE.Principal</td>\n",
       "      <td>vena.gutkowski@example.com</td>\n",
       "      <td>+58(2)526845</td>\n",
       "      <td>[{'AddressType': 'Sout', 'AddressLine': '1346 ...</td>\n",
       "    </tr>\n",
       "  </tbody>\n",
       "</table>\n",
       "</div>"
      ],
      "text/plain": [
       "         PartyId  PartyNumber PartyType     Name            FullLegalName  \\\n",
       "1248977     7285         7285       sol   Simone  Mr. Ricardo Reichert II   \n",
       "396786      6019         6019       pri  Wilfred            Katharina Kub   \n",
       "\n",
       "        LegalStructure  BeneficialOwnership        AccountRole  \\\n",
       "1248977            Mr.                    3  UK.OBIE.Secundary   \n",
       "396786           Prof.                    5  DE.OBIE.Principal   \n",
       "\n",
       "                       EmailAddress         Phone  \\\n",
       "1248977      pbechtelar@example.com   07482100005   \n",
       "396786   vena.gutkowski@example.com  +58(2)526845   \n",
       "\n",
       "                                                   Address  \n",
       "1248977  [{'AddressType': 'Port', 'AddressLine': '218 L...  \n",
       "396786   [{'AddressType': 'Sout', 'AddressLine': '1346 ...  "
      ]
     },
     "execution_count": 9,
     "metadata": {},
     "output_type": "execute_result"
    }
   ],
   "source": [
    "#Agregamos una columna de pais a las direcciones\n",
    "CountryColumn = []\n",
    "\n",
    "for i in range (0,len(Address_df)): \n",
    "    CountryArrayAsJSON = json.loads(Country_df.sample(1).to_json(orient ='records'))\n",
    "    CountryColumn.append(CountryArrayAsJSON)    \n",
    "\n",
    "Address_df['Country'] = CountryColumn\n",
    "\n",
    "#Agreación de direcciones (Address) a la colección Customer Profile\n",
    "#Tratamiento de las direcciones. Creamos de forma aleatoria entre 1 y 10 como agregado del CustomerProfile\n",
    "AddressColumn = []\n",
    "\n",
    "for i in range (0,len(CustomerProfile_df)): \n",
    "    AddressArrayAsJSON = json.loads(Address_df.sample(random.choice(range(1,3))).to_json(orient ='records'))\n",
    "    AddressColumn.append(AddressArrayAsJSON)    \n",
    "    \n",
    "CustomerProfile_df['Address'] = AddressColumn\n",
    "CustomerProfile_df.sample(2)"
   ]
  },
  {
   "cell_type": "code",
   "execution_count": 10,
   "metadata": {},
   "outputs": [
    {
     "data": {
      "text/plain": [
       "11086020"
      ]
     },
     "execution_count": 10,
     "metadata": {},
     "output_type": "execute_result"
    }
   ],
   "source": [
    "#Generamos 5M de registros basados en datos previos con PartyId unico\n",
    "for x in range(14): # Generamos registros\n",
    "    CustomerProfile_df = CustomerProfile_df.append(CustomerProfile_df.sample(frac=0.65,replace = True))\n",
    "\n",
    "len(CustomerProfile_df)"
   ]
  },
  {
   "cell_type": "code",
   "execution_count": 11,
   "metadata": {},
   "outputs": [
    {
     "data": {
      "text/plain": [
       "2500000"
      ]
     },
     "execution_count": 11,
     "metadata": {},
     "output_type": "execute_result"
    }
   ],
   "source": [
    "#Volcamos 5M de registros para su uso posterior\n",
    "CustomerProfile_df = CustomerProfile_df.sample(2500000)\n",
    "len(CustomerProfile_df)"
   ]
  },
  {
   "cell_type": "code",
   "execution_count": 12,
   "metadata": {},
   "outputs": [],
   "source": [
    "#Modificamos la clave unida PartyId con uuid\n",
    "CustomerProfile_df['PartyId'] = CustomerProfile_df['PartyId'].map(lambda x: str(uuid.uuid1()))"
   ]
  },
  {
   "cell_type": "code",
   "execution_count": 13,
   "metadata": {},
   "outputs": [
    {
     "data": {
      "text/html": [
       "<div>\n",
       "<style scoped>\n",
       "    .dataframe tbody tr th:only-of-type {\n",
       "        vertical-align: middle;\n",
       "    }\n",
       "\n",
       "    .dataframe tbody tr th {\n",
       "        vertical-align: top;\n",
       "    }\n",
       "\n",
       "    .dataframe thead th {\n",
       "        text-align: right;\n",
       "    }\n",
       "</style>\n",
       "<table border=\"1\" class=\"dataframe\">\n",
       "  <thead>\n",
       "    <tr style=\"text-align: right;\">\n",
       "      <th></th>\n",
       "      <th>PartyId</th>\n",
       "      <th>PartyNumber</th>\n",
       "      <th>PartyType</th>\n",
       "      <th>Name</th>\n",
       "      <th>FullLegalName</th>\n",
       "      <th>LegalStructure</th>\n",
       "      <th>BeneficialOwnership</th>\n",
       "      <th>AccountRole</th>\n",
       "      <th>EmailAddress</th>\n",
       "      <th>Phone</th>\n",
       "      <th>Address</th>\n",
       "    </tr>\n",
       "  </thead>\n",
       "  <tbody>\n",
       "    <tr>\n",
       "      <th>973223</th>\n",
       "      <td>574f8832-ba4b-11ec-9dcd-892344612080</td>\n",
       "      <td>3563</td>\n",
       "      <td>sol</td>\n",
       "      <td>Jammie</td>\n",
       "      <td>Eulalia Jenkins IV</td>\n",
       "      <td>Dr.</td>\n",
       "      <td>4</td>\n",
       "      <td>US.OBIE.Principal</td>\n",
       "      <td>hector60@example.org</td>\n",
       "      <td>+43(8)039850</td>\n",
       "      <td>[{'AddressType': 'East', 'AddressLine': '3153 ...</td>\n",
       "    </tr>\n",
       "  </tbody>\n",
       "</table>\n",
       "</div>"
      ],
      "text/plain": [
       "                                     PartyId  PartyNumber PartyType    Name  \\\n",
       "973223  574f8832-ba4b-11ec-9dcd-892344612080         3563       sol  Jammie   \n",
       "\n",
       "             FullLegalName LegalStructure  BeneficialOwnership  \\\n",
       "973223  Eulalia Jenkins IV            Dr.                    4   \n",
       "\n",
       "              AccountRole          EmailAddress         Phone  \\\n",
       "973223  US.OBIE.Principal  hector60@example.org  +43(8)039850   \n",
       "\n",
       "                                                  Address  \n",
       "973223  [{'AddressType': 'East', 'AddressLine': '3153 ...  "
      ]
     },
     "execution_count": 13,
     "metadata": {},
     "output_type": "execute_result"
    }
   ],
   "source": [
    "CustomerProfile_df.sample(1)"
   ]
  },
  {
   "cell_type": "code",
   "execution_count": 14,
   "metadata": {},
   "outputs": [
    {
     "name": "stdout",
     "output_type": "stream",
     "text": [
      "Guardado fichero en ../MockData/MongoDB/CustomerProfileCollection/CustomerProfileCollection_sample.json\n"
     ]
    }
   ],
   "source": [
    "#Volcado fichero JSON\n",
    "#CustomerProfile_df.to_json(CustomerProfileCollection_file_out,orient ='records') #Final file\n",
    "#print(\"Guardado fichero en\", CustomerProfileCollection_file_out)\n",
    "\n",
    "#Volcado fichero JSON reducido para pruebas (Sample)\n",
    "CustomerProfile_df.to_json(CustomerProfileCollection_sample_out,orient ='records') #Sample for testing\n",
    "print(\"Guardado fichero en\", CustomerProfileCollection_sample_out)"
   ]
  },
  {
   "cell_type": "markdown",
   "metadata": {},
   "source": [
    "# Generación colección CurrentAccount para MongoDB"
   ]
  },
  {
   "cell_type": "code",
   "execution_count": 15,
   "metadata": {},
   "outputs": [],
   "source": [
    "#Carga de datasets necesarias para la colección\n",
    "AccountInfo_df = pd.read_csv('../MockData/AccountInfo_1M.csv')\n",
    "CurrentAccount_df = pd.read_csv('../MockData/CurrentAccount_1M.csv')"
   ]
  },
  {
   "cell_type": "code",
   "execution_count": 16,
   "metadata": {},
   "outputs": [
    {
     "data": {
      "text/plain": [
       "Index(['AccountInfoId', 'AccountId', 'SchemeName', 'Identification', 'Name'], dtype='object')"
      ]
     },
     "execution_count": 16,
     "metadata": {},
     "output_type": "execute_result"
    }
   ],
   "source": [
    "AccountInfo_df.columns"
   ]
  },
  {
   "cell_type": "code",
   "execution_count": 17,
   "metadata": {},
   "outputs": [],
   "source": [
    "#Limpieza de columnas residuales y no necesarias en el documento\n",
    "del(AccountInfo_df['AccountInfoId'])\n",
    "del(AccountInfo_df['AccountId'])"
   ]
  },
  {
   "cell_type": "code",
   "execution_count": 18,
   "metadata": {},
   "outputs": [
    {
     "data": {
      "text/html": [
       "<div>\n",
       "<style scoped>\n",
       "    .dataframe tbody tr th:only-of-type {\n",
       "        vertical-align: middle;\n",
       "    }\n",
       "\n",
       "    .dataframe tbody tr th {\n",
       "        vertical-align: top;\n",
       "    }\n",
       "\n",
       "    .dataframe thead th {\n",
       "        text-align: right;\n",
       "    }\n",
       "</style>\n",
       "<table border=\"1\" class=\"dataframe\">\n",
       "  <thead>\n",
       "    <tr style=\"text-align: right;\">\n",
       "      <th></th>\n",
       "      <th>AccountId</th>\n",
       "      <th>PartyId</th>\n",
       "      <th>Status</th>\n",
       "      <th>StatusUpdateDateTime</th>\n",
       "      <th>AccountType</th>\n",
       "      <th>NickName</th>\n",
       "      <th>OpeningDate</th>\n",
       "      <th>AccountSubType</th>\n",
       "    </tr>\n",
       "  </thead>\n",
       "  <tbody>\n",
       "    <tr>\n",
       "      <th>688161</th>\n",
       "      <td>681</td>\n",
       "      <td>8278</td>\n",
       "      <td>Disabled</td>\n",
       "      <td>1981-12-27 07:39:19.00</td>\n",
       "      <td>Business</td>\n",
       "      <td>transform killer functionalities</td>\n",
       "      <td>1996-02-29 02:21:29.00</td>\n",
       "      <td>SAI</td>\n",
       "    </tr>\n",
       "  </tbody>\n",
       "</table>\n",
       "</div>"
      ],
      "text/plain": [
       "        AccountId  PartyId    Status    StatusUpdateDateTime AccountType  \\\n",
       "688161        681     8278  Disabled  1981-12-27 07:39:19.00    Business   \n",
       "\n",
       "                                NickName             OpeningDate  \\\n",
       "688161  transform killer functionalities  1996-02-29 02:21:29.00   \n",
       "\n",
       "       AccountSubType  \n",
       "688161            SAI  "
      ]
     },
     "execution_count": 18,
     "metadata": {},
     "output_type": "execute_result"
    }
   ],
   "source": [
    "CurrentAccount_df.sample(1)"
   ]
  },
  {
   "cell_type": "code",
   "execution_count": 19,
   "metadata": {},
   "outputs": [
    {
     "data": {
      "text/html": [
       "<div>\n",
       "<style scoped>\n",
       "    .dataframe tbody tr th:only-of-type {\n",
       "        vertical-align: middle;\n",
       "    }\n",
       "\n",
       "    .dataframe tbody tr th {\n",
       "        vertical-align: top;\n",
       "    }\n",
       "\n",
       "    .dataframe thead th {\n",
       "        text-align: right;\n",
       "    }\n",
       "</style>\n",
       "<table border=\"1\" class=\"dataframe\">\n",
       "  <thead>\n",
       "    <tr style=\"text-align: right;\">\n",
       "      <th></th>\n",
       "      <th>SchemeName</th>\n",
       "      <th>Identification</th>\n",
       "      <th>Name</th>\n",
       "    </tr>\n",
       "  </thead>\n",
       "  <tbody>\n",
       "    <tr>\n",
       "      <th>1094552</th>\n",
       "      <td>UK.business</td>\n",
       "      <td>3.0</td>\n",
       "      <td>Hilll-Kiehn</td>\n",
       "    </tr>\n",
       "  </tbody>\n",
       "</table>\n",
       "</div>"
      ],
      "text/plain": [
       "          SchemeName  Identification         Name\n",
       "1094552  UK.business             3.0  Hilll-Kiehn"
      ]
     },
     "execution_count": 19,
     "metadata": {},
     "output_type": "execute_result"
    }
   ],
   "source": [
    "AccountInfo_df.sample(1)"
   ]
  },
  {
   "cell_type": "code",
   "execution_count": 20,
   "metadata": {},
   "outputs": [],
   "source": [
    "#Creamos un sample. Testing (comentar en generación real)\n",
    "CurrentAccount_df = CurrentAccount_df.sample(10000)\n",
    "CurrentAccount_df['AccountId'] = CurrentAccount_df['AccountId'].map(lambda x: str(uuid.uuid1()))\n",
    "AccountInfo_df = AccountInfo_df.sample(10000)"
   ]
  },
  {
   "cell_type": "code",
   "execution_count": 21,
   "metadata": {},
   "outputs": [
    {
     "data": {
      "text/html": [
       "<div>\n",
       "<style scoped>\n",
       "    .dataframe tbody tr th:only-of-type {\n",
       "        vertical-align: middle;\n",
       "    }\n",
       "\n",
       "    .dataframe tbody tr th {\n",
       "        vertical-align: top;\n",
       "    }\n",
       "\n",
       "    .dataframe thead th {\n",
       "        text-align: right;\n",
       "    }\n",
       "</style>\n",
       "<table border=\"1\" class=\"dataframe\">\n",
       "  <thead>\n",
       "    <tr style=\"text-align: right;\">\n",
       "      <th></th>\n",
       "      <th>SchemeName</th>\n",
       "      <th>Identification</th>\n",
       "      <th>Name</th>\n",
       "    </tr>\n",
       "  </thead>\n",
       "  <tbody>\n",
       "    <tr>\n",
       "      <th>412904</th>\n",
       "      <td>NaN</td>\n",
       "      <td>4.0</td>\n",
       "      <td>Feeney-Erdman</td>\n",
       "    </tr>\n",
       "  </tbody>\n",
       "</table>\n",
       "</div>"
      ],
      "text/plain": [
       "       SchemeName  Identification           Name\n",
       "412904        NaN             4.0  Feeney-Erdman"
      ]
     },
     "execution_count": 21,
     "metadata": {},
     "output_type": "execute_result"
    }
   ],
   "source": [
    "AccountInfo_df.sample(1)"
   ]
  },
  {
   "cell_type": "code",
   "execution_count": 22,
   "metadata": {},
   "outputs": [],
   "source": [
    "#Generamos la colección agregando AccountInfo a las cuentas\n",
    "\n",
    "AccountInfoColumn = []\n",
    "CurrentAccountCollection = pd.DataFrame()\n",
    "\n",
    "len(CurrentAccount_df)\n",
    "\n",
    "for i in range (0,len(CurrentAccount_df)):\n",
    "    account_info_ls = []\n",
    "    for j in range(1,3):\n",
    "        accountInfo = {\n",
    "            'SchemeName' : random.choice(['ES.OBIE.SortCodeAccountNumber', 'UK.OBIE.SortCodeAccountNumber', 'UK.business']),                    \n",
    "            'Identification': random.choice([0,1,2,3,4,5,6,7,8,9]),   \n",
    "            'Name': AccountInfo_df.sample(1)['Name']\n",
    "        }\n",
    "        account_info_ls.append(accountInfo)\n",
    "    AccountInfoColumn.append(account_info_ls)    \n",
    "    \n",
    "CurrentAccount_df['AccountInfo'] = AccountInfoColumn\n"
   ]
  },
  {
   "cell_type": "code",
   "execution_count": 23,
   "metadata": {},
   "outputs": [
    {
     "data": {
      "text/html": [
       "<div>\n",
       "<style scoped>\n",
       "    .dataframe tbody tr th:only-of-type {\n",
       "        vertical-align: middle;\n",
       "    }\n",
       "\n",
       "    .dataframe tbody tr th {\n",
       "        vertical-align: top;\n",
       "    }\n",
       "\n",
       "    .dataframe thead th {\n",
       "        text-align: right;\n",
       "    }\n",
       "</style>\n",
       "<table border=\"1\" class=\"dataframe\">\n",
       "  <thead>\n",
       "    <tr style=\"text-align: right;\">\n",
       "      <th></th>\n",
       "      <th>AccountId</th>\n",
       "      <th>PartyId</th>\n",
       "      <th>Status</th>\n",
       "      <th>StatusUpdateDateTime</th>\n",
       "      <th>AccountType</th>\n",
       "      <th>NickName</th>\n",
       "      <th>OpeningDate</th>\n",
       "      <th>AccountSubType</th>\n",
       "      <th>AccountInfo</th>\n",
       "    </tr>\n",
       "  </thead>\n",
       "  <tbody>\n",
       "    <tr>\n",
       "      <th>1202903</th>\n",
       "      <td>690ff480-ba4b-11ec-9dcd-892344612080</td>\n",
       "      <td>3914</td>\n",
       "      <td>Disabled</td>\n",
       "      <td>1979-08-08 18:37:55.00</td>\n",
       "      <td>Particular</td>\n",
       "      <td>morph frictionless networks</td>\n",
       "      <td>1990-06-21 20:54:15.00</td>\n",
       "      <td>EDP</td>\n",
       "      <td>[{'SchemeName': 'UK.business', 'Identification...</td>\n",
       "    </tr>\n",
       "  </tbody>\n",
       "</table>\n",
       "</div>"
      ],
      "text/plain": [
       "                                    AccountId  PartyId    Status  \\\n",
       "1202903  690ff480-ba4b-11ec-9dcd-892344612080     3914  Disabled   \n",
       "\n",
       "           StatusUpdateDateTime AccountType                     NickName  \\\n",
       "1202903  1979-08-08 18:37:55.00  Particular  morph frictionless networks   \n",
       "\n",
       "                    OpeningDate AccountSubType  \\\n",
       "1202903  1990-06-21 20:54:15.00            EDP   \n",
       "\n",
       "                                               AccountInfo  \n",
       "1202903  [{'SchemeName': 'UK.business', 'Identification...  "
      ]
     },
     "execution_count": 23,
     "metadata": {},
     "output_type": "execute_result"
    }
   ],
   "source": [
    "CurrentAccount_df.sample(1)"
   ]
  },
  {
   "cell_type": "code",
   "execution_count": 24,
   "metadata": {},
   "outputs": [
    {
     "data": {
      "text/plain": [
       "11086020"
      ]
     },
     "execution_count": 24,
     "metadata": {},
     "output_type": "execute_result"
    }
   ],
   "source": [
    "#Generamos 5M de registros basados en datos previos con PartyId unico\n",
    "for x in range(14): # Generamos registros\n",
    "    CurrentAccount_df = CurrentAccount_df.append(CurrentAccount_df.sample(frac=0.65,replace = True))\n",
    "\n",
    "len(CurrentAccount_df)"
   ]
  },
  {
   "cell_type": "code",
   "execution_count": 25,
   "metadata": {},
   "outputs": [
    {
     "data": {
      "text/plain": [
       "2500000"
      ]
     },
     "execution_count": 25,
     "metadata": {},
     "output_type": "execute_result"
    }
   ],
   "source": [
    "#Volcamos 5M de registros para su uso posterior\n",
    "CurrentAccount_df = CurrentAccount_df.sample(2500000)\n",
    "len(CurrentAccount_df)"
   ]
  },
  {
   "cell_type": "code",
   "execution_count": 26,
   "metadata": {},
   "outputs": [
    {
     "name": "stdout",
     "output_type": "stream",
     "text": [
      "False\n",
      "[False False False ...  True  True  True]\n",
      "False\n",
      "[False False False ...  True  True  True]\n"
     ]
    },
    {
     "data": {
      "text/plain": [
       "2500000"
      ]
     },
     "execution_count": 26,
     "metadata": {},
     "output_type": "execute_result"
    }
   ],
   "source": [
    "print(CurrentAccount_df.index.is_unique)\n",
    "print(CurrentAccount_df.index.duplicated())\n",
    "CurrentAccount_df.drop_duplicates(subset=['AccountId'], keep='last')\n",
    "CurrentAccount_df.reset_index()\n",
    "print(CurrentAccount_df.index.is_unique)\n",
    "print(CurrentAccount_df.index.duplicated())\n",
    "len(CurrentAccount_df)"
   ]
  },
  {
   "cell_type": "code",
   "execution_count": 27,
   "metadata": {},
   "outputs": [
    {
     "name": "stdout",
     "output_type": "stream",
     "text": [
      "False\n",
      "[False False False ...  True  True  True]\n",
      "False\n",
      "[False False False ...  True  True  True]\n"
     ]
    },
    {
     "data": {
      "text/plain": [
       "2500000"
      ]
     },
     "execution_count": 27,
     "metadata": {},
     "output_type": "execute_result"
    }
   ],
   "source": [
    "CustomerProfile_df\n",
    "print(CustomerProfile_df.index.is_unique)\n",
    "print(CustomerProfile_df.index.duplicated())\n",
    "CustomerProfile_df.drop_duplicates(subset=['PartyId'], keep='last')\n",
    "CustomerProfile_df.reset_index()\n",
    "print(CustomerProfile_df.index.is_unique)\n",
    "print(CustomerProfile_df.index.duplicated())\n",
    "len(CustomerProfile_df)"
   ]
  },
  {
   "cell_type": "code",
   "execution_count": 28,
   "metadata": {},
   "outputs": [],
   "source": [
    "#Modificamos la clave unida PartyId con uuid\n",
    "CurrentAccount_df['AccountId'] = CurrentAccount_df['AccountId'].map(lambda x: str(uuid.uuid1()))"
   ]
  },
  {
   "cell_type": "code",
   "execution_count": 29,
   "metadata": {},
   "outputs": [
    {
     "data": {
      "text/html": [
       "<div>\n",
       "<style scoped>\n",
       "    .dataframe tbody tr th:only-of-type {\n",
       "        vertical-align: middle;\n",
       "    }\n",
       "\n",
       "    .dataframe tbody tr th {\n",
       "        vertical-align: top;\n",
       "    }\n",
       "\n",
       "    .dataframe thead th {\n",
       "        text-align: right;\n",
       "    }\n",
       "</style>\n",
       "<table border=\"1\" class=\"dataframe\">\n",
       "  <thead>\n",
       "    <tr style=\"text-align: right;\">\n",
       "      <th></th>\n",
       "      <th>AccountId</th>\n",
       "      <th>PartyId</th>\n",
       "      <th>Status</th>\n",
       "      <th>StatusUpdateDateTime</th>\n",
       "      <th>AccountType</th>\n",
       "      <th>NickName</th>\n",
       "      <th>OpeningDate</th>\n",
       "      <th>AccountSubType</th>\n",
       "      <th>AccountInfo</th>\n",
       "    </tr>\n",
       "  </thead>\n",
       "  <tbody>\n",
       "    <tr>\n",
       "      <th>150970</th>\n",
       "      <td>782fad20-ba4b-11ec-9dcd-892344612080</td>\n",
       "      <td>9462</td>\n",
       "      <td>Enabled</td>\n",
       "      <td>1979-03-06 21:36:05.00</td>\n",
       "      <td>Particular</td>\n",
       "      <td>optimize global interfaces</td>\n",
       "      <td>2017-05-19 21:46:16.00</td>\n",
       "      <td>EDP</td>\n",
       "      <td>[{'SchemeName': 'UK.OBIE.SortCodeAccountNumber...</td>\n",
       "    </tr>\n",
       "  </tbody>\n",
       "</table>\n",
       "</div>"
      ],
      "text/plain": [
       "                                   AccountId  PartyId   Status  \\\n",
       "150970  782fad20-ba4b-11ec-9dcd-892344612080     9462  Enabled   \n",
       "\n",
       "          StatusUpdateDateTime AccountType                    NickName  \\\n",
       "150970  1979-03-06 21:36:05.00  Particular  optimize global interfaces   \n",
       "\n",
       "                   OpeningDate AccountSubType  \\\n",
       "150970  2017-05-19 21:46:16.00            EDP   \n",
       "\n",
       "                                              AccountInfo  \n",
       "150970  [{'SchemeName': 'UK.OBIE.SortCodeAccountNumber...  "
      ]
     },
     "execution_count": 29,
     "metadata": {},
     "output_type": "execute_result"
    }
   ],
   "source": [
    "CurrentAccount_df.sample(1)"
   ]
  },
  {
   "cell_type": "code",
   "execution_count": 30,
   "metadata": {},
   "outputs": [
    {
     "data": {
      "text/html": [
       "<div>\n",
       "<style scoped>\n",
       "    .dataframe tbody tr th:only-of-type {\n",
       "        vertical-align: middle;\n",
       "    }\n",
       "\n",
       "    .dataframe tbody tr th {\n",
       "        vertical-align: top;\n",
       "    }\n",
       "\n",
       "    .dataframe thead th {\n",
       "        text-align: right;\n",
       "    }\n",
       "</style>\n",
       "<table border=\"1\" class=\"dataframe\">\n",
       "  <thead>\n",
       "    <tr style=\"text-align: right;\">\n",
       "      <th></th>\n",
       "      <th>PartyId</th>\n",
       "      <th>PartyNumber</th>\n",
       "      <th>PartyType</th>\n",
       "      <th>Name</th>\n",
       "      <th>FullLegalName</th>\n",
       "      <th>LegalStructure</th>\n",
       "      <th>BeneficialOwnership</th>\n",
       "      <th>AccountRole</th>\n",
       "      <th>EmailAddress</th>\n",
       "      <th>Phone</th>\n",
       "      <th>Address</th>\n",
       "    </tr>\n",
       "  </thead>\n",
       "  <tbody>\n",
       "    <tr>\n",
       "      <th>296844</th>\n",
       "      <td>5259f1f0-ba4b-11ec-9dcd-892344612080</td>\n",
       "      <td>7162</td>\n",
       "      <td>sol</td>\n",
       "      <td>Sharon</td>\n",
       "      <td>Conor Metz</td>\n",
       "      <td>Miss</td>\n",
       "      <td>1</td>\n",
       "      <td>UK.OBIE.Secundary</td>\n",
       "      <td>alba26@example.com</td>\n",
       "      <td>1-094-428-63</td>\n",
       "      <td>[{'AddressType': 'Port', 'AddressLine': '6564 ...</td>\n",
       "    </tr>\n",
       "    <tr>\n",
       "      <th>694839</th>\n",
       "      <td>5259f362-ba4b-11ec-9dcd-892344612080</td>\n",
       "      <td>1671</td>\n",
       "      <td>pri</td>\n",
       "      <td>Manley</td>\n",
       "      <td>Julius Dibbert</td>\n",
       "      <td>Dr.</td>\n",
       "      <td>5</td>\n",
       "      <td>US.OBIE.Principal</td>\n",
       "      <td>amohr@example.org</td>\n",
       "      <td>382.682.3551</td>\n",
       "      <td>[{'AddressType': 'West', 'AddressLine': '51238...</td>\n",
       "    </tr>\n",
       "    <tr>\n",
       "      <th>1277301</th>\n",
       "      <td>5259f3b2-ba4b-11ec-9dcd-892344612080</td>\n",
       "      <td>3602</td>\n",
       "      <td>sol</td>\n",
       "      <td>Roel</td>\n",
       "      <td>Remington Considine</td>\n",
       "      <td>Prof.</td>\n",
       "      <td>5</td>\n",
       "      <td>DE.OBIE.Principal</td>\n",
       "      <td>trey77@example.org</td>\n",
       "      <td>1-634-355-73</td>\n",
       "      <td>[{'AddressType': 'Lake', 'AddressLine': '76173...</td>\n",
       "    </tr>\n",
       "    <tr>\n",
       "      <th>625853</th>\n",
       "      <td>5259f3da-ba4b-11ec-9dcd-892344612080</td>\n",
       "      <td>290</td>\n",
       "      <td>sol</td>\n",
       "      <td>Anna</td>\n",
       "      <td>Jed Weber</td>\n",
       "      <td>Prof.</td>\n",
       "      <td>6</td>\n",
       "      <td>DE.OBIE.Principal</td>\n",
       "      <td>alba04@example.net</td>\n",
       "      <td>(139)290-134</td>\n",
       "      <td>[{'AddressType': 'West', 'AddressLine': '51238...</td>\n",
       "    </tr>\n",
       "    <tr>\n",
       "      <th>360619</th>\n",
       "      <td>5259f402-ba4b-11ec-9dcd-892344612080</td>\n",
       "      <td>2710</td>\n",
       "      <td>pri</td>\n",
       "      <td>Sigrid</td>\n",
       "      <td>Claire Haag</td>\n",
       "      <td>Dr.</td>\n",
       "      <td>9</td>\n",
       "      <td>DE.OBIE.Principal</td>\n",
       "      <td>lucas.nicolas@example.org</td>\n",
       "      <td>885-688-8917</td>\n",
       "      <td>[{'AddressType': 'Nort', 'AddressLine': '60642...</td>\n",
       "    </tr>\n",
       "    <tr>\n",
       "      <th>...</th>\n",
       "      <td>...</td>\n",
       "      <td>...</td>\n",
       "      <td>...</td>\n",
       "      <td>...</td>\n",
       "      <td>...</td>\n",
       "      <td>...</td>\n",
       "      <td>...</td>\n",
       "      <td>...</td>\n",
       "      <td>...</td>\n",
       "      <td>...</td>\n",
       "      <td>...</td>\n",
       "    </tr>\n",
       "    <tr>\n",
       "      <th>1010309</th>\n",
       "      <td>575677e6-ba4b-11ec-9dcd-892344612080</td>\n",
       "      <td>7956</td>\n",
       "      <td>sol</td>\n",
       "      <td>Monica</td>\n",
       "      <td>Dr. Marina Gerhold DVM</td>\n",
       "      <td>Ms.</td>\n",
       "      <td>3</td>\n",
       "      <td>UK.OBIE.Secundary</td>\n",
       "      <td>hunter34@example.net</td>\n",
       "      <td>1-616-535-00</td>\n",
       "      <td>[{'AddressType': 'West', 'AddressLine': '88932...</td>\n",
       "    </tr>\n",
       "    <tr>\n",
       "      <th>443128</th>\n",
       "      <td>57567804-ba4b-11ec-9dcd-892344612080</td>\n",
       "      <td>4641</td>\n",
       "      <td>pri</td>\n",
       "      <td>Horacio</td>\n",
       "      <td>Sienna Schmidt</td>\n",
       "      <td>Dr.</td>\n",
       "      <td>1</td>\n",
       "      <td>US.OBIE.Principal</td>\n",
       "      <td>koss.torrey@example.org</td>\n",
       "      <td>1-412-679-65</td>\n",
       "      <td>[{'AddressType': 'Lake', 'AddressLine': '507 H...</td>\n",
       "    </tr>\n",
       "    <tr>\n",
       "      <th>457625</th>\n",
       "      <td>57567822-ba4b-11ec-9dcd-892344612080</td>\n",
       "      <td>97</td>\n",
       "      <td>pri</td>\n",
       "      <td>Krystel</td>\n",
       "      <td>Jarrell Beahan</td>\n",
       "      <td>Mr.</td>\n",
       "      <td>8</td>\n",
       "      <td>UK.OBIE.Secundary</td>\n",
       "      <td>cassin.arianna@example.com</td>\n",
       "      <td>(108)316-413</td>\n",
       "      <td>[{'AddressType': 'New', 'AddressLine': '760 Ad...</td>\n",
       "    </tr>\n",
       "    <tr>\n",
       "      <th>767840</th>\n",
       "      <td>5756784a-ba4b-11ec-9dcd-892344612080</td>\n",
       "      <td>1909</td>\n",
       "      <td>pri</td>\n",
       "      <td>Jaida</td>\n",
       "      <td>Miss Martina Mann</td>\n",
       "      <td>Dr.</td>\n",
       "      <td>3</td>\n",
       "      <td>US.OBIE.Principal</td>\n",
       "      <td>rice.camren@example.net</td>\n",
       "      <td>+63(4)198512</td>\n",
       "      <td>[{'AddressType': 'New', 'AddressLine': '802 Ka...</td>\n",
       "    </tr>\n",
       "    <tr>\n",
       "      <th>969809</th>\n",
       "      <td>57567868-ba4b-11ec-9dcd-892344612080</td>\n",
       "      <td>8953</td>\n",
       "      <td>pri</td>\n",
       "      <td>Rodrick</td>\n",
       "      <td>Dr. Dejon Prosacco</td>\n",
       "      <td>Mr.</td>\n",
       "      <td>0</td>\n",
       "      <td>UK.OBIE.Secundary</td>\n",
       "      <td>ramiro70@example.com</td>\n",
       "      <td>1-581-062-67</td>\n",
       "      <td>[{'AddressType': 'Lake', 'AddressLine': '6849 ...</td>\n",
       "    </tr>\n",
       "  </tbody>\n",
       "</table>\n",
       "<p>2500000 rows × 11 columns</p>\n",
       "</div>"
      ],
      "text/plain": [
       "                                      PartyId  PartyNumber PartyType     Name  \\\n",
       "296844   5259f1f0-ba4b-11ec-9dcd-892344612080         7162       sol   Sharon   \n",
       "694839   5259f362-ba4b-11ec-9dcd-892344612080         1671       pri   Manley   \n",
       "1277301  5259f3b2-ba4b-11ec-9dcd-892344612080         3602       sol     Roel   \n",
       "625853   5259f3da-ba4b-11ec-9dcd-892344612080          290       sol     Anna   \n",
       "360619   5259f402-ba4b-11ec-9dcd-892344612080         2710       pri   Sigrid   \n",
       "...                                       ...          ...       ...      ...   \n",
       "1010309  575677e6-ba4b-11ec-9dcd-892344612080         7956       sol   Monica   \n",
       "443128   57567804-ba4b-11ec-9dcd-892344612080         4641       pri  Horacio   \n",
       "457625   57567822-ba4b-11ec-9dcd-892344612080           97       pri  Krystel   \n",
       "767840   5756784a-ba4b-11ec-9dcd-892344612080         1909       pri    Jaida   \n",
       "969809   57567868-ba4b-11ec-9dcd-892344612080         8953       pri  Rodrick   \n",
       "\n",
       "                  FullLegalName LegalStructure  BeneficialOwnership  \\\n",
       "296844               Conor Metz           Miss                    1   \n",
       "694839           Julius Dibbert            Dr.                    5   \n",
       "1277301     Remington Considine          Prof.                    5   \n",
       "625853                Jed Weber          Prof.                    6   \n",
       "360619              Claire Haag            Dr.                    9   \n",
       "...                         ...            ...                  ...   \n",
       "1010309  Dr. Marina Gerhold DVM            Ms.                    3   \n",
       "443128           Sienna Schmidt            Dr.                    1   \n",
       "457625           Jarrell Beahan            Mr.                    8   \n",
       "767840        Miss Martina Mann            Dr.                    3   \n",
       "969809       Dr. Dejon Prosacco            Mr.                    0   \n",
       "\n",
       "               AccountRole                EmailAddress         Phone  \\\n",
       "296844   UK.OBIE.Secundary          alba26@example.com  1-094-428-63   \n",
       "694839   US.OBIE.Principal           amohr@example.org  382.682.3551   \n",
       "1277301  DE.OBIE.Principal          trey77@example.org  1-634-355-73   \n",
       "625853   DE.OBIE.Principal          alba04@example.net  (139)290-134   \n",
       "360619   DE.OBIE.Principal   lucas.nicolas@example.org  885-688-8917   \n",
       "...                    ...                         ...           ...   \n",
       "1010309  UK.OBIE.Secundary        hunter34@example.net  1-616-535-00   \n",
       "443128   US.OBIE.Principal     koss.torrey@example.org  1-412-679-65   \n",
       "457625   UK.OBIE.Secundary  cassin.arianna@example.com  (108)316-413   \n",
       "767840   US.OBIE.Principal     rice.camren@example.net  +63(4)198512   \n",
       "969809   UK.OBIE.Secundary        ramiro70@example.com  1-581-062-67   \n",
       "\n",
       "                                                   Address  \n",
       "296844   [{'AddressType': 'Port', 'AddressLine': '6564 ...  \n",
       "694839   [{'AddressType': 'West', 'AddressLine': '51238...  \n",
       "1277301  [{'AddressType': 'Lake', 'AddressLine': '76173...  \n",
       "625853   [{'AddressType': 'West', 'AddressLine': '51238...  \n",
       "360619   [{'AddressType': 'Nort', 'AddressLine': '60642...  \n",
       "...                                                    ...  \n",
       "1010309  [{'AddressType': 'West', 'AddressLine': '88932...  \n",
       "443128   [{'AddressType': 'Lake', 'AddressLine': '507 H...  \n",
       "457625   [{'AddressType': 'New', 'AddressLine': '760 Ad...  \n",
       "767840   [{'AddressType': 'New', 'AddressLine': '802 Ka...  \n",
       "969809   [{'AddressType': 'Lake', 'AddressLine': '6849 ...  \n",
       "\n",
       "[2500000 rows x 11 columns]"
      ]
     },
     "execution_count": 30,
     "metadata": {},
     "output_type": "execute_result"
    }
   ],
   "source": [
    "CustomerProfile_df.reindex()"
   ]
  },
  {
   "cell_type": "code",
   "execution_count": 31,
   "metadata": {},
   "outputs": [
    {
     "data": {
      "text/html": [
       "<div>\n",
       "<style scoped>\n",
       "    .dataframe tbody tr th:only-of-type {\n",
       "        vertical-align: middle;\n",
       "    }\n",
       "\n",
       "    .dataframe tbody tr th {\n",
       "        vertical-align: top;\n",
       "    }\n",
       "\n",
       "    .dataframe thead th {\n",
       "        text-align: right;\n",
       "    }\n",
       "</style>\n",
       "<table border=\"1\" class=\"dataframe\">\n",
       "  <thead>\n",
       "    <tr style=\"text-align: right;\">\n",
       "      <th></th>\n",
       "      <th>AccountId</th>\n",
       "      <th>PartyId</th>\n",
       "      <th>Status</th>\n",
       "      <th>StatusUpdateDateTime</th>\n",
       "      <th>AccountType</th>\n",
       "      <th>NickName</th>\n",
       "      <th>OpeningDate</th>\n",
       "      <th>AccountSubType</th>\n",
       "      <th>AccountInfo</th>\n",
       "    </tr>\n",
       "  </thead>\n",
       "  <tbody>\n",
       "    <tr>\n",
       "      <th>601371</th>\n",
       "      <td>7a162a88-ba4b-11ec-9dcd-892344612080</td>\n",
       "      <td>55ae3cb2-ba4b-11ec-9dcd-892344612080</td>\n",
       "      <td>Enabled</td>\n",
       "      <td>1976-02-23 23:37:06.00</td>\n",
       "      <td>Business</td>\n",
       "      <td>benchmark dynamic ROI</td>\n",
       "      <td>1997-01-19 15:27:02.00</td>\n",
       "      <td>SAI</td>\n",
       "      <td>[{'SchemeName': 'UK.business', 'Identification...</td>\n",
       "    </tr>\n",
       "  </tbody>\n",
       "</table>\n",
       "</div>"
      ],
      "text/plain": [
       "                                   AccountId  \\\n",
       "601371  7a162a88-ba4b-11ec-9dcd-892344612080   \n",
       "\n",
       "                                     PartyId   Status    StatusUpdateDateTime  \\\n",
       "601371  55ae3cb2-ba4b-11ec-9dcd-892344612080  Enabled  1976-02-23 23:37:06.00   \n",
       "\n",
       "       AccountType               NickName             OpeningDate  \\\n",
       "601371    Business  benchmark dynamic ROI  1997-01-19 15:27:02.00   \n",
       "\n",
       "       AccountSubType                                        AccountInfo  \n",
       "601371            SAI  [{'SchemeName': 'UK.business', 'Identification...  "
      ]
     },
     "execution_count": 31,
     "metadata": {},
     "output_type": "execute_result"
    }
   ],
   "source": [
    "CurrentAccount_df.set_index('AccountId')\n",
    "CurrentAccount_df.reindex()\n",
    "CurrentAccount_df['PartyId'] = CustomerProfile_df['PartyId'].values\n",
    "CurrentAccount_df.sample(1)\n"
   ]
  },
  {
   "cell_type": "code",
   "execution_count": 32,
   "metadata": {},
   "outputs": [],
   "source": [
    "#Volcado fichero JSON\n",
    "CurrentAccount_df.to_json(CurrentAccountCollection_sample_out,orient ='records') #Sample for testing\n",
    "\n",
    "#CurrentAccount_df.to_json(CurrentAccountCollection_file_out,orient ='records')"
   ]
  },
  {
   "cell_type": "markdown",
   "metadata": {},
   "source": [
    "# Generación colección PositionKeeping para MongoDB"
   ]
  },
  {
   "cell_type": "code",
   "execution_count": 33,
   "metadata": {},
   "outputs": [],
   "source": [
    "#Carga de datasets necesarias para la colección\n",
    "Amount_df = pd.read_csv('../MockData/Amount_1M.csv')\n",
    "CreditLine_df = pd.read_csv('../MockData/CreditLine_1M.csv')\n",
    "Currency_df = pd.read_csv('../MockData/base/Currency.csv')\n",
    "PositionKeeping_df = pd.read_csv('../MockData/Position_Keeping_1M.csv')"
   ]
  },
  {
   "cell_type": "code",
   "execution_count": 34,
   "metadata": {},
   "outputs": [
    {
     "name": "stdout",
     "output_type": "stream",
     "text": [
      "Index(['AmountId', 'CurrencyId', 'Amount'], dtype='object')\n",
      "Index(['ShortName', 'Description', 'Code'], dtype='object')\n",
      "Index(['CreditLineId', 'CurrencyId', 'Amount', 'Type', 'Included'], dtype='object')\n",
      "Index(['CurrencyId', 'Code', 'Description', 'Unnamed: 3'], dtype='object')\n",
      "Index(['AccountId', 'DateTime', 'CreditDebitIndicator', 'Type', 'AmountId',\n",
      "       'CreditLineId'],\n",
      "      dtype='object')\n"
     ]
    }
   ],
   "source": [
    "#Verificación de columnas\n",
    "print(Amount_df.columns)\n",
    "print(Country_df.columns)\n",
    "print(CreditLine_df.columns)\n",
    "print(Currency_df.columns)\n",
    "print(PositionKeeping_df.columns)"
   ]
  },
  {
   "cell_type": "code",
   "execution_count": 35,
   "metadata": {},
   "outputs": [],
   "source": [
    "#Limpieza de columnas residuales y no necesarias en el documento\n",
    "del(Amount_df['CurrencyId'])\n",
    "del(Amount_df['AmountId'])\n",
    "\n",
    "del(CreditLine_df['CreditLineId'])\n",
    "del(CreditLine_df['CurrencyId'])\n",
    "\n",
    "del(Currency_df['CurrencyId'])\n",
    "\n",
    "del(PositionKeeping_df['CreditLineId'])\n",
    "del(PositionKeeping_df['AmountId'])\n",
    "del(PositionKeeping_df['AccountId'])"
   ]
  },
  {
   "cell_type": "code",
   "execution_count": 36,
   "metadata": {},
   "outputs": [],
   "source": [
    "#Creamos samples. Testing (comentar en generación real)\n",
    "Amount_df = Amount_df.sample(10000)\n",
    "CreditLine_df = CreditLine_df.sample(10000)\n",
    "PositionKeeping_df = PositionKeeping_df.sample(10000)"
   ]
  },
  {
   "cell_type": "code",
   "execution_count": 37,
   "metadata": {},
   "outputs": [
    {
     "data": {
      "text/html": [
       "<div>\n",
       "<style scoped>\n",
       "    .dataframe tbody tr th:only-of-type {\n",
       "        vertical-align: middle;\n",
       "    }\n",
       "\n",
       "    .dataframe tbody tr th {\n",
       "        vertical-align: top;\n",
       "    }\n",
       "\n",
       "    .dataframe thead th {\n",
       "        text-align: right;\n",
       "    }\n",
       "</style>\n",
       "<table border=\"1\" class=\"dataframe\">\n",
       "  <thead>\n",
       "    <tr style=\"text-align: right;\">\n",
       "      <th></th>\n",
       "      <th>DateTime</th>\n",
       "      <th>CreditDebitIndicator</th>\n",
       "      <th>Type</th>\n",
       "    </tr>\n",
       "  </thead>\n",
       "  <tbody>\n",
       "    <tr>\n",
       "      <th>291864</th>\n",
       "      <td>2003-10-08 07:28:12.00</td>\n",
       "      <td>Credit</td>\n",
       "      <td>Business</td>\n",
       "    </tr>\n",
       "    <tr>\n",
       "      <th>759399</th>\n",
       "      <td>1995-06-03 22:09:59.00</td>\n",
       "      <td>Credit</td>\n",
       "      <td>Particular</td>\n",
       "    </tr>\n",
       "    <tr>\n",
       "      <th>773171</th>\n",
       "      <td>1991-10-01 02:38:28.00</td>\n",
       "      <td>Debit</td>\n",
       "      <td>Business</td>\n",
       "    </tr>\n",
       "  </tbody>\n",
       "</table>\n",
       "</div>"
      ],
      "text/plain": [
       "                      DateTime CreditDebitIndicator        Type\n",
       "291864  2003-10-08 07:28:12.00               Credit    Business\n",
       "759399  1995-06-03 22:09:59.00               Credit  Particular\n",
       "773171  1991-10-01 02:38:28.00                Debit    Business"
      ]
     },
     "execution_count": 37,
     "metadata": {},
     "output_type": "execute_result"
    }
   ],
   "source": [
    "PositionKeeping_df.sample(3)"
   ]
  },
  {
   "cell_type": "code",
   "execution_count": 38,
   "metadata": {},
   "outputs": [
    {
     "data": {
      "text/plain": [
       "838580    80.99\n",
       "Name: Amount, dtype: float64"
      ]
     },
     "execution_count": 38,
     "metadata": {},
     "output_type": "execute_result"
    }
   ],
   "source": [
    "CreditLine_df.sample(1)['Amount']"
   ]
  },
  {
   "cell_type": "code",
   "execution_count": 39,
   "metadata": {},
   "outputs": [
    {
     "data": {
      "text/plain": [
       "0    IND\n",
       "1    GBP\n",
       "2    EUR\n",
       "3    USA\n",
       "Name: Code, dtype: object"
      ]
     },
     "execution_count": 39,
     "metadata": {},
     "output_type": "execute_result"
    }
   ],
   "source": [
    "Currency_df['Code']"
   ]
  },
  {
   "cell_type": "code",
   "execution_count": 40,
   "metadata": {},
   "outputs": [
    {
     "data": {
      "text/plain": [
       "42666587.27"
      ]
     },
     "execution_count": 40,
     "metadata": {},
     "output_type": "execute_result"
    }
   ],
   "source": [
    "round(random.uniform(-3000, 99999999),2)"
   ]
  },
  {
   "cell_type": "code",
   "execution_count": 41,
   "metadata": {},
   "outputs": [
    {
     "name": "stdout",
     "output_type": "stream",
     "text": [
      "                      DateTime CreditDebitIndicator      Type  \\\n",
      "184560  1994-08-31 08:02:29.00                Debit  Business   \n",
      "\n",
      "                                                   Amount  \\\n",
      "184560  {'Currency': {'Code': 'EUR', 'Description': 'D...   \n",
      "\n",
      "                                               CreditLine  \n",
      "184560  {'Included': 1, 'Type': 'Credit', 'Amount': {'...  \n"
     ]
    }
   ],
   "source": [
    "#Generamos la colección PositionKeeping\n",
    "\n",
    "AmountColumn = []\n",
    "CreditLineColumn = []\n",
    "\n",
    "for i in range (0,len(PositionKeeping_df)):    \n",
    "    currency_value = Currency_df.sample(1) \n",
    "    valueAmount = { 'Currency': {\n",
    "                        \"Code\": random.choice(Currency_df['Code']),\n",
    "                        \"Description\": random.choice(Currency_df['Description']),\n",
    "                },\n",
    "               'Amount' : round(random.uniform(-3000, 99999999),2)\n",
    "              }\n",
    "    AmountColumn.append(valueAmount)  \n",
    "    creditline_value = CreditLine_df.sample(1)\n",
    "    valueCreditLine = {\n",
    "    'Included' : random.choice([0,1]),                    \n",
    "    'Type': random.choice(['Credit', 'Debit']),\n",
    "    'Amount': { 'Currency': {\n",
    "                        \"Code\": random.choice(Currency_df['Code']),\n",
    "                        \"Description\": random.choice(Currency_df['Description']),\n",
    "                },\n",
    "               'Amount' : round(random.uniform(-3000, 99999999),2)\n",
    "              }\n",
    "    }\n",
    "    CreditLineColumn.append(valueCreditLine)\n",
    "\n",
    "\n",
    "PositionKeeping_df['Amount'] = AmountColumn\n",
    "PositionKeeping_df['CreditLine'] = CreditLineColumn\n",
    "print(PositionKeeping_df.sample(1))"
   ]
  },
  {
   "cell_type": "code",
   "execution_count": 42,
   "metadata": {},
   "outputs": [
    {
     "data": {
      "text/plain": [
       "10000"
      ]
     },
     "execution_count": 42,
     "metadata": {},
     "output_type": "execute_result"
    }
   ],
   "source": [
    "len(PositionKeeping_df)"
   ]
  },
  {
   "cell_type": "code",
   "execution_count": 43,
   "metadata": {},
   "outputs": [
    {
     "data": {
      "text/html": [
       "<div>\n",
       "<style scoped>\n",
       "    .dataframe tbody tr th:only-of-type {\n",
       "        vertical-align: middle;\n",
       "    }\n",
       "\n",
       "    .dataframe tbody tr th {\n",
       "        vertical-align: top;\n",
       "    }\n",
       "\n",
       "    .dataframe thead th {\n",
       "        text-align: right;\n",
       "    }\n",
       "</style>\n",
       "<table border=\"1\" class=\"dataframe\">\n",
       "  <thead>\n",
       "    <tr style=\"text-align: right;\">\n",
       "      <th></th>\n",
       "      <th>DateTime</th>\n",
       "      <th>CreditDebitIndicator</th>\n",
       "      <th>Type</th>\n",
       "      <th>Amount</th>\n",
       "      <th>CreditLine</th>\n",
       "    </tr>\n",
       "  </thead>\n",
       "  <tbody>\n",
       "    <tr>\n",
       "      <th>979751</th>\n",
       "      <td>1991-01-13 17:51:32.00</td>\n",
       "      <td>Debit</td>\n",
       "      <td>Business</td>\n",
       "      <td>{'Currency': {'Code': 'IND', 'Description': 'U...</td>\n",
       "      <td>{'Included': 0, 'Type': 'Debit', 'Amount': {'C...</td>\n",
       "    </tr>\n",
       "  </tbody>\n",
       "</table>\n",
       "</div>"
      ],
      "text/plain": [
       "                      DateTime CreditDebitIndicator      Type  \\\n",
       "979751  1991-01-13 17:51:32.00                Debit  Business   \n",
       "\n",
       "                                                   Amount  \\\n",
       "979751  {'Currency': {'Code': 'IND', 'Description': 'U...   \n",
       "\n",
       "                                               CreditLine  \n",
       "979751  {'Included': 0, 'Type': 'Debit', 'Amount': {'C...  "
      ]
     },
     "execution_count": 43,
     "metadata": {},
     "output_type": "execute_result"
    }
   ],
   "source": [
    "PositionKeeping_df.sample(1)"
   ]
  },
  {
   "cell_type": "code",
   "execution_count": 44,
   "metadata": {},
   "outputs": [
    {
     "data": {
      "text/plain": [
       "2500000"
      ]
     },
     "execution_count": 44,
     "metadata": {},
     "output_type": "execute_result"
    }
   ],
   "source": [
    "#Generamos 5M de registros basados en datos previos con PartyId unico\n",
    "for x in range(14): # Generamos registros\n",
    "    PositionKeeping_df = PositionKeeping_df.append(PositionKeeping_df.sample(frac=0.65,replace = True))\n",
    "\n",
    "#Volcamos 5M de registros para su uso posterior\n",
    "PositionKeeping_df = PositionKeeping_df.sample(2500000)\n",
    "len(PositionKeeping_df)"
   ]
  },
  {
   "cell_type": "code",
   "execution_count": 45,
   "metadata": {},
   "outputs": [
    {
     "data": {
      "text/html": [
       "<div>\n",
       "<style scoped>\n",
       "    .dataframe tbody tr th:only-of-type {\n",
       "        vertical-align: middle;\n",
       "    }\n",
       "\n",
       "    .dataframe tbody tr th {\n",
       "        vertical-align: top;\n",
       "    }\n",
       "\n",
       "    .dataframe thead th {\n",
       "        text-align: right;\n",
       "    }\n",
       "</style>\n",
       "<table border=\"1\" class=\"dataframe\">\n",
       "  <thead>\n",
       "    <tr style=\"text-align: right;\">\n",
       "      <th></th>\n",
       "      <th>DateTime</th>\n",
       "      <th>CreditDebitIndicator</th>\n",
       "      <th>Type</th>\n",
       "      <th>Amount</th>\n",
       "      <th>CreditLine</th>\n",
       "    </tr>\n",
       "  </thead>\n",
       "  <tbody>\n",
       "    <tr>\n",
       "      <th>88062</th>\n",
       "      <td>2016-06-14 16:08:22.00</td>\n",
       "      <td>Debit</td>\n",
       "      <td>Particular</td>\n",
       "      <td>{'Currency': {'Code': 'USA', 'Description': 'U...</td>\n",
       "      <td>{'Included': 1, 'Type': 'Debit', 'Amount': {'C...</td>\n",
       "    </tr>\n",
       "  </tbody>\n",
       "</table>\n",
       "</div>"
      ],
      "text/plain": [
       "                     DateTime CreditDebitIndicator        Type  \\\n",
       "88062  2016-06-14 16:08:22.00                Debit  Particular   \n",
       "\n",
       "                                                  Amount  \\\n",
       "88062  {'Currency': {'Code': 'USA', 'Description': 'U...   \n",
       "\n",
       "                                              CreditLine  \n",
       "88062  {'Included': 1, 'Type': 'Debit', 'Amount': {'C...  "
      ]
     },
     "execution_count": 45,
     "metadata": {},
     "output_type": "execute_result"
    }
   ],
   "source": [
    "PositionKeeping_df.sample(1)"
   ]
  },
  {
   "cell_type": "code",
   "execution_count": 46,
   "metadata": {},
   "outputs": [
    {
     "data": {
      "text/html": [
       "<div>\n",
       "<style scoped>\n",
       "    .dataframe tbody tr th:only-of-type {\n",
       "        vertical-align: middle;\n",
       "    }\n",
       "\n",
       "    .dataframe tbody tr th {\n",
       "        vertical-align: top;\n",
       "    }\n",
       "\n",
       "    .dataframe thead th {\n",
       "        text-align: right;\n",
       "    }\n",
       "</style>\n",
       "<table border=\"1\" class=\"dataframe\">\n",
       "  <thead>\n",
       "    <tr style=\"text-align: right;\">\n",
       "      <th></th>\n",
       "      <th>DateTime</th>\n",
       "      <th>CreditDebitIndicator</th>\n",
       "      <th>Type</th>\n",
       "      <th>Amount</th>\n",
       "      <th>CreditLine</th>\n",
       "      <th>AccountId</th>\n",
       "    </tr>\n",
       "  </thead>\n",
       "  <tbody>\n",
       "    <tr>\n",
       "      <th>826211</th>\n",
       "      <td>1994-07-15 21:05:02.00</td>\n",
       "      <td>Credit</td>\n",
       "      <td>Particular</td>\n",
       "      <td>{'Currency': {'Code': 'EUR', 'Description': 'U...</td>\n",
       "      <td>{'Included': 1, 'Type': 'Credit', 'Amount': {'...</td>\n",
       "      <td>7b205aa2-ba4b-11ec-9dcd-892344612080</td>\n",
       "    </tr>\n",
       "  </tbody>\n",
       "</table>\n",
       "</div>"
      ],
      "text/plain": [
       "                      DateTime CreditDebitIndicator        Type  \\\n",
       "826211  1994-07-15 21:05:02.00               Credit  Particular   \n",
       "\n",
       "                                                   Amount  \\\n",
       "826211  {'Currency': {'Code': 'EUR', 'Description': 'U...   \n",
       "\n",
       "                                               CreditLine  \\\n",
       "826211  {'Included': 1, 'Type': 'Credit', 'Amount': {'...   \n",
       "\n",
       "                                   AccountId  \n",
       "826211  7b205aa2-ba4b-11ec-9dcd-892344612080  "
      ]
     },
     "execution_count": 46,
     "metadata": {},
     "output_type": "execute_result"
    }
   ],
   "source": [
    "PositionKeeping_df['AccountId'] = CurrentAccount_df['AccountId'].values\n",
    "PositionKeeping_df.set_index('AccountId')\n",
    "PositionKeeping_df.reindex()\n",
    "PositionKeeping_df.sample(1)"
   ]
  },
  {
   "cell_type": "code",
   "execution_count": null,
   "metadata": {},
   "outputs": [],
   "source": []
  },
  {
   "cell_type": "code",
   "execution_count": 47,
   "metadata": {},
   "outputs": [],
   "source": [
    "#Volcado fichero JSON\n",
    "PositionKeeping_df.to_json(PositionKeepingCollection_sample_out,orient ='records') #Final file\n",
    "#PositionKeeping_df.to_json(PositionKeepingCollection_file_out,orient ='records') #Final file\n"
   ]
  }
 ],
 "metadata": {
  "kernelspec": {
   "display_name": "Python 3",
   "language": "python",
   "name": "python3"
  },
  "language_info": {
   "codemirror_mode": {
    "name": "ipython",
    "version": 3
   },
   "file_extension": ".py",
   "mimetype": "text/x-python",
   "name": "python",
   "nbconvert_exporter": "python",
   "pygments_lexer": "ipython3",
   "version": "3.7.6"
  }
 },
 "nbformat": 4,
 "nbformat_minor": 4
}
