{
 "cells": [
  {
   "cell_type": "markdown",
   "metadata": {},
   "source": [
    "Script de generación de datos documentales TFM Daniel Herranz Segundo"
   ]
  },
  {
   "cell_type": "code",
   "execution_count": 130,
   "metadata": {},
   "outputs": [],
   "source": [
    "import pandas as pd\n",
    "import numpy as np\n",
    "import os\n",
    "import json\n",
    "import random\n",
    "import uuid"
   ]
  },
  {
   "cell_type": "code",
   "execution_count": 131,
   "metadata": {},
   "outputs": [],
   "source": [
    "#Variables de los ficheros de datos salida\n",
    "CurrentAccountCollection_file_out = '../MockData/MongoDB/CurrentAccountCollection/CurrentAccountCollection.json'\n",
    "PositionKeepingCollection_file_out = '../MockData/MongoDB/PositionKeepingCollection/PositionKeepingCollection.json'\n",
    "CustomerProfileCollection_file_out = '../MockData/MongoDB/CustomerProfileCollection/CustomerProfileCollection.json'\n",
    "\n",
    "CurrentAccountCollection_sample_out = '../MockData/MongoDB/CurrentAccountCollection/CurrentAccountCollection_sample.json'\n",
    "PositionKeepingCollection_sample_out = '../MockData/MongoDB/PositionKeepingCollection/PositionKeepingCollection_sample.json'\n",
    "CustomerProfileCollection_sample_out = '../MockData/MongoDB/CustomerProfileCollection/CustomerProfileCollection_sample.json'"
   ]
  },
  {
   "cell_type": "code",
   "execution_count": 132,
   "metadata": {},
   "outputs": [],
   "source": [
    "#Función para resetear ficheros de salida\n",
    "def reset_files(file):\n",
    "    if os.path.exists(file):\n",
    "        os.remove(file)\n",
    "        print(\"The file\", file ,\"have been removed\")\n",
    "    else:\n",
    "        print(\"The file\", file ,\"does not exist\")"
   ]
  },
  {
   "cell_type": "code",
   "execution_count": 133,
   "metadata": {},
   "outputs": [
    {
     "name": "stdout",
     "output_type": "stream",
     "text": [
      "The file ../MockData/MongoDB/CurrentAccountCollection/CurrentAccountCollection_sample.json have been removed\n",
      "The file ../MockData/MongoDB/PositionKeepingCollection/PositionKeepingCollection_sample.json have been removed\n",
      "The file ../MockData/MongoDB/CustomerProfileCollection/CustomerProfileCollection_sample.json have been removed\n"
     ]
    }
   ],
   "source": [
    "#Limpiamos los ficheros de salida\n",
    "#reset_files(CurrentAccountCollection_file_out)\n",
    "#reset_files(PositionKeepingCollection_file_out)\n",
    "#reset_files(CustomerProfileCollection_file_out)\n",
    "reset_files(CurrentAccountCollection_sample_out)\n",
    "reset_files(PositionKeepingCollection_sample_out)\n",
    "reset_files(CustomerProfileCollection_sample_out)"
   ]
  },
  {
   "cell_type": "markdown",
   "metadata": {},
   "source": [
    "# Generación coleccion CustomerProfile para MongoDB"
   ]
  },
  {
   "cell_type": "code",
   "execution_count": 134,
   "metadata": {},
   "outputs": [],
   "source": [
    "#Carga de la información de dataframes por entidades\n",
    "\n",
    "Address_df = pd.read_csv('../MockData/Address_1M.csv')\n",
    "CustomerProfile_df = pd.read_csv('../MockData/CustomerProfile_1M.csv')\n",
    "Country_df = pd.read_csv('../MockData/base/Country.csv')"
   ]
  },
  {
   "cell_type": "code",
   "execution_count": 135,
   "metadata": {},
   "outputs": [
    {
     "name": "stdout",
     "output_type": "stream",
     "text": [
      "Index(['PartyId', 'AddressType', 'AddressLine', 'StreetName', 'BuildingNumber',\n",
      "       'PostCode', 'TownName', 'CountrySubDivision', 'CountryId'],\n",
      "      dtype='object')\n",
      "Index(['PartyId', 'PartyNumber', 'PartyType', 'Name', 'FullLegalName',\n",
      "       'LegalStructure', 'BeneficialOwnership', 'AccountRole', 'EmailAddress',\n",
      "       'Phone'],\n",
      "      dtype='object')\n",
      "Index(['CountryId', 'ShortName', 'Description', 'Code', 'Unnamed: 4'], dtype='object')\n",
      "1090853\n",
      "1297441\n",
      "3\n"
     ]
    }
   ],
   "source": [
    "print(Address_df.columns)\n",
    "print(CustomerProfile_df.columns)\n",
    "print(Country_df.columns)\n",
    "print(len(Address_df))\n",
    "print(len(CustomerProfile_df))\n",
    "print(len(Country_df))"
   ]
  },
  {
   "cell_type": "code",
   "execution_count": 136,
   "metadata": {},
   "outputs": [],
   "source": [
    "#Indexado PartyId para mejor legibilidad\n",
    "del(Country_df['CountryId'])\n",
    "del(Country_df['Unnamed: 4'])\n",
    "\n",
    "del(Address_df['PartyId'])\n",
    "del(Address_df['CountryId'])"
   ]
  },
  {
   "cell_type": "code",
   "execution_count": 137,
   "metadata": {},
   "outputs": [
    {
     "data": {
      "text/html": [
       "<div>\n",
       "<style scoped>\n",
       "    .dataframe tbody tr th:only-of-type {\n",
       "        vertical-align: middle;\n",
       "    }\n",
       "\n",
       "    .dataframe tbody tr th {\n",
       "        vertical-align: top;\n",
       "    }\n",
       "\n",
       "    .dataframe thead th {\n",
       "        text-align: right;\n",
       "    }\n",
       "</style>\n",
       "<table border=\"1\" class=\"dataframe\">\n",
       "  <thead>\n",
       "    <tr style=\"text-align: right;\">\n",
       "      <th></th>\n",
       "      <th>ShortName</th>\n",
       "      <th>Description</th>\n",
       "      <th>Code</th>\n",
       "    </tr>\n",
       "  </thead>\n",
       "  <tbody>\n",
       "    <tr>\n",
       "      <th>0</th>\n",
       "      <td>Spain</td>\n",
       "      <td>Omnis dolore id dicta consequatur sit omnis. E...</td>\n",
       "      <td>IND</td>\n",
       "    </tr>\n",
       "  </tbody>\n",
       "</table>\n",
       "</div>"
      ],
      "text/plain": [
       "  ShortName                                        Description Code\n",
       "0     Spain  Omnis dolore id dicta consequatur sit omnis. E...  IND"
      ]
     },
     "execution_count": 137,
     "metadata": {},
     "output_type": "execute_result"
    }
   ],
   "source": [
    "CustomerProfile_df = CustomerProfile_df.sample(10000)\n",
    "Address_df = Address_df.sample(10000)\n",
    "Country_df.sample(1)"
   ]
  },
  {
   "cell_type": "code",
   "execution_count": 138,
   "metadata": {},
   "outputs": [],
   "source": [
    "#Agregamos una columna de pais a las direcciones\n",
    "CountryColumn = []\n",
    "\n",
    "for i in range (0,len(Address_df)): \n",
    "    #CountryArrayAsJSON = json.loads(Country_df.sample(1).to_json(orient ='records'))\n",
    "    country = {\n",
    "        'ShortName': Country_df.sample(1)['ShortName'].item(),\n",
    "        'Description': Country_df.sample(1)['Description'].item(),\n",
    "        'Code': Country_df.sample(1)['Code'].item()\n",
    "    }\n",
    "    #print(country)\n",
    "    CountryColumn.append(country)    \n",
    "\n",
    "Address_df['Country'] = CountryColumn"
   ]
  },
  {
   "cell_type": "code",
   "execution_count": 139,
   "metadata": {},
   "outputs": [
    {
     "data": {
      "text/html": [
       "<div>\n",
       "<style scoped>\n",
       "    .dataframe tbody tr th:only-of-type {\n",
       "        vertical-align: middle;\n",
       "    }\n",
       "\n",
       "    .dataframe tbody tr th {\n",
       "        vertical-align: top;\n",
       "    }\n",
       "\n",
       "    .dataframe thead th {\n",
       "        text-align: right;\n",
       "    }\n",
       "</style>\n",
       "<table border=\"1\" class=\"dataframe\">\n",
       "  <thead>\n",
       "    <tr style=\"text-align: right;\">\n",
       "      <th></th>\n",
       "      <th>AddressType</th>\n",
       "      <th>AddressLine</th>\n",
       "      <th>StreetName</th>\n",
       "      <th>BuildingNumber</th>\n",
       "      <th>PostCode</th>\n",
       "      <th>TownName</th>\n",
       "      <th>CountrySubDivision</th>\n",
       "      <th>Country</th>\n",
       "    </tr>\n",
       "  </thead>\n",
       "  <tbody>\n",
       "    <tr>\n",
       "      <th>307316</th>\n",
       "      <td>East</td>\n",
       "      <td>44255 Alexandrea Run Suite 654</td>\n",
       "      <td>Waylon Turnpike</td>\n",
       "      <td>43430</td>\n",
       "      <td>97785-6489</td>\n",
       "      <td>West Malikaburgh</td>\n",
       "      <td>3.0</td>\n",
       "      <td>{'ShortName': 'Greatbrit', 'Description': 'Aut...</td>\n",
       "    </tr>\n",
       "  </tbody>\n",
       "</table>\n",
       "</div>"
      ],
      "text/plain": [
       "       AddressType                     AddressLine       StreetName  \\\n",
       "307316        East  44255 Alexandrea Run Suite 654  Waylon Turnpike   \n",
       "\n",
       "        BuildingNumber    PostCode          TownName  CountrySubDivision  \\\n",
       "307316           43430  97785-6489  West Malikaburgh                 3.0   \n",
       "\n",
       "                                                  Country  \n",
       "307316  {'ShortName': 'Greatbrit', 'Description': 'Aut...  "
      ]
     },
     "execution_count": 139,
     "metadata": {},
     "output_type": "execute_result"
    }
   ],
   "source": [
    "Address_df.sample(1)"
   ]
  },
  {
   "cell_type": "code",
   "execution_count": 140,
   "metadata": {},
   "outputs": [],
   "source": [
    "#Agreación de direcciones (Address) a la colección Customer Profile\n",
    "#Tratamiento de las direcciones. Creamos de forma aleatoria entre 1 y 10 como agregado del CustomerProfile\n",
    "AddressColumn = []\n",
    "\n",
    "for i in range (0,len(CustomerProfile_df)): \n",
    "    AddressArrayAsJSON = json.loads(Address_df.sample(random.choice(range(1,3))).to_json(orient ='records'))\n",
    "    address = {\n",
    "        'AddressType': Address_df.sample(1)['AddressType'].item(),\n",
    "        'AddressLine': Address_df.sample(1)['AddressLine'].item(),\n",
    "        'StreetName': Address_df.sample(1)['StreetName'].item(),\n",
    "        'BuildingNumber': Address_df.sample(1)['BuildingNumber'].item(),\n",
    "        'PostCode': Address_df.sample(1)['PostCode'].item(),\n",
    "        'TownName': Address_df.sample(1)['TownName'].item(),\n",
    "        'CountrySubDivision': Address_df.sample(1)['CountrySubDivision'].item()        \n",
    "    }\n",
    "    AddressColumn.append(address)    \n",
    "    \n",
    "CustomerProfile_df['Address'] = AddressColumn"
   ]
  },
  {
   "cell_type": "code",
   "execution_count": 142,
   "metadata": {},
   "outputs": [
    {
     "data": {
      "text/plain": [
       "11086020"
      ]
     },
     "execution_count": 142,
     "metadata": {},
     "output_type": "execute_result"
    }
   ],
   "source": [
    "#Generamos 5M de registros basados en datos previos con PartyId unico\n",
    "for x in range(14): # Generamos registros\n",
    "    CustomerProfile_df = CustomerProfile_df.append(CustomerProfile_df.sample(frac=0.65,replace = True))\n",
    "\n",
    "len(CustomerProfile_df)"
   ]
  },
  {
   "cell_type": "code",
   "execution_count": 143,
   "metadata": {},
   "outputs": [
    {
     "data": {
      "text/plain": [
       "1000000"
      ]
     },
     "execution_count": 143,
     "metadata": {},
     "output_type": "execute_result"
    }
   ],
   "source": [
    "#Volcamos 5M de registros para su uso posterior\n",
    "CustomerProfile_df = CustomerProfile_df.sample(1000000)\n",
    "len(CustomerProfile_df)"
   ]
  },
  {
   "cell_type": "code",
   "execution_count": 144,
   "metadata": {},
   "outputs": [],
   "source": [
    "#Modificamos la clave unida PartyId con uuid\n",
    "CustomerProfile_df['PartyId'] = CustomerProfile_df['PartyId'].map(lambda x: str(uuid.uuid1()))"
   ]
  },
  {
   "cell_type": "code",
   "execution_count": 145,
   "metadata": {},
   "outputs": [
    {
     "data": {
      "text/html": [
       "<div>\n",
       "<style scoped>\n",
       "    .dataframe tbody tr th:only-of-type {\n",
       "        vertical-align: middle;\n",
       "    }\n",
       "\n",
       "    .dataframe tbody tr th {\n",
       "        vertical-align: top;\n",
       "    }\n",
       "\n",
       "    .dataframe thead th {\n",
       "        text-align: right;\n",
       "    }\n",
       "</style>\n",
       "<table border=\"1\" class=\"dataframe\">\n",
       "  <thead>\n",
       "    <tr style=\"text-align: right;\">\n",
       "      <th></th>\n",
       "      <th>PartyId</th>\n",
       "      <th>PartyNumber</th>\n",
       "      <th>PartyType</th>\n",
       "      <th>Name</th>\n",
       "      <th>FullLegalName</th>\n",
       "      <th>LegalStructure</th>\n",
       "      <th>BeneficialOwnership</th>\n",
       "      <th>AccountRole</th>\n",
       "      <th>EmailAddress</th>\n",
       "      <th>Phone</th>\n",
       "      <th>Address</th>\n",
       "    </tr>\n",
       "  </thead>\n",
       "  <tbody>\n",
       "    <tr>\n",
       "      <th>738832</th>\n",
       "      <td>f5b87e22-bb34-11ec-bad7-8faeae2e42b2</td>\n",
       "      <td>4284</td>\n",
       "      <td>sol</td>\n",
       "      <td>Claire</td>\n",
       "      <td>Keagan Thiel</td>\n",
       "      <td>Ms.</td>\n",
       "      <td>7</td>\n",
       "      <td>US.OBIE.Principal</td>\n",
       "      <td>scarlett61@example.org</td>\n",
       "      <td>210.264.3092</td>\n",
       "      <td>{'AddressType': 'Lake', 'AddressLine': '5074 E...</td>\n",
       "    </tr>\n",
       "  </tbody>\n",
       "</table>\n",
       "</div>"
      ],
      "text/plain": [
       "                                     PartyId  PartyNumber PartyType    Name  \\\n",
       "738832  f5b87e22-bb34-11ec-bad7-8faeae2e42b2         4284       sol  Claire   \n",
       "\n",
       "       FullLegalName LegalStructure  BeneficialOwnership        AccountRole  \\\n",
       "738832  Keagan Thiel            Ms.                    7  US.OBIE.Principal   \n",
       "\n",
       "                  EmailAddress         Phone  \\\n",
       "738832  scarlett61@example.org  210.264.3092   \n",
       "\n",
       "                                                  Address  \n",
       "738832  {'AddressType': 'Lake', 'AddressLine': '5074 E...  "
      ]
     },
     "execution_count": 145,
     "metadata": {},
     "output_type": "execute_result"
    }
   ],
   "source": [
    "CustomerProfile_df.sample(1)"
   ]
  },
  {
   "cell_type": "code",
   "execution_count": 146,
   "metadata": {},
   "outputs": [
    {
     "name": "stdout",
     "output_type": "stream",
     "text": [
      "Guardado fichero en ../MockData/MongoDB/CustomerProfileCollection/CustomerProfileCollection_sample.json\n"
     ]
    }
   ],
   "source": [
    "#Volcado fichero JSON\n",
    "#CustomerProfile_df.to_json(CustomerProfileCollection_file_out,orient ='records') #Final file\n",
    "#print(\"Guardado fichero en\", CustomerProfileCollection_file_out)\n",
    "\n",
    "#Volcado fichero JSON reducido para pruebas (Sample)\n",
    "CustomerProfile_df.to_json(CustomerProfileCollection_sample_out,orient ='records') #Sample for testing\n",
    "print(\"Guardado fichero en\", CustomerProfileCollection_sample_out)"
   ]
  },
  {
   "cell_type": "markdown",
   "metadata": {},
   "source": [
    "# Generación colección CurrentAccount para MongoDB"
   ]
  },
  {
   "cell_type": "code",
   "execution_count": 147,
   "metadata": {},
   "outputs": [],
   "source": [
    "#Carga de datasets necesarias para la colección\n",
    "AccountInfo_df = pd.read_csv('../MockData/AccountInfo_1M.csv')\n",
    "CurrentAccount_df = pd.read_csv('../MockData/CurrentAccount_1M.csv')"
   ]
  },
  {
   "cell_type": "code",
   "execution_count": 148,
   "metadata": {},
   "outputs": [
    {
     "data": {
      "text/plain": [
       "Index(['AccountInfoId', 'AccountId', 'SchemeName', 'Identification', 'Name'], dtype='object')"
      ]
     },
     "execution_count": 148,
     "metadata": {},
     "output_type": "execute_result"
    }
   ],
   "source": [
    "AccountInfo_df.columns"
   ]
  },
  {
   "cell_type": "code",
   "execution_count": 149,
   "metadata": {},
   "outputs": [],
   "source": [
    "#Limpieza de columnas residuales y no necesarias en el documento\n",
    "del(AccountInfo_df['AccountInfoId'])\n",
    "del(AccountInfo_df['AccountId'])"
   ]
  },
  {
   "cell_type": "code",
   "execution_count": 150,
   "metadata": {},
   "outputs": [
    {
     "data": {
      "text/html": [
       "<div>\n",
       "<style scoped>\n",
       "    .dataframe tbody tr th:only-of-type {\n",
       "        vertical-align: middle;\n",
       "    }\n",
       "\n",
       "    .dataframe tbody tr th {\n",
       "        vertical-align: top;\n",
       "    }\n",
       "\n",
       "    .dataframe thead th {\n",
       "        text-align: right;\n",
       "    }\n",
       "</style>\n",
       "<table border=\"1\" class=\"dataframe\">\n",
       "  <thead>\n",
       "    <tr style=\"text-align: right;\">\n",
       "      <th></th>\n",
       "      <th>AccountId</th>\n",
       "      <th>PartyId</th>\n",
       "      <th>Status</th>\n",
       "      <th>StatusUpdateDateTime</th>\n",
       "      <th>AccountType</th>\n",
       "      <th>NickName</th>\n",
       "      <th>OpeningDate</th>\n",
       "      <th>AccountSubType</th>\n",
       "    </tr>\n",
       "  </thead>\n",
       "  <tbody>\n",
       "    <tr>\n",
       "      <th>331626</th>\n",
       "      <td>3692</td>\n",
       "      <td>3571</td>\n",
       "      <td>Disabled</td>\n",
       "      <td>2016-08-31 02:33:32.00</td>\n",
       "      <td>Business</td>\n",
       "      <td>extend extensible relationships</td>\n",
       "      <td>2008-04-29 20:17:26.00</td>\n",
       "      <td>EDP</td>\n",
       "    </tr>\n",
       "  </tbody>\n",
       "</table>\n",
       "</div>"
      ],
      "text/plain": [
       "        AccountId  PartyId    Status    StatusUpdateDateTime AccountType  \\\n",
       "331626       3692     3571  Disabled  2016-08-31 02:33:32.00    Business   \n",
       "\n",
       "                               NickName             OpeningDate AccountSubType  \n",
       "331626  extend extensible relationships  2008-04-29 20:17:26.00            EDP  "
      ]
     },
     "execution_count": 150,
     "metadata": {},
     "output_type": "execute_result"
    }
   ],
   "source": [
    "CurrentAccount_df.sample(1)"
   ]
  },
  {
   "cell_type": "code",
   "execution_count": 151,
   "metadata": {},
   "outputs": [
    {
     "data": {
      "text/html": [
       "<div>\n",
       "<style scoped>\n",
       "    .dataframe tbody tr th:only-of-type {\n",
       "        vertical-align: middle;\n",
       "    }\n",
       "\n",
       "    .dataframe tbody tr th {\n",
       "        vertical-align: top;\n",
       "    }\n",
       "\n",
       "    .dataframe thead th {\n",
       "        text-align: right;\n",
       "    }\n",
       "</style>\n",
       "<table border=\"1\" class=\"dataframe\">\n",
       "  <thead>\n",
       "    <tr style=\"text-align: right;\">\n",
       "      <th></th>\n",
       "      <th>SchemeName</th>\n",
       "      <th>Identification</th>\n",
       "      <th>Name</th>\n",
       "    </tr>\n",
       "  </thead>\n",
       "  <tbody>\n",
       "    <tr>\n",
       "      <th>124985</th>\n",
       "      <td>UK.business</td>\n",
       "      <td>1.0</td>\n",
       "      <td>Considine-Renner</td>\n",
       "    </tr>\n",
       "  </tbody>\n",
       "</table>\n",
       "</div>"
      ],
      "text/plain": [
       "         SchemeName  Identification              Name\n",
       "124985  UK.business             1.0  Considine-Renner"
      ]
     },
     "execution_count": 151,
     "metadata": {},
     "output_type": "execute_result"
    }
   ],
   "source": [
    "AccountInfo_df.sample(1)"
   ]
  },
  {
   "cell_type": "code",
   "execution_count": 152,
   "metadata": {},
   "outputs": [],
   "source": [
    "#Creamos un sample. Testing (comentar en generación real)\n",
    "CurrentAccount_df = CurrentAccount_df.sample(10000)\n",
    "CurrentAccount_df['AccountId'] = CurrentAccount_df['AccountId'].map(lambda x: str(uuid.uuid1()))\n",
    "AccountInfo_df = AccountInfo_df.sample(10000)"
   ]
  },
  {
   "cell_type": "code",
   "execution_count": 153,
   "metadata": {},
   "outputs": [
    {
     "data": {
      "text/html": [
       "<div>\n",
       "<style scoped>\n",
       "    .dataframe tbody tr th:only-of-type {\n",
       "        vertical-align: middle;\n",
       "    }\n",
       "\n",
       "    .dataframe tbody tr th {\n",
       "        vertical-align: top;\n",
       "    }\n",
       "\n",
       "    .dataframe thead th {\n",
       "        text-align: right;\n",
       "    }\n",
       "</style>\n",
       "<table border=\"1\" class=\"dataframe\">\n",
       "  <thead>\n",
       "    <tr style=\"text-align: right;\">\n",
       "      <th></th>\n",
       "      <th>SchemeName</th>\n",
       "      <th>Identification</th>\n",
       "      <th>Name</th>\n",
       "    </tr>\n",
       "  </thead>\n",
       "  <tbody>\n",
       "    <tr>\n",
       "      <th>922959</th>\n",
       "      <td>NaN</td>\n",
       "      <td>5.0</td>\n",
       "      <td>Bernier, Crooks and Skiles</td>\n",
       "    </tr>\n",
       "  </tbody>\n",
       "</table>\n",
       "</div>"
      ],
      "text/plain": [
       "       SchemeName  Identification                        Name\n",
       "922959        NaN             5.0  Bernier, Crooks and Skiles"
      ]
     },
     "execution_count": 153,
     "metadata": {},
     "output_type": "execute_result"
    }
   ],
   "source": [
    "AccountInfo_df.sample(1)"
   ]
  },
  {
   "cell_type": "code",
   "execution_count": 154,
   "metadata": {},
   "outputs": [
    {
     "data": {
      "text/html": [
       "<div>\n",
       "<style scoped>\n",
       "    .dataframe tbody tr th:only-of-type {\n",
       "        vertical-align: middle;\n",
       "    }\n",
       "\n",
       "    .dataframe tbody tr th {\n",
       "        vertical-align: top;\n",
       "    }\n",
       "\n",
       "    .dataframe thead th {\n",
       "        text-align: right;\n",
       "    }\n",
       "</style>\n",
       "<table border=\"1\" class=\"dataframe\">\n",
       "  <thead>\n",
       "    <tr style=\"text-align: right;\">\n",
       "      <th></th>\n",
       "      <th>AccountId</th>\n",
       "      <th>PartyId</th>\n",
       "      <th>Status</th>\n",
       "      <th>StatusUpdateDateTime</th>\n",
       "      <th>AccountType</th>\n",
       "      <th>NickName</th>\n",
       "      <th>OpeningDate</th>\n",
       "      <th>AccountSubType</th>\n",
       "    </tr>\n",
       "  </thead>\n",
       "  <tbody>\n",
       "    <tr>\n",
       "      <th>259331</th>\n",
       "      <td>ffa031be-bb34-11ec-bad7-8faeae2e42b2</td>\n",
       "      <td>7998</td>\n",
       "      <td>Disabled</td>\n",
       "      <td>1996-03-26 06:12:20.00</td>\n",
       "      <td>Particular</td>\n",
       "      <td>embrace cross-media e-markets</td>\n",
       "      <td>1973-08-10 23:58:46.00</td>\n",
       "      <td>SAI</td>\n",
       "    </tr>\n",
       "  </tbody>\n",
       "</table>\n",
       "</div>"
      ],
      "text/plain": [
       "                                   AccountId  PartyId    Status  \\\n",
       "259331  ffa031be-bb34-11ec-bad7-8faeae2e42b2     7998  Disabled   \n",
       "\n",
       "          StatusUpdateDateTime AccountType                       NickName  \\\n",
       "259331  1996-03-26 06:12:20.00  Particular  embrace cross-media e-markets   \n",
       "\n",
       "                   OpeningDate AccountSubType  \n",
       "259331  1973-08-10 23:58:46.00            SAI  "
      ]
     },
     "execution_count": 154,
     "metadata": {},
     "output_type": "execute_result"
    }
   ],
   "source": [
    "CurrentAccount_df.sample(1)"
   ]
  },
  {
   "cell_type": "code",
   "execution_count": 165,
   "metadata": {},
   "outputs": [
    {
     "name": "stdout",
     "output_type": "stream",
     "text": [
      "Empty DataFrame\n",
      "Columns: [AccountId, PartyId, Status, StatusUpdateDateTime, AccountType, NickName, OpeningDate, AccountSubType]\n",
      "Index: []\n"
     ]
    }
   ],
   "source": [
    "#identify duplicate rows across 'team' and 'points' columns\n",
    "duplicateRows = CurrentAccount_df[CurrentAccount_df.duplicated(['AccountId'])]\n",
    "\n",
    "#view duplicate rows\n",
    "print(duplicateRows)"
   ]
  },
  {
   "cell_type": "code",
   "execution_count": 166,
   "metadata": {},
   "outputs": [],
   "source": [
    "#Generamos la colección agregando AccountInfo a las cuentas\n",
    "\n",
    "AccountInfoColumn = []\n",
    "CurrentAccountCollection = pd.DataFrame()\n",
    "\n",
    "len(CurrentAccount_df)\n",
    "\n",
    "for i in range (0,len(CurrentAccount_df)):\n",
    "    account_info_ls = []\n",
    "    for j in range(1,3):\n",
    "        accountInfo = {\n",
    "            'SchemeName' : AccountInfo_df.sample(1)['SchemeName'].item(),                    \n",
    "            'Identification': AccountInfo_df.sample(1)['Identification'].item(),   \n",
    "            'Name': AccountInfo_df.sample(1)['Name'].item()\n",
    "        }\n",
    "        account_info_ls.append(accountInfo)\n",
    "    AccountInfoColumn.append(account_info_ls)    \n",
    "    \n",
    "CurrentAccount_df['AccountInfo'] = AccountInfoColumn\n"
   ]
  },
  {
   "cell_type": "code",
   "execution_count": 167,
   "metadata": {},
   "outputs": [
    {
     "data": {
      "text/html": [
       "<div>\n",
       "<style scoped>\n",
       "    .dataframe tbody tr th:only-of-type {\n",
       "        vertical-align: middle;\n",
       "    }\n",
       "\n",
       "    .dataframe tbody tr th {\n",
       "        vertical-align: top;\n",
       "    }\n",
       "\n",
       "    .dataframe thead th {\n",
       "        text-align: right;\n",
       "    }\n",
       "</style>\n",
       "<table border=\"1\" class=\"dataframe\">\n",
       "  <thead>\n",
       "    <tr style=\"text-align: right;\">\n",
       "      <th></th>\n",
       "      <th>AccountId</th>\n",
       "      <th>PartyId</th>\n",
       "      <th>Status</th>\n",
       "      <th>StatusUpdateDateTime</th>\n",
       "      <th>AccountType</th>\n",
       "      <th>NickName</th>\n",
       "      <th>OpeningDate</th>\n",
       "      <th>AccountSubType</th>\n",
       "      <th>AccountInfo</th>\n",
       "    </tr>\n",
       "  </thead>\n",
       "  <tbody>\n",
       "    <tr>\n",
       "      <th>797320</th>\n",
       "      <td>ff9c3f1e-bb34-11ec-bad7-8faeae2e42b2</td>\n",
       "      <td>5757</td>\n",
       "      <td>Enabled</td>\n",
       "      <td>1992-02-26 06:09:16.00</td>\n",
       "      <td>Business</td>\n",
       "      <td>visualize back-end content</td>\n",
       "      <td>2019-02-10 21:13:52.00</td>\n",
       "      <td>POI</td>\n",
       "      <td>[{'SchemeName': 'UK.business', 'Identification...</td>\n",
       "    </tr>\n",
       "  </tbody>\n",
       "</table>\n",
       "</div>"
      ],
      "text/plain": [
       "                                   AccountId  PartyId   Status  \\\n",
       "797320  ff9c3f1e-bb34-11ec-bad7-8faeae2e42b2     5757  Enabled   \n",
       "\n",
       "          StatusUpdateDateTime AccountType                    NickName  \\\n",
       "797320  1992-02-26 06:09:16.00    Business  visualize back-end content   \n",
       "\n",
       "                   OpeningDate AccountSubType  \\\n",
       "797320  2019-02-10 21:13:52.00            POI   \n",
       "\n",
       "                                              AccountInfo  \n",
       "797320  [{'SchemeName': 'UK.business', 'Identification...  "
      ]
     },
     "execution_count": 167,
     "metadata": {},
     "output_type": "execute_result"
    }
   ],
   "source": [
    "CurrentAccount_df.sample(1)"
   ]
  },
  {
   "cell_type": "code",
   "execution_count": 169,
   "metadata": {},
   "outputs": [
    {
     "data": {
      "text/plain": [
       "11086020"
      ]
     },
     "execution_count": 169,
     "metadata": {},
     "output_type": "execute_result"
    }
   ],
   "source": [
    "#Generamos 5M de registros basados en datos previos con PartyId unico\n",
    "for x in range(14): # Generamos registros\n",
    "    CurrentAccount_df = CurrentAccount_df.append(CurrentAccount_df.sample(frac=0.65,replace = True))\n",
    "\n",
    "len(CurrentAccount_df)"
   ]
  },
  {
   "cell_type": "code",
   "execution_count": 171,
   "metadata": {},
   "outputs": [
    {
     "data": {
      "text/plain": [
       "1000000"
      ]
     },
     "execution_count": 171,
     "metadata": {},
     "output_type": "execute_result"
    }
   ],
   "source": [
    "#Volcamos 5M de registros para su uso posterior\n",
    "CurrentAccount_df = CurrentAccount_df.sample(1000000)\n",
    "CurrentAccount_df['AccountId'] = CurrentAccount_df['AccountId'].map(lambda x: str(uuid.uuid1()))\n",
    "len(CurrentAccount_df)"
   ]
  },
  {
   "cell_type": "code",
   "execution_count": null,
   "metadata": {},
   "outputs": [],
   "source": []
  },
  {
   "cell_type": "code",
   "execution_count": 172,
   "metadata": {},
   "outputs": [
    {
     "name": "stdout",
     "output_type": "stream",
     "text": [
      "False\n",
      "[False False False ...  True  True  True]\n",
      "False\n",
      "[False False False ...  True  True  True]\n"
     ]
    },
    {
     "data": {
      "text/plain": [
       "1000000"
      ]
     },
     "execution_count": 172,
     "metadata": {},
     "output_type": "execute_result"
    }
   ],
   "source": [
    "print(CurrentAccount_df.index.is_unique)\n",
    "print(CurrentAccount_df.index.duplicated())\n",
    "CurrentAccount_df.drop_duplicates(subset=['AccountId'], keep='last')\n",
    "CurrentAccount_df.reset_index()\n",
    "print(CurrentAccount_df.index.is_unique)\n",
    "print(CurrentAccount_df.index.duplicated())\n",
    "len(CurrentAccount_df)"
   ]
  },
  {
   "cell_type": "code",
   "execution_count": 173,
   "metadata": {},
   "outputs": [
    {
     "name": "stdout",
     "output_type": "stream",
     "text": [
      "False\n",
      "[False False False ...  True  True  True]\n",
      "False\n",
      "[False False False ...  True  True  True]\n"
     ]
    },
    {
     "data": {
      "text/plain": [
       "1000000"
      ]
     },
     "execution_count": 173,
     "metadata": {},
     "output_type": "execute_result"
    }
   ],
   "source": [
    "CustomerProfile_df\n",
    "print(CustomerProfile_df.index.is_unique)\n",
    "print(CustomerProfile_df.index.duplicated())\n",
    "CustomerProfile_df.drop_duplicates(subset=['PartyId'], keep='last')\n",
    "CustomerProfile_df.reset_index()\n",
    "print(CustomerProfile_df.index.is_unique)\n",
    "print(CustomerProfile_df.index.duplicated())\n",
    "len(CustomerProfile_df)"
   ]
  },
  {
   "cell_type": "code",
   "execution_count": 174,
   "metadata": {},
   "outputs": [
    {
     "data": {
      "text/html": [
       "<div>\n",
       "<style scoped>\n",
       "    .dataframe tbody tr th:only-of-type {\n",
       "        vertical-align: middle;\n",
       "    }\n",
       "\n",
       "    .dataframe tbody tr th {\n",
       "        vertical-align: top;\n",
       "    }\n",
       "\n",
       "    .dataframe thead th {\n",
       "        text-align: right;\n",
       "    }\n",
       "</style>\n",
       "<table border=\"1\" class=\"dataframe\">\n",
       "  <thead>\n",
       "    <tr style=\"text-align: right;\">\n",
       "      <th></th>\n",
       "      <th>AccountId</th>\n",
       "      <th>PartyId</th>\n",
       "      <th>Status</th>\n",
       "      <th>StatusUpdateDateTime</th>\n",
       "      <th>AccountType</th>\n",
       "      <th>NickName</th>\n",
       "      <th>OpeningDate</th>\n",
       "      <th>AccountSubType</th>\n",
       "      <th>AccountInfo</th>\n",
       "    </tr>\n",
       "  </thead>\n",
       "  <tbody>\n",
       "    <tr>\n",
       "      <th>1131818</th>\n",
       "      <td>a17108b0-bb35-11ec-bad7-8faeae2e42b2</td>\n",
       "      <td>271</td>\n",
       "      <td>Enabled</td>\n",
       "      <td>1984-12-31 21:19:13.00</td>\n",
       "      <td>Business</td>\n",
       "      <td>architect real-time metrics</td>\n",
       "      <td>1977-07-16 01:36:15.00</td>\n",
       "      <td>POI</td>\n",
       "      <td>[{'SchemeName': nan, 'Identification': 4.0, 'N...</td>\n",
       "    </tr>\n",
       "  </tbody>\n",
       "</table>\n",
       "</div>"
      ],
      "text/plain": [
       "                                    AccountId  PartyId   Status  \\\n",
       "1131818  a17108b0-bb35-11ec-bad7-8faeae2e42b2      271  Enabled   \n",
       "\n",
       "           StatusUpdateDateTime AccountType                     NickName  \\\n",
       "1131818  1984-12-31 21:19:13.00    Business  architect real-time metrics   \n",
       "\n",
       "                    OpeningDate AccountSubType  \\\n",
       "1131818  1977-07-16 01:36:15.00            POI   \n",
       "\n",
       "                                               AccountInfo  \n",
       "1131818  [{'SchemeName': nan, 'Identification': 4.0, 'N...  "
      ]
     },
     "execution_count": 174,
     "metadata": {},
     "output_type": "execute_result"
    }
   ],
   "source": [
    "CurrentAccount_df.sample(1)"
   ]
  },
  {
   "cell_type": "code",
   "execution_count": 175,
   "metadata": {},
   "outputs": [
    {
     "data": {
      "text/html": [
       "<div>\n",
       "<style scoped>\n",
       "    .dataframe tbody tr th:only-of-type {\n",
       "        vertical-align: middle;\n",
       "    }\n",
       "\n",
       "    .dataframe tbody tr th {\n",
       "        vertical-align: top;\n",
       "    }\n",
       "\n",
       "    .dataframe thead th {\n",
       "        text-align: right;\n",
       "    }\n",
       "</style>\n",
       "<table border=\"1\" class=\"dataframe\">\n",
       "  <thead>\n",
       "    <tr style=\"text-align: right;\">\n",
       "      <th></th>\n",
       "      <th>AccountId</th>\n",
       "      <th>PartyId</th>\n",
       "      <th>Status</th>\n",
       "      <th>StatusUpdateDateTime</th>\n",
       "      <th>AccountType</th>\n",
       "      <th>NickName</th>\n",
       "      <th>OpeningDate</th>\n",
       "      <th>AccountSubType</th>\n",
       "      <th>AccountInfo</th>\n",
       "    </tr>\n",
       "  </thead>\n",
       "  <tbody>\n",
       "    <tr>\n",
       "      <th>454540</th>\n",
       "      <td>a1eeb5b2-bb35-11ec-bad7-8faeae2e42b2</td>\n",
       "      <td>f6acf02e-bb34-11ec-bad7-8faeae2e42b2</td>\n",
       "      <td>Disabled</td>\n",
       "      <td>1976-08-15 18:51:53.00</td>\n",
       "      <td>Business</td>\n",
       "      <td>streamline back-end e-business</td>\n",
       "      <td>2017-01-08 12:58:49.00</td>\n",
       "      <td>POI</td>\n",
       "      <td>[{'SchemeName': nan, 'Identification': nan, 'N...</td>\n",
       "    </tr>\n",
       "  </tbody>\n",
       "</table>\n",
       "</div>"
      ],
      "text/plain": [
       "                                   AccountId  \\\n",
       "454540  a1eeb5b2-bb35-11ec-bad7-8faeae2e42b2   \n",
       "\n",
       "                                     PartyId    Status  \\\n",
       "454540  f6acf02e-bb34-11ec-bad7-8faeae2e42b2  Disabled   \n",
       "\n",
       "          StatusUpdateDateTime AccountType                        NickName  \\\n",
       "454540  1976-08-15 18:51:53.00    Business  streamline back-end e-business   \n",
       "\n",
       "                   OpeningDate AccountSubType  \\\n",
       "454540  2017-01-08 12:58:49.00            POI   \n",
       "\n",
       "                                              AccountInfo  \n",
       "454540  [{'SchemeName': nan, 'Identification': nan, 'N...  "
      ]
     },
     "execution_count": 175,
     "metadata": {},
     "output_type": "execute_result"
    }
   ],
   "source": [
    "CurrentAccount_df['PartyId'] = CustomerProfile_df['PartyId'].values\n",
    "CurrentAccount_df.sample(1)\n"
   ]
  },
  {
   "cell_type": "code",
   "execution_count": 176,
   "metadata": {},
   "outputs": [],
   "source": [
    "#Volcado fichero JSON\n",
    "CurrentAccount_df.to_json(CurrentAccountCollection_sample_out,orient ='records') #Sample for testing\n",
    "\n",
    "#CurrentAccount_df.to_json(CurrentAccountCollection_file_out,orient ='records')"
   ]
  },
  {
   "cell_type": "markdown",
   "metadata": {},
   "source": [
    "# Generación colección PositionKeeping para MongoDB"
   ]
  },
  {
   "cell_type": "code",
   "execution_count": 177,
   "metadata": {},
   "outputs": [],
   "source": [
    "#Carga de datasets necesarias para la colección\n",
    "Amount_df = pd.read_csv('../MockData/Amount_1M.csv')\n",
    "CreditLine_df = pd.read_csv('../MockData/CreditLine_1M.csv')\n",
    "Currency_df = pd.read_csv('../MockData/base/Currency.csv')\n",
    "PositionKeeping_df = pd.read_csv('../MockData/Position_Keeping_1M.csv')"
   ]
  },
  {
   "cell_type": "code",
   "execution_count": 178,
   "metadata": {},
   "outputs": [
    {
     "name": "stdout",
     "output_type": "stream",
     "text": [
      "Index(['AmountId', 'CurrencyId', 'Amount'], dtype='object')\n",
      "Index(['ShortName', 'Description', 'Code'], dtype='object')\n",
      "Index(['CreditLineId', 'CurrencyId', 'Amount', 'Type', 'Included'], dtype='object')\n",
      "Index(['CurrencyId', 'Code', 'Description', 'Unnamed: 3'], dtype='object')\n",
      "Index(['AccountId', 'DateTime', 'CreditDebitIndicator', 'Type', 'AmountId',\n",
      "       'CreditLineId'],\n",
      "      dtype='object')\n"
     ]
    }
   ],
   "source": [
    "#Verificación de columnas\n",
    "print(Amount_df.columns)\n",
    "print(Country_df.columns)\n",
    "print(CreditLine_df.columns)\n",
    "print(Currency_df.columns)\n",
    "print(PositionKeeping_df.columns)"
   ]
  },
  {
   "cell_type": "code",
   "execution_count": 179,
   "metadata": {},
   "outputs": [],
   "source": [
    "#Limpieza de columnas residuales y no necesarias en el documento\n",
    "del(Amount_df['CurrencyId'])\n",
    "del(Amount_df['AmountId'])\n",
    "\n",
    "del(CreditLine_df['CreditLineId'])\n",
    "del(CreditLine_df['CurrencyId'])\n",
    "\n",
    "del(Currency_df['CurrencyId'])\n",
    "\n",
    "del(PositionKeeping_df['CreditLineId'])\n",
    "del(PositionKeeping_df['AmountId'])\n",
    "del(PositionKeeping_df['AccountId'])"
   ]
  },
  {
   "cell_type": "code",
   "execution_count": 180,
   "metadata": {},
   "outputs": [],
   "source": [
    "#Creamos samples. Testing (comentar en generación real)\n",
    "Amount_df = Amount_df.sample(10000)\n",
    "CreditLine_df = CreditLine_df.sample(10000)\n",
    "PositionKeeping_df = PositionKeeping_df.sample(10000)"
   ]
  },
  {
   "cell_type": "code",
   "execution_count": 181,
   "metadata": {},
   "outputs": [
    {
     "data": {
      "text/html": [
       "<div>\n",
       "<style scoped>\n",
       "    .dataframe tbody tr th:only-of-type {\n",
       "        vertical-align: middle;\n",
       "    }\n",
       "\n",
       "    .dataframe tbody tr th {\n",
       "        vertical-align: top;\n",
       "    }\n",
       "\n",
       "    .dataframe thead th {\n",
       "        text-align: right;\n",
       "    }\n",
       "</style>\n",
       "<table border=\"1\" class=\"dataframe\">\n",
       "  <thead>\n",
       "    <tr style=\"text-align: right;\">\n",
       "      <th></th>\n",
       "      <th>DateTime</th>\n",
       "      <th>CreditDebitIndicator</th>\n",
       "      <th>Type</th>\n",
       "    </tr>\n",
       "  </thead>\n",
       "  <tbody>\n",
       "    <tr>\n",
       "      <th>385500</th>\n",
       "      <td>1985-12-03 18:53:30.00</td>\n",
       "      <td>Debit</td>\n",
       "      <td>Business</td>\n",
       "    </tr>\n",
       "    <tr>\n",
       "      <th>983262</th>\n",
       "      <td>1982-04-01 05:42:11.00</td>\n",
       "      <td>Debit</td>\n",
       "      <td>Business</td>\n",
       "    </tr>\n",
       "    <tr>\n",
       "      <th>405199</th>\n",
       "      <td>1973-05-16 21:38:09.00</td>\n",
       "      <td>Debit</td>\n",
       "      <td>Particular</td>\n",
       "    </tr>\n",
       "  </tbody>\n",
       "</table>\n",
       "</div>"
      ],
      "text/plain": [
       "                      DateTime CreditDebitIndicator        Type\n",
       "385500  1985-12-03 18:53:30.00                Debit    Business\n",
       "983262  1982-04-01 05:42:11.00                Debit    Business\n",
       "405199  1973-05-16 21:38:09.00                Debit  Particular"
      ]
     },
     "execution_count": 181,
     "metadata": {},
     "output_type": "execute_result"
    }
   ],
   "source": [
    "PositionKeeping_df.sample(3)"
   ]
  },
  {
   "cell_type": "code",
   "execution_count": 182,
   "metadata": {},
   "outputs": [
    {
     "data": {
      "text/plain": [
       "93202    2419582.734\n",
       "Name: Amount, dtype: float64"
      ]
     },
     "execution_count": 182,
     "metadata": {},
     "output_type": "execute_result"
    }
   ],
   "source": [
    "CreditLine_df.sample(1)['Amount']"
   ]
  },
  {
   "cell_type": "code",
   "execution_count": 183,
   "metadata": {},
   "outputs": [
    {
     "data": {
      "text/html": [
       "<div>\n",
       "<style scoped>\n",
       "    .dataframe tbody tr th:only-of-type {\n",
       "        vertical-align: middle;\n",
       "    }\n",
       "\n",
       "    .dataframe tbody tr th {\n",
       "        vertical-align: top;\n",
       "    }\n",
       "\n",
       "    .dataframe thead th {\n",
       "        text-align: right;\n",
       "    }\n",
       "</style>\n",
       "<table border=\"1\" class=\"dataframe\">\n",
       "  <thead>\n",
       "    <tr style=\"text-align: right;\">\n",
       "      <th></th>\n",
       "      <th>Code</th>\n",
       "      <th>Description</th>\n",
       "      <th>Unnamed: 3</th>\n",
       "    </tr>\n",
       "  </thead>\n",
       "  <tbody>\n",
       "    <tr>\n",
       "      <th>2</th>\n",
       "      <td>EUR</td>\n",
       "      <td>Dolores sint vero vero maiores nisi. Et quas i...</td>\n",
       "      <td>NaN</td>\n",
       "    </tr>\n",
       "  </tbody>\n",
       "</table>\n",
       "</div>"
      ],
      "text/plain": [
       "  Code                                        Description  Unnamed: 3\n",
       "2  EUR  Dolores sint vero vero maiores nisi. Et quas i...         NaN"
      ]
     },
     "execution_count": 183,
     "metadata": {},
     "output_type": "execute_result"
    }
   ],
   "source": [
    "Currency_df.sample(1)"
   ]
  },
  {
   "cell_type": "code",
   "execution_count": 184,
   "metadata": {},
   "outputs": [],
   "source": [
    "#Generamos la colección PositionKeeping\n",
    "\n",
    "AmountColumn = []\n",
    "CreditLineColumn = []\n",
    "\n",
    "for i in range (0,len(PositionKeeping_df)):    \n",
    "    valueAmount = { 'Currency': {\n",
    "                        'Code': Currency_df.sample(1)['Code'].item(),\n",
    "                        'Description': Currency_df.sample(1)['Description'].item(),\n",
    "                },\n",
    "               'Amount' : round(random.uniform(-3000, 99999999),2)\n",
    "              }\n",
    "    AmountColumn.append(valueAmount)  \n",
    "\n",
    "    valueCreditLine = {\n",
    "        'Included' : CreditLine_df.sample(1)['Included'].item(),                    \n",
    "        'Type': CreditLine_df.sample(1)['Type'].item(),\n",
    "        'Amount': { 'Currency': {\n",
    "                        \"Code\": Currency_df.sample(1)['Code'].item(),\n",
    "                        \"Description\": Currency_df.sample(1)['Description'].item(),\n",
    "                },\n",
    "               'Amount' : round(random.uniform(-3000, 99999999),2)\n",
    "              }\n",
    "    }\n",
    "    CreditLineColumn.append(valueCreditLine)\n",
    "\n",
    "\n",
    "PositionKeeping_df['Amount'] = AmountColumn\n",
    "PositionKeeping_df['CreditLine'] = CreditLineColumn"
   ]
  },
  {
   "cell_type": "code",
   "execution_count": 185,
   "metadata": {},
   "outputs": [
    {
     "data": {
      "text/plain": [
       "10000"
      ]
     },
     "execution_count": 185,
     "metadata": {},
     "output_type": "execute_result"
    }
   ],
   "source": [
    "len(PositionKeeping_df)"
   ]
  },
  {
   "cell_type": "code",
   "execution_count": 186,
   "metadata": {},
   "outputs": [
    {
     "data": {
      "text/html": [
       "<div>\n",
       "<style scoped>\n",
       "    .dataframe tbody tr th:only-of-type {\n",
       "        vertical-align: middle;\n",
       "    }\n",
       "\n",
       "    .dataframe tbody tr th {\n",
       "        vertical-align: top;\n",
       "    }\n",
       "\n",
       "    .dataframe thead th {\n",
       "        text-align: right;\n",
       "    }\n",
       "</style>\n",
       "<table border=\"1\" class=\"dataframe\">\n",
       "  <thead>\n",
       "    <tr style=\"text-align: right;\">\n",
       "      <th></th>\n",
       "      <th>DateTime</th>\n",
       "      <th>CreditDebitIndicator</th>\n",
       "      <th>Type</th>\n",
       "      <th>Amount</th>\n",
       "      <th>CreditLine</th>\n",
       "    </tr>\n",
       "  </thead>\n",
       "  <tbody>\n",
       "    <tr>\n",
       "      <th>872810</th>\n",
       "      <td>2019-02-17 05:41:22.00</td>\n",
       "      <td>Debit</td>\n",
       "      <td>Particular</td>\n",
       "      <td>{'Currency': {'Code': 'USA', 'Description': 'U...</td>\n",
       "      <td>{'Included': 0, 'Type': nan, 'Amount': {'Curre...</td>\n",
       "    </tr>\n",
       "  </tbody>\n",
       "</table>\n",
       "</div>"
      ],
      "text/plain": [
       "                      DateTime CreditDebitIndicator        Type  \\\n",
       "872810  2019-02-17 05:41:22.00                Debit  Particular   \n",
       "\n",
       "                                                   Amount  \\\n",
       "872810  {'Currency': {'Code': 'USA', 'Description': 'U...   \n",
       "\n",
       "                                               CreditLine  \n",
       "872810  {'Included': 0, 'Type': nan, 'Amount': {'Curre...  "
      ]
     },
     "execution_count": 186,
     "metadata": {},
     "output_type": "execute_result"
    }
   ],
   "source": [
    "PositionKeeping_df.sample(1)"
   ]
  },
  {
   "cell_type": "code",
   "execution_count": 187,
   "metadata": {},
   "outputs": [
    {
     "data": {
      "text/plain": [
       "1000000"
      ]
     },
     "execution_count": 187,
     "metadata": {},
     "output_type": "execute_result"
    }
   ],
   "source": [
    "#Generamos 5M de registros basados en datos previos con PartyId unico\n",
    "for x in range(14): # Generamos registros\n",
    "    PositionKeeping_df = PositionKeeping_df.append(PositionKeeping_df.sample(frac=0.65,replace = True))\n",
    "\n",
    "#Volcamos 5M de registros para su uso posterior\n",
    "PositionKeeping_df = PositionKeeping_df.sample(1000000)\n",
    "len(PositionKeeping_df)"
   ]
  },
  {
   "cell_type": "code",
   "execution_count": 188,
   "metadata": {},
   "outputs": [
    {
     "data": {
      "text/html": [
       "<div>\n",
       "<style scoped>\n",
       "    .dataframe tbody tr th:only-of-type {\n",
       "        vertical-align: middle;\n",
       "    }\n",
       "\n",
       "    .dataframe tbody tr th {\n",
       "        vertical-align: top;\n",
       "    }\n",
       "\n",
       "    .dataframe thead th {\n",
       "        text-align: right;\n",
       "    }\n",
       "</style>\n",
       "<table border=\"1\" class=\"dataframe\">\n",
       "  <thead>\n",
       "    <tr style=\"text-align: right;\">\n",
       "      <th></th>\n",
       "      <th>DateTime</th>\n",
       "      <th>CreditDebitIndicator</th>\n",
       "      <th>Type</th>\n",
       "      <th>Amount</th>\n",
       "      <th>CreditLine</th>\n",
       "    </tr>\n",
       "  </thead>\n",
       "  <tbody>\n",
       "    <tr>\n",
       "      <th>256387</th>\n",
       "      <td>1978-03-01 11:51:46.00</td>\n",
       "      <td>Credit</td>\n",
       "      <td>Business</td>\n",
       "      <td>{'Currency': {'Code': 'EUR', 'Description': 'U...</td>\n",
       "      <td>{'Included': 0, 'Type': 'Business', 'Amount': ...</td>\n",
       "    </tr>\n",
       "  </tbody>\n",
       "</table>\n",
       "</div>"
      ],
      "text/plain": [
       "                      DateTime CreditDebitIndicator      Type  \\\n",
       "256387  1978-03-01 11:51:46.00               Credit  Business   \n",
       "\n",
       "                                                   Amount  \\\n",
       "256387  {'Currency': {'Code': 'EUR', 'Description': 'U...   \n",
       "\n",
       "                                               CreditLine  \n",
       "256387  {'Included': 0, 'Type': 'Business', 'Amount': ...  "
      ]
     },
     "execution_count": 188,
     "metadata": {},
     "output_type": "execute_result"
    }
   ],
   "source": [
    "PositionKeeping_df.sample(1)"
   ]
  },
  {
   "cell_type": "code",
   "execution_count": 189,
   "metadata": {},
   "outputs": [
    {
     "data": {
      "text/html": [
       "<div>\n",
       "<style scoped>\n",
       "    .dataframe tbody tr th:only-of-type {\n",
       "        vertical-align: middle;\n",
       "    }\n",
       "\n",
       "    .dataframe tbody tr th {\n",
       "        vertical-align: top;\n",
       "    }\n",
       "\n",
       "    .dataframe thead th {\n",
       "        text-align: right;\n",
       "    }\n",
       "</style>\n",
       "<table border=\"1\" class=\"dataframe\">\n",
       "  <thead>\n",
       "    <tr style=\"text-align: right;\">\n",
       "      <th></th>\n",
       "      <th>DateTime</th>\n",
       "      <th>CreditDebitIndicator</th>\n",
       "      <th>Type</th>\n",
       "      <th>Amount</th>\n",
       "      <th>CreditLine</th>\n",
       "      <th>AccountId</th>\n",
       "    </tr>\n",
       "  </thead>\n",
       "  <tbody>\n",
       "    <tr>\n",
       "      <th>181648</th>\n",
       "      <td>2007-10-25 09:51:20.00</td>\n",
       "      <td>Debit</td>\n",
       "      <td>Business</td>\n",
       "      <td>{'Currency': {'Code': 'EUR', 'Description': 'D...</td>\n",
       "      <td>{'Included': 0, 'Type': nan, 'Amount': {'Curre...</td>\n",
       "      <td>a1f8ccbe-bb35-11ec-bad7-8faeae2e42b2</td>\n",
       "    </tr>\n",
       "  </tbody>\n",
       "</table>\n",
       "</div>"
      ],
      "text/plain": [
       "                      DateTime CreditDebitIndicator      Type  \\\n",
       "181648  2007-10-25 09:51:20.00                Debit  Business   \n",
       "\n",
       "                                                   Amount  \\\n",
       "181648  {'Currency': {'Code': 'EUR', 'Description': 'D...   \n",
       "\n",
       "                                               CreditLine  \\\n",
       "181648  {'Included': 0, 'Type': nan, 'Amount': {'Curre...   \n",
       "\n",
       "                                   AccountId  \n",
       "181648  a1f8ccbe-bb35-11ec-bad7-8faeae2e42b2  "
      ]
     },
     "execution_count": 189,
     "metadata": {},
     "output_type": "execute_result"
    }
   ],
   "source": [
    "PositionKeeping_df['AccountId'] = CurrentAccount_df['AccountId'].values\n",
    "PositionKeeping_df.sample(1)"
   ]
  },
  {
   "cell_type": "code",
   "execution_count": null,
   "metadata": {},
   "outputs": [],
   "source": []
  },
  {
   "cell_type": "code",
   "execution_count": 190,
   "metadata": {},
   "outputs": [],
   "source": [
    "#Volcado fichero JSON\n",
    "PositionKeeping_df.to_json(PositionKeepingCollection_sample_out,orient ='records') #Final file\n",
    "#PositionKeeping_df.to_json(PositionKeepingCollection_file_out,orient ='records') #Final file\n"
   ]
  }
 ],
 "metadata": {
  "kernelspec": {
   "display_name": "Python 3",
   "language": "python",
   "name": "python3"
  },
  "language_info": {
   "codemirror_mode": {
    "name": "ipython",
    "version": 3
   },
   "file_extension": ".py",
   "mimetype": "text/x-python",
   "name": "python",
   "nbconvert_exporter": "python",
   "pygments_lexer": "ipython3",
   "version": "3.7.6"
  }
 },
 "nbformat": 4,
 "nbformat_minor": 4
}
