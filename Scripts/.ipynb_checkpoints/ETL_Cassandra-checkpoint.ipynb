{
 "cells": [
  {
   "cell_type": "raw",
   "metadata": {},
   "source": [
    "TFM Daniel Herranz Segundo\n",
    "Script de adaptacion de los dataset de entidades para carga en modelo columnar"
   ]
  },
  {
   "cell_type": "code",
   "execution_count": 69,
   "metadata": {},
   "outputs": [],
   "source": [
    "import pandas as pd\n",
    "import numpy as np\n",
    "import os\n",
    "import json\n",
    "import random"
   ]
  },
  {
   "cell_type": "code",
   "execution_count": 70,
   "metadata": {},
   "outputs": [],
   "source": [
    "#Variables de los ficheros de datos salida\n",
    "CurrentAccountKeyspace_file_out = '../MockData/Cassandra/CurrentAccountKeyspace/CurrentAccountKeyspace.csv'\n",
    "CurrentAccountKeyspaceAccountInfo_file_out = '../MockData/Cassandra/CurrentAccountKeyspace/CurrentAccountAccountInfoKeyspace.csv'\n",
    "PositionKeepingKeyspace_file_out = '../MockData/Cassandra/PositionKeepingKeyspace/PositionKeepingKeyspace.csv'\n",
    "CustomerProfileKeyspace_file_out = '../MockData/Cassandra/CustomerProfileKeyspace/CustomerProfileKeyspace.csv'\n",
    "CustomerProfileAddressKeyspace_file_out = '../MockData/Cassandra/CustomerProfileKeyspace/CustomerProfileAddressKeyspace.csv'\n",
    "\n",
    "CurrentAccountKeyspace_sample_out = '../MockData/Cassandra/CurrentAccountKeyspace/CurrentAccountKeyspace_sample.csv'\n",
    "CurrentAccountKeyspaceAccountInfo_sample_out = '../MockData/Cassandra/CurrentAccountKeyspace/CurrentAccountAccountInfoKeyspace_sample.csv'\n",
    "PositionKeepingKeyspace_sample_out = '../MockData/Cassandra/PositionKeepingKeyspace/PositionKeepingKeyspace_sample.csv'\n",
    "CustomerProfileKeyspaceCustomer_sample_out = '../MockData/Cassandra/CustomerProfileKeyspace/CustomerProfileKeyspace_sample.csv'\n",
    "CustomerProfileKeyspaceAddress_sample_out = '../MockData/Cassandra/CustomerProfileKeyspace/CustomerProfileAddressKeyspace_sample.csv'\n",
    "\n",
    "CurrentAccountKeyspace_100K_sample_out = '../MockData/Cassandra/CurrentAccountKeyspace/CurrentAccountKeyspace_100K_sample.csv'\n",
    "CurrentAccountKeyspaceAccountInfo_100K_sample_out = '../MockData/Cassandra/CurrentAccountKeyspace/CurrentAccountAccountInfoKeyspace_100K_100K_sample.csv'\n",
    "PositionKeepingKeyspace_100K_sample_out = '../MockData/Cassandra/PositionKeepingKeyspace/PositionKeepingKeyspace_100K_sample.csv'\n",
    "CustomerProfileKeyspaceCustomer_100K_sample_out = '../MockData/Cassandra/CustomerProfileKeyspace/CustomerProfileKeyspace_100K_sample.csv'\n",
    "CustomerProfileKeyspaceAddress_100K_sample_out = '../MockData/Cassandra/CustomerProfileKeyspace/CustomerProfileAddressKeyspace_100K_sample.csv'\n",
    "\n",
    "CurrentAccountKeyspace_500K_sample_out = '../MockData/Cassandra/CurrentAccountKeyspace/CurrentAccountKeyspace_500K_sample.csv'\n",
    "CurrentAccountKeyspaceAccountInfo_500K_sample_out = '../MockData/Cassandra/CurrentAccountKeyspace/CurrentAccountAccountInfoKeyspace_500K_sample.csv'\n",
    "PositionKeepingKeyspace_500K_sample_out = '../MockData/Cassandra/PositionKeepingKeyspace/PositionKeepingKeyspace_500K_sample.csv'\n",
    "CustomerProfileKeyspaceCustomer_500K_sample_out = '../MockData/Cassandra/CustomerProfileKeyspace/CustomerProfileKeyspace_500K_sample.csv'\n",
    "CustomerProfileKeyspaceAddress_500K_sample_out = '../MockData/Cassandra/CustomerProfileKeyspace/CustomerProfileAddressKeyspace_500K_sample.csv'"
   ]
  },
  {
   "cell_type": "code",
   "execution_count": 71,
   "metadata": {},
   "outputs": [],
   "source": [
    "#Función para resetear ficheros de salida\n",
    "def reset_files(file):\n",
    "    if os.path.exists(file):\n",
    "        os.remove(file)\n",
    "        print(\"The file\", file ,\"have been removed\")\n",
    "    else:\n",
    "        print(\"The file\", file ,\"does not exist\")"
   ]
  },
  {
   "cell_type": "code",
   "execution_count": 72,
   "metadata": {},
   "outputs": [
    {
     "name": "stdout",
     "output_type": "stream",
     "text": [
      "The file ../MockData/Cassandra/CurrentAccountKeyspace/CurrentAccountKeyspace.csv does not exist\n",
      "The file ../MockData/Cassandra/CurrentAccountKeyspace/CurrentAccountAccountInfoKeyspace.csv does not exist\n",
      "The file ../MockData/Cassandra/PositionKeepingKeyspace/PositionKeepingKeyspace.csv does not exist\n",
      "The file ../MockData/Cassandra/CustomerProfileKeyspace/CustomerProfileKeyspace.csv does not exist\n",
      "The file ../MockData/Cassandra/CustomerProfileKeyspace/CustomerProfileAddressKeyspace.csv does not exist\n",
      "The file ../MockData/Cassandra/CurrentAccountKeyspace/CurrentAccountKeyspace_100K_sample.csv does not exist\n",
      "The file ../MockData/Cassandra/CurrentAccountKeyspace/CurrentAccountAccountInfoKeyspace_100K_100K_sample.csv does not exist\n",
      "The file ../MockData/Cassandra/PositionKeepingKeyspace/PositionKeepingKeyspace_100K_sample.csv does not exist\n",
      "The file ../MockData/Cassandra/CustomerProfileKeyspace/CustomerProfileKeyspace_100K_sample.csv does not exist\n",
      "The file ../MockData/Cassandra/CustomerProfileKeyspace/CustomerProfileAddressKeyspace_100K_sample.csv does not exist\n",
      "The file ../MockData/Cassandra/CurrentAccountKeyspace/CurrentAccountKeyspace_500K_sample.csv does not exist\n",
      "The file ../MockData/Cassandra/CurrentAccountKeyspace/CurrentAccountAccountInfoKeyspace_500K_sample.csv does not exist\n",
      "The file ../MockData/Cassandra/PositionKeepingKeyspace/PositionKeepingKeyspace_500K_sample.csv does not exist\n",
      "The file ../MockData/Cassandra/CustomerProfileKeyspace/CustomerProfileKeyspace_500K_sample.csv does not exist\n",
      "The file ../MockData/Cassandra/CustomerProfileKeyspace/CustomerProfileAddressKeyspace_500K_sample.csv does not exist\n",
      "The file ../MockData/Cassandra/CurrentAccountKeyspace/CurrentAccountKeyspace_sample.csv does not exist\n",
      "The file ../MockData/Cassandra/CurrentAccountKeyspace/CurrentAccountAccountInfoKeyspace_sample.csv does not exist\n",
      "The file ../MockData/Cassandra/PositionKeepingKeyspace/PositionKeepingKeyspace_sample.csv does not exist\n",
      "The file ../MockData/Cassandra/CustomerProfileKeyspace/CustomerProfileKeyspace_sample.csv have been removed\n",
      "The file ../MockData/Cassandra/CustomerProfileKeyspace/CustomerProfileAddressKeyspace_sample.csv have been removed\n"
     ]
    }
   ],
   "source": [
    "#Limpiamos los ficheros de salida\n",
    "reset_files(CurrentAccountKeyspace_file_out)\n",
    "reset_files(CurrentAccountKeyspaceAccountInfo_file_out)\n",
    "reset_files(PositionKeepingKeyspace_file_out)\n",
    "reset_files(CustomerProfileKeyspace_file_out)\n",
    "reset_files(CustomerProfileAddressKeyspace_file_out)\n",
    "\n",
    "reset_files(CurrentAccountKeyspace_100K_sample_out)\n",
    "reset_files(CurrentAccountKeyspaceAccountInfo_100K_sample_out)\n",
    "reset_files(PositionKeepingKeyspace_100K_sample_out)\n",
    "reset_files(CustomerProfileKeyspaceCustomer_100K_sample_out)\n",
    "reset_files(CustomerProfileKeyspaceAddress_100K_sample_out)\n",
    "\n",
    "reset_files(CurrentAccountKeyspace_500K_sample_out)\n",
    "reset_files(CurrentAccountKeyspaceAccountInfo_500K_sample_out)\n",
    "reset_files(PositionKeepingKeyspace_500K_sample_out)\n",
    "reset_files(CustomerProfileKeyspaceCustomer_500K_sample_out)\n",
    "reset_files(CustomerProfileKeyspaceAddress_500K_sample_out)\n",
    "\n",
    "reset_files(CurrentAccountKeyspace_sample_out)\n",
    "reset_files(CurrentAccountKeyspaceAccountInfo_sample_out)\n",
    "reset_files(PositionKeepingKeyspace_sample_out)\n",
    "reset_files(CustomerProfileKeyspaceCustomer_sample_out)\n",
    "reset_files(CustomerProfileKeyspaceAddress_sample_out)"
   ]
  },
  {
   "cell_type": "markdown",
   "metadata": {},
   "source": [
    "# Generacion ficheros keyspace CustomerProfile"
   ]
  },
  {
   "cell_type": "code",
   "execution_count": 73,
   "metadata": {},
   "outputs": [],
   "source": [
    "#Carga de la información de dataframes por entidades\n",
    "\n",
    "Address_df = pd.read_csv('../MockData/Address_1M.csv')\n",
    "CustomerProfile_df = pd.read_csv('../MockData/CustomerProfile_1M.csv')\n",
    "Country_df = pd.read_csv('../MockData/base/Country.csv')"
   ]
  },
  {
   "cell_type": "code",
   "execution_count": 74,
   "metadata": {},
   "outputs": [],
   "source": [
    "# --- NO EJECUTAR ESTA LINEA SI SE GENERA EN MODO REAL ---- #\n",
    "CustomerProfile_df = CustomerProfile_df.sample(1000) #Comentar si modo real\n",
    "Address_df = Address_df.sample(1000)"
   ]
  },
  {
   "cell_type": "code",
   "execution_count": 75,
   "metadata": {},
   "outputs": [
    {
     "data": {
      "text/html": [
       "<div>\n",
       "<style scoped>\n",
       "    .dataframe tbody tr th:only-of-type {\n",
       "        vertical-align: middle;\n",
       "    }\n",
       "\n",
       "    .dataframe tbody tr th {\n",
       "        vertical-align: top;\n",
       "    }\n",
       "\n",
       "    .dataframe thead th {\n",
       "        text-align: right;\n",
       "    }\n",
       "</style>\n",
       "<table border=\"1\" class=\"dataframe\">\n",
       "  <thead>\n",
       "    <tr style=\"text-align: right;\">\n",
       "      <th></th>\n",
       "      <th>PartyId</th>\n",
       "      <th>PartyNumber</th>\n",
       "      <th>PartyType</th>\n",
       "      <th>Name</th>\n",
       "      <th>FullLegalName</th>\n",
       "      <th>LegalStructure</th>\n",
       "      <th>BeneficialOwnership</th>\n",
       "      <th>AccountRole</th>\n",
       "      <th>EmailAddress</th>\n",
       "      <th>Phone</th>\n",
       "    </tr>\n",
       "  </thead>\n",
       "  <tbody>\n",
       "    <tr>\n",
       "      <th>155133</th>\n",
       "      <td>8208</td>\n",
       "      <td>8208</td>\n",
       "      <td>sol</td>\n",
       "      <td>Julie</td>\n",
       "      <td>Ottilie Weber MD</td>\n",
       "      <td>Miss</td>\n",
       "      <td>3</td>\n",
       "      <td>US.OBIE.Principal</td>\n",
       "      <td>savannah.schowalter@example.org</td>\n",
       "      <td>+57(0)591078</td>\n",
       "    </tr>\n",
       "  </tbody>\n",
       "</table>\n",
       "</div>"
      ],
      "text/plain": [
       "        PartyId  PartyNumber PartyType   Name     FullLegalName  \\\n",
       "155133     8208         8208       sol  Julie  Ottilie Weber MD   \n",
       "\n",
       "       LegalStructure  BeneficialOwnership        AccountRole  \\\n",
       "155133           Miss                    3  US.OBIE.Principal   \n",
       "\n",
       "                           EmailAddress         Phone  \n",
       "155133  savannah.schowalter@example.org  +57(0)591078  "
      ]
     },
     "execution_count": 75,
     "metadata": {},
     "output_type": "execute_result"
    }
   ],
   "source": [
    "CustomerProfile_df.sample(1)"
   ]
  },
  {
   "cell_type": "code",
   "execution_count": 76,
   "metadata": {},
   "outputs": [
    {
     "data": {
      "text/html": [
       "<div>\n",
       "<style scoped>\n",
       "    .dataframe tbody tr th:only-of-type {\n",
       "        vertical-align: middle;\n",
       "    }\n",
       "\n",
       "    .dataframe tbody tr th {\n",
       "        vertical-align: top;\n",
       "    }\n",
       "\n",
       "    .dataframe thead th {\n",
       "        text-align: right;\n",
       "    }\n",
       "</style>\n",
       "<table border=\"1\" class=\"dataframe\">\n",
       "  <thead>\n",
       "    <tr style=\"text-align: right;\">\n",
       "      <th></th>\n",
       "      <th>PartyId</th>\n",
       "      <th>AddressType</th>\n",
       "      <th>AddressLine</th>\n",
       "      <th>StreetName</th>\n",
       "      <th>BuildingNumber</th>\n",
       "      <th>PostCode</th>\n",
       "      <th>TownName</th>\n",
       "      <th>CountrySubDivision</th>\n",
       "      <th>CountryId</th>\n",
       "    </tr>\n",
       "  </thead>\n",
       "  <tbody>\n",
       "    <tr>\n",
       "      <th>706079</th>\n",
       "      <td>706079</td>\n",
       "      <td>East</td>\n",
       "      <td>493 Enola Mill</td>\n",
       "      <td>Lang Drive</td>\n",
       "      <td>51485</td>\n",
       "      <td>69894-1317</td>\n",
       "      <td>Stehrville</td>\n",
       "      <td>19352.0</td>\n",
       "      <td>2</td>\n",
       "    </tr>\n",
       "  </tbody>\n",
       "</table>\n",
       "</div>"
      ],
      "text/plain": [
       "        PartyId AddressType     AddressLine  StreetName  BuildingNumber  \\\n",
       "706079   706079        East  493 Enola Mill  Lang Drive           51485   \n",
       "\n",
       "          PostCode    TownName  CountrySubDivision  CountryId  \n",
       "706079  69894-1317  Stehrville             19352.0          2  "
      ]
     },
     "execution_count": 76,
     "metadata": {},
     "output_type": "execute_result"
    }
   ],
   "source": [
    "Address_df.sample(1)"
   ]
  },
  {
   "cell_type": "code",
   "execution_count": 77,
   "metadata": {},
   "outputs": [
    {
     "data": {
      "text/html": [
       "<div>\n",
       "<style scoped>\n",
       "    .dataframe tbody tr th:only-of-type {\n",
       "        vertical-align: middle;\n",
       "    }\n",
       "\n",
       "    .dataframe tbody tr th {\n",
       "        vertical-align: top;\n",
       "    }\n",
       "\n",
       "    .dataframe thead th {\n",
       "        text-align: right;\n",
       "    }\n",
       "</style>\n",
       "<table border=\"1\" class=\"dataframe\">\n",
       "  <thead>\n",
       "    <tr style=\"text-align: right;\">\n",
       "      <th></th>\n",
       "      <th>CountryId</th>\n",
       "      <th>ShortName</th>\n",
       "      <th>Description</th>\n",
       "      <th>Code</th>\n",
       "      <th>Unnamed: 4</th>\n",
       "    </tr>\n",
       "  </thead>\n",
       "  <tbody>\n",
       "    <tr>\n",
       "      <th>2</th>\n",
       "      <td>3</td>\n",
       "      <td>Greatbrit</td>\n",
       "      <td>Aut sapiente dicta illo consectetur nulla labo...</td>\n",
       "      <td>SPA</td>\n",
       "      <td>NaN</td>\n",
       "    </tr>\n",
       "  </tbody>\n",
       "</table>\n",
       "</div>"
      ],
      "text/plain": [
       "   CountryId  ShortName                                        Description  \\\n",
       "2          3  Greatbrit  Aut sapiente dicta illo consectetur nulla labo...   \n",
       "\n",
       "  Code  Unnamed: 4  \n",
       "2  SPA         NaN  "
      ]
     },
     "execution_count": 77,
     "metadata": {},
     "output_type": "execute_result"
    }
   ],
   "source": [
    "Country_df.sample(1)"
   ]
  },
  {
   "cell_type": "code",
   "execution_count": 78,
   "metadata": {},
   "outputs": [
    {
     "data": {
      "text/html": [
       "<div>\n",
       "<style scoped>\n",
       "    .dataframe tbody tr th:only-of-type {\n",
       "        vertical-align: middle;\n",
       "    }\n",
       "\n",
       "    .dataframe tbody tr th {\n",
       "        vertical-align: top;\n",
       "    }\n",
       "\n",
       "    .dataframe thead th {\n",
       "        text-align: right;\n",
       "    }\n",
       "</style>\n",
       "<table border=\"1\" class=\"dataframe\">\n",
       "  <thead>\n",
       "    <tr style=\"text-align: right;\">\n",
       "      <th></th>\n",
       "      <th>PartyId</th>\n",
       "      <th>AddressType</th>\n",
       "      <th>AddressLine</th>\n",
       "      <th>StreetName</th>\n",
       "      <th>BuildingNumber</th>\n",
       "      <th>PostCode</th>\n",
       "      <th>TownName</th>\n",
       "      <th>CountrySubDivision</th>\n",
       "      <th>CountryId</th>\n",
       "      <th>Country_Code</th>\n",
       "      <th>Country_ShortName</th>\n",
       "      <th>Country_Description</th>\n",
       "    </tr>\n",
       "  </thead>\n",
       "  <tbody>\n",
       "    <tr>\n",
       "      <th>88308</th>\n",
       "      <td>88308</td>\n",
       "      <td>East</td>\n",
       "      <td>07364 Hilpert Mall Suite 796</td>\n",
       "      <td>Botsford Landing</td>\n",
       "      <td>6196</td>\n",
       "      <td>40265-7412</td>\n",
       "      <td>Khalilton</td>\n",
       "      <td>8986481.0</td>\n",
       "      <td>3</td>\n",
       "      <td>SPA</td>\n",
       "      <td>Greatbrit</td>\n",
       "      <td>Aut sapiente dicta illo consectetur nulla labo...</td>\n",
       "    </tr>\n",
       "    <tr>\n",
       "      <th>238391</th>\n",
       "      <td>238391</td>\n",
       "      <td>New</td>\n",
       "      <td>680 Edison Greens</td>\n",
       "      <td>Ceasar Mews</td>\n",
       "      <td>503</td>\n",
       "      <td>41521</td>\n",
       "      <td>Kuhnburgh</td>\n",
       "      <td>215565.0</td>\n",
       "      <td>3</td>\n",
       "      <td>SPA</td>\n",
       "      <td>Greatbrit</td>\n",
       "      <td>Aut sapiente dicta illo consectetur nulla labo...</td>\n",
       "    </tr>\n",
       "  </tbody>\n",
       "</table>\n",
       "</div>"
      ],
      "text/plain": [
       "        PartyId AddressType                   AddressLine        StreetName  \\\n",
       "88308     88308        East  07364 Hilpert Mall Suite 796  Botsford Landing   \n",
       "238391   238391         New             680 Edison Greens       Ceasar Mews   \n",
       "\n",
       "        BuildingNumber    PostCode   TownName  CountrySubDivision  CountryId  \\\n",
       "88308             6196  40265-7412  Khalilton           8986481.0          3   \n",
       "238391             503       41521  Kuhnburgh            215565.0          3   \n",
       "\n",
       "       Country_Code Country_ShortName  \\\n",
       "88308           SPA         Greatbrit   \n",
       "238391          SPA         Greatbrit   \n",
       "\n",
       "                                      Country_Description  \n",
       "88308   Aut sapiente dicta illo consectetur nulla labo...  \n",
       "238391  Aut sapiente dicta illo consectetur nulla labo...  "
      ]
     },
     "execution_count": 78,
     "metadata": {},
     "output_type": "execute_result"
    }
   ],
   "source": [
    "#Desnormalizamos la información para la carga en Cassandra\n",
    "Country_Code_column = []\n",
    "Country_ShortName_column = []\n",
    "Country_Description_column = []\n",
    "\n",
    "for i in range (0,len(Address_df)): \n",
    "    country_deployed_df = Country_df.sample(1)\n",
    "    Country_Code_column.append(country_deployed_df['Code'].iloc[0])\n",
    "    Country_ShortName_column.append(country_deployed_df['ShortName'].iloc[0])\n",
    "    Country_Description_column.append(country_deployed_df['Description'].iloc[0])\n",
    "\n",
    "Address_df['Country_Code'] = Country_Code_column\n",
    "Address_df['Country_ShortName'] = Country_ShortName_column\n",
    "Address_df['Country_Description'] = Country_Description_column\n",
    "\n",
    "Address_df.sample(2)"
   ]
  },
  {
   "cell_type": "code",
   "execution_count": 102,
   "metadata": {},
   "outputs": [],
   "source": [
    "#Volcado de los ficheros relacionados con Customer Profile (la carga de direcciones se realizará en CQL)\n",
    "#Samples (COMENTAR EN MODO FINAL)\n",
    "CustomerProfile_df.to_csv(CustomerProfileKeyspaceCustomer_sample_out, index= False)\n",
    "Address_df.to_csv(CustomerProfileKeyspaceAddress_sample_out, index= False)\n",
    "\n",
    "#Modo final\n",
    "#CustomerProfile_df.to_csv(CustomerProfileKeyspace_file_out, index= False)\n",
    "#Address_df.to_csv(CustomerProfileAddressKeyspace_file_out, index= False)"
   ]
  },
  {
   "cell_type": "markdown",
   "metadata": {},
   "source": [
    "# Generacion de ficheros KeySpace CurrentAccount"
   ]
  },
  {
   "cell_type": "code",
   "execution_count": 80,
   "metadata": {},
   "outputs": [],
   "source": [
    "#Carga de la información de dataframes por entidades\n",
    "\n",
    "AccountInfo_df = pd.read_csv('../MockData/AccountInfo_1M.csv')\n",
    "CurrentAccount_df = pd.read_csv('../MockData/CurrentAccount_1M.csv')"
   ]
  },
  {
   "cell_type": "code",
   "execution_count": 81,
   "metadata": {},
   "outputs": [],
   "source": [
    "# --- NO EJECUTAR ESTA LINEA SI SE GENERA EN MODO REAL ---- #\n",
    "CurrentAccount_df = CurrentAccount_df.sample(1000)\n",
    "AccountInfo_df = AccountInfo_df.sample(250)"
   ]
  },
  {
   "cell_type": "code",
   "execution_count": 82,
   "metadata": {},
   "outputs": [
    {
     "data": {
      "text/html": [
       "<div>\n",
       "<style scoped>\n",
       "    .dataframe tbody tr th:only-of-type {\n",
       "        vertical-align: middle;\n",
       "    }\n",
       "\n",
       "    .dataframe tbody tr th {\n",
       "        vertical-align: top;\n",
       "    }\n",
       "\n",
       "    .dataframe thead th {\n",
       "        text-align: right;\n",
       "    }\n",
       "</style>\n",
       "<table border=\"1\" class=\"dataframe\">\n",
       "  <thead>\n",
       "    <tr style=\"text-align: right;\">\n",
       "      <th></th>\n",
       "      <th>AccountId</th>\n",
       "      <th>PartyId</th>\n",
       "      <th>Status</th>\n",
       "      <th>StatusUpdateDateTime</th>\n",
       "      <th>AccountType</th>\n",
       "      <th>NickName</th>\n",
       "      <th>OpeningDate</th>\n",
       "      <th>AccountSubType</th>\n",
       "    </tr>\n",
       "  </thead>\n",
       "  <tbody>\n",
       "    <tr>\n",
       "      <th>685541</th>\n",
       "      <td>1480</td>\n",
       "      <td>987</td>\n",
       "      <td>Disabled</td>\n",
       "      <td>2018-11-04 14:55:19.00</td>\n",
       "      <td>Business</td>\n",
       "      <td>syndicate distributed architectures</td>\n",
       "      <td>2020-04-09 07:23:57.00</td>\n",
       "      <td>EDP</td>\n",
       "    </tr>\n",
       "  </tbody>\n",
       "</table>\n",
       "</div>"
      ],
      "text/plain": [
       "        AccountId  PartyId    Status    StatusUpdateDateTime AccountType  \\\n",
       "685541       1480      987  Disabled  2018-11-04 14:55:19.00    Business   \n",
       "\n",
       "                                   NickName             OpeningDate  \\\n",
       "685541  syndicate distributed architectures  2020-04-09 07:23:57.00   \n",
       "\n",
       "       AccountSubType  \n",
       "685541            EDP  "
      ]
     },
     "execution_count": 82,
     "metadata": {},
     "output_type": "execute_result"
    }
   ],
   "source": [
    "CurrentAccount_df.sample(1)"
   ]
  },
  {
   "cell_type": "code",
   "execution_count": 83,
   "metadata": {},
   "outputs": [
    {
     "data": {
      "text/html": [
       "<div>\n",
       "<style scoped>\n",
       "    .dataframe tbody tr th:only-of-type {\n",
       "        vertical-align: middle;\n",
       "    }\n",
       "\n",
       "    .dataframe tbody tr th {\n",
       "        vertical-align: top;\n",
       "    }\n",
       "\n",
       "    .dataframe thead th {\n",
       "        text-align: right;\n",
       "    }\n",
       "</style>\n",
       "<table border=\"1\" class=\"dataframe\">\n",
       "  <thead>\n",
       "    <tr style=\"text-align: right;\">\n",
       "      <th></th>\n",
       "      <th>AccountInfoId</th>\n",
       "      <th>AccountId</th>\n",
       "      <th>SchemeName</th>\n",
       "      <th>Identification</th>\n",
       "      <th>Name</th>\n",
       "    </tr>\n",
       "  </thead>\n",
       "  <tbody>\n",
       "    <tr>\n",
       "      <th>1086352</th>\n",
       "      <td>8670</td>\n",
       "      <td>8671</td>\n",
       "      <td>NaN</td>\n",
       "      <td>NaN</td>\n",
       "      <td>Harris, Bruen and Steuber</td>\n",
       "    </tr>\n",
       "  </tbody>\n",
       "</table>\n",
       "</div>"
      ],
      "text/plain": [
       "         AccountInfoId  AccountId SchemeName  Identification  \\\n",
       "1086352           8670       8671        NaN             NaN   \n",
       "\n",
       "                              Name  \n",
       "1086352  Harris, Bruen and Steuber  "
      ]
     },
     "execution_count": 83,
     "metadata": {},
     "output_type": "execute_result"
    }
   ],
   "source": [
    "AccountInfo_df.sample(1)"
   ]
  },
  {
   "cell_type": "code",
   "execution_count": 84,
   "metadata": {},
   "outputs": [
    {
     "name": "stdout",
     "output_type": "stream",
     "text": [
      "Index(['AccountInfoId', 'AccountId', 'SchemeName', 'Identification', 'Name'], dtype='object')\n"
     ]
    }
   ],
   "source": [
    "#Limpieza de columnas no necesarias en el modelo columnar\n",
    "del(AccountInfo_df['AccountInfoId'])"
   ]
  },
  {
   "cell_type": "code",
   "execution_count": 86,
   "metadata": {},
   "outputs": [
    {
     "data": {
      "text/html": [
       "<div>\n",
       "<style scoped>\n",
       "    .dataframe tbody tr th:only-of-type {\n",
       "        vertical-align: middle;\n",
       "    }\n",
       "\n",
       "    .dataframe tbody tr th {\n",
       "        vertical-align: top;\n",
       "    }\n",
       "\n",
       "    .dataframe thead th {\n",
       "        text-align: right;\n",
       "    }\n",
       "</style>\n",
       "<table border=\"1\" class=\"dataframe\">\n",
       "  <thead>\n",
       "    <tr style=\"text-align: right;\">\n",
       "      <th></th>\n",
       "      <th>AccountId</th>\n",
       "      <th>PartyId</th>\n",
       "      <th>Status</th>\n",
       "      <th>StatusUpdateDateTime</th>\n",
       "      <th>AccountType</th>\n",
       "      <th>NickName</th>\n",
       "      <th>OpeningDate</th>\n",
       "      <th>AccountSubType</th>\n",
       "    </tr>\n",
       "  </thead>\n",
       "  <tbody>\n",
       "    <tr>\n",
       "      <th>359417</th>\n",
       "      <td>7963</td>\n",
       "      <td>6184</td>\n",
       "      <td>Enabled</td>\n",
       "      <td>2015-07-13 02:16:50.00</td>\n",
       "      <td>Particular</td>\n",
       "      <td>reintermediate distributed eyeballs</td>\n",
       "      <td>1980-03-24 18:48:21.00</td>\n",
       "      <td>POI</td>\n",
       "    </tr>\n",
       "  </tbody>\n",
       "</table>\n",
       "</div>"
      ],
      "text/plain": [
       "        AccountId  PartyId   Status    StatusUpdateDateTime AccountType  \\\n",
       "359417       7963     6184  Enabled  2015-07-13 02:16:50.00  Particular   \n",
       "\n",
       "                                   NickName             OpeningDate  \\\n",
       "359417  reintermediate distributed eyeballs  1980-03-24 18:48:21.00   \n",
       "\n",
       "       AccountSubType  \n",
       "359417            POI  "
      ]
     },
     "execution_count": 86,
     "metadata": {},
     "output_type": "execute_result"
    }
   ],
   "source": [
    "CurrentAccount_df.sample(1)"
   ]
  },
  {
   "cell_type": "code",
   "execution_count": 88,
   "metadata": {},
   "outputs": [
    {
     "data": {
      "text/html": [
       "<div>\n",
       "<style scoped>\n",
       "    .dataframe tbody tr th:only-of-type {\n",
       "        vertical-align: middle;\n",
       "    }\n",
       "\n",
       "    .dataframe tbody tr th {\n",
       "        vertical-align: top;\n",
       "    }\n",
       "\n",
       "    .dataframe thead th {\n",
       "        text-align: right;\n",
       "    }\n",
       "</style>\n",
       "<table border=\"1\" class=\"dataframe\">\n",
       "  <thead>\n",
       "    <tr style=\"text-align: right;\">\n",
       "      <th></th>\n",
       "      <th>AccountId</th>\n",
       "      <th>SchemeName</th>\n",
       "      <th>Identification</th>\n",
       "      <th>Name</th>\n",
       "    </tr>\n",
       "  </thead>\n",
       "  <tbody>\n",
       "    <tr>\n",
       "      <th>1155902</th>\n",
       "      <td>9986</td>\n",
       "      <td>ES.OBIE.SortCodeAccountNumber</td>\n",
       "      <td>1.0</td>\n",
       "      <td>Jerde-Predovic</td>\n",
       "    </tr>\n",
       "  </tbody>\n",
       "</table>\n",
       "</div>"
      ],
      "text/plain": [
       "         AccountId                     SchemeName  Identification  \\\n",
       "1155902       9986  ES.OBIE.SortCodeAccountNumber             1.0   \n",
       "\n",
       "                   Name  \n",
       "1155902  Jerde-Predovic  "
      ]
     },
     "execution_count": 88,
     "metadata": {},
     "output_type": "execute_result"
    }
   ],
   "source": [
    "AccountInfo_df.sample(1)"
   ]
  },
  {
   "cell_type": "code",
   "execution_count": 101,
   "metadata": {},
   "outputs": [],
   "source": [
    "#Volcado de los ficheros relacionados con Current Account (la carga de direcciones se realizará en CQL)\n",
    "#Samples (COMENTAR EN MODO FINAL)\n",
    "CurrentAccount_df.to_csv(CurrentAccountKeyspace_sample_out, index= False)\n",
    "AccountInfo_df.to_csv(CurrentAccountKeyspaceAccountInfo_sample_out, index= False)\n",
    "\n",
    "#Modo final\n",
    "#CurrentAccount_df.to_csv(CurrentAccountKeyspace_file_out, index= False)\n",
    "#AccountInfo_df.to_csv(CurrentAccountKeyspaceAccountInfo_file_out, index= False)"
   ]
  },
  {
   "cell_type": "markdown",
   "metadata": {},
   "source": [
    "# Generacion de ficheros KeySpace PositionKeeping\n"
   ]
  },
  {
   "cell_type": "code",
   "execution_count": 90,
   "metadata": {},
   "outputs": [],
   "source": [
    "#Carga de datasets necesarias para la colección\n",
    "Amount_df = pd.read_csv('../MockData/Amount_1M.csv')\n",
    "CreditLine_df = pd.read_csv('../MockData/CreditLine_1M.csv')\n",
    "Currency_df = pd.read_csv('../MockData/base/Currency.csv')\n",
    "PositionKeeping_df = pd.read_csv('../MockData/Position_Keeping_1M.csv')"
   ]
  },
  {
   "cell_type": "code",
   "execution_count": 91,
   "metadata": {},
   "outputs": [
    {
     "name": "stdout",
     "output_type": "stream",
     "text": [
      "Index(['AmountId', 'CurrencyId', 'Amount'], dtype='object')\n",
      "Index(['CreditLineId', 'CurrencyId', 'Amount', 'Type', 'Included'], dtype='object')\n",
      "Index(['CurrencyId', 'Code', 'Description', 'Unnamed: 3'], dtype='object')\n",
      "Index(['AccountId', 'DateTime', 'CreditDebitIndicator', 'Type', 'AmountId',\n",
      "       'CreditLineId'],\n",
      "      dtype='object')\n"
     ]
    }
   ],
   "source": [
    "print(Amount_df.columns)\n",
    "print(CreditLine_df.columns)\n",
    "print(Currency_df.columns)\n",
    "print(PositionKeeping_df.columns)"
   ]
  },
  {
   "cell_type": "code",
   "execution_count": 92,
   "metadata": {},
   "outputs": [],
   "source": [
    "#Limpieza de columnas residuales y no necesarias en el documento\n",
    "del(Amount_df['CurrencyId'])\n",
    "del(Amount_df['AmountId'])\n",
    "\n",
    "del(CreditLine_df['CreditLineId'])\n",
    "del(CreditLine_df['CurrencyId'])\n",
    "\n",
    "del(Currency_df['CurrencyId'])\n",
    "\n",
    "del(PositionKeeping_df['CreditLineId'])\n",
    "del(PositionKeeping_df['AmountId'])"
   ]
  },
  {
   "cell_type": "code",
   "execution_count": 95,
   "metadata": {},
   "outputs": [
    {
     "name": "stdout",
     "output_type": "stream",
     "text": [
      "Index(['Amount'], dtype='object')\n",
      "Index(['Amount', 'Type', 'Included'], dtype='object')\n",
      "Index(['Code', 'Description', 'Unnamed: 3'], dtype='object')\n",
      "Index(['AccountId', 'DateTime', 'CreditDebitIndicator', 'Type'], dtype='object')\n"
     ]
    }
   ],
   "source": [
    "#Estado final de atributos para modelo columnar\n",
    "print(Amount_df.columns)\n",
    "print(CreditLine_df.columns)\n",
    "print(Currency_df.columns)\n",
    "print(PositionKeeping_df.columns)"
   ]
  },
  {
   "cell_type": "code",
   "execution_count": 96,
   "metadata": {},
   "outputs": [],
   "source": [
    "#Creamos samples. Testing (comentar en generación real)\n",
    "Amount_df = Amount_df.sample(500)\n",
    "CreditLine_df = CreditLine_df.sample(500)\n",
    "PositionKeeping_df = PositionKeeping_df.sample(1000)"
   ]
  },
  {
   "cell_type": "code",
   "execution_count": 98,
   "metadata": {},
   "outputs": [
    {
     "data": {
      "text/html": [
       "<div>\n",
       "<style scoped>\n",
       "    .dataframe tbody tr th:only-of-type {\n",
       "        vertical-align: middle;\n",
       "    }\n",
       "\n",
       "    .dataframe tbody tr th {\n",
       "        vertical-align: top;\n",
       "    }\n",
       "\n",
       "    .dataframe thead th {\n",
       "        text-align: right;\n",
       "    }\n",
       "</style>\n",
       "<table border=\"1\" class=\"dataframe\">\n",
       "  <thead>\n",
       "    <tr style=\"text-align: right;\">\n",
       "      <th></th>\n",
       "      <th>AccountId</th>\n",
       "      <th>DateTime</th>\n",
       "      <th>CreditDebitIndicator</th>\n",
       "      <th>Type</th>\n",
       "      <th>Amount_Amount</th>\n",
       "      <th>Amount_Currency_Description</th>\n",
       "      <th>Amount_Currency_Code</th>\n",
       "      <th>CreditLine_Amount</th>\n",
       "      <th>CreditLine_Currency_Description</th>\n",
       "      <th>CreditLine_Currency_Code</th>\n",
       "      <th>CreditLine_Type</th>\n",
       "      <th>CreditLine_Included</th>\n",
       "    </tr>\n",
       "  </thead>\n",
       "  <tbody>\n",
       "    <tr>\n",
       "      <th>236377</th>\n",
       "      <td>9894</td>\n",
       "      <td>2018-08-11 17:20:08.00</td>\n",
       "      <td>Credit</td>\n",
       "      <td>Particular</td>\n",
       "      <td>0.000000e+00</td>\n",
       "      <td>Dolores sint vero vero maiores nisi. Et quas i...</td>\n",
       "      <td>GBP</td>\n",
       "      <td>2.024220e+05</td>\n",
       "      <td>Dolores sint vero vero maiores nisi. Et quas i...</td>\n",
       "      <td>GBP</td>\n",
       "      <td>NaN</td>\n",
       "      <td>0</td>\n",
       "    </tr>\n",
       "    <tr>\n",
       "      <th>517126</th>\n",
       "      <td>2149</td>\n",
       "      <td>1997-11-24 19:02:39.00</td>\n",
       "      <td>Credit</td>\n",
       "      <td>Particular</td>\n",
       "      <td>3.546135e+08</td>\n",
       "      <td>Ut necessitatibus in iure cum et sint. Minima ...</td>\n",
       "      <td>EUR</td>\n",
       "      <td>1.259408e+07</td>\n",
       "      <td>Ut necessitatibus in iure cum et sint. Minima ...</td>\n",
       "      <td>USA</td>\n",
       "      <td>NaN</td>\n",
       "      <td>0</td>\n",
       "    </tr>\n",
       "    <tr>\n",
       "      <th>141341</th>\n",
       "      <td>8153</td>\n",
       "      <td>1971-05-04 04:01:50.00</td>\n",
       "      <td>Credit</td>\n",
       "      <td>Business</td>\n",
       "      <td>2.086020e+02</td>\n",
       "      <td>Est quidem repellendus dolor qui. Eos temporib...</td>\n",
       "      <td>USA</td>\n",
       "      <td>6.865330e+08</td>\n",
       "      <td>Dolores sint vero vero maiores nisi. Et quas i...</td>\n",
       "      <td>IND</td>\n",
       "      <td>Particular</td>\n",
       "      <td>0</td>\n",
       "    </tr>\n",
       "  </tbody>\n",
       "</table>\n",
       "</div>"
      ],
      "text/plain": [
       "        AccountId                DateTime CreditDebitIndicator        Type  \\\n",
       "236377       9894  2018-08-11 17:20:08.00               Credit  Particular   \n",
       "517126       2149  1997-11-24 19:02:39.00               Credit  Particular   \n",
       "141341       8153  1971-05-04 04:01:50.00               Credit    Business   \n",
       "\n",
       "        Amount_Amount                        Amount_Currency_Description  \\\n",
       "236377   0.000000e+00  Dolores sint vero vero maiores nisi. Et quas i...   \n",
       "517126   3.546135e+08  Ut necessitatibus in iure cum et sint. Minima ...   \n",
       "141341   2.086020e+02  Est quidem repellendus dolor qui. Eos temporib...   \n",
       "\n",
       "       Amount_Currency_Code  CreditLine_Amount  \\\n",
       "236377                  GBP       2.024220e+05   \n",
       "517126                  EUR       1.259408e+07   \n",
       "141341                  USA       6.865330e+08   \n",
       "\n",
       "                          CreditLine_Currency_Description  \\\n",
       "236377  Dolores sint vero vero maiores nisi. Et quas i...   \n",
       "517126  Ut necessitatibus in iure cum et sint. Minima ...   \n",
       "141341  Dolores sint vero vero maiores nisi. Et quas i...   \n",
       "\n",
       "       CreditLine_Currency_Code CreditLine_Type  CreditLine_Included  \n",
       "236377                      GBP             NaN                    0  \n",
       "517126                      USA             NaN                    0  \n",
       "141341                      IND      Particular                    0  "
      ]
     },
     "execution_count": 98,
     "metadata": {},
     "output_type": "execute_result"
    }
   ],
   "source": [
    "#Procesado de datos PositionKeeping para desnormalizar las entidades en una sola columna compatible con el modelo columnar\n",
    "Amount_Amount_column = []\n",
    "Amount_Currency_Description_column = []\n",
    "Amount_Currency_Code_column = []\n",
    "CreditLine_Amount_column = []\n",
    "CreditLine_Currency_Description_column = []\n",
    "CreditLine_Currency_Code_column = []\n",
    "CreditLine_Type_column = []\n",
    "CreditLine_Included_column = []\n",
    "\n",
    "for i in range (0,len(PositionKeeping_df)):    \n",
    "    Amount_Amount_column.append(Amount_df.sample(1)['Amount'].iloc[0])\n",
    "    Amount_Currency_Description_column.append(Currency_df.sample(1)['Description'].iloc[0])\n",
    "    Amount_Currency_Code_column.append(Currency_df.sample(1)['Code'].iloc[0])\n",
    "    CreditLine_Amount_column.append(CreditLine_df.sample(1)['Amount'].iloc[0])\n",
    "    CreditLine_Currency_Description_column.append(Currency_df.sample(1)['Description'].iloc[0])\n",
    "    CreditLine_Currency_Code_column.append(Currency_df.sample(1)['Code'].iloc[0])\n",
    "    CreditLine_Type_column.append(CreditLine_df.sample(1)['Type'].iloc[0])\n",
    "    CreditLine_Included_column.append(CreditLine_df.sample(1)['Included'].iloc[0])\n",
    "\n",
    "PositionKeeping_df['Amount_Amount'] = Amount_Amount_column\n",
    "PositionKeeping_df['Amount_Currency_Description'] = Amount_Currency_Description_column\n",
    "PositionKeeping_df['Amount_Currency_Code'] = Amount_Currency_Code_column\n",
    "PositionKeeping_df['CreditLine_Amount']= CreditLine_Amount_column\n",
    "PositionKeeping_df['CreditLine_Currency_Description']= CreditLine_Currency_Description_column\n",
    "PositionKeeping_df['CreditLine_Currency_Code']= CreditLine_Currency_Code_column\n",
    "PositionKeeping_df['CreditLine_Type']= CreditLine_Type_column\n",
    "PositionKeeping_df['CreditLine_Included']= CreditLine_Included_column\n",
    "\n",
    "PositionKeeping_df.sample(3)"
   ]
  },
  {
   "cell_type": "code",
   "execution_count": 100,
   "metadata": {},
   "outputs": [],
   "source": [
    "#Volcado de los ficheros relacionados con Current Account (la carga de direcciones se realizará en CQL)\n",
    "#Samples (COMENTAR EN MODO FINAL)\n",
    "PositionKeeping_df.to_csv(PositionKeepingKeyspace_sample_out, index= False)\n",
    "#PositionKeeping_df.to_csv(PositionKeepingKeyspace_file_out, index= False)"
   ]
  }
 ],
 "metadata": {
  "kernelspec": {
   "display_name": "Python 3",
   "language": "python",
   "name": "python3"
  },
  "language_info": {
   "codemirror_mode": {
    "name": "ipython",
    "version": 3
   },
   "file_extension": ".py",
   "mimetype": "text/x-python",
   "name": "python",
   "nbconvert_exporter": "python",
   "pygments_lexer": "ipython3",
   "version": "3.8.3"
  }
 },
 "nbformat": 4,
 "nbformat_minor": 4
}
