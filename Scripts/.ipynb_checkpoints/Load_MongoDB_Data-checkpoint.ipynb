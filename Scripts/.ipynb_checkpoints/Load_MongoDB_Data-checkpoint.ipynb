{
 "cells": [
  {
   "cell_type": "markdown",
   "metadata": {},
   "source": [
    "Script de medición y carga de las colecciones en cluster MongoDB\n",
    "TFM Daniel Herranz Segundo"
   ]
  },
  {
   "cell_type": "code",
   "execution_count": 82,
   "metadata": {},
   "outputs": [],
   "source": [
    "import pandas as pd\n",
    "import numpy as np\n",
    "import os\n",
    "import json\n",
    "import random\n",
    "import pymongo\n",
    "from pymongo import MongoClient\n",
    "import time\n",
    "from pprint import pprint\n",
    "from pymongo import InsertOne, DeleteMany, ReplaceOne, UpdateOne"
   ]
  },
  {
   "cell_type": "code",
   "execution_count": 83,
   "metadata": {},
   "outputs": [],
   "source": [
    "#Variables de los ficheros de datos salida\n",
    "CurrentAccountCollection_file_out = '../MockData/MongoDB/CurrentAccountCollection/CurrentAccountCollection.json'\n",
    "PositionKeepingCollection_file_out = '../MockData/MongoDB/PositionKeepingCollection/PositionKeepingCollection.json'\n",
    "CustomerProfileCollection_file_out = '../MockData/MongoDB/CustomerProfileCollection/CustomerProfileCollection.json'\n",
    "\n",
    "CurrentAccountCollection_sample_out = '../MockData/MongoDB/CurrentAccountCollection/CurrentAccountCollection_sample.json'\n",
    "PositionKeepingCollection_sample_out = '../MockData/MongoDB/PositionKeepingCollection/PositionKeepingCollection_sample.json'\n",
    "CustomerProfileCollection_sample_out = '../MockData/MongoDB/CustomerProfileCollection/CustomerProfileCollection_sample.json'\n",
    "\n",
    "CurrentAccountCollection_sample_10K_out = '../MockData/MongoDB/CurrentAccountCollection/CurrentAccountCollection_10K_sample.json'\n",
    "PositionKeepingCollection_sample_10K_out = '../MockData/MongoDB/PositionKeepingCollection/PositionKeepingCollection_10K_sample.json'\n",
    "CustomerProfileCollection_sample_10K_out = '../MockData/MongoDB/CustomerProfileCollection/CustomerProfileCollection_10K_sample.json'\n",
    "\n",
    "CurrentAccountCollection_sample_100K_out = '../MockData/MongoDB/CurrentAccountCollection/CurrentAccountCollection_100K_sample.json'\n",
    "PositionKeepingCollection_sample_100K_out = '../MockData/MongoDB/PositionKeepingCollection/PositionKeepingCollection_100K_sample.json'\n",
    "CustomerProfileCollection_sample_100K_out = '../MockData/MongoDB/CustomerProfileCollection/CustomerProfileCollection_100K_sample.json'\n",
    "\n",
    "CurrentAccountCollection_sample_500K_out = '../MockData/MongoDB/CurrentAccountCollection/CurrentAccountCollection_500K_sample.json'\n",
    "PositionKeepingCollection_sample_500K_out = '../MockData/MongoDB/PositionKeepingCollection/PositionKeepingCollection_500K_sample.json'\n",
    "CustomerProfileCollection_sample_500K_out = '../MockData/MongoDB/CustomerProfileCollection/CustomerProfileCollection_500K_sample.json'"
   ]
  },
  {
   "cell_type": "code",
   "execution_count": 84,
   "metadata": {},
   "outputs": [],
   "source": [
    "#Los resultados de medidas de tiempo en carga por dominios se almacenan en estos objetos.\n",
    "#Se itera durante 100 iteraciones para sacar medias\n",
    "CustomerProfileDomainSchema_ds = []\n",
    "PositionKeepingDomainSchema_ds = []\n",
    "CurrentAccountDomainSchema_ds = []\n",
    "\n",
    "#repeticiones\n",
    "repeats = 100\n"
   ]
  },
  {
   "cell_type": "code",
   "execution_count": 85,
   "metadata": {},
   "outputs": [
    {
     "name": "stdout",
     "output_type": "stream",
     "text": [
      "['admin', 'config', 'local', 'tfm_mongo_database']\n"
     ]
    }
   ],
   "source": [
    "#Conexion unica a colecciones\n",
    "connection = MongoClient('localhost', 27017, w=3) #Conexion con WriteConcern a 3 (primario y dos nodos consolidados)\n",
    "print(connection.list_database_names())\n",
    "\n",
    "#Creamos una base de datos para el trabajo llamada TFM\n",
    "tfm_mongo_db = connection[\"tfm_mongo_database\"]"
   ]
  },
  {
   "cell_type": "markdown",
   "metadata": {},
   "source": [
    "## Creación de las colecciones por cada dominio"
   ]
  },
  {
   "cell_type": "code",
   "execution_count": 86,
   "metadata": {},
   "outputs": [],
   "source": [
    "CustomerProfileCollection = tfm_mongo_db[\"CustomerProfileCollection\"]"
   ]
  },
  {
   "cell_type": "markdown",
   "metadata": {},
   "source": [
    "## Carga de los documentos por cada dominio"
   ]
  },
  {
   "cell_type": "markdown",
   "metadata": {},
   "source": [
    "### Test de carga CustomerProfileCollection"
   ]
  },
  {
   "cell_type": "code",
   "execution_count": 87,
   "metadata": {},
   "outputs": [],
   "source": [
    "Address_ETL_times = []"
   ]
  },
  {
   "cell_type": "code",
   "execution_count": 88,
   "metadata": {},
   "outputs": [],
   "source": [
    "#Carga de la información de dataframes por entidades\n",
    "\n",
    "CustomerProfileCollection_df = pd.read_json(CustomerProfileCollection_sample_out) #Carga Sample\n",
    "#CustomerProfileCollection_df = pd.read_csv(CustomerProfileCollection_file_out) # Carga final"
   ]
  },
  {
   "cell_type": "code",
   "execution_count": 89,
   "metadata": {},
   "outputs": [
    {
     "data": {
      "text/html": [
       "<div>\n",
       "<style scoped>\n",
       "    .dataframe tbody tr th:only-of-type {\n",
       "        vertical-align: middle;\n",
       "    }\n",
       "\n",
       "    .dataframe tbody tr th {\n",
       "        vertical-align: top;\n",
       "    }\n",
       "\n",
       "    .dataframe thead th {\n",
       "        text-align: right;\n",
       "    }\n",
       "</style>\n",
       "<table border=\"1\" class=\"dataframe\">\n",
       "  <thead>\n",
       "    <tr style=\"text-align: right;\">\n",
       "      <th></th>\n",
       "      <th>PartyId</th>\n",
       "      <th>PartyNumber</th>\n",
       "      <th>PartyType</th>\n",
       "      <th>Name</th>\n",
       "      <th>FullLegalName</th>\n",
       "      <th>LegalStructure</th>\n",
       "      <th>BeneficialOwnership</th>\n",
       "      <th>AccountRole</th>\n",
       "      <th>EmailAddress</th>\n",
       "      <th>Phone</th>\n",
       "      <th>Address</th>\n",
       "    </tr>\n",
       "  </thead>\n",
       "  <tbody>\n",
       "    <tr>\n",
       "      <th>175</th>\n",
       "      <td>6351</td>\n",
       "      <td>6351</td>\n",
       "      <td>pri</td>\n",
       "      <td>Vernon</td>\n",
       "      <td>Keyon Bernhard</td>\n",
       "      <td>Miss</td>\n",
       "      <td>1</td>\n",
       "      <td>UK.OBIE.Principal</td>\n",
       "      <td>lmckenzie@example.org</td>\n",
       "      <td>200-329-1979</td>\n",
       "      <td>[{'AddressType': 'New', 'AddressLine': '1681 C...</td>\n",
       "    </tr>\n",
       "  </tbody>\n",
       "</table>\n",
       "</div>"
      ],
      "text/plain": [
       "     PartyId  PartyNumber PartyType    Name   FullLegalName LegalStructure  \\\n",
       "175     6351         6351       pri  Vernon  Keyon Bernhard           Miss   \n",
       "\n",
       "     BeneficialOwnership        AccountRole           EmailAddress  \\\n",
       "175                    1  UK.OBIE.Principal  lmckenzie@example.org   \n",
       "\n",
       "            Phone                                            Address  \n",
       "175  200-329-1979  [{'AddressType': 'New', 'AddressLine': '1681 C...  "
      ]
     },
     "execution_count": 89,
     "metadata": {},
     "output_type": "execute_result"
    }
   ],
   "source": [
    "CustomerProfileCollection_df.sample(1)"
   ]
  },
  {
   "cell_type": "code",
   "execution_count": 91,
   "metadata": {},
   "outputs": [
    {
     "data": {
      "text/plain": [
       "1000"
      ]
     },
     "execution_count": 91,
     "metadata": {},
     "output_type": "execute_result"
    }
   ],
   "source": [
    "len(CustomerProfileCollection_df)"
   ]
  },
  {
   "cell_type": "code",
   "execution_count": 90,
   "metadata": {},
   "outputs": [
    {
     "name": "stdout",
     "output_type": "stream",
     "text": [
      "Borrada colleción CustomerProfileCollection\n"
     ]
    }
   ],
   "source": [
    "#Borramos los valores actuales de la colección\n",
    "connection[\"tfm_mongo_database\"].CustomerProfileCollection.drop()\n",
    "print('Borrada colleción CustomerProfileCollection')"
   ]
  },
  {
   "cell_type": "code",
   "execution_count": 61,
   "metadata": {},
   "outputs": [],
   "source": [
    "#Cargas Masiva con Many\n",
    "for i in range(0,repeats):\n",
    "    time_inicial = time.time()\n",
    "    CustomerProfileCollection.insert_many(CustomerProfileCollection_df.to_dict('records'))\n",
    "    time_final = time.time()\n",
    "    data_time_CustomerProfile = time_final - time_inicial\n",
    "    CustomerProfileDomainSchema_ds.append(data_time_CustomerProfile)"
   ]
  },
  {
   "cell_type": "code",
   "execution_count": 62,
   "metadata": {},
   "outputs": [
    {
     "name": "stdout",
     "output_type": "stream",
     "text": [
      "MAX: 0.11574125289916992 seg\n",
      "MIN: 0.03651785850524902 seg\n",
      "AVG: 0.03979439973831177 seg\n"
     ]
    }
   ],
   "source": [
    "#---- Resultados inserccion coleccion con metodo insertMany\n",
    "print(\"DOCUMENTS:\" , len(CustomerProfileCollection_df) * repeats, 'seg')\n",
    "print(\"MAX:\" , max(CustomerProfileDomainSchema_ds), 'seg')\n",
    "print(\"MIN:\" , min(CustomerProfileDomainSchema_ds), 'seg')\n",
    "print(\"AVG:\" , np.average(CustomerProfileDomainSchema_ds), 'seg')"
   ]
  },
  {
   "cell_type": "code",
   "execution_count": null,
   "metadata": {},
   "outputs": [],
   "source": []
  }
 ],
 "metadata": {
  "kernelspec": {
   "display_name": "Python 3",
   "language": "python",
   "name": "python3"
  },
  "language_info": {
   "codemirror_mode": {
    "name": "ipython",
    "version": 3
   },
   "file_extension": ".py",
   "mimetype": "text/x-python",
   "name": "python",
   "nbconvert_exporter": "python",
   "pygments_lexer": "ipython3",
   "version": "3.7.6"
  }
 },
 "nbformat": 4,
 "nbformat_minor": 4
}
