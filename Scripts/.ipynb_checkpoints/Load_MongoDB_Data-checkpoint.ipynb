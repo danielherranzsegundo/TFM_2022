{
 "cells": [
  {
   "cell_type": "markdown",
   "metadata": {},
   "source": [
    "Script de medición y carga de las colecciones en cluster MongoDB\n",
    "TFM Daniel Herranz Segundo"
   ]
  },
  {
   "cell_type": "code",
   "execution_count": 1,
   "metadata": {},
   "outputs": [],
   "source": [
    "import pandas as pd\n",
    "import numpy as np\n",
    "import os\n",
    "import json\n",
    "import random\n",
    "import pymongo\n",
    "from pymongo import MongoClient\n",
    "import time\n",
    "from pprint import pprint\n",
    "from pymongo import InsertOne, DeleteMany, ReplaceOne, UpdateOne\n",
    "import matplotlib.pyplot as plt\n",
    "import psutil\n",
    "import uuid"
   ]
  },
  {
   "cell_type": "code",
   "execution_count": 2,
   "metadata": {},
   "outputs": [],
   "source": [
    "#Variables de los ficheros de datos salida\n",
    "CurrentAccountCollection_file_out = '../MockData/MongoDB/CurrentAccountCollection/CurrentAccountCollection.json'\n",
    "PositionKeepingCollection_file_out = '../MockData/MongoDB/PositionKeepingCollection/PositionKeepingCollection.json'\n",
    "CustomerProfileCollection_file_out = '../MockData/MongoDB/CustomerProfileCollection/CustomerProfileCollection.json'\n",
    "\n",
    "CurrentAccountCollection_sample_out = '../MockData/MongoDB/CurrentAccountCollection/CurrentAccountCollection_sample.json'\n",
    "PositionKeepingCollection_sample_out = '../MockData/MongoDB/PositionKeepingCollection/PositionKeepingCollection_sample.json'\n",
    "CustomerProfileCollection_sample_out = '../MockData/MongoDB/CustomerProfileCollection/CustomerProfileCollection_sample.json'"
   ]
  },
  {
   "cell_type": "code",
   "execution_count": 3,
   "metadata": {},
   "outputs": [],
   "source": [
    "def save_results_to_csv(results,file,write_concerns):\n",
    "    #Guardamos los resultados en csv\n",
    "    from datetime import datetime\n",
    "    dia = datetime.now().strftime(\"%d%m%Y_%H_%M_%S\") \n",
    "    data = results\n",
    "    results_df = pd.DataFrame(data, columns =['Registros', 'Tiempo', 'CPU','Memoria'])\n",
    "    results.to_csv(file.format(write_concerns, str(dia)))"
   ]
  },
  {
   "cell_type": "code",
   "execution_count": 4,
   "metadata": {},
   "outputs": [],
   "source": [
    "resultados_etl_CutomerProfileCollection = '../Results/MongoDB/MongoDB_Bulk_Insert_{}_WC_CustomerProfileCollection_{}.csv'\n",
    "resultados_etl_PositionKeepingCollection = '../Results/MongoDB/MongoDB_Bulk_Insert_{}_WC_PositionKeepingCollection_{}.csv'\n",
    "resultados_etl_CurrentAccountCollection = '../Results/MongoDB/MongoDB_Bulk_Insert_{}_WC_CurrentAccountCollection_{}.csv'"
   ]
  },
  {
   "cell_type": "code",
   "execution_count": 5,
   "metadata": {},
   "outputs": [],
   "source": [
    "#repeticiones\n",
    "repeats = 1000\n",
    "test_wc = False"
   ]
  },
  {
   "cell_type": "code",
   "execution_count": 6,
   "metadata": {},
   "outputs": [],
   "source": [
    "#Conexion unica a colecciones\n",
    "connection = MongoClient('localhost', 27017, w=3) #Conexion con WriteConcern a 3 (primario y dos nodos consolidados)\n",
    "\n",
    "#Creamos una base de datos para el trabajo llamada TFM\n",
    "tfm_mongo_db = connection[\"tfm_mongo_database\"]"
   ]
  },
  {
   "cell_type": "markdown",
   "metadata": {},
   "source": [
    "## Creación de las colecciones por cada dominio"
   ]
  },
  {
   "cell_type": "code",
   "execution_count": 7,
   "metadata": {},
   "outputs": [
    {
     "name": "stdout",
     "output_type": "stream",
     "text": [
      "['admin', 'config', 'local', 'tfm_mongo_database']\n"
     ]
    }
   ],
   "source": [
    "CustomerProfileCollection = tfm_mongo_db[\"CustomerProfileCollection\"]\n",
    "CurrentAccountCollection = tfm_mongo_db[\"CurrentAccountCollection\"]\n",
    "PositionKeepingCollection = tfm_mongo_db[\"PositionKeepingCollection\"]\n",
    "print(connection.list_database_names())"
   ]
  },
  {
   "cell_type": "markdown",
   "metadata": {},
   "source": [
    "## Carga de los documentos por cada dominio"
   ]
  },
  {
   "cell_type": "markdown",
   "metadata": {},
   "source": [
    "### Test de carga CustomerProfileCollection"
   ]
  },
  {
   "cell_type": "code",
   "execution_count": 8,
   "metadata": {},
   "outputs": [],
   "source": [
    "#Carga de la información de dataframes por entidades\n",
    "CustomerProfileCollection_df = pd.read_json(CustomerProfileCollection_sample_out) #Carga Sample\n",
    "CurrentAccountCollection_df = pd.read_json(CurrentAccountCollection_sample_out) #Carga Sample\n",
    "PositionKeepingCollection_df = pd.read_json(PositionKeepingCollection_sample_out) #Carga Sample\n",
    "\n",
    "#CustomerProfileCollection_df = pd.read_json(CustomerProfileCollection_file_out) \n",
    "#CurrentAccountCollection_df = pd.read_json(CurrentAccountCollection_file_out) \n",
    "#PositionKeepingCollection_df = pd.read_json(PositionKeepingCollection_file_out) "
   ]
  },
  {
   "cell_type": "code",
   "execution_count": 9,
   "metadata": {},
   "outputs": [
    {
     "name": "stdout",
     "output_type": "stream",
     "text": [
      "CustomerProfileCollection_df 2500000\n"
     ]
    }
   ],
   "source": [
    "print(\"CustomerProfileCollection_df\",len(CustomerProfileCollection_df))"
   ]
  },
  {
   "cell_type": "code",
   "execution_count": 10,
   "metadata": {},
   "outputs": [],
   "source": [
    "#for x in range(17): # Generamos un millon de registros aprox\n",
    "    #CustomerProfileCollection_df = CustomerProfileCollection_df.append(CustomerProfileCollection_df.sample(frac=0.40,replace = True))\n",
    "    #CurrentAccountCollection_df = CurrentAccountCollection_df.append(CurrentAccountCollection_df.sample(frac=0.40,replace = True))\n",
    "    #PositionKeepingCollection_df = PositionKeepingCollection_df.append(PositionKeepingCollection_df.sample(frac=0.40,replace = True))"
   ]
  },
  {
   "cell_type": "code",
   "execution_count": 11,
   "metadata": {},
   "outputs": [],
   "source": [
    "num_documentos = 1000000"
   ]
  },
  {
   "cell_type": "code",
   "execution_count": 12,
   "metadata": {},
   "outputs": [
    {
     "name": "stdout",
     "output_type": "stream",
     "text": [
      "1000000\n"
     ]
    },
    {
     "data": {
      "text/html": [
       "<div>\n",
       "<style scoped>\n",
       "    .dataframe tbody tr th:only-of-type {\n",
       "        vertical-align: middle;\n",
       "    }\n",
       "\n",
       "    .dataframe tbody tr th {\n",
       "        vertical-align: top;\n",
       "    }\n",
       "\n",
       "    .dataframe thead th {\n",
       "        text-align: right;\n",
       "    }\n",
       "</style>\n",
       "<table border=\"1\" class=\"dataframe\">\n",
       "  <thead>\n",
       "    <tr style=\"text-align: right;\">\n",
       "      <th></th>\n",
       "      <th>PartyId</th>\n",
       "      <th>PartyNumber</th>\n",
       "      <th>PartyType</th>\n",
       "      <th>Name</th>\n",
       "      <th>FullLegalName</th>\n",
       "      <th>LegalStructure</th>\n",
       "      <th>BeneficialOwnership</th>\n",
       "      <th>AccountRole</th>\n",
       "      <th>EmailAddress</th>\n",
       "      <th>Phone</th>\n",
       "      <th>Address</th>\n",
       "    </tr>\n",
       "  </thead>\n",
       "  <tbody>\n",
       "    <tr>\n",
       "      <th>1362816</th>\n",
       "      <td>551200e0-ba4b-11ec-9dcd-892344612080</td>\n",
       "      <td>5467</td>\n",
       "      <td>sol</td>\n",
       "      <td>Emilio</td>\n",
       "      <td>Lou Wuckert</td>\n",
       "      <td>Prof.</td>\n",
       "      <td>4</td>\n",
       "      <td>UK.OBIE.Secundary</td>\n",
       "      <td>ileuschke@example.com</td>\n",
       "      <td>1-689-012-04</td>\n",
       "      <td>[{'AddressType': 'New', 'AddressLine': '815 Ri...</td>\n",
       "    </tr>\n",
       "  </tbody>\n",
       "</table>\n",
       "</div>"
      ],
      "text/plain": [
       "                                      PartyId  PartyNumber PartyType    Name  \\\n",
       "1362816  551200e0-ba4b-11ec-9dcd-892344612080         5467       sol  Emilio   \n",
       "\n",
       "        FullLegalName LegalStructure  BeneficialOwnership        AccountRole  \\\n",
       "1362816   Lou Wuckert          Prof.                    4  UK.OBIE.Secundary   \n",
       "\n",
       "                  EmailAddress         Phone  \\\n",
       "1362816  ileuschke@example.com  1-689-012-04   \n",
       "\n",
       "                                                   Address  \n",
       "1362816  [{'AddressType': 'New', 'AddressLine': '815 Ri...  "
      ]
     },
     "execution_count": 12,
     "metadata": {},
     "output_type": "execute_result"
    }
   ],
   "source": [
    "CustomerProfileCollection_df = CustomerProfileCollection_df.sample(num_documentos)\n",
    "print(len(CustomerProfileCollection_df))\n",
    "CustomerProfileCollection_df.sample(1)"
   ]
  },
  {
   "cell_type": "code",
   "execution_count": 13,
   "metadata": {},
   "outputs": [
    {
     "name": "stdout",
     "output_type": "stream",
     "text": [
      "CustomerProfileCollection_df 1000000\n",
      "CurrentAccountCollection_df 2500000\n",
      "PositionKeepingCollection_df 2500000\n"
     ]
    }
   ],
   "source": [
    "sample_mode = False #En cargas masivas reales, poner a false\n",
    "\n",
    "if(sample_mode):\n",
    "    list_partyId = CustomerProfileCollection_df['PartyId'].map(lambda x: str(uuid.uuid1()))\n",
    "    list_accountid = CurrentAccountCollection_df['AccountId'].map(lambda x: str(uuid.uuid1()))\n",
    "    CustomerProfileCollection_df['PartyId'] = list_partyId\n",
    "    CurrentAccountCollection_df['AccountId'] = list_accountid\n",
    "    CurrentAccountCollection_df['PartyId'] = list_partyId    \n",
    "    PositionKeepingCollection_df['AccountId'] = list_accountid\n",
    "\n",
    "print(\"CustomerProfileCollection_df\",len(CustomerProfileCollection_df))\n",
    "print(\"CurrentAccountCollection_df\",len(CurrentAccountCollection_df))\n",
    "print(\"PositionKeepingCollection_df\",len(PositionKeepingCollection_df))"
   ]
  },
  {
   "cell_type": "code",
   "execution_count": 14,
   "metadata": {},
   "outputs": [],
   "source": [
    "#Cargas Masiva con Many\n",
    "def loadCollectionDataFrame(df,collection):\n",
    "    registers = []\n",
    "    grps = df.groupby(df.index / 1000)    \n",
    "    iter = 0;\n",
    "    for i,group_df in grps: \n",
    "        #Insertamos en bloques de 1000 para igualar a otros motores    \n",
    "        time_inicial = time.time()\n",
    "        collection.insert_many(group_df.to_dict('records'))\n",
    "        time_final = time.time()\n",
    "        data_time_collection = round(time_final - time_inicial,3)\n",
    "        used_cpu = psutil.cpu_percent()\n",
    "        mem_used = psutil.virtual_memory().percent\n",
    "        registers.append((iter,data_time_collection,used_cpu,mem_used))\n",
    "        iter += 1000;\n",
    "    return registers"
   ]
  },
  {
   "cell_type": "code",
   "execution_count": 15,
   "metadata": {},
   "outputs": [
    {
     "name": "stdout",
     "output_type": "stream",
     "text": [
      "Borrada colleción CustomerProfileCollection\n"
     ]
    }
   ],
   "source": [
    "#Borramos los valores actuales de la colección\n",
    "connection[\"tfm_mongo_database\"].CustomerProfileCollection.drop()\n",
    "print('Borrada colleción CustomerProfileCollection')"
   ]
  },
  {
   "cell_type": "code",
   "execution_count": 16,
   "metadata": {},
   "outputs": [
    {
     "data": {
      "text/plain": [
       "0"
      ]
     },
     "execution_count": 16,
     "metadata": {},
     "output_type": "execute_result"
    }
   ],
   "source": [
    "CustomerProfileCollection.count_documents({})"
   ]
  },
  {
   "cell_type": "code",
   "execution_count": 17,
   "metadata": {},
   "outputs": [],
   "source": [
    "registers_customer_profile = loadCollectionDataFrame(CustomerProfileCollection_df,CustomerProfileCollection)"
   ]
  },
  {
   "cell_type": "code",
   "execution_count": 18,
   "metadata": {},
   "outputs": [
    {
     "data": {
      "text/plain": [
       "1000000"
      ]
     },
     "execution_count": 18,
     "metadata": {},
     "output_type": "execute_result"
    }
   ],
   "source": [
    "CustomerProfileCollection.count_documents({})"
   ]
  },
  {
   "cell_type": "code",
   "execution_count": 19,
   "metadata": {},
   "outputs": [
    {
     "data": {
      "text/html": [
       "<div>\n",
       "<style scoped>\n",
       "    .dataframe tbody tr th:only-of-type {\n",
       "        vertical-align: middle;\n",
       "    }\n",
       "\n",
       "    .dataframe tbody tr th {\n",
       "        vertical-align: top;\n",
       "    }\n",
       "\n",
       "    .dataframe thead th {\n",
       "        text-align: right;\n",
       "    }\n",
       "</style>\n",
       "<table border=\"1\" class=\"dataframe\">\n",
       "  <thead>\n",
       "    <tr style=\"text-align: right;\">\n",
       "      <th></th>\n",
       "      <th>Registros</th>\n",
       "      <th>Tiempo</th>\n",
       "      <th>CPU</th>\n",
       "      <th>Memoria</th>\n",
       "    </tr>\n",
       "  </thead>\n",
       "  <tbody>\n",
       "    <tr>\n",
       "      <th>539638</th>\n",
       "      <td>539638000</td>\n",
       "      <td>0.002</td>\n",
       "      <td>0.0</td>\n",
       "      <td>88.6</td>\n",
       "    </tr>\n",
       "    <tr>\n",
       "      <th>671611</th>\n",
       "      <td>671611000</td>\n",
       "      <td>0.002</td>\n",
       "      <td>66.7</td>\n",
       "      <td>88.9</td>\n",
       "    </tr>\n",
       "    <tr>\n",
       "      <th>993303</th>\n",
       "      <td>993303000</td>\n",
       "      <td>0.002</td>\n",
       "      <td>0.0</td>\n",
       "      <td>89.0</td>\n",
       "    </tr>\n",
       "    <tr>\n",
       "      <th>100805</th>\n",
       "      <td>100805000</td>\n",
       "      <td>0.002</td>\n",
       "      <td>0.0</td>\n",
       "      <td>89.4</td>\n",
       "    </tr>\n",
       "    <tr>\n",
       "      <th>542338</th>\n",
       "      <td>542338000</td>\n",
       "      <td>0.002</td>\n",
       "      <td>50.0</td>\n",
       "      <td>88.6</td>\n",
       "    </tr>\n",
       "  </tbody>\n",
       "</table>\n",
       "</div>"
      ],
      "text/plain": [
       "        Registros  Tiempo   CPU  Memoria\n",
       "539638  539638000   0.002   0.0     88.6\n",
       "671611  671611000   0.002  66.7     88.9\n",
       "993303  993303000   0.002   0.0     89.0\n",
       "100805  100805000   0.002   0.0     89.4\n",
       "542338  542338000   0.002  50.0     88.6"
      ]
     },
     "execution_count": 19,
     "metadata": {},
     "output_type": "execute_result"
    }
   ],
   "source": [
    "data = registers_customer_profile\n",
    "results_CustomerProfile_df = pd.DataFrame(data, columns =['Registros', 'Tiempo', 'CPU','Memoria'])\n",
    "write_concerns = 3\n",
    "save_results_to_csv(results_CustomerProfile_df,resultados_etl_CutomerProfileCollection, write_concerns)\n",
    "results_CustomerProfile_df.sample(5)"
   ]
  },
  {
   "cell_type": "markdown",
   "metadata": {},
   "source": [
    "# CurrentAccountCollection ETL Load"
   ]
  },
  {
   "cell_type": "code",
   "execution_count": 20,
   "metadata": {},
   "outputs": [
    {
     "name": "stdout",
     "output_type": "stream",
     "text": [
      "1000000\n"
     ]
    },
    {
     "data": {
      "text/html": [
       "<div>\n",
       "<style scoped>\n",
       "    .dataframe tbody tr th:only-of-type {\n",
       "        vertical-align: middle;\n",
       "    }\n",
       "\n",
       "    .dataframe tbody tr th {\n",
       "        vertical-align: top;\n",
       "    }\n",
       "\n",
       "    .dataframe thead th {\n",
       "        text-align: right;\n",
       "    }\n",
       "</style>\n",
       "<table border=\"1\" class=\"dataframe\">\n",
       "  <thead>\n",
       "    <tr style=\"text-align: right;\">\n",
       "      <th></th>\n",
       "      <th>AccountId</th>\n",
       "      <th>PartyId</th>\n",
       "      <th>Status</th>\n",
       "      <th>StatusUpdateDateTime</th>\n",
       "      <th>AccountType</th>\n",
       "      <th>NickName</th>\n",
       "      <th>OpeningDate</th>\n",
       "      <th>AccountSubType</th>\n",
       "      <th>AccountInfo</th>\n",
       "    </tr>\n",
       "  </thead>\n",
       "  <tbody>\n",
       "    <tr>\n",
       "      <th>1328438</th>\n",
       "      <td>796697d0-ba4b-11ec-9dcd-892344612080</td>\n",
       "      <td>5500ad40-ba4b-11ec-9dcd-892344612080</td>\n",
       "      <td>Disabled</td>\n",
       "      <td>1993-08-15 22:57:54.00</td>\n",
       "      <td>Particular</td>\n",
       "      <td>evolve strategic markets</td>\n",
       "      <td>2009-06-12 15:38:24.00</td>\n",
       "      <td>EDP</td>\n",
       "      <td>[{'SchemeName': 'UK.OBIE.SortCodeAccountNumber...</td>\n",
       "    </tr>\n",
       "  </tbody>\n",
       "</table>\n",
       "</div>"
      ],
      "text/plain": [
       "                                    AccountId  \\\n",
       "1328438  796697d0-ba4b-11ec-9dcd-892344612080   \n",
       "\n",
       "                                      PartyId    Status  \\\n",
       "1328438  5500ad40-ba4b-11ec-9dcd-892344612080  Disabled   \n",
       "\n",
       "           StatusUpdateDateTime AccountType                  NickName  \\\n",
       "1328438  1993-08-15 22:57:54.00  Particular  evolve strategic markets   \n",
       "\n",
       "                    OpeningDate AccountSubType  \\\n",
       "1328438  2009-06-12 15:38:24.00            EDP   \n",
       "\n",
       "                                               AccountInfo  \n",
       "1328438  [{'SchemeName': 'UK.OBIE.SortCodeAccountNumber...  "
      ]
     },
     "execution_count": 20,
     "metadata": {},
     "output_type": "execute_result"
    }
   ],
   "source": [
    "CurrentAccountCollection_df = CurrentAccountCollection_df.sample(num_documentos)\n",
    "print(len(CurrentAccountCollection_df))\n",
    "CurrentAccountCollection_df.sample(1)"
   ]
  },
  {
   "cell_type": "code",
   "execution_count": 21,
   "metadata": {
    "scrolled": true
   },
   "outputs": [
    {
     "name": "stdout",
     "output_type": "stream",
     "text": [
      "Borrada colleción CurrentAccountCollection\n"
     ]
    }
   ],
   "source": [
    "#Borramos los valores actuales de la colección\n",
    "connection[\"tfm_mongo_database\"].CurrentAccountCollection.drop()\n",
    "print('Borrada colleción CurrentAccountCollection')"
   ]
  },
  {
   "cell_type": "code",
   "execution_count": 22,
   "metadata": {},
   "outputs": [
    {
     "data": {
      "text/plain": [
       "0"
      ]
     },
     "execution_count": 22,
     "metadata": {},
     "output_type": "execute_result"
    }
   ],
   "source": [
    "CurrentAccountCollection.count_documents({})"
   ]
  },
  {
   "cell_type": "code",
   "execution_count": 23,
   "metadata": {},
   "outputs": [],
   "source": [
    "registers_CurrentAccount = loadCollectionDataFrame(CurrentAccountCollection_df,CurrentAccountCollection)"
   ]
  },
  {
   "cell_type": "code",
   "execution_count": 24,
   "metadata": {},
   "outputs": [
    {
     "data": {
      "text/plain": [
       "1000000"
      ]
     },
     "execution_count": 24,
     "metadata": {},
     "output_type": "execute_result"
    }
   ],
   "source": [
    "CurrentAccountCollection.count_documents({})"
   ]
  },
  {
   "cell_type": "code",
   "execution_count": 25,
   "metadata": {},
   "outputs": [
    {
     "data": {
      "text/html": [
       "<div>\n",
       "<style scoped>\n",
       "    .dataframe tbody tr th:only-of-type {\n",
       "        vertical-align: middle;\n",
       "    }\n",
       "\n",
       "    .dataframe tbody tr th {\n",
       "        vertical-align: top;\n",
       "    }\n",
       "\n",
       "    .dataframe thead th {\n",
       "        text-align: right;\n",
       "    }\n",
       "</style>\n",
       "<table border=\"1\" class=\"dataframe\">\n",
       "  <thead>\n",
       "    <tr style=\"text-align: right;\">\n",
       "      <th></th>\n",
       "      <th>Registros</th>\n",
       "      <th>Tiempo</th>\n",
       "      <th>CPU</th>\n",
       "      <th>Memoria</th>\n",
       "    </tr>\n",
       "  </thead>\n",
       "  <tbody>\n",
       "    <tr>\n",
       "      <th>56376</th>\n",
       "      <td>56376000</td>\n",
       "      <td>0.002</td>\n",
       "      <td>100.0</td>\n",
       "      <td>91.5</td>\n",
       "    </tr>\n",
       "    <tr>\n",
       "      <th>973637</th>\n",
       "      <td>973637000</td>\n",
       "      <td>0.002</td>\n",
       "      <td>0.0</td>\n",
       "      <td>94.8</td>\n",
       "    </tr>\n",
       "    <tr>\n",
       "      <th>101335</th>\n",
       "      <td>101335000</td>\n",
       "      <td>0.002</td>\n",
       "      <td>0.0</td>\n",
       "      <td>91.5</td>\n",
       "    </tr>\n",
       "    <tr>\n",
       "      <th>455584</th>\n",
       "      <td>455584000</td>\n",
       "      <td>0.001</td>\n",
       "      <td>0.0</td>\n",
       "      <td>91.2</td>\n",
       "    </tr>\n",
       "    <tr>\n",
       "      <th>559010</th>\n",
       "      <td>559010000</td>\n",
       "      <td>0.002</td>\n",
       "      <td>100.0</td>\n",
       "      <td>93.8</td>\n",
       "    </tr>\n",
       "  </tbody>\n",
       "</table>\n",
       "</div>"
      ],
      "text/plain": [
       "        Registros  Tiempo    CPU  Memoria\n",
       "56376    56376000   0.002  100.0     91.5\n",
       "973637  973637000   0.002    0.0     94.8\n",
       "101335  101335000   0.002    0.0     91.5\n",
       "455584  455584000   0.001    0.0     91.2\n",
       "559010  559010000   0.002  100.0     93.8"
      ]
     },
     "execution_count": 25,
     "metadata": {},
     "output_type": "execute_result"
    }
   ],
   "source": [
    "data = registers_CurrentAccount\n",
    "results_CurrentAccount_df = pd.DataFrame(data, columns =['Registros', 'Tiempo', 'CPU','Memoria'])\n",
    "write_concerns = 3\n",
    "save_results_to_csv(results_CurrentAccount_df,resultados_etl_CurrentAccountCollection, write_concerns)\n",
    "results_CurrentAccount_df.sample(5)"
   ]
  },
  {
   "cell_type": "markdown",
   "metadata": {},
   "source": [
    "## PositionKeepingCollection ETL Load"
   ]
  },
  {
   "cell_type": "code",
   "execution_count": 26,
   "metadata": {},
   "outputs": [
    {
     "name": "stdout",
     "output_type": "stream",
     "text": [
      "1000000\n"
     ]
    },
    {
     "data": {
      "text/html": [
       "<div>\n",
       "<style scoped>\n",
       "    .dataframe tbody tr th:only-of-type {\n",
       "        vertical-align: middle;\n",
       "    }\n",
       "\n",
       "    .dataframe tbody tr th {\n",
       "        vertical-align: top;\n",
       "    }\n",
       "\n",
       "    .dataframe thead th {\n",
       "        text-align: right;\n",
       "    }\n",
       "</style>\n",
       "<table border=\"1\" class=\"dataframe\">\n",
       "  <thead>\n",
       "    <tr style=\"text-align: right;\">\n",
       "      <th></th>\n",
       "      <th>DateTime</th>\n",
       "      <th>CreditDebitIndicator</th>\n",
       "      <th>Type</th>\n",
       "      <th>Amount</th>\n",
       "      <th>CreditLine</th>\n",
       "      <th>AccountId</th>\n",
       "    </tr>\n",
       "  </thead>\n",
       "  <tbody>\n",
       "    <tr>\n",
       "      <th>413362</th>\n",
       "      <td>1982-06-13 00:03:17</td>\n",
       "      <td>Debit</td>\n",
       "      <td>Particular</td>\n",
       "      <td>{'Currency': {'Code': 'USA', 'Description': 'U...</td>\n",
       "      <td>{'Included': 0, 'Type': 'Credit', 'Amount': {'...</td>\n",
       "      <td>7789c9d2-ba4b-11ec-9dcd-892344612080</td>\n",
       "    </tr>\n",
       "  </tbody>\n",
       "</table>\n",
       "</div>"
      ],
      "text/plain": [
       "                  DateTime CreditDebitIndicator        Type  \\\n",
       "413362 1982-06-13 00:03:17                Debit  Particular   \n",
       "\n",
       "                                                   Amount  \\\n",
       "413362  {'Currency': {'Code': 'USA', 'Description': 'U...   \n",
       "\n",
       "                                               CreditLine  \\\n",
       "413362  {'Included': 0, 'Type': 'Credit', 'Amount': {'...   \n",
       "\n",
       "                                   AccountId  \n",
       "413362  7789c9d2-ba4b-11ec-9dcd-892344612080  "
      ]
     },
     "execution_count": 26,
     "metadata": {},
     "output_type": "execute_result"
    }
   ],
   "source": [
    "PositionKeepingCollection_df = PositionKeepingCollection_df.sample(num_documentos)\n",
    "print(len(PositionKeepingCollection_df))\n",
    "PositionKeepingCollection_df.sample(1)"
   ]
  },
  {
   "cell_type": "code",
   "execution_count": 27,
   "metadata": {},
   "outputs": [
    {
     "name": "stdout",
     "output_type": "stream",
     "text": [
      "Borrada colleción PositionKeepingCollection\n"
     ]
    }
   ],
   "source": [
    "#Borramos los valores actuales de la colección\n",
    "connection[\"tfm_mongo_database\"].PositionKeepingCollection.drop()\n",
    "print('Borrada colleción PositionKeepingCollection')"
   ]
  },
  {
   "cell_type": "code",
   "execution_count": 28,
   "metadata": {},
   "outputs": [
    {
     "data": {
      "text/plain": [
       "0"
      ]
     },
     "execution_count": 28,
     "metadata": {},
     "output_type": "execute_result"
    }
   ],
   "source": [
    "PositionKeepingCollection.count_documents({})"
   ]
  },
  {
   "cell_type": "code",
   "execution_count": 29,
   "metadata": {},
   "outputs": [],
   "source": [
    "registers_PositionKeeping = loadCollectionDataFrame(PositionKeepingCollection_df,PositionKeepingCollection)"
   ]
  },
  {
   "cell_type": "code",
   "execution_count": 30,
   "metadata": {},
   "outputs": [
    {
     "data": {
      "text/plain": [
       "1000000"
      ]
     },
     "execution_count": 30,
     "metadata": {},
     "output_type": "execute_result"
    }
   ],
   "source": [
    "PositionKeepingCollection.count_documents({})"
   ]
  },
  {
   "cell_type": "code",
   "execution_count": 31,
   "metadata": {},
   "outputs": [
    {
     "data": {
      "text/html": [
       "<div>\n",
       "<style scoped>\n",
       "    .dataframe tbody tr th:only-of-type {\n",
       "        vertical-align: middle;\n",
       "    }\n",
       "\n",
       "    .dataframe tbody tr th {\n",
       "        vertical-align: top;\n",
       "    }\n",
       "\n",
       "    .dataframe thead th {\n",
       "        text-align: right;\n",
       "    }\n",
       "</style>\n",
       "<table border=\"1\" class=\"dataframe\">\n",
       "  <thead>\n",
       "    <tr style=\"text-align: right;\">\n",
       "      <th></th>\n",
       "      <th>Registros</th>\n",
       "      <th>Tiempo</th>\n",
       "      <th>CPU</th>\n",
       "      <th>Memoria</th>\n",
       "    </tr>\n",
       "  </thead>\n",
       "  <tbody>\n",
       "    <tr>\n",
       "      <th>840817</th>\n",
       "      <td>840817000</td>\n",
       "      <td>0.001</td>\n",
       "      <td>0.0</td>\n",
       "      <td>96.8</td>\n",
       "    </tr>\n",
       "    <tr>\n",
       "      <th>526106</th>\n",
       "      <td>526106000</td>\n",
       "      <td>0.002</td>\n",
       "      <td>0.0</td>\n",
       "      <td>96.7</td>\n",
       "    </tr>\n",
       "    <tr>\n",
       "      <th>215348</th>\n",
       "      <td>215348000</td>\n",
       "      <td>0.001</td>\n",
       "      <td>0.0</td>\n",
       "      <td>96.5</td>\n",
       "    </tr>\n",
       "    <tr>\n",
       "      <th>167089</th>\n",
       "      <td>167089000</td>\n",
       "      <td>0.001</td>\n",
       "      <td>33.3</td>\n",
       "      <td>97.4</td>\n",
       "    </tr>\n",
       "    <tr>\n",
       "      <th>986339</th>\n",
       "      <td>986339000</td>\n",
       "      <td>0.001</td>\n",
       "      <td>0.0</td>\n",
       "      <td>96.9</td>\n",
       "    </tr>\n",
       "  </tbody>\n",
       "</table>\n",
       "</div>"
      ],
      "text/plain": [
       "        Registros  Tiempo   CPU  Memoria\n",
       "840817  840817000   0.001   0.0     96.8\n",
       "526106  526106000   0.002   0.0     96.7\n",
       "215348  215348000   0.001   0.0     96.5\n",
       "167089  167089000   0.001  33.3     97.4\n",
       "986339  986339000   0.001   0.0     96.9"
      ]
     },
     "execution_count": 31,
     "metadata": {},
     "output_type": "execute_result"
    }
   ],
   "source": [
    "data = registers_PositionKeeping\n",
    "results_pk_df = pd.DataFrame(data, columns =['Registros', 'Tiempo', 'CPU','Memoria'])\n",
    "write_concerns = 3\n",
    "save_results_to_csv(results_pk_df,resultados_etl_PositionKeepingCollection,write_concerns)\n",
    "results_pk_df.sample(5)"
   ]
  },
  {
   "cell_type": "markdown",
   "metadata": {},
   "source": [
    "## Metricas con Write Concern = 2 (2 nodos de replica inmediata)"
   ]
  },
  {
   "cell_type": "code",
   "execution_count": 32,
   "metadata": {},
   "outputs": [],
   "source": [
    "if(test_wc):\n",
    "    write_concerns = 2\n",
    "\n",
    "    #Conexion unica a colecciones\n",
    "    connection = MongoClient('localhost', 27017, w=write_concerns) #Conexion con WriteConcern a 3 (primario y dos nodos consolidados)\n",
    "\n",
    "    #Creamos una base de datos para el trabajo llamada TFM\n",
    "    tfm_mongo_db = connection[\"tfm_mongo_database\"]"
   ]
  },
  {
   "cell_type": "code",
   "execution_count": 33,
   "metadata": {},
   "outputs": [],
   "source": [
    "if(test_wc):\n",
    "    #Borramos los valores actuales de la colección\n",
    "    connection[\"tfm_mongo_database\"].CustomerProfileCollection.drop()\n",
    "    print('Borrada colleción CustomerProfileCollection')\n",
    "    connection[\"tfm_mongo_database\"].CurrentAccountCollection.drop()\n",
    "    print('Borrada colleción CurrentAccountCollection')\n",
    "    connection[\"tfm_mongo_database\"].PositionKeepingCollection.drop()\n",
    "    print('Borrada colleción PositionKeepingCollection')"
   ]
  },
  {
   "cell_type": "code",
   "execution_count": 34,
   "metadata": {},
   "outputs": [],
   "source": [
    "if(test_wc):\n",
    "    registers = loadCollectionDataFrame(CustomerProfileCollection_df,CustomerProfileCollection)\n",
    "    data = registers\n",
    "    results_df = pd.DataFrame(data, columns =['Registros', 'Tiempo', 'CPU','Memoria'])\n",
    "    save_results_to_csv(results_df,resultados_etl_CutomerProfileCollection, write_concerns)"
   ]
  },
  {
   "cell_type": "code",
   "execution_count": 35,
   "metadata": {},
   "outputs": [],
   "source": [
    "if(test_wc):\n",
    "    registers = loadCollectionDataFrame(CurrentAccountCollection_df,CurrentAccountCollection)\n",
    "    data = registers\n",
    "    results_df = pd.DataFrame(data, columns =['Registros', 'Tiempo', 'CPU','Memoria'])\n",
    "    save_results_to_csv(results_df,resultados_etl_CurrentAccountCollection, write_concerns)"
   ]
  },
  {
   "cell_type": "code",
   "execution_count": 36,
   "metadata": {},
   "outputs": [],
   "source": [
    "if(test_wc):\n",
    "    registers = loadCollectionDataFrame(PositionKeepingCollection_df,PositionKeepingCollection)\n",
    "    data = registers\n",
    "    results_df = pd.DataFrame(data, columns =['Registros', 'Tiempo', 'CPU','Memoria'])\n",
    "    save_results_to_csv(results_df,resultados_etl_PositionKeepingCollection, write_concerns)"
   ]
  },
  {
   "cell_type": "markdown",
   "metadata": {},
   "source": [
    "##  Metricas con Write Concern = 1 (sin replica inmediata)\n"
   ]
  },
  {
   "cell_type": "code",
   "execution_count": 37,
   "metadata": {},
   "outputs": [],
   "source": [
    "if(test_wc):\n",
    "    write_concerns = 1\n",
    "\n",
    "    #Conexion unica a colecciones\n",
    "    connection = MongoClient('localhost', 27017, w=write_concerns) #Conexion con WriteConcern a 3 (primario y dos nodos consolidados)\n",
    "\n",
    "    #Creamos una base de datos para el trabajo llamada TFM\n",
    "    tfm_mongo_db = connection[\"tfm_mongo_database\"]"
   ]
  },
  {
   "cell_type": "code",
   "execution_count": 38,
   "metadata": {},
   "outputs": [],
   "source": [
    "if(test_wc):\n",
    "    #Borramos los valores actuales de la colección\n",
    "    connection[\"tfm_mongo_database\"].CustomerProfileCollection.drop()\n",
    "    print('Borrada colleción CustomerProfileCollection')\n",
    "    connection[\"tfm_mongo_database\"].CurrentAccountCollection.drop()\n",
    "    print('Borrada colleción CurrentAccountCollection')\n",
    "    connection[\"tfm_mongo_database\"].PositionKeepingCollection.drop()\n",
    "    print('Borrada colleción PositionKeepingCollection')"
   ]
  },
  {
   "cell_type": "code",
   "execution_count": 39,
   "metadata": {},
   "outputs": [],
   "source": [
    "if(test_wc):\n",
    "    registers = loadCollectionDataFrame(CustomerProfileCollection_df,CustomerProfileCollection)\n",
    "    data = registers\n",
    "    results_df = pd.DataFrame(data, columns =['Registros', 'Tiempo', 'CPU','Memoria'])\n",
    "    save_results_to_csv(results_df,resultados_etl_CutomerProfileCollection, write_concerns)"
   ]
  },
  {
   "cell_type": "code",
   "execution_count": 40,
   "metadata": {},
   "outputs": [],
   "source": [
    "if(test_wc):\n",
    "    registers = loadCollectionDataFrame(CurrentAccountCollection_df,CurrentAccountCollection)\n",
    "    data = registers\n",
    "    results_df = pd.DataFrame(data, columns =['Registros', 'Tiempo', 'CPU','Memoria'])\n",
    "    save_results_to_csv(results_df,resultados_etl_CurrentAccountCollection, write_concerns)"
   ]
  },
  {
   "cell_type": "code",
   "execution_count": 41,
   "metadata": {},
   "outputs": [],
   "source": [
    "if(test_wc):\n",
    "    registers = loadCollectionDataFrame(PositionKeepingCollection_df,PositionKeepingCollection)\n",
    "    data = registers\n",
    "    results_df = pd.DataFrame(data, columns =['Registros', 'Tiempo', 'CPU','Memoria'])\n",
    "    save_results_to_csv(results_df,resultados_etl_PositionKeepingCollection, write_concerns)"
   ]
  },
  {
   "cell_type": "code",
   "execution_count": 42,
   "metadata": {},
   "outputs": [],
   "source": [
    "#Cierre de la conexion\n",
    "connection.close()"
   ]
  }
 ],
 "metadata": {
  "kernelspec": {
   "display_name": "Python 3",
   "language": "python",
   "name": "python3"
  },
  "language_info": {
   "codemirror_mode": {
    "name": "ipython",
    "version": 3
   },
   "file_extension": ".py",
   "mimetype": "text/x-python",
   "name": "python",
   "nbconvert_exporter": "python",
   "pygments_lexer": "ipython3",
   "version": "3.7.6"
  }
 },
 "nbformat": 4,
 "nbformat_minor": 4
}
