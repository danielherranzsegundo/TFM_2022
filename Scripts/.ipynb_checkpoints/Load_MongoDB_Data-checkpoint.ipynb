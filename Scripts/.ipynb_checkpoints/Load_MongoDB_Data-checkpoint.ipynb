{
 "cells": [
  {
   "cell_type": "markdown",
   "metadata": {},
   "source": [
    "Script de medición y carga de las colecciones en cluster MongoDB\n",
    "TFM Daniel Herranz Segundo"
   ]
  },
  {
   "cell_type": "code",
   "execution_count": 1,
   "metadata": {},
   "outputs": [],
   "source": [
    "import pandas as pd\n",
    "import numpy as np\n",
    "import os\n",
    "import json\n",
    "import random\n",
    "import pymongo\n",
    "from pymongo import MongoClient\n",
    "import time\n",
    "from pprint import pprint\n",
    "from pymongo import InsertOne, DeleteMany, ReplaceOne, UpdateOne\n",
    "import matplotlib.pyplot as plt\n",
    "import psutil\n",
    "import uuid"
   ]
  },
  {
   "cell_type": "code",
   "execution_count": 2,
   "metadata": {},
   "outputs": [],
   "source": [
    "#Variables de los ficheros de datos salida\n",
    "CurrentAccountCollection_file_out = '../MockData/MongoDB/CurrentAccountCollection/CurrentAccountCollection.json'\n",
    "PositionKeepingCollection_file_out = '../MockData/MongoDB/PositionKeepingCollection/PositionKeepingCollection.json'\n",
    "CustomerProfileCollection_file_out = '../MockData/MongoDB/CustomerProfileCollection/CustomerProfileCollection.json'\n",
    "\n",
    "CurrentAccountCollection_sample_out = '../MockData/MongoDB/CurrentAccountCollection/CurrentAccountCollection_sample.json'\n",
    "PositionKeepingCollection_sample_out = '../MockData/MongoDB/PositionKeepingCollection/PositionKeepingCollection_sample.json'\n",
    "CustomerProfileCollection_sample_out = '../MockData/MongoDB/CustomerProfileCollection/CustomerProfileCollection_sample.json'"
   ]
  },
  {
   "cell_type": "code",
   "execution_count": 3,
   "metadata": {},
   "outputs": [],
   "source": [
    "def save_results_to_csv(results,file,write_concerns):\n",
    "    #Guardamos los resultados en csv\n",
    "    from datetime import datetime\n",
    "    dia = datetime.now().strftime(\"%d%m%Y_%H_%M_%S\") \n",
    "    data = results\n",
    "    results_df = pd.DataFrame(data, columns =['Registros', 'Tiempo', 'CPU','Memoria'])\n",
    "    results.to_csv(file.format(write_concerns, str(dia)))"
   ]
  },
  {
   "cell_type": "code",
   "execution_count": 4,
   "metadata": {},
   "outputs": [],
   "source": [
    "resultados_etl_CutomerProfileCollection = '../Results/MongoDB/MongoDB_Bulk_Insert_{}_WC_CustomerProfileCollection_{}.csv'\n",
    "resultados_etl_PositionKeepingCollection = '../Results/MongoDB/MongoDB_Bulk_Insert_{}_WC_PositionKeepingCollection_{}.csv'\n",
    "resultados_etl_CurrentAccountCollection = '../Results/MongoDB/MongoDB_Bulk_Insert_{}_WC_CurrentAccountCollection_{}.csv'"
   ]
  },
  {
   "cell_type": "code",
   "execution_count": 5,
   "metadata": {},
   "outputs": [],
   "source": [
    "#repeticiones\n",
    "repeats = 1000\n",
    "test_wc = False"
   ]
  },
  {
   "cell_type": "code",
   "execution_count": 6,
   "metadata": {},
   "outputs": [],
   "source": [
    "#Conexion unica a colecciones\n",
    "connection = MongoClient('localhost', 27017, w=3) #Conexion con WriteConcern a 3 (primario y dos nodos consolidados)\n",
    "\n",
    "#Creamos una base de datos para el trabajo llamada TFM\n",
    "tfm_mongo_db = connection[\"tfm_mongo_database\"]"
   ]
  },
  {
   "cell_type": "markdown",
   "metadata": {},
   "source": [
    "## Creación de las colecciones por cada dominio"
   ]
  },
  {
   "cell_type": "code",
   "execution_count": 7,
   "metadata": {},
   "outputs": [
    {
     "name": "stdout",
     "output_type": "stream",
     "text": [
      "['admin', 'config', 'local', 'tfm_mongo_database']\n"
     ]
    }
   ],
   "source": [
    "CustomerProfileCollection = tfm_mongo_db[\"CustomerProfileCollection\"]\n",
    "CurrentAccountCollection = tfm_mongo_db[\"CurrentAccountCollection\"]\n",
    "PositionKeepingCollection = tfm_mongo_db[\"PositionKeepingCollection\"]\n",
    "print(connection.list_database_names())"
   ]
  },
  {
   "cell_type": "markdown",
   "metadata": {},
   "source": [
    "## Carga de los documentos por cada dominio"
   ]
  },
  {
   "cell_type": "markdown",
   "metadata": {},
   "source": [
    "### Test de carga CustomerProfileCollection"
   ]
  },
  {
   "cell_type": "code",
   "execution_count": 8,
   "metadata": {},
   "outputs": [],
   "source": [
    "#Carga de la información de dataframes por entidades\n",
    "CustomerProfileCollection_df = pd.read_json(CustomerProfileCollection_sample_out) #Carga Sample\n",
    "CurrentAccountCollection_df = pd.read_json(CurrentAccountCollection_sample_out) #Carga Sample\n",
    "PositionKeepingCollection_df = pd.read_json(PositionKeepingCollection_sample_out) #Carga Sample\n",
    "\n",
    "#CustomerProfileCollection_df = pd.read_json(CustomerProfileCollection_file_out) \n",
    "#CurrentAccountCollection_df = pd.read_json(CurrentAccountCollection_file_out) \n",
    "#PositionKeepingCollection_df = pd.read_json(PositionKeepingCollection_file_out) "
   ]
  },
  {
   "cell_type": "code",
   "execution_count": 9,
   "metadata": {},
   "outputs": [
    {
     "name": "stdout",
     "output_type": "stream",
     "text": [
      "CustomerProfileCollection_df 10000\n",
      "CurrentAccountCollection_df 10000\n",
      "PositionKeepingCollection_df 10000\n"
     ]
    }
   ],
   "source": [
    "print(\"CustomerProfileCollection_df\",len(CustomerProfileCollection_df))\n",
    "print(\"CurrentAccountCollection_df\",len(CurrentAccountCollection_df))\n",
    "print(\"PositionKeepingCollection_df\",len(PositionKeepingCollection_df))"
   ]
  },
  {
   "cell_type": "code",
   "execution_count": 10,
   "metadata": {},
   "outputs": [],
   "source": [
    "for x in range(17): # Generamos un millon de registros aprox\n",
    "    CustomerProfileCollection_df = CustomerProfileCollection_df.append(CustomerProfileCollection_df.sample(frac=0.40,replace = True))\n",
    "    CurrentAccountCollection_df = CurrentAccountCollection_df.append(CurrentAccountCollection_df.sample(frac=0.40,replace = True))\n",
    "    PositionKeepingCollection_df = PositionKeepingCollection_df.append(PositionKeepingCollection_df.sample(frac=0.40,replace = True))"
   ]
  },
  {
   "cell_type": "code",
   "execution_count": 11,
   "metadata": {},
   "outputs": [],
   "source": [
    "num_documentos = 1000000"
   ]
  },
  {
   "cell_type": "code",
   "execution_count": 12,
   "metadata": {},
   "outputs": [
    {
     "name": "stdout",
     "output_type": "stream",
     "text": [
      "1000000\n"
     ]
    },
    {
     "data": {
      "text/html": [
       "<div>\n",
       "<style scoped>\n",
       "    .dataframe tbody tr th:only-of-type {\n",
       "        vertical-align: middle;\n",
       "    }\n",
       "\n",
       "    .dataframe tbody tr th {\n",
       "        vertical-align: top;\n",
       "    }\n",
       "\n",
       "    .dataframe thead th {\n",
       "        text-align: right;\n",
       "    }\n",
       "</style>\n",
       "<table border=\"1\" class=\"dataframe\">\n",
       "  <thead>\n",
       "    <tr style=\"text-align: right;\">\n",
       "      <th></th>\n",
       "      <th>PartyId</th>\n",
       "      <th>PartyNumber</th>\n",
       "      <th>PartyType</th>\n",
       "      <th>Name</th>\n",
       "      <th>FullLegalName</th>\n",
       "      <th>LegalStructure</th>\n",
       "      <th>BeneficialOwnership</th>\n",
       "      <th>AccountRole</th>\n",
       "      <th>EmailAddress</th>\n",
       "      <th>Phone</th>\n",
       "      <th>Address</th>\n",
       "    </tr>\n",
       "  </thead>\n",
       "  <tbody>\n",
       "    <tr>\n",
       "      <th>9131</th>\n",
       "      <td>458a2bc2-b7fb-11ec-a2b2-9fdc6c308163</td>\n",
       "      <td>397</td>\n",
       "      <td>sol</td>\n",
       "      <td>Jennifer</td>\n",
       "      <td>Elena Bosco</td>\n",
       "      <td>Miss</td>\n",
       "      <td>0</td>\n",
       "      <td>UK.OBIE.Principal</td>\n",
       "      <td>wolf.suzanne@example.com</td>\n",
       "      <td>1-137-594-03</td>\n",
       "      <td>[{'AddressType': 'West', 'AddressLine': '7118 ...</td>\n",
       "    </tr>\n",
       "  </tbody>\n",
       "</table>\n",
       "</div>"
      ],
      "text/plain": [
       "                                   PartyId  PartyNumber PartyType      Name  \\\n",
       "9131  458a2bc2-b7fb-11ec-a2b2-9fdc6c308163          397       sol  Jennifer   \n",
       "\n",
       "     FullLegalName LegalStructure  BeneficialOwnership        AccountRole  \\\n",
       "9131   Elena Bosco           Miss                    0  UK.OBIE.Principal   \n",
       "\n",
       "                  EmailAddress         Phone  \\\n",
       "9131  wolf.suzanne@example.com  1-137-594-03   \n",
       "\n",
       "                                                Address  \n",
       "9131  [{'AddressType': 'West', 'AddressLine': '7118 ...  "
      ]
     },
     "execution_count": 12,
     "metadata": {},
     "output_type": "execute_result"
    }
   ],
   "source": [
    "CustomerProfileCollection_df = CustomerProfileCollection_df.sample(num_documentos)\n",
    "print(len(CustomerProfileCollection_df))\n",
    "CustomerProfileCollection_df.sample(1)"
   ]
  },
  {
   "cell_type": "code",
   "execution_count": 13,
   "metadata": {},
   "outputs": [
    {
     "name": "stdout",
     "output_type": "stream",
     "text": [
      "1000000\n"
     ]
    },
    {
     "data": {
      "text/html": [
       "<div>\n",
       "<style scoped>\n",
       "    .dataframe tbody tr th:only-of-type {\n",
       "        vertical-align: middle;\n",
       "    }\n",
       "\n",
       "    .dataframe tbody tr th {\n",
       "        vertical-align: top;\n",
       "    }\n",
       "\n",
       "    .dataframe thead th {\n",
       "        text-align: right;\n",
       "    }\n",
       "</style>\n",
       "<table border=\"1\" class=\"dataframe\">\n",
       "  <thead>\n",
       "    <tr style=\"text-align: right;\">\n",
       "      <th></th>\n",
       "      <th>AccountId</th>\n",
       "      <th>PartyId</th>\n",
       "      <th>Status</th>\n",
       "      <th>StatusUpdateDateTime</th>\n",
       "      <th>AccountType</th>\n",
       "      <th>NickName</th>\n",
       "      <th>OpeningDate</th>\n",
       "      <th>AccountSubType</th>\n",
       "      <th>AccountInfo</th>\n",
       "    </tr>\n",
       "  </thead>\n",
       "  <tbody>\n",
       "    <tr>\n",
       "      <th>450</th>\n",
       "      <td>7673ac54-b7fb-11ec-a2b2-9fdc6c308163</td>\n",
       "      <td>45853f5e-b7fb-11ec-a2b2-9fdc6c308163</td>\n",
       "      <td>Disabled</td>\n",
       "      <td>1973-09-30 20:22:10.00</td>\n",
       "      <td>Business</td>\n",
       "      <td>whiteboard bricks-and-clicks metrics</td>\n",
       "      <td>1985-01-07 23:28:19.00</td>\n",
       "      <td>SAI</td>\n",
       "      <td>[{'SchemeName': 'UK.business', 'Identification...</td>\n",
       "    </tr>\n",
       "  </tbody>\n",
       "</table>\n",
       "</div>"
      ],
      "text/plain": [
       "                                AccountId  \\\n",
       "450  7673ac54-b7fb-11ec-a2b2-9fdc6c308163   \n",
       "\n",
       "                                  PartyId    Status    StatusUpdateDateTime  \\\n",
       "450  45853f5e-b7fb-11ec-a2b2-9fdc6c308163  Disabled  1973-09-30 20:22:10.00   \n",
       "\n",
       "    AccountType                              NickName             OpeningDate  \\\n",
       "450    Business  whiteboard bricks-and-clicks metrics  1985-01-07 23:28:19.00   \n",
       "\n",
       "    AccountSubType                                        AccountInfo  \n",
       "450            SAI  [{'SchemeName': 'UK.business', 'Identification...  "
      ]
     },
     "execution_count": 13,
     "metadata": {},
     "output_type": "execute_result"
    }
   ],
   "source": [
    "CurrentAccountCollection_df = CurrentAccountCollection_df.sample(num_documentos)\n",
    "print(len(CurrentAccountCollection_df))\n",
    "CurrentAccountCollection_df.sample(1)"
   ]
  },
  {
   "cell_type": "code",
   "execution_count": 14,
   "metadata": {},
   "outputs": [
    {
     "name": "stdout",
     "output_type": "stream",
     "text": [
      "1000000\n"
     ]
    },
    {
     "data": {
      "text/html": [
       "<div>\n",
       "<style scoped>\n",
       "    .dataframe tbody tr th:only-of-type {\n",
       "        vertical-align: middle;\n",
       "    }\n",
       "\n",
       "    .dataframe tbody tr th {\n",
       "        vertical-align: top;\n",
       "    }\n",
       "\n",
       "    .dataframe thead th {\n",
       "        text-align: right;\n",
       "    }\n",
       "</style>\n",
       "<table border=\"1\" class=\"dataframe\">\n",
       "  <thead>\n",
       "    <tr style=\"text-align: right;\">\n",
       "      <th></th>\n",
       "      <th>DateTime</th>\n",
       "      <th>CreditDebitIndicator</th>\n",
       "      <th>Type</th>\n",
       "      <th>Amount</th>\n",
       "      <th>CreditLine</th>\n",
       "      <th>AccountId</th>\n",
       "    </tr>\n",
       "  </thead>\n",
       "  <tbody>\n",
       "    <tr>\n",
       "      <th>7025</th>\n",
       "      <td>2008-06-10 05:14:28</td>\n",
       "      <td>Credit</td>\n",
       "      <td>Business</td>\n",
       "      <td>{'Currency': '[{\"Code\":\"EUR\",\"Description\":\"Do...</td>\n",
       "      <td>{'Included': '[0]', 'Type': '[\"Business\"]', 'A...</td>\n",
       "      <td>7678f858-b7fb-11ec-a2b2-9fdc6c308163</td>\n",
       "    </tr>\n",
       "  </tbody>\n",
       "</table>\n",
       "</div>"
      ],
      "text/plain": [
       "                DateTime CreditDebitIndicator      Type  \\\n",
       "7025 2008-06-10 05:14:28               Credit  Business   \n",
       "\n",
       "                                                 Amount  \\\n",
       "7025  {'Currency': '[{\"Code\":\"EUR\",\"Description\":\"Do...   \n",
       "\n",
       "                                             CreditLine  \\\n",
       "7025  {'Included': '[0]', 'Type': '[\"Business\"]', 'A...   \n",
       "\n",
       "                                 AccountId  \n",
       "7025  7678f858-b7fb-11ec-a2b2-9fdc6c308163  "
      ]
     },
     "execution_count": 14,
     "metadata": {},
     "output_type": "execute_result"
    }
   ],
   "source": [
    "PositionKeepingCollection_df = PositionKeepingCollection_df.sample(num_documentos)\n",
    "print(len(PositionKeepingCollection_df))\n",
    "PositionKeepingCollection_df.sample(1)"
   ]
  },
  {
   "cell_type": "code",
   "execution_count": 15,
   "metadata": {},
   "outputs": [
    {
     "name": "stdout",
     "output_type": "stream",
     "text": [
      "CustomerProfileCollection_df 1000000\n",
      "CurrentAccountCollection_df 1000000\n",
      "PositionKeepingCollection_df 1000000\n"
     ]
    }
   ],
   "source": [
    "sample_mode = False #En cargas masivas reales, poner a false\n",
    "\n",
    "if(sample_mode):\n",
    "    list_partyId = CustomerProfileCollection_df['PartyId'].map(lambda x: str(uuid.uuid1()))\n",
    "    list_accountid = CurrentAccountCollection_df['AccountId'].map(lambda x: str(uuid.uuid1()))\n",
    "    CustomerProfileCollection_df['PartyId'] = list_partyId\n",
    "    CurrentAccountCollection_df['AccountId'] = list_accountid\n",
    "    CurrentAccountCollection_df['PartyId'] = list_partyId    \n",
    "    PositionKeepingCollection_df['AccountId'] = list_accountid\n",
    "\n",
    "print(\"CustomerProfileCollection_df\",len(CustomerProfileCollection_df))\n",
    "print(\"CurrentAccountCollection_df\",len(CurrentAccountCollection_df))\n",
    "print(\"PositionKeepingCollection_df\",len(PositionKeepingCollection_df))"
   ]
  },
  {
   "cell_type": "code",
   "execution_count": 16,
   "metadata": {},
   "outputs": [],
   "source": [
    "#Cargas Masiva con Many\n",
    "def loadCollectionDataFrame(df,collection):\n",
    "    registers = []\n",
    "    grps = df.groupby(df.index / 1000)    \n",
    "    iter = 0;\n",
    "    for i,group_df in grps: \n",
    "        #Insertamos en bloques de 1000 para igualar a otros motores    \n",
    "        time_inicial = time.time()\n",
    "        collection.insert_many(group_df.to_dict('records'))\n",
    "        time_final = time.time()\n",
    "        data_time_collection = round(time_final - time_inicial,3)\n",
    "        used_cpu = psutil.cpu_percent()\n",
    "        mem_used = psutil.virtual_memory().percent\n",
    "        registers.append((iter,data_time_collection,used_cpu,mem_used))\n",
    "        iter += 1000;\n",
    "    return registers"
   ]
  },
  {
   "cell_type": "code",
   "execution_count": 17,
   "metadata": {},
   "outputs": [
    {
     "name": "stdout",
     "output_type": "stream",
     "text": [
      "Borrada colleción CustomerProfileCollection\n"
     ]
    }
   ],
   "source": [
    "#Borramos los valores actuales de la colección\n",
    "connection[\"tfm_mongo_database\"].CustomerProfileCollection.drop()\n",
    "print('Borrada colleción CustomerProfileCollection')"
   ]
  },
  {
   "cell_type": "code",
   "execution_count": 18,
   "metadata": {},
   "outputs": [
    {
     "data": {
      "text/plain": [
       "0"
      ]
     },
     "execution_count": 18,
     "metadata": {},
     "output_type": "execute_result"
    }
   ],
   "source": [
    "CustomerProfileCollection.count_documents({})"
   ]
  },
  {
   "cell_type": "code",
   "execution_count": 19,
   "metadata": {},
   "outputs": [],
   "source": [
    "registers_customer_profile = loadCollectionDataFrame(CustomerProfileCollection_df,CustomerProfileCollection)"
   ]
  },
  {
   "cell_type": "code",
   "execution_count": 20,
   "metadata": {},
   "outputs": [
    {
     "data": {
      "text/plain": [
       "1000000"
      ]
     },
     "execution_count": 20,
     "metadata": {},
     "output_type": "execute_result"
    }
   ],
   "source": [
    "CustomerProfileCollection.count_documents({})"
   ]
  },
  {
   "cell_type": "code",
   "execution_count": 21,
   "metadata": {},
   "outputs": [
    {
     "data": {
      "text/html": [
       "<div>\n",
       "<style scoped>\n",
       "    .dataframe tbody tr th:only-of-type {\n",
       "        vertical-align: middle;\n",
       "    }\n",
       "\n",
       "    .dataframe tbody tr th {\n",
       "        vertical-align: top;\n",
       "    }\n",
       "\n",
       "    .dataframe thead th {\n",
       "        text-align: right;\n",
       "    }\n",
       "</style>\n",
       "<table border=\"1\" class=\"dataframe\">\n",
       "  <thead>\n",
       "    <tr style=\"text-align: right;\">\n",
       "      <th></th>\n",
       "      <th>Registros</th>\n",
       "      <th>Tiempo</th>\n",
       "      <th>CPU</th>\n",
       "      <th>Memoria</th>\n",
       "    </tr>\n",
       "  </thead>\n",
       "  <tbody>\n",
       "    <tr>\n",
       "      <th>6238</th>\n",
       "      <td>6238000</td>\n",
       "      <td>0.002</td>\n",
       "      <td>0.0</td>\n",
       "      <td>49.8</td>\n",
       "    </tr>\n",
       "    <tr>\n",
       "      <th>1965</th>\n",
       "      <td>1965000</td>\n",
       "      <td>0.004</td>\n",
       "      <td>0.0</td>\n",
       "      <td>41.7</td>\n",
       "    </tr>\n",
       "    <tr>\n",
       "      <th>8461</th>\n",
       "      <td>8461000</td>\n",
       "      <td>0.003</td>\n",
       "      <td>0.0</td>\n",
       "      <td>53.7</td>\n",
       "    </tr>\n",
       "    <tr>\n",
       "      <th>3195</th>\n",
       "      <td>3195000</td>\n",
       "      <td>0.005</td>\n",
       "      <td>50.0</td>\n",
       "      <td>44.2</td>\n",
       "    </tr>\n",
       "    <tr>\n",
       "      <th>380</th>\n",
       "      <td>380000</td>\n",
       "      <td>0.004</td>\n",
       "      <td>33.3</td>\n",
       "      <td>40.2</td>\n",
       "    </tr>\n",
       "  </tbody>\n",
       "</table>\n",
       "</div>"
      ],
      "text/plain": [
       "      Registros  Tiempo   CPU  Memoria\n",
       "6238    6238000   0.002   0.0     49.8\n",
       "1965    1965000   0.004   0.0     41.7\n",
       "8461    8461000   0.003   0.0     53.7\n",
       "3195    3195000   0.005  50.0     44.2\n",
       "380      380000   0.004  33.3     40.2"
      ]
     },
     "execution_count": 21,
     "metadata": {},
     "output_type": "execute_result"
    }
   ],
   "source": [
    "data = registers_customer_profile\n",
    "results_CustomerProfile_df = pd.DataFrame(data, columns =['Registros', 'Tiempo', 'CPU','Memoria'])\n",
    "write_concerns = 3\n",
    "save_results_to_csv(results_CustomerProfile_df,resultados_etl_CutomerProfileCollection, write_concerns)\n",
    "results_CustomerProfile_df.sample(5)"
   ]
  },
  {
   "cell_type": "markdown",
   "metadata": {},
   "source": [
    "# CurrentAccountCollection ETL Load"
   ]
  },
  {
   "cell_type": "code",
   "execution_count": 22,
   "metadata": {
    "scrolled": true
   },
   "outputs": [
    {
     "name": "stdout",
     "output_type": "stream",
     "text": [
      "Borrada colleción CurrentAccountCollection\n"
     ]
    }
   ],
   "source": [
    "#Borramos los valores actuales de la colección\n",
    "connection[\"tfm_mongo_database\"].CurrentAccountCollection.drop()\n",
    "print('Borrada colleción CurrentAccountCollection')"
   ]
  },
  {
   "cell_type": "code",
   "execution_count": 23,
   "metadata": {},
   "outputs": [
    {
     "data": {
      "text/plain": [
       "0"
      ]
     },
     "execution_count": 23,
     "metadata": {},
     "output_type": "execute_result"
    }
   ],
   "source": [
    "CurrentAccountCollection.count_documents({})"
   ]
  },
  {
   "cell_type": "code",
   "execution_count": 24,
   "metadata": {},
   "outputs": [],
   "source": [
    "registers_CurrentAccount = loadCollectionDataFrame(CurrentAccountCollection_df,CurrentAccountCollection)"
   ]
  },
  {
   "cell_type": "code",
   "execution_count": 25,
   "metadata": {},
   "outputs": [
    {
     "data": {
      "text/plain": [
       "1000000"
      ]
     },
     "execution_count": 25,
     "metadata": {},
     "output_type": "execute_result"
    }
   ],
   "source": [
    "CurrentAccountCollection.count_documents({})"
   ]
  },
  {
   "cell_type": "code",
   "execution_count": 26,
   "metadata": {},
   "outputs": [
    {
     "data": {
      "text/html": [
       "<div>\n",
       "<style scoped>\n",
       "    .dataframe tbody tr th:only-of-type {\n",
       "        vertical-align: middle;\n",
       "    }\n",
       "\n",
       "    .dataframe tbody tr th {\n",
       "        vertical-align: top;\n",
       "    }\n",
       "\n",
       "    .dataframe thead th {\n",
       "        text-align: right;\n",
       "    }\n",
       "</style>\n",
       "<table border=\"1\" class=\"dataframe\">\n",
       "  <thead>\n",
       "    <tr style=\"text-align: right;\">\n",
       "      <th></th>\n",
       "      <th>Registros</th>\n",
       "      <th>Tiempo</th>\n",
       "      <th>CPU</th>\n",
       "      <th>Memoria</th>\n",
       "    </tr>\n",
       "  </thead>\n",
       "  <tbody>\n",
       "    <tr>\n",
       "      <th>5712</th>\n",
       "      <td>5712000</td>\n",
       "      <td>0.004</td>\n",
       "      <td>75.0</td>\n",
       "      <td>63.5</td>\n",
       "    </tr>\n",
       "    <tr>\n",
       "      <th>5693</th>\n",
       "      <td>5693000</td>\n",
       "      <td>0.007</td>\n",
       "      <td>50.0</td>\n",
       "      <td>63.5</td>\n",
       "    </tr>\n",
       "    <tr>\n",
       "      <th>6665</th>\n",
       "      <td>6665000</td>\n",
       "      <td>0.002</td>\n",
       "      <td>50.0</td>\n",
       "      <td>63.4</td>\n",
       "    </tr>\n",
       "    <tr>\n",
       "      <th>7959</th>\n",
       "      <td>7959000</td>\n",
       "      <td>0.006</td>\n",
       "      <td>50.0</td>\n",
       "      <td>64.1</td>\n",
       "    </tr>\n",
       "    <tr>\n",
       "      <th>2768</th>\n",
       "      <td>2768000</td>\n",
       "      <td>0.004</td>\n",
       "      <td>33.3</td>\n",
       "      <td>60.6</td>\n",
       "    </tr>\n",
       "  </tbody>\n",
       "</table>\n",
       "</div>"
      ],
      "text/plain": [
       "      Registros  Tiempo   CPU  Memoria\n",
       "5712    5712000   0.004  75.0     63.5\n",
       "5693    5693000   0.007  50.0     63.5\n",
       "6665    6665000   0.002  50.0     63.4\n",
       "7959    7959000   0.006  50.0     64.1\n",
       "2768    2768000   0.004  33.3     60.6"
      ]
     },
     "execution_count": 26,
     "metadata": {},
     "output_type": "execute_result"
    }
   ],
   "source": [
    "data = registers_CurrentAccount\n",
    "results_CurrentAccount_df = pd.DataFrame(data, columns =['Registros', 'Tiempo', 'CPU','Memoria'])\n",
    "write_concerns = 3\n",
    "save_results_to_csv(results_CurrentAccount_df,resultados_etl_CurrentAccountCollection, write_concerns)\n",
    "results_CurrentAccount_df.sample(5)"
   ]
  },
  {
   "cell_type": "markdown",
   "metadata": {},
   "source": [
    "## PositionKeepingCollection ETL Load"
   ]
  },
  {
   "cell_type": "code",
   "execution_count": 27,
   "metadata": {},
   "outputs": [
    {
     "name": "stdout",
     "output_type": "stream",
     "text": [
      "Borrada colleción PositionKeepingCollection\n"
     ]
    }
   ],
   "source": [
    "#Borramos los valores actuales de la colección\n",
    "connection[\"tfm_mongo_database\"].PositionKeepingCollection.drop()\n",
    "print('Borrada colleción PositionKeepingCollection')"
   ]
  },
  {
   "cell_type": "code",
   "execution_count": 28,
   "metadata": {},
   "outputs": [
    {
     "data": {
      "text/plain": [
       "0"
      ]
     },
     "execution_count": 28,
     "metadata": {},
     "output_type": "execute_result"
    }
   ],
   "source": [
    "PositionKeepingCollection.count_documents({})"
   ]
  },
  {
   "cell_type": "code",
   "execution_count": 29,
   "metadata": {},
   "outputs": [],
   "source": [
    "registers_PositionKeeping = loadCollectionDataFrame(PositionKeepingCollection_df,PositionKeepingCollection)"
   ]
  },
  {
   "cell_type": "code",
   "execution_count": 30,
   "metadata": {},
   "outputs": [
    {
     "data": {
      "text/plain": [
       "1000000"
      ]
     },
     "execution_count": 30,
     "metadata": {},
     "output_type": "execute_result"
    }
   ],
   "source": [
    "PositionKeepingCollection.count_documents({})"
   ]
  },
  {
   "cell_type": "code",
   "execution_count": 31,
   "metadata": {},
   "outputs": [
    {
     "data": {
      "text/html": [
       "<div>\n",
       "<style scoped>\n",
       "    .dataframe tbody tr th:only-of-type {\n",
       "        vertical-align: middle;\n",
       "    }\n",
       "\n",
       "    .dataframe tbody tr th {\n",
       "        vertical-align: top;\n",
       "    }\n",
       "\n",
       "    .dataframe thead th {\n",
       "        text-align: right;\n",
       "    }\n",
       "</style>\n",
       "<table border=\"1\" class=\"dataframe\">\n",
       "  <thead>\n",
       "    <tr style=\"text-align: right;\">\n",
       "      <th></th>\n",
       "      <th>Registros</th>\n",
       "      <th>Tiempo</th>\n",
       "      <th>CPU</th>\n",
       "      <th>Memoria</th>\n",
       "    </tr>\n",
       "  </thead>\n",
       "  <tbody>\n",
       "    <tr>\n",
       "      <th>2390</th>\n",
       "      <td>2390000</td>\n",
       "      <td>0.005</td>\n",
       "      <td>0.0</td>\n",
       "      <td>67.1</td>\n",
       "    </tr>\n",
       "    <tr>\n",
       "      <th>2608</th>\n",
       "      <td>2608000</td>\n",
       "      <td>0.004</td>\n",
       "      <td>25.0</td>\n",
       "      <td>67.1</td>\n",
       "    </tr>\n",
       "    <tr>\n",
       "      <th>6421</th>\n",
       "      <td>6421000</td>\n",
       "      <td>0.003</td>\n",
       "      <td>33.3</td>\n",
       "      <td>69.8</td>\n",
       "    </tr>\n",
       "    <tr>\n",
       "      <th>984</th>\n",
       "      <td>984000</td>\n",
       "      <td>0.005</td>\n",
       "      <td>66.7</td>\n",
       "      <td>65.9</td>\n",
       "    </tr>\n",
       "    <tr>\n",
       "      <th>5843</th>\n",
       "      <td>5843000</td>\n",
       "      <td>0.003</td>\n",
       "      <td>0.0</td>\n",
       "      <td>69.8</td>\n",
       "    </tr>\n",
       "  </tbody>\n",
       "</table>\n",
       "</div>"
      ],
      "text/plain": [
       "      Registros  Tiempo   CPU  Memoria\n",
       "2390    2390000   0.005   0.0     67.1\n",
       "2608    2608000   0.004  25.0     67.1\n",
       "6421    6421000   0.003  33.3     69.8\n",
       "984      984000   0.005  66.7     65.9\n",
       "5843    5843000   0.003   0.0     69.8"
      ]
     },
     "execution_count": 31,
     "metadata": {},
     "output_type": "execute_result"
    }
   ],
   "source": [
    "data = registers_PositionKeeping\n",
    "results_pk_df = pd.DataFrame(data, columns =['Registros', 'Tiempo', 'CPU','Memoria'])\n",
    "write_concerns = 3\n",
    "save_results_to_csv(results_pk_df,resultados_etl_PositionKeepingCollection,write_concerns)\n",
    "results_pk_df.sample(5)"
   ]
  },
  {
   "cell_type": "markdown",
   "metadata": {},
   "source": [
    "## Metricas con Write Concern = 2 (2 nodos de replica inmediata)"
   ]
  },
  {
   "cell_type": "code",
   "execution_count": 32,
   "metadata": {},
   "outputs": [],
   "source": [
    "if(test_wc):\n",
    "    write_concerns = 2\n",
    "\n",
    "    #Conexion unica a colecciones\n",
    "    connection = MongoClient('localhost', 27017, w=write_concerns) #Conexion con WriteConcern a 3 (primario y dos nodos consolidados)\n",
    "\n",
    "    #Creamos una base de datos para el trabajo llamada TFM\n",
    "    tfm_mongo_db = connection[\"tfm_mongo_database\"]"
   ]
  },
  {
   "cell_type": "code",
   "execution_count": 33,
   "metadata": {},
   "outputs": [
    {
     "name": "stdout",
     "output_type": "stream",
     "text": [
      "Borrada colleción CustomerProfileCollection\n",
      "Borrada colleción CurrentAccountCollection\n",
      "Borrada colleción PositionKeepingCollection\n"
     ]
    }
   ],
   "source": [
    "if(test_wc):\n",
    "    #Borramos los valores actuales de la colección\n",
    "    connection[\"tfm_mongo_database\"].CustomerProfileCollection.drop()\n",
    "    print('Borrada colleción CustomerProfileCollection')\n",
    "    connection[\"tfm_mongo_database\"].CurrentAccountCollection.drop()\n",
    "    print('Borrada colleción CurrentAccountCollection')\n",
    "    connection[\"tfm_mongo_database\"].PositionKeepingCollection.drop()\n",
    "    print('Borrada colleción PositionKeepingCollection')"
   ]
  },
  {
   "cell_type": "code",
   "execution_count": 34,
   "metadata": {},
   "outputs": [],
   "source": [
    "if(test_wc):\n",
    "    registers = loadCollectionDataFrame(CustomerProfileCollection_df,CustomerProfileCollection)\n",
    "    data = registers\n",
    "    results_df = pd.DataFrame(data, columns =['Registros', 'Tiempo', 'CPU','Memoria'])\n",
    "    save_results_to_csv(results_df,resultados_etl_CutomerProfileCollection, write_concerns)"
   ]
  },
  {
   "cell_type": "code",
   "execution_count": 35,
   "metadata": {},
   "outputs": [],
   "source": [
    "if(test_wc):\n",
    "    registers = loadCollectionDataFrame(CurrentAccountCollection_df,CurrentAccountCollection)\n",
    "    data = registers\n",
    "    results_df = pd.DataFrame(data, columns =['Registros', 'Tiempo', 'CPU','Memoria'])\n",
    "    save_results_to_csv(results_df,resultados_etl_CurrentAccountCollection, write_concerns)"
   ]
  },
  {
   "cell_type": "code",
   "execution_count": 36,
   "metadata": {},
   "outputs": [],
   "source": [
    "if(test_wc):\n",
    "    registers = loadCollectionDataFrame(PositionKeepingCollection_df,PositionKeepingCollection)\n",
    "    data = registers\n",
    "    results_df = pd.DataFrame(data, columns =['Registros', 'Tiempo', 'CPU','Memoria'])\n",
    "    save_results_to_csv(results_df,resultados_etl_PositionKeepingCollection, write_concerns)"
   ]
  },
  {
   "cell_type": "markdown",
   "metadata": {},
   "source": [
    "##  Metricas con Write Concern = 1 (sin replica inmediata)\n"
   ]
  },
  {
   "cell_type": "code",
   "execution_count": 37,
   "metadata": {},
   "outputs": [],
   "source": [
    "if(test_wc):\n",
    "    write_concerns = 1\n",
    "\n",
    "    #Conexion unica a colecciones\n",
    "    connection = MongoClient('localhost', 27017, w=write_concerns) #Conexion con WriteConcern a 3 (primario y dos nodos consolidados)\n",
    "\n",
    "    #Creamos una base de datos para el trabajo llamada TFM\n",
    "    tfm_mongo_db = connection[\"tfm_mongo_database\"]"
   ]
  },
  {
   "cell_type": "code",
   "execution_count": 38,
   "metadata": {},
   "outputs": [
    {
     "name": "stdout",
     "output_type": "stream",
     "text": [
      "Borrada colleción CustomerProfileCollection\n",
      "Borrada colleción CurrentAccountCollection\n",
      "Borrada colleción PositionKeepingCollection\n"
     ]
    }
   ],
   "source": [
    "if(test_wc):\n",
    "    #Borramos los valores actuales de la colección\n",
    "    connection[\"tfm_mongo_database\"].CustomerProfileCollection.drop()\n",
    "    print('Borrada colleción CustomerProfileCollection')\n",
    "    connection[\"tfm_mongo_database\"].CurrentAccountCollection.drop()\n",
    "    print('Borrada colleción CurrentAccountCollection')\n",
    "    connection[\"tfm_mongo_database\"].PositionKeepingCollection.drop()\n",
    "    print('Borrada colleción PositionKeepingCollection')"
   ]
  },
  {
   "cell_type": "code",
   "execution_count": 39,
   "metadata": {},
   "outputs": [],
   "source": [
    "if(test_wc):\n",
    "    registers = loadCollectionDataFrame(CustomerProfileCollection_df,CustomerProfileCollection)\n",
    "    data = registers\n",
    "    results_df = pd.DataFrame(data, columns =['Registros', 'Tiempo', 'CPU','Memoria'])\n",
    "    save_results_to_csv(results_df,resultados_etl_CutomerProfileCollection, write_concerns)"
   ]
  },
  {
   "cell_type": "code",
   "execution_count": 40,
   "metadata": {},
   "outputs": [],
   "source": [
    "if(test_wc):\n",
    "    registers = loadCollectionDataFrame(CurrentAccountCollection_df,CurrentAccountCollection)\n",
    "    data = registers\n",
    "    results_df = pd.DataFrame(data, columns =['Registros', 'Tiempo', 'CPU','Memoria'])\n",
    "    save_results_to_csv(results_df,resultados_etl_CurrentAccountCollection, write_concerns)"
   ]
  },
  {
   "cell_type": "code",
   "execution_count": 41,
   "metadata": {},
   "outputs": [],
   "source": [
    "if(test_wc):\n",
    "    registers = loadCollectionDataFrame(PositionKeepingCollection_df,PositionKeepingCollection)\n",
    "    data = registers\n",
    "    results_df = pd.DataFrame(data, columns =['Registros', 'Tiempo', 'CPU','Memoria'])\n",
    "    save_results_to_csv(results_df,resultados_etl_PositionKeepingCollection, write_concerns)"
   ]
  },
  {
   "cell_type": "code",
   "execution_count": 42,
   "metadata": {},
   "outputs": [],
   "source": [
    "#Cierre de la conexion\n",
    "connection.close()"
   ]
  }
 ],
 "metadata": {
  "kernelspec": {
   "display_name": "Python 3",
   "language": "python",
   "name": "python3"
  },
  "language_info": {
   "codemirror_mode": {
    "name": "ipython",
    "version": 3
   },
   "file_extension": ".py",
   "mimetype": "text/x-python",
   "name": "python",
   "nbconvert_exporter": "python",
   "pygments_lexer": "ipython3",
   "version": "3.7.6"
  }
 },
 "nbformat": 4,
 "nbformat_minor": 4
}
