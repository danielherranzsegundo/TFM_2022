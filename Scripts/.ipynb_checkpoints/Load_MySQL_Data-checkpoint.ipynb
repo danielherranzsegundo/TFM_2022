{
 "cells": [
  {
   "cell_type": "markdown",
   "metadata": {},
   "source": [
    "Script de carga datos MySQL en cluster con Mongo"
   ]
  },
  {
   "cell_type": "code",
   "execution_count": 1,
   "metadata": {},
   "outputs": [
    {
     "name": "stdout",
     "output_type": "stream",
     "text": [
      "Requirement already satisfied: mysql-connector==2.1.7 in /home/danielherranzsegundo/anaconda3/lib/python3.7/site-packages (2.1.7)\n",
      "Requirement already satisfied: pandas in /home/danielherranzsegundo/anaconda3/lib/python3.7/site-packages (1.0.1)\n",
      "Requirement already satisfied: python-dateutil>=2.6.1 in /home/danielherranzsegundo/anaconda3/lib/python3.7/site-packages (from pandas) (2.8.1)\n",
      "Requirement already satisfied: pytz>=2017.2 in /home/danielherranzsegundo/anaconda3/lib/python3.7/site-packages (from pandas) (2019.3)\n",
      "Requirement already satisfied: numpy>=1.13.3 in /home/danielherranzsegundo/anaconda3/lib/python3.7/site-packages (from pandas) (1.18.1)\n",
      "Requirement already satisfied: six>=1.5 in /home/danielherranzsegundo/anaconda3/lib/python3.7/site-packages (from python-dateutil>=2.6.1->pandas) (1.14.0)\n",
      "Requirement already satisfied: sqlalchemy in /home/danielherranzsegundo/anaconda3/lib/python3.7/site-packages (1.3.13)\n",
      "Requirement already satisfied: mysqlclient in /home/danielherranzsegundo/anaconda3/lib/python3.7/site-packages (2.1.0)\n",
      "Requirement already satisfied: numpy in /home/danielherranzsegundo/anaconda3/lib/python3.7/site-packages (1.18.1)\n",
      "Requirement already satisfied: pymysql in /home/danielherranzsegundo/anaconda3/lib/python3.7/site-packages (1.0.2)\n"
     ]
    }
   ],
   "source": [
    "!pip install mysql-connector==2.1.7\n",
    "!pip install pandas\n",
    "!pip install sqlalchemy\n",
    "#requiere instalación adicional, consultar https://github.com/PyMySQL/mysqlclient\n",
    "!pip install mysqlclient\n",
    "!pip install numpy\n",
    "!pip install pymysql"
   ]
  },
  {
   "cell_type": "code",
   "execution_count": 2,
   "metadata": {},
   "outputs": [],
   "source": [
    "import mysql.connector\n",
    "from mysql.connector import Error\n",
    "import pandas as pd\n",
    "import numpy as np\n",
    "import sqlalchemy\n",
    "import time\n",
    "import matplotlib.pyplot as plt\n",
    "import psutil\n",
    "import random\n",
    "\n",
    "from mysql.connector.cursor import MySQLCursor"
   ]
  },
  {
   "cell_type": "code",
   "execution_count": 3,
   "metadata": {},
   "outputs": [],
   "source": [
    "#Los resultados de medidas de tiempo en carga por dominios se almacenan en estos objetos.\n",
    "#Se itera durante \"repeticiones\" o iteraciones para sacar medias\n",
    "repeats = 100 #100 = 1M de registros"
   ]
  },
  {
   "cell_type": "code",
   "execution_count": 4,
   "metadata": {},
   "outputs": [],
   "source": [
    "#Ficheros de salida\n",
    "resultados_etl_CutomerProfileSchema = '../Results/MySQL/MySQLCustomerProfileSchema_{}.csv'\n",
    "resultados_etl_PositionKeepingSchema = '../Results/MySQL/MySQLresultsPositionKeepingSchema_{}.csv'\n",
    "resultados_etl_CurrentAccountSchema = '../Results/MySQL/MySQLCurrentAccountSchema_{}.csv'"
   ]
  },
  {
   "cell_type": "code",
   "execution_count": 5,
   "metadata": {},
   "outputs": [],
   "source": [
    "def save_results_to_csv(results,file):\n",
    "    #Guardamos los resultados en csv\n",
    "    from datetime import datetime\n",
    "    dia = datetime.now().strftime(\"%d%m%Y_%H_%M_%S\") \n",
    "    data = results\n",
    "    results_df = pd.DataFrame(data, columns =['Registros', 'Tiempo', 'CPU','Memoria'])\n",
    "    results.to_csv(file.format(write_concerns, str(dia)))\n"
   ]
  },
  {
   "cell_type": "code",
   "execution_count": 6,
   "metadata": {},
   "outputs": [],
   "source": [
    "#Borrado de la tabla antes de carga \n",
    "def prepare_table_for_load(entity):\n",
    "    cursor = conn.cursor\n",
    "    alter_table_q = 'ALTER TABLE {} AUTO_INCREMENT=0'.format(entity)\n",
    "    delete_table_q = 'DELETE FROM {}'.format(entity)\n",
    "    cursor.execute(alter_table_q)\n",
    "    cursor.execute(delete_table_q)\n",
    "    conn.commit()"
   ]
  },
  {
   "cell_type": "code",
   "execution_count": 7,
   "metadata": {},
   "outputs": [],
   "source": [
    "#Deshabilitar y habilitar Foreing key (cargas masivas)\n",
    "def set_foreing_key_mysql_value(value):\n",
    "    cursor = conn.cursor()\n",
    "    cursor.execute('SET foreign_key_checks = {}'.format(value))\n",
    "    cursor.close()"
   ]
  },
  {
   "cell_type": "code",
   "execution_count": null,
   "metadata": {},
   "outputs": [],
   "source": [
    "conn = mysql.connector.connect(host='localhost',\n",
    "                                    port=6446,\n",
    "                                    database='CustomerProfileDomainSchema',\n",
    "                                    user='root',                                       \n",
    "                                    password='mysql')\n",
    "if conn.is_connected():\n",
    "        conn.autocommit = False #Apenas se observa diferencia de rendimiento\n",
    "        print('Connected to MySQL database')\n",
    "    \n",
    "cursor = conn.cursor()  \n",
    "    \n",
    "def connection_open():\n",
    "   \n",
    "    #InnoDB Cluster\n",
    "    conn = mysql.connector.connect(host='localhost',\n",
    "                                    port=6446,\n",
    "                                    database='CustomerProfileDomainSchema',\n",
    "                                    user='root',                                       \n",
    "                                    password='mysql')\n",
    "\n",
    "\n",
    "    if conn.is_connected():\n",
    "        conn.autocommit = False #Apenas se observa diferencia de rendimiento\n",
    "        print('Connected to MySQL database')\n",
    "    \n",
    "    cursor = conn.cursor()  "
   ]
  },
  {
   "cell_type": "markdown",
   "metadata": {},
   "source": [
    "# CustomerProfileDomainSchema"
   ]
  },
  {
   "cell_type": "code",
   "execution_count": null,
   "metadata": {},
   "outputs": [],
   "source": [
    "cursor = conn.cursor(buffered=True)\n",
    "cursor.execute('set global group_replication_transaction_size_limit = 300000000;')\n",
    "cursor.close()"
   ]
  },
  {
   "cell_type": "code",
   "execution_count": null,
   "metadata": {},
   "outputs": [],
   "source": [
    "CustomerProfile_csv_file = \"../MockData/CustomerProfile.csv\"\n",
    "Address_csv_file = \"../MockData/Address.csv\"\n",
    "Country_csv_file = \"../MockData/Country.csv\""
   ]
  },
  {
   "cell_type": "code",
   "execution_count": null,
   "metadata": {},
   "outputs": [],
   "source": [
    "Country_df = pd.read_csv(Country_csv_file, header=[0])\n",
    "Country_df['Code'] = Country_df[\"Code\"]\n",
    "Country_df"
   ]
  },
  {
   "cell_type": "code",
   "execution_count": null,
   "metadata": {},
   "outputs": [],
   "source": [
    "#TRATAMIENTO ENTIDAD ADDRESS\n",
    "Address_df = pd.read_csv(Address_csv_file, header=[0])\n",
    "\n",
    "del(Address_df['Unnamed: 9'])\n",
    "Address_df['AddressType'] = Address_df[\"AddressType\"].str[:3]\n",
    "CountrySubDivisionList=['abc','def','hig']\n",
    "Address_df['CountrySubDivision'] = np.resize(CountrySubDivisionList,len(Address_df))\n",
    "\n",
    "Address_df['PostCode'] = Address_df['PostCode'].astype('string')\n",
    "Address_df['CountrySubDivision'] = Address_df['CountrySubDivision'].astype('string')\n",
    "\n",
    "#Generamos una función mas de 1M de registros basados en registros anteriores\n",
    "def generate_new_values_by_samples(df,rango):\n",
    "    for x in range(rango):\n",
    "        df = df.append(df.sample(frac=0.50,replace = False))\n",
    "    return df\n",
    "\n",
    "\n",
    "Address_df = generate_new_values_by_samples(Address_df,9)\n",
    "\n",
    "print(len(Address_df))\n",
    "Address_df.sample(1)"
   ]
  },
  {
   "cell_type": "code",
   "execution_count": null,
   "metadata": {},
   "outputs": [],
   "source": [
    "#TRATAMIENTO ENTIDAD CUSTOMER PROFILE\n",
    "\n",
    "CustomerProfile_df = pd.read_csv(CustomerProfile_csv_file, header=[0])\n",
    "\n",
    "#Indexado PartyId para mejor legibilidad\n",
    "CustomerProfile_df['PartyId'].reset_index()\n",
    "CustomerProfile_df['PartyId'] = CustomerProfile_df.index\n",
    "CustomerProfile_df[CustomerProfile_df.columns[pd.Series(CustomerProfile_df.columns).str.startswith('Unnamed:')]]\n",
    "\n",
    "#Limpieza de datos. Eliminamos el apostrofe del campo AccountRole y PartyType\n",
    "CustomerProfile_df['AccountRole'] = CustomerProfile_df['AccountRole'].str.replace(\"'\",'')\n",
    "CustomerProfile_df['PartyType'] = CustomerProfile_df['PartyType'].str.replace(\"'\",'')\n",
    "\n",
    "#Phone y PArtyData debe ser truncado (error generacion FillDB)\n",
    "CustomerProfile_df['Phone'] = CustomerProfile_df[\"Phone\"].str[:10]\n",
    "CustomerProfile_df['PartyType'] = CustomerProfile_df[\"PartyType\"].str[:2]\n",
    "BeneficialOwnerShipValues=[1,2,3,4,5,6,7]\n",
    "CustomerProfile_df['BeneficialOwnership'] = np.resize(BeneficialOwnerShipValues,len(CustomerProfile_df))\n",
    "\n",
    "print(len(CustomerProfile_df))\n",
    "CustomerProfile_df.sample(1)"
   ]
  },
  {
   "cell_type": "markdown",
   "metadata": {},
   "source": [
    "## ETL entidad country"
   ]
  },
  {
   "cell_type": "code",
   "execution_count": null,
   "metadata": {},
   "outputs": [],
   "source": [
    "Country_ETL_times = []"
   ]
  },
  {
   "cell_type": "code",
   "execution_count": null,
   "metadata": {},
   "outputs": [],
   "source": [
    "Country_Insert_query = 'INSERT INTO Country(ShortName,Description,Code) VALUES(%s, %s, %s)'\n",
    "\n",
    "def load_country():\n",
    "    time_inicial = time.time()\n",
    "    for i,row in Country_df.iterrows():\n",
    "        cursor = conn.cursor()\n",
    "        cursor.execute(Country_Insert_query,(row[1],row[2],row[3])) \n",
    "        cursor.close()\n",
    "    time_final = time.time()\n",
    "    Country_ETL_times.append(time_final - time_inicial)\n",
    "    conn.commit() \n",
    "    return Country_ETL_times "
   ]
  },
  {
   "cell_type": "code",
   "execution_count": null,
   "metadata": {},
   "outputs": [],
   "source": [
    "cursor = conn.cursor()\n",
    "alter_table_q = \"\"\"ALTER TABLE Country AUTO_INCREMENT=0\"\"\"\n",
    "delete_table_q = \"\"\"DELETE FROM Country\"\"\"\n",
    "cursor.execute(alter_table_q)\n",
    "cursor.execute(delete_table_q)\n",
    "conn.commit()"
   ]
  },
  {
   "cell_type": "code",
   "execution_count": null,
   "metadata": {},
   "outputs": [],
   "source": [
    "cursor = conn.cursor()  \n",
    "load_country()\n",
    "conn.commit()"
   ]
  },
  {
   "cell_type": "code",
   "execution_count": null,
   "metadata": {},
   "outputs": [],
   "source": [
    "print(\"MAX:\" , max(Country_ETL_times), 'seg')\n",
    "print(\"MIN:\" , min(Country_ETL_times), 'seg')\n",
    "print(\"AVG:\" , np.average(Country_ETL_times), 'seg')"
   ]
  },
  {
   "cell_type": "markdown",
   "metadata": {},
   "source": [
    "## ETL entidad CustomerProfile"
   ]
  },
  {
   "cell_type": "code",
   "execution_count": null,
   "metadata": {},
   "outputs": [],
   "source": [
    "CoustomerProfile_ETL_times = []"
   ]
  },
  {
   "cell_type": "code",
   "execution_count": null,
   "metadata": {},
   "outputs": [],
   "source": [
    "#Preparamos un dataset solo con los values a cargar en la insercción\n",
    "CustomerProfile_sql_df = CustomerProfile_df[['PartyId','PartyNumber', 'PartyType', 'Name', 'FullLegalName','LegalStructure', 'BeneficialOwnership', 'AccountRole', 'EmailAddress','Phone']]\n",
    "CustomerProfile_df.reset_index(drop=True, inplace=True)"
   ]
  },
  {
   "cell_type": "markdown",
   "metadata": {},
   "source": [
    "## ETL entidad Address"
   ]
  },
  {
   "cell_type": "code",
   "execution_count": null,
   "metadata": {},
   "outputs": [],
   "source": [
    "Address_ETL_times = []"
   ]
  },
  {
   "cell_type": "code",
   "execution_count": null,
   "metadata": {},
   "outputs": [],
   "source": [
    "Address_df.columns"
   ]
  },
  {
   "cell_type": "code",
   "execution_count": null,
   "metadata": {},
   "outputs": [],
   "source": [
    "Address_sql_df = Address_df[['PartyId', 'AddressType', 'AddressLine', 'StreetName', 'BuildingNumber',       'PostCode', 'TownName', 'CountrySubDivision', 'CountryId']]\n",
    "Address_sql_df.reset_index(drop=True, inplace=True)\n",
    "Address_sql_df.to_records()\n",
    "Address_sql_df.columns"
   ]
  },
  {
   "cell_type": "markdown",
   "metadata": {},
   "source": [
    "# Batch dominio CustomerProfile Load"
   ]
  },
  {
   "cell_type": "code",
   "execution_count": null,
   "metadata": {},
   "outputs": [],
   "source": [
    "set_foreing_key_mysql_value(0)\n",
    "print(\"Desabilitadas las comprobaciones de foreing key (simulacion batch)\")"
   ]
  },
  {
   "cell_type": "code",
   "execution_count": null,
   "metadata": {},
   "outputs": [],
   "source": [
    "#Borramos las tablas para proceder a la carga\n",
    "cursor = conn.cursor()\n",
    "cursor.execute('ALTER TABLE CustomerProfileDomainSchema.Address AUTO_INCREMENT=0')\n",
    "conn.commit()\n",
    "cursor.execute('DELETE FROM CustomerProfileDomainSchema.Address')\n",
    "conn.commit()\n",
    "cursor.execute('ALTER TABLE CustomerProfileDomainSchema.CustomerProfile AUTO_INCREMENT=0')\n",
    "conn.commit()\n",
    "cursor.execute('DELETE FROM CustomerProfileDomainSchema.CustomerProfile')\n",
    "conn.commit()\n",
    "cursor.close()"
   ]
  },
  {
   "cell_type": "code",
   "execution_count": null,
   "metadata": {},
   "outputs": [],
   "source": [
    "#Resultados transaccion batch de CurrentDomainSchema\n",
    "Total_CurrentDomainSchema = []\n",
    "\n",
    "insert_query_customer = \"\"\"INSERT INTO CustomerProfile(PartyNumber,PartyType,Name,FullLegalName,LegalStructure,BeneficialOwnership,AccountRole,EmailAddress,Phone) VALUES(\"%s\", \"%s\", \"%s\", \"%s\", \"%s\", \"%s\", \"%s\", \"%s\", \"%s\")\"\"\"\n",
    "insert_query_address = \"\"\"INSERT INTO Address (PartyId, AddressType, AddressLine, StreetName, BuildingNumber, PostCode, TownName, CountrySubDivision, CountryId) VALUES (%s, %s, %s, %s, %s, %s, %s, %s, %s)\"\"\"\n",
    "\n",
    "registers = []\n",
    "trx_solo = []\n",
    "total_time = 0\n",
    "Address_inserted = 0\n",
    "time_inicial = time.time()\n",
    "\n",
    "for iteracion in range(0,repeats): #1 millones de registros\n",
    "    for i,row in CustomerProfile_df.iterrows():        \n",
    "        #Obtenemos 1 a 3 direcciones al azar\n",
    "        Address_rd_df = Address_df.sample(random.choice(range(1,3)))               \n",
    "        #Guardamos el cliente\n",
    "        trx_inicio = time.time()\n",
    "        cursor = conn.cursor()\n",
    "        cursor.execute(insert_query_customer,(row[1],row[2],row[3],row[4],row[5],row[6],row[7],row[8],row[9])) \n",
    "        cursor.close()\n",
    "        for j,rowAddress in Address_rd_df.iterrows():            \n",
    "            #Por cada cliente guardamos 1-3 direcciones al azar\n",
    "            cursor = conn.cursor()\n",
    "            cursor.execute(insert_query_address,(rowAddress[0],rowAddress[1],rowAddress[2],rowAddress[3],rowAddress[4],rowAddress[5],rowAddress[6],rowAddress[7],rowAddress[8]))\n",
    "            cursor.close()\n",
    "            Address_inserted = Address_inserted + 1\n",
    "        trx_parcial = time.time()-trx_inicio\n",
    "        trx_solo.append(trx_parcial)\n",
    "        if(i % 1000 == 0 and i > 0):\n",
    "            conn.commit()\n",
    "            used_cpu = psutil.cpu_percent()\n",
    "            mem_used = psutil.virtual_memory().percent\n",
    "            # Tupla con numero de registros, tiempo parcial de la transacción y tiempo acumulado de trxs\n",
    "            total_time = total_time + trx_parcial # Acumulamos el parcial\n",
    "            registers.append(((i + (len(CustomerProfile_df) * iteracion)),total_time * 1000,used_cpu, mem_used ))       \n",
    "total_time_final = time.time() - time_inicial           \n",
    "conn.commit() # Final y salida"
   ]
  },
  {
   "cell_type": "code",
   "execution_count": null,
   "metadata": {},
   "outputs": [],
   "source": [
    "set_foreing_key_mysql_value(1)\n",
    "print(\"Habilitadas las comprobaciones de foreing key\")"
   ]
  },
  {
   "cell_type": "code",
   "execution_count": null,
   "metadata": {},
   "outputs": [],
   "source": [
    "#Guardamos los resultados Customer Profile\n",
    "save_results_to_csv(registers,resultados_etl_CutomerProfileSchema)"
   ]
  },
  {
   "cell_type": "code",
   "execution_count": null,
   "metadata": {
    "scrolled": true
   },
   "outputs": [],
   "source": [
    "plt.plot(*zip(*registers))\n",
    "plt.title(\"MySQL # ETL CustomerProfileDomainSchema#\")\n",
    "plt.xlabel(\"Insercciones\")\n",
    "plt.ylabel(\"Tiempo(s)\")\n",
    "plt.axhline(round(np.average(trx_solo)*100,2), color='r', linestyle='--',label='Media ejecución Trx.')\n",
    "plt.show()"
   ]
  },
  {
   "cell_type": "markdown",
   "metadata": {},
   "source": [
    " _________________________________________________________________"
   ]
  },
  {
   "cell_type": "markdown",
   "metadata": {},
   "source": [
    "# Batch dominio CurrentAccountDomainSchema Load"
   ]
  },
  {
   "cell_type": "code",
   "execution_count": null,
   "metadata": {},
   "outputs": [],
   "source": [
    "CurrentAccount_csv_file = \"../MockData/CurrentAccount.csv\"\n",
    "AccountInfo_csv_file = \"../MockData/AccountInfo.csv\""
   ]
  },
  {
   "cell_type": "code",
   "execution_count": null,
   "metadata": {},
   "outputs": [],
   "source": [
    "CurrentAccount_df = pd.read_csv(CurrentAccount_csv_file, header=[0])\n",
    "del(CurrentAccount_df['Unnamed: 8'])\n",
    "CurrentAccount_df['Status'] = CurrentAccount_df['Status'].str.replace(\"'\",'')\n",
    "CurrentAccount_df['AccountType'] = CurrentAccount_df['AccountType'].str.replace(\"'\",'')\n",
    "CurrentAccount_df['AccountSubType'] = CurrentAccount_df['AccountSubType'].str.replace(\"'\",'')\n",
    "CurrentAccount_df.sample(1)"
   ]
  },
  {
   "cell_type": "code",
   "execution_count": null,
   "metadata": {},
   "outputs": [],
   "source": [
    "AccountInfo_df = pd.read_csv(AccountInfo_csv_file, header=[0])\n",
    "del(AccountInfo_df['Unnamed: 5'])\n",
    "AccountInfo_df['SchemeName'] = AccountInfo_df['SchemeName'].str.replace(\"'\",'')\n",
    "SchemeNameList=['ES.OBIE.SortCodeAccountNumber','UK.OBIE.ExternalccountNumber','ES.OBIE.ExternalAccountNumber']\n",
    "AccountInfo_df['SchemeName'] = np.resize(SchemeNameList,len(AccountInfo_df))\n",
    "\n",
    "IdentificationList=['Investment','Money Market','Mortgage','Loan']\n",
    "AccountInfo_df['Identification'] = np.resize(IdentificationList,len(AccountInfo_df))\n",
    "\n",
    "AccountInfo_df.sample(5)"
   ]
  },
  {
   "cell_type": "code",
   "execution_count": null,
   "metadata": {},
   "outputs": [],
   "source": [
    "#Borramos las tablas para proceder a la carga\n",
    "cursor = conn.cursor()\n",
    "cursor.execute('ALTER TABLE CurrentAccountDomainSchema.CurrentAccount AUTO_INCREMENT=0')\n",
    "cursor.execute('DELETE FROM CurrentAccountDomainSchema.CurrentAccount')\n",
    "cursor.execute('ALTER TABLE CurrentAccountDomainSchema.CurrentAccount ALTER AccountId SET DEFAULT 0')\n",
    "cursor.execute('ALTER TABLE CurrentAccountDomainSchema.AccountInfo AUTO_INCREMENT=0')\n",
    "cursor.execute('DELETE FROM CurrentAccountDomainSchema.AccountInfo')\n",
    "cursor.close()\n",
    "conn.commit()"
   ]
  },
  {
   "cell_type": "code",
   "execution_count": null,
   "metadata": {},
   "outputs": [],
   "source": [
    "set_foreing_key_mysql_value(0)\n",
    "print(\"Desabilitadas las comprobaciones de foreing key (simulacion batch)\")"
   ]
  },
  {
   "cell_type": "code",
   "execution_count": null,
   "metadata": {},
   "outputs": [],
   "source": [
    "#Resultados transaccion batch de CurrentAccountDomainSchema\n",
    "Total_AccountDomainSchema = []\n",
    "\n",
    "insert_query_accounts = \"\"\"INSERT INTO CurrentAccountDomainSchema.CurrentAccount (PartyId, Status, StatusUpdateDateTime, AccountType, NickName, OpeningDate, AccountSubType) VALUES (%s, %s, %s, %s, %s, %s, %s)\"\"\"\n",
    "insert_query_info = \"\"\"INSERT INTO CurrentAccountDomainSchema.AccountInfo (AccountId, SchemeName, Identification, Name) VALUES (%s, %s, %s, %s)\"\"\"\n",
    "\n",
    "registers = []\n",
    "trx_solo = []\n",
    "total_time = 0\n",
    "Info_inserted = 0\n",
    "time_inicial = time.time()\n",
    "\n",
    "for iteracion in range(0,repeats): #1 millones de registros\n",
    "    for i,row in CurrentAccount_df.iterrows():        \n",
    "        cursor = conn.cursor()\n",
    "        #Obtenemos 1 a 3 infoAccounts\n",
    "        Info_rd_df = AccountInfo_df.sample(random.choice(range(1,3)))               \n",
    "        #Guardamos el cliente\n",
    "        trx_inicio = time.time()\n",
    "        cursor.execute(insert_query_accounts,(row[1],row[2],row[3],row[4],row[5],row[6],row[7]))\n",
    "        for j,rowInfo in Info_rd_df.iterrows():  \n",
    "            #Por cada cliente guardamos 1-3 direcciones al azar\n",
    "            cursor.execute(insert_query_info,(rowInfo[1],rowInfo[2],rowInfo[3],rowInfo[4]))\n",
    "            Address_inserted = Info_inserted + 1\n",
    "        cursor.close()\n",
    "        trx_parcial = time.time()-trx_inicio\n",
    "        trx_solo.append(trx_parcial)\n",
    "        if(i % 1000 == 0 and i > 0):\n",
    "            conn.commit()\n",
    "            used_cpu = psutil.cpu_percent()\n",
    "            mem_used = psutil.virtual_memory().percent\n",
    "            # Tupla con numero de registros, tiempo parcial de la transacción y tiempo acumulado de trxs\n",
    "            total_time = total_time + trx_parcial # Acumulamos el parcial\n",
    "            registers.append(((i + (len(CurrentAccount_df) * iteracion)),total_time * 1000,used_cpu,mem_used ))       \n",
    "total_time_final = time.time() - time_inicial           \n",
    "conn.commit() # Final y salida"
   ]
  },
  {
   "cell_type": "code",
   "execution_count": null,
   "metadata": {},
   "outputs": [],
   "source": [
    "set_foreing_key_mysql_value(1)\n",
    "print(\"Habilitadas las comprobaciones de foreing key\")"
   ]
  },
  {
   "cell_type": "code",
   "execution_count": null,
   "metadata": {},
   "outputs": [],
   "source": [
    "## Tratamiento de resultados\n",
    "results_AccountDomainSchema = list(zip(*registers))\n",
    "print(\"ROWS INSERTED:\", len(CurrentAccount_df) + Address_inserted, ' Total rows')\n",
    "print(\"TOTAL TIME:\" , round(total_time_final,2), 'seg')\n",
    "print(\"MAX:\" , round(max(trx_solo)*100,2), 'seg')\n",
    "print(\"MIN:\" , round(min(trx_solo)*100,2), 'seg')\n",
    "print(\"AVG:\" , round(np.average(trx_solo)*100,2), 'seg')"
   ]
  },
  {
   "cell_type": "code",
   "execution_count": null,
   "metadata": {},
   "outputs": [],
   "source": [
    "plt.plot(*zip(*registers))\n",
    "plt.title(\"MySQL # ETL CurrentAccountDomainSchema\")\n",
    "plt.xlabel(\"Insercciones\")\n",
    "plt.ylabel(\"Tiempo(s)\")\n",
    "plt.axhline(np.average(results_AccountDomainSchema[1]), color='r', linestyle='--',label='Media ejecución Trx.')\n",
    "plt.show()"
   ]
  },
  {
   "cell_type": "code",
   "execution_count": null,
   "metadata": {},
   "outputs": [],
   "source": [
    "#Guardamos los resultados Customer Profile\n",
    "save_results_to_csv(registers,resultados_etl_CurrentAccountSchema)"
   ]
  },
  {
   "cell_type": "markdown",
   "metadata": {},
   "source": [
    " _________________________________________________________________"
   ]
  },
  {
   "cell_type": "markdown",
   "metadata": {},
   "source": [
    "# Batch dominio PositionKeepingDomainSchema Load"
   ]
  },
  {
   "cell_type": "code",
   "execution_count": null,
   "metadata": {},
   "outputs": [],
   "source": [
    "Currency_csv_file = \"../MockData/Currency.csv\"\n",
    "PositionKeeping_csv_file = \"../MockData/PositionKeeping.csv\"\n",
    "CreditLine_csv_file = \"../MockData/CreditLine.csv\"\n",
    "Amount_csv_file = \"../MockData/Amount.csv\""
   ]
  },
  {
   "cell_type": "code",
   "execution_count": null,
   "metadata": {},
   "outputs": [],
   "source": [
    "Currency_df = pd.read_csv(Currency_csv_file, header=[0])\n",
    "del(Currency_df['Unnamed: 3'])\n",
    "Currency_df.sample(1)"
   ]
  },
  {
   "cell_type": "code",
   "execution_count": null,
   "metadata": {},
   "outputs": [],
   "source": [
    "#Credit line\n",
    "CreditLine_df = pd.read_csv(CreditLine_csv_file, header=[0])\n",
    "CreditLine_df.sample(1)"
   ]
  },
  {
   "cell_type": "code",
   "execution_count": null,
   "metadata": {},
   "outputs": [],
   "source": [
    "# Debito (Amount)\n",
    "Amount_df = pd.read_csv(Amount_csv_file, header=[0])\n",
    "del(Amount_df['Unnamed: 3'])\n",
    "Amount_df['Amount'] = Amount_df['Amount'].astype('int')\n",
    "Amount_df.sample(1)"
   ]
  },
  {
   "cell_type": "code",
   "execution_count": null,
   "metadata": {},
   "outputs": [],
   "source": [
    "PositionKeeping_df = pd.read_csv(PositionKeeping_csv_file, header=[0])\n",
    "del(PositionKeeping_df['Unnamed: 6'])\n",
    "PositionKeeping_df['CreditDebitIndicator'] = PositionKeeping_df['CreditDebitIndicator'].str.replace(\"'\",'')\n",
    "PositionKeeping_df['Type'] = PositionKeeping_df['Type'].str.replace(\"'\",'')\n",
    "PositionKeeping_df.sample(1)"
   ]
  },
  {
   "cell_type": "code",
   "execution_count": null,
   "metadata": {},
   "outputs": [],
   "source": [
    "del(CreditLine_df['Unnamed: 5'])\n",
    "CreditLine_df['Type'] = CreditLine_df['Type'].str.replace(\"'\",'')\n",
    "CreditLine_df.sample(1)"
   ]
  },
  {
   "cell_type": "code",
   "execution_count": null,
   "metadata": {},
   "outputs": [],
   "source": [
    "#Borramos las tablas para proceder a la carga\n",
    "cursor = conn.cursor()\n",
    "cursor.execute('ALTER TABLE PositionKeepingDomainSchema.Currency AUTO_INCREMENT=0')\n",
    "cursor.execute('DELETE FROM PositionKeepingDomainSchema.Currency')\n",
    "cursor.execute('ALTER TABLE PositionKeepingDomainSchema.PositionKeeping AUTO_INCREMENT=0')\n",
    "cursor.execute('DELETE FROM PositionKeepingDomainSchema.PositionKeeping')\n",
    "cursor.execute('ALTER TABLE PositionKeepingDomainSchema.CreditLine AUTO_INCREMENT=0')\n",
    "cursor.execute('DELETE FROM PositionKeepingDomainSchema.CreditLine')\n",
    "cursor.execute('ALTER TABLE PositionKeepingDomainSchema.CreditLine ALTER Included SET DEFAULT 0')\n",
    "cursor.execute('ALTER TABLE PositionKeepingDomainSchema.Amount AUTO_INCREMENT=0')\n",
    "cursor.execute('DELETE FROM PositionKeepingDomainSchema.Amount')\n",
    "conn.commit()"
   ]
  },
  {
   "cell_type": "code",
   "execution_count": null,
   "metadata": {},
   "outputs": [],
   "source": [
    "set_foreing_key_mysql_value(0)\n",
    "print(\"Desabilitadas las comprobaciones de foreing key (simulacion batch)\")"
   ]
  },
  {
   "cell_type": "code",
   "execution_count": null,
   "metadata": {},
   "outputs": [],
   "source": [
    "for i,row in Currency_df.iterrows():\n",
    "    insert_query = \"INSERT INTO PositionKeepingDomainSchema.Currency (Code, Description) VALUES (%s, %s)\"    \n",
    "    cursor.execute(insert_query,(row[1],row[2]))"
   ]
  },
  {
   "cell_type": "code",
   "execution_count": null,
   "metadata": {},
   "outputs": [],
   "source": [
    "TotalAccounts = len(CurrentAccount_df) * repeats\n",
    "TotalAccounts"
   ]
  },
  {
   "cell_type": "code",
   "execution_count": null,
   "metadata": {},
   "outputs": [],
   "source": [
    "#Completamos tantas position Keeping como cuentas (no se puede repetir id)\n",
    "for x in range(20):\n",
    "    PositionKeeping_df = PositionKeeping_df.append(PositionKeeping_df.sample(frac=0.50,replace = True))\n",
    "\n"
   ]
  },
  {
   "cell_type": "code",
   "execution_count": null,
   "metadata": {},
   "outputs": [],
   "source": [
    "PositionKeeping_df = PositionKeeping_df.sample(TotalAccounts)\n",
    "len(PositionKeeping_df)"
   ]
  },
  {
   "cell_type": "code",
   "execution_count": null,
   "metadata": {},
   "outputs": [],
   "source": [
    "PositionKeeping_df.index = range(0, len(PositionKeeping_df))\n",
    "PositionKeeping_df['AccountId'] = range(0, len(PositionKeeping_df))\n",
    "PositionKeeping_df = PositionKeeping_df[0:TotalAccounts]"
   ]
  },
  {
   "cell_type": "code",
   "execution_count": null,
   "metadata": {},
   "outputs": [],
   "source": [
    "#Resultados transaccion batch de CurrentDomainSchema\n",
    "Total_PositionKeepingDomainSchema = []\n",
    "\n",
    "insert_query_creditLine = \"\"\"INSERT INTO PositionKeepingDomainSchema.CreditLine (CurrencyId, Amount, Type) VALUES (%s, %s, %s)\"\"\"\n",
    "insert_query_amount = \"\"\"INSERT INTO PositionKeepingDomainSchema.Amount (CurrencyId, Amount) VALUES (%s, %s)\"\"\"\n",
    "insert_query_positionKeeping = \"\"\"INSERT INTO PositionKeepingDomainSchema.PositionKeeping (AccountId, DateTime, CreditDebitIndicator, Type, AmountId, CreditLineId) VALUES (%s, %s, %s, %s, %s, %s)\"\"\"\n",
    "\n",
    "registers = []\n",
    "trx_solo = []\n",
    "total_time = 0\n",
    "Info_inserted_amount = 0\n",
    "Info_inserted_creditline = 0\n",
    "time_inicial = time.time()\n",
    "\n",
    "for iteracion in range(0,1): #1 millones de registros como fuente origen\n",
    "    for i,row in PositionKeeping_df.iterrows():        \n",
    "        cursor = conn.cursor()\n",
    "        trx_inicio = time.time()\n",
    "        #Guardamos amount\n",
    "        for j,rowAM in Amount_df.sample(1).iterrows():\n",
    "            #print(rowAM)\n",
    "            cursor.execute(insert_query_amount,(int(rowAM[1]), int(rowAM[2])))\n",
    "        #Guardamos creditLine\n",
    "        for h,rowCL in CreditLine_df.sample(1).iterrows():\n",
    "            #print(rowCL)\n",
    "            cursor.execute(insert_query_creditLine,(rowCL[1],rowCL[2],rowCL[3]))        \n",
    "        #Guardamos PositionKeeping\n",
    "        #print(row)\n",
    "        cursor.execute(insert_query_positionKeeping,(row[0],row[1],row[2],row[3],row[0],row[0]))                                          \n",
    "        cursor.close()\n",
    "        Info_inserted_amount = Info_inserted_amount + 1\n",
    "        Info_inserted_creditline = Info_inserted_creditline + 1\n",
    "        \n",
    "        trx_parcial = time.time()-trx_inicio\n",
    "        trx_solo.append(trx_parcial)\n",
    "        if(i % 5 == 0 and i > 0):\n",
    "            conn.commit()        \n",
    "            # Tupla con numero de registros, tiempo parcial de la transacción y tiempo acumulado de trxs\n",
    "            total_time = total_time + trx_parcial # Acumulamos el parcial\n",
    "            used_cpu = psutil.cpu_percent()\n",
    "            mem_used = psutil.virtual_memory().percent\n",
    "            registers.append(((i + (len(PositionKeeping_df) * iteracion)),total_time * 1000,used_cpu, mem_used ))       \n",
    "total_time_final = time.time() - time_inicial           \n",
    "conn.commit() # Final y salida"
   ]
  },
  {
   "cell_type": "code",
   "execution_count": null,
   "metadata": {},
   "outputs": [],
   "source": [
    "set_foreing_key_mysql_value(1)\n",
    "print(\"Habilitadas las comprobaciones de foreing key\")"
   ]
  },
  {
   "cell_type": "code",
   "execution_count": null,
   "metadata": {},
   "outputs": [],
   "source": [
    "## Tratamiento de resultados\n",
    "results_AccountDomainSchema = list(zip(*registers))\n",
    "print(\"ROWS INSERTED:\", len(PositionKeeping_df) + Info_inserted_amount + Info_inserted_creditline, ' Total rows')\n",
    "print(\"TOTAL TIME:\" , round(total_time_final,2), 'seg')\n",
    "print(\"MAX:\" , round(max(trx_solo)*100,2), 'seg')\n",
    "print(\"MIN:\" , round(min(trx_solo)*100,2), 'seg')\n",
    "print(\"AVG:\" , round(np.average(trx_solo)*100,2), 'seg')"
   ]
  },
  {
   "cell_type": "code",
   "execution_count": null,
   "metadata": {},
   "outputs": [],
   "source": [
    "plt.plot(*zip(*registers))\n",
    "plt.title(\"MySQL # ETL PositionKeeping ETL\")\n",
    "plt.xlabel(\"Insercciones\")\n",
    "plt.ylabel(\"Tiempo(s)\")\n",
    "plt.axhline(round(np.average(trx_solo)*100,2), color='r', linestyle='--',label='Media ejecución Trx.')\n",
    "plt.show()"
   ]
  },
  {
   "cell_type": "code",
   "execution_count": null,
   "metadata": {},
   "outputs": [],
   "source": [
    "#Guardamos los resultados Customer Profile\n",
    "save_results_to_csv(registers,resultados_etl_PositionKeepingSchema)"
   ]
  },
  {
   "cell_type": "code",
   "execution_count": null,
   "metadata": {},
   "outputs": [],
   "source": []
  },
  {
   "cell_type": "code",
   "execution_count": null,
   "metadata": {},
   "outputs": [],
   "source": [
    "conn.close()\n",
    "print('Conexion cerrada')"
   ]
  }
 ],
 "metadata": {
  "kernelspec": {
   "display_name": "Python 3",
   "language": "python",
   "name": "python3"
  },
  "language_info": {
   "codemirror_mode": {
    "name": "ipython",
    "version": 3
   },
   "file_extension": ".py",
   "mimetype": "text/x-python",
   "name": "python",
   "nbconvert_exporter": "python",
   "pygments_lexer": "ipython3",
   "version": "3.7.6"
  }
 },
 "nbformat": 4,
 "nbformat_minor": 4
}
