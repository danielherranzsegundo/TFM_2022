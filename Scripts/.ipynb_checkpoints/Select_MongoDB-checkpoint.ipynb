{
 "cells": [
  {
   "cell_type": "markdown",
   "metadata": {},
   "source": [
    "Script de select datos MySQL en cluster multidomain"
   ]
  },
  {
   "cell_type": "code",
   "execution_count": 27,
   "metadata": {},
   "outputs": [
    {
     "name": "stdout",
     "output_type": "stream",
     "text": [
      "Requirement already satisfied: mysql-connector==2.1.7 in /home/danielherranzsegundo/anaconda3/lib/python3.7/site-packages (2.1.7)\n",
      "Requirement already satisfied: pandas in /home/danielherranzsegundo/anaconda3/lib/python3.7/site-packages (1.0.1)\n",
      "Requirement already satisfied: python-dateutil>=2.6.1 in /home/danielherranzsegundo/anaconda3/lib/python3.7/site-packages (from pandas) (2.8.1)\n",
      "Requirement already satisfied: numpy>=1.13.3 in /home/danielherranzsegundo/anaconda3/lib/python3.7/site-packages (from pandas) (1.18.1)\n",
      "Requirement already satisfied: pytz>=2017.2 in /home/danielherranzsegundo/anaconda3/lib/python3.7/site-packages (from pandas) (2019.3)\n",
      "Requirement already satisfied: six>=1.5 in /home/danielherranzsegundo/anaconda3/lib/python3.7/site-packages (from python-dateutil>=2.6.1->pandas) (1.14.0)\n",
      "Requirement already satisfied: sqlalchemy in /home/danielherranzsegundo/anaconda3/lib/python3.7/site-packages (1.3.13)\n",
      "Requirement already satisfied: mysqlclient in /home/danielherranzsegundo/anaconda3/lib/python3.7/site-packages (2.1.0)\n",
      "Requirement already satisfied: numpy in /home/danielherranzsegundo/anaconda3/lib/python3.7/site-packages (1.18.1)\n",
      "Requirement already satisfied: pymysql in /home/danielherranzsegundo/anaconda3/lib/python3.7/site-packages (1.0.2)\n"
     ]
    }
   ],
   "source": [
    "!pip install mysql-connector==2.1.7\n",
    "!pip install pandas\n",
    "!pip install sqlalchemy\n",
    "#requiere instalación adicional, consultar https://github.com/PyMySQL/mysqlclient\n",
    "!pip install mysqlclient\n",
    "!pip install numpy\n",
    "!pip install pymysql"
   ]
  },
  {
   "cell_type": "code",
   "execution_count": 1,
   "metadata": {},
   "outputs": [],
   "source": [
    "import pandas as pd\n",
    "import numpy as np\n",
    "import os\n",
    "import json\n",
    "import random\n",
    "import pymongo\n",
    "from pymongo import MongoClient\n",
    "import time\n",
    "from pprint import pprint\n",
    "from pymongo import InsertOne, DeleteMany, ReplaceOne, UpdateOne\n",
    "import matplotlib.pyplot as plt\n",
    "import psutil\n",
    "import uuid"
   ]
  },
  {
   "cell_type": "code",
   "execution_count": 2,
   "metadata": {},
   "outputs": [],
   "source": [
    "#Los resultados de medidas de tiempo en carga por dominios se almacenan en estos objetos.\n",
    "#Se itera durante 100 iteraciones para sacar medias\n",
    "#repeticiones\n",
    "repeats = 100"
   ]
  },
  {
   "cell_type": "code",
   "execution_count": 3,
   "metadata": {},
   "outputs": [],
   "source": [
    "#Ficheros de salida\n",
    "resultados_mongodb_select = '../Results/MongoDB/MongoDBSelect_test_{}.csv'"
   ]
  },
  {
   "cell_type": "code",
   "execution_count": 4,
   "metadata": {},
   "outputs": [],
   "source": [
    "def save_results_to_csv(results,file):\n",
    "    #Guardamos los resultados en csv\n",
    "    from datetime import datetime\n",
    "    \n",
    "    csv_df = pd.DataFrame(results, columns=['Registros', 'Tiempo', 'CPU','Memoria'])\n",
    "    dia = datetime.now().strftime(\"%d%m%Y_%H_%M_%S\")\n",
    "    csv_df.to_csv(file.format(str(dia)))"
   ]
  },
  {
   "cell_type": "code",
   "execution_count": 5,
   "metadata": {},
   "outputs": [],
   "source": [
    "#Conexion unica a colecciones\n",
    "connection = MongoClient('localhost', 27017, w=3) #Conexion con WriteConcern a 3 (primario y dos nodos consolidados)\n",
    "\n",
    "#Creamos una base de datos para el trabajo llamada TFM\n",
    "tfm_mongo_db = connection[\"tfm_mongo_database\"]"
   ]
  },
  {
   "cell_type": "code",
   "execution_count": 6,
   "metadata": {},
   "outputs": [
    {
     "name": "stdout",
     "output_type": "stream",
     "text": [
      "['admin', 'config', 'local', 'tfm_mongo_database']\n"
     ]
    }
   ],
   "source": [
    "CustomerProfileCollection = tfm_mongo_db[\"CustomerProfileCollection\"]\n",
    "CurrentAccountCollection = tfm_mongo_db[\"CurrentAccountCollection\"]\n",
    "PositionKeepingCollection = tfm_mongo_db[\"PositionKeepingCollection\"]\n",
    "print(connection.list_database_names())"
   ]
  },
  {
   "cell_type": "markdown",
   "metadata": {},
   "source": [
    "# Select test multidomain"
   ]
  },
  {
   "cell_type": "code",
   "execution_count": 7,
   "metadata": {},
   "outputs": [
    {
     "data": {
      "text/plain": [
       "1000000"
      ]
     },
     "execution_count": 7,
     "metadata": {},
     "output_type": "execute_result"
    }
   ],
   "source": [
    "partyId_list = []\n",
    "for partyId in CustomerProfileCollection.find({},{ \"_id\": 0, \"PartyId\": 1}):\n",
    "    partyId_list.append(partyId)\n",
    "len(partyId_list)"
   ]
  },
  {
   "cell_type": "code",
   "execution_count": 8,
   "metadata": {},
   "outputs": [],
   "source": [
    "    select_query = \"\"\"SELECT * FROM CustomerProfileDomainSchema.CustomerProfile cp\n",
    "INNER JOIN CurrentAccountDomainSchema.CurrentAccount ca ON ca.PartyId = cp.PartyId\n",
    "INNER JOIN CurrentAccountDomainSchema.AccountInfo ai ON ai.AccountId = ca.AccountId\n",
    "INNER JOIN PositionKeepingDomainSchema.PositionKeeping pk ON pk.AccountId = ca.AccountId\n",
    "INNER JOIN PositionKeepingDomainSchema.Amount am ON am.AmountId = pk.AmountId\n",
    "INNER JOIN PositionKeepingDomainSchema.CreditLine cl ON cl.CreditLineId = pk.CreditLineId\n",
    "INNER JOIN PositionKeepingDomainSchema.Currency cr ON cr.CurrencyId = am.CurrencyId\n",
    "WHERE cp.PartyId = {}\"\"\".format(random.choice(partyId_list))"
   ]
  },
  {
   "cell_type": "code",
   "execution_count": 34,
   "metadata": {},
   "outputs": [],
   "source": [
    "def execute_mongo_find_test(collection):\n",
    "    pipeline = [\n",
    "        {\n",
    "          '$match': {\n",
    "              'PartyId': '4584fa76-b7fb-11ec-a2b2-9fdc6c308163'\n",
    "          }  \n",
    "        },\n",
    "        {\n",
    "            '$lookup': {\n",
    "                'from' : 'CurrentAccountCollection',\n",
    "                'localField' : 'PartyId',\n",
    "                'foreignField' : 'PartyId',\n",
    "                'as' : 'CurrentAccount'\n",
    "            }\n",
    "        },\n",
    "        { \n",
    "            '$unwind': '$CurrentAccount'\n",
    "        },    \n",
    "        {\n",
    "            '$lookup': {\n",
    "                'from' : 'PositionKeepingCollection',\n",
    "                'localField' : 'CurrentAccount.AccountId',\n",
    "                'foreignField' : 'AccountId',\n",
    "                'as' : 'PositionKeeping'\n",
    "            }\n",
    "        },\n",
    "        { \n",
    "            '$unwind': '$PositionKeeping'\n",
    "        },\n",
    "        { \n",
    "            '$limit': 1\n",
    "        }\n",
    "    ]\n",
    "\n",
    "    for doc in (collection.aggregate(pipeline)):\n",
    "        pass"
   ]
  },
  {
   "cell_type": "code",
   "execution_count": 32,
   "metadata": {},
   "outputs": [
    {
     "name": "stdout",
     "output_type": "stream",
     "text": [
      "{'AccountRole': 'US.OBIE.Principal',\n",
      " 'Address': [{'AddressLine': '5409 Stroman Trafficway Apt. 397',\n",
      "              'AddressType': 'Port',\n",
      "              'BuildingNumber': 82242,\n",
      "              'Country': [{'Code': 'GBP',\n",
      "                           'Description': 'Id dolorem a soluta harum iusto qui '\n",
      "                                          'repellat. Possimus est ea ut ipsum '\n",
      "                                          'quia quisquam facere.',\n",
      "                           'ShortName': 'USA'}],\n",
      "              'CountrySubDivision': 506.0,\n",
      "              'PostCode': '64088-6495',\n",
      "              'StreetName': 'Ruby Manor',\n",
      "              'TownName': 'Anastacioshire'}],\n",
      " 'BeneficialOwnership': 6,\n",
      " 'CurrentAccount': {'AccountId': '76733c24-b7fb-11ec-a2b2-9fdc6c308163',\n",
      "                    'AccountInfo': [{'Identification': 7.0,\n",
      "                                     'Name': 'Zemlak-Gleichner',\n",
      "                                     'SchemeName': 'UK.business'},\n",
      "                                    {'Identification': 9.0,\n",
      "                                     'Name': 'Lindgren Inc',\n",
      "                                     'SchemeName': None}],\n",
      "                    'AccountSubType': 'POI',\n",
      "                    'AccountType': 'Business',\n",
      "                    'NickName': 'matrix compelling synergies',\n",
      "                    'OpeningDate': '2010-10-22 08:36:19.00',\n",
      "                    'PartyId': '4584fa76-b7fb-11ec-a2b2-9fdc6c308163',\n",
      "                    'Status': 'Enabled',\n",
      "                    'StatusUpdateDateTime': '1973-07-20 10:18:38.00',\n",
      "                    '_id': ObjectId('62547ccb4ef8e7c2ef3d5f49')},\n",
      " 'EmailAddress': 'kamren39@example.net',\n",
      " 'FullLegalName': 'Winona Cummings',\n",
      " 'LegalStructure': 'Prof.',\n",
      " 'Name': 'Mittie',\n",
      " 'PartyId': '4584fa76-b7fb-11ec-a2b2-9fdc6c308163',\n",
      " 'PartyNumber': 5433,\n",
      " 'PartyType': 'sol',\n",
      " 'Phone': '596-322-5768',\n",
      " 'PositionKeeping': {'AccountId': '76733c24-b7fb-11ec-a2b2-9fdc6c308163',\n",
      "                     'Amount': {'Amount': '[{\"Amount\":28.04534}]',\n",
      "                                'Currency': '[{\"Code\":\"USA\",\"Description\":\"Ut '\n",
      "                                            'necessitatibus in iure cum et '\n",
      "                                            'sint. Minima ipsa impedit quaerat '\n",
      "                                            'vel\",\"Unnamed: 3\":null}]'},\n",
      "                     'CreditDebitIndicator': 'Credit',\n",
      "                     'CreditLine': {'Amount': {'Amount': '[{\"Amount\":0.0,\"Type\":null,\"Included\":0}]',\n",
      "                                               'Currency': '[{\"Code\":\"USA\",\"Description\":\"Ut '\n",
      "                                                           'necessitatibus in '\n",
      "                                                           'iure cum et sint. '\n",
      "                                                           'Minima ipsa '\n",
      "                                                           'impedit quaerat '\n",
      "                                                           'vel\",\"Unnamed: '\n",
      "                                                           '3\":null}]'},\n",
      "                                    'Included': '[0]',\n",
      "                                    'Type': '[\"Business\"]'},\n",
      "                     'DateTime': datetime.datetime(2004, 9, 1, 4, 40, 28),\n",
      "                     'Type': 'Business',\n",
      "                     '_id': ObjectId('62547d054ef8e7c2ef4ca189')},\n",
      " '_id': ObjectId('62547c894ef8e7c2ef2e1d09')}\n"
     ]
    }
   ],
   "source": [
    "result = CustomerProfileCollection.aggregate([\n",
    "        {\n",
    "          '$match': {\n",
    "              'PartyId': '4584fa76-b7fb-11ec-a2b2-9fdc6c308163'\n",
    "          }  \n",
    "        },\n",
    "        {\n",
    "            '$lookup': {\n",
    "                'from' : 'CurrentAccountCollection',\n",
    "                'localField' : 'PartyId',\n",
    "                'foreignField' : 'PartyId',\n",
    "                'as' : 'CurrentAccount'\n",
    "            }\n",
    "        },\n",
    "        { \n",
    "            '$unwind': '$CurrentAccount'\n",
    "        },    \n",
    "        {\n",
    "            '$lookup': {\n",
    "                'from' : 'PositionKeepingCollection',\n",
    "                'localField' : 'CurrentAccount.AccountId',\n",
    "                'foreignField' : 'AccountId',\n",
    "                'as' : 'PositionKeeping'\n",
    "            }\n",
    "        },\n",
    "        { \n",
    "            '$unwind': '$PositionKeeping'\n",
    "        },\n",
    "        { \n",
    "            '$limit': 1\n",
    "        }\n",
    "])\n",
    "for doc in result:\n",
    "    pprint(doc)"
   ]
  },
  {
   "cell_type": "code",
   "execution_count": null,
   "metadata": {},
   "outputs": [],
   "source": []
  },
  {
   "cell_type": "code",
   "execution_count": 35,
   "metadata": {},
   "outputs": [],
   "source": [
    "time_inicial = 0\n",
    "time_final = 0\n",
    "registers = []\n",
    " \n",
    "for iteracion in range(0,repeats): \n",
    "    time_inicial = time.time()\n",
    "    execute_mongo_find_test(CustomerProfileCollection)\n",
    "    time_final = time.time() \n",
    "    used_cpu = psutil.cpu_percent()\n",
    "    mem_used = psutil.virtual_memory().percent\n",
    "    # Tupla con numero de registros, tiempo parcial de la transacción y tiempo acumulado de trxs\n",
    "    total_time = round(time_final - time_inicial,3)\n",
    "    registers.append((iteracion + 1, total_time ,used_cpu, mem_used))"
   ]
  },
  {
   "cell_type": "code",
   "execution_count": 42,
   "metadata": {},
   "outputs": [
    {
     "data": {
      "text/plain": [
       "[(11, 1.028, 16.9, 72.3),\n",
       " (12, 1.026, 17.7, 72.3),\n",
       " (13, 1.016, 16.8, 72.3),\n",
       " (14, 1.022, 17.6, 72.3),\n",
       " (15, 1.022, 17.1, 72.3),\n",
       " (16, 1.03, 17.5, 72.3),\n",
       " (17, 1.031, 17.8, 72.3),\n",
       " (18, 1.019, 17.6, 72.3),\n",
       " (19, 1.03, 17.2, 72.3),\n",
       " (20, 1.022, 17.0, 72.3)]"
      ]
     },
     "execution_count": 42,
     "metadata": {},
     "output_type": "execute_result"
    }
   ],
   "source": [
    "registers[10:20]"
   ]
  },
  {
   "cell_type": "code",
   "execution_count": 37,
   "metadata": {},
   "outputs": [],
   "source": [
    "#Guardamos los resultados Customer Profile\n",
    "save_results_to_csv(registers,resultados_mongodb_select)"
   ]
  },
  {
   "cell_type": "code",
   "execution_count": 40,
   "metadata": {},
   "outputs": [
    {
     "name": "stdout",
     "output_type": "stream",
     "text": [
      "Conexion cerrada\n"
     ]
    }
   ],
   "source": [
    "connection.close()\n",
    "print('Conexion cerrada')"
   ]
  }
 ],
 "metadata": {
  "kernelspec": {
   "display_name": "Python 3",
   "language": "python",
   "name": "python3"
  },
  "language_info": {
   "codemirror_mode": {
    "name": "ipython",
    "version": 3
   },
   "file_extension": ".py",
   "mimetype": "text/x-python",
   "name": "python",
   "nbconvert_exporter": "python",
   "pygments_lexer": "ipython3",
   "version": "3.7.6"
  }
 },
 "nbformat": 4,
 "nbformat_minor": 4
}
