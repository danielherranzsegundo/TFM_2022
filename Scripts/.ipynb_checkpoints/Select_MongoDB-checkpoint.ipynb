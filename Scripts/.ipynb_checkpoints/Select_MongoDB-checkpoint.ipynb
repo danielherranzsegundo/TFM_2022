{
 "cells": [
  {
   "cell_type": "markdown",
   "metadata": {},
   "source": [
    "Script de select datos MySQL en cluster multidomain"
   ]
  },
  {
   "cell_type": "code",
   "execution_count": 27,
   "metadata": {},
   "outputs": [
    {
     "name": "stdout",
     "output_type": "stream",
     "text": [
      "Requirement already satisfied: mysql-connector==2.1.7 in /home/danielherranzsegundo/anaconda3/lib/python3.7/site-packages (2.1.7)\n",
      "Requirement already satisfied: pandas in /home/danielherranzsegundo/anaconda3/lib/python3.7/site-packages (1.0.1)\n",
      "Requirement already satisfied: python-dateutil>=2.6.1 in /home/danielherranzsegundo/anaconda3/lib/python3.7/site-packages (from pandas) (2.8.1)\n",
      "Requirement already satisfied: numpy>=1.13.3 in /home/danielherranzsegundo/anaconda3/lib/python3.7/site-packages (from pandas) (1.18.1)\n",
      "Requirement already satisfied: pytz>=2017.2 in /home/danielherranzsegundo/anaconda3/lib/python3.7/site-packages (from pandas) (2019.3)\n",
      "Requirement already satisfied: six>=1.5 in /home/danielherranzsegundo/anaconda3/lib/python3.7/site-packages (from python-dateutil>=2.6.1->pandas) (1.14.0)\n",
      "Requirement already satisfied: sqlalchemy in /home/danielherranzsegundo/anaconda3/lib/python3.7/site-packages (1.3.13)\n",
      "Requirement already satisfied: mysqlclient in /home/danielherranzsegundo/anaconda3/lib/python3.7/site-packages (2.1.0)\n",
      "Requirement already satisfied: numpy in /home/danielherranzsegundo/anaconda3/lib/python3.7/site-packages (1.18.1)\n",
      "Requirement already satisfied: pymysql in /home/danielherranzsegundo/anaconda3/lib/python3.7/site-packages (1.0.2)\n"
     ]
    }
   ],
   "source": [
    "!pip install mysql-connector==2.1.7\n",
    "!pip install pandas\n",
    "!pip install sqlalchemy\n",
    "#requiere instalación adicional, consultar https://github.com/PyMySQL/mysqlclient\n",
    "!pip install mysqlclient\n",
    "!pip install numpy\n",
    "!pip install pymysql"
   ]
  },
  {
   "cell_type": "code",
   "execution_count": 1,
   "metadata": {},
   "outputs": [],
   "source": [
    "import pandas as pd\n",
    "import numpy as np\n",
    "import os\n",
    "import json\n",
    "import random\n",
    "import pymongo\n",
    "from pymongo import MongoClient\n",
    "import time\n",
    "from pprint import pprint\n",
    "from pymongo import InsertOne, DeleteMany, ReplaceOne, UpdateOne\n",
    "import matplotlib.pyplot as plt\n",
    "import psutil\n",
    "import uuid"
   ]
  },
  {
   "cell_type": "code",
   "execution_count": 40,
   "metadata": {},
   "outputs": [],
   "source": [
    "#Los resultados de medidas de tiempo en carga por dominios se almacenan en estos objetos.\n",
    "#Se itera durante 100 iteraciones para sacar medias\n",
    "#repeticiones\n",
    "repeats = 100"
   ]
  },
  {
   "cell_type": "code",
   "execution_count": 41,
   "metadata": {},
   "outputs": [],
   "source": [
    "#Ficheros de salida\n",
    "resultados_mongodb_select = '../Results/MongoDB/MongoDBSelect_test_{}.csv'"
   ]
  },
  {
   "cell_type": "code",
   "execution_count": 42,
   "metadata": {},
   "outputs": [],
   "source": [
    "def save_results_to_csv(results,file):\n",
    "    #Guardamos los resultados en csv\n",
    "    from datetime import datetime\n",
    "    \n",
    "    csv_df = pd.DataFrame(results, columns=['Registros', 'Tiempo', 'CPU','Memoria'])\n",
    "    dia = datetime.now().strftime(\"%d%m%Y_%H_%M_%S\")\n",
    "    csv_df.to_csv(file.format(str(dia)))"
   ]
  },
  {
   "cell_type": "code",
   "execution_count": 43,
   "metadata": {},
   "outputs": [],
   "source": [
    "#Conexion unica a colecciones\n",
    "connection = MongoClient('localhost', 27017, w=3) #Conexion con WriteConcern a 3 (primario y dos nodos consolidados)\n",
    "\n",
    "#Creamos una base de datos para el trabajo llamada TFM\n",
    "tfm_mongo_db = connection[\"tfm_mongo_database\"]"
   ]
  },
  {
   "cell_type": "code",
   "execution_count": 44,
   "metadata": {},
   "outputs": [
    {
     "name": "stdout",
     "output_type": "stream",
     "text": [
      "['admin', 'config', 'local', 'tfm_mongo_database']\n"
     ]
    }
   ],
   "source": [
    "CustomerProfileCollection = tfm_mongo_db[\"CustomerProfileCollection\"]\n",
    "CurrentAccountCollection = tfm_mongo_db[\"CurrentAccountCollection\"]\n",
    "PositionKeepingCollection = tfm_mongo_db[\"PositionKeepingCollection\"]\n",
    "print(connection.list_database_names())"
   ]
  },
  {
   "cell_type": "markdown",
   "metadata": {},
   "source": [
    "# Select test multidomain"
   ]
  },
  {
   "cell_type": "code",
   "execution_count": 45,
   "metadata": {},
   "outputs": [
    {
     "data": {
      "text/plain": [
       "1000000"
      ]
     },
     "execution_count": 45,
     "metadata": {},
     "output_type": "execute_result"
    }
   ],
   "source": [
    "partyId_list = []\n",
    "for partyId in CustomerProfileCollection.find({},{ \"_id\": 0, \"PartyId\": 1}):\n",
    "    partyId_list.append(partyId)\n",
    "len(partyId_list)"
   ]
  },
  {
   "cell_type": "code",
   "execution_count": 46,
   "metadata": {},
   "outputs": [],
   "source": [
    "    select_query = \"\"\"SELECT * FROM CustomerProfileDomainSchema.CustomerProfile cp\n",
    "INNER JOIN CurrentAccountDomainSchema.CurrentAccount ca ON ca.PartyId = cp.PartyId\n",
    "INNER JOIN CurrentAccountDomainSchema.AccountInfo ai ON ai.AccountId = ca.AccountId\n",
    "INNER JOIN PositionKeepingDomainSchema.PositionKeeping pk ON pk.AccountId = ca.AccountId\n",
    "INNER JOIN PositionKeepingDomainSchema.Amount am ON am.AmountId = pk.AmountId\n",
    "INNER JOIN PositionKeepingDomainSchema.CreditLine cl ON cl.CreditLineId = pk.CreditLineId\n",
    "INNER JOIN PositionKeepingDomainSchema.Currency cr ON cr.CurrencyId = am.CurrencyId\n",
    "WHERE cp.PartyId = {}\"\"\".format(random.choice(partyId_list))"
   ]
  },
  {
   "cell_type": "code",
   "execution_count": 53,
   "metadata": {},
   "outputs": [],
   "source": [
    "def generate_select_pipeline():\n",
    "    match = {\"$match\": {\"PartyId\": \"{}\".format(random.choice(partyId_list)[\"PartyId\"]) } }\n",
    "    lookup_ca = {\"$lookup\": {\"from\": \"CurrentAccountCollection\", \"localField\": \"PartyId\", \"foreignField\": \"PartyId\", \"as\": \"CurrentAccount\"}}\n",
    "    #unwind_ca = {\"$unwind\": \"$CurrentAccount\"}\n",
    "    lookup_pk = {\"$lookup\": {\"from\": \"PositionKeepingCollection\", \"localField\": \"CurrentAccount.AccountId\", \"foreignField\": \"AccountId\", \"as\": \"PositionKeeping\"}}\n",
    "    limit = {\"$limit\": 5}\n",
    "\n",
    "    #pipeline = [match, lookup_ca, unwind_ca, lookup_pk, limit]                                           \n",
    "    pipeline = [match, lookup_ca, lookup_pk, limit]\n",
    "    print(pipeline)\n",
    "    return pipeline"
   ]
  },
  {
   "cell_type": "code",
   "execution_count": 54,
   "metadata": {},
   "outputs": [
    {
     "name": "stdout",
     "output_type": "stream",
     "text": [
      "[{'$match': {'PartyId': '562014c2-ba4b-11ec-9dcd-892344612080'}}, {'$lookup': {'from': 'CurrentAccountCollection', 'localField': 'PartyId', 'foreignField': 'PartyId', 'as': 'CurrentAccount'}}, {'$lookup': {'from': 'PositionKeepingCollection', 'localField': 'CurrentAccount.AccountId', 'foreignField': 'AccountId', 'as': 'PositionKeeping'}}, {'$limit': 5}]\n",
      "[{'$match': {'PartyId': '57470fa4-ba4b-11ec-9dcd-892344612080'}}, {'$lookup': {'from': 'CurrentAccountCollection', 'localField': 'PartyId', 'foreignField': 'PartyId', 'as': 'CurrentAccount'}}, {'$lookup': {'from': 'PositionKeepingCollection', 'localField': 'CurrentAccount.AccountId', 'foreignField': 'AccountId', 'as': 'PositionKeeping'}}, {'$limit': 5}]\n",
      "[{'$match': {'PartyId': '5429c352-ba4b-11ec-9dcd-892344612080'}}, {'$lookup': {'from': 'CurrentAccountCollection', 'localField': 'PartyId', 'foreignField': 'PartyId', 'as': 'CurrentAccount'}}, {'$lookup': {'from': 'PositionKeepingCollection', 'localField': 'CurrentAccount.AccountId', 'foreignField': 'AccountId', 'as': 'PositionKeeping'}}, {'$limit': 5}]\n",
      "[{'$match': {'PartyId': '5418e08c-ba4b-11ec-9dcd-892344612080'}}, {'$lookup': {'from': 'CurrentAccountCollection', 'localField': 'PartyId', 'foreignField': 'PartyId', 'as': 'CurrentAccount'}}, {'$lookup': {'from': 'PositionKeepingCollection', 'localField': 'CurrentAccount.AccountId', 'foreignField': 'AccountId', 'as': 'PositionKeeping'}}, {'$limit': 5}]\n",
      "[{'$match': {'PartyId': '558bdc62-ba4b-11ec-9dcd-892344612080'}}, {'$lookup': {'from': 'CurrentAccountCollection', 'localField': 'PartyId', 'foreignField': 'PartyId', 'as': 'CurrentAccount'}}, {'$lookup': {'from': 'PositionKeepingCollection', 'localField': 'CurrentAccount.AccountId', 'foreignField': 'AccountId', 'as': 'PositionKeeping'}}, {'$limit': 5}]\n",
      "[{'$match': {'PartyId': '5340c454-ba4b-11ec-9dcd-892344612080'}}, {'$lookup': {'from': 'CurrentAccountCollection', 'localField': 'PartyId', 'foreignField': 'PartyId', 'as': 'CurrentAccount'}}, {'$lookup': {'from': 'PositionKeepingCollection', 'localField': 'CurrentAccount.AccountId', 'foreignField': 'AccountId', 'as': 'PositionKeeping'}}, {'$limit': 5}]\n",
      "[{'$match': {'PartyId': '534f850c-ba4b-11ec-9dcd-892344612080'}}, {'$lookup': {'from': 'CurrentAccountCollection', 'localField': 'PartyId', 'foreignField': 'PartyId', 'as': 'CurrentAccount'}}, {'$lookup': {'from': 'PositionKeepingCollection', 'localField': 'CurrentAccount.AccountId', 'foreignField': 'AccountId', 'as': 'PositionKeeping'}}, {'$limit': 5}]\n",
      "[{'$match': {'PartyId': '57057fc6-ba4b-11ec-9dcd-892344612080'}}, {'$lookup': {'from': 'CurrentAccountCollection', 'localField': 'PartyId', 'foreignField': 'PartyId', 'as': 'CurrentAccount'}}, {'$lookup': {'from': 'PositionKeepingCollection', 'localField': 'CurrentAccount.AccountId', 'foreignField': 'AccountId', 'as': 'PositionKeeping'}}, {'$limit': 5}]\n",
      "[{'$match': {'PartyId': '544de0b6-ba4b-11ec-9dcd-892344612080'}}, {'$lookup': {'from': 'CurrentAccountCollection', 'localField': 'PartyId', 'foreignField': 'PartyId', 'as': 'CurrentAccount'}}, {'$lookup': {'from': 'PositionKeepingCollection', 'localField': 'CurrentAccount.AccountId', 'foreignField': 'AccountId', 'as': 'PositionKeeping'}}, {'$limit': 5}]\n",
      "[{'$match': {'PartyId': '54b95904-ba4b-11ec-9dcd-892344612080'}}, {'$lookup': {'from': 'CurrentAccountCollection', 'localField': 'PartyId', 'foreignField': 'PartyId', 'as': 'CurrentAccount'}}, {'$lookup': {'from': 'PositionKeepingCollection', 'localField': 'CurrentAccount.AccountId', 'foreignField': 'AccountId', 'as': 'PositionKeeping'}}, {'$limit': 5}]\n",
      "[{'$match': {'PartyId': '53fd4c50-ba4b-11ec-9dcd-892344612080'}}, {'$lookup': {'from': 'CurrentAccountCollection', 'localField': 'PartyId', 'foreignField': 'PartyId', 'as': 'CurrentAccount'}}, {'$lookup': {'from': 'PositionKeepingCollection', 'localField': 'CurrentAccount.AccountId', 'foreignField': 'AccountId', 'as': 'PositionKeeping'}}, {'$limit': 5}]\n",
      "[{'$match': {'PartyId': '549250f2-ba4b-11ec-9dcd-892344612080'}}, {'$lookup': {'from': 'CurrentAccountCollection', 'localField': 'PartyId', 'foreignField': 'PartyId', 'as': 'CurrentAccount'}}, {'$lookup': {'from': 'PositionKeepingCollection', 'localField': 'CurrentAccount.AccountId', 'foreignField': 'AccountId', 'as': 'PositionKeeping'}}, {'$limit': 5}]\n",
      "[{'$match': {'PartyId': '539819c0-ba4b-11ec-9dcd-892344612080'}}, {'$lookup': {'from': 'CurrentAccountCollection', 'localField': 'PartyId', 'foreignField': 'PartyId', 'as': 'CurrentAccount'}}, {'$lookup': {'from': 'PositionKeepingCollection', 'localField': 'CurrentAccount.AccountId', 'foreignField': 'AccountId', 'as': 'PositionKeeping'}}, {'$limit': 5}]\n",
      "[{'$match': {'PartyId': '5721e85a-ba4b-11ec-9dcd-892344612080'}}, {'$lookup': {'from': 'CurrentAccountCollection', 'localField': 'PartyId', 'foreignField': 'PartyId', 'as': 'CurrentAccount'}}, {'$lookup': {'from': 'PositionKeepingCollection', 'localField': 'CurrentAccount.AccountId', 'foreignField': 'AccountId', 'as': 'PositionKeeping'}}, {'$limit': 5}]\n",
      "[{'$match': {'PartyId': '5704e8d6-ba4b-11ec-9dcd-892344612080'}}, {'$lookup': {'from': 'CurrentAccountCollection', 'localField': 'PartyId', 'foreignField': 'PartyId', 'as': 'CurrentAccount'}}, {'$lookup': {'from': 'PositionKeepingCollection', 'localField': 'CurrentAccount.AccountId', 'foreignField': 'AccountId', 'as': 'PositionKeeping'}}, {'$limit': 5}]\n",
      "[{'$match': {'PartyId': '553e852a-ba4b-11ec-9dcd-892344612080'}}, {'$lookup': {'from': 'CurrentAccountCollection', 'localField': 'PartyId', 'foreignField': 'PartyId', 'as': 'CurrentAccount'}}, {'$lookup': {'from': 'PositionKeepingCollection', 'localField': 'CurrentAccount.AccountId', 'foreignField': 'AccountId', 'as': 'PositionKeeping'}}, {'$limit': 5}]\n",
      "[{'$match': {'PartyId': '54a5685e-ba4b-11ec-9dcd-892344612080'}}, {'$lookup': {'from': 'CurrentAccountCollection', 'localField': 'PartyId', 'foreignField': 'PartyId', 'as': 'CurrentAccount'}}, {'$lookup': {'from': 'PositionKeepingCollection', 'localField': 'CurrentAccount.AccountId', 'foreignField': 'AccountId', 'as': 'PositionKeeping'}}, {'$limit': 5}]\n",
      "[{'$match': {'PartyId': '54df9920-ba4b-11ec-9dcd-892344612080'}}, {'$lookup': {'from': 'CurrentAccountCollection', 'localField': 'PartyId', 'foreignField': 'PartyId', 'as': 'CurrentAccount'}}, {'$lookup': {'from': 'PositionKeepingCollection', 'localField': 'CurrentAccount.AccountId', 'foreignField': 'AccountId', 'as': 'PositionKeeping'}}, {'$limit': 5}]\n",
      "[{'$match': {'PartyId': '54310a22-ba4b-11ec-9dcd-892344612080'}}, {'$lookup': {'from': 'CurrentAccountCollection', 'localField': 'PartyId', 'foreignField': 'PartyId', 'as': 'CurrentAccount'}}, {'$lookup': {'from': 'PositionKeepingCollection', 'localField': 'CurrentAccount.AccountId', 'foreignField': 'AccountId', 'as': 'PositionKeeping'}}, {'$limit': 5}]\n",
      "[{'$match': {'PartyId': '55e79d68-ba4b-11ec-9dcd-892344612080'}}, {'$lookup': {'from': 'CurrentAccountCollection', 'localField': 'PartyId', 'foreignField': 'PartyId', 'as': 'CurrentAccount'}}, {'$lookup': {'from': 'PositionKeepingCollection', 'localField': 'CurrentAccount.AccountId', 'foreignField': 'AccountId', 'as': 'PositionKeeping'}}, {'$limit': 5}]\n",
      "[{'$match': {'PartyId': '54a90446-ba4b-11ec-9dcd-892344612080'}}, {'$lookup': {'from': 'CurrentAccountCollection', 'localField': 'PartyId', 'foreignField': 'PartyId', 'as': 'CurrentAccount'}}, {'$lookup': {'from': 'PositionKeepingCollection', 'localField': 'CurrentAccount.AccountId', 'foreignField': 'AccountId', 'as': 'PositionKeeping'}}, {'$limit': 5}]\n",
      "[{'$match': {'PartyId': '54ad54ba-ba4b-11ec-9dcd-892344612080'}}, {'$lookup': {'from': 'CurrentAccountCollection', 'localField': 'PartyId', 'foreignField': 'PartyId', 'as': 'CurrentAccount'}}, {'$lookup': {'from': 'PositionKeepingCollection', 'localField': 'CurrentAccount.AccountId', 'foreignField': 'AccountId', 'as': 'PositionKeeping'}}, {'$limit': 5}]\n",
      "[{'$match': {'PartyId': '569c77a6-ba4b-11ec-9dcd-892344612080'}}, {'$lookup': {'from': 'CurrentAccountCollection', 'localField': 'PartyId', 'foreignField': 'PartyId', 'as': 'CurrentAccount'}}, {'$lookup': {'from': 'PositionKeepingCollection', 'localField': 'CurrentAccount.AccountId', 'foreignField': 'AccountId', 'as': 'PositionKeeping'}}, {'$limit': 5}]\n",
      "[{'$match': {'PartyId': '5631974c-ba4b-11ec-9dcd-892344612080'}}, {'$lookup': {'from': 'CurrentAccountCollection', 'localField': 'PartyId', 'foreignField': 'PartyId', 'as': 'CurrentAccount'}}, {'$lookup': {'from': 'PositionKeepingCollection', 'localField': 'CurrentAccount.AccountId', 'foreignField': 'AccountId', 'as': 'PositionKeeping'}}, {'$limit': 5}]\n"
     ]
    },
    {
     "name": "stdout",
     "output_type": "stream",
     "text": [
      "[{'$match': {'PartyId': '52e7c39a-ba4b-11ec-9dcd-892344612080'}}, {'$lookup': {'from': 'CurrentAccountCollection', 'localField': 'PartyId', 'foreignField': 'PartyId', 'as': 'CurrentAccount'}}, {'$lookup': {'from': 'PositionKeepingCollection', 'localField': 'CurrentAccount.AccountId', 'foreignField': 'AccountId', 'as': 'PositionKeeping'}}, {'$limit': 5}]\n",
      "[{'$match': {'PartyId': '558202aa-ba4b-11ec-9dcd-892344612080'}}, {'$lookup': {'from': 'CurrentAccountCollection', 'localField': 'PartyId', 'foreignField': 'PartyId', 'as': 'CurrentAccount'}}, {'$lookup': {'from': 'PositionKeepingCollection', 'localField': 'CurrentAccount.AccountId', 'foreignField': 'AccountId', 'as': 'PositionKeeping'}}, {'$limit': 5}]\n",
      "[{'$match': {'PartyId': '559b7154-ba4b-11ec-9dcd-892344612080'}}, {'$lookup': {'from': 'CurrentAccountCollection', 'localField': 'PartyId', 'foreignField': 'PartyId', 'as': 'CurrentAccount'}}, {'$lookup': {'from': 'PositionKeepingCollection', 'localField': 'CurrentAccount.AccountId', 'foreignField': 'AccountId', 'as': 'PositionKeeping'}}, {'$limit': 5}]\n",
      "[{'$match': {'PartyId': '52a3aae8-ba4b-11ec-9dcd-892344612080'}}, {'$lookup': {'from': 'CurrentAccountCollection', 'localField': 'PartyId', 'foreignField': 'PartyId', 'as': 'CurrentAccount'}}, {'$lookup': {'from': 'PositionKeepingCollection', 'localField': 'CurrentAccount.AccountId', 'foreignField': 'AccountId', 'as': 'PositionKeeping'}}, {'$limit': 5}]\n",
      "[{'$match': {'PartyId': '5698f478-ba4b-11ec-9dcd-892344612080'}}, {'$lookup': {'from': 'CurrentAccountCollection', 'localField': 'PartyId', 'foreignField': 'PartyId', 'as': 'CurrentAccount'}}, {'$lookup': {'from': 'PositionKeepingCollection', 'localField': 'CurrentAccount.AccountId', 'foreignField': 'AccountId', 'as': 'PositionKeeping'}}, {'$limit': 5}]\n",
      "[{'$match': {'PartyId': '527abb42-ba4b-11ec-9dcd-892344612080'}}, {'$lookup': {'from': 'CurrentAccountCollection', 'localField': 'PartyId', 'foreignField': 'PartyId', 'as': 'CurrentAccount'}}, {'$lookup': {'from': 'PositionKeepingCollection', 'localField': 'CurrentAccount.AccountId', 'foreignField': 'AccountId', 'as': 'PositionKeeping'}}, {'$limit': 5}]\n",
      "[{'$match': {'PartyId': '538b0dde-ba4b-11ec-9dcd-892344612080'}}, {'$lookup': {'from': 'CurrentAccountCollection', 'localField': 'PartyId', 'foreignField': 'PartyId', 'as': 'CurrentAccount'}}, {'$lookup': {'from': 'PositionKeepingCollection', 'localField': 'CurrentAccount.AccountId', 'foreignField': 'AccountId', 'as': 'PositionKeeping'}}, {'$limit': 5}]\n",
      "[{'$match': {'PartyId': '53960b4e-ba4b-11ec-9dcd-892344612080'}}, {'$lookup': {'from': 'CurrentAccountCollection', 'localField': 'PartyId', 'foreignField': 'PartyId', 'as': 'CurrentAccount'}}, {'$lookup': {'from': 'PositionKeepingCollection', 'localField': 'CurrentAccount.AccountId', 'foreignField': 'AccountId', 'as': 'PositionKeeping'}}, {'$limit': 5}]\n",
      "[{'$match': {'PartyId': '573f6ff6-ba4b-11ec-9dcd-892344612080'}}, {'$lookup': {'from': 'CurrentAccountCollection', 'localField': 'PartyId', 'foreignField': 'PartyId', 'as': 'CurrentAccount'}}, {'$lookup': {'from': 'PositionKeepingCollection', 'localField': 'CurrentAccount.AccountId', 'foreignField': 'AccountId', 'as': 'PositionKeeping'}}, {'$limit': 5}]\n",
      "[{'$match': {'PartyId': '5270ed6a-ba4b-11ec-9dcd-892344612080'}}, {'$lookup': {'from': 'CurrentAccountCollection', 'localField': 'PartyId', 'foreignField': 'PartyId', 'as': 'CurrentAccount'}}, {'$lookup': {'from': 'PositionKeepingCollection', 'localField': 'CurrentAccount.AccountId', 'foreignField': 'AccountId', 'as': 'PositionKeeping'}}, {'$limit': 5}]\n",
      "[{'$match': {'PartyId': '52e2ca5c-ba4b-11ec-9dcd-892344612080'}}, {'$lookup': {'from': 'CurrentAccountCollection', 'localField': 'PartyId', 'foreignField': 'PartyId', 'as': 'CurrentAccount'}}, {'$lookup': {'from': 'PositionKeepingCollection', 'localField': 'CurrentAccount.AccountId', 'foreignField': 'AccountId', 'as': 'PositionKeeping'}}, {'$limit': 5}]\n",
      "[{'$match': {'PartyId': '56bc5260-ba4b-11ec-9dcd-892344612080'}}, {'$lookup': {'from': 'CurrentAccountCollection', 'localField': 'PartyId', 'foreignField': 'PartyId', 'as': 'CurrentAccount'}}, {'$lookup': {'from': 'PositionKeepingCollection', 'localField': 'CurrentAccount.AccountId', 'foreignField': 'AccountId', 'as': 'PositionKeeping'}}, {'$limit': 5}]\n",
      "[{'$match': {'PartyId': '56a79e38-ba4b-11ec-9dcd-892344612080'}}, {'$lookup': {'from': 'CurrentAccountCollection', 'localField': 'PartyId', 'foreignField': 'PartyId', 'as': 'CurrentAccount'}}, {'$lookup': {'from': 'PositionKeepingCollection', 'localField': 'CurrentAccount.AccountId', 'foreignField': 'AccountId', 'as': 'PositionKeeping'}}, {'$limit': 5}]\n",
      "[{'$match': {'PartyId': '54c3e0c2-ba4b-11ec-9dcd-892344612080'}}, {'$lookup': {'from': 'CurrentAccountCollection', 'localField': 'PartyId', 'foreignField': 'PartyId', 'as': 'CurrentAccount'}}, {'$lookup': {'from': 'PositionKeepingCollection', 'localField': 'CurrentAccount.AccountId', 'foreignField': 'AccountId', 'as': 'PositionKeeping'}}, {'$limit': 5}]\n",
      "[{'$match': {'PartyId': '56e77f26-ba4b-11ec-9dcd-892344612080'}}, {'$lookup': {'from': 'CurrentAccountCollection', 'localField': 'PartyId', 'foreignField': 'PartyId', 'as': 'CurrentAccount'}}, {'$lookup': {'from': 'PositionKeepingCollection', 'localField': 'CurrentAccount.AccountId', 'foreignField': 'AccountId', 'as': 'PositionKeeping'}}, {'$limit': 5}]\n",
      "[{'$match': {'PartyId': '54e11ec6-ba4b-11ec-9dcd-892344612080'}}, {'$lookup': {'from': 'CurrentAccountCollection', 'localField': 'PartyId', 'foreignField': 'PartyId', 'as': 'CurrentAccount'}}, {'$lookup': {'from': 'PositionKeepingCollection', 'localField': 'CurrentAccount.AccountId', 'foreignField': 'AccountId', 'as': 'PositionKeeping'}}, {'$limit': 5}]\n",
      "[{'$match': {'PartyId': '528d833a-ba4b-11ec-9dcd-892344612080'}}, {'$lookup': {'from': 'CurrentAccountCollection', 'localField': 'PartyId', 'foreignField': 'PartyId', 'as': 'CurrentAccount'}}, {'$lookup': {'from': 'PositionKeepingCollection', 'localField': 'CurrentAccount.AccountId', 'foreignField': 'AccountId', 'as': 'PositionKeeping'}}, {'$limit': 5}]\n",
      "[{'$match': {'PartyId': '536612d6-ba4b-11ec-9dcd-892344612080'}}, {'$lookup': {'from': 'CurrentAccountCollection', 'localField': 'PartyId', 'foreignField': 'PartyId', 'as': 'CurrentAccount'}}, {'$lookup': {'from': 'PositionKeepingCollection', 'localField': 'CurrentAccount.AccountId', 'foreignField': 'AccountId', 'as': 'PositionKeeping'}}, {'$limit': 5}]\n",
      "[{'$match': {'PartyId': '570e0330-ba4b-11ec-9dcd-892344612080'}}, {'$lookup': {'from': 'CurrentAccountCollection', 'localField': 'PartyId', 'foreignField': 'PartyId', 'as': 'CurrentAccount'}}, {'$lookup': {'from': 'PositionKeepingCollection', 'localField': 'CurrentAccount.AccountId', 'foreignField': 'AccountId', 'as': 'PositionKeeping'}}, {'$limit': 5}]\n",
      "[{'$match': {'PartyId': '56fe297e-ba4b-11ec-9dcd-892344612080'}}, {'$lookup': {'from': 'CurrentAccountCollection', 'localField': 'PartyId', 'foreignField': 'PartyId', 'as': 'CurrentAccount'}}, {'$lookup': {'from': 'PositionKeepingCollection', 'localField': 'CurrentAccount.AccountId', 'foreignField': 'AccountId', 'as': 'PositionKeeping'}}, {'$limit': 5}]\n",
      "[{'$match': {'PartyId': '545f8e4c-ba4b-11ec-9dcd-892344612080'}}, {'$lookup': {'from': 'CurrentAccountCollection', 'localField': 'PartyId', 'foreignField': 'PartyId', 'as': 'CurrentAccount'}}, {'$lookup': {'from': 'PositionKeepingCollection', 'localField': 'CurrentAccount.AccountId', 'foreignField': 'AccountId', 'as': 'PositionKeeping'}}, {'$limit': 5}]\n",
      "[{'$match': {'PartyId': '5311ad90-ba4b-11ec-9dcd-892344612080'}}, {'$lookup': {'from': 'CurrentAccountCollection', 'localField': 'PartyId', 'foreignField': 'PartyId', 'as': 'CurrentAccount'}}, {'$lookup': {'from': 'PositionKeepingCollection', 'localField': 'CurrentAccount.AccountId', 'foreignField': 'AccountId', 'as': 'PositionKeeping'}}, {'$limit': 5}]\n",
      "[{'$match': {'PartyId': '52c67212-ba4b-11ec-9dcd-892344612080'}}, {'$lookup': {'from': 'CurrentAccountCollection', 'localField': 'PartyId', 'foreignField': 'PartyId', 'as': 'CurrentAccount'}}, {'$lookup': {'from': 'PositionKeepingCollection', 'localField': 'CurrentAccount.AccountId', 'foreignField': 'AccountId', 'as': 'PositionKeeping'}}, {'$limit': 5}]\n",
      "[{'$match': {'PartyId': '5755c2e2-ba4b-11ec-9dcd-892344612080'}}, {'$lookup': {'from': 'CurrentAccountCollection', 'localField': 'PartyId', 'foreignField': 'PartyId', 'as': 'CurrentAccount'}}, {'$lookup': {'from': 'PositionKeepingCollection', 'localField': 'CurrentAccount.AccountId', 'foreignField': 'AccountId', 'as': 'PositionKeeping'}}, {'$limit': 5}]\n"
     ]
    },
    {
     "name": "stdout",
     "output_type": "stream",
     "text": [
      "[{'$match': {'PartyId': '5384be0c-ba4b-11ec-9dcd-892344612080'}}, {'$lookup': {'from': 'CurrentAccountCollection', 'localField': 'PartyId', 'foreignField': 'PartyId', 'as': 'CurrentAccount'}}, {'$lookup': {'from': 'PositionKeepingCollection', 'localField': 'CurrentAccount.AccountId', 'foreignField': 'AccountId', 'as': 'PositionKeeping'}}, {'$limit': 5}]\n",
      "[{'$match': {'PartyId': '563a3d7a-ba4b-11ec-9dcd-892344612080'}}, {'$lookup': {'from': 'CurrentAccountCollection', 'localField': 'PartyId', 'foreignField': 'PartyId', 'as': 'CurrentAccount'}}, {'$lookup': {'from': 'PositionKeepingCollection', 'localField': 'CurrentAccount.AccountId', 'foreignField': 'AccountId', 'as': 'PositionKeeping'}}, {'$limit': 5}]\n",
      "[{'$match': {'PartyId': '544df1f0-ba4b-11ec-9dcd-892344612080'}}, {'$lookup': {'from': 'CurrentAccountCollection', 'localField': 'PartyId', 'foreignField': 'PartyId', 'as': 'CurrentAccount'}}, {'$lookup': {'from': 'PositionKeepingCollection', 'localField': 'CurrentAccount.AccountId', 'foreignField': 'AccountId', 'as': 'PositionKeeping'}}, {'$limit': 5}]\n",
      "[{'$match': {'PartyId': '534cdc76-ba4b-11ec-9dcd-892344612080'}}, {'$lookup': {'from': 'CurrentAccountCollection', 'localField': 'PartyId', 'foreignField': 'PartyId', 'as': 'CurrentAccount'}}, {'$lookup': {'from': 'PositionKeepingCollection', 'localField': 'CurrentAccount.AccountId', 'foreignField': 'AccountId', 'as': 'PositionKeeping'}}, {'$limit': 5}]\n",
      "[{'$match': {'PartyId': '55c92fd6-ba4b-11ec-9dcd-892344612080'}}, {'$lookup': {'from': 'CurrentAccountCollection', 'localField': 'PartyId', 'foreignField': 'PartyId', 'as': 'CurrentAccount'}}, {'$lookup': {'from': 'PositionKeepingCollection', 'localField': 'CurrentAccount.AccountId', 'foreignField': 'AccountId', 'as': 'PositionKeeping'}}, {'$limit': 5}]\n",
      "[{'$match': {'PartyId': '52963f0c-ba4b-11ec-9dcd-892344612080'}}, {'$lookup': {'from': 'CurrentAccountCollection', 'localField': 'PartyId', 'foreignField': 'PartyId', 'as': 'CurrentAccount'}}, {'$lookup': {'from': 'PositionKeepingCollection', 'localField': 'CurrentAccount.AccountId', 'foreignField': 'AccountId', 'as': 'PositionKeeping'}}, {'$limit': 5}]\n",
      "[{'$match': {'PartyId': '549e2f9e-ba4b-11ec-9dcd-892344612080'}}, {'$lookup': {'from': 'CurrentAccountCollection', 'localField': 'PartyId', 'foreignField': 'PartyId', 'as': 'CurrentAccount'}}, {'$lookup': {'from': 'PositionKeepingCollection', 'localField': 'CurrentAccount.AccountId', 'foreignField': 'AccountId', 'as': 'PositionKeeping'}}, {'$limit': 5}]\n",
      "[{'$match': {'PartyId': '5522b8ea-ba4b-11ec-9dcd-892344612080'}}, {'$lookup': {'from': 'CurrentAccountCollection', 'localField': 'PartyId', 'foreignField': 'PartyId', 'as': 'CurrentAccount'}}, {'$lookup': {'from': 'PositionKeepingCollection', 'localField': 'CurrentAccount.AccountId', 'foreignField': 'AccountId', 'as': 'PositionKeeping'}}, {'$limit': 5}]\n",
      "[{'$match': {'PartyId': '5525f208-ba4b-11ec-9dcd-892344612080'}}, {'$lookup': {'from': 'CurrentAccountCollection', 'localField': 'PartyId', 'foreignField': 'PartyId', 'as': 'CurrentAccount'}}, {'$lookup': {'from': 'PositionKeepingCollection', 'localField': 'CurrentAccount.AccountId', 'foreignField': 'AccountId', 'as': 'PositionKeeping'}}, {'$limit': 5}]\n",
      "[{'$match': {'PartyId': '5530c02a-ba4b-11ec-9dcd-892344612080'}}, {'$lookup': {'from': 'CurrentAccountCollection', 'localField': 'PartyId', 'foreignField': 'PartyId', 'as': 'CurrentAccount'}}, {'$lookup': {'from': 'PositionKeepingCollection', 'localField': 'CurrentAccount.AccountId', 'foreignField': 'AccountId', 'as': 'PositionKeeping'}}, {'$limit': 5}]\n",
      "[{'$match': {'PartyId': '54bf4b98-ba4b-11ec-9dcd-892344612080'}}, {'$lookup': {'from': 'CurrentAccountCollection', 'localField': 'PartyId', 'foreignField': 'PartyId', 'as': 'CurrentAccount'}}, {'$lookup': {'from': 'PositionKeepingCollection', 'localField': 'CurrentAccount.AccountId', 'foreignField': 'AccountId', 'as': 'PositionKeeping'}}, {'$limit': 5}]\n",
      "[{'$match': {'PartyId': '54358c3c-ba4b-11ec-9dcd-892344612080'}}, {'$lookup': {'from': 'CurrentAccountCollection', 'localField': 'PartyId', 'foreignField': 'PartyId', 'as': 'CurrentAccount'}}, {'$lookup': {'from': 'PositionKeepingCollection', 'localField': 'CurrentAccount.AccountId', 'foreignField': 'AccountId', 'as': 'PositionKeeping'}}, {'$limit': 5}]\n",
      "[{'$match': {'PartyId': '549abd6e-ba4b-11ec-9dcd-892344612080'}}, {'$lookup': {'from': 'CurrentAccountCollection', 'localField': 'PartyId', 'foreignField': 'PartyId', 'as': 'CurrentAccount'}}, {'$lookup': {'from': 'PositionKeepingCollection', 'localField': 'CurrentAccount.AccountId', 'foreignField': 'AccountId', 'as': 'PositionKeeping'}}, {'$limit': 5}]\n",
      "[{'$match': {'PartyId': '54967a56-ba4b-11ec-9dcd-892344612080'}}, {'$lookup': {'from': 'CurrentAccountCollection', 'localField': 'PartyId', 'foreignField': 'PartyId', 'as': 'CurrentAccount'}}, {'$lookup': {'from': 'PositionKeepingCollection', 'localField': 'CurrentAccount.AccountId', 'foreignField': 'AccountId', 'as': 'PositionKeeping'}}, {'$limit': 5}]\n",
      "[{'$match': {'PartyId': '56ca5fb8-ba4b-11ec-9dcd-892344612080'}}, {'$lookup': {'from': 'CurrentAccountCollection', 'localField': 'PartyId', 'foreignField': 'PartyId', 'as': 'CurrentAccount'}}, {'$lookup': {'from': 'PositionKeepingCollection', 'localField': 'CurrentAccount.AccountId', 'foreignField': 'AccountId', 'as': 'PositionKeeping'}}, {'$limit': 5}]\n",
      "[{'$match': {'PartyId': '557d8df6-ba4b-11ec-9dcd-892344612080'}}, {'$lookup': {'from': 'CurrentAccountCollection', 'localField': 'PartyId', 'foreignField': 'PartyId', 'as': 'CurrentAccount'}}, {'$lookup': {'from': 'PositionKeepingCollection', 'localField': 'CurrentAccount.AccountId', 'foreignField': 'AccountId', 'as': 'PositionKeeping'}}, {'$limit': 5}]\n",
      "[{'$match': {'PartyId': '52ea8be8-ba4b-11ec-9dcd-892344612080'}}, {'$lookup': {'from': 'CurrentAccountCollection', 'localField': 'PartyId', 'foreignField': 'PartyId', 'as': 'CurrentAccount'}}, {'$lookup': {'from': 'PositionKeepingCollection', 'localField': 'CurrentAccount.AccountId', 'foreignField': 'AccountId', 'as': 'PositionKeeping'}}, {'$limit': 5}]\n",
      "[{'$match': {'PartyId': '543f5f28-ba4b-11ec-9dcd-892344612080'}}, {'$lookup': {'from': 'CurrentAccountCollection', 'localField': 'PartyId', 'foreignField': 'PartyId', 'as': 'CurrentAccount'}}, {'$lookup': {'from': 'PositionKeepingCollection', 'localField': 'CurrentAccount.AccountId', 'foreignField': 'AccountId', 'as': 'PositionKeeping'}}, {'$limit': 5}]\n",
      "[{'$match': {'PartyId': '53d01b68-ba4b-11ec-9dcd-892344612080'}}, {'$lookup': {'from': 'CurrentAccountCollection', 'localField': 'PartyId', 'foreignField': 'PartyId', 'as': 'CurrentAccount'}}, {'$lookup': {'from': 'PositionKeepingCollection', 'localField': 'CurrentAccount.AccountId', 'foreignField': 'AccountId', 'as': 'PositionKeeping'}}, {'$limit': 5}]\n",
      "[{'$match': {'PartyId': '5474eefe-ba4b-11ec-9dcd-892344612080'}}, {'$lookup': {'from': 'CurrentAccountCollection', 'localField': 'PartyId', 'foreignField': 'PartyId', 'as': 'CurrentAccount'}}, {'$lookup': {'from': 'PositionKeepingCollection', 'localField': 'CurrentAccount.AccountId', 'foreignField': 'AccountId', 'as': 'PositionKeeping'}}, {'$limit': 5}]\n",
      "[{'$match': {'PartyId': '5486d51a-ba4b-11ec-9dcd-892344612080'}}, {'$lookup': {'from': 'CurrentAccountCollection', 'localField': 'PartyId', 'foreignField': 'PartyId', 'as': 'CurrentAccount'}}, {'$lookup': {'from': 'PositionKeepingCollection', 'localField': 'CurrentAccount.AccountId', 'foreignField': 'AccountId', 'as': 'PositionKeeping'}}, {'$limit': 5}]\n",
      "[{'$match': {'PartyId': '569f8d74-ba4b-11ec-9dcd-892344612080'}}, {'$lookup': {'from': 'CurrentAccountCollection', 'localField': 'PartyId', 'foreignField': 'PartyId', 'as': 'CurrentAccount'}}, {'$lookup': {'from': 'PositionKeepingCollection', 'localField': 'CurrentAccount.AccountId', 'foreignField': 'AccountId', 'as': 'PositionKeeping'}}, {'$limit': 5}]\n",
      "[{'$match': {'PartyId': '55fb469c-ba4b-11ec-9dcd-892344612080'}}, {'$lookup': {'from': 'CurrentAccountCollection', 'localField': 'PartyId', 'foreignField': 'PartyId', 'as': 'CurrentAccount'}}, {'$lookup': {'from': 'PositionKeepingCollection', 'localField': 'CurrentAccount.AccountId', 'foreignField': 'AccountId', 'as': 'PositionKeeping'}}, {'$limit': 5}]\n",
      "[{'$match': {'PartyId': '534c7056-ba4b-11ec-9dcd-892344612080'}}, {'$lookup': {'from': 'CurrentAccountCollection', 'localField': 'PartyId', 'foreignField': 'PartyId', 'as': 'CurrentAccount'}}, {'$lookup': {'from': 'PositionKeepingCollection', 'localField': 'CurrentAccount.AccountId', 'foreignField': 'AccountId', 'as': 'PositionKeeping'}}, {'$limit': 5}]\n"
     ]
    },
    {
     "name": "stdout",
     "output_type": "stream",
     "text": [
      "[{'$match': {'PartyId': '53677a04-ba4b-11ec-9dcd-892344612080'}}, {'$lookup': {'from': 'CurrentAccountCollection', 'localField': 'PartyId', 'foreignField': 'PartyId', 'as': 'CurrentAccount'}}, {'$lookup': {'from': 'PositionKeepingCollection', 'localField': 'CurrentAccount.AccountId', 'foreignField': 'AccountId', 'as': 'PositionKeeping'}}, {'$limit': 5}]\n",
      "[{'$match': {'PartyId': '562f5982-ba4b-11ec-9dcd-892344612080'}}, {'$lookup': {'from': 'CurrentAccountCollection', 'localField': 'PartyId', 'foreignField': 'PartyId', 'as': 'CurrentAccount'}}, {'$lookup': {'from': 'PositionKeepingCollection', 'localField': 'CurrentAccount.AccountId', 'foreignField': 'AccountId', 'as': 'PositionKeeping'}}, {'$limit': 5}]\n",
      "[{'$match': {'PartyId': '5507a05a-ba4b-11ec-9dcd-892344612080'}}, {'$lookup': {'from': 'CurrentAccountCollection', 'localField': 'PartyId', 'foreignField': 'PartyId', 'as': 'CurrentAccount'}}, {'$lookup': {'from': 'PositionKeepingCollection', 'localField': 'CurrentAccount.AccountId', 'foreignField': 'AccountId', 'as': 'PositionKeeping'}}, {'$limit': 5}]\n",
      "[{'$match': {'PartyId': '5711ed4c-ba4b-11ec-9dcd-892344612080'}}, {'$lookup': {'from': 'CurrentAccountCollection', 'localField': 'PartyId', 'foreignField': 'PartyId', 'as': 'CurrentAccount'}}, {'$lookup': {'from': 'PositionKeepingCollection', 'localField': 'CurrentAccount.AccountId', 'foreignField': 'AccountId', 'as': 'PositionKeeping'}}, {'$limit': 5}]\n",
      "[{'$match': {'PartyId': '533982ac-ba4b-11ec-9dcd-892344612080'}}, {'$lookup': {'from': 'CurrentAccountCollection', 'localField': 'PartyId', 'foreignField': 'PartyId', 'as': 'CurrentAccount'}}, {'$lookup': {'from': 'PositionKeepingCollection', 'localField': 'CurrentAccount.AccountId', 'foreignField': 'AccountId', 'as': 'PositionKeeping'}}, {'$limit': 5}]\n",
      "[{'$match': {'PartyId': '53b599b4-ba4b-11ec-9dcd-892344612080'}}, {'$lookup': {'from': 'CurrentAccountCollection', 'localField': 'PartyId', 'foreignField': 'PartyId', 'as': 'CurrentAccount'}}, {'$lookup': {'from': 'PositionKeepingCollection', 'localField': 'CurrentAccount.AccountId', 'foreignField': 'AccountId', 'as': 'PositionKeeping'}}, {'$limit': 5}]\n",
      "[{'$match': {'PartyId': '55a53d4c-ba4b-11ec-9dcd-892344612080'}}, {'$lookup': {'from': 'CurrentAccountCollection', 'localField': 'PartyId', 'foreignField': 'PartyId', 'as': 'CurrentAccount'}}, {'$lookup': {'from': 'PositionKeepingCollection', 'localField': 'CurrentAccount.AccountId', 'foreignField': 'AccountId', 'as': 'PositionKeeping'}}, {'$limit': 5}]\n",
      "[{'$match': {'PartyId': '552e0524-ba4b-11ec-9dcd-892344612080'}}, {'$lookup': {'from': 'CurrentAccountCollection', 'localField': 'PartyId', 'foreignField': 'PartyId', 'as': 'CurrentAccount'}}, {'$lookup': {'from': 'PositionKeepingCollection', 'localField': 'CurrentAccount.AccountId', 'foreignField': 'AccountId', 'as': 'PositionKeeping'}}, {'$limit': 5}]\n",
      "[{'$match': {'PartyId': '572f7952-ba4b-11ec-9dcd-892344612080'}}, {'$lookup': {'from': 'CurrentAccountCollection', 'localField': 'PartyId', 'foreignField': 'PartyId', 'as': 'CurrentAccount'}}, {'$lookup': {'from': 'PositionKeepingCollection', 'localField': 'CurrentAccount.AccountId', 'foreignField': 'AccountId', 'as': 'PositionKeeping'}}, {'$limit': 5}]\n",
      "[{'$match': {'PartyId': '5261ea0e-ba4b-11ec-9dcd-892344612080'}}, {'$lookup': {'from': 'CurrentAccountCollection', 'localField': 'PartyId', 'foreignField': 'PartyId', 'as': 'CurrentAccount'}}, {'$lookup': {'from': 'PositionKeepingCollection', 'localField': 'CurrentAccount.AccountId', 'foreignField': 'AccountId', 'as': 'PositionKeeping'}}, {'$limit': 5}]\n",
      "[{'$match': {'PartyId': '56361f88-ba4b-11ec-9dcd-892344612080'}}, {'$lookup': {'from': 'CurrentAccountCollection', 'localField': 'PartyId', 'foreignField': 'PartyId', 'as': 'CurrentAccount'}}, {'$lookup': {'from': 'PositionKeepingCollection', 'localField': 'CurrentAccount.AccountId', 'foreignField': 'AccountId', 'as': 'PositionKeeping'}}, {'$limit': 5}]\n",
      "[{'$match': {'PartyId': '555789ee-ba4b-11ec-9dcd-892344612080'}}, {'$lookup': {'from': 'CurrentAccountCollection', 'localField': 'PartyId', 'foreignField': 'PartyId', 'as': 'CurrentAccount'}}, {'$lookup': {'from': 'PositionKeepingCollection', 'localField': 'CurrentAccount.AccountId', 'foreignField': 'AccountId', 'as': 'PositionKeeping'}}, {'$limit': 5}]\n",
      "[{'$match': {'PartyId': '5284bb74-ba4b-11ec-9dcd-892344612080'}}, {'$lookup': {'from': 'CurrentAccountCollection', 'localField': 'PartyId', 'foreignField': 'PartyId', 'as': 'CurrentAccount'}}, {'$lookup': {'from': 'PositionKeepingCollection', 'localField': 'CurrentAccount.AccountId', 'foreignField': 'AccountId', 'as': 'PositionKeeping'}}, {'$limit': 5}]\n",
      "[{'$match': {'PartyId': '53d95aca-ba4b-11ec-9dcd-892344612080'}}, {'$lookup': {'from': 'CurrentAccountCollection', 'localField': 'PartyId', 'foreignField': 'PartyId', 'as': 'CurrentAccount'}}, {'$lookup': {'from': 'PositionKeepingCollection', 'localField': 'CurrentAccount.AccountId', 'foreignField': 'AccountId', 'as': 'PositionKeeping'}}, {'$limit': 5}]\n",
      "[{'$match': {'PartyId': '564e05b2-ba4b-11ec-9dcd-892344612080'}}, {'$lookup': {'from': 'CurrentAccountCollection', 'localField': 'PartyId', 'foreignField': 'PartyId', 'as': 'CurrentAccount'}}, {'$lookup': {'from': 'PositionKeepingCollection', 'localField': 'CurrentAccount.AccountId', 'foreignField': 'AccountId', 'as': 'PositionKeeping'}}, {'$limit': 5}]\n",
      "[{'$match': {'PartyId': '564ea986-ba4b-11ec-9dcd-892344612080'}}, {'$lookup': {'from': 'CurrentAccountCollection', 'localField': 'PartyId', 'foreignField': 'PartyId', 'as': 'CurrentAccount'}}, {'$lookup': {'from': 'PositionKeepingCollection', 'localField': 'CurrentAccount.AccountId', 'foreignField': 'AccountId', 'as': 'PositionKeeping'}}, {'$limit': 5}]\n",
      "[{'$match': {'PartyId': '53ca514c-ba4b-11ec-9dcd-892344612080'}}, {'$lookup': {'from': 'CurrentAccountCollection', 'localField': 'PartyId', 'foreignField': 'PartyId', 'as': 'CurrentAccount'}}, {'$lookup': {'from': 'PositionKeepingCollection', 'localField': 'CurrentAccount.AccountId', 'foreignField': 'AccountId', 'as': 'PositionKeeping'}}, {'$limit': 5}]\n",
      "[{'$match': {'PartyId': '55a9c02e-ba4b-11ec-9dcd-892344612080'}}, {'$lookup': {'from': 'CurrentAccountCollection', 'localField': 'PartyId', 'foreignField': 'PartyId', 'as': 'CurrentAccount'}}, {'$lookup': {'from': 'PositionKeepingCollection', 'localField': 'CurrentAccount.AccountId', 'foreignField': 'AccountId', 'as': 'PositionKeeping'}}, {'$limit': 5}]\n",
      "[{'$match': {'PartyId': '5479b524-ba4b-11ec-9dcd-892344612080'}}, {'$lookup': {'from': 'CurrentAccountCollection', 'localField': 'PartyId', 'foreignField': 'PartyId', 'as': 'CurrentAccount'}}, {'$lookup': {'from': 'PositionKeepingCollection', 'localField': 'CurrentAccount.AccountId', 'foreignField': 'AccountId', 'as': 'PositionKeeping'}}, {'$limit': 5}]\n",
      "[{'$match': {'PartyId': '54dbadba-ba4b-11ec-9dcd-892344612080'}}, {'$lookup': {'from': 'CurrentAccountCollection', 'localField': 'PartyId', 'foreignField': 'PartyId', 'as': 'CurrentAccount'}}, {'$lookup': {'from': 'PositionKeepingCollection', 'localField': 'CurrentAccount.AccountId', 'foreignField': 'AccountId', 'as': 'PositionKeeping'}}, {'$limit': 5}]\n",
      "[{'$match': {'PartyId': '57113302-ba4b-11ec-9dcd-892344612080'}}, {'$lookup': {'from': 'CurrentAccountCollection', 'localField': 'PartyId', 'foreignField': 'PartyId', 'as': 'CurrentAccount'}}, {'$lookup': {'from': 'PositionKeepingCollection', 'localField': 'CurrentAccount.AccountId', 'foreignField': 'AccountId', 'as': 'PositionKeeping'}}, {'$limit': 5}]\n",
      "[{'$match': {'PartyId': '5420ea16-ba4b-11ec-9dcd-892344612080'}}, {'$lookup': {'from': 'CurrentAccountCollection', 'localField': 'PartyId', 'foreignField': 'PartyId', 'as': 'CurrentAccount'}}, {'$lookup': {'from': 'PositionKeepingCollection', 'localField': 'CurrentAccount.AccountId', 'foreignField': 'AccountId', 'as': 'PositionKeeping'}}, {'$limit': 5}]\n",
      "[{'$match': {'PartyId': '533e27a8-ba4b-11ec-9dcd-892344612080'}}, {'$lookup': {'from': 'CurrentAccountCollection', 'localField': 'PartyId', 'foreignField': 'PartyId', 'as': 'CurrentAccount'}}, {'$lookup': {'from': 'PositionKeepingCollection', 'localField': 'CurrentAccount.AccountId', 'foreignField': 'AccountId', 'as': 'PositionKeeping'}}, {'$limit': 5}]\n",
      "[{'$match': {'PartyId': '52eefa2a-ba4b-11ec-9dcd-892344612080'}}, {'$lookup': {'from': 'CurrentAccountCollection', 'localField': 'PartyId', 'foreignField': 'PartyId', 'as': 'CurrentAccount'}}, {'$lookup': {'from': 'PositionKeepingCollection', 'localField': 'CurrentAccount.AccountId', 'foreignField': 'AccountId', 'as': 'PositionKeeping'}}, {'$limit': 5}]\n"
     ]
    },
    {
     "name": "stdout",
     "output_type": "stream",
     "text": [
      "[{'$match': {'PartyId': '56287e32-ba4b-11ec-9dcd-892344612080'}}, {'$lookup': {'from': 'CurrentAccountCollection', 'localField': 'PartyId', 'foreignField': 'PartyId', 'as': 'CurrentAccount'}}, {'$lookup': {'from': 'PositionKeepingCollection', 'localField': 'CurrentAccount.AccountId', 'foreignField': 'AccountId', 'as': 'PositionKeeping'}}, {'$limit': 5}]\n",
      "[{'$match': {'PartyId': '557c763c-ba4b-11ec-9dcd-892344612080'}}, {'$lookup': {'from': 'CurrentAccountCollection', 'localField': 'PartyId', 'foreignField': 'PartyId', 'as': 'CurrentAccount'}}, {'$lookup': {'from': 'PositionKeepingCollection', 'localField': 'CurrentAccount.AccountId', 'foreignField': 'AccountId', 'as': 'PositionKeeping'}}, {'$limit': 5}]\n",
      "[{'$match': {'PartyId': '55324738-ba4b-11ec-9dcd-892344612080'}}, {'$lookup': {'from': 'CurrentAccountCollection', 'localField': 'PartyId', 'foreignField': 'PartyId', 'as': 'CurrentAccount'}}, {'$lookup': {'from': 'PositionKeepingCollection', 'localField': 'CurrentAccount.AccountId', 'foreignField': 'AccountId', 'as': 'PositionKeeping'}}, {'$limit': 5}]\n",
      "[{'$match': {'PartyId': '53378cfe-ba4b-11ec-9dcd-892344612080'}}, {'$lookup': {'from': 'CurrentAccountCollection', 'localField': 'PartyId', 'foreignField': 'PartyId', 'as': 'CurrentAccount'}}, {'$lookup': {'from': 'PositionKeepingCollection', 'localField': 'CurrentAccount.AccountId', 'foreignField': 'AccountId', 'as': 'PositionKeeping'}}, {'$limit': 5}]\n"
     ]
    }
   ],
   "source": [
    "time_inicial = 0\n",
    "time_final = 0\n",
    "registers = []\n",
    " \n",
    "for iteracion in range(0,repeats): \n",
    "    time_inicial = time.time()\n",
    "    CustomerProfileCollection.aggregate(generate_select_pipeline())\n",
    "    time_final = time.time() \n",
    "    used_cpu = psutil.cpu_percent()\n",
    "    mem_used = psutil.virtual_memory().percent\n",
    "    # Tupla con numero de registros, tiempo parcial de la transacción y tiempo acumulado de trxs\n",
    "    total_time = round(time_final - time_inicial,3)\n",
    "    registers.append((iteracion + 1, total_time ,used_cpu, mem_used))"
   ]
  },
  {
   "cell_type": "code",
   "execution_count": 55,
   "metadata": {},
   "outputs": [
    {
     "data": {
      "text/plain": [
       "[(11, 1.026, 17.0, 24.4),\n",
       " (12, 1.022, 17.4, 24.4),\n",
       " (13, 1.024, 17.1, 24.4),\n",
       " (14, 1.031, 17.8, 24.3),\n",
       " (15, 1.033, 17.8, 24.4),\n",
       " (16, 1.021, 17.1, 24.4),\n",
       " (17, 1.076, 20.3, 24.4),\n",
       " (18, 1.032, 17.2, 24.3),\n",
       " (19, 1.044, 18.4, 24.3),\n",
       " (20, 1.035, 17.9, 24.4)]"
      ]
     },
     "execution_count": 55,
     "metadata": {},
     "output_type": "execute_result"
    }
   ],
   "source": [
    "registers[10:20]"
   ]
  },
  {
   "cell_type": "code",
   "execution_count": 56,
   "metadata": {},
   "outputs": [],
   "source": [
    "#Guardamos los resultados Customer Profile\n",
    "save_results_to_csv(registers,resultados_mongodb_select)"
   ]
  },
  {
   "cell_type": "code",
   "execution_count": 57,
   "metadata": {
    "scrolled": true
   },
   "outputs": [
    {
     "name": "stdout",
     "output_type": "stream",
     "text": [
      "Conexion cerrada\n"
     ]
    }
   ],
   "source": [
    "connection.close()\n",
    "print('Conexion cerrada')"
   ]
  }
 ],
 "metadata": {
  "kernelspec": {
   "display_name": "Python 3",
   "language": "python",
   "name": "python3"
  },
  "language_info": {
   "codemirror_mode": {
    "name": "ipython",
    "version": 3
   },
   "file_extension": ".py",
   "mimetype": "text/x-python",
   "name": "python",
   "nbconvert_exporter": "python",
   "pygments_lexer": "ipython3",
   "version": "3.7.6"
  }
 },
 "nbformat": 4,
 "nbformat_minor": 4
}
