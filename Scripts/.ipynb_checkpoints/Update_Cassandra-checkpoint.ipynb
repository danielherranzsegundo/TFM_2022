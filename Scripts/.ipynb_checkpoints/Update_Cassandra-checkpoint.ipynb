{
 "cells": [
  {
   "cell_type": "markdown",
   "metadata": {},
   "source": [
    "Script de update datos Cassandra en cluster multidomain"
   ]
  },
  {
   "cell_type": "code",
   "execution_count": 1,
   "metadata": {},
   "outputs": [
    {
     "name": "stdout",
     "output_type": "stream",
     "text": [
      "Requirement already satisfied: mysql-connector==2.1.7 in /home/danielherranzsegundo/anaconda3/lib/python3.7/site-packages (2.1.7)\n",
      "Requirement already satisfied: pandas in /home/danielherranzsegundo/anaconda3/lib/python3.7/site-packages (1.0.1)\n",
      "Requirement already satisfied: pytz>=2017.2 in /home/danielherranzsegundo/anaconda3/lib/python3.7/site-packages (from pandas) (2019.3)\n",
      "Requirement already satisfied: numpy>=1.13.3 in /home/danielherranzsegundo/anaconda3/lib/python3.7/site-packages (from pandas) (1.18.1)\n",
      "Requirement already satisfied: python-dateutil>=2.6.1 in /home/danielherranzsegundo/anaconda3/lib/python3.7/site-packages (from pandas) (2.8.1)\n",
      "Requirement already satisfied: six>=1.5 in /home/danielherranzsegundo/anaconda3/lib/python3.7/site-packages (from python-dateutil>=2.6.1->pandas) (1.14.0)\n",
      "Requirement already satisfied: sqlalchemy in /home/danielherranzsegundo/anaconda3/lib/python3.7/site-packages (1.3.13)\n",
      "Requirement already satisfied: mysqlclient in /home/danielherranzsegundo/anaconda3/lib/python3.7/site-packages (2.1.0)\n",
      "Requirement already satisfied: numpy in /home/danielherranzsegundo/anaconda3/lib/python3.7/site-packages (1.18.1)\n",
      "Requirement already satisfied: pymysql in /home/danielherranzsegundo/anaconda3/lib/python3.7/site-packages (1.0.2)\n"
     ]
    }
   ],
   "source": [
    "!pip install mysql-connector==2.1.7\n",
    "!pip install pandas\n",
    "!pip install sqlalchemy\n",
    "#requiere instalación adicional, consultar https://github.com/PyMySQL/mysqlclient\n",
    "!pip install mysqlclient\n",
    "!pip install numpy\n",
    "!pip install pymysql"
   ]
  },
  {
   "cell_type": "code",
   "execution_count": 2,
   "metadata": {},
   "outputs": [],
   "source": [
    "import pandas as pd\n",
    "import numpy as np\n",
    "import os\n",
    "import json\n",
    "import random\n",
    "from cassandra.cluster import Cluster\n",
    "from cassandra.auth import PlainTextAuthProvider\n",
    "import time\n",
    "from pprint import pprint\n",
    "import psutil\n",
    "import uuid\n",
    "from cassandra.query import tuple_factory\n",
    "from cassandra.query import dict_factory\n",
    "from cassandra.query import BatchStatement, SimpleStatement\n",
    "from cassandra.policies import RetryPolicy"
   ]
  },
  {
   "cell_type": "code",
   "execution_count": 12,
   "metadata": {},
   "outputs": [],
   "source": [
    "#Los resultados de medidas de tiempo en carga por dominios se almacenan en estos objetos.\n",
    "#Se itera durante 10 iteraciones para sacar medias\n",
    "#repeticiones\n",
    "repeats = 10"
   ]
  },
  {
   "cell_type": "code",
   "execution_count": 13,
   "metadata": {},
   "outputs": [],
   "source": [
    "#Ficheros de salida\n",
    "resultados_etl_update = '../Results/Cassandra/CassandraUpdate_test_{}.csv'"
   ]
  },
  {
   "cell_type": "code",
   "execution_count": 14,
   "metadata": {},
   "outputs": [],
   "source": [
    "def save_results_to_csv(results,file):\n",
    "    #Guardamos los resultados en csv\n",
    "    from datetime import datetime\n",
    "    \n",
    "    csv_df = pd.DataFrame(results, columns=['Registros', 'Tiempo', 'CPU','Memoria'])\n",
    "    dia = datetime.now().strftime(\"%d%m%Y_%H_%M_%S\")\n",
    "    print(file.format(str(dia)))\n",
    "    csv_df.to_csv(file.format(str(dia)))"
   ]
  },
  {
   "cell_type": "code",
   "execution_count": 15,
   "metadata": {},
   "outputs": [
    {
     "name": "stdout",
     "output_type": "stream",
     "text": [
      "('4.0.3',)\n"
     ]
    },
    {
     "data": {
      "text/plain": [
       "<cassandra.cluster.ResultSet at 0x7f2a075fda50>"
      ]
     },
     "execution_count": 15,
     "metadata": {},
     "output_type": "execute_result"
    }
   ],
   "source": [
    "from cassandra.cluster import Cluster, ExecutionProfile, EXEC_PROFILE_DEFAULT\n",
    "from cassandra.policies import WhiteListRoundRobinPolicy, DowngradingConsistencyRetryPolicy\n",
    "from cassandra.query import tuple_factory\n",
    "from cassandra import ConsistencyLevel\n",
    "\n",
    "profile = ExecutionProfile(\n",
    "    load_balancing_policy=WhiteListRoundRobinPolicy(['127.0.0.1']),\n",
    "    retry_policy=DowngradingConsistencyRetryPolicy(),\n",
    "    consistency_level=ConsistencyLevel.ALL,\n",
    "    serial_consistency_level=ConsistencyLevel.LOCAL_SERIAL,\n",
    "    request_timeout=3600,\n",
    "    row_factory=tuple_factory\n",
    ")\n",
    "cluster = Cluster(execution_profiles={EXEC_PROFILE_DEFAULT: profile})\n",
    "session = cluster.connect()\n",
    "print(session.execute(\"SELECT release_version FROM system.local\").one())\n",
    "\n",
    "session.execute('USE currentaccountkeyspace')"
   ]
  },
  {
   "cell_type": "markdown",
   "metadata": {},
   "source": [
    "# Select test multidomain"
   ]
  },
  {
   "cell_type": "code",
   "execution_count": 16,
   "metadata": {},
   "outputs": [
    {
     "name": "stdout",
     "output_type": "stream",
     "text": [
      "3\n"
     ]
    }
   ],
   "source": [
    "#Obtenemos los posibles valores de pais. Se iterará por ellos para cambiar en bucle los registros\n",
    "session.execute('USE positionkeepingkeyspace')\n",
    "country_list= ['SPA', 'GBP', 'IND']\n",
    "print(len(country_list))"
   ]
  },
  {
   "cell_type": "code",
   "execution_count": 17,
   "metadata": {},
   "outputs": [
    {
     "data": {
      "text/plain": [
       "'IND'"
      ]
     },
     "execution_count": 17,
     "metadata": {},
     "output_type": "execute_result"
    }
   ],
   "source": [
    "random.choice(country_list)"
   ]
  },
  {
   "cell_type": "code",
   "execution_count": 18,
   "metadata": {},
   "outputs": [],
   "source": [
    "update_query_sql = \"\"\"UPDATE PositionKeepingDomainSchema.Amount a \n",
    "INNER JOIN PositionKeepingDomainSchema.PositionKeeping pk ON pk.AmountId = a.AmountId\n",
    "INNER JOIN CurrentAccountDomainSchema.CurrentAccount ca ON ca.AccountId = pk.AccountId\n",
    "INNER JOIN CurrentAccountDomainSchema.AccountInfo ai ON ai.AccountId = ca.AccountId\n",
    "SET a.CurrencyId = (SELECT CurrencyId FROM PositionKeepingDomainSchema.Currency WHERE Code = '{}')\n",
    "WHERE ca.Status = 'Enabled' AND ai.SchemeName LIKE 'UK.%'\"\"\"#.format(random.choice(country_list))"
   ]
  },
  {
   "cell_type": "code",
   "execution_count": 19,
   "metadata": {},
   "outputs": [],
   "source": [
    "from cassandra import ConsistencyLevel\n",
    "from cassandra.query import SimpleStatement\n",
    "from cassandra import concurrent\n",
    "\n",
    "registers = []\n",
    "batch = BatchStatement(consistency_level=ConsistencyLevel.ALL)\n",
    "account_id_list = []\n",
    "\n",
    "#Cargas Masiva con Many\n",
    "def updateAmountCurrencyWhenAccountIsEnabledAndSchemeNameIsFromUK(currency_code):\n",
    "    \n",
    "    UPDATE_STMT = \"\"\"UPDATE positionkeepingkeyspace.positionkeeping set creditLine_included = %s where accountid = %s and amount_currency_code = %s and credit_line_currency_code = %s\"\"\"\n",
    "    \n",
    "    #Select Currents Account enabled\n",
    "    SELECT_CURRENTACCOUNT_STMT = \"\"\"SELECT accountid FROM currentaccountkeyspace.currentaccount WHERE status = 'Enabled' ALLOW FILTERING;\"\"\"            \n",
    "    SELECT_SCHEMENAME_STMT = \"\"\"SELECT accountid FROM CurrentAccountKeySpace.CurrentAccountbyschemename WHERE schemename LIKE 'UK.%';\"\"\"    \n",
    "    \n",
    "    session = cluster.connect('customerprofilekeyspace')\n",
    "    iter = 0;\n",
    "    i = 1\n",
    "        \n",
    "    for i in range(0,repeats): \n",
    "                \n",
    "        time_inicial = time.time()        \n",
    "        \n",
    "        enabled_Accounts = []\n",
    "        uk_scheme_accounts = []\n",
    "        \n",
    "        #print(SELECT_CURRENTACCOUNT_STMT)\n",
    "        result_ca_enabled = session.execute(SELECT_CURRENTACCOUNT_STMT)\n",
    "        for accountid in result_ca_enabled:\n",
    "            enabled_Accounts.append(accountid[0])\n",
    "        #print(\"enabled_Accounts len:\", len(enabled_Accounts))\n",
    "        \n",
    "        #print(SELECT_SCHEMENAME_STMT)\n",
    "        result_byscheme = session.execute(SELECT_SCHEMENAME_STMT)\n",
    "        for accountid in result_byscheme:\n",
    "            uk_scheme_accounts.append(accountid[0])\n",
    "        #print(\"uk_scheme_accounts len:\", len(uk_scheme_accounts))\n",
    "        \n",
    "        #Obtenemos las cuentas que están en ambas listas\n",
    "        account_to_update = set(enabled_Accounts).intersection(uk_scheme_accounts)\n",
    "        #print(\"account_to_update intersection len:\", len(account_to_update))\n",
    "        \n",
    "        for accountid in account_to_update:\n",
    "            #print(UPDATE_STMT)    \n",
    "            session.execute(UPDATE_STMT,(True, accountid,currency_code,currency_code))\n",
    "        time_final = time.time()           \n",
    "        data_time_collection = round(time_final - time_inicial,3)\n",
    "        used_cpu = psutil.cpu_percent()\n",
    "        mem_used = psutil.virtual_memory().percent\n",
    "        registers.append((iter,data_time_collection,used_cpu,mem_used))\n",
    "        print((iter,data_time_collection,used_cpu,mem_used))\n",
    "        iter += 1;\n",
    "        time_inicial = time.time()\n",
    "        i = i + 1\n",
    "        \n",
    "    return registers"
   ]
  },
  {
   "cell_type": "code",
   "execution_count": 20,
   "metadata": {},
   "outputs": [
    {
     "name": "stdout",
     "output_type": "stream",
     "text": [
      "(0, 115.579, 31.6, 91.3)\n",
      "(1, 123.909, 36.0, 91.2)\n",
      "(2, 132.183, 33.4, 91.7)\n",
      "(3, 137.379, 32.1, 91.8)\n",
      "(4, 139.08, 33.1, 92.1)\n",
      "(5, 126.256, 34.6, 91.9)\n",
      "(6, 112.256, 37.0, 92.6)\n",
      "(7, 156.514, 47.7, 90.0)\n",
      "(8, 209.964, 29.0, 90.2)\n",
      "(9, 232.981, 27.9, 90.5)\n"
     ]
    }
   ],
   "source": [
    "registers = updateAmountCurrencyWhenAccountIsEnabledAndSchemeNameIsFromUK(random.choice(country_list))"
   ]
  },
  {
   "cell_type": "code",
   "execution_count": 23,
   "metadata": {},
   "outputs": [
    {
     "name": "stdout",
     "output_type": "stream",
     "text": [
      "../Results/Cassandra/CassandraUpdate_test_19042022_15_40_01.csv\n"
     ]
    }
   ],
   "source": [
    "#Guardamos los resultados Customer Profile\n",
    "save_results_to_csv(registers,resultados_etl_update)"
   ]
  },
  {
   "cell_type": "code",
   "execution_count": 22,
   "metadata": {},
   "outputs": [
    {
     "name": "stdout",
     "output_type": "stream",
     "text": [
      "Conexion cerrada\n"
     ]
    }
   ],
   "source": [
    "cluster.shutdown()\n",
    "print('Conexion cerrada')"
   ]
  }
 ],
 "metadata": {
  "kernelspec": {
   "display_name": "Python 3",
   "language": "python",
   "name": "python3"
  },
  "language_info": {
   "codemirror_mode": {
    "name": "ipython",
    "version": 3
   },
   "file_extension": ".py",
   "mimetype": "text/x-python",
   "name": "python",
   "nbconvert_exporter": "python",
   "pygments_lexer": "ipython3",
   "version": "3.7.6"
  }
 },
 "nbformat": 4,
 "nbformat_minor": 4
}
