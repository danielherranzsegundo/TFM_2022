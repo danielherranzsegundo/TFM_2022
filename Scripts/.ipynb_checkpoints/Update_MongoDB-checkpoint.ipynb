{
 "cells": [
  {
   "cell_type": "markdown",
   "metadata": {},
   "source": [
    "Script de update datos MongoDB en cluster multidomain"
   ]
  },
  {
   "cell_type": "code",
   "execution_count": 117,
   "metadata": {},
   "outputs": [],
   "source": [
    "import pandas as pd\n",
    "import numpy as np\n",
    "import os\n",
    "import json\n",
    "import random\n",
    "import pymongo\n",
    "from pymongo import MongoClient\n",
    "import time\n",
    "from pprint import pprint\n",
    "from pymongo import InsertOne, DeleteMany, ReplaceOne, UpdateOne\n",
    "import matplotlib.pyplot as plt\n",
    "import psutil\n",
    "import uuid\n",
    "from bson import objectid"
   ]
  },
  {
   "cell_type": "code",
   "execution_count": 118,
   "metadata": {},
   "outputs": [],
   "source": [
    "#Los resultados de medidas de tiempo en carga por dominios se almacenan en estos objetos.\n",
    "#Se itera durante 100 iteraciones para sacar medias\n",
    "#repeticiones\n",
    "repeats = 100"
   ]
  },
  {
   "cell_type": "code",
   "execution_count": 119,
   "metadata": {},
   "outputs": [],
   "source": [
    "#Ficheros de salida\n",
    "resultados_etl_update = '../Results/MongoDB/MongoDBUpdate_test_{}.csv'"
   ]
  },
  {
   "cell_type": "code",
   "execution_count": 120,
   "metadata": {},
   "outputs": [],
   "source": [
    "def save_results_to_csv(results,file):\n",
    "    #Guardamos los resultados en csv\n",
    "    from datetime import datetime\n",
    "    \n",
    "    csv_df = pd.DataFrame(results, columns=['Registros', 'Tiempo', 'CPU','Memoria', 'Rgs'])\n",
    "    dia = datetime.now().strftime(\"%d%m%Y_%H_%M_%S\")\n",
    "    csv_df.to_csv(file.format(str(dia)))"
   ]
  },
  {
   "cell_type": "code",
   "execution_count": 121,
   "metadata": {},
   "outputs": [
    {
     "data": {
      "text/plain": [
       "Database(MongoClient(host=['localhost:27017'], document_class=dict, tz_aware=False, connect=True, w=3), 'tfm_mongo_database')"
      ]
     },
     "execution_count": 121,
     "metadata": {},
     "output_type": "execute_result"
    }
   ],
   "source": [
    "#Conexion unica a colecciones\n",
    "connection = MongoClient('localhost', 27017, w=3) #Conexion con WriteConcern a 3 (primario y dos nodos consolidados)\n",
    "\n",
    "#Creamos una base de datos para el trabajo llamada TFM\n",
    "tfm_mongo_db = connection[\"tfm_mongo_database\"]\n",
    "tfm_mongo_db"
   ]
  },
  {
   "cell_type": "code",
   "execution_count": 122,
   "metadata": {},
   "outputs": [
    {
     "name": "stdout",
     "output_type": "stream",
     "text": [
      "['admin', 'config', 'local', 'tfm_mongo_database']\n"
     ]
    }
   ],
   "source": [
    "CustomerProfileCollection = tfm_mongo_db[\"CustomerProfileCollection\"]\n",
    "CurrentAccountCollection = tfm_mongo_db[\"CurrentAccountCollection\"]\n",
    "PositionKeepingCollection = tfm_mongo_db[\"PositionKeepingCollection\"]\n",
    "print(connection.list_database_names())"
   ]
  },
  {
   "cell_type": "code",
   "execution_count": 123,
   "metadata": {},
   "outputs": [
    {
     "data": {
      "text/plain": [
       "'AccountId_1'"
      ]
     },
     "execution_count": 123,
     "metadata": {},
     "output_type": "execute_result"
    }
   ],
   "source": [
    "#Generamos indices para adecuar el rendimiento\n",
    "CustomerProfileCollection.create_index(\"PartyId\", unique = True, dropDups = True)\n",
    "CurrentAccountCollection.create_index(\"AccountId\", unique = True, dropDups = True)\n",
    "PositionKeepingCollection.create_index(\"AccountId\", unique = True, dropDups = True)"
   ]
  },
  {
   "cell_type": "markdown",
   "metadata": {},
   "source": [
    "# Update test multidomain"
   ]
  },
  {
   "cell_type": "code",
   "execution_count": 124,
   "metadata": {},
   "outputs": [
    {
     "data": {
      "text/plain": [
       "['IND', 'GBP', 'EUR', 'USA']"
      ]
     },
     "execution_count": 124,
     "metadata": {},
     "output_type": "execute_result"
    }
   ],
   "source": [
    "#Obtenemos los posibles valores de pais. Se iterará por ellos para cambiar en bucle los registros\n",
    "country_list= ['IND', 'GBP', 'EUR', 'USA']\n",
    "country_list"
   ]
  },
  {
   "cell_type": "code",
   "execution_count": 125,
   "metadata": {},
   "outputs": [],
   "source": [
    "    update_query = \"\"\"UPDATE PositionKeepingDomainSchema.Amount a \n",
    "INNER JOIN PositionKeepingDomainSchema.PositionKeeping pk ON pk.AmountId = a.AmountId\n",
    "INNER JOIN CurrentAccountDomainSchema.CurrentAccount ca ON ca.AccountId = pk.AccountId\n",
    "INNER JOIN CurrentAccountDomainSchema.AccountInfo ai ON ai.AccountId = ca.AccountId\n",
    "SET a.CurrencyId = (SELECT CurrencyId FROM PositionKeepingDomainSchema.Currency WHERE Code = '{}')\n",
    "WHERE ca.Status = 'Enabled' AND ai.SchemeName LIKE 'UK.%'\"\"\""
   ]
  },
  {
   "cell_type": "code",
   "execution_count": null,
   "metadata": {},
   "outputs": [],
   "source": [
    "time_inicial = 0\n",
    "time_final = 0\n",
    "registers = []\n",
    "lista = []\n",
    "\n",
    "match = {'$match': { 'PositionKeeping.Amount.Currency.Code': random.choice(country_list)  }  }\n",
    "lookup_PositionKeeping = {\n",
    "                    '$lookup': {\n",
    "                        'from' : 'PositionKeepingCollection',\n",
    "                        'localField' : 'AccountId',\n",
    "                        'foreignField' : 'AccountId',\n",
    "                        'as' : 'PositionKeeping'\n",
    "                    }\n",
    "                }\n",
    "lookup_CustomerProfile = {\n",
    "                    '$lookup': {\n",
    "                        'from' : 'CustomerProfileCollection',\n",
    "                        'localField' : 'PartyId',\n",
    "                        'foreignField' : 'PartyId',\n",
    "                        'as' : 'CustomerProfile'\n",
    "                    }\n",
    "                }\n",
    "unwind_ai = {\"$unwind\": \"$AccountInfo\"}\n",
    "unwind_pk = {\"$unwind\": \"$PositionKeeping\"}\n",
    "match_2 = { '$match': {\n",
    "                      'AccountInfo.SchemeName': { '$regex': 'UK.*' }\n",
    "                  }  \n",
    "                }\n",
    "\n",
    "projection_ca = { '$project' : { '_id':1 } } \n",
    "\n",
    "pipeline = [match_2, lookup_CustomerProfile, unwind_ai, match_2, lookup_PositionKeeping, match]\n",
    "result = CurrentAccountCollection.aggregate(pipeline)\n",
    "\n",
    "for iteracion in range(0,repeats): \n",
    "           \n",
    "\n",
    "    time_inicial = time.time()    \n",
    "\n",
    "    for doc in result:\n",
    "        #Update\n",
    "        lista.append(doc['AccountId'])\n",
    "        doc['AccountId']\n",
    "        CurrentAccountCollection.update_one({'AccountId':doc['AccountId']},{'$set': {'Status':'Modified'}})\n",
    "        \n",
    "    time_final = time.time() \n",
    "    used_cpu = psutil.cpu_percent()\n",
    "    mem_used = psutil.virtual_memory().percent\n",
    "    # Tupla con numero de registros, tiempo parcial de la transacción y tiempo acumulado de trxs\n",
    "    total_time = round(time_final - time_inicial,3)\n",
    "    registers.append((iteracion + 1, total_time ,used_cpu, mem_used,CurrentAccountCollection.count_documents({'Status': 'Modified'})))"
   ]
  },
  {
   "cell_type": "code",
   "execution_count": null,
   "metadata": {},
   "outputs": [],
   "source": [
    "print(CurrentAccountCollection.count_documents({'Status': 'Modified'}))"
   ]
  },
  {
   "cell_type": "code",
   "execution_count": null,
   "metadata": {},
   "outputs": [],
   "source": [
    "registers[10:20]"
   ]
  },
  {
   "cell_type": "code",
   "execution_count": null,
   "metadata": {},
   "outputs": [],
   "source": [
    "#Guardamos los resultados Customer Profile\n",
    "save_results_to_csv(registers,resultados_etl_update)"
   ]
  },
  {
   "cell_type": "code",
   "execution_count": null,
   "metadata": {},
   "outputs": [],
   "source": [
    "connection.close()\n",
    "print('Conexion cerrada')"
   ]
  }
 ],
 "metadata": {
  "kernelspec": {
   "display_name": "Python 3",
   "language": "python",
   "name": "python3"
  },
  "language_info": {
   "codemirror_mode": {
    "name": "ipython",
    "version": 3
   },
   "file_extension": ".py",
   "mimetype": "text/x-python",
   "name": "python",
   "nbconvert_exporter": "python",
   "pygments_lexer": "ipython3",
   "version": "3.7.6"
  }
 },
 "nbformat": 4,
 "nbformat_minor": 4
}
