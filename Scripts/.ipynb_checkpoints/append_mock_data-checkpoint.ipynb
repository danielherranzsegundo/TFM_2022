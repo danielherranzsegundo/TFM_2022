{
 "cells": [
  {
   "cell_type": "markdown",
   "metadata": {},
   "source": [
    "Script de generación de datos sinteticos TFM Daniel Herranz Segundo\n",
    "\n",
    "Obtiene los datos base (10000 Registros) obtenidos de la herramienta fillDB basados en la estructura relacional y realiza la limpieza y duplicación hasta los registros esperados > 1 millon\n"
   ]
  },
  {
   "cell_type": "code",
   "execution_count": 242,
   "metadata": {},
   "outputs": [],
   "source": [
    "import pandas as pd\n",
    "import numpy as np\n",
    "import os"
   ]
  },
  {
   "cell_type": "code",
   "execution_count": 217,
   "metadata": {},
   "outputs": [],
   "source": [
    "#Variables de los ficheros de datos salida\n",
    "AccountInfo_file_out = '../MockData/AccountInfo_1M.csv'\n",
    "Address_file_out = '../MockData/Address_1M.csv'\n",
    "Amount_file_out = '../MockData/Amount_1M.csv'\n",
    "Country_file_out = '../MockData/Country_1M.csv'\n",
    "CreditLine_file_out = '../MockData/CreditLine_1M.csv'\n",
    "Currency_file_out = '../MockData/Currency_1M.csv'\n",
    "CurrentAccount_file_out = '../MockData/CurrentAccount_1M.csv'\n",
    "CustomerProfile_file_out = '../MockData/CustomerProfile_1M.csv'\n",
    "Position_Keeping_file_out = '../MockData/Position_Keeping_1M.csv'"
   ]
  },
  {
   "cell_type": "code",
   "execution_count": 218,
   "metadata": {},
   "outputs": [],
   "source": [
    "#Función para resetear ficheros de salida\n",
    "def reset_files(file):\n",
    "    if os.path.exists(file):\n",
    "        os.remove(file)\n",
    "        print(\"The file\", file ,\"have been removed\")\n",
    "    else:\n",
    "        print(\"The file\", file ,\"does not exist\")"
   ]
  },
  {
   "cell_type": "code",
   "execution_count": 219,
   "metadata": {},
   "outputs": [
    {
     "name": "stdout",
     "output_type": "stream",
     "text": [
      "The file ../MockData/AccountInfo_1M.csv does not exist\n",
      "The file ../MockData/Address_1M.csv does not exist\n",
      "The file ../MockData/Amount_1M.csv does not exist\n",
      "The file ../MockData/Country_1M.csv does not exist\n",
      "The file ../MockData/CreditLine_1M.csv does not exist\n",
      "The file ../MockData/Currency_1M.csv does not exist\n",
      "The file ../MockData/CurrentAccount_1M.csv does not exist\n",
      "The file ../MockData/CustomerProfile_1M.csv have been removed\n",
      "The file ../MockData/Position_Keeping_1M.csv have been removed\n"
     ]
    }
   ],
   "source": [
    "#Limpiamos los ficheros de salida\n",
    "reset_files(AccountInfo_file_out)\n",
    "reset_files(Address_file_out)\n",
    "reset_files(Amount_file_out)\n",
    "reset_files(Country_file_out)\n",
    "reset_files(CreditLine_file_out)\n",
    "reset_files(Currency_file_out)\n",
    "reset_files(CurrentAccount_file_out)\n",
    "reset_files(CustomerProfile_file_out)\n",
    "reset_files(Position_Keeping_file_out)"
   ]
  },
  {
   "cell_type": "code",
   "execution_count": 220,
   "metadata": {},
   "outputs": [],
   "source": [
    "#Carga de la información de dataframes por entidades\n",
    "\n",
    "AccountInfo_df = pd.read_csv('../MockData/base/AccountInfo.csv')\n",
    "Address_df = pd.read_csv('../MockData/base/Address.csv')\n",
    "Amount_df = pd.read_csv('../MockData/base/Amount.csv')\n",
    "Country_df = pd.read_csv('../MockData/base/Country.csv')\n",
    "CreditLine_df = pd.read_csv('../MockData/base/CreditLine.csv')\n",
    "Currency_df = pd.read_csv('../MockData/base/Currency.csv')\n",
    "CurrentAccount_df = pd.read_csv('../MockData/base/CurrentAccount.csv')\n",
    "CustomerProfile_df = pd.read_csv('../MockData/base/CustomerProfile.csv')\n",
    "PositionKeeping_df = pd.read_csv('../MockData/base/PositionKeeping.csv')\n"
   ]
  },
  {
   "cell_type": "code",
   "execution_count": 221,
   "metadata": {},
   "outputs": [
    {
     "name": "stdout",
     "output_type": "stream",
     "text": [
      "10000\n",
      "328\n",
      "10000\n",
      "10000\n",
      "10000\n",
      "10000\n",
      "1543\n"
     ]
    }
   ],
   "source": [
    "#Longitudes actuales \n",
    "print(len(AccountInfo_df))\n",
    "print(len(Address_df))\n",
    "print(len(Amount_df))\n",
    "print(len(CreditLine_df))\n",
    "print(len(CurrentAccount_df))\n",
    "print(len(CustomerProfile_df))\n",
    "print(len(PositionKeeping_df))"
   ]
  },
  {
   "cell_type": "code",
   "execution_count": 222,
   "metadata": {},
   "outputs": [],
   "source": [
    "#Generamos una función mas de 1M de registros basados en registros anteriores\n",
    "def generate_new_values_by_samples(df,rango):\n",
    "    for x in range(rango):\n",
    "        df = df.append(df.sample(frac=0.50,replace = False))\n",
    "    return df\n"
   ]
  },
  {
   "cell_type": "code",
   "execution_count": 223,
   "metadata": {},
   "outputs": [
    {
     "name": "stdout",
     "output_type": "stream",
     "text": [
      "AccountInfo_df: Index(['AccountInfoId', 'AccountId', 'SchemeName', 'Identification', 'Name',\n",
      "       'Unnamed: 5'],\n",
      "      dtype='object')\n",
      "Address_df: Index(['PartyId', 'AddressType', 'AddressLine', 'StreetName', 'BuildingNumber',\n",
      "       'PostCode', 'TownName', 'CountrySubDivision', 'CountryId',\n",
      "       'Unnamed: 9'],\n",
      "      dtype='object')\n",
      "Amount_df: Index(['AmountId', 'CurrencyId', 'Amount', 'Unnamed: 3'], dtype='object')\n",
      "Country_df: Index(['CountryId', 'ShortName', 'Description', 'Code', 'Unnamed: 4'], dtype='object')\n",
      "CreditLine_df: Index(['CreditLineId', 'CurrencyId', 'Amount', 'Type', 'Included',\n",
      "       'Unnamed: 5'],\n",
      "      dtype='object')\n",
      "Currency_df: Index(['CurrencyId', 'Code', 'Description', 'Unnamed: 3'], dtype='object')\n",
      "CurrentAccount_df: Index(['AccountId', 'PartyId', 'Status', 'StatusUpdateDateTime', 'AccountType',\n",
      "       'NickName', 'OpeningDate', 'AccountSubType', 'Unnamed: 8'],\n",
      "      dtype='object')\n",
      "CustomerProfile_df: Index(['PartyId', 'PartyNumber', 'PartyType', 'Name', 'FullLegalName',\n",
      "       'LegalStructure', 'BeneficialOwnership', 'AccountRole', 'EmailAddress',\n",
      "       'Phone', 'Unnamed: 10'],\n",
      "      dtype='object')\n",
      "PositionKeeping_df: Index(['AccountId', 'DateTime', 'CreditDebitIndicator', 'Type', 'AmountId',\n",
      "       'CreditLineId', 'Unnamed: 6'],\n",
      "      dtype='object')\n"
     ]
    }
   ],
   "source": [
    "print(\"AccountInfo_df:\" , AccountInfo_df.columns)\n",
    "print(\"Address_df:\", Address_df.columns)\n",
    "print(\"Amount_df:\",Amount_df.columns)\n",
    "print(\"Country_df:\",Country_df.columns)\n",
    "print(\"CreditLine_df:\",CreditLine_df.columns)\n",
    "print(\"Currency_df:\",Currency_df.columns)\n",
    "print(\"CurrentAccount_df:\",CurrentAccount_df.columns)\n",
    "print(\"CustomerProfile_df:\",CustomerProfile_df.columns)\n",
    "print(\"PositionKeeping_df:\",PositionKeeping_df.columns)"
   ]
  },
  {
   "cell_type": "code",
   "execution_count": 224,
   "metadata": {},
   "outputs": [],
   "source": [
    "#Borrado de columnas residuales proceso anterior\n",
    "del(AccountInfo_df['Unnamed: 5'])\n",
    "del(Address_df['Unnamed: 9'])\n",
    "del(Amount_df['Unnamed: 3'])\n",
    "del(Country_df['Unnamed: 4'])\n",
    "del(CreditLine_df['Unnamed: 5'])\n",
    "del(Currency_df['Unnamed: 3'])\n",
    "del(CurrentAccount_df['Unnamed: 8'])\n",
    "del(CustomerProfile_df['Unnamed: 10'])\n",
    "del(PositionKeeping_df['Unnamed: 6'])\n",
    "\n",
    "#Tratamiento y limpieza de datos Customer Profile\n",
    "#Indexado PartyId para mejor legibilidad\n",
    "CustomerProfile_df['PartyId'].reset_index()\n",
    "CustomerProfile_df['PartyId'] = CustomerProfile_df.index\n",
    "CustomerProfile_df[CustomerProfile_df.columns[pd.Series(CustomerProfile_df.columns).str.startswith('Unnamed:')]]\n",
    "#Limpieza de datos. Eliminamos el apostrofe del campo AccountRole y PartyType\n",
    "CustomerProfile_df['AccountRole'] = CustomerProfile_df['AccountRole'].str.replace(\"'\",'')\n",
    "CustomerProfile_df['PartyType'] = CustomerProfile_df['PartyType'].str.replace(\"'\",'')\n",
    "\n",
    "#Limpieza de datos. Eliminamos el apostrofe del campo SchemeName (IMPORTANTE)\n",
    "AccountInfo_df['SchemeName'] = AccountInfo_df['SchemeName'].str.replace(\"'\",'')\n",
    "\n",
    "#Limpieza de datos. Eliminamos el apostrofe del campo Status y AccountType y AccountSubType (IMPORTANTE)\n",
    "CurrentAccount_df['Status'] = CurrentAccount_df['Status'].str.replace(\"'\",'')\n",
    "CurrentAccount_df['AccountType'] = CurrentAccount_df['AccountType'].str.replace(\"'\",'')\n",
    "CurrentAccount_df['AccountSubType'] = CurrentAccount_df['AccountSubType'].str.replace(\"'\",'')\n",
    "\n",
    "#Limpieza de columnas residuales y no necesarias en el documento Posiiton Keeping\n",
    "CreditLine_df['Type'] = PositionKeeping_df['Type'].str.replace(\"'\",'')\n",
    "\n",
    "#Limpieza de datos. Eliminamos el apostrofe del campo Status y AccountType y AccountSubType (IMPORTANTE)\n",
    "PositionKeeping_df['CreditDebitIndicator'] = PositionKeeping_df['CreditDebitIndicator'].str.replace(\"'\",'')\n",
    "PositionKeeping_df['Type'] = PositionKeeping_df['Type'].str.replace(\"'\",'')"
   ]
  },
  {
   "cell_type": "code",
   "execution_count": 225,
   "metadata": {},
   "outputs": [
    {
     "data": {
      "text/html": [
       "<div>\n",
       "<style scoped>\n",
       "    .dataframe tbody tr th:only-of-type {\n",
       "        vertical-align: middle;\n",
       "    }\n",
       "\n",
       "    .dataframe tbody tr th {\n",
       "        vertical-align: top;\n",
       "    }\n",
       "\n",
       "    .dataframe thead th {\n",
       "        text-align: right;\n",
       "    }\n",
       "</style>\n",
       "<table border=\"1\" class=\"dataframe\">\n",
       "  <thead>\n",
       "    <tr style=\"text-align: right;\">\n",
       "      <th></th>\n",
       "      <th>AccountInfoId</th>\n",
       "      <th>AccountId</th>\n",
       "      <th>SchemeName</th>\n",
       "      <th>Identification</th>\n",
       "      <th>Name</th>\n",
       "    </tr>\n",
       "  </thead>\n",
       "  <tbody>\n",
       "    <tr>\n",
       "      <th>2483</th>\n",
       "      <td>2484</td>\n",
       "      <td>2484</td>\n",
       "      <td>UK.business</td>\n",
       "      <td>8.0</td>\n",
       "      <td>Witting Ltd</td>\n",
       "    </tr>\n",
       "  </tbody>\n",
       "</table>\n",
       "</div>"
      ],
      "text/plain": [
       "      AccountInfoId  AccountId   SchemeName  Identification         Name\n",
       "2483           2484       2484  UK.business             8.0  Witting Ltd"
      ]
     },
     "execution_count": 225,
     "metadata": {},
     "output_type": "execute_result"
    }
   ],
   "source": [
    "AccountInfo_df.sample(1)"
   ]
  },
  {
   "cell_type": "code",
   "execution_count": 226,
   "metadata": {},
   "outputs": [
    {
     "data": {
      "text/html": [
       "<div>\n",
       "<style scoped>\n",
       "    .dataframe tbody tr th:only-of-type {\n",
       "        vertical-align: middle;\n",
       "    }\n",
       "\n",
       "    .dataframe tbody tr th {\n",
       "        vertical-align: top;\n",
       "    }\n",
       "\n",
       "    .dataframe thead th {\n",
       "        text-align: right;\n",
       "    }\n",
       "</style>\n",
       "<table border=\"1\" class=\"dataframe\">\n",
       "  <thead>\n",
       "    <tr style=\"text-align: right;\">\n",
       "      <th></th>\n",
       "      <th>PartyId</th>\n",
       "      <th>AddressType</th>\n",
       "      <th>AddressLine</th>\n",
       "      <th>StreetName</th>\n",
       "      <th>BuildingNumber</th>\n",
       "      <th>PostCode</th>\n",
       "      <th>TownName</th>\n",
       "      <th>CountrySubDivision</th>\n",
       "      <th>CountryId</th>\n",
       "    </tr>\n",
       "  </thead>\n",
       "  <tbody>\n",
       "    <tr>\n",
       "      <th>130</th>\n",
       "      <td>4315</td>\n",
       "      <td>Nort</td>\n",
       "      <td>264 Pfannerstill Overpass Apt. 966</td>\n",
       "      <td>Eliezer Oval</td>\n",
       "      <td>6278</td>\n",
       "      <td>12651-9259</td>\n",
       "      <td>Penelopetown</td>\n",
       "      <td>87213.0</td>\n",
       "      <td>2</td>\n",
       "    </tr>\n",
       "  </tbody>\n",
       "</table>\n",
       "</div>"
      ],
      "text/plain": [
       "     PartyId AddressType                         AddressLine    StreetName  \\\n",
       "130     4315        Nort  264 Pfannerstill Overpass Apt. 966  Eliezer Oval   \n",
       "\n",
       "     BuildingNumber    PostCode      TownName  CountrySubDivision  CountryId  \n",
       "130            6278  12651-9259  Penelopetown             87213.0          2  "
      ]
     },
     "execution_count": 226,
     "metadata": {},
     "output_type": "execute_result"
    }
   ],
   "source": [
    "Address_df.sample(1)"
   ]
  },
  {
   "cell_type": "code",
   "execution_count": 227,
   "metadata": {},
   "outputs": [
    {
     "data": {
      "text/html": [
       "<div>\n",
       "<style scoped>\n",
       "    .dataframe tbody tr th:only-of-type {\n",
       "        vertical-align: middle;\n",
       "    }\n",
       "\n",
       "    .dataframe tbody tr th {\n",
       "        vertical-align: top;\n",
       "    }\n",
       "\n",
       "    .dataframe thead th {\n",
       "        text-align: right;\n",
       "    }\n",
       "</style>\n",
       "<table border=\"1\" class=\"dataframe\">\n",
       "  <thead>\n",
       "    <tr style=\"text-align: right;\">\n",
       "      <th></th>\n",
       "      <th>AmountId</th>\n",
       "      <th>CurrencyId</th>\n",
       "      <th>Amount</th>\n",
       "    </tr>\n",
       "  </thead>\n",
       "  <tbody>\n",
       "    <tr>\n",
       "      <th>8476</th>\n",
       "      <td>8477</td>\n",
       "      <td>1</td>\n",
       "      <td>472.41644</td>\n",
       "    </tr>\n",
       "  </tbody>\n",
       "</table>\n",
       "</div>"
      ],
      "text/plain": [
       "      AmountId  CurrencyId     Amount\n",
       "8476      8477           1  472.41644"
      ]
     },
     "execution_count": 227,
     "metadata": {},
     "output_type": "execute_result"
    }
   ],
   "source": [
    "Amount_df.sample(1)"
   ]
  },
  {
   "cell_type": "code",
   "execution_count": 228,
   "metadata": {},
   "outputs": [
    {
     "data": {
      "text/html": [
       "<div>\n",
       "<style scoped>\n",
       "    .dataframe tbody tr th:only-of-type {\n",
       "        vertical-align: middle;\n",
       "    }\n",
       "\n",
       "    .dataframe tbody tr th {\n",
       "        vertical-align: top;\n",
       "    }\n",
       "\n",
       "    .dataframe thead th {\n",
       "        text-align: right;\n",
       "    }\n",
       "</style>\n",
       "<table border=\"1\" class=\"dataframe\">\n",
       "  <thead>\n",
       "    <tr style=\"text-align: right;\">\n",
       "      <th></th>\n",
       "      <th>CreditLineId</th>\n",
       "      <th>CurrencyId</th>\n",
       "      <th>Amount</th>\n",
       "      <th>Type</th>\n",
       "      <th>Included</th>\n",
       "    </tr>\n",
       "  </thead>\n",
       "  <tbody>\n",
       "    <tr>\n",
       "      <th>1952</th>\n",
       "      <td>1953</td>\n",
       "      <td>1</td>\n",
       "      <td>641.0</td>\n",
       "      <td>NaN</td>\n",
       "      <td>0</td>\n",
       "    </tr>\n",
       "  </tbody>\n",
       "</table>\n",
       "</div>"
      ],
      "text/plain": [
       "      CreditLineId  CurrencyId  Amount Type  Included\n",
       "1952          1953           1   641.0  NaN         0"
      ]
     },
     "execution_count": 228,
     "metadata": {},
     "output_type": "execute_result"
    }
   ],
   "source": [
    "CreditLine_df.sample(1)"
   ]
  },
  {
   "cell_type": "code",
   "execution_count": 229,
   "metadata": {},
   "outputs": [
    {
     "data": {
      "text/html": [
       "<div>\n",
       "<style scoped>\n",
       "    .dataframe tbody tr th:only-of-type {\n",
       "        vertical-align: middle;\n",
       "    }\n",
       "\n",
       "    .dataframe tbody tr th {\n",
       "        vertical-align: top;\n",
       "    }\n",
       "\n",
       "    .dataframe thead th {\n",
       "        text-align: right;\n",
       "    }\n",
       "</style>\n",
       "<table border=\"1\" class=\"dataframe\">\n",
       "  <thead>\n",
       "    <tr style=\"text-align: right;\">\n",
       "      <th></th>\n",
       "      <th>AccountId</th>\n",
       "      <th>PartyId</th>\n",
       "      <th>Status</th>\n",
       "      <th>StatusUpdateDateTime</th>\n",
       "      <th>AccountType</th>\n",
       "      <th>NickName</th>\n",
       "      <th>OpeningDate</th>\n",
       "      <th>AccountSubType</th>\n",
       "    </tr>\n",
       "  </thead>\n",
       "  <tbody>\n",
       "    <tr>\n",
       "      <th>1288</th>\n",
       "      <td>1289</td>\n",
       "      <td>1289</td>\n",
       "      <td>Enabled</td>\n",
       "      <td>2019-12-27 02:56:17.00</td>\n",
       "      <td>Business</td>\n",
       "      <td>engineer cross-platform experiences</td>\n",
       "      <td>1981-02-12 02:27:55.00</td>\n",
       "      <td>EDP</td>\n",
       "    </tr>\n",
       "  </tbody>\n",
       "</table>\n",
       "</div>"
      ],
      "text/plain": [
       "      AccountId  PartyId   Status    StatusUpdateDateTime AccountType  \\\n",
       "1288       1289     1289  Enabled  2019-12-27 02:56:17.00    Business   \n",
       "\n",
       "                                 NickName             OpeningDate  \\\n",
       "1288  engineer cross-platform experiences  1981-02-12 02:27:55.00   \n",
       "\n",
       "     AccountSubType  \n",
       "1288            EDP  "
      ]
     },
     "execution_count": 229,
     "metadata": {},
     "output_type": "execute_result"
    }
   ],
   "source": [
    "CurrentAccount_df.sample(1)"
   ]
  },
  {
   "cell_type": "code",
   "execution_count": 230,
   "metadata": {},
   "outputs": [
    {
     "data": {
      "text/html": [
       "<div>\n",
       "<style scoped>\n",
       "    .dataframe tbody tr th:only-of-type {\n",
       "        vertical-align: middle;\n",
       "    }\n",
       "\n",
       "    .dataframe tbody tr th {\n",
       "        vertical-align: top;\n",
       "    }\n",
       "\n",
       "    .dataframe thead th {\n",
       "        text-align: right;\n",
       "    }\n",
       "</style>\n",
       "<table border=\"1\" class=\"dataframe\">\n",
       "  <thead>\n",
       "    <tr style=\"text-align: right;\">\n",
       "      <th></th>\n",
       "      <th>PartyId</th>\n",
       "      <th>PartyNumber</th>\n",
       "      <th>PartyType</th>\n",
       "      <th>Name</th>\n",
       "      <th>FullLegalName</th>\n",
       "      <th>LegalStructure</th>\n",
       "      <th>BeneficialOwnership</th>\n",
       "      <th>AccountRole</th>\n",
       "      <th>EmailAddress</th>\n",
       "      <th>Phone</th>\n",
       "    </tr>\n",
       "  </thead>\n",
       "  <tbody>\n",
       "    <tr>\n",
       "      <th>3730</th>\n",
       "      <td>3730</td>\n",
       "      <td>22427.0</td>\n",
       "      <td>sol</td>\n",
       "      <td>Kamryn</td>\n",
       "      <td>Taya Marquardt</td>\n",
       "      <td>Prof.</td>\n",
       "      <td>5</td>\n",
       "      <td>UK.OBIE.Secundary</td>\n",
       "      <td>eldridge.mueller@example.org</td>\n",
       "      <td>(698)170-505</td>\n",
       "    </tr>\n",
       "  </tbody>\n",
       "</table>\n",
       "</div>"
      ],
      "text/plain": [
       "      PartyId  PartyNumber PartyType    Name   FullLegalName LegalStructure  \\\n",
       "3730     3730      22427.0       sol  Kamryn  Taya Marquardt          Prof.   \n",
       "\n",
       "      BeneficialOwnership        AccountRole                  EmailAddress  \\\n",
       "3730                    5  UK.OBIE.Secundary  eldridge.mueller@example.org   \n",
       "\n",
       "             Phone  \n",
       "3730  (698)170-505  "
      ]
     },
     "execution_count": 230,
     "metadata": {},
     "output_type": "execute_result"
    }
   ],
   "source": [
    "CustomerProfile_df.sample(1)"
   ]
  },
  {
   "cell_type": "code",
   "execution_count": 231,
   "metadata": {},
   "outputs": [
    {
     "data": {
      "text/html": [
       "<div>\n",
       "<style scoped>\n",
       "    .dataframe tbody tr th:only-of-type {\n",
       "        vertical-align: middle;\n",
       "    }\n",
       "\n",
       "    .dataframe tbody tr th {\n",
       "        vertical-align: top;\n",
       "    }\n",
       "\n",
       "    .dataframe thead th {\n",
       "        text-align: right;\n",
       "    }\n",
       "</style>\n",
       "<table border=\"1\" class=\"dataframe\">\n",
       "  <thead>\n",
       "    <tr style=\"text-align: right;\">\n",
       "      <th></th>\n",
       "      <th>AccountId</th>\n",
       "      <th>DateTime</th>\n",
       "      <th>CreditDebitIndicator</th>\n",
       "      <th>Type</th>\n",
       "      <th>AmountId</th>\n",
       "      <th>CreditLineId</th>\n",
       "    </tr>\n",
       "  </thead>\n",
       "  <tbody>\n",
       "    <tr>\n",
       "      <th>56</th>\n",
       "      <td>195</td>\n",
       "      <td>1981-02-14 15:58:47.00</td>\n",
       "      <td>Debit</td>\n",
       "      <td>Particular</td>\n",
       "      <td>78</td>\n",
       "      <td>195</td>\n",
       "    </tr>\n",
       "  </tbody>\n",
       "</table>\n",
       "</div>"
      ],
      "text/plain": [
       "    AccountId                DateTime CreditDebitIndicator        Type  \\\n",
       "56        195  1981-02-14 15:58:47.00                Debit  Particular   \n",
       "\n",
       "    AmountId  CreditLineId  \n",
       "56        78           195  "
      ]
     },
     "execution_count": 231,
     "metadata": {},
     "output_type": "execute_result"
    }
   ],
   "source": [
    "PositionKeeping_df.sample(1)"
   ]
  },
  {
   "cell_type": "code",
   "execution_count": 232,
   "metadata": {},
   "outputs": [],
   "source": [
    "AccountInfo_df = generate_new_values_by_samples(AccountInfo_df,12)\n",
    "Address_df =generate_new_values_by_samples(Address_df,20)\n",
    "Amount_df = generate_new_values_by_samples(Amount_df,12)\n",
    "CreditLine_df = generate_new_values_by_samples(CreditLine_df,12)\n",
    "CurrentAccount_df = generate_new_values_by_samples(CurrentAccount_df,12)\n",
    "CustomerProfile_df = generate_new_values_by_samples(CustomerProfile_df,12)\n",
    "PositionKeeping_df = generate_new_values_by_samples(PositionKeeping_df,16)"
   ]
  },
  {
   "cell_type": "code",
   "execution_count": 233,
   "metadata": {},
   "outputs": [
    {
     "name": "stdout",
     "output_type": "stream",
     "text": [
      "1297441\n",
      "1090853\n",
      "1297441\n",
      "1297441\n",
      "1297441\n",
      "1297441\n",
      "1013677\n"
     ]
    }
   ],
   "source": [
    "print(len(AccountInfo_df))\n",
    "print(len(Address_df))\n",
    "print(len(Amount_df))\n",
    "print(len(CreditLine_df))\n",
    "print(len(CurrentAccount_df))\n",
    "print(len(CustomerProfile_df))\n",
    "print(len(PositionKeeping_df))"
   ]
  },
  {
   "cell_type": "code",
   "execution_count": 234,
   "metadata": {},
   "outputs": [],
   "source": [
    "#Tratamiento secuencia CustomerProfile\n",
    "CustomerProfile_df.reset_index()\n",
    "CustomerProfile_df['PartyId'] = CustomerProfile_df.index\n",
    "CustomerProfile_df['PartyNumber'] = CustomerProfile_df.index"
   ]
  },
  {
   "cell_type": "code",
   "execution_count": 235,
   "metadata": {},
   "outputs": [],
   "source": [
    "#Tratamiento secuencia Current Account\n",
    "AccountInfo_df.reset_index()\n",
    "AccountInfo_df['AccountInfoId'] = AccountInfo_df.index"
   ]
  },
  {
   "cell_type": "code",
   "execution_count": 236,
   "metadata": {},
   "outputs": [],
   "source": [
    "#Tratamiento secuencia Address\n",
    "Address_df.reset_index()\n",
    "Address_df['PartyId'] = range(0,len(Address_df))"
   ]
  },
  {
   "cell_type": "code",
   "execution_count": 237,
   "metadata": {},
   "outputs": [],
   "source": [
    "#Tratamiento secuencia Amount\n",
    "Amount_df.reset_index()\n",
    "Amount_df['AmountId'] = Amount_df.index"
   ]
  },
  {
   "cell_type": "code",
   "execution_count": 238,
   "metadata": {},
   "outputs": [],
   "source": [
    "#Tratamiento secuencia CreditLine\n",
    "CreditLine_df.reset_index()\n",
    "CreditLine_df['CreditLineId'] = CreditLine_df.index"
   ]
  },
  {
   "cell_type": "code",
   "execution_count": 239,
   "metadata": {},
   "outputs": [],
   "source": [
    "#Tratamiento secuencia CustomerProfile\n",
    "CurrentAccount_df.reset_index()\n",
    "CurrentAccount_df['PartyId'] = CustomerProfile_df.index\n",
    "CurrentAccount_df['AccountId'] = CurrentAccount_df.index"
   ]
  },
  {
   "cell_type": "code",
   "execution_count": 240,
   "metadata": {},
   "outputs": [],
   "source": [
    "#Tratamiento position keeping\n",
    "PositionKeeping_df.reset_index()\n",
    "PositionKeeping_df['AmountId'] = PositionKeeping_df.index\n",
    "PositionKeeping_df['CreditLineId'] = PositionKeeping_df.index"
   ]
  },
  {
   "cell_type": "code",
   "execution_count": 241,
   "metadata": {},
   "outputs": [],
   "source": [
    "#Volcado de ficheros 1 Millon de registros\n",
    "AccountInfo_df.to_csv(AccountInfo_file_out, index=False)\n",
    "Address_df.to_csv(Address_file_out, index=False)\n",
    "Amount_df.to_csv(Amount_file_out, index=False)\n",
    "CurrentAccount_df.to_csv(CurrentAccount_file_out, index=False)\n",
    "CustomerProfile_df.to_csv(CustomerProfile_file_out, index=False)\n",
    "PositionKeeping_df.to_csv(Position_Keeping_file_out, index=False)\n",
    "CreditLine_df.to_csv(CreditLine_file_out, index=False)"
   ]
  }
 ],
 "metadata": {
  "kernelspec": {
   "display_name": "Python 3",
   "language": "python",
   "name": "python3"
  },
  "language_info": {
   "codemirror_mode": {
    "name": "ipython",
    "version": 3
   },
   "file_extension": ".py",
   "mimetype": "text/x-python",
   "name": "python",
   "nbconvert_exporter": "python",
   "pygments_lexer": "ipython3",
   "version": "3.8.3"
  }
 },
 "nbformat": 4,
 "nbformat_minor": 4
}
