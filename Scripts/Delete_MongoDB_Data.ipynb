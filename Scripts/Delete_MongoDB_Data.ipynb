{
 "cells": [
  {
   "cell_type": "markdown",
   "metadata": {},
   "source": [
    "Script de medición y borrado de las colecciones en cluster MongoDB\n",
    "TFM Daniel Herranz Segundo"
   ]
  },
  {
   "cell_type": "code",
   "execution_count": 84,
   "metadata": {},
   "outputs": [],
   "source": [
    "import pandas as pd\n",
    "import numpy as np\n",
    "import os\n",
    "import json\n",
    "import random\n",
    "import pymongo\n",
    "from pymongo import MongoClient\n",
    "import time\n",
    "from pprint import pprint\n",
    "from pymongo import InsertOne, DeleteMany, ReplaceOne, UpdateOne\n",
    "import matplotlib.pyplot as plt\n",
    "import psutil"
   ]
  },
  {
   "cell_type": "code",
   "execution_count": 98,
   "metadata": {},
   "outputs": [],
   "source": [
    "def save_results_to_csv(results,file):\n",
    "    #Guardamos los resultados en csv\n",
    "    from datetime import datetime\n",
    "    \n",
    "    csv_df = pd.DataFrame(results, columns=['Registros', 'Tiempo', 'CPU','Memoria'])\n",
    "    dia = datetime.now().strftime(\"%d%m%Y_%H_%M_%S\")\n",
    "    csv_df.to_csv(file.format(str(dia)))"
   ]
  },
  {
   "cell_type": "code",
   "execution_count": 99,
   "metadata": {},
   "outputs": [],
   "source": [
    "resultados_etl = '../Results/MongoDB/MongoDB_Delete_MultipleCollection_{}.csv'"
   ]
  },
  {
   "cell_type": "code",
   "execution_count": 100,
   "metadata": {},
   "outputs": [],
   "source": [
    "#repeticiones\n",
    "repeats = 100"
   ]
  },
  {
   "cell_type": "code",
   "execution_count": 101,
   "metadata": {},
   "outputs": [],
   "source": [
    "write_concern = 3\n",
    "\n",
    "#Conexion unica a colecciones\n",
    "connection = MongoClient('localhost', 27017, w=3) #Conexion con WriteConcern a 3 (primario y dos nodos consolidados)\n",
    "\n",
    "#Creamos una base de datos para el trabajo llamada TFM\n",
    "tfm_mongo_db = connection[\"tfm_mongo_database\"]"
   ]
  },
  {
   "cell_type": "markdown",
   "metadata": {},
   "source": [
    "## Creación de las colecciones por cada dominio"
   ]
  },
  {
   "cell_type": "code",
   "execution_count": 102,
   "metadata": {},
   "outputs": [
    {
     "name": "stdout",
     "output_type": "stream",
     "text": [
      "['admin', 'config', 'local', 'tfm_mongo_database']\n"
     ]
    }
   ],
   "source": [
    "CustomerProfileCollection = tfm_mongo_db[\"CustomerProfileCollection\"]\n",
    "CurrentAccountCollection = tfm_mongo_db[\"CurrentAccountCollection\"]\n",
    "PositionKeepingCollection = tfm_mongo_db[\"PositionKeepingCollection\"]\n",
    "print(connection.list_database_names())"
   ]
  },
  {
   "cell_type": "markdown",
   "metadata": {},
   "source": [
    "## Borrado de los documentos y simulación en cascada"
   ]
  },
  {
   "cell_type": "code",
   "execution_count": 103,
   "metadata": {},
   "outputs": [],
   "source": [
    "def removePartyIdInDifferentsDomains(partyId):\n",
    "    borrados = 0\n",
    "    #Baja de un cliente -Borrado de todos los documentos relacionados con PartyId (CurrentAccount + CustomerProfile + PositionKeeping (AccountId))\n",
    "    currents_accounts_to_delete = []\n",
    "    resultado = CurrentAccountCollection.find({'PartyId': partyId})\n",
    "    for doc in resultado:\n",
    "        # Borramos todos los registros de Balance asociados a cuentas de ese PartyId\n",
    "        cad = CurrentAccountCollection.delete_many({'AccountId' : doc.get('AccountId')})\n",
    "        currents_accounts_to_delete.append(doc.get('AccountId'))\n",
    "        borrados = borrados + cad.deleted_count\n",
    "    currents_accounts_to_delete = list(dict.fromkeys(currents_accounts_to_delete))\n",
    "    for accountId_to_remove in currents_accounts_to_delete:\n",
    "        pkd = PositionKeepingCollection.delete_many({'AccountId': accountId_to_remove})\n",
    "        borrados = borrados + pkd.deleted_count\n",
    "        cpd = CustomerProfileCollection.delete_many({'PartyId' : partyId})\n",
    "        borrados = borrados + cpd.deleted_count\n",
    "    return borrados"
   ]
  },
  {
   "cell_type": "code",
   "execution_count": 104,
   "metadata": {},
   "outputs": [],
   "source": [
    "def deletePartyIdInDatabase(partyIdList):\n",
    "    registers = [] \n",
    "    for partyId in range(0,repeats):      \n",
    "        time_inicial = time.time()\n",
    "        removePartyIdInDifferentsDomains(random.choice(partyIdList))\n",
    "        time_final = time.time()\n",
    "        data_time_collection = round(time_final - time_inicial,3)\n",
    "        used_cpu = psutil.cpu_percent()\n",
    "        mem_used = psutil.virtual_memory().percent\n",
    "        registers.append((CustomerProfileCollection.count_documents({}),data_time_collection,used_cpu,mem_used))\n",
    "    return registers"
   ]
  },
  {
   "cell_type": "code",
   "execution_count": 105,
   "metadata": {},
   "outputs": [
    {
     "data": {
      "text/plain": [
       "999891"
      ]
     },
     "execution_count": 105,
     "metadata": {},
     "output_type": "execute_result"
    }
   ],
   "source": [
    "#Seleccionamos todos los partyId existentes en la coleccion CustomerProfile para borrarlos iterativamente\n",
    "partyIdList = []\n",
    "resultado_query = CustomerProfileCollection.find({},{'PartyId': 1})\n",
    "for customer in resultado_query:\n",
    "    partyIdList.append(customer.get('PartyId'))\n",
    "partyIdList = list(dict.fromkeys(partyIdList))\n",
    "len(partyIdList)"
   ]
  },
  {
   "cell_type": "code",
   "execution_count": 106,
   "metadata": {},
   "outputs": [
    {
     "name": "stdout",
     "output_type": "stream",
     "text": [
      "CustomerProfileCollection 999891 documentos antes de borrado\n",
      "CurrentAccountCollection 999892 documentos antes de borrado\n",
      "PositionKeepingCollection 999891 documentos antes de borrado\n"
     ]
    }
   ],
   "source": [
    "#Estado actual de las diferentes colecciones\n",
    "print(\"CustomerProfileCollection\",CustomerProfileCollection.count_documents({}),\"documentos antes de borrado\")\n",
    "print(\"CurrentAccountCollection\",CurrentAccountCollection.count_documents({}),\"documentos antes de borrado\")\n",
    "print(\"PositionKeepingCollection\",PositionKeepingCollection.count_documents({}),\"documentos antes de borrado\")"
   ]
  },
  {
   "cell_type": "code",
   "execution_count": 107,
   "metadata": {},
   "outputs": [],
   "source": [
    "#Iteramos sobre partyId al azar (para evitar sesgo de indices) y borramos todo lo relacionado en otras colecciones\n",
    "registers = deletePartyIdInDatabase(partyIdList)"
   ]
  },
  {
   "cell_type": "code",
   "execution_count": 108,
   "metadata": {},
   "outputs": [
    {
     "name": "stdout",
     "output_type": "stream",
     "text": [
      "CustomerProfileCollection 999792 documentos post borrado\n",
      "CurrentAccountCollection 999792 documentos post borrado\n",
      "PositionKeepingCollection 999791 documentos post borrado\n"
     ]
    }
   ],
   "source": [
    "#Estado actual de las diferentes colecciones\n",
    "print(\"CustomerProfileCollection\",CurrentAccountCollection.count_documents({}),\"documentos post borrado\")\n",
    "print(\"CurrentAccountCollection\",CurrentAccountCollection.count_documents({}),\"documentos post borrado\")\n",
    "print(\"PositionKeepingCollection\",PositionKeepingCollection.count_documents({}),\"documentos post borrado\")"
   ]
  },
  {
   "cell_type": "code",
   "execution_count": 110,
   "metadata": {},
   "outputs": [
    {
     "data": {
      "text/plain": [
       "[(999880, 0.36, 17.9, 67.7),\n",
       " (999879, 0.362, 18.7, 67.7),\n",
       " (999878, 0.376, 18.7, 67.7),\n",
       " (999877, 0.361, 17.7, 67.7),\n",
       " (999876, 0.367, 17.4, 67.7),\n",
       " (999875, 0.356, 17.4, 67.7),\n",
       " (999874, 0.367, 16.8, 67.7),\n",
       " (999873, 0.355, 17.1, 67.7),\n",
       " (999872, 0.367, 17.2, 67.7),\n",
       " (999871, 0.362, 25.3, 67.7)]"
      ]
     },
     "execution_count": 110,
     "metadata": {},
     "output_type": "execute_result"
    }
   ],
   "source": [
    "registers[10:20]"
   ]
  },
  {
   "cell_type": "code",
   "execution_count": 111,
   "metadata": {},
   "outputs": [],
   "source": [
    "save_results_to_csv(registers,resultados_etl)"
   ]
  },
  {
   "cell_type": "code",
   "execution_count": 112,
   "metadata": {},
   "outputs": [],
   "source": [
    "#Cierre de la conexion\n",
    "connection.close()"
   ]
  }
 ],
 "metadata": {
  "kernelspec": {
   "display_name": "Python 3",
   "language": "python",
   "name": "python3"
  },
  "language_info": {
   "codemirror_mode": {
    "name": "ipython",
    "version": 3
   },
   "file_extension": ".py",
   "mimetype": "text/x-python",
   "name": "python",
   "nbconvert_exporter": "python",
   "pygments_lexer": "ipython3",
   "version": "3.7.6"
  }
 },
 "nbformat": 4,
 "nbformat_minor": 4
}
