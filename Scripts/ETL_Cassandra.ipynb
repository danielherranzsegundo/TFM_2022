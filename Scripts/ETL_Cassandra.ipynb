{
 "cells": [
  {
   "cell_type": "raw",
   "metadata": {},
   "source": [
    "TFM Daniel Herranz Segundo\n",
    "Script de adaptacion de los dataset de entidades para carga en modelo columnar"
   ]
  },
  {
   "cell_type": "code",
   "execution_count": 1,
   "metadata": {},
   "outputs": [],
   "source": [
    "import pandas as pd\n",
    "import numpy as np\n",
    "import os\n",
    "import json\n",
    "import random"
   ]
  },
  {
   "cell_type": "code",
   "execution_count": 2,
   "metadata": {},
   "outputs": [],
   "source": [
    "#Variables de los ficheros de datos salida\n",
    "CurrentAccountKeyspace_file_out = '../MockData/Cassandra/CurrentAccountKeyspace/CurrentAccountKeyspace.csv'\n",
    "CurrentAccountKeyspaceAccountInfo_file_out = '../MockData/Cassandra/CurrentAccountKeyspace/CurrentAccountAccountInfoKeyspace.csv'\n",
    "PositionKeepingKeyspace_file_out = '../MockData/Cassandra/PositionKeepingKeyspace/PositionKeepingKeyspace.csv'\n",
    "CustomerProfileKeyspace_file_out = '../MockData/Cassandra/CustomerProfileKeyspace/CustomerProfileKeyspace.csv'\n",
    "CustomerProfileAddressKeyspace_file_out = '../MockData/Cassandra/CustomerProfileKeyspace/CustomerProfileAddressKeyspace.csv'\n",
    "\n",
    "CurrentAccountKeyspace_sample_out = '../MockData/Cassandra/CurrentAccountKeyspace/CurrentAccountKeyspace_sample.csv'\n",
    "CurrentAccountKeyspaceAccountInfo_sample_out = '../MockData/Cassandra/CurrentAccountKeyspace/CurrentAccountAccountInfoKeyspace_sample.csv'\n",
    "PositionKeepingKeyspace_sample_out = '../MockData/Cassandra/PositionKeepingKeyspace/PositionKeepingKeyspace_sample.csv'\n",
    "CustomerProfileKeyspaceCustomer_sample_out = '../MockData/Cassandra/CustomerProfileKeyspace/CustomerProfileKeyspace_sample.csv'\n",
    "CustomerProfileKeyspaceAddress_sample_out = '../MockData/Cassandra/CustomerProfileKeyspace/CustomerProfileAddressKeyspace_sample.csv'\n",
    "\n",
    "CurrentAccountKeyspace_100K_sample_out = '../MockData/Cassandra/CurrentAccountKeyspace/CurrentAccountKeyspace_100K_sample.csv'\n",
    "CurrentAccountKeyspaceAccountInfo_100K_sample_out = '../MockData/Cassandra/CurrentAccountKeyspace/CurrentAccountAccountInfoKeyspace_100K_100K_sample.csv'\n",
    "PositionKeepingKeyspace_100K_sample_out = '../MockData/Cassandra/PositionKeepingKeyspace/PositionKeepingKeyspace_100K_sample.csv'\n",
    "CustomerProfileKeyspaceCustomer_100K_sample_out = '../MockData/Cassandra/CustomerProfileKeyspace/CustomerProfileKeyspace_100K_sample.csv'\n",
    "CustomerProfileKeyspaceAddress_100K_sample_out = '../MockData/Cassandra/CustomerProfileKeyspace/CustomerProfileAddressKeyspace_100K_sample.csv'\n",
    "\n",
    "CurrentAccountKeyspace_500K_sample_out = '../MockData/Cassandra/CurrentAccountKeyspace/CurrentAccountKeyspace_500K_sample.csv'\n",
    "CurrentAccountKeyspaceAccountInfo_500K_sample_out = '../MockData/Cassandra/CurrentAccountKeyspace/CurrentAccountAccountInfoKeyspace_500K_sample.csv'\n",
    "PositionKeepingKeyspace_500K_sample_out = '../MockData/Cassandra/PositionKeepingKeyspace/PositionKeepingKeyspace_500K_sample.csv'\n",
    "CustomerProfileKeyspaceCustomer_500K_sample_out = '../MockData/Cassandra/CustomerProfileKeyspace/CustomerProfileKeyspace_500K_sample.csv'\n",
    "CustomerProfileKeyspaceAddress_500K_sample_out = '../MockData/Cassandra/CustomerProfileKeyspace/CustomerProfileAddressKeyspace_500K_sample.csv'"
   ]
  },
  {
   "cell_type": "code",
   "execution_count": 3,
   "metadata": {},
   "outputs": [],
   "source": [
    "#Función para resetear ficheros de salida\n",
    "def reset_files(file):\n",
    "    if os.path.exists(file):\n",
    "        os.remove(file)\n",
    "        print(\"The file\", file ,\"have been removed\")\n",
    "    else:\n",
    "        print(\"The file\", file ,\"does not exist\")"
   ]
  },
  {
   "cell_type": "code",
   "execution_count": 4,
   "metadata": {},
   "outputs": [
    {
     "name": "stdout",
     "output_type": "stream",
     "text": [
      "The file ../MockData/Cassandra/CurrentAccountKeyspace/CurrentAccountKeyspace.csv have been removed\n",
      "The file ../MockData/Cassandra/CurrentAccountKeyspace/CurrentAccountAccountInfoKeyspace.csv have been removed\n",
      "The file ../MockData/Cassandra/PositionKeepingKeyspace/PositionKeepingKeyspace.csv have been removed\n",
      "The file ../MockData/Cassandra/CustomerProfileKeyspace/CustomerProfileKeyspace.csv have been removed\n",
      "The file ../MockData/Cassandra/CustomerProfileKeyspace/CustomerProfileAddressKeyspace.csv have been removed\n",
      "The file ../MockData/Cassandra/CurrentAccountKeyspace/CurrentAccountKeyspace_100K_sample.csv does not exist\n",
      "The file ../MockData/Cassandra/CurrentAccountKeyspace/CurrentAccountAccountInfoKeyspace_100K_100K_sample.csv does not exist\n",
      "The file ../MockData/Cassandra/PositionKeepingKeyspace/PositionKeepingKeyspace_100K_sample.csv does not exist\n",
      "The file ../MockData/Cassandra/CustomerProfileKeyspace/CustomerProfileKeyspace_100K_sample.csv does not exist\n",
      "The file ../MockData/Cassandra/CustomerProfileKeyspace/CustomerProfileAddressKeyspace_100K_sample.csv does not exist\n",
      "The file ../MockData/Cassandra/CurrentAccountKeyspace/CurrentAccountKeyspace_500K_sample.csv does not exist\n",
      "The file ../MockData/Cassandra/CurrentAccountKeyspace/CurrentAccountAccountInfoKeyspace_500K_sample.csv does not exist\n",
      "The file ../MockData/Cassandra/PositionKeepingKeyspace/PositionKeepingKeyspace_500K_sample.csv does not exist\n",
      "The file ../MockData/Cassandra/CustomerProfileKeyspace/CustomerProfileKeyspace_500K_sample.csv does not exist\n",
      "The file ../MockData/Cassandra/CustomerProfileKeyspace/CustomerProfileAddressKeyspace_500K_sample.csv does not exist\n",
      "The file ../MockData/Cassandra/CurrentAccountKeyspace/CurrentAccountKeyspace_sample.csv have been removed\n",
      "The file ../MockData/Cassandra/CurrentAccountKeyspace/CurrentAccountAccountInfoKeyspace_sample.csv have been removed\n",
      "The file ../MockData/Cassandra/PositionKeepingKeyspace/PositionKeepingKeyspace_sample.csv have been removed\n",
      "The file ../MockData/Cassandra/CustomerProfileKeyspace/CustomerProfileKeyspace_sample.csv have been removed\n",
      "The file ../MockData/Cassandra/CustomerProfileKeyspace/CustomerProfileAddressKeyspace_sample.csv have been removed\n"
     ]
    }
   ],
   "source": [
    "#Limpiamos los ficheros de salida\n",
    "reset_files(CurrentAccountKeyspace_file_out)\n",
    "reset_files(CurrentAccountKeyspaceAccountInfo_file_out)\n",
    "reset_files(PositionKeepingKeyspace_file_out)\n",
    "reset_files(CustomerProfileKeyspace_file_out)\n",
    "reset_files(CustomerProfileAddressKeyspace_file_out)\n",
    "\n",
    "reset_files(CurrentAccountKeyspace_100K_sample_out)\n",
    "reset_files(CurrentAccountKeyspaceAccountInfo_100K_sample_out)\n",
    "reset_files(PositionKeepingKeyspace_100K_sample_out)\n",
    "reset_files(CustomerProfileKeyspaceCustomer_100K_sample_out)\n",
    "reset_files(CustomerProfileKeyspaceAddress_100K_sample_out)\n",
    "\n",
    "reset_files(CurrentAccountKeyspace_500K_sample_out)\n",
    "reset_files(CurrentAccountKeyspaceAccountInfo_500K_sample_out)\n",
    "reset_files(PositionKeepingKeyspace_500K_sample_out)\n",
    "reset_files(CustomerProfileKeyspaceCustomer_500K_sample_out)\n",
    "reset_files(CustomerProfileKeyspaceAddress_500K_sample_out)\n",
    "\n",
    "reset_files(CurrentAccountKeyspace_sample_out)\n",
    "reset_files(CurrentAccountKeyspaceAccountInfo_sample_out)\n",
    "reset_files(PositionKeepingKeyspace_sample_out)\n",
    "reset_files(CustomerProfileKeyspaceCustomer_sample_out)\n",
    "reset_files(CustomerProfileKeyspaceAddress_sample_out)"
   ]
  },
  {
   "cell_type": "markdown",
   "metadata": {},
   "source": [
    "# Generacion ficheros keyspace CustomerProfile"
   ]
  },
  {
   "cell_type": "code",
   "execution_count": 5,
   "metadata": {},
   "outputs": [],
   "source": [
    "#Carga de la información de dataframes por entidades\n",
    "\n",
    "Address_df = pd.read_csv('../MockData/Address_1M.csv')\n",
    "CustomerProfile_df = pd.read_csv('../MockData/CustomerProfile_1M.csv')\n",
    "Country_df = pd.read_csv('../MockData/base/Country.csv')"
   ]
  },
  {
   "cell_type": "code",
   "execution_count": 6,
   "metadata": {},
   "outputs": [],
   "source": [
    "# --- NO EJECUTAR ESTA LINEA SI SE GENERA EN MODO REAL ---- #\n",
    "CustomerProfile_df = CustomerProfile_df.sample(1000) #Comentar si modo real\n",
    "Address_df = Address_df.sample(1000)"
   ]
  },
  {
   "cell_type": "code",
   "execution_count": 7,
   "metadata": {},
   "outputs": [
    {
     "data": {
      "text/html": [
       "<div>\n",
       "<style scoped>\n",
       "    .dataframe tbody tr th:only-of-type {\n",
       "        vertical-align: middle;\n",
       "    }\n",
       "\n",
       "    .dataframe tbody tr th {\n",
       "        vertical-align: top;\n",
       "    }\n",
       "\n",
       "    .dataframe thead th {\n",
       "        text-align: right;\n",
       "    }\n",
       "</style>\n",
       "<table border=\"1\" class=\"dataframe\">\n",
       "  <thead>\n",
       "    <tr style=\"text-align: right;\">\n",
       "      <th></th>\n",
       "      <th>PartyId</th>\n",
       "      <th>PartyNumber</th>\n",
       "      <th>PartyType</th>\n",
       "      <th>Name</th>\n",
       "      <th>FullLegalName</th>\n",
       "      <th>LegalStructure</th>\n",
       "      <th>BeneficialOwnership</th>\n",
       "      <th>AccountRole</th>\n",
       "      <th>EmailAddress</th>\n",
       "      <th>Phone</th>\n",
       "    </tr>\n",
       "  </thead>\n",
       "  <tbody>\n",
       "    <tr>\n",
       "      <th>1269492</th>\n",
       "      <td>2701</td>\n",
       "      <td>2701</td>\n",
       "      <td>sol</td>\n",
       "      <td>Maynard</td>\n",
       "      <td>Prof. Coleman Bayer DDS</td>\n",
       "      <td>Prof.</td>\n",
       "      <td>5</td>\n",
       "      <td>DE.OBIE.Principal</td>\n",
       "      <td>treutel.adalberto@example.com</td>\n",
       "      <td>143-385-6424</td>\n",
       "    </tr>\n",
       "  </tbody>\n",
       "</table>\n",
       "</div>"
      ],
      "text/plain": [
       "         PartyId  PartyNumber PartyType     Name            FullLegalName  \\\n",
       "1269492     2701         2701       sol  Maynard  Prof. Coleman Bayer DDS   \n",
       "\n",
       "        LegalStructure  BeneficialOwnership        AccountRole  \\\n",
       "1269492          Prof.                    5  DE.OBIE.Principal   \n",
       "\n",
       "                          EmailAddress         Phone  \n",
       "1269492  treutel.adalberto@example.com  143-385-6424  "
      ]
     },
     "execution_count": 7,
     "metadata": {},
     "output_type": "execute_result"
    }
   ],
   "source": [
    "CustomerProfile_df.sample(1)"
   ]
  },
  {
   "cell_type": "code",
   "execution_count": 8,
   "metadata": {},
   "outputs": [
    {
     "data": {
      "text/html": [
       "<div>\n",
       "<style scoped>\n",
       "    .dataframe tbody tr th:only-of-type {\n",
       "        vertical-align: middle;\n",
       "    }\n",
       "\n",
       "    .dataframe tbody tr th {\n",
       "        vertical-align: top;\n",
       "    }\n",
       "\n",
       "    .dataframe thead th {\n",
       "        text-align: right;\n",
       "    }\n",
       "</style>\n",
       "<table border=\"1\" class=\"dataframe\">\n",
       "  <thead>\n",
       "    <tr style=\"text-align: right;\">\n",
       "      <th></th>\n",
       "      <th>PartyId</th>\n",
       "      <th>AddressType</th>\n",
       "      <th>AddressLine</th>\n",
       "      <th>StreetName</th>\n",
       "      <th>BuildingNumber</th>\n",
       "      <th>PostCode</th>\n",
       "      <th>TownName</th>\n",
       "      <th>CountrySubDivision</th>\n",
       "      <th>CountryId</th>\n",
       "    </tr>\n",
       "  </thead>\n",
       "  <tbody>\n",
       "    <tr>\n",
       "      <th>233645</th>\n",
       "      <td>233645</td>\n",
       "      <td>Lake</td>\n",
       "      <td>8772 Muller Parkway</td>\n",
       "      <td>Sherwood Island</td>\n",
       "      <td>990</td>\n",
       "      <td>74362-0189</td>\n",
       "      <td>Alexanderton</td>\n",
       "      <td>1.0</td>\n",
       "      <td>2</td>\n",
       "    </tr>\n",
       "  </tbody>\n",
       "</table>\n",
       "</div>"
      ],
      "text/plain": [
       "        PartyId AddressType          AddressLine       StreetName  \\\n",
       "233645   233645        Lake  8772 Muller Parkway  Sherwood Island   \n",
       "\n",
       "        BuildingNumber    PostCode      TownName  CountrySubDivision  \\\n",
       "233645             990  74362-0189  Alexanderton                 1.0   \n",
       "\n",
       "        CountryId  \n",
       "233645          2  "
      ]
     },
     "execution_count": 8,
     "metadata": {},
     "output_type": "execute_result"
    }
   ],
   "source": [
    "Address_df.sample(1)"
   ]
  },
  {
   "cell_type": "code",
   "execution_count": 9,
   "metadata": {},
   "outputs": [
    {
     "data": {
      "text/html": [
       "<div>\n",
       "<style scoped>\n",
       "    .dataframe tbody tr th:only-of-type {\n",
       "        vertical-align: middle;\n",
       "    }\n",
       "\n",
       "    .dataframe tbody tr th {\n",
       "        vertical-align: top;\n",
       "    }\n",
       "\n",
       "    .dataframe thead th {\n",
       "        text-align: right;\n",
       "    }\n",
       "</style>\n",
       "<table border=\"1\" class=\"dataframe\">\n",
       "  <thead>\n",
       "    <tr style=\"text-align: right;\">\n",
       "      <th></th>\n",
       "      <th>CountryId</th>\n",
       "      <th>ShortName</th>\n",
       "      <th>Description</th>\n",
       "      <th>Code</th>\n",
       "      <th>Unnamed: 4</th>\n",
       "    </tr>\n",
       "  </thead>\n",
       "  <tbody>\n",
       "    <tr>\n",
       "      <th>0</th>\n",
       "      <td>1</td>\n",
       "      <td>Spain</td>\n",
       "      <td>Omnis dolore id dicta consequatur sit omnis. E...</td>\n",
       "      <td>IND</td>\n",
       "      <td>NaN</td>\n",
       "    </tr>\n",
       "  </tbody>\n",
       "</table>\n",
       "</div>"
      ],
      "text/plain": [
       "   CountryId ShortName                                        Description  \\\n",
       "0          1     Spain  Omnis dolore id dicta consequatur sit omnis. E...   \n",
       "\n",
       "  Code  Unnamed: 4  \n",
       "0  IND         NaN  "
      ]
     },
     "execution_count": 9,
     "metadata": {},
     "output_type": "execute_result"
    }
   ],
   "source": [
    "Country_df.sample(1)"
   ]
  },
  {
   "cell_type": "code",
   "execution_count": 10,
   "metadata": {},
   "outputs": [
    {
     "data": {
      "text/html": [
       "<div>\n",
       "<style scoped>\n",
       "    .dataframe tbody tr th:only-of-type {\n",
       "        vertical-align: middle;\n",
       "    }\n",
       "\n",
       "    .dataframe tbody tr th {\n",
       "        vertical-align: top;\n",
       "    }\n",
       "\n",
       "    .dataframe thead th {\n",
       "        text-align: right;\n",
       "    }\n",
       "</style>\n",
       "<table border=\"1\" class=\"dataframe\">\n",
       "  <thead>\n",
       "    <tr style=\"text-align: right;\">\n",
       "      <th></th>\n",
       "      <th>PartyId</th>\n",
       "      <th>AddressType</th>\n",
       "      <th>AddressLine</th>\n",
       "      <th>StreetName</th>\n",
       "      <th>BuildingNumber</th>\n",
       "      <th>PostCode</th>\n",
       "      <th>TownName</th>\n",
       "      <th>CountrySubDivision</th>\n",
       "      <th>CountryId</th>\n",
       "      <th>Country_Code</th>\n",
       "      <th>Country_ShortName</th>\n",
       "      <th>Country_Description</th>\n",
       "    </tr>\n",
       "  </thead>\n",
       "  <tbody>\n",
       "    <tr>\n",
       "      <th>362430</th>\n",
       "      <td>362430</td>\n",
       "      <td>West</td>\n",
       "      <td>4837 Walter Haven Apt. 430</td>\n",
       "      <td>Urban Squares</td>\n",
       "      <td>52613</td>\n",
       "      <td>03592-5374</td>\n",
       "      <td>South Shanon</td>\n",
       "      <td>5.0</td>\n",
       "      <td>2</td>\n",
       "      <td>SPA</td>\n",
       "      <td>Greatbrit</td>\n",
       "      <td>Aut sapiente dicta illo consectetur nulla labo...</td>\n",
       "    </tr>\n",
       "    <tr>\n",
       "      <th>949244</th>\n",
       "      <td>949244</td>\n",
       "      <td>West</td>\n",
       "      <td>51238 Flo Cliffs</td>\n",
       "      <td>Bogan Cove</td>\n",
       "      <td>76051</td>\n",
       "      <td>98892</td>\n",
       "      <td>West Barbaraville</td>\n",
       "      <td>NaN</td>\n",
       "      <td>3</td>\n",
       "      <td>GBP</td>\n",
       "      <td>USA</td>\n",
       "      <td>Id dolorem a soluta harum iusto qui repellat. ...</td>\n",
       "    </tr>\n",
       "  </tbody>\n",
       "</table>\n",
       "</div>"
      ],
      "text/plain": [
       "        PartyId AddressType                 AddressLine     StreetName  \\\n",
       "362430   362430        West  4837 Walter Haven Apt. 430  Urban Squares   \n",
       "949244   949244        West            51238 Flo Cliffs     Bogan Cove   \n",
       "\n",
       "        BuildingNumber    PostCode           TownName  CountrySubDivision  \\\n",
       "362430           52613  03592-5374       South Shanon                 5.0   \n",
       "949244           76051       98892  West Barbaraville                 NaN   \n",
       "\n",
       "        CountryId Country_Code Country_ShortName  \\\n",
       "362430          2          SPA         Greatbrit   \n",
       "949244          3          GBP               USA   \n",
       "\n",
       "                                      Country_Description  \n",
       "362430  Aut sapiente dicta illo consectetur nulla labo...  \n",
       "949244  Id dolorem a soluta harum iusto qui repellat. ...  "
      ]
     },
     "execution_count": 10,
     "metadata": {},
     "output_type": "execute_result"
    }
   ],
   "source": [
    "#Desnormalizamos la información para la carga en Cassandra\n",
    "Country_Code_column = []\n",
    "Country_ShortName_column = []\n",
    "Country_Description_column = []\n",
    "\n",
    "for i in range (0,len(Address_df)): \n",
    "    country_deployed_df = Country_df.sample(1)\n",
    "    Country_Code_column.append(country_deployed_df['Code'].iloc[0])\n",
    "    Country_ShortName_column.append(country_deployed_df['ShortName'].iloc[0])\n",
    "    Country_Description_column.append(country_deployed_df['Description'].iloc[0])\n",
    "\n",
    "Address_df['Country_Code'] = Country_Code_column\n",
    "Address_df['Country_ShortName'] = Country_ShortName_column\n",
    "Address_df['Country_Description'] = Country_Description_column\n",
    "\n",
    "Address_df.sample(2)"
   ]
  },
  {
   "cell_type": "code",
   "execution_count": 11,
   "metadata": {},
   "outputs": [],
   "source": [
    "#Volcado de los ficheros relacionados con Customer Profile (la carga de direcciones se realizará en CQL)\n",
    "#Samples (COMENTAR EN MODO FINAL)\n",
    "CustomerProfile_df.to_csv(CustomerProfileKeyspaceCustomer_sample_out, index= False)\n",
    "Address_df.to_csv(CustomerProfileKeyspaceAddress_sample_out, index= False)\n",
    "\n",
    "#Modo final\n",
    "#CustomerProfile_df.to_csv(CustomerProfileKeyspace_file_out, index= False)\n",
    "#Address_df.to_csv(CustomerProfileAddressKeyspace_file_out, index= False)"
   ]
  },
  {
   "cell_type": "markdown",
   "metadata": {},
   "source": [
    "# Generacion de ficheros KeySpace CurrentAccount"
   ]
  },
  {
   "cell_type": "code",
   "execution_count": 12,
   "metadata": {},
   "outputs": [],
   "source": [
    "#Carga de la información de dataframes por entidades\n",
    "\n",
    "AccountInfo_df = pd.read_csv('../MockData/AccountInfo_1M.csv')\n",
    "CurrentAccount_df = pd.read_csv('../MockData/CurrentAccount_1M.csv')"
   ]
  },
  {
   "cell_type": "code",
   "execution_count": 13,
   "metadata": {},
   "outputs": [],
   "source": [
    "# --- NO EJECUTAR ESTA LINEA SI SE GENERA EN MODO REAL ---- #\n",
    "CurrentAccount_df = CurrentAccount_df.sample(1000)\n",
    "AccountInfo_df = AccountInfo_df.sample(250)"
   ]
  },
  {
   "cell_type": "code",
   "execution_count": 14,
   "metadata": {},
   "outputs": [
    {
     "data": {
      "text/html": [
       "<div>\n",
       "<style scoped>\n",
       "    .dataframe tbody tr th:only-of-type {\n",
       "        vertical-align: middle;\n",
       "    }\n",
       "\n",
       "    .dataframe tbody tr th {\n",
       "        vertical-align: top;\n",
       "    }\n",
       "\n",
       "    .dataframe thead th {\n",
       "        text-align: right;\n",
       "    }\n",
       "</style>\n",
       "<table border=\"1\" class=\"dataframe\">\n",
       "  <thead>\n",
       "    <tr style=\"text-align: right;\">\n",
       "      <th></th>\n",
       "      <th>AccountId</th>\n",
       "      <th>PartyId</th>\n",
       "      <th>Status</th>\n",
       "      <th>StatusUpdateDateTime</th>\n",
       "      <th>AccountType</th>\n",
       "      <th>NickName</th>\n",
       "      <th>OpeningDate</th>\n",
       "      <th>AccountSubType</th>\n",
       "    </tr>\n",
       "  </thead>\n",
       "  <tbody>\n",
       "    <tr>\n",
       "      <th>1280509</th>\n",
       "      <td>7072</td>\n",
       "      <td>6434</td>\n",
       "      <td>Disabled</td>\n",
       "      <td>1979-07-04 19:22:50.00</td>\n",
       "      <td>Particular</td>\n",
       "      <td>mesh 24/7 networks</td>\n",
       "      <td>2021-10-01 16:56:15.00</td>\n",
       "      <td>POI</td>\n",
       "    </tr>\n",
       "  </tbody>\n",
       "</table>\n",
       "</div>"
      ],
      "text/plain": [
       "         AccountId  PartyId    Status    StatusUpdateDateTime AccountType  \\\n",
       "1280509       7072     6434  Disabled  1979-07-04 19:22:50.00  Particular   \n",
       "\n",
       "                   NickName             OpeningDate AccountSubType  \n",
       "1280509  mesh 24/7 networks  2021-10-01 16:56:15.00            POI  "
      ]
     },
     "execution_count": 14,
     "metadata": {},
     "output_type": "execute_result"
    }
   ],
   "source": [
    "CurrentAccount_df.sample(1)"
   ]
  },
  {
   "cell_type": "code",
   "execution_count": 15,
   "metadata": {},
   "outputs": [
    {
     "data": {
      "text/html": [
       "<div>\n",
       "<style scoped>\n",
       "    .dataframe tbody tr th:only-of-type {\n",
       "        vertical-align: middle;\n",
       "    }\n",
       "\n",
       "    .dataframe tbody tr th {\n",
       "        vertical-align: top;\n",
       "    }\n",
       "\n",
       "    .dataframe thead th {\n",
       "        text-align: right;\n",
       "    }\n",
       "</style>\n",
       "<table border=\"1\" class=\"dataframe\">\n",
       "  <thead>\n",
       "    <tr style=\"text-align: right;\">\n",
       "      <th></th>\n",
       "      <th>AccountInfoId</th>\n",
       "      <th>AccountId</th>\n",
       "      <th>SchemeName</th>\n",
       "      <th>Identification</th>\n",
       "      <th>Name</th>\n",
       "    </tr>\n",
       "  </thead>\n",
       "  <tbody>\n",
       "    <tr>\n",
       "      <th>1077065</th>\n",
       "      <td>3448</td>\n",
       "      <td>3449</td>\n",
       "      <td>NaN</td>\n",
       "      <td>2.0</td>\n",
       "      <td>Reinger-Hamill</td>\n",
       "    </tr>\n",
       "  </tbody>\n",
       "</table>\n",
       "</div>"
      ],
      "text/plain": [
       "         AccountInfoId  AccountId SchemeName  Identification            Name\n",
       "1077065           3448       3449        NaN             2.0  Reinger-Hamill"
      ]
     },
     "execution_count": 15,
     "metadata": {},
     "output_type": "execute_result"
    }
   ],
   "source": [
    "AccountInfo_df.sample(1)"
   ]
  },
  {
   "cell_type": "code",
   "execution_count": 16,
   "metadata": {},
   "outputs": [],
   "source": [
    "#Limpieza de columnas no necesarias en el modelo columnar\n",
    "del(AccountInfo_df['AccountInfoId'])"
   ]
  },
  {
   "cell_type": "code",
   "execution_count": 17,
   "metadata": {},
   "outputs": [
    {
     "data": {
      "text/html": [
       "<div>\n",
       "<style scoped>\n",
       "    .dataframe tbody tr th:only-of-type {\n",
       "        vertical-align: middle;\n",
       "    }\n",
       "\n",
       "    .dataframe tbody tr th {\n",
       "        vertical-align: top;\n",
       "    }\n",
       "\n",
       "    .dataframe thead th {\n",
       "        text-align: right;\n",
       "    }\n",
       "</style>\n",
       "<table border=\"1\" class=\"dataframe\">\n",
       "  <thead>\n",
       "    <tr style=\"text-align: right;\">\n",
       "      <th></th>\n",
       "      <th>AccountId</th>\n",
       "      <th>PartyId</th>\n",
       "      <th>Status</th>\n",
       "      <th>StatusUpdateDateTime</th>\n",
       "      <th>AccountType</th>\n",
       "      <th>NickName</th>\n",
       "      <th>OpeningDate</th>\n",
       "      <th>AccountSubType</th>\n",
       "    </tr>\n",
       "  </thead>\n",
       "  <tbody>\n",
       "    <tr>\n",
       "      <th>695066</th>\n",
       "      <td>1165</td>\n",
       "      <td>3228</td>\n",
       "      <td>Disabled</td>\n",
       "      <td>2022-03-27 12:30:51.00</td>\n",
       "      <td>Business</td>\n",
       "      <td>embrace extensible infrastructures</td>\n",
       "      <td>2016-04-03 23:04:11.00</td>\n",
       "      <td>EDP</td>\n",
       "    </tr>\n",
       "  </tbody>\n",
       "</table>\n",
       "</div>"
      ],
      "text/plain": [
       "        AccountId  PartyId    Status    StatusUpdateDateTime AccountType  \\\n",
       "695066       1165     3228  Disabled  2022-03-27 12:30:51.00    Business   \n",
       "\n",
       "                                  NickName             OpeningDate  \\\n",
       "695066  embrace extensible infrastructures  2016-04-03 23:04:11.00   \n",
       "\n",
       "       AccountSubType  \n",
       "695066            EDP  "
      ]
     },
     "execution_count": 17,
     "metadata": {},
     "output_type": "execute_result"
    }
   ],
   "source": [
    "CurrentAccount_df.sample(1)"
   ]
  },
  {
   "cell_type": "code",
   "execution_count": 18,
   "metadata": {},
   "outputs": [
    {
     "data": {
      "text/html": [
       "<div>\n",
       "<style scoped>\n",
       "    .dataframe tbody tr th:only-of-type {\n",
       "        vertical-align: middle;\n",
       "    }\n",
       "\n",
       "    .dataframe tbody tr th {\n",
       "        vertical-align: top;\n",
       "    }\n",
       "\n",
       "    .dataframe thead th {\n",
       "        text-align: right;\n",
       "    }\n",
       "</style>\n",
       "<table border=\"1\" class=\"dataframe\">\n",
       "  <thead>\n",
       "    <tr style=\"text-align: right;\">\n",
       "      <th></th>\n",
       "      <th>AccountId</th>\n",
       "      <th>SchemeName</th>\n",
       "      <th>Identification</th>\n",
       "      <th>Name</th>\n",
       "    </tr>\n",
       "  </thead>\n",
       "  <tbody>\n",
       "    <tr>\n",
       "      <th>1064433</th>\n",
       "      <td>2342</td>\n",
       "      <td>NaN</td>\n",
       "      <td>6.0</td>\n",
       "      <td>Paucek Group</td>\n",
       "    </tr>\n",
       "  </tbody>\n",
       "</table>\n",
       "</div>"
      ],
      "text/plain": [
       "         AccountId SchemeName  Identification          Name\n",
       "1064433       2342        NaN             6.0  Paucek Group"
      ]
     },
     "execution_count": 18,
     "metadata": {},
     "output_type": "execute_result"
    }
   ],
   "source": [
    "AccountInfo_df.sample(1)"
   ]
  },
  {
   "cell_type": "code",
   "execution_count": 19,
   "metadata": {},
   "outputs": [],
   "source": [
    "#Volcado de los ficheros relacionados con Current Account (la carga de direcciones se realizará en CQL)\n",
    "#Samples (COMENTAR EN MODO FINAL)\n",
    "CurrentAccount_df.to_csv(CurrentAccountKeyspace_sample_out, index= False)\n",
    "AccountInfo_df.to_csv(CurrentAccountKeyspaceAccountInfo_sample_out, index= False)\n",
    "\n",
    "#Modo final\n",
    "#CurrentAccount_df.to_csv(CurrentAccountKeyspace_file_out, index= False)\n",
    "#AccountInfo_df.to_csv(CurrentAccountKeyspaceAccountInfo_file_out, index= False)"
   ]
  },
  {
   "cell_type": "markdown",
   "metadata": {},
   "source": [
    "# Generacion de ficheros KeySpace PositionKeeping\n"
   ]
  },
  {
   "cell_type": "code",
   "execution_count": 20,
   "metadata": {},
   "outputs": [],
   "source": [
    "#Carga de datasets necesarias para la colección\n",
    "Amount_df = pd.read_csv('../MockData/Amount_1M.csv')\n",
    "CreditLine_df = pd.read_csv('../MockData/CreditLine_1M.csv')\n",
    "Currency_df = pd.read_csv('../MockData/base/Currency.csv')\n",
    "PositionKeeping_df = pd.read_csv('../MockData/Position_Keeping_1M.csv')"
   ]
  },
  {
   "cell_type": "code",
   "execution_count": 21,
   "metadata": {},
   "outputs": [
    {
     "name": "stdout",
     "output_type": "stream",
     "text": [
      "Index(['AmountId', 'CurrencyId', 'Amount'], dtype='object')\n",
      "Index(['CreditLineId', 'CurrencyId', 'Amount', 'Type', 'Included'], dtype='object')\n",
      "Index(['CurrencyId', 'Code', 'Description', 'Unnamed: 3'], dtype='object')\n",
      "Index(['AccountId', 'DateTime', 'CreditDebitIndicator', 'Type', 'AmountId',\n",
      "       'CreditLineId'],\n",
      "      dtype='object')\n"
     ]
    }
   ],
   "source": [
    "print(Amount_df.columns)\n",
    "print(CreditLine_df.columns)\n",
    "print(Currency_df.columns)\n",
    "print(PositionKeeping_df.columns)"
   ]
  },
  {
   "cell_type": "code",
   "execution_count": 22,
   "metadata": {},
   "outputs": [],
   "source": [
    "#Limpieza de columnas residuales y no necesarias en el documento\n",
    "del(Amount_df['CurrencyId'])\n",
    "del(Amount_df['AmountId'])\n",
    "\n",
    "del(CreditLine_df['CreditLineId'])\n",
    "del(CreditLine_df['CurrencyId'])\n",
    "\n",
    "del(Currency_df['CurrencyId'])\n",
    "\n",
    "del(PositionKeeping_df['CreditLineId'])\n",
    "del(PositionKeeping_df['AmountId'])"
   ]
  },
  {
   "cell_type": "code",
   "execution_count": 23,
   "metadata": {},
   "outputs": [
    {
     "name": "stdout",
     "output_type": "stream",
     "text": [
      "Index(['Amount'], dtype='object')\n",
      "Index(['Amount', 'Type', 'Included'], dtype='object')\n",
      "Index(['Code', 'Description', 'Unnamed: 3'], dtype='object')\n",
      "Index(['AccountId', 'DateTime', 'CreditDebitIndicator', 'Type'], dtype='object')\n"
     ]
    }
   ],
   "source": [
    "#Estado final de atributos para modelo columnar\n",
    "print(Amount_df.columns)\n",
    "print(CreditLine_df.columns)\n",
    "print(Currency_df.columns)\n",
    "print(PositionKeeping_df.columns)"
   ]
  },
  {
   "cell_type": "code",
   "execution_count": 24,
   "metadata": {},
   "outputs": [],
   "source": [
    "#Creamos samples. Testing (comentar en generación real)\n",
    "Amount_df = Amount_df.sample(500)\n",
    "CreditLine_df = CreditLine_df.sample(500)\n",
    "PositionKeeping_df = PositionKeeping_df.sample(1000)"
   ]
  },
  {
   "cell_type": "code",
   "execution_count": 25,
   "metadata": {},
   "outputs": [
    {
     "data": {
      "text/html": [
       "<div>\n",
       "<style scoped>\n",
       "    .dataframe tbody tr th:only-of-type {\n",
       "        vertical-align: middle;\n",
       "    }\n",
       "\n",
       "    .dataframe tbody tr th {\n",
       "        vertical-align: top;\n",
       "    }\n",
       "\n",
       "    .dataframe thead th {\n",
       "        text-align: right;\n",
       "    }\n",
       "</style>\n",
       "<table border=\"1\" class=\"dataframe\">\n",
       "  <thead>\n",
       "    <tr style=\"text-align: right;\">\n",
       "      <th></th>\n",
       "      <th>AccountId</th>\n",
       "      <th>DateTime</th>\n",
       "      <th>CreditDebitIndicator</th>\n",
       "      <th>Type</th>\n",
       "      <th>Amount_Amount</th>\n",
       "      <th>Amount_Currency_Description</th>\n",
       "      <th>Amount_Currency_Code</th>\n",
       "      <th>CreditLine_Amount</th>\n",
       "      <th>CreditLine_Currency_Description</th>\n",
       "      <th>CreditLine_Currency_Code</th>\n",
       "      <th>CreditLine_Type</th>\n",
       "      <th>CreditLine_Included</th>\n",
       "    </tr>\n",
       "  </thead>\n",
       "  <tbody>\n",
       "    <tr>\n",
       "      <th>196377</th>\n",
       "      <td>60</td>\n",
       "      <td>2008-01-30 20:42:00.00</td>\n",
       "      <td>Debit</td>\n",
       "      <td>Business</td>\n",
       "      <td>175864.000000</td>\n",
       "      <td>Dolores sint vero vero maiores nisi. Et quas i...</td>\n",
       "      <td>EUR</td>\n",
       "      <td>4.282109e+05</td>\n",
       "      <td>Ut necessitatibus in iure cum et sint. Minima ...</td>\n",
       "      <td>IND</td>\n",
       "      <td>NaN</td>\n",
       "      <td>0</td>\n",
       "    </tr>\n",
       "    <tr>\n",
       "      <th>365421</th>\n",
       "      <td>1987</td>\n",
       "      <td>2015-02-26 09:07:21.00</td>\n",
       "      <td>Debit</td>\n",
       "      <td>Business</td>\n",
       "      <td>2.917745</td>\n",
       "      <td>Est quidem repellendus dolor qui. Eos temporib...</td>\n",
       "      <td>IND</td>\n",
       "      <td>8.820766e+07</td>\n",
       "      <td>Ut necessitatibus in iure cum et sint. Minima ...</td>\n",
       "      <td>EUR</td>\n",
       "      <td>NaN</td>\n",
       "      <td>0</td>\n",
       "    </tr>\n",
       "    <tr>\n",
       "      <th>891122</th>\n",
       "      <td>1296</td>\n",
       "      <td>1982-05-11 02:13:45.00</td>\n",
       "      <td>Debit</td>\n",
       "      <td>Particular</td>\n",
       "      <td>577.112384</td>\n",
       "      <td>Dolores sint vero vero maiores nisi. Et quas i...</td>\n",
       "      <td>IND</td>\n",
       "      <td>2.816002e+04</td>\n",
       "      <td>Est quidem repellendus dolor qui. Eos temporib...</td>\n",
       "      <td>IND</td>\n",
       "      <td>NaN</td>\n",
       "      <td>0</td>\n",
       "    </tr>\n",
       "  </tbody>\n",
       "</table>\n",
       "</div>"
      ],
      "text/plain": [
       "        AccountId                DateTime CreditDebitIndicator        Type  \\\n",
       "196377         60  2008-01-30 20:42:00.00                Debit    Business   \n",
       "365421       1987  2015-02-26 09:07:21.00                Debit    Business   \n",
       "891122       1296  1982-05-11 02:13:45.00                Debit  Particular   \n",
       "\n",
       "        Amount_Amount                        Amount_Currency_Description  \\\n",
       "196377  175864.000000  Dolores sint vero vero maiores nisi. Et quas i...   \n",
       "365421       2.917745  Est quidem repellendus dolor qui. Eos temporib...   \n",
       "891122     577.112384  Dolores sint vero vero maiores nisi. Et quas i...   \n",
       "\n",
       "       Amount_Currency_Code  CreditLine_Amount  \\\n",
       "196377                  EUR       4.282109e+05   \n",
       "365421                  IND       8.820766e+07   \n",
       "891122                  IND       2.816002e+04   \n",
       "\n",
       "                          CreditLine_Currency_Description  \\\n",
       "196377  Ut necessitatibus in iure cum et sint. Minima ...   \n",
       "365421  Ut necessitatibus in iure cum et sint. Minima ...   \n",
       "891122  Est quidem repellendus dolor qui. Eos temporib...   \n",
       "\n",
       "       CreditLine_Currency_Code CreditLine_Type  CreditLine_Included  \n",
       "196377                      IND             NaN                    0  \n",
       "365421                      EUR             NaN                    0  \n",
       "891122                      IND             NaN                    0  "
      ]
     },
     "execution_count": 25,
     "metadata": {},
     "output_type": "execute_result"
    }
   ],
   "source": [
    "#Procesado de datos PositionKeeping para desnormalizar las entidades en una sola columna compatible con el modelo columnar\n",
    "Amount_Amount_column = []\n",
    "Amount_Currency_Description_column = []\n",
    "Amount_Currency_Code_column = []\n",
    "CreditLine_Amount_column = []\n",
    "CreditLine_Currency_Description_column = []\n",
    "CreditLine_Currency_Code_column = []\n",
    "CreditLine_Type_column = []\n",
    "CreditLine_Included_column = []\n",
    "\n",
    "for i in range (0,len(PositionKeeping_df)):    \n",
    "    Amount_Amount_column.append(Amount_df.sample(1)['Amount'].iloc[0])\n",
    "    Amount_Currency_Description_column.append(Currency_df.sample(1)['Description'].iloc[0])\n",
    "    Amount_Currency_Code_column.append(Currency_df.sample(1)['Code'].iloc[0])\n",
    "    CreditLine_Amount_column.append(CreditLine_df.sample(1)['Amount'].iloc[0])\n",
    "    CreditLine_Currency_Description_column.append(Currency_df.sample(1)['Description'].iloc[0])\n",
    "    CreditLine_Currency_Code_column.append(Currency_df.sample(1)['Code'].iloc[0])\n",
    "    CreditLine_Type_column.append(CreditLine_df.sample(1)['Type'].iloc[0])\n",
    "    CreditLine_Included_column.append(CreditLine_df.sample(1)['Included'].iloc[0])\n",
    "\n",
    "PositionKeeping_df['Amount_Amount'] = Amount_Amount_column\n",
    "PositionKeeping_df['Amount_Currency_Description'] = Amount_Currency_Description_column\n",
    "PositionKeeping_df['Amount_Currency_Code'] = Amount_Currency_Code_column\n",
    "PositionKeeping_df['CreditLine_Amount']= CreditLine_Amount_column\n",
    "PositionKeeping_df['CreditLine_Currency_Description']= CreditLine_Currency_Description_column\n",
    "PositionKeeping_df['CreditLine_Currency_Code']= CreditLine_Currency_Code_column\n",
    "PositionKeeping_df['CreditLine_Type']= CreditLine_Type_column\n",
    "PositionKeeping_df['CreditLine_Included']= CreditLine_Included_column\n",
    "\n",
    "PositionKeeping_df.sample(3)"
   ]
  },
  {
   "cell_type": "code",
   "execution_count": 26,
   "metadata": {},
   "outputs": [],
   "source": [
    "#Volcado de los ficheros relacionados con Current Account (la carga de direcciones se realizará en CQL)\n",
    "#Samples (COMENTAR EN MODO FINAL)\n",
    "PositionKeeping_df.to_csv(PositionKeepingKeyspace_sample_out, index= False)\n",
    "#PositionKeeping_df.to_csv(PositionKeepingKeyspace_file_out, index= False)"
   ]
  }
 ],
 "metadata": {
  "kernelspec": {
   "display_name": "Python 3",
   "language": "python",
   "name": "python3"
  },
  "language_info": {
   "codemirror_mode": {
    "name": "ipython",
    "version": 3
   },
   "file_extension": ".py",
   "mimetype": "text/x-python",
   "name": "python",
   "nbconvert_exporter": "python",
   "pygments_lexer": "ipython3",
   "version": "3.7.6"
  }
 },
 "nbformat": 4,
 "nbformat_minor": 4
}
