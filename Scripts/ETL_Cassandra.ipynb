{
 "cells": [
  {
   "cell_type": "raw",
   "metadata": {},
   "source": [
    "TFM Daniel Herranz Segundo\n",
    "Script de adaptacion de los dataset de entidades para carga en modelo columnar"
   ]
  },
  {
   "cell_type": "code",
   "execution_count": 1,
   "metadata": {},
   "outputs": [],
   "source": [
    "import pandas as pd\n",
    "import numpy as np\n",
    "import os\n",
    "import json\n",
    "import random"
   ]
  },
  {
   "cell_type": "code",
   "execution_count": 2,
   "metadata": {},
   "outputs": [],
   "source": [
    "#Variables de los ficheros de datos salida\n",
    "CurrentAccountKeyspace_file_out = '../MockData/Cassandra/CurrentAccountKeyspace/CurrentAccountKeyspace.csv'\n",
    "CurrentAccountKeyspaceAccountInfo_file_out = '../MockData/Cassandra/CurrentAccountKeyspace/CurrentAccountAccountInfoKeyspace.csv'\n",
    "PositionKeepingKeyspace_file_out = '../MockData/Cassandra/PositionKeepingKeyspace/PositionKeepingKeyspace.csv'\n",
    "CustomerProfileKeyspace_file_out = '../MockData/Cassandra/CustomerProfileKeyspace/CustomerProfileKeyspace.csv'\n",
    "CustomerProfileAddressKeyspace_file_out = '../MockData/Cassandra/CustomerProfileKeyspace/CustomerProfileAddressKeyspace.csv'\n",
    "\n",
    "CurrentAccountKeyspace_sample_out = '../MockData/Cassandra/CurrentAccountKeyspace/CurrentAccountKeyspace_sample.csv'\n",
    "CurrentAccountKeyspaceAccountInfo_sample_out = '../MockData/Cassandra/CurrentAccountKeyspace/CurrentAccountAccountInfoKeyspace_sample.csv'\n",
    "PositionKeepingKeyspace_sample_out = '../MockData/Cassandra/PositionKeepingKeyspace/PositionKeepingKeyspace_sample.csv'\n",
    "CustomerProfileKeyspaceCustomer_sample_out = '../MockData/Cassandra/CustomerProfileKeyspace/CustomerProfileKeyspace_sample.csv'\n",
    "CustomerProfileKeyspaceAddress_sample_out = '../MockData/Cassandra/CustomerProfileKeyspace/CustomerProfileAddressKeyspace_sample.csv'"
   ]
  },
  {
   "cell_type": "code",
   "execution_count": 4,
   "metadata": {},
   "outputs": [],
   "source": [
    "#Función para resetear ficheros de salida\n",
    "def reset_files(file):\n",
    "    if os.path.exists(file):\n",
    "        os.remove(file)\n",
    "        print(\"The file\", file ,\"have been removed\")\n",
    "    else:\n",
    "        print(\"The file\", file ,\"does not exist\")"
   ]
  },
  {
   "cell_type": "code",
   "execution_count": 5,
   "metadata": {},
   "outputs": [
    {
     "name": "stdout",
     "output_type": "stream",
     "text": [
      "The file ../MockData/Cassandra/CurrentAccountKeyspace/CurrentAccountKeyspace.csv does not exist\n",
      "The file ../MockData/Cassandra/CurrentAccountKeyspace/CurrentAccountAccountInfoKeyspace.csv does not exist\n",
      "The file ../MockData/Cassandra/PositionKeepingKeyspace/PositionKeepingKeyspace.csv does not exist\n",
      "The file ../MockData/Cassandra/CustomerProfileKeyspace/CustomerProfileKeyspace.csv does not exist\n",
      "The file ../MockData/Cassandra/CustomerProfileKeyspace/CustomerProfileAddressKeyspace.csv does not exist\n",
      "The file ../MockData/Cassandra/CurrentAccountKeyspace/CurrentAccountKeyspace_sample.csv have been removed\n",
      "The file ../MockData/Cassandra/CurrentAccountKeyspace/CurrentAccountAccountInfoKeyspace_sample.csv have been removed\n",
      "The file ../MockData/Cassandra/PositionKeepingKeyspace/PositionKeepingKeyspace_sample.csv have been removed\n",
      "The file ../MockData/Cassandra/CustomerProfileKeyspace/CustomerProfileKeyspace_sample.csv have been removed\n",
      "The file ../MockData/Cassandra/CustomerProfileKeyspace/CustomerProfileAddressKeyspace_sample.csv have been removed\n"
     ]
    }
   ],
   "source": [
    "#Limpiamos los ficheros de salida\n",
    "reset_files(CurrentAccountKeyspace_file_out)\n",
    "reset_files(CurrentAccountKeyspaceAccountInfo_file_out)\n",
    "reset_files(PositionKeepingKeyspace_file_out)\n",
    "reset_files(CustomerProfileKeyspace_file_out)\n",
    "reset_files(CustomerProfileAddressKeyspace_file_out)\n",
    "\n",
    "reset_files(CurrentAccountKeyspace_sample_out)\n",
    "reset_files(CurrentAccountKeyspaceAccountInfo_sample_out)\n",
    "reset_files(PositionKeepingKeyspace_sample_out)\n",
    "reset_files(CustomerProfileKeyspaceCustomer_sample_out)\n",
    "reset_files(CustomerProfileKeyspaceAddress_sample_out)"
   ]
  },
  {
   "cell_type": "markdown",
   "metadata": {},
   "source": [
    "# Generacion ficheros keyspace CustomerProfile"
   ]
  },
  {
   "cell_type": "code",
   "execution_count": 6,
   "metadata": {},
   "outputs": [],
   "source": [
    "#Carga de la información de dataframes por entidades\n",
    "\n",
    "Address_df = pd.read_csv('../MockData/Address_1M.csv')\n",
    "CustomerProfile_df = pd.read_csv('../MockData/CustomerProfile_1M.csv')\n",
    "Country_df = pd.read_csv('../MockData/base/Country.csv')"
   ]
  },
  {
   "cell_type": "code",
   "execution_count": 7,
   "metadata": {},
   "outputs": [],
   "source": [
    "# --- NO EJECUTAR ESTA LINEA SI SE GENERA EN MODO REAL ---- #\n",
    "CustomerProfile_df = CustomerProfile_df.sample(1000) #Comentar si modo real\n",
    "Address_df = Address_df.sample(1000)"
   ]
  },
  {
   "cell_type": "code",
   "execution_count": 8,
   "metadata": {},
   "outputs": [
    {
     "data": {
      "text/html": [
       "<div>\n",
       "<style scoped>\n",
       "    .dataframe tbody tr th:only-of-type {\n",
       "        vertical-align: middle;\n",
       "    }\n",
       "\n",
       "    .dataframe tbody tr th {\n",
       "        vertical-align: top;\n",
       "    }\n",
       "\n",
       "    .dataframe thead th {\n",
       "        text-align: right;\n",
       "    }\n",
       "</style>\n",
       "<table border=\"1\" class=\"dataframe\">\n",
       "  <thead>\n",
       "    <tr style=\"text-align: right;\">\n",
       "      <th></th>\n",
       "      <th>PartyId</th>\n",
       "      <th>PartyNumber</th>\n",
       "      <th>PartyType</th>\n",
       "      <th>Name</th>\n",
       "      <th>FullLegalName</th>\n",
       "      <th>LegalStructure</th>\n",
       "      <th>BeneficialOwnership</th>\n",
       "      <th>AccountRole</th>\n",
       "      <th>EmailAddress</th>\n",
       "      <th>Phone</th>\n",
       "    </tr>\n",
       "  </thead>\n",
       "  <tbody>\n",
       "    <tr>\n",
       "      <th>1275728</th>\n",
       "      <td>2327</td>\n",
       "      <td>2327</td>\n",
       "      <td>sol</td>\n",
       "      <td>Jovany</td>\n",
       "      <td>Demario Rau PhD</td>\n",
       "      <td>Ms.</td>\n",
       "      <td>3</td>\n",
       "      <td>UK.OBIE.Secundary</td>\n",
       "      <td>kjones@example.com</td>\n",
       "      <td>(517)315-684</td>\n",
       "    </tr>\n",
       "  </tbody>\n",
       "</table>\n",
       "</div>"
      ],
      "text/plain": [
       "         PartyId  PartyNumber PartyType    Name    FullLegalName  \\\n",
       "1275728     2327         2327       sol  Jovany  Demario Rau PhD   \n",
       "\n",
       "        LegalStructure  BeneficialOwnership        AccountRole  \\\n",
       "1275728            Ms.                    3  UK.OBIE.Secundary   \n",
       "\n",
       "               EmailAddress         Phone  \n",
       "1275728  kjones@example.com  (517)315-684  "
      ]
     },
     "execution_count": 8,
     "metadata": {},
     "output_type": "execute_result"
    }
   ],
   "source": [
    "CustomerProfile_df.sample(1)"
   ]
  },
  {
   "cell_type": "code",
   "execution_count": 9,
   "metadata": {},
   "outputs": [
    {
     "data": {
      "text/html": [
       "<div>\n",
       "<style scoped>\n",
       "    .dataframe tbody tr th:only-of-type {\n",
       "        vertical-align: middle;\n",
       "    }\n",
       "\n",
       "    .dataframe tbody tr th {\n",
       "        vertical-align: top;\n",
       "    }\n",
       "\n",
       "    .dataframe thead th {\n",
       "        text-align: right;\n",
       "    }\n",
       "</style>\n",
       "<table border=\"1\" class=\"dataframe\">\n",
       "  <thead>\n",
       "    <tr style=\"text-align: right;\">\n",
       "      <th></th>\n",
       "      <th>PartyId</th>\n",
       "      <th>AddressType</th>\n",
       "      <th>AddressLine</th>\n",
       "      <th>StreetName</th>\n",
       "      <th>BuildingNumber</th>\n",
       "      <th>PostCode</th>\n",
       "      <th>TownName</th>\n",
       "      <th>CountrySubDivision</th>\n",
       "      <th>CountryId</th>\n",
       "    </tr>\n",
       "  </thead>\n",
       "  <tbody>\n",
       "    <tr>\n",
       "      <th>974571</th>\n",
       "      <td>974571</td>\n",
       "      <td>Port</td>\n",
       "      <td>077 Stiedemann Land Suite 120</td>\n",
       "      <td>Jaquan Vista</td>\n",
       "      <td>6185</td>\n",
       "      <td>03465-0381</td>\n",
       "      <td>New Taureanbury</td>\n",
       "      <td>28.0</td>\n",
       "      <td>3</td>\n",
       "    </tr>\n",
       "  </tbody>\n",
       "</table>\n",
       "</div>"
      ],
      "text/plain": [
       "        PartyId AddressType                    AddressLine    StreetName  \\\n",
       "974571   974571        Port  077 Stiedemann Land Suite 120  Jaquan Vista   \n",
       "\n",
       "        BuildingNumber    PostCode         TownName  CountrySubDivision  \\\n",
       "974571            6185  03465-0381  New Taureanbury                28.0   \n",
       "\n",
       "        CountryId  \n",
       "974571          3  "
      ]
     },
     "execution_count": 9,
     "metadata": {},
     "output_type": "execute_result"
    }
   ],
   "source": [
    "Address_df.sample(1)"
   ]
  },
  {
   "cell_type": "code",
   "execution_count": 10,
   "metadata": {},
   "outputs": [
    {
     "data": {
      "text/html": [
       "<div>\n",
       "<style scoped>\n",
       "    .dataframe tbody tr th:only-of-type {\n",
       "        vertical-align: middle;\n",
       "    }\n",
       "\n",
       "    .dataframe tbody tr th {\n",
       "        vertical-align: top;\n",
       "    }\n",
       "\n",
       "    .dataframe thead th {\n",
       "        text-align: right;\n",
       "    }\n",
       "</style>\n",
       "<table border=\"1\" class=\"dataframe\">\n",
       "  <thead>\n",
       "    <tr style=\"text-align: right;\">\n",
       "      <th></th>\n",
       "      <th>CountryId</th>\n",
       "      <th>ShortName</th>\n",
       "      <th>Description</th>\n",
       "      <th>Code</th>\n",
       "      <th>Unnamed: 4</th>\n",
       "    </tr>\n",
       "  </thead>\n",
       "  <tbody>\n",
       "    <tr>\n",
       "      <th>2</th>\n",
       "      <td>3</td>\n",
       "      <td>Greatbrit</td>\n",
       "      <td>Aut sapiente dicta illo consectetur nulla labo...</td>\n",
       "      <td>SPA</td>\n",
       "      <td>NaN</td>\n",
       "    </tr>\n",
       "  </tbody>\n",
       "</table>\n",
       "</div>"
      ],
      "text/plain": [
       "   CountryId  ShortName                                        Description  \\\n",
       "2          3  Greatbrit  Aut sapiente dicta illo consectetur nulla labo...   \n",
       "\n",
       "  Code  Unnamed: 4  \n",
       "2  SPA         NaN  "
      ]
     },
     "execution_count": 10,
     "metadata": {},
     "output_type": "execute_result"
    }
   ],
   "source": [
    "Country_df.sample(1)"
   ]
  },
  {
   "cell_type": "code",
   "execution_count": 11,
   "metadata": {},
   "outputs": [
    {
     "data": {
      "text/html": [
       "<div>\n",
       "<style scoped>\n",
       "    .dataframe tbody tr th:only-of-type {\n",
       "        vertical-align: middle;\n",
       "    }\n",
       "\n",
       "    .dataframe tbody tr th {\n",
       "        vertical-align: top;\n",
       "    }\n",
       "\n",
       "    .dataframe thead th {\n",
       "        text-align: right;\n",
       "    }\n",
       "</style>\n",
       "<table border=\"1\" class=\"dataframe\">\n",
       "  <thead>\n",
       "    <tr style=\"text-align: right;\">\n",
       "      <th></th>\n",
       "      <th>PartyId</th>\n",
       "      <th>AddressType</th>\n",
       "      <th>AddressLine</th>\n",
       "      <th>StreetName</th>\n",
       "      <th>BuildingNumber</th>\n",
       "      <th>PostCode</th>\n",
       "      <th>TownName</th>\n",
       "      <th>CountrySubDivision</th>\n",
       "      <th>CountryId</th>\n",
       "      <th>Country_Code</th>\n",
       "      <th>Country_ShortName</th>\n",
       "      <th>Country_Description</th>\n",
       "    </tr>\n",
       "  </thead>\n",
       "  <tbody>\n",
       "    <tr>\n",
       "      <th>731170</th>\n",
       "      <td>731170</td>\n",
       "      <td>Lake</td>\n",
       "      <td>507 Howe Knoll</td>\n",
       "      <td>Gregorio Unions</td>\n",
       "      <td>1928</td>\n",
       "      <td>36318-0327</td>\n",
       "      <td>Omerfurt</td>\n",
       "      <td>10.0</td>\n",
       "      <td>1</td>\n",
       "      <td>IND</td>\n",
       "      <td>Spain</td>\n",
       "      <td>Omnis dolore id dicta consequatur sit omnis. E...</td>\n",
       "    </tr>\n",
       "    <tr>\n",
       "      <th>98205</th>\n",
       "      <td>98205</td>\n",
       "      <td>Nort</td>\n",
       "      <td>4060 Pfeffer Isle</td>\n",
       "      <td>Elwyn Plaza</td>\n",
       "      <td>6948</td>\n",
       "      <td>58227-1783</td>\n",
       "      <td>Gracemouth</td>\n",
       "      <td>619494.0</td>\n",
       "      <td>3</td>\n",
       "      <td>GBP</td>\n",
       "      <td>USA</td>\n",
       "      <td>Id dolorem a soluta harum iusto qui repellat. ...</td>\n",
       "    </tr>\n",
       "  </tbody>\n",
       "</table>\n",
       "</div>"
      ],
      "text/plain": [
       "        PartyId AddressType        AddressLine       StreetName  \\\n",
       "731170   731170        Lake     507 Howe Knoll  Gregorio Unions   \n",
       "98205     98205        Nort  4060 Pfeffer Isle      Elwyn Plaza   \n",
       "\n",
       "        BuildingNumber    PostCode    TownName  CountrySubDivision  CountryId  \\\n",
       "731170            1928  36318-0327    Omerfurt                10.0          1   \n",
       "98205             6948  58227-1783  Gracemouth            619494.0          3   \n",
       "\n",
       "       Country_Code Country_ShortName  \\\n",
       "731170          IND             Spain   \n",
       "98205           GBP               USA   \n",
       "\n",
       "                                      Country_Description  \n",
       "731170  Omnis dolore id dicta consequatur sit omnis. E...  \n",
       "98205   Id dolorem a soluta harum iusto qui repellat. ...  "
      ]
     },
     "execution_count": 11,
     "metadata": {},
     "output_type": "execute_result"
    }
   ],
   "source": [
    "#Desnormalizamos la información para la carga en Cassandra\n",
    "Country_Code_column = []\n",
    "Country_ShortName_column = []\n",
    "Country_Description_column = []\n",
    "\n",
    "for i in range (0,len(Address_df)): \n",
    "    country_deployed_df = Country_df.sample(1)\n",
    "    Country_Code_column.append(country_deployed_df['Code'].iloc[0])\n",
    "    Country_ShortName_column.append(country_deployed_df['ShortName'].iloc[0])\n",
    "    Country_Description_column.append(country_deployed_df['Description'].iloc[0])\n",
    "\n",
    "Address_df['Country_Code'] = Country_Code_column\n",
    "Address_df['Country_ShortName'] = Country_ShortName_column\n",
    "Address_df['Country_Description'] = Country_Description_column\n",
    "\n",
    "Address_df.sample(2)"
   ]
  },
  {
   "cell_type": "code",
   "execution_count": 12,
   "metadata": {},
   "outputs": [],
   "source": [
    "#Volcado de los ficheros relacionados con Customer Profile (la carga de direcciones se realizará en CQL)\n",
    "#Samples (COMENTAR EN MODO FINAL)\n",
    "CustomerProfile_df.to_csv(CustomerProfileKeyspaceCustomer_sample_out, index= False)\n",
    "Address_df.to_csv(CustomerProfileKeyspaceAddress_sample_out, index= False)\n",
    "\n",
    "#Modo final\n",
    "#CustomerProfile_df.to_csv(CustomerProfileKeyspace_file_out, index= False)\n",
    "#Address_df.to_csv(CustomerProfileAddressKeyspace_file_out, index= False)"
   ]
  },
  {
   "cell_type": "markdown",
   "metadata": {},
   "source": [
    "# Generacion de ficheros KeySpace CurrentAccount"
   ]
  },
  {
   "cell_type": "code",
   "execution_count": 13,
   "metadata": {},
   "outputs": [],
   "source": [
    "#Carga de la información de dataframes por entidades\n",
    "\n",
    "AccountInfo_df = pd.read_csv('../MockData/AccountInfo_1M.csv')\n",
    "CurrentAccount_df = pd.read_csv('../MockData/CurrentAccount_1M.csv')"
   ]
  },
  {
   "cell_type": "code",
   "execution_count": 14,
   "metadata": {},
   "outputs": [],
   "source": [
    "# --- NO EJECUTAR ESTA LINEA SI SE GENERA EN MODO REAL ---- #\n",
    "CurrentAccount_df = CurrentAccount_df.sample(1000)\n",
    "AccountInfo_df = AccountInfo_df.sample(250)"
   ]
  },
  {
   "cell_type": "code",
   "execution_count": 15,
   "metadata": {},
   "outputs": [
    {
     "data": {
      "text/html": [
       "<div>\n",
       "<style scoped>\n",
       "    .dataframe tbody tr th:only-of-type {\n",
       "        vertical-align: middle;\n",
       "    }\n",
       "\n",
       "    .dataframe tbody tr th {\n",
       "        vertical-align: top;\n",
       "    }\n",
       "\n",
       "    .dataframe thead th {\n",
       "        text-align: right;\n",
       "    }\n",
       "</style>\n",
       "<table border=\"1\" class=\"dataframe\">\n",
       "  <thead>\n",
       "    <tr style=\"text-align: right;\">\n",
       "      <th></th>\n",
       "      <th>AccountId</th>\n",
       "      <th>PartyId</th>\n",
       "      <th>Status</th>\n",
       "      <th>StatusUpdateDateTime</th>\n",
       "      <th>AccountType</th>\n",
       "      <th>NickName</th>\n",
       "      <th>OpeningDate</th>\n",
       "      <th>AccountSubType</th>\n",
       "    </tr>\n",
       "  </thead>\n",
       "  <tbody>\n",
       "    <tr>\n",
       "      <th>1132588</th>\n",
       "      <td>7119</td>\n",
       "      <td>2888</td>\n",
       "      <td>Enabled</td>\n",
       "      <td>2010-05-20 00:31:13.00</td>\n",
       "      <td>Business</td>\n",
       "      <td>deliver B2B e-services</td>\n",
       "      <td>1996-03-31 13:39:03.00</td>\n",
       "      <td>POI</td>\n",
       "    </tr>\n",
       "  </tbody>\n",
       "</table>\n",
       "</div>"
      ],
      "text/plain": [
       "         AccountId  PartyId   Status    StatusUpdateDateTime AccountType  \\\n",
       "1132588       7119     2888  Enabled  2010-05-20 00:31:13.00    Business   \n",
       "\n",
       "                       NickName             OpeningDate AccountSubType  \n",
       "1132588  deliver B2B e-services  1996-03-31 13:39:03.00            POI  "
      ]
     },
     "execution_count": 15,
     "metadata": {},
     "output_type": "execute_result"
    }
   ],
   "source": [
    "CurrentAccount_df.sample(1)"
   ]
  },
  {
   "cell_type": "code",
   "execution_count": 16,
   "metadata": {},
   "outputs": [
    {
     "data": {
      "text/html": [
       "<div>\n",
       "<style scoped>\n",
       "    .dataframe tbody tr th:only-of-type {\n",
       "        vertical-align: middle;\n",
       "    }\n",
       "\n",
       "    .dataframe tbody tr th {\n",
       "        vertical-align: top;\n",
       "    }\n",
       "\n",
       "    .dataframe thead th {\n",
       "        text-align: right;\n",
       "    }\n",
       "</style>\n",
       "<table border=\"1\" class=\"dataframe\">\n",
       "  <thead>\n",
       "    <tr style=\"text-align: right;\">\n",
       "      <th></th>\n",
       "      <th>AccountInfoId</th>\n",
       "      <th>AccountId</th>\n",
       "      <th>SchemeName</th>\n",
       "      <th>Identification</th>\n",
       "      <th>Name</th>\n",
       "    </tr>\n",
       "  </thead>\n",
       "  <tbody>\n",
       "    <tr>\n",
       "      <th>369320</th>\n",
       "      <td>8748</td>\n",
       "      <td>8749</td>\n",
       "      <td>NaN</td>\n",
       "      <td>9.0</td>\n",
       "      <td>Hansen, Ondricka and Rowe</td>\n",
       "    </tr>\n",
       "  </tbody>\n",
       "</table>\n",
       "</div>"
      ],
      "text/plain": [
       "        AccountInfoId  AccountId SchemeName  Identification  \\\n",
       "369320           8748       8749        NaN             9.0   \n",
       "\n",
       "                             Name  \n",
       "369320  Hansen, Ondricka and Rowe  "
      ]
     },
     "execution_count": 16,
     "metadata": {},
     "output_type": "execute_result"
    }
   ],
   "source": [
    "AccountInfo_df.sample(1)"
   ]
  },
  {
   "cell_type": "code",
   "execution_count": 17,
   "metadata": {},
   "outputs": [],
   "source": [
    "#Limpieza de columnas no necesarias en el modelo columnar\n",
    "del(AccountInfo_df['AccountInfoId'])"
   ]
  },
  {
   "cell_type": "code",
   "execution_count": 18,
   "metadata": {},
   "outputs": [
    {
     "data": {
      "text/html": [
       "<div>\n",
       "<style scoped>\n",
       "    .dataframe tbody tr th:only-of-type {\n",
       "        vertical-align: middle;\n",
       "    }\n",
       "\n",
       "    .dataframe tbody tr th {\n",
       "        vertical-align: top;\n",
       "    }\n",
       "\n",
       "    .dataframe thead th {\n",
       "        text-align: right;\n",
       "    }\n",
       "</style>\n",
       "<table border=\"1\" class=\"dataframe\">\n",
       "  <thead>\n",
       "    <tr style=\"text-align: right;\">\n",
       "      <th></th>\n",
       "      <th>AccountId</th>\n",
       "      <th>PartyId</th>\n",
       "      <th>Status</th>\n",
       "      <th>StatusUpdateDateTime</th>\n",
       "      <th>AccountType</th>\n",
       "      <th>NickName</th>\n",
       "      <th>OpeningDate</th>\n",
       "      <th>AccountSubType</th>\n",
       "    </tr>\n",
       "  </thead>\n",
       "  <tbody>\n",
       "    <tr>\n",
       "      <th>691222</th>\n",
       "      <td>4924</td>\n",
       "      <td>9170</td>\n",
       "      <td>Enabled</td>\n",
       "      <td>1988-12-31 14:31:41.00</td>\n",
       "      <td>Business</td>\n",
       "      <td>orchestrate leading-edge technologies</td>\n",
       "      <td>2005-07-28 14:04:53.00</td>\n",
       "      <td>SAI</td>\n",
       "    </tr>\n",
       "  </tbody>\n",
       "</table>\n",
       "</div>"
      ],
      "text/plain": [
       "        AccountId  PartyId   Status    StatusUpdateDateTime AccountType  \\\n",
       "691222       4924     9170  Enabled  1988-12-31 14:31:41.00    Business   \n",
       "\n",
       "                                     NickName             OpeningDate  \\\n",
       "691222  orchestrate leading-edge technologies  2005-07-28 14:04:53.00   \n",
       "\n",
       "       AccountSubType  \n",
       "691222            SAI  "
      ]
     },
     "execution_count": 18,
     "metadata": {},
     "output_type": "execute_result"
    }
   ],
   "source": [
    "CurrentAccount_df.sample(1)"
   ]
  },
  {
   "cell_type": "code",
   "execution_count": 19,
   "metadata": {},
   "outputs": [
    {
     "data": {
      "text/html": [
       "<div>\n",
       "<style scoped>\n",
       "    .dataframe tbody tr th:only-of-type {\n",
       "        vertical-align: middle;\n",
       "    }\n",
       "\n",
       "    .dataframe tbody tr th {\n",
       "        vertical-align: top;\n",
       "    }\n",
       "\n",
       "    .dataframe thead th {\n",
       "        text-align: right;\n",
       "    }\n",
       "</style>\n",
       "<table border=\"1\" class=\"dataframe\">\n",
       "  <thead>\n",
       "    <tr style=\"text-align: right;\">\n",
       "      <th></th>\n",
       "      <th>AccountId</th>\n",
       "      <th>SchemeName</th>\n",
       "      <th>Identification</th>\n",
       "      <th>Name</th>\n",
       "    </tr>\n",
       "  </thead>\n",
       "  <tbody>\n",
       "    <tr>\n",
       "      <th>965376</th>\n",
       "      <td>7937</td>\n",
       "      <td>NaN</td>\n",
       "      <td>8.0</td>\n",
       "      <td>Moore LLC</td>\n",
       "    </tr>\n",
       "  </tbody>\n",
       "</table>\n",
       "</div>"
      ],
      "text/plain": [
       "        AccountId SchemeName  Identification       Name\n",
       "965376       7937        NaN             8.0  Moore LLC"
      ]
     },
     "execution_count": 19,
     "metadata": {},
     "output_type": "execute_result"
    }
   ],
   "source": [
    "AccountInfo_df.sample(1)"
   ]
  },
  {
   "cell_type": "code",
   "execution_count": 20,
   "metadata": {},
   "outputs": [],
   "source": [
    "#Volcado de los ficheros relacionados con Current Account (la carga de direcciones se realizará en CQL)\n",
    "#Samples (COMENTAR EN MODO FINAL)\n",
    "CurrentAccount_df.to_csv(CurrentAccountKeyspace_sample_out, index= False)\n",
    "AccountInfo_df.to_csv(CurrentAccountKeyspaceAccountInfo_sample_out, index= False)\n",
    "\n",
    "#Modo final\n",
    "#CurrentAccount_df.to_csv(CurrentAccountKeyspace_file_out, index= False)\n",
    "#AccountInfo_df.to_csv(CurrentAccountKeyspaceAccountInfo_file_out, index= False)"
   ]
  },
  {
   "cell_type": "markdown",
   "metadata": {},
   "source": [
    "# Generacion de ficheros KeySpace PositionKeeping\n"
   ]
  },
  {
   "cell_type": "code",
   "execution_count": 21,
   "metadata": {},
   "outputs": [],
   "source": [
    "#Carga de datasets necesarias para la colección\n",
    "Amount_df = pd.read_csv('../MockData/Amount_1M.csv')\n",
    "CreditLine_df = pd.read_csv('../MockData/CreditLine_1M.csv')\n",
    "Currency_df = pd.read_csv('../MockData/base/Currency.csv')\n",
    "PositionKeeping_df = pd.read_csv('../MockData/Position_Keeping_1M.csv')"
   ]
  },
  {
   "cell_type": "code",
   "execution_count": 22,
   "metadata": {},
   "outputs": [
    {
     "name": "stdout",
     "output_type": "stream",
     "text": [
      "Index(['AmountId', 'CurrencyId', 'Amount'], dtype='object')\n",
      "Index(['CreditLineId', 'CurrencyId', 'Amount', 'Type', 'Included'], dtype='object')\n",
      "Index(['CurrencyId', 'Code', 'Description', 'Unnamed: 3'], dtype='object')\n",
      "Index(['AccountId', 'DateTime', 'CreditDebitIndicator', 'Type', 'AmountId',\n",
      "       'CreditLineId'],\n",
      "      dtype='object')\n"
     ]
    }
   ],
   "source": [
    "print(Amount_df.columns)\n",
    "print(CreditLine_df.columns)\n",
    "print(Currency_df.columns)\n",
    "print(PositionKeeping_df.columns)"
   ]
  },
  {
   "cell_type": "code",
   "execution_count": 23,
   "metadata": {},
   "outputs": [],
   "source": [
    "#Limpieza de columnas residuales y no necesarias en el documento\n",
    "del(Amount_df['CurrencyId'])\n",
    "del(Amount_df['AmountId'])\n",
    "\n",
    "del(CreditLine_df['CreditLineId'])\n",
    "del(CreditLine_df['CurrencyId'])\n",
    "\n",
    "del(Currency_df['CurrencyId'])\n",
    "\n",
    "del(PositionKeeping_df['CreditLineId'])\n",
    "del(PositionKeeping_df['AmountId'])"
   ]
  },
  {
   "cell_type": "code",
   "execution_count": 24,
   "metadata": {},
   "outputs": [
    {
     "name": "stdout",
     "output_type": "stream",
     "text": [
      "Index(['Amount'], dtype='object')\n",
      "Index(['Amount', 'Type', 'Included'], dtype='object')\n",
      "Index(['Code', 'Description', 'Unnamed: 3'], dtype='object')\n",
      "Index(['AccountId', 'DateTime', 'CreditDebitIndicator', 'Type'], dtype='object')\n"
     ]
    }
   ],
   "source": [
    "#Estado final de atributos para modelo columnar\n",
    "print(Amount_df.columns)\n",
    "print(CreditLine_df.columns)\n",
    "print(Currency_df.columns)\n",
    "print(PositionKeeping_df.columns)"
   ]
  },
  {
   "cell_type": "code",
   "execution_count": 25,
   "metadata": {},
   "outputs": [],
   "source": [
    "#Creamos samples. Testing (comentar en generación real)\n",
    "Amount_df = Amount_df.sample(500)\n",
    "CreditLine_df = CreditLine_df.sample(500)\n",
    "PositionKeeping_df = PositionKeeping_df.sample(1000)"
   ]
  },
  {
   "cell_type": "code",
   "execution_count": 26,
   "metadata": {},
   "outputs": [
    {
     "data": {
      "text/html": [
       "<div>\n",
       "<style scoped>\n",
       "    .dataframe tbody tr th:only-of-type {\n",
       "        vertical-align: middle;\n",
       "    }\n",
       "\n",
       "    .dataframe tbody tr th {\n",
       "        vertical-align: top;\n",
       "    }\n",
       "\n",
       "    .dataframe thead th {\n",
       "        text-align: right;\n",
       "    }\n",
       "</style>\n",
       "<table border=\"1\" class=\"dataframe\">\n",
       "  <thead>\n",
       "    <tr style=\"text-align: right;\">\n",
       "      <th></th>\n",
       "      <th>AccountId</th>\n",
       "      <th>DateTime</th>\n",
       "      <th>CreditDebitIndicator</th>\n",
       "      <th>Type</th>\n",
       "      <th>Amount_Amount</th>\n",
       "      <th>Amount_Currency_Description</th>\n",
       "      <th>Amount_Currency_Code</th>\n",
       "      <th>CreditLine_Amount</th>\n",
       "      <th>CreditLine_Currency_Description</th>\n",
       "      <th>CreditLine_Currency_Code</th>\n",
       "      <th>CreditLine_Type</th>\n",
       "      <th>CreditLine_Included</th>\n",
       "    </tr>\n",
       "  </thead>\n",
       "  <tbody>\n",
       "    <tr>\n",
       "      <th>258243</th>\n",
       "      <td>4160</td>\n",
       "      <td>1979-03-16 16:11:55.00</td>\n",
       "      <td>Credit</td>\n",
       "      <td>Particular</td>\n",
       "      <td>918.21</td>\n",
       "      <td>Est quidem repellendus dolor qui. Eos temporib...</td>\n",
       "      <td>IND</td>\n",
       "      <td>1.737503e+08</td>\n",
       "      <td>Est quidem repellendus dolor qui. Eos temporib...</td>\n",
       "      <td>GBP</td>\n",
       "      <td>NaN</td>\n",
       "      <td>0</td>\n",
       "    </tr>\n",
       "    <tr>\n",
       "      <th>422709</th>\n",
       "      <td>6498</td>\n",
       "      <td>1979-12-31 06:35:54.00</td>\n",
       "      <td>Debit</td>\n",
       "      <td>Particular</td>\n",
       "      <td>0.00</td>\n",
       "      <td>Ut necessitatibus in iure cum et sint. Minima ...</td>\n",
       "      <td>USA</td>\n",
       "      <td>2.885542e+07</td>\n",
       "      <td>Ut necessitatibus in iure cum et sint. Minima ...</td>\n",
       "      <td>USA</td>\n",
       "      <td>NaN</td>\n",
       "      <td>0</td>\n",
       "    </tr>\n",
       "    <tr>\n",
       "      <th>829751</th>\n",
       "      <td>1104</td>\n",
       "      <td>1988-11-18 02:41:48.00</td>\n",
       "      <td>Credit</td>\n",
       "      <td>Particular</td>\n",
       "      <td>0.00</td>\n",
       "      <td>Dolores sint vero vero maiores nisi. Et quas i...</td>\n",
       "      <td>IND</td>\n",
       "      <td>0.000000e+00</td>\n",
       "      <td>Est quidem repellendus dolor qui. Eos temporib...</td>\n",
       "      <td>IND</td>\n",
       "      <td>NaN</td>\n",
       "      <td>0</td>\n",
       "    </tr>\n",
       "  </tbody>\n",
       "</table>\n",
       "</div>"
      ],
      "text/plain": [
       "        AccountId                DateTime CreditDebitIndicator        Type  \\\n",
       "258243       4160  1979-03-16 16:11:55.00               Credit  Particular   \n",
       "422709       6498  1979-12-31 06:35:54.00                Debit  Particular   \n",
       "829751       1104  1988-11-18 02:41:48.00               Credit  Particular   \n",
       "\n",
       "        Amount_Amount                        Amount_Currency_Description  \\\n",
       "258243         918.21  Est quidem repellendus dolor qui. Eos temporib...   \n",
       "422709           0.00  Ut necessitatibus in iure cum et sint. Minima ...   \n",
       "829751           0.00  Dolores sint vero vero maiores nisi. Et quas i...   \n",
       "\n",
       "       Amount_Currency_Code  CreditLine_Amount  \\\n",
       "258243                  IND       1.737503e+08   \n",
       "422709                  USA       2.885542e+07   \n",
       "829751                  IND       0.000000e+00   \n",
       "\n",
       "                          CreditLine_Currency_Description  \\\n",
       "258243  Est quidem repellendus dolor qui. Eos temporib...   \n",
       "422709  Ut necessitatibus in iure cum et sint. Minima ...   \n",
       "829751  Est quidem repellendus dolor qui. Eos temporib...   \n",
       "\n",
       "       CreditLine_Currency_Code CreditLine_Type  CreditLine_Included  \n",
       "258243                      GBP             NaN                    0  \n",
       "422709                      USA             NaN                    0  \n",
       "829751                      IND             NaN                    0  "
      ]
     },
     "execution_count": 26,
     "metadata": {},
     "output_type": "execute_result"
    }
   ],
   "source": [
    "#Procesado de datos PositionKeeping para desnormalizar las entidades en una sola columna compatible con el modelo columnar\n",
    "Amount_Amount_column = []\n",
    "Amount_Currency_Description_column = []\n",
    "Amount_Currency_Code_column = []\n",
    "CreditLine_Amount_column = []\n",
    "CreditLine_Currency_Description_column = []\n",
    "CreditLine_Currency_Code_column = []\n",
    "CreditLine_Type_column = []\n",
    "CreditLine_Included_column = []\n",
    "\n",
    "for i in range (0,len(PositionKeeping_df)):    \n",
    "    Amount_Amount_column.append(Amount_df.sample(1)['Amount'].iloc[0])\n",
    "    Amount_Currency_Description_column.append(Currency_df.sample(1)['Description'].iloc[0])\n",
    "    Amount_Currency_Code_column.append(Currency_df.sample(1)['Code'].iloc[0])\n",
    "    CreditLine_Amount_column.append(CreditLine_df.sample(1)['Amount'].iloc[0])\n",
    "    CreditLine_Currency_Description_column.append(Currency_df.sample(1)['Description'].iloc[0])\n",
    "    CreditLine_Currency_Code_column.append(Currency_df.sample(1)['Code'].iloc[0])\n",
    "    CreditLine_Type_column.append(CreditLine_df.sample(1)['Type'].iloc[0])\n",
    "    CreditLine_Included_column.append(CreditLine_df.sample(1)['Included'].iloc[0])\n",
    "\n",
    "PositionKeeping_df['Amount_Amount'] = Amount_Amount_column\n",
    "PositionKeeping_df['Amount_Currency_Description'] = Amount_Currency_Description_column\n",
    "PositionKeeping_df['Amount_Currency_Code'] = Amount_Currency_Code_column\n",
    "PositionKeeping_df['CreditLine_Amount']= CreditLine_Amount_column\n",
    "PositionKeeping_df['CreditLine_Currency_Description']= CreditLine_Currency_Description_column\n",
    "PositionKeeping_df['CreditLine_Currency_Code']= CreditLine_Currency_Code_column\n",
    "PositionKeeping_df['CreditLine_Type']= CreditLine_Type_column\n",
    "PositionKeeping_df['CreditLine_Included']= CreditLine_Included_column\n",
    "\n",
    "PositionKeeping_df.sample(3)"
   ]
  },
  {
   "cell_type": "code",
   "execution_count": 27,
   "metadata": {},
   "outputs": [],
   "source": [
    "#Volcado de los ficheros relacionados con Current Account (la carga de direcciones se realizará en CQL)\n",
    "#Samples (COMENTAR EN MODO FINAL)\n",
    "PositionKeeping_df.to_csv(PositionKeepingKeyspace_sample_out, index= False)\n",
    "#PositionKeeping_df.to_csv(PositionKeepingKeyspace_file_out, index= False)"
   ]
  }
 ],
 "metadata": {
  "kernelspec": {
   "display_name": "Python 3",
   "language": "python",
   "name": "python3"
  },
  "language_info": {
   "codemirror_mode": {
    "name": "ipython",
    "version": 3
   },
   "file_extension": ".py",
   "mimetype": "text/x-python",
   "name": "python",
   "nbconvert_exporter": "python",
   "pygments_lexer": "ipython3",
   "version": "3.7.6"
  }
 },
 "nbformat": 4,
 "nbformat_minor": 4
}
