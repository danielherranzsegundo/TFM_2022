{
 "cells": [
  {
   "cell_type": "markdown",
   "metadata": {},
   "source": [
    "Script de generación de datos documentales TFM Daniel Herranz Segundo"
   ]
  },
  {
   "cell_type": "code",
   "execution_count": 222,
   "metadata": {},
   "outputs": [],
   "source": [
    "import pandas as pd\n",
    "import numpy as np\n",
    "import os\n",
    "import json\n",
    "import random"
   ]
  },
  {
   "cell_type": "code",
   "execution_count": 263,
   "metadata": {},
   "outputs": [],
   "source": [
    "#Variables de los ficheros de datos salida\n",
    "CurrentAccountCollection_file_out = '../MockData/MongoDB/CurrentAccountCollection/CurrentAccountCollection.json'\n",
    "PositionKeepingCollection_file_out = '../MockData/MongoDB/PositionKeepingCollection/PositionKeepingCollection.json'\n",
    "CustomerProfileCollection_file_out = '../MockData/MongoDB/CustomerProfileCollection/CustomerProfileCollection.json'\n",
    "\n",
    "CurrentAccountCollection_sample_out = '../MockData/MongoDB/CurrentAccountCollection/CurrentAccountCollection_sample.json'\n",
    "PositionKeepingCollection_sample_out = '../MockData/MongoDB/PositionKeepingCollection/PositionKeepingCollection_sample.json'\n",
    "CustomerProfileCollection_sample_out = '../MockData/MongoDB/CustomerProfileCollection/CustomerProfileCollection_sample.json'\n"
   ]
  },
  {
   "cell_type": "code",
   "execution_count": 224,
   "metadata": {},
   "outputs": [],
   "source": [
    "#Función para resetear ficheros de salida\n",
    "def reset_files(file):\n",
    "    if os.path.exists(file):\n",
    "        os.remove(file)\n",
    "        print(\"The file\", file ,\"have been removed\")\n",
    "    else:\n",
    "        print(\"The file\", file ,\"does not exist\")"
   ]
  },
  {
   "cell_type": "code",
   "execution_count": 264,
   "metadata": {},
   "outputs": [
    {
     "name": "stdout",
     "output_type": "stream",
     "text": [
      "The file ../MockData/MongoDB/CurrentAccountCollection/CurrentAccountCollection.json does not exist\n",
      "The file ../MockData/MongoDB/PositionKeepingCollection/PositionKeepingCollection.json does not exist\n",
      "The file ../MockData/MongoDB/CustomerProfileCollection/CustomerProfileCollection.json does not exist\n",
      "The file ../MockData/MongoDB/CurrentAccountCollection/CurrentAccountCollection_sample.json have been removed\n",
      "The file ../MockData/MongoDB/PositionKeepingCollection/PositionKeepingCollection_sample.json does not exist\n",
      "The file ../MockData/MongoDB/CustomerProfileCollection/CustomerProfileCollection_sample.json have been removed\n"
     ]
    }
   ],
   "source": [
    "#Limpiamos los ficheros de salida\n",
    "reset_files(CurrentAccountCollection_file_out)\n",
    "reset_files(PositionKeepingCollection_file_out)\n",
    "reset_files(CustomerProfileCollection_file_out)\n",
    "reset_files(CurrentAccountCollection_sample_out)\n",
    "reset_files(PositionKeepingCollection_sample_out)\n",
    "reset_files(CustomerProfileCollection_sample_out)"
   ]
  },
  {
   "cell_type": "markdown",
   "metadata": {},
   "source": [
    "# Generación coleccion CustomerProfile para MongoDB"
   ]
  },
  {
   "cell_type": "code",
   "execution_count": 475,
   "metadata": {},
   "outputs": [],
   "source": [
    "#Carga de la información de dataframes por entidades\n",
    "\n",
    "Address_df = pd.read_csv('../MockData/Address_1M.csv')\n",
    "CustomerProfile_df = pd.read_csv('../MockData/CustomerProfile_1M.csv')\n",
    "Country_df = pd.read_csv('../MockData/base/Country.csv')"
   ]
  },
  {
   "cell_type": "code",
   "execution_count": 476,
   "metadata": {},
   "outputs": [],
   "source": [
    "#Indexado PartyId para mejor legibilidad\n",
    "CustomerProfile_df['PartyId'].reset_index()\n",
    "CustomerProfile_df['PartyId'] = CustomerProfile_df.index\n",
    "#CustomerProfile_df.columns\n",
    "del(CustomerProfile_df['Unnamed: 0'])\n",
    "del(CustomerProfile_df['Unnamed: 10'])\n",
    "\n",
    "del(Country_df['Unnamed: 4'])\n",
    "del(Country_df['CountryId'])\n",
    "\n",
    "del(Address_df['Unnamed: 0'])\n",
    "del(Address_df['Unnamed: 9'])\n",
    "del(Address_df['PartyId'])\n",
    "del(Address_df['CountryId'])\n",
    "\n",
    "#Limpieza de datos. Eliminamos el apostrofe del campo AccountRole y PartyType\n",
    "CustomerProfile_df['AccountRole'] = CustomerProfile_df['AccountRole'].str.replace(\"'\",'')\n",
    "CustomerProfile_df['PartyType'] = CustomerProfile_df['PartyType'].str.replace(\"'\",'')"
   ]
  },
  {
   "cell_type": "code",
   "execution_count": 477,
   "metadata": {},
   "outputs": [],
   "source": [
    "CustomerProfile_df = CustomerProfile_df.sample(1000) #Comentar si modo real\n",
    "Address_df = Address_df.sample(1000)"
   ]
  },
  {
   "cell_type": "code",
   "execution_count": 479,
   "metadata": {},
   "outputs": [
    {
     "data": {
      "text/html": [
       "<div>\n",
       "<style scoped>\n",
       "    .dataframe tbody tr th:only-of-type {\n",
       "        vertical-align: middle;\n",
       "    }\n",
       "\n",
       "    .dataframe tbody tr th {\n",
       "        vertical-align: top;\n",
       "    }\n",
       "\n",
       "    .dataframe thead th {\n",
       "        text-align: right;\n",
       "    }\n",
       "</style>\n",
       "<table border=\"1\" class=\"dataframe\">\n",
       "  <thead>\n",
       "    <tr style=\"text-align: right;\">\n",
       "      <th></th>\n",
       "      <th>PartyId</th>\n",
       "      <th>PartyNumber</th>\n",
       "      <th>PartyType</th>\n",
       "      <th>Name</th>\n",
       "      <th>FullLegalName</th>\n",
       "      <th>LegalStructure</th>\n",
       "      <th>BeneficialOwnership</th>\n",
       "      <th>AccountRole</th>\n",
       "      <th>EmailAddress</th>\n",
       "      <th>Phone</th>\n",
       "      <th>Address</th>\n",
       "    </tr>\n",
       "  </thead>\n",
       "  <tbody>\n",
       "    <tr>\n",
       "      <th>455291</th>\n",
       "      <td>455291</td>\n",
       "      <td>3297</td>\n",
       "      <td>sol</td>\n",
       "      <td>Odell</td>\n",
       "      <td>Prof. Dashawn Block</td>\n",
       "      <td>Mr.</td>\n",
       "      <td>6</td>\n",
       "      <td>UK.OBIE.Principal</td>\n",
       "      <td>arielle89@example.net</td>\n",
       "      <td>(286)361-353</td>\n",
       "      <td>[{'AddressType': 'West', 'AddressLine': '32474...</td>\n",
       "    </tr>\n",
       "    <tr>\n",
       "      <th>406250</th>\n",
       "      <td>406250</td>\n",
       "      <td>9910</td>\n",
       "      <td>sol</td>\n",
       "      <td>Walter</td>\n",
       "      <td>Rhoda Borer</td>\n",
       "      <td>Dr.</td>\n",
       "      <td>2</td>\n",
       "      <td>DE.OBIE.Principal</td>\n",
       "      <td>mustafa.hane@example.net</td>\n",
       "      <td>181-024-5498</td>\n",
       "      <td>[{'AddressType': 'East', 'AddressLine': '5978 ...</td>\n",
       "    </tr>\n",
       "  </tbody>\n",
       "</table>\n",
       "</div>"
      ],
      "text/plain": [
       "        PartyId  PartyNumber PartyType    Name        FullLegalName  \\\n",
       "455291   455291         3297       sol   Odell  Prof. Dashawn Block   \n",
       "406250   406250         9910       sol  Walter          Rhoda Borer   \n",
       "\n",
       "       LegalStructure  BeneficialOwnership        AccountRole  \\\n",
       "455291            Mr.                    6  UK.OBIE.Principal   \n",
       "406250            Dr.                    2  DE.OBIE.Principal   \n",
       "\n",
       "                    EmailAddress         Phone  \\\n",
       "455291     arielle89@example.net  (286)361-353   \n",
       "406250  mustafa.hane@example.net  181-024-5498   \n",
       "\n",
       "                                                  Address  \n",
       "455291  [{'AddressType': 'West', 'AddressLine': '32474...  \n",
       "406250  [{'AddressType': 'East', 'AddressLine': '5978 ...  "
      ]
     },
     "execution_count": 479,
     "metadata": {},
     "output_type": "execute_result"
    }
   ],
   "source": [
    "#Agregamos una columna de pais a las direcciones\n",
    "CountryColumn = []\n",
    "\n",
    "for i in range (0,len(Address_df)): \n",
    "    CountryArrayAsJSON = json.loads(Country_df.sample(1).to_json(orient ='records'))\n",
    "    CountryColumn.append(CountryArrayAsJSON)    \n",
    "\n",
    "Address_df['Country'] = CountryColumn\n",
    "\n",
    "#Agreación de direcciones (Address) a la colección Customer Profile\n",
    "#Tratamiento de las direcciones. Creamos de forma aleatoria entre 1 y 10 como agregado del CustomerProfile\n",
    "AddressColumn = []\n",
    "len(CurrentAccount_df)\n",
    "\n",
    "for i in range (0,len(CustomerProfile_df)): \n",
    "    AddressArrayAsJSON = json.loads(Address_df.sample(random.choice(range(1,3))).to_json(orient ='records'))\n",
    "    AddressColumn.append(AddressArrayAsJSON)    \n",
    "    \n",
    "CustomerProfile_df['Address'] = AddressColumn\n",
    "CustomerProfile_df.sample(2)"
   ]
  },
  {
   "cell_type": "code",
   "execution_count": 480,
   "metadata": {},
   "outputs": [],
   "source": [
    "#Volcado fichero JSON\n",
    "CustomerProfile_df.to_json(CustomerProfileCollection_sample_out,orient ='records') #Sample for testing\n",
    "#CustomerProfileSample_df.to_json(CustomerProfileCollection_file_out,orient ='records') #Final file\n"
   ]
  },
  {
   "cell_type": "markdown",
   "metadata": {},
   "source": [
    "# Generación colección CurrentAccount para MongoDB"
   ]
  },
  {
   "cell_type": "code",
   "execution_count": 346,
   "metadata": {},
   "outputs": [],
   "source": [
    "#Carga de datasets necesarias para la colección\n",
    "\n",
    "AccountInfo_df = pd.read_csv('../MockData/AccountInfo_1M.csv')\n",
    "CurrentAccount_df = pd.read_csv('../MockData/CurrentAccount_1M.csv')"
   ]
  },
  {
   "cell_type": "code",
   "execution_count": 347,
   "metadata": {},
   "outputs": [
    {
     "data": {
      "text/plain": [
       "Index(['Unnamed: 0', 'AccountInfoId', 'AccountId', 'SchemeName',\n",
       "       'Identification', 'Name', 'Unnamed: 5', 'PartyId'],\n",
       "      dtype='object')"
      ]
     },
     "execution_count": 347,
     "metadata": {},
     "output_type": "execute_result"
    }
   ],
   "source": [
    "AccountInfo_df.columns"
   ]
  },
  {
   "cell_type": "code",
   "execution_count": 348,
   "metadata": {},
   "outputs": [
    {
     "data": {
      "text/plain": [
       "Index(['Unnamed: 0', 'AccountId', 'PartyId', 'Status', 'StatusUpdateDateTime',\n",
       "       'AccountType', 'NickName', 'OpeningDate', 'AccountSubType',\n",
       "       'Unnamed: 8'],\n",
       "      dtype='object')"
      ]
     },
     "execution_count": 348,
     "metadata": {},
     "output_type": "execute_result"
    }
   ],
   "source": [
    "CurrentAccount_df.columns"
   ]
  },
  {
   "cell_type": "code",
   "execution_count": 349,
   "metadata": {},
   "outputs": [],
   "source": [
    "#Limpieza de columnas residuales y no necesarias en el documento\n",
    "del(AccountInfo_df['Unnamed: 0'])\n",
    "del(AccountInfo_df['Unnamed: 5'])\n",
    "del(AccountInfo_df['AccountInfoId'])\n",
    "del(AccountInfo_df['AccountId'])\n",
    "del(AccountInfo_df['PartyId'])\n",
    "del(CurrentAccount_df['Unnamed: 0'])\n",
    "del(CurrentAccount_df['Unnamed: 8'])"
   ]
  },
  {
   "cell_type": "code",
   "execution_count": 350,
   "metadata": {},
   "outputs": [],
   "source": [
    "#Limpieza de datos. Eliminamos el apostrofe del campo Status y AccountType y AccountSubType (IMPORTANTE)\n",
    "CurrentAccount_df['Status'] = CurrentAccount_df['Status'].str.replace(\"'\",'')\n",
    "CurrentAccount_df['AccountType'] = CurrentAccount_df['AccountType'].str.replace(\"'\",'')\n",
    "CurrentAccount_df['AccountSubType'] = CurrentAccount_df['AccountSubType'].str.replace(\"'\",'')\n",
    "#Limpieza de datos. Eliminamos el apostrofe del campo SchemeName (IMPORTANTE)\n",
    "AccountInfo_df['SchemeName'] = AccountInfo_df['SchemeName'].str.replace(\"'\",'')"
   ]
  },
  {
   "cell_type": "code",
   "execution_count": 351,
   "metadata": {},
   "outputs": [
    {
     "data": {
      "text/html": [
       "<div>\n",
       "<style scoped>\n",
       "    .dataframe tbody tr th:only-of-type {\n",
       "        vertical-align: middle;\n",
       "    }\n",
       "\n",
       "    .dataframe tbody tr th {\n",
       "        vertical-align: top;\n",
       "    }\n",
       "\n",
       "    .dataframe thead th {\n",
       "        text-align: right;\n",
       "    }\n",
       "</style>\n",
       "<table border=\"1\" class=\"dataframe\">\n",
       "  <thead>\n",
       "    <tr style=\"text-align: right;\">\n",
       "      <th></th>\n",
       "      <th>AccountId</th>\n",
       "      <th>PartyId</th>\n",
       "      <th>Status</th>\n",
       "      <th>StatusUpdateDateTime</th>\n",
       "      <th>AccountType</th>\n",
       "      <th>NickName</th>\n",
       "      <th>OpeningDate</th>\n",
       "      <th>AccountSubType</th>\n",
       "    </tr>\n",
       "  </thead>\n",
       "  <tbody>\n",
       "    <tr>\n",
       "      <th>258667</th>\n",
       "      <td>3675</td>\n",
       "      <td>176</td>\n",
       "      <td>Enabled</td>\n",
       "      <td>2019-09-26 08:36:02.00</td>\n",
       "      <td>Particular</td>\n",
       "      <td>exploit bleeding-edge applications</td>\n",
       "      <td>1999-12-25 08:13:40.00</td>\n",
       "      <td>EDP</td>\n",
       "    </tr>\n",
       "  </tbody>\n",
       "</table>\n",
       "</div>"
      ],
      "text/plain": [
       "        AccountId  PartyId   Status    StatusUpdateDateTime AccountType  \\\n",
       "258667       3675      176  Enabled  2019-09-26 08:36:02.00  Particular   \n",
       "\n",
       "                                  NickName             OpeningDate  \\\n",
       "258667  exploit bleeding-edge applications  1999-12-25 08:13:40.00   \n",
       "\n",
       "       AccountSubType  \n",
       "258667            EDP  "
      ]
     },
     "execution_count": 351,
     "metadata": {},
     "output_type": "execute_result"
    }
   ],
   "source": [
    "CurrentAccount_df.sample(1)"
   ]
  },
  {
   "cell_type": "code",
   "execution_count": 352,
   "metadata": {},
   "outputs": [
    {
     "data": {
      "text/html": [
       "<div>\n",
       "<style scoped>\n",
       "    .dataframe tbody tr th:only-of-type {\n",
       "        vertical-align: middle;\n",
       "    }\n",
       "\n",
       "    .dataframe tbody tr th {\n",
       "        vertical-align: top;\n",
       "    }\n",
       "\n",
       "    .dataframe thead th {\n",
       "        text-align: right;\n",
       "    }\n",
       "</style>\n",
       "<table border=\"1\" class=\"dataframe\">\n",
       "  <thead>\n",
       "    <tr style=\"text-align: right;\">\n",
       "      <th></th>\n",
       "      <th>SchemeName</th>\n",
       "      <th>Identification</th>\n",
       "      <th>Name</th>\n",
       "    </tr>\n",
       "  </thead>\n",
       "  <tbody>\n",
       "    <tr>\n",
       "      <th>1219823</th>\n",
       "      <td>UK.business</td>\n",
       "      <td>7.0</td>\n",
       "      <td>Cummings-Feeney</td>\n",
       "    </tr>\n",
       "  </tbody>\n",
       "</table>\n",
       "</div>"
      ],
      "text/plain": [
       "          SchemeName  Identification             Name\n",
       "1219823  UK.business             7.0  Cummings-Feeney"
      ]
     },
     "execution_count": 352,
     "metadata": {},
     "output_type": "execute_result"
    }
   ],
   "source": [
    "AccountInfo_df.sample(1)"
   ]
  },
  {
   "cell_type": "code",
   "execution_count": 353,
   "metadata": {},
   "outputs": [],
   "source": [
    "#Creamos un sample. Testing (comentar en generación real)\n",
    "CurrentAccount_df = CurrentAccount_df.sample(1000)\n",
    "AccountInfo_df = AccountInfo_df.sample(50)"
   ]
  },
  {
   "cell_type": "code",
   "execution_count": 354,
   "metadata": {},
   "outputs": [],
   "source": [
    "#Generamos la colección agregando AccountInfo a las cuentas\n",
    "\n",
    "AccountInfoColumn = []\n",
    "CurrentAccountCollection = pd.DataFrame()\n",
    "\n",
    "len(CurrentAccount_df)\n",
    "\n",
    "for i in range (0,len(CurrentAccount_df)):     \n",
    "    AccountInfoArrayAsJSON = json.loads(AccountInfo_df.sample(random.choice(range(1,3))).to_json(orient ='records'))\n",
    "    AccountInfoColumn.append(AccountInfoArrayAsJSON)    \n",
    "    \n",
    "CurrentAccount_df['AccountInfo'] = AccountInfoColumn\n"
   ]
  },
  {
   "cell_type": "code",
   "execution_count": 355,
   "metadata": {},
   "outputs": [
    {
     "data": {
      "text/html": [
       "<div>\n",
       "<style scoped>\n",
       "    .dataframe tbody tr th:only-of-type {\n",
       "        vertical-align: middle;\n",
       "    }\n",
       "\n",
       "    .dataframe tbody tr th {\n",
       "        vertical-align: top;\n",
       "    }\n",
       "\n",
       "    .dataframe thead th {\n",
       "        text-align: right;\n",
       "    }\n",
       "</style>\n",
       "<table border=\"1\" class=\"dataframe\">\n",
       "  <thead>\n",
       "    <tr style=\"text-align: right;\">\n",
       "      <th></th>\n",
       "      <th>AccountId</th>\n",
       "      <th>PartyId</th>\n",
       "      <th>Status</th>\n",
       "      <th>StatusUpdateDateTime</th>\n",
       "      <th>AccountType</th>\n",
       "      <th>NickName</th>\n",
       "      <th>OpeningDate</th>\n",
       "      <th>AccountSubType</th>\n",
       "      <th>AccountInfo</th>\n",
       "    </tr>\n",
       "  </thead>\n",
       "  <tbody>\n",
       "    <tr>\n",
       "      <th>930059</th>\n",
       "      <td>366</td>\n",
       "      <td>1608</td>\n",
       "      <td>Enabled</td>\n",
       "      <td>1971-12-21 03:40:32.00</td>\n",
       "      <td>Particular</td>\n",
       "      <td>revolutionize B2C functionalities</td>\n",
       "      <td>1984-02-16 04:25:37.00</td>\n",
       "      <td>EDP</td>\n",
       "      <td>[{'SchemeName': 'UK.OBIE.SortCodeAccountNumber...</td>\n",
       "    </tr>\n",
       "  </tbody>\n",
       "</table>\n",
       "</div>"
      ],
      "text/plain": [
       "        AccountId  PartyId   Status    StatusUpdateDateTime AccountType  \\\n",
       "930059        366     1608  Enabled  1971-12-21 03:40:32.00  Particular   \n",
       "\n",
       "                                 NickName             OpeningDate  \\\n",
       "930059  revolutionize B2C functionalities  1984-02-16 04:25:37.00   \n",
       "\n",
       "       AccountSubType                                        AccountInfo  \n",
       "930059            EDP  [{'SchemeName': 'UK.OBIE.SortCodeAccountNumber...  "
      ]
     },
     "execution_count": 355,
     "metadata": {},
     "output_type": "execute_result"
    }
   ],
   "source": [
    "CurrentAccount_df.sample(1)"
   ]
  },
  {
   "cell_type": "code",
   "execution_count": 356,
   "metadata": {},
   "outputs": [
    {
     "data": {
      "text/plain": [
       "1000"
      ]
     },
     "execution_count": 356,
     "metadata": {},
     "output_type": "execute_result"
    }
   ],
   "source": [
    "len(CurrentAccount_df)"
   ]
  },
  {
   "cell_type": "code",
   "execution_count": 359,
   "metadata": {},
   "outputs": [],
   "source": [
    "#Volcado fichero JSON\n",
    "#CurrentAccount_df.to_json(CurrentAccountCollection_sample_out,orient ='records') #Sample for testing\n",
    "CustomerProfileSample_df.to_json(CustomerProfileCollection_file_out,orient ='records') #Final file\n"
   ]
  },
  {
   "cell_type": "markdown",
   "metadata": {},
   "source": [
    "# Generación colección PositionKeeping para MongoDB"
   ]
  },
  {
   "cell_type": "code",
   "execution_count": 401,
   "metadata": {},
   "outputs": [],
   "source": [
    "#Carga de datasets necesarias para la colección\n",
    "Amount_df = pd.read_csv('../MockData/Amount_1M.csv')\n",
    "CreditLine_df = pd.read_csv('../MockData/CreditLine_1M.csv')\n",
    "Currency_df = pd.read_csv('../MockData/base/Currency.csv')\n",
    "PositionKeeping_df = pd.read_csv('../MockData/Position_Keeping_1M.csv')"
   ]
  },
  {
   "cell_type": "code",
   "execution_count": 402,
   "metadata": {},
   "outputs": [
    {
     "name": "stdout",
     "output_type": "stream",
     "text": [
      "Index(['Unnamed: 0', 'AmountId', 'CurrencyId', 'Amount', 'Unnamed: 3'], dtype='object')\n",
      "Index(['CountryId', 'ShortName', 'Description', 'Code', 'Unnamed: 4'], dtype='object')\n",
      "Index(['Unnamed: 0', 'CreditLineId', 'CurrencyId', 'Amount', 'Type',\n",
      "       'Included', 'Unnamed: 5'],\n",
      "      dtype='object')\n",
      "Index(['CurrencyId', 'Code', 'Description', 'Unnamed: 3'], dtype='object')\n",
      "Index(['Unnamed: 0', 'AccountId', 'DateTime', 'CreditDebitIndicator', 'Type',\n",
      "       'AmountId', 'CreditLineId', 'Unnamed: 6'],\n",
      "      dtype='object')\n"
     ]
    }
   ],
   "source": [
    "#Verificación de columnas\n",
    "print(Amount_df.columns)\n",
    "print(Country_df.columns)\n",
    "print(CreditLine_df.columns)\n",
    "print(Currency_df.columns)\n",
    "print(PositionKeeping_df.columns)"
   ]
  },
  {
   "cell_type": "code",
   "execution_count": 362,
   "metadata": {},
   "outputs": [],
   "source": [
    "#Limpieza de columnas residuales y no necesarias en el documento\n",
    "del(Amount_df['Unnamed: 0'])\n",
    "del(Amount_df['Unnamed: 3'])\n",
    "del(Amount_df['CurrencyId'])\n",
    "del(Amount_df['AmountId'])\n",
    "\n",
    "del(Country_df['Unnamed: 4'])\n",
    "del(Country_df['CountryId'])\n",
    "\n",
    "del(Country_df['Unnamed: 0'])\n",
    "del(CreditLine_df['Unnamed: 5'])\n",
    "del(CreditLine_df['CreditLineId'])\n",
    "del(CreditLine_df['CurrencyId'])\n",
    "\n",
    "del(Currency_df['Unnamed: 3'])\n",
    "del(Currency_df['CurrencyId'])\n",
    "\n",
    "del(PositionKeeping_df['Unnamed: 0'])\n",
    "del(PositionKeeping_df['Unnamed: 6'])\n",
    "del(PositionKeeping_df['CreditLineId'])\n",
    "del(PositionKeeping_df['AmountId'])\n",
    "del(PositionKeeping_df['AccountId'])"
   ]
  },
  {
   "cell_type": "code",
   "execution_count": 364,
   "metadata": {},
   "outputs": [],
   "source": [
    "#Creamos samples. Testing (comentar en generación real)\n",
    "Amount_df = Amount_df.sample(250)\n",
    "CreditLine_df = CreditLine_df.sample(250)\n",
    "PositionKeeping_df = PositionKeeping_df.sample(1000)"
   ]
  },
  {
   "cell_type": "code",
   "execution_count": 398,
   "metadata": {},
   "outputs": [
    {
     "data": {
      "text/html": [
       "<div>\n",
       "<style scoped>\n",
       "    .dataframe tbody tr th:only-of-type {\n",
       "        vertical-align: middle;\n",
       "    }\n",
       "\n",
       "    .dataframe tbody tr th {\n",
       "        vertical-align: top;\n",
       "    }\n",
       "\n",
       "    .dataframe thead th {\n",
       "        text-align: right;\n",
       "    }\n",
       "</style>\n",
       "<table border=\"1\" class=\"dataframe\">\n",
       "  <thead>\n",
       "    <tr style=\"text-align: right;\">\n",
       "      <th></th>\n",
       "      <th>DateTime</th>\n",
       "      <th>CreditDebitIndicator</th>\n",
       "      <th>Type</th>\n",
       "      <th>Amount</th>\n",
       "      <th>CreditLine</th>\n",
       "    </tr>\n",
       "  </thead>\n",
       "  <tbody>\n",
       "    <tr>\n",
       "      <th>65076</th>\n",
       "      <td>1973-06-01 09:59:57.00</td>\n",
       "      <td>'Debit'</td>\n",
       "      <td>'Business'</td>\n",
       "      <td>{'Currency': '[{\"Code\":\"USA\",\"Description\":\"Ut...</td>\n",
       "      <td>{'Included': '[0]', 'Type': '[\"'InterimBooked'...</td>\n",
       "    </tr>\n",
       "  </tbody>\n",
       "</table>\n",
       "</div>"
      ],
      "text/plain": [
       "                     DateTime CreditDebitIndicator        Type  \\\n",
       "65076  1973-06-01 09:59:57.00              'Debit'  'Business'   \n",
       "\n",
       "                                                  Amount  \\\n",
       "65076  {'Currency': '[{\"Code\":\"USA\",\"Description\":\"Ut...   \n",
       "\n",
       "                                              CreditLine  \n",
       "65076  {'Included': '[0]', 'Type': '[\"'InterimBooked'...  "
      ]
     },
     "execution_count": 398,
     "metadata": {},
     "output_type": "execute_result"
    }
   ],
   "source": [
    "#Generamos la colección PositionKeeping\n",
    "\n",
    "len(PositionKeeping_df)\n",
    "\n",
    "AmountColumn = []\n",
    "CreditLineColumn = []\n",
    "\n",
    "for i in range (0,len(PositionKeeping_df)):    \n",
    "    valueAmount = {'Currency': Currency_df.sample(1).to_json(orient = 'records'), 'Amount' : Amount_df.sample(1).to_json(orient ='records')}\n",
    "    AmountColumn.append(valueAmount)\n",
    "    valueCreditLine = {\n",
    "    'Included' : CreditLine_df.sample(1)['Included'].to_json(orient ='records'),                    \n",
    "    'Type': CreditLine_df.sample(1)['Type'].to_json(orient ='records'),\n",
    "    'Amount': { 'Currency': Currency_df.sample(1).to_json(orient = 'records'), 'Amount' : CreditLine_df.sample(1).to_json(orient ='records') }\n",
    "    }\n",
    "    CreditLineColumn.append(valueCreditLine)\n",
    "\n",
    "\n",
    "PositionKeeping_df['Amount'] = AmountColumn\n",
    "PositionKeeping_df['CreditLine'] = CreditLineColumn\n",
    "PositionKeeping_df.sample(1)"
   ]
  },
  {
   "cell_type": "code",
   "execution_count": 399,
   "metadata": {},
   "outputs": [
    {
     "data": {
      "text/plain": [
       "1000"
      ]
     },
     "execution_count": 399,
     "metadata": {},
     "output_type": "execute_result"
    }
   ],
   "source": [
    "len(PositionKeeping_df)"
   ]
  },
  {
   "cell_type": "code",
   "execution_count": 400,
   "metadata": {},
   "outputs": [],
   "source": [
    "#Volcado fichero JSON\n",
    "PositionKeeping_df.to_json(PositionKeepingCollection_sample_out,orient ='records') #Final file\n",
    "#PositionKeeping_df.to_json(PositionKeepingCollection_file_out,orient ='records') #Final file\n"
   ]
  }
 ],
 "metadata": {
  "kernelspec": {
   "display_name": "Python 3",
   "language": "python",
   "name": "python3"
  },
  "language_info": {
   "codemirror_mode": {
    "name": "ipython",
    "version": 3
   },
   "file_extension": ".py",
   "mimetype": "text/x-python",
   "name": "python",
   "nbconvert_exporter": "python",
   "pygments_lexer": "ipython3",
   "version": "3.8.3"
  }
 },
 "nbformat": 4,
 "nbformat_minor": 4
}
