{
 "cells": [
  {
   "cell_type": "markdown",
   "metadata": {},
   "source": [
    "Script de generación de datos documentales TFM Daniel Herranz Segundo"
   ]
  },
  {
   "cell_type": "code",
   "execution_count": 17,
   "metadata": {},
   "outputs": [],
   "source": [
    "import pandas as pd\n",
    "import numpy as np\n",
    "import os\n",
    "import json\n",
    "import random"
   ]
  },
  {
   "cell_type": "code",
   "execution_count": 18,
   "metadata": {},
   "outputs": [],
   "source": [
    "#Variables de los ficheros de datos salida\n",
    "CurrentAccountCollection_file_out = '../MockData/MongoDB/CurrentAccountCollection/CurrentAccountCollection.json'\n",
    "PositionKeepingCollection_file_out = '../MockData/MongoDB/PositionKeepingCollection/PositionKeepingCollection.json'\n",
    "CustomerProfileCollection_file_out = '../MockData/MongoDB/CustomerProfileCollection/CustomerProfileCollection.json'\n",
    "\n",
    "CurrentAccountCollection_sample_out = '../MockData/MongoDB/CurrentAccountCollection/CurrentAccountCollection_sample.json'\n",
    "PositionKeepingCollection_sample_out = '../MockData/MongoDB/PositionKeepingCollection/PositionKeepingCollection_sample.json'\n",
    "CustomerProfileCollection_sample_out = '../MockData/MongoDB/CustomerProfileCollection/CustomerProfileCollection_sample.json'\n",
    "\n",
    "CurrentAccountCollection_sample_10K_out = '../MockData/MongoDB/CurrentAccountCollection/CurrentAccountCollection_10K_sample.json'\n",
    "PositionKeepingCollection_sample_10K_out = '../MockData/MongoDB/PositionKeepingCollection/PositionKeepingCollection_10K_sample.json'\n",
    "CustomerProfileCollection_sample_10K_out = '../MockData/MongoDB/CustomerProfileCollection/CustomerProfileCollection_10K_sample.json'\n",
    "\n",
    "CurrentAccountCollection_sample_100K_out = '../MockData/MongoDB/CurrentAccountCollection/CurrentAccountCollection_100K_sample.json'\n",
    "PositionKeepingCollection_sample_100K_out = '../MockData/MongoDB/PositionKeepingCollection/PositionKeepingCollection_100K_sample.json'\n",
    "CustomerProfileCollection_sample_100K_out = '../MockData/MongoDB/CustomerProfileCollection/CustomerProfileCollection_100K_sample.json'\n",
    "\n",
    "CurrentAccountCollection_sample_500K_out = '../MockData/MongoDB/CurrentAccountCollection/CurrentAccountCollection_500K_sample.json'\n",
    "PositionKeepingCollection_sample_500K_out = '../MockData/MongoDB/PositionKeepingCollection/PositionKeepingCollection_500K_sample.json'\n",
    "CustomerProfileCollection_sample_500K_out = '../MockData/MongoDB/CustomerProfileCollection/CustomerProfileCollection_500K_sample.json'"
   ]
  },
  {
   "cell_type": "code",
   "execution_count": 19,
   "metadata": {},
   "outputs": [],
   "source": [
    "#Función para resetear ficheros de salida\n",
    "def reset_files(file):\n",
    "    if os.path.exists(file):\n",
    "        os.remove(file)\n",
    "        print(\"The file\", file ,\"have been removed\")\n",
    "    else:\n",
    "        print(\"The file\", file ,\"does not exist\")"
   ]
  },
  {
   "cell_type": "code",
   "execution_count": 20,
   "metadata": {},
   "outputs": [
    {
     "name": "stdout",
     "output_type": "stream",
     "text": [
      "The file ../MockData/MongoDB/CurrentAccountCollection/CurrentAccountCollection.json does not exist\n",
      "The file ../MockData/MongoDB/PositionKeepingCollection/PositionKeepingCollection.json does not exist\n",
      "The file ../MockData/MongoDB/CustomerProfileCollection/CustomerProfileCollection.json does not exist\n",
      "The file ../MockData/MongoDB/CurrentAccountCollection/CurrentAccountCollection_sample.json does not exist\n",
      "The file ../MockData/MongoDB/PositionKeepingCollection/PositionKeepingCollection_sample.json does not exist\n",
      "The file ../MockData/MongoDB/CustomerProfileCollection/CustomerProfileCollection_sample.json does not exist\n"
     ]
    }
   ],
   "source": [
    "#Limpiamos los ficheros de salida\n",
    "reset_files(CurrentAccountCollection_file_out)\n",
    "reset_files(PositionKeepingCollection_file_out)\n",
    "reset_files(CustomerProfileCollection_file_out)\n",
    "reset_files(CurrentAccountCollection_sample_out)\n",
    "reset_files(PositionKeepingCollection_sample_out)\n",
    "reset_files(CustomerProfileCollection_sample_out)"
   ]
  },
  {
   "cell_type": "markdown",
   "metadata": {},
   "source": [
    "# Generación coleccion CustomerProfile para MongoDB"
   ]
  },
  {
   "cell_type": "code",
   "execution_count": 21,
   "metadata": {},
   "outputs": [],
   "source": [
    "#Carga de la información de dataframes por entidades\n",
    "\n",
    "Address_df = pd.read_csv('../MockData/Address_1M.csv')\n",
    "CustomerProfile_df = pd.read_csv('../MockData/CustomerProfile_1M.csv')\n",
    "Country_df = pd.read_csv('../MockData/base/Country.csv')"
   ]
  },
  {
   "cell_type": "code",
   "execution_count": 24,
   "metadata": {},
   "outputs": [
    {
     "name": "stdout",
     "output_type": "stream",
     "text": [
      "Index(['PartyId', 'AddressType', 'AddressLine', 'StreetName', 'BuildingNumber',\n",
      "       'PostCode', 'TownName', 'CountrySubDivision', 'CountryId'],\n",
      "      dtype='object')\n",
      "Index(['PartyId', 'PartyNumber', 'PartyType', 'Name', 'FullLegalName',\n",
      "       'LegalStructure', 'BeneficialOwnership', 'AccountRole', 'EmailAddress',\n",
      "       'Phone'],\n",
      "      dtype='object')\n",
      "Index(['CountryId', 'ShortName', 'Description', 'Code', 'Unnamed: 4'], dtype='object')\n"
     ]
    }
   ],
   "source": [
    "print(Address_df.columns)\n",
    "print(CustomerProfile_df.columns)\n",
    "print(Country_df.columns)"
   ]
  },
  {
   "cell_type": "code",
   "execution_count": 23,
   "metadata": {},
   "outputs": [],
   "source": [
    "#Comentar si modo real\n",
    "CustomerProfile_df = CustomerProfile_df.sample(1000) \n",
    "Address_df = Address_df.sample(1000)"
   ]
  },
  {
   "cell_type": "code",
   "execution_count": 25,
   "metadata": {},
   "outputs": [],
   "source": [
    "#Indexado PartyId para mejor legibilidad\n",
    "del(Country_df['CountryId'])\n",
    "del(Country_df['Unnamed: 4'])\n",
    "\n",
    "del(Address_df['PartyId'])\n",
    "del(Address_df['CountryId'])"
   ]
  },
  {
   "cell_type": "code",
   "execution_count": 26,
   "metadata": {},
   "outputs": [
    {
     "data": {
      "text/html": [
       "<div>\n",
       "<style scoped>\n",
       "    .dataframe tbody tr th:only-of-type {\n",
       "        vertical-align: middle;\n",
       "    }\n",
       "\n",
       "    .dataframe tbody tr th {\n",
       "        vertical-align: top;\n",
       "    }\n",
       "\n",
       "    .dataframe thead th {\n",
       "        text-align: right;\n",
       "    }\n",
       "</style>\n",
       "<table border=\"1\" class=\"dataframe\">\n",
       "  <thead>\n",
       "    <tr style=\"text-align: right;\">\n",
       "      <th></th>\n",
       "      <th>PartyId</th>\n",
       "      <th>PartyNumber</th>\n",
       "      <th>PartyType</th>\n",
       "      <th>Name</th>\n",
       "      <th>FullLegalName</th>\n",
       "      <th>LegalStructure</th>\n",
       "      <th>BeneficialOwnership</th>\n",
       "      <th>AccountRole</th>\n",
       "      <th>EmailAddress</th>\n",
       "      <th>Phone</th>\n",
       "      <th>Address</th>\n",
       "    </tr>\n",
       "  </thead>\n",
       "  <tbody>\n",
       "    <tr>\n",
       "      <th>563410</th>\n",
       "      <td>4370</td>\n",
       "      <td>4370</td>\n",
       "      <td>sol</td>\n",
       "      <td>Walter</td>\n",
       "      <td>Mr. Winston Ullrich PhD</td>\n",
       "      <td>Mr.</td>\n",
       "      <td>0</td>\n",
       "      <td>UK.OBIE.Principal</td>\n",
       "      <td>koepp.andres@example.com</td>\n",
       "      <td>05188766010</td>\n",
       "      <td>[{'AddressType': 'New', 'AddressLine': '192 Co...</td>\n",
       "    </tr>\n",
       "    <tr>\n",
       "      <th>112766</th>\n",
       "      <td>3414</td>\n",
       "      <td>3414</td>\n",
       "      <td>sol</td>\n",
       "      <td>Robb</td>\n",
       "      <td>Aidan Ledner</td>\n",
       "      <td>Prof.</td>\n",
       "      <td>1</td>\n",
       "      <td>UK.OBIE.Principal</td>\n",
       "      <td>garret81@example.net</td>\n",
       "      <td>1-944-595-77</td>\n",
       "      <td>[{'AddressType': 'Nort', 'AddressLine': '89643...</td>\n",
       "    </tr>\n",
       "  </tbody>\n",
       "</table>\n",
       "</div>"
      ],
      "text/plain": [
       "        PartyId  PartyNumber PartyType    Name            FullLegalName  \\\n",
       "563410     4370         4370       sol  Walter  Mr. Winston Ullrich PhD   \n",
       "112766     3414         3414       sol    Robb             Aidan Ledner   \n",
       "\n",
       "       LegalStructure  BeneficialOwnership        AccountRole  \\\n",
       "563410            Mr.                    0  UK.OBIE.Principal   \n",
       "112766          Prof.                    1  UK.OBIE.Principal   \n",
       "\n",
       "                    EmailAddress         Phone  \\\n",
       "563410  koepp.andres@example.com   05188766010   \n",
       "112766      garret81@example.net  1-944-595-77   \n",
       "\n",
       "                                                  Address  \n",
       "563410  [{'AddressType': 'New', 'AddressLine': '192 Co...  \n",
       "112766  [{'AddressType': 'Nort', 'AddressLine': '89643...  "
      ]
     },
     "execution_count": 26,
     "metadata": {},
     "output_type": "execute_result"
    }
   ],
   "source": [
    "#Agregamos una columna de pais a las direcciones\n",
    "CountryColumn = []\n",
    "\n",
    "for i in range (0,len(Address_df)): \n",
    "    CountryArrayAsJSON = json.loads(Country_df.sample(1).to_json(orient ='records'))\n",
    "    CountryColumn.append(CountryArrayAsJSON)    \n",
    "\n",
    "Address_df['Country'] = CountryColumn\n",
    "\n",
    "#Agreación de direcciones (Address) a la colección Customer Profile\n",
    "#Tratamiento de las direcciones. Creamos de forma aleatoria entre 1 y 10 como agregado del CustomerProfile\n",
    "AddressColumn = []\n",
    "\n",
    "for i in range (0,len(CustomerProfile_df)): \n",
    "    AddressArrayAsJSON = json.loads(Address_df.sample(random.choice(range(1,3))).to_json(orient ='records'))\n",
    "    AddressColumn.append(AddressArrayAsJSON)    \n",
    "    \n",
    "CustomerProfile_df['Address'] = AddressColumn\n",
    "CustomerProfile_df.sample(2)"
   ]
  },
  {
   "cell_type": "code",
   "execution_count": 28,
   "metadata": {},
   "outputs": [],
   "source": [
    "#Volcado fichero JSON\n",
    "CustomerProfile_df.to_json(CustomerProfileCollection_sample_out,orient ='records') #Sample for testing\n",
    "\n",
    "#CustomerProfile_df.to_json(CustomerProfileCollection_file_out,orient ='records') #Final file\n"
   ]
  },
  {
   "cell_type": "markdown",
   "metadata": {},
   "source": [
    "# Generación colección CurrentAccount para MongoDB"
   ]
  },
  {
   "cell_type": "code",
   "execution_count": 34,
   "metadata": {},
   "outputs": [],
   "source": [
    "#Carga de datasets necesarias para la colección\n",
    "\n",
    "AccountInfo_df = pd.read_csv('../MockData/AccountInfo_1M.csv')\n",
    "CurrentAccount_df = pd.read_csv('../MockData/CurrentAccount_1M.csv')"
   ]
  },
  {
   "cell_type": "code",
   "execution_count": 35,
   "metadata": {},
   "outputs": [
    {
     "data": {
      "text/plain": [
       "Index(['AccountInfoId', 'AccountId', 'SchemeName', 'Identification', 'Name'], dtype='object')"
      ]
     },
     "execution_count": 35,
     "metadata": {},
     "output_type": "execute_result"
    }
   ],
   "source": [
    "AccountInfo_df.columns"
   ]
  },
  {
   "cell_type": "code",
   "execution_count": 36,
   "metadata": {},
   "outputs": [
    {
     "data": {
      "text/plain": [
       "Index(['AccountId', 'PartyId', 'Status', 'StatusUpdateDateTime', 'AccountType',\n",
       "       'NickName', 'OpeningDate', 'AccountSubType'],\n",
       "      dtype='object')"
      ]
     },
     "execution_count": 36,
     "metadata": {},
     "output_type": "execute_result"
    }
   ],
   "source": [
    "CurrentAccount_df.columns"
   ]
  },
  {
   "cell_type": "code",
   "execution_count": 37,
   "metadata": {},
   "outputs": [],
   "source": [
    "#Limpieza de columnas residuales y no necesarias en el documento\n",
    "del(AccountInfo_df['AccountInfoId'])\n",
    "del(AccountInfo_df['AccountId'])"
   ]
  },
  {
   "cell_type": "code",
   "execution_count": 38,
   "metadata": {},
   "outputs": [
    {
     "data": {
      "text/html": [
       "<div>\n",
       "<style scoped>\n",
       "    .dataframe tbody tr th:only-of-type {\n",
       "        vertical-align: middle;\n",
       "    }\n",
       "\n",
       "    .dataframe tbody tr th {\n",
       "        vertical-align: top;\n",
       "    }\n",
       "\n",
       "    .dataframe thead th {\n",
       "        text-align: right;\n",
       "    }\n",
       "</style>\n",
       "<table border=\"1\" class=\"dataframe\">\n",
       "  <thead>\n",
       "    <tr style=\"text-align: right;\">\n",
       "      <th></th>\n",
       "      <th>AccountId</th>\n",
       "      <th>PartyId</th>\n",
       "      <th>Status</th>\n",
       "      <th>StatusUpdateDateTime</th>\n",
       "      <th>AccountType</th>\n",
       "      <th>NickName</th>\n",
       "      <th>OpeningDate</th>\n",
       "      <th>AccountSubType</th>\n",
       "    </tr>\n",
       "  </thead>\n",
       "  <tbody>\n",
       "    <tr>\n",
       "      <th>276322</th>\n",
       "      <td>2502</td>\n",
       "      <td>2623</td>\n",
       "      <td>Enabled</td>\n",
       "      <td>1995-10-18 05:02:59.00</td>\n",
       "      <td>Business</td>\n",
       "      <td>unleash B2B experiences</td>\n",
       "      <td>1977-01-04 11:03:09.00</td>\n",
       "      <td>SAI</td>\n",
       "    </tr>\n",
       "  </tbody>\n",
       "</table>\n",
       "</div>"
      ],
      "text/plain": [
       "        AccountId  PartyId   Status    StatusUpdateDateTime AccountType  \\\n",
       "276322       2502     2623  Enabled  1995-10-18 05:02:59.00    Business   \n",
       "\n",
       "                       NickName             OpeningDate AccountSubType  \n",
       "276322  unleash B2B experiences  1977-01-04 11:03:09.00            SAI  "
      ]
     },
     "execution_count": 38,
     "metadata": {},
     "output_type": "execute_result"
    }
   ],
   "source": [
    "CurrentAccount_df.sample(1)"
   ]
  },
  {
   "cell_type": "code",
   "execution_count": 39,
   "metadata": {},
   "outputs": [
    {
     "data": {
      "text/html": [
       "<div>\n",
       "<style scoped>\n",
       "    .dataframe tbody tr th:only-of-type {\n",
       "        vertical-align: middle;\n",
       "    }\n",
       "\n",
       "    .dataframe tbody tr th {\n",
       "        vertical-align: top;\n",
       "    }\n",
       "\n",
       "    .dataframe thead th {\n",
       "        text-align: right;\n",
       "    }\n",
       "</style>\n",
       "<table border=\"1\" class=\"dataframe\">\n",
       "  <thead>\n",
       "    <tr style=\"text-align: right;\">\n",
       "      <th></th>\n",
       "      <th>SchemeName</th>\n",
       "      <th>Identification</th>\n",
       "      <th>Name</th>\n",
       "    </tr>\n",
       "  </thead>\n",
       "  <tbody>\n",
       "    <tr>\n",
       "      <th>876648</th>\n",
       "      <td>UK.OBIE.SortCodeAccountNumber</td>\n",
       "      <td>5.0</td>\n",
       "      <td>Blick-Stoltenberg</td>\n",
       "    </tr>\n",
       "  </tbody>\n",
       "</table>\n",
       "</div>"
      ],
      "text/plain": [
       "                           SchemeName  Identification               Name\n",
       "876648  UK.OBIE.SortCodeAccountNumber             5.0  Blick-Stoltenberg"
      ]
     },
     "execution_count": 39,
     "metadata": {},
     "output_type": "execute_result"
    }
   ],
   "source": [
    "AccountInfo_df.sample(1)"
   ]
  },
  {
   "cell_type": "code",
   "execution_count": 40,
   "metadata": {},
   "outputs": [],
   "source": [
    "#Creamos un sample. Testing (comentar en generación real)\n",
    "CurrentAccount_df = CurrentAccount_df.sample(10000)\n",
    "AccountInfo_df = AccountInfo_df.sample(10000)"
   ]
  },
  {
   "cell_type": "code",
   "execution_count": 41,
   "metadata": {},
   "outputs": [],
   "source": [
    "#Generamos la colección agregando AccountInfo a las cuentas\n",
    "\n",
    "AccountInfoColumn = []\n",
    "CurrentAccountCollection = pd.DataFrame()\n",
    "\n",
    "len(CurrentAccount_df)\n",
    "\n",
    "for i in range (0,len(CurrentAccount_df)):     \n",
    "    AccountInfoArrayAsJSON = json.loads(AccountInfo_df.sample(random.choice(range(1,3))).to_json(orient ='records'))\n",
    "    AccountInfoColumn.append(AccountInfoArrayAsJSON)    \n",
    "    \n",
    "CurrentAccount_df['AccountInfo'] = AccountInfoColumn\n"
   ]
  },
  {
   "cell_type": "code",
   "execution_count": 42,
   "metadata": {},
   "outputs": [
    {
     "data": {
      "text/html": [
       "<div>\n",
       "<style scoped>\n",
       "    .dataframe tbody tr th:only-of-type {\n",
       "        vertical-align: middle;\n",
       "    }\n",
       "\n",
       "    .dataframe tbody tr th {\n",
       "        vertical-align: top;\n",
       "    }\n",
       "\n",
       "    .dataframe thead th {\n",
       "        text-align: right;\n",
       "    }\n",
       "</style>\n",
       "<table border=\"1\" class=\"dataframe\">\n",
       "  <thead>\n",
       "    <tr style=\"text-align: right;\">\n",
       "      <th></th>\n",
       "      <th>AccountId</th>\n",
       "      <th>PartyId</th>\n",
       "      <th>Status</th>\n",
       "      <th>StatusUpdateDateTime</th>\n",
       "      <th>AccountType</th>\n",
       "      <th>NickName</th>\n",
       "      <th>OpeningDate</th>\n",
       "      <th>AccountSubType</th>\n",
       "      <th>AccountInfo</th>\n",
       "    </tr>\n",
       "  </thead>\n",
       "  <tbody>\n",
       "    <tr>\n",
       "      <th>1018154</th>\n",
       "      <td>7205</td>\n",
       "      <td>7380</td>\n",
       "      <td>Enabled</td>\n",
       "      <td>1999-12-02 17:20:33.00</td>\n",
       "      <td>Particular</td>\n",
       "      <td>embrace vertical users</td>\n",
       "      <td>1987-10-05 11:56:38.00</td>\n",
       "      <td>SAI</td>\n",
       "      <td>[{'SchemeName': 'ES.OBIE.SortCodeAccountNumber...</td>\n",
       "    </tr>\n",
       "  </tbody>\n",
       "</table>\n",
       "</div>"
      ],
      "text/plain": [
       "         AccountId  PartyId   Status    StatusUpdateDateTime AccountType  \\\n",
       "1018154       7205     7380  Enabled  1999-12-02 17:20:33.00  Particular   \n",
       "\n",
       "                       NickName             OpeningDate AccountSubType  \\\n",
       "1018154  embrace vertical users  1987-10-05 11:56:38.00            SAI   \n",
       "\n",
       "                                               AccountInfo  \n",
       "1018154  [{'SchemeName': 'ES.OBIE.SortCodeAccountNumber...  "
      ]
     },
     "execution_count": 42,
     "metadata": {},
     "output_type": "execute_result"
    }
   ],
   "source": [
    "CurrentAccount_df.sample(1)"
   ]
  },
  {
   "cell_type": "code",
   "execution_count": 43,
   "metadata": {},
   "outputs": [
    {
     "data": {
      "text/plain": [
       "10000"
      ]
     },
     "execution_count": 43,
     "metadata": {},
     "output_type": "execute_result"
    }
   ],
   "source": [
    "len(CurrentAccount_df)"
   ]
  },
  {
   "cell_type": "code",
   "execution_count": 45,
   "metadata": {},
   "outputs": [],
   "source": [
    "#Volcado fichero JSON\n",
    "CurrentAccount_df.to_json(CurrentAccountCollection_sample_out,orient ='records') #Sample for testing\n",
    "\n",
    "#CurrentAccount_df.to_json(CurrentAccountCollection_file_out,orient ='records')"
   ]
  },
  {
   "cell_type": "markdown",
   "metadata": {},
   "source": [
    "# Generación colección PositionKeeping para MongoDB"
   ]
  },
  {
   "cell_type": "code",
   "execution_count": 46,
   "metadata": {},
   "outputs": [],
   "source": [
    "#Carga de datasets necesarias para la colección\n",
    "Amount_df = pd.read_csv('../MockData/Amount_1M.csv')\n",
    "CreditLine_df = pd.read_csv('../MockData/CreditLine_1M.csv')\n",
    "Currency_df = pd.read_csv('../MockData/base/Currency.csv')\n",
    "PositionKeeping_df = pd.read_csv('../MockData/Position_Keeping_1M.csv')"
   ]
  },
  {
   "cell_type": "code",
   "execution_count": 47,
   "metadata": {},
   "outputs": [
    {
     "name": "stdout",
     "output_type": "stream",
     "text": [
      "Index(['AmountId', 'CurrencyId', 'Amount'], dtype='object')\n",
      "Index(['ShortName', 'Description', 'Code'], dtype='object')\n",
      "Index(['CreditLineId', 'CurrencyId', 'Amount', 'Type', 'Included'], dtype='object')\n",
      "Index(['CurrencyId', 'Code', 'Description', 'Unnamed: 3'], dtype='object')\n",
      "Index(['AccountId', 'DateTime', 'CreditDebitIndicator', 'Type', 'AmountId',\n",
      "       'CreditLineId'],\n",
      "      dtype='object')\n"
     ]
    }
   ],
   "source": [
    "#Verificación de columnas\n",
    "print(Amount_df.columns)\n",
    "print(Country_df.columns)\n",
    "print(CreditLine_df.columns)\n",
    "print(Currency_df.columns)\n",
    "print(PositionKeeping_df.columns)"
   ]
  },
  {
   "cell_type": "code",
   "execution_count": 48,
   "metadata": {},
   "outputs": [],
   "source": [
    "#Limpieza de columnas residuales y no necesarias en el documento\n",
    "del(Amount_df['CurrencyId'])\n",
    "del(Amount_df['AmountId'])\n",
    "\n",
    "del(CreditLine_df['CreditLineId'])\n",
    "del(CreditLine_df['CurrencyId'])\n",
    "\n",
    "del(Currency_df['CurrencyId'])\n",
    "\n",
    "del(PositionKeeping_df['CreditLineId'])\n",
    "del(PositionKeeping_df['AmountId'])\n",
    "del(PositionKeeping_df['AccountId'])"
   ]
  },
  {
   "cell_type": "code",
   "execution_count": 49,
   "metadata": {},
   "outputs": [],
   "source": [
    "#Creamos samples. Testing (comentar en generación real)\n",
    "Amount_df = Amount_df.sample(10000)\n",
    "CreditLine_df = CreditLine_df.sample(10000)\n",
    "PositionKeeping_df = PositionKeeping_df.sample(10000)"
   ]
  },
  {
   "cell_type": "code",
   "execution_count": 50,
   "metadata": {},
   "outputs": [
    {
     "data": {
      "text/html": [
       "<div>\n",
       "<style scoped>\n",
       "    .dataframe tbody tr th:only-of-type {\n",
       "        vertical-align: middle;\n",
       "    }\n",
       "\n",
       "    .dataframe tbody tr th {\n",
       "        vertical-align: top;\n",
       "    }\n",
       "\n",
       "    .dataframe thead th {\n",
       "        text-align: right;\n",
       "    }\n",
       "</style>\n",
       "<table border=\"1\" class=\"dataframe\">\n",
       "  <thead>\n",
       "    <tr style=\"text-align: right;\">\n",
       "      <th></th>\n",
       "      <th>DateTime</th>\n",
       "      <th>CreditDebitIndicator</th>\n",
       "      <th>Type</th>\n",
       "      <th>Amount</th>\n",
       "      <th>CreditLine</th>\n",
       "    </tr>\n",
       "  </thead>\n",
       "  <tbody>\n",
       "    <tr>\n",
       "      <th>704999</th>\n",
       "      <td>1983-11-21 14:27:35.00</td>\n",
       "      <td>Credit</td>\n",
       "      <td>Business</td>\n",
       "      <td>{'Currency': '[{\"Code\":\"IND\",\"Description\":\"Es...</td>\n",
       "      <td>{'Included': '[0]', 'Type': '[null]', 'Amount'...</td>\n",
       "    </tr>\n",
       "  </tbody>\n",
       "</table>\n",
       "</div>"
      ],
      "text/plain": [
       "                      DateTime CreditDebitIndicator      Type  \\\n",
       "704999  1983-11-21 14:27:35.00               Credit  Business   \n",
       "\n",
       "                                                   Amount  \\\n",
       "704999  {'Currency': '[{\"Code\":\"IND\",\"Description\":\"Es...   \n",
       "\n",
       "                                               CreditLine  \n",
       "704999  {'Included': '[0]', 'Type': '[null]', 'Amount'...  "
      ]
     },
     "execution_count": 50,
     "metadata": {},
     "output_type": "execute_result"
    }
   ],
   "source": [
    "#Generamos la colección PositionKeeping\n",
    "\n",
    "AmountColumn = []\n",
    "CreditLineColumn = []\n",
    "\n",
    "for i in range (0,len(PositionKeeping_df)):    \n",
    "    valueAmount = {'Currency': Currency_df.sample(1).to_json(orient = 'records'), 'Amount' : Amount_df.sample(1).to_json(orient ='records')}\n",
    "    AmountColumn.append(valueAmount)\n",
    "    valueCreditLine = {\n",
    "    'Included' : CreditLine_df.sample(1)['Included'].to_json(orient ='records'),                    \n",
    "    'Type': CreditLine_df.sample(1)['Type'].to_json(orient ='records'),\n",
    "    'Amount': { 'Currency': Currency_df.sample(1).to_json(orient = 'records'), 'Amount' : CreditLine_df.sample(1).to_json(orient ='records') }\n",
    "    }\n",
    "    CreditLineColumn.append(valueCreditLine)\n",
    "\n",
    "\n",
    "PositionKeeping_df['Amount'] = AmountColumn\n",
    "PositionKeeping_df['CreditLine'] = CreditLineColumn\n",
    "PositionKeeping_df.sample(1)"
   ]
  },
  {
   "cell_type": "code",
   "execution_count": 51,
   "metadata": {},
   "outputs": [
    {
     "data": {
      "text/plain": [
       "10000"
      ]
     },
     "execution_count": 51,
     "metadata": {},
     "output_type": "execute_result"
    }
   ],
   "source": [
    "len(PositionKeeping_df)"
   ]
  },
  {
   "cell_type": "code",
   "execution_count": 52,
   "metadata": {},
   "outputs": [],
   "source": [
    "#Volcado fichero JSON\n",
    "PositionKeeping_df.to_json(PositionKeepingCollection_sample_out,orient ='records') #Final file\n",
    "\n",
    "#PositionKeeping_df.to_json(PositionKeepingCollection_file_out,orient ='records') #Final file\n"
   ]
  }
 ],
 "metadata": {
  "kernelspec": {
   "display_name": "Python 3",
   "language": "python",
   "name": "python3"
  },
  "language_info": {
   "codemirror_mode": {
    "name": "ipython",
    "version": 3
   },
   "file_extension": ".py",
   "mimetype": "text/x-python",
   "name": "python",
   "nbconvert_exporter": "python",
   "pygments_lexer": "ipython3",
   "version": "3.7.6"
  }
 },
 "nbformat": 4,
 "nbformat_minor": 4
}
