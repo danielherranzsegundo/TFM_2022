{
 "cells": [
  {
   "cell_type": "markdown",
   "metadata": {},
   "source": [
    "Script de funciones agregadas datos Cassandra en cluster multidomain"
   ]
  },
  {
   "cell_type": "code",
   "execution_count": 1,
   "metadata": {},
   "outputs": [
    {
     "name": "stdout",
     "output_type": "stream",
     "text": [
      "Requirement already satisfied: mysql-connector==2.1.7 in /home/danielherranzsegundo/anaconda3/lib/python3.7/site-packages (2.1.7)\n",
      "Requirement already satisfied: pandas in /home/danielherranzsegundo/anaconda3/lib/python3.7/site-packages (1.0.1)\n",
      "Requirement already satisfied: pytz>=2017.2 in /home/danielherranzsegundo/anaconda3/lib/python3.7/site-packages (from pandas) (2019.3)\n",
      "Requirement already satisfied: python-dateutil>=2.6.1 in /home/danielherranzsegundo/anaconda3/lib/python3.7/site-packages (from pandas) (2.8.1)\n",
      "Requirement already satisfied: numpy>=1.13.3 in /home/danielherranzsegundo/anaconda3/lib/python3.7/site-packages (from pandas) (1.18.1)\n",
      "Requirement already satisfied: six>=1.5 in /home/danielherranzsegundo/anaconda3/lib/python3.7/site-packages (from python-dateutil>=2.6.1->pandas) (1.14.0)\n",
      "Requirement already satisfied: sqlalchemy in /home/danielherranzsegundo/anaconda3/lib/python3.7/site-packages (1.3.13)\n",
      "Requirement already satisfied: mysqlclient in /home/danielherranzsegundo/anaconda3/lib/python3.7/site-packages (2.1.0)\n",
      "Requirement already satisfied: numpy in /home/danielherranzsegundo/anaconda3/lib/python3.7/site-packages (1.18.1)\n",
      "Requirement already satisfied: pymysql in /home/danielherranzsegundo/anaconda3/lib/python3.7/site-packages (1.0.2)\n"
     ]
    }
   ],
   "source": [
    "!pip install mysql-connector==2.1.7\n",
    "!pip install pandas\n",
    "!pip install sqlalchemy\n",
    "#requiere instalación adicional, consultar https://github.com/PyMySQL/mysqlclient\n",
    "!pip install mysqlclient\n",
    "!pip install numpy\n",
    "!pip install pymysql"
   ]
  },
  {
   "cell_type": "code",
   "execution_count": 17,
   "metadata": {},
   "outputs": [],
   "source": [
    "import pandas as pd\n",
    "import numpy as np\n",
    "import os\n",
    "import json\n",
    "import random\n",
    "from cassandra.cluster import Cluster\n",
    "from cassandra.auth import PlainTextAuthProvider\n",
    "import time\n",
    "from pprint import pprint\n",
    "import psutil\n",
    "import uuid\n",
    "from cassandra.query import tuple_factory\n",
    "from cassandra.query import dict_factory\n",
    "from cassandra.query import BatchStatement, SimpleStatement\n",
    "from cassandra.policies import RetryPolicy"
   ]
  },
  {
   "cell_type": "code",
   "execution_count": 18,
   "metadata": {},
   "outputs": [],
   "source": [
    "#Los resultados de medidas de tiempo en carga por dominios se almacenan en estos objetos.\n",
    "#Se itera durante 100 iteraciones para sacar medias\n",
    "#repeticiones\n",
    "repeats = 10"
   ]
  },
  {
   "cell_type": "code",
   "execution_count": 19,
   "metadata": {},
   "outputs": [],
   "source": [
    "#Ficheros de salida\n",
    "resultados_etl_agregadas = '../Results/Cassandra/CassandraAgregadas_test_{}.csv'"
   ]
  },
  {
   "cell_type": "code",
   "execution_count": 20,
   "metadata": {},
   "outputs": [],
   "source": [
    "def save_results_to_csv(results,file):\n",
    "    #Guardamos los resultados en csv\n",
    "    from datetime import datetime\n",
    "    \n",
    "    csv_df = pd.DataFrame(results, columns=['Registros', 'Tiempo', 'CPU','Memoria'])\n",
    "    dia = datetime.now().strftime(\"%d%m%Y_%H_%M_%S\")\n",
    "    print(file.format(str(dia)))\n",
    "    csv_df.to_csv(file.format(str(dia)))"
   ]
  },
  {
   "cell_type": "code",
   "execution_count": 21,
   "metadata": {},
   "outputs": [
    {
     "name": "stdout",
     "output_type": "stream",
     "text": [
      "('4.0.3',)\n"
     ]
    },
    {
     "data": {
      "text/plain": [
       "<cassandra.cluster.ResultSet at 0x7f47c99d7510>"
      ]
     },
     "execution_count": 21,
     "metadata": {},
     "output_type": "execute_result"
    }
   ],
   "source": [
    "from cassandra.cluster import Cluster, ExecutionProfile, EXEC_PROFILE_DEFAULT\n",
    "from cassandra.policies import WhiteListRoundRobinPolicy, DowngradingConsistencyRetryPolicy\n",
    "from cassandra.query import tuple_factory\n",
    "from cassandra import ConsistencyLevel\n",
    "\n",
    "profile = ExecutionProfile(\n",
    "    load_balancing_policy=WhiteListRoundRobinPolicy(['127.0.0.1']),\n",
    "    retry_policy=DowngradingConsistencyRetryPolicy(),\n",
    "    consistency_level=ConsistencyLevel.ALL,\n",
    "    serial_consistency_level=ConsistencyLevel.LOCAL_SERIAL,\n",
    "    request_timeout=3600,\n",
    "    row_factory=tuple_factory\n",
    ")\n",
    "cluster = Cluster(execution_profiles={EXEC_PROFILE_DEFAULT: profile})\n",
    "session = cluster.connect()\n",
    "print(session.execute(\"SELECT release_version FROM system.local\").one())\n",
    "\n",
    "session.execute('USE currentaccountkeyspace')\n"
   ]
  },
  {
   "cell_type": "markdown",
   "metadata": {},
   "source": [
    "# Select test multidomain"
   ]
  },
  {
   "cell_type": "code",
   "execution_count": 22,
   "metadata": {},
   "outputs": [],
   "source": [
    "select_query_mysql = \"\"\"SELECT AVG(Amount),MIN(Amount),MAX(Amount) FROM PositionKeepingDomainSchema.Amount am\n",
    "INNER JOIN PositionKeepingDomainSchema.PositionKeeping pk ON pk.AmountId = am.AmountId\n",
    "INNER JOIN CurrentAccountDomainSchema.CurrentAccount ca ON ca.AccountId = pk.AccountId\n",
    "INNER JOIN CustomerProfileDomainSchema.CustomerProfile cp ON cp.PartyId = ca.PartyId\n",
    "INNER JOIN CurrentAccountDomainSchema.AccountInfo ai ON ai.AccountId = ca.AccountId\n",
    "INNER JOIN PositionKeepingDomainSchema.Currency cr ON cr.CurrencyId = am.CurrencyId\n",
    "WHERE cr.Code = '{}'\n",
    "AND cp.AccountRole = 'UK.OBIE.Principal'\n",
    "AND ai.SchemeName LIKE 'UK.%'\"\"\"#.format(random.choice(country_list))"
   ]
  },
  {
   "cell_type": "code",
   "execution_count": 23,
   "metadata": {},
   "outputs": [],
   "source": [
    "#Obtenemos los posibles valores de pais. Se iterará por ellos para cambiar en bucle los registros\n",
    "country_code_list = ['SPA', 'GBP', 'IND']"
   ]
  },
  {
   "cell_type": "code",
   "execution_count": 24,
   "metadata": {},
   "outputs": [
    {
     "data": {
      "text/plain": [
       "'SPA'"
      ]
     },
     "execution_count": 24,
     "metadata": {},
     "output_type": "execute_result"
    }
   ],
   "source": [
    "random.choice(country_code_list)"
   ]
  },
  {
   "cell_type": "code",
   "execution_count": 59,
   "metadata": {},
   "outputs": [],
   "source": [
    "from cassandra import ConsistencyLevel\n",
    "from cassandra.query import SimpleStatement\n",
    "from cassandra import concurrent\n",
    "from statistics import mean\n",
    "\n",
    "registers = []\n",
    "batch = BatchStatement(consistency_level=ConsistencyLevel.ALL)\n",
    "account_id_list = []\n",
    "\n",
    "#Cargas Masiva con Many\n",
    "def aggAmountCurrencyWhenAccountIsEnabledAndSchemeNameIsFromUK():\n",
    "    \n",
    "    #Select Currents Account enabled\n",
    "    SELECT_CURRENTACCOUNT_STMT = \"\"\"SELECT accountid FROM currentaccountkeyspace.currentaccount WHERE status = 'Enabled' LIMIT 100000 ALLOW FILTERING;\"\"\"            \n",
    "    SELECT_SCHEMENAME_STMT = \"\"\"SELECT accountid FROM CurrentAccountKeySpace.CurrentAccountbyschemename WHERE schemename LIKE 'UK.%' LIMIT 100000;\"\"\"    \n",
    "    SELECT_POSITION_KEEPING_STMT = \"\"\"SELECT amount_amount FROM positionkeepingkeyspace.positionkeeping WHERE accountid = '{}';\"\"\"    \n",
    "    \n",
    "    session = cluster.connect('positionkeepingkeyspace')\n",
    "    iter = 0;\n",
    "    i = 1\n",
    "        \n",
    "    for i in range(0,repeats): \n",
    "                \n",
    "        time_inicial = time.time()        \n",
    "        \n",
    "        enabled_Accounts = []\n",
    "        uk_scheme_accounts = []\n",
    "               \n",
    "        result_ca_enabled = session.execute(SELECT_CURRENTACCOUNT_STMT)\n",
    "        for accountid in result_ca_enabled:\n",
    "            enabled_Accounts.append(accountid[0])\n",
    "        \n",
    "        #SELECT * FROM positionkeepingkeyspace.positionkeeping where accountid in ('464ab004-bf6c-11ec-b68e-3bdfc8280f2e', '471e3eb0-bf6c-11ec-b68e-3bdfc8280f2e');\n",
    "        \n",
    "        result_byscheme = session.execute(SELECT_SCHEMENAME_STMT)\n",
    "        for accountid in result_byscheme:\n",
    "            uk_scheme_accounts.append(accountid[0])\n",
    "        \n",
    "        #Obtenemos las cuentas que están en ambas listas\n",
    "        account_to_aggregate = set(enabled_Accounts).intersection(uk_scheme_accounts)\n",
    "    \n",
    "        \n",
    "        #for accountid in account_to_update:\n",
    "            #print(UPDATE_STMT)    \n",
    "            #session.execute(UPDATE_STMT,(True, accountid,currency_code,currency_code))\n",
    "        \n",
    "        amount_amount_list = []\n",
    "        \n",
    "        for accountid in account_to_aggregate:\n",
    "            result = session.execute (SELECT_POSITION_KEEPING_STMT.format(accountid)) \n",
    "            \n",
    "            if (result[0] == None):\n",
    "                amount_amount_list.append(0)            \n",
    "            else:\n",
    "                amount_amount_list.append(result[0])            \n",
    "                \n",
    "        print(amount_amount_list[10:20])\n",
    "        \n",
    "        print(\"max value:\", max(amount_amount_list))\n",
    "        print(\"min value:\", min(amount_amount_list))\n",
    "        \n",
    "        \n",
    "        time_final = time.time()           \n",
    "        data_time_collection = round(time_final - time_inicial,3)\n",
    "        used_cpu = psutil.cpu_percent()\n",
    "        mem_used = psutil.virtual_memory().percent\n",
    "        registers.append((iter,data_time_collection,used_cpu,mem_used))\n",
    "        print((iter,data_time_collection,used_cpu,mem_used))\n",
    "        iter += 1;\n",
    "        time_inicial = time.time()\n",
    "        i = i + 1\n",
    "        \n",
    "    return registers"
   ]
  },
  {
   "cell_type": "code",
   "execution_count": 60,
   "metadata": {},
   "outputs": [
    {
     "name": "stderr",
     "output_type": "stream",
     "text": [
      "/home/danielherranzsegundo/anaconda3/lib/python3.7/site-packages/ipykernel_launcher.py:52: DeprecationWarning: ResultSet indexing support will be removed in 4.0. Consider using ResultSet.one() to get a single row.\n",
      "/home/danielherranzsegundo/anaconda3/lib/python3.7/site-packages/ipykernel_launcher.py:55: DeprecationWarning: ResultSet indexing support will be removed in 4.0. Consider using ResultSet.one() to get a single row.\n"
     ]
    },
    {
     "name": "stdout",
     "output_type": "stream",
     "text": [
      "[(None,), (None,), (None,), (None,), (None,), (None,), (None,), (None,), (None,), (None,)]\n",
      "max value: (None,)\n",
      "min value: (None,)\n",
      "(0, 38.29, 10.9, 91.7)\n",
      "[(None,), (None,), (None,), (None,), (None,), (None,), (None,), (None,), (None,), (None,)]\n",
      "max value: (None,)\n",
      "min value: (None,)\n",
      "(1, 38.075, 30.9, 92.0)\n",
      "[(None,), (None,), (None,), (None,), (None,), (None,), (None,), (None,), (None,), (None,)]\n",
      "max value: (None,)\n",
      "min value: (None,)\n",
      "(2, 49.255, 29.3, 91.9)\n",
      "[(None,), (None,), (None,), (None,), (None,), (None,), (None,), (None,), (None,), (None,)]\n",
      "max value: (None,)\n",
      "min value: (None,)\n",
      "(3, 53.377, 28.1, 92.0)\n",
      "[(None,), (None,), (None,), (None,), (None,), (None,), (None,), (None,), (None,), (None,)]\n",
      "max value: (None,)\n",
      "min value: (None,)\n",
      "(4, 54.362, 27.8, 91.9)\n",
      "[(None,), (None,), (None,), (None,), (None,), (None,), (None,), (None,), (None,), (None,)]\n",
      "max value: (None,)\n",
      "min value: (None,)\n",
      "(5, 56.822, 28.0, 92.0)\n",
      "[(None,), (None,), (None,), (None,), (None,), (None,), (None,), (None,), (None,), (None,)]\n",
      "max value: (None,)\n",
      "min value: (None,)\n",
      "(6, 55.102, 28.2, 91.5)\n",
      "[(None,), (None,), (None,), (None,), (None,), (None,), (None,), (None,), (None,), (None,)]\n",
      "max value: (None,)\n",
      "min value: (None,)\n",
      "(7, 56.657, 27.7, 91.6)\n",
      "[(None,), (None,), (None,), (None,), (None,), (None,), (None,), (None,), (None,), (None,)]\n",
      "max value: (None,)\n",
      "min value: (None,)\n",
      "(8, 57.24, 27.6, 91.7)\n",
      "[(None,), (None,), (None,), (None,), (None,), (None,), (None,), (None,), (None,), (None,)]\n",
      "max value: (None,)\n",
      "min value: (None,)\n",
      "(9, 56.149, 27.3, 91.7)\n"
     ]
    }
   ],
   "source": [
    "registers = aggAmountCurrencyWhenAccountIsEnabledAndSchemeNameIsFromUK()"
   ]
  },
  {
   "cell_type": "code",
   "execution_count": 61,
   "metadata": {},
   "outputs": [
    {
     "name": "stdout",
     "output_type": "stream",
     "text": [
      "../Results/Cassandra/CassandraAgregadas_test_19042022_17_02_09.csv\n"
     ]
    }
   ],
   "source": [
    "#Guardamos los resultados Customer Profile\n",
    "save_results_to_csv(registers,resultados_etl_agregadas)"
   ]
  },
  {
   "cell_type": "code",
   "execution_count": 62,
   "metadata": {},
   "outputs": [
    {
     "name": "stdout",
     "output_type": "stream",
     "text": [
      "Conexion cerrada\n"
     ]
    }
   ],
   "source": [
    "cluster.shutdown()\n",
    "print('Conexion cerrada')"
   ]
  }
 ],
 "metadata": {
  "kernelspec": {
   "display_name": "Python 3",
   "language": "python",
   "name": "python3"
  },
  "language_info": {
   "codemirror_mode": {
    "name": "ipython",
    "version": 3
   },
   "file_extension": ".py",
   "mimetype": "text/x-python",
   "name": "python",
   "nbconvert_exporter": "python",
   "pygments_lexer": "ipython3",
   "version": "3.7.6"
  }
 },
 "nbformat": 4,
 "nbformat_minor": 4
}
