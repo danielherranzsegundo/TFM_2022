{
 "cells": [
  {
   "cell_type": "markdown",
   "metadata": {},
   "source": [
    "Funciones agregadas MongoDB en cluster multidomain"
   ]
  },
  {
   "cell_type": "code",
   "execution_count": 426,
   "metadata": {},
   "outputs": [],
   "source": [
    "import pandas as pd\n",
    "import numpy as np\n",
    "import os\n",
    "import json\n",
    "import random\n",
    "import pymongo\n",
    "from pymongo import MongoClient\n",
    "import time\n",
    "from pprint import pprint\n",
    "from pymongo import InsertOne, DeleteMany, ReplaceOne, UpdateOne\n",
    "import matplotlib.pyplot as plt\n",
    "import psutil\n",
    "import uuid\n",
    "from bson import objectid"
   ]
  },
  {
   "cell_type": "code",
   "execution_count": 427,
   "metadata": {},
   "outputs": [],
   "source": [
    "#Los resultados de medidas de tiempo en carga por dominios se almacenan en estos objetos.\n",
    "#Se itera durante 100 iteraciones para sacar medias\n",
    "#repeticiones\n",
    "repeats = 100"
   ]
  },
  {
   "cell_type": "code",
   "execution_count": 428,
   "metadata": {},
   "outputs": [],
   "source": [
    "#Ficheros de salida\n",
    "resultados_etl_agg = '../Results/MongoDB/MongoDBAgregadas_test_{}.csv'"
   ]
  },
  {
   "cell_type": "code",
   "execution_count": 429,
   "metadata": {},
   "outputs": [],
   "source": [
    "def save_results_to_csv(results,file):\n",
    "    #Guardamos los resultados en csv\n",
    "    from datetime import datetime\n",
    "    \n",
    "    csv_df = pd.DataFrame(results, columns=['Registros', 'Tiempo', 'CPU','Memoria'])\n",
    "    dia = datetime.now().strftime(\"%d%m%Y_%H_%M_%S\")\n",
    "    csv_df.to_csv(file.format(str(dia)))"
   ]
  },
  {
   "cell_type": "code",
   "execution_count": 430,
   "metadata": {},
   "outputs": [
    {
     "data": {
      "text/plain": [
       "Database(MongoClient(host=['localhost:27017'], document_class=dict, tz_aware=False, connect=True, w=3), 'tfm_mongo_database')"
      ]
     },
     "execution_count": 430,
     "metadata": {},
     "output_type": "execute_result"
    }
   ],
   "source": [
    "#Conexion unica a colecciones\n",
    "connection = MongoClient('localhost', 27017, w=3) #Conexion con WriteConcern a 3 (primario y dos nodos consolidados)\n",
    "\n",
    "#Creamos una base de datos para el trabajo llamada TFM\n",
    "tfm_mongo_db = connection[\"tfm_mongo_database\"]\n",
    "tfm_mongo_db"
   ]
  },
  {
   "cell_type": "code",
   "execution_count": 431,
   "metadata": {},
   "outputs": [
    {
     "name": "stdout",
     "output_type": "stream",
     "text": [
      "['admin', 'config', 'local', 'tfm_mongo_database']\n"
     ]
    }
   ],
   "source": [
    "CustomerProfileCollection = tfm_mongo_db[\"CustomerProfileCollection\"]\n",
    "CurrentAccountCollection = tfm_mongo_db[\"CurrentAccountCollection\"]\n",
    "PositionKeepingCollection = tfm_mongo_db[\"PositionKeepingCollection\"]\n",
    "print(connection.list_database_names())"
   ]
  },
  {
   "cell_type": "code",
   "execution_count": 432,
   "metadata": {},
   "outputs": [
    {
     "name": "stdout",
     "output_type": "stream",
     "text": [
      "1000000\n",
      "1000000\n",
      "1000000\n"
     ]
    }
   ],
   "source": [
    "print(CustomerProfileCollection.count_documents({}))\n",
    "print(CurrentAccountCollection.count_documents({}))\n",
    "print(PositionKeepingCollection.count_documents({}))"
   ]
  },
  {
   "cell_type": "code",
   "execution_count": 433,
   "metadata": {},
   "outputs": [
    {
     "data": {
      "text/plain": [
       "'AccountId_1'"
      ]
     },
     "execution_count": 433,
     "metadata": {},
     "output_type": "execute_result"
    }
   ],
   "source": [
    "#Generamos indices para adecuar el rendimiento\n",
    "CustomerProfileCollection.create_index(\"PartyId\", unique = True, dropDups = True)\n",
    "CurrentAccountCollection.create_index(\"AccountId\", unique = True, dropDups = True)\n",
    "PositionKeepingCollection.create_index(\"AccountId\", unique = True, dropDups = True)"
   ]
  },
  {
   "cell_type": "code",
   "execution_count": 137,
   "metadata": {},
   "outputs": [],
   "source": [
    "query = \"\"\"SELECT AVG(Amount),MIN(Amount),MAX(Amount) FROM PositionKeepingDomainSchema.Amount am\n",
    "INNER JOIN PositionKeepingDomainSchema.PositionKeeping pk ON pk.AmountId = am.AmountId\n",
    "INNER JOIN CurrentAccountDomainSchema.CurrentAccount ca ON ca.AccountId = pk.AccountId\n",
    "INNER JOIN CustomerProfileDomainSchema.CustomerProfile cp ON cp.PartyId = ca.PartyId\n",
    "INNER JOIN CurrentAccountDomainSchema.AccountInfo ai ON ai.AccountId = ca.AccountId\n",
    "INNER JOIN PositionKeepingDomainSchema.Currency cr ON cr.CurrencyId = am.CurrencyId\n",
    "WHERE cr.Code = '{}'\n",
    "AND cp.AccountRole = 'UK.OBIE.Principal'\n",
    "AND ai.SchemeName LIKE 'UK.%'\"\"\""
   ]
  },
  {
   "cell_type": "markdown",
   "metadata": {},
   "source": [
    "# Funciones agregadas test multidomain"
   ]
  },
  {
   "cell_type": "code",
   "execution_count": 516,
   "metadata": {},
   "outputs": [
    {
     "name": "stdout",
     "output_type": "stream",
     "text": [
      "[{'$match': {'Status': 'Enabled'}}, {'$lookup': {'from': 'PositionKeepingCollection', 'localField': 'AccountId', 'foreignField': 'AccountId', 'as': 'PositionKeeping'}}, {'$group': {'_id': '$PositionKeeping.AccountId', 'avg_amount': {'$avg': '$PositionKeeping.Amount.Amount'}, 'max_amount': {'$max': '$PositionKeeping.Amount.Amount'}, 'min_amount': {'$min': '$PositionKeeping.Amount.Amount'}}}]\n"
     ]
    }
   ],
   "source": [
    "lookup_PositionKeeping = {\n",
    "                '$lookup': {\n",
    "                    'from' : 'PositionKeepingCollection',\n",
    "                    'localField' : 'AccountId',\n",
    "                    'foreignField' : 'AccountId',\n",
    "                    'as' : 'PositionKeeping'\n",
    "                }\n",
    "            }\n",
    "unwind_pk = {\"$unwind\": \"$PositionKeeping\"}\n",
    "match_2 = { '$match': { 'Status': 'Enabled'}  }  \n",
    "\n",
    "group = { '$group': { \n",
    "                '_id': '$PositionKeeping.AccountId', \n",
    "                'avg_amount': { '$avg': '$PositionKeeping.Amount.Amount' },\n",
    "                'max_amount': { '$max': '$PositionKeeping.Amount.Amount' },\n",
    "                'min_amount': { '$min': '$PositionKeeping.Amount.Amount' } \n",
    "                } \n",
    "        }\n",
    "\n",
    "projection_pk = { '$project' : { '_id':0, 'AccountId': 1, 'PartyId':1 , 'PositionKeeping.Amount.Amount':1 } } \n",
    "\n",
    "limit = { '$limit' : 10}\n",
    "\n",
    "pipeline = [match_2, lookup_PositionKeeping, group]\n",
    "print(pipeline)"
   ]
  },
  {
   "cell_type": "code",
   "execution_count": 518,
   "metadata": {},
   "outputs": [],
   "source": [
    "time_inicial = 0\n",
    "time_final = 0\n",
    "registers = []\n",
    "lista = []\n",
    "for iteracion in range(0,10): \n",
    "   \n",
    "    time_inicial = time.time()\n",
    "    result = CurrentAccountCollection.aggregate(pipeline)\n",
    "    time_final = time.time() \n",
    "    used_cpu = psutil.cpu_percent()\n",
    "    mem_used = psutil.virtual_memory().percent\n",
    "    # Tupla con numero de registros, tiempo parcial de la transacción y tiempo acumulado de trxs\n",
    "    total_time = round(time_final - time_inicial,3)\n",
    "    registers.append((iteracion + 1, total_time ,used_cpu, mem_used))"
   ]
  },
  {
   "cell_type": "code",
   "execution_count": 519,
   "metadata": {},
   "outputs": [],
   "source": [
    "#Guardamos los resultados Customer Profile\n",
    "save_results_to_csv(registers,resultados_etl_agg)"
   ]
  },
  {
   "cell_type": "code",
   "execution_count": 520,
   "metadata": {},
   "outputs": [
    {
     "name": "stdout",
     "output_type": "stream",
     "text": [
      "Conexion cerrada\n"
     ]
    }
   ],
   "source": [
    "connection.close()\n",
    "print('Conexion cerrada')"
   ]
  }
 ],
 "metadata": {
  "kernelspec": {
   "display_name": "Python 3",
   "language": "python",
   "name": "python3"
  },
  "language_info": {
   "codemirror_mode": {
    "name": "ipython",
    "version": 3
   },
   "file_extension": ".py",
   "mimetype": "text/x-python",
   "name": "python",
   "nbconvert_exporter": "python",
   "pygments_lexer": "ipython3",
   "version": "3.7.6"
  }
 },
 "nbformat": 4,
 "nbformat_minor": 4
}
