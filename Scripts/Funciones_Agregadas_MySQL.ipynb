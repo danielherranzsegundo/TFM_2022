{
 "cells": [
  {
   "cell_type": "markdown",
   "metadata": {},
   "source": [
    "Script de select con funciones agregadas Max. Min y Avg de datos MySQL en cluster multidomain"
   ]
  },
  {
   "cell_type": "code",
   "execution_count": 1,
   "metadata": {},
   "outputs": [],
   "source": [
    "import mysql.connector\n",
    "from mysql.connector import Error\n",
    "import pandas as pd\n",
    "import numpy as np\n",
    "import sqlalchemy\n",
    "import time\n",
    "import matplotlib.pyplot as plt\n",
    "import psutil\n",
    "import random\n",
    "\n",
    "from mysql.connector.cursor import MySQLCursor"
   ]
  },
  {
   "cell_type": "code",
   "execution_count": 2,
   "metadata": {},
   "outputs": [],
   "source": [
    "#Los resultados de medidas de tiempo en carga por dominios se almacenan en estos objetos.\n",
    "#Se itera durante 100 iteraciones para sacar medias\n",
    "#repeticiones\n",
    "repeats = 100"
   ]
  },
  {
   "cell_type": "code",
   "execution_count": 3,
   "metadata": {},
   "outputs": [],
   "source": [
    "#Ficheros de salida\n",
    "resultados_etl_agg = '../Results/MySQL/MySQLFuncionesAgregadas_test_{}.csv'"
   ]
  },
  {
   "cell_type": "code",
   "execution_count": 4,
   "metadata": {},
   "outputs": [],
   "source": [
    "def save_results_to_csv(results,file):\n",
    "    #Guardamos los resultados en csv\n",
    "    from datetime import datetime\n",
    "    \n",
    "    csv_df = pd.DataFrame(results, columns=['Registros', 'Tiempo', 'CPU','Memoria'])\n",
    "    dia = datetime.now().strftime(\"%d%m%Y_%H_%M_%S\")\n",
    "    csv_df.to_csv(file.format(str(dia)))"
   ]
  },
  {
   "cell_type": "code",
   "execution_count": 5,
   "metadata": {},
   "outputs": [
    {
     "name": "stdout",
     "output_type": "stream",
     "text": [
      "Connected to MySQL database\n"
     ]
    }
   ],
   "source": [
    "conn = mysql.connector.connect(host='localhost',\n",
    "                                    port=6446,\n",
    "                                    database='CustomerProfileDomainSchema',\n",
    "                                    user='root',                                       \n",
    "                                    password='mysql')\n",
    "if conn.is_connected():\n",
    "        conn.autocommit = False #Apenas se observa diferencia de rendimiento\n",
    "        print('Connected to MySQL database')\n",
    "    \n",
    "cursor = conn.cursor()  \n",
    "    \n",
    "def connection_open():\n",
    "   \n",
    "    #InnoDB Cluster\n",
    "    conn = mysql.connector.connect(host='localhost',\n",
    "                                    port=6446,\n",
    "                                    database='CustomerProfileDomainSchema',\n",
    "                                    user='root',                                       \n",
    "                                    password='mysql')\n",
    "\n",
    "\n",
    "    if conn.is_connected():\n",
    "        conn.autocommit = False #Apenas se observa diferencia de rendimiento\n",
    "        print('Connected to MySQL database')\n",
    "    \n",
    "    cursor = conn.cursor()  "
   ]
  },
  {
   "cell_type": "code",
   "execution_count": 6,
   "metadata": {},
   "outputs": [
    {
     "data": {
      "text/plain": [
       "True"
      ]
     },
     "execution_count": 6,
     "metadata": {},
     "output_type": "execute_result"
    }
   ],
   "source": [
    "cursor = conn.cursor(buffered=True)\n",
    "cursor.execute('set global group_replication_transaction_size_limit = 300000000;')\n",
    "cursor.close()"
   ]
  },
  {
   "cell_type": "code",
   "execution_count": 7,
   "metadata": {},
   "outputs": [
    {
     "data": {
      "text/plain": [
       "['IND', 'GBP', 'EUR', 'USA']"
      ]
     },
     "execution_count": 7,
     "metadata": {},
     "output_type": "execute_result"
    }
   ],
   "source": [
    "#Obtenemos los posibles valores de pais. Se iterará por ellos para cambiar en bucle los registros\n",
    "cursor = conn.cursor(buffered=True)\n",
    "cursor.execute(\"\"\"SELECT * FROM PositionKeepingDomainSchema.Currency\"\"\")\n",
    "country_list= []\n",
    "for code in cursor.fetchall():\n",
    "    country_list.append(str(code[1]))\n",
    "country_list"
   ]
  },
  {
   "cell_type": "markdown",
   "metadata": {},
   "source": [
    "# Select test multidomain"
   ]
  },
  {
   "cell_type": "code",
   "execution_count": 8,
   "metadata": {},
   "outputs": [],
   "source": [
    "time_inicial = 0\n",
    "time_final = 0\n",
    "registers = []\n",
    "   \n",
    "for iteracion in range(0,repeats): \n",
    "    select_query = \"\"\"SELECT AVG(Amount),MIN(Amount),MAX(Amount) FROM PositionKeepingDomainSchema.Amount am\n",
    "INNER JOIN PositionKeepingDomainSchema.PositionKeeping pk ON pk.AmountId = am.AmountId\n",
    "INNER JOIN CurrentAccountDomainSchema.CurrentAccount ca ON ca.AccountId = pk.AccountId\n",
    "INNER JOIN CustomerProfileDomainSchema.CustomerProfile cp ON cp.PartyId = ca.PartyId\n",
    "INNER JOIN CurrentAccountDomainSchema.AccountInfo ai ON ai.AccountId = ca.AccountId\n",
    "INNER JOIN PositionKeepingDomainSchema.Currency cr ON cr.CurrencyId = am.CurrencyId\n",
    "WHERE cr.Code = '{}'\n",
    "AND cp.AccountRole = 'UK.OBIE.Principal'\n",
    "AND ai.SchemeName LIKE 'UK.%'\"\"\".format(random.choice(country_list))\n",
    "    cursor = conn.cursor(buffered=True)\n",
    "    time_inicial = time.time()\n",
    "    cursor.execute(select_query)\n",
    "    time_final = time.time() \n",
    "    used_cpu = psutil.cpu_percent()\n",
    "    mem_used = psutil.virtual_memory().percent\n",
    "    # Tupla con numero de registros, tiempo parcial de la transacción y tiempo acumulado de trxs\n",
    "    total_time = round(time_final - time_inicial,3)\n",
    "    registers.append((iteracion + 1, total_time ,used_cpu, mem_used))\n",
    "    #print((iteracion + 1 , total_time ,used_cpu, mem_used))\n",
    "    cursor.close()\n",
    "conn.close()"
   ]
  },
  {
   "cell_type": "code",
   "execution_count": 9,
   "metadata": {},
   "outputs": [],
   "source": [
    "#Guardamos los resultados Customer Profile\n",
    "save_results_to_csv(registers,resultados_etl_agg)"
   ]
  },
  {
   "cell_type": "code",
   "execution_count": 10,
   "metadata": {},
   "outputs": [
    {
     "data": {
      "text/plain": [
       "[(1, 0.627, 19.6, 49.2),\n",
       " (2, 0.608, 18.4, 49.2),\n",
       " (3, 0.605, 18.8, 49.2),\n",
       " (4, 0.599, 17.4, 49.2),\n",
       " (5, 0.618, 27.0, 49.2),\n",
       " (6, 0.591, 17.8, 49.2),\n",
       " (7, 0.612, 18.2, 49.2),\n",
       " (8, 0.617, 18.4, 49.2),\n",
       " (9, 0.65, 29.3, 49.2),\n",
       " (10, 0.619, 20.1, 49.2),\n",
       " (11, 0.621, 19.3, 49.2),\n",
       " (12, 0.615, 19.7, 49.2),\n",
       " (13, 0.618, 21.5, 49.2),\n",
       " (14, 0.609, 19.5, 49.2),\n",
       " (15, 0.609, 19.7, 49.2),\n",
       " (16, 0.626, 19.1, 49.2),\n",
       " (17, 0.61, 17.3, 49.2),\n",
       " (18, 0.614, 17.7, 49.2),\n",
       " (19, 0.611, 18.0, 49.2),\n",
       " (20, 0.608, 17.6, 49.2),\n",
       " (21, 0.6, 17.3, 49.2),\n",
       " (22, 0.599, 18.0, 49.2),\n",
       " (23, 0.603, 17.7, 49.2),\n",
       " (24, 0.6, 18.3, 49.2),\n",
       " (25, 0.579, 17.8, 49.2),\n",
       " (26, 0.614, 17.8, 49.2),\n",
       " (27, 0.61, 17.3, 49.2),\n",
       " (28, 0.615, 18.1, 49.2),\n",
       " (29, 0.612, 18.2, 49.2),\n",
       " (30, 0.609, 18.0, 49.2),\n",
       " (31, 0.605, 17.4, 49.2),\n",
       " (32, 0.6, 17.8, 49.2),\n",
       " (33, 0.601, 18.1, 49.2),\n",
       " (34, 0.593, 17.7, 49.2),\n",
       " (35, 0.634, 24.1, 49.3),\n",
       " (36, 0.62, 17.5, 49.3),\n",
       " (37, 0.611, 17.5, 49.3),\n",
       " (38, 0.608, 17.3, 49.3),\n",
       " (39, 0.609, 18.3, 49.3),\n",
       " (40, 0.605, 18.0, 49.3),\n",
       " (41, 0.608, 18.6, 49.3),\n",
       " (42, 0.616, 19.4, 49.3),\n",
       " (43, 0.599, 17.5, 49.3),\n",
       " (44, 0.585, 17.9, 49.3),\n",
       " (45, 0.621, 18.1, 49.3),\n",
       " (46, 0.621, 18.4, 49.3),\n",
       " (47, 0.609, 17.5, 49.3),\n",
       " (48, 0.61, 17.6, 49.3),\n",
       " (49, 0.608, 18.3, 49.3),\n",
       " (50, 0.603, 17.7, 49.2),\n",
       " (51, 0.603, 18.2, 49.2),\n",
       " (52, 0.6, 17.7, 49.2),\n",
       " (53, 0.59, 17.5, 49.2),\n",
       " (54, 0.616, 17.8, 49.2),\n",
       " (55, 0.617, 19.0, 49.2),\n",
       " (56, 0.616, 19.0, 49.2),\n",
       " (57, 0.618, 19.0, 49.2),\n",
       " (58, 0.656, 32.5, 49.2),\n",
       " (59, 0.617, 20.4, 49.2),\n",
       " (60, 0.618, 20.2, 49.2),\n",
       " (61, 0.61, 19.2, 49.2),\n",
       " (62, 0.607, 20.8, 49.2),\n",
       " (63, 0.629, 19.4, 49.2),\n",
       " (64, 0.631, 20.4, 49.2),\n",
       " (65, 0.626, 19.1, 49.2),\n",
       " (66, 0.621, 20.7, 49.2),\n",
       " (67, 0.618, 20.5, 49.2),\n",
       " (68, 0.617, 19.2, 49.2),\n",
       " (69, 0.61, 20.3, 49.2),\n",
       " (70, 0.615, 20.2, 49.2),\n",
       " (71, 0.61, 19.5, 49.2),\n",
       " (72, 0.591, 20.6, 49.2),\n",
       " (73, 0.626, 20.2, 49.2),\n",
       " (74, 0.615, 18.4, 49.2),\n",
       " (75, 0.634, 20.6, 49.2),\n",
       " (76, 0.634, 19.5, 49.2),\n",
       " (77, 0.636, 24.1, 49.3),\n",
       " (78, 0.625, 18.0, 49.2),\n",
       " (79, 0.624, 18.0, 49.2),\n",
       " (80, 0.615, 17.5, 49.2),\n",
       " (81, 0.621, 20.5, 49.2),\n",
       " (82, 0.647, 20.2, 49.2),\n",
       " (83, 0.63, 18.5, 49.2),\n",
       " (84, 0.624, 18.9, 49.2),\n",
       " (85, 0.622, 18.8, 49.2),\n",
       " (86, 0.617, 17.4, 49.2),\n",
       " (87, 0.604, 17.5, 49.2),\n",
       " (88, 0.6, 17.3, 49.2),\n",
       " (89, 0.621, 25.7, 49.2),\n",
       " (90, 0.613, 19.9, 49.2),\n",
       " (91, 0.574, 17.8, 49.2),\n",
       " (92, 0.616, 17.8, 49.2),\n",
       " (93, 0.611, 18.1, 49.2),\n",
       " (94, 0.617, 18.2, 49.2),\n",
       " (95, 0.619, 18.2, 49.2),\n",
       " (96, 0.626, 26.2, 49.2),\n",
       " (97, 0.622, 17.6, 49.2),\n",
       " (98, 0.626, 19.8, 49.2),\n",
       " (99, 0.62, 19.6, 49.2),\n",
       " (100, 0.615, 27.8, 49.3)]"
      ]
     },
     "execution_count": 10,
     "metadata": {},
     "output_type": "execute_result"
    }
   ],
   "source": [
    "registers"
   ]
  },
  {
   "cell_type": "code",
   "execution_count": 11,
   "metadata": {},
   "outputs": [
    {
     "name": "stdout",
     "output_type": "stream",
     "text": [
      "Conexion cerrada\n"
     ]
    }
   ],
   "source": [
    "conn.close()\n",
    "print('Conexion cerrada')"
   ]
  }
 ],
 "metadata": {
  "kernelspec": {
   "display_name": "Python 3",
   "language": "python",
   "name": "python3"
  },
  "language_info": {
   "codemirror_mode": {
    "name": "ipython",
    "version": 3
   },
   "file_extension": ".py",
   "mimetype": "text/x-python",
   "name": "python",
   "nbconvert_exporter": "python",
   "pygments_lexer": "ipython3",
   "version": "3.7.6"
  }
 },
 "nbformat": 4,
 "nbformat_minor": 4
}
