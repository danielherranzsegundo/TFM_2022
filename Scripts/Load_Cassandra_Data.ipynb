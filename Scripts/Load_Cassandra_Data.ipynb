{
 "cells": [
  {
   "cell_type": "markdown",
   "metadata": {},
   "source": [
    "Script de medición y carga de las colecciones en cluster Cassandra\n",
    "TFM Daniel Herranz Segundo"
   ]
  },
  {
   "cell_type": "code",
   "execution_count": 1,
   "metadata": {},
   "outputs": [
    {
     "name": "stdout",
     "output_type": "stream",
     "text": [
      "Requirement already satisfied: cassandra-driver in /home/danielherranzsegundo/anaconda3/lib/python3.7/site-packages (3.25.0)\n",
      "Requirement already satisfied: geomet<0.3,>=0.1 in /home/danielherranzsegundo/anaconda3/lib/python3.7/site-packages (from cassandra-driver) (0.2.1.post1)\n",
      "Requirement already satisfied: six>=1.9 in /home/danielherranzsegundo/anaconda3/lib/python3.7/site-packages (from cassandra-driver) (1.14.0)\n",
      "Requirement already satisfied: click in /home/danielherranzsegundo/anaconda3/lib/python3.7/site-packages (from geomet<0.3,>=0.1->cassandra-driver) (7.0)\n",
      "Requirement already satisfied: install in /home/danielherranzsegundo/anaconda3/lib/python3.7/site-packages (1.3.5)\n",
      "Requirement already satisfied: scales in /home/danielherranzsegundo/anaconda3/lib/python3.7/site-packages (1.0.9)\n",
      "Requirement already satisfied: six in /home/danielherranzsegundo/anaconda3/lib/python3.7/site-packages (from scales) (1.14.0)\n",
      "Requirement already satisfied: numpy in /home/danielherranzsegundo/anaconda3/lib/python3.7/site-packages (1.18.1)\n"
     ]
    }
   ],
   "source": [
    "!pip install cassandra-driver\n",
    "!pip install install scales\n",
    "!pip install numpy"
   ]
  },
  {
   "cell_type": "code",
   "execution_count": 1,
   "metadata": {},
   "outputs": [],
   "source": [
    "import pandas as pd\n",
    "import numpy as np\n",
    "import os\n",
    "import json\n",
    "import random\n",
    "from cassandra.cluster import Cluster\n",
    "from cassandra.auth import PlainTextAuthProvider\n",
    "import time\n",
    "from pprint import pprint\n",
    "import psutil\n",
    "import uuid\n",
    "from cassandra.query import tuple_factory\n",
    "from cassandra.query import dict_factory\n",
    "from cassandra.query import BatchStatement, SimpleStatement\n",
    "from cassandra.policies import RetryPolicy"
   ]
  },
  {
   "cell_type": "code",
   "execution_count": 2,
   "metadata": {},
   "outputs": [],
   "source": [
    "def save_results_to_csv(results,file,consistencyLevel):\n",
    "    #Guardamos los resultados en csv\n",
    "    from datetime import datetime\n",
    "    dia = datetime.now().strftime(\"%d%m%Y_%H_%M_%S\") \n",
    "    data = results\n",
    "    results_df = pd.DataFrame(data, columns =['Registros', 'Tiempo', 'CPU','Memoria'])\n",
    "    file = file.format(consistencyLevel, str(dia))\n",
    "    print(file)\n",
    "    results_df.to_csv(file)"
   ]
  },
  {
   "cell_type": "code",
   "execution_count": 3,
   "metadata": {},
   "outputs": [],
   "source": [
    "resultados_etl_CutomerProfileKeySpace = '../Results/Cassandra/Cassandra_Insert_ConsistencyLevel_{}_CustomerProfile_{}.csv'\n",
    "resultados_etl_PositionKeepingKeySpace = '../Results/Cassandra/Cassandra_Insert_ConsistencyLevel_{}_PositionKeeping_{}.csv'\n",
    "resultados_etl_CurrentAccountKeySpace = '../Results/Cassandra/Cassandra_Insert_ConsistencyLevel_{}_CurrentAccount_{}.csv'"
   ]
  },
  {
   "cell_type": "code",
   "execution_count": 4,
   "metadata": {},
   "outputs": [],
   "source": [
    "#repeticiones\n",
    "repeats = 1000\n",
    "test_wc = False"
   ]
  },
  {
   "cell_type": "code",
   "execution_count": 6,
   "metadata": {},
   "outputs": [
    {
     "name": "stdout",
     "output_type": "stream",
     "text": [
      "('4.0.3',)\n"
     ]
    },
    {
     "data": {
      "text/plain": [
       "<cassandra.cluster.ResultSet at 0x7f86a58c29d0>"
      ]
     },
     "execution_count": 6,
     "metadata": {},
     "output_type": "execute_result"
    }
   ],
   "source": [
    "from cassandra.cluster import Cluster, ExecutionProfile, EXEC_PROFILE_DEFAULT\n",
    "from cassandra.policies import WhiteListRoundRobinPolicy, DowngradingConsistencyRetryPolicy\n",
    "from cassandra.query import tuple_factory\n",
    "from cassandra import ConsistencyLevel\n",
    "\n",
    "profile = ExecutionProfile(\n",
    "    load_balancing_policy=WhiteListRoundRobinPolicy(['127.0.0.1','172.17.0.2','172.17.0.3','172.17.0.4' ]),\n",
    "    retry_policy=DowngradingConsistencyRetryPolicy(),\n",
    "    consistency_level=ConsistencyLevel.ALL,\n",
    "    serial_consistency_level=ConsistencyLevel.LOCAL_SERIAL,\n",
    "    request_timeout=3600,\n",
    "    row_factory=tuple_factory\n",
    ")\n",
    "cluster = Cluster(execution_profiles={EXEC_PROFILE_DEFAULT: profile})\n",
    "session = cluster.connect()\n",
    "print(session.execute(\"SELECT release_version FROM system.local\").one())\n",
    "\n",
    "session.execute('USE currentaccountkeyspace')"
   ]
  },
  {
   "cell_type": "markdown",
   "metadata": {},
   "source": [
    "## Carga de los documentos por cada dominio"
   ]
  },
  {
   "cell_type": "code",
   "execution_count": 7,
   "metadata": {},
   "outputs": [],
   "source": [
    "CurrentAccountKeyspace_file_out = '../MockData/Cassandra/CurrentAccountKeyspace/CurrentAccountKeyspace.csv'\n",
    "CurrentAccountKeyspaceAccountInfo_file_out = '../MockData/Cassandra/CurrentAccountKeyspace/CurrentAccountAccountInfoKeyspace.csv'\n",
    "PositionKeepingKeyspace_file_out = '../MockData/Cassandra/PositionKeepingKeyspace/PositionKeepingKeyspace.csv'\n",
    "CustomerProfileKeyspace_file_out = '../MockData/Cassandra/CustomerProfileKeyspace/CustomerProfileKeyspace.csv'\n",
    "CustomerProfileAddressKeyspace_file_out = '../MockData/Cassandra/CustomerProfileKeyspace/CustomerProfileAddressKeyspace.csv'\n",
    "\n",
    "CurrentAccountKeyspace_sample_out = '../MockData/Cassandra/CurrentAccountKeyspace/CurrentAccountKeyspace_sample.csv'\n",
    "CurrentAccountKeyspaceAccountInfo_sample_out = '../MockData/Cassandra/CurrentAccountKeyspace/CurrentAccountAccountInfoKeyspace_sample.csv'\n",
    "PositionKeepingKeyspace_sample_out = '../MockData/Cassandra/PositionKeepingKeyspace/PositionKeepingKeyspace_sample.csv'\n",
    "CustomerProfileKeyspaceCustomer_sample_out = '../MockData/Cassandra/CustomerProfileKeyspace/CustomerProfileKeyspace_sample.csv'\n",
    "CustomerProfileKeyspaceAddress_sample_out = '../MockData/Cassandra/CustomerProfileKeyspace/CustomerProfileAddressKeyspace_sample.csv'"
   ]
  },
  {
   "cell_type": "markdown",
   "metadata": {},
   "source": [
    "### Test de carga CustomerProfileCollection"
   ]
  },
  {
   "cell_type": "code",
   "execution_count": 27,
   "metadata": {},
   "outputs": [],
   "source": [
    "#Carga de la información de dataframes por entidades\n",
    "CustomerProfileCollection_df = pd.read_csv(CustomerProfileKeyspaceCustomer_sample_out) #Carga Sample\n",
    "Address_df = pd.read_csv(CustomerProfileKeyspaceAddress_sample_out) #Carga Sample\n",
    "\n",
    "#CustomerProfileCollection_df = pd.read_json(CustomerProfileCollection_file_out) \n",
    "#CurrentAccountCollection_df = pd.read_json(CurrentAccountCollection_file_out) \n",
    "#PositionKeepingCollection_df = pd.read_json(PositionKeepingCollection_file_out) "
   ]
  },
  {
   "cell_type": "code",
   "execution_count": 28,
   "metadata": {},
   "outputs": [
    {
     "name": "stdout",
     "output_type": "stream",
     "text": [
      "CustomerProfileCollection_df 1000\n",
      "Address_df 1000\n"
     ]
    }
   ],
   "source": [
    "print(\"CustomerProfileCollection_df\",len(CustomerProfileCollection_df))\n",
    "print(\"Address_df\",len(Address_df))"
   ]
  },
  {
   "cell_type": "code",
   "execution_count": 29,
   "metadata": {},
   "outputs": [],
   "source": [
    "for x in range(17): # Generamos un millon de registros aprox\n",
    "    CustomerProfileCollection_df = CustomerProfileCollection_df.append(CustomerProfileCollection_df.sample(frac=0.60,replace = True))\n",
    "\n",
    "for x in range(17):\n",
    "    Address_df = Address_df.append(Address_df.sample(frac=0.60,replace = True))\n"
   ]
  },
  {
   "cell_type": "code",
   "execution_count": 30,
   "metadata": {},
   "outputs": [
    {
     "name": "stdout",
     "output_type": "stream",
     "text": [
      "2951634\n",
      "2951634\n"
     ]
    }
   ],
   "source": [
    "print(len(CustomerProfileCollection_df))\n",
    "print(len(Address_df))"
   ]
  },
  {
   "cell_type": "code",
   "execution_count": 31,
   "metadata": {},
   "outputs": [],
   "source": [
    "num_documentos = 1000000"
   ]
  },
  {
   "cell_type": "code",
   "execution_count": 32,
   "metadata": {},
   "outputs": [
    {
     "name": "stdout",
     "output_type": "stream",
     "text": [
      "1000000\n"
     ]
    },
    {
     "data": {
      "text/html": [
       "<div>\n",
       "<style scoped>\n",
       "    .dataframe tbody tr th:only-of-type {\n",
       "        vertical-align: middle;\n",
       "    }\n",
       "\n",
       "    .dataframe tbody tr th {\n",
       "        vertical-align: top;\n",
       "    }\n",
       "\n",
       "    .dataframe thead th {\n",
       "        text-align: right;\n",
       "    }\n",
       "</style>\n",
       "<table border=\"1\" class=\"dataframe\">\n",
       "  <thead>\n",
       "    <tr style=\"text-align: right;\">\n",
       "      <th></th>\n",
       "      <th>PartyId</th>\n",
       "      <th>PartyNumber</th>\n",
       "      <th>PartyType</th>\n",
       "      <th>Name</th>\n",
       "      <th>FullLegalName</th>\n",
       "      <th>LegalStructure</th>\n",
       "      <th>BeneficialOwnership</th>\n",
       "      <th>AccountRole</th>\n",
       "      <th>EmailAddress</th>\n",
       "      <th>Phone</th>\n",
       "    </tr>\n",
       "  </thead>\n",
       "  <tbody>\n",
       "    <tr>\n",
       "      <th>984</th>\n",
       "      <td>4928</td>\n",
       "      <td>4928</td>\n",
       "      <td>sol</td>\n",
       "      <td>Crystel</td>\n",
       "      <td>Ms. Euna Kihn</td>\n",
       "      <td>Dr.</td>\n",
       "      <td>4</td>\n",
       "      <td>US.OBIE.Principal</td>\n",
       "      <td>alivia.wilkinson@example.net</td>\n",
       "      <td>1-615-618-45</td>\n",
       "    </tr>\n",
       "  </tbody>\n",
       "</table>\n",
       "</div>"
      ],
      "text/plain": [
       "     PartyId  PartyNumber PartyType     Name  FullLegalName LegalStructure  \\\n",
       "984     4928         4928       sol  Crystel  Ms. Euna Kihn            Dr.   \n",
       "\n",
       "     BeneficialOwnership        AccountRole                  EmailAddress  \\\n",
       "984                    4  US.OBIE.Principal  alivia.wilkinson@example.net   \n",
       "\n",
       "            Phone  \n",
       "984  1-615-618-45  "
      ]
     },
     "execution_count": 32,
     "metadata": {},
     "output_type": "execute_result"
    }
   ],
   "source": [
    "CustomerProfileCollection_df = CustomerProfileCollection_df.sample(num_documentos)\n",
    "print(len(CustomerProfileCollection_df))\n",
    "CustomerProfileCollection_df.sample(1)"
   ]
  },
  {
   "cell_type": "code",
   "execution_count": 33,
   "metadata": {},
   "outputs": [
    {
     "name": "stdout",
     "output_type": "stream",
     "text": [
      "1000000\n"
     ]
    },
    {
     "data": {
      "text/html": [
       "<div>\n",
       "<style scoped>\n",
       "    .dataframe tbody tr th:only-of-type {\n",
       "        vertical-align: middle;\n",
       "    }\n",
       "\n",
       "    .dataframe tbody tr th {\n",
       "        vertical-align: top;\n",
       "    }\n",
       "\n",
       "    .dataframe thead th {\n",
       "        text-align: right;\n",
       "    }\n",
       "</style>\n",
       "<table border=\"1\" class=\"dataframe\">\n",
       "  <thead>\n",
       "    <tr style=\"text-align: right;\">\n",
       "      <th></th>\n",
       "      <th>PartyId</th>\n",
       "      <th>AddressType</th>\n",
       "      <th>AddressLine</th>\n",
       "      <th>StreetName</th>\n",
       "      <th>BuildingNumber</th>\n",
       "      <th>PostCode</th>\n",
       "      <th>TownName</th>\n",
       "      <th>CountrySubDivision</th>\n",
       "      <th>CountryId</th>\n",
       "      <th>Country_Code</th>\n",
       "      <th>Country_ShortName</th>\n",
       "      <th>Country_Description</th>\n",
       "    </tr>\n",
       "  </thead>\n",
       "  <tbody>\n",
       "    <tr>\n",
       "      <th>482</th>\n",
       "      <td>775441</td>\n",
       "      <td>West</td>\n",
       "      <td>3229 Haley Mountains Suite 241</td>\n",
       "      <td>Missouri Dale</td>\n",
       "      <td>543</td>\n",
       "      <td>45955-0753</td>\n",
       "      <td>Thompsonshire</td>\n",
       "      <td>32787241.0</td>\n",
       "      <td>3</td>\n",
       "      <td>IND</td>\n",
       "      <td>Spain</td>\n",
       "      <td>Omnis dolore id dicta consequatur sit omnis. E...</td>\n",
       "    </tr>\n",
       "  </tbody>\n",
       "</table>\n",
       "</div>"
      ],
      "text/plain": [
       "     PartyId AddressType                     AddressLine     StreetName  \\\n",
       "482   775441        West  3229 Haley Mountains Suite 241  Missouri Dale   \n",
       "\n",
       "     BuildingNumber    PostCode       TownName  CountrySubDivision  CountryId  \\\n",
       "482             543  45955-0753  Thompsonshire          32787241.0          3   \n",
       "\n",
       "    Country_Code Country_ShortName  \\\n",
       "482          IND             Spain   \n",
       "\n",
       "                                   Country_Description  \n",
       "482  Omnis dolore id dicta consequatur sit omnis. E...  "
      ]
     },
     "execution_count": 33,
     "metadata": {},
     "output_type": "execute_result"
    }
   ],
   "source": [
    "Address_df = Address_df.sample(num_documentos)\n",
    "print(len(Address_df))\n",
    "Address_df.sample(1)"
   ]
  },
  {
   "cell_type": "code",
   "execution_count": 34,
   "metadata": {},
   "outputs": [],
   "source": [
    "sample_mode = True #En cargas masivas reales, poner a false\n",
    "\n",
    "if(sample_mode):\n",
    "    list_partyId = CustomerProfileCollection_df['PartyId'].map(lambda x: str(uuid.uuid1()))\n",
    "    CustomerProfileCollection_df['PartyId'] = list_partyId"
   ]
  },
  {
   "cell_type": "code",
   "execution_count": 35,
   "metadata": {},
   "outputs": [
    {
     "data": {
      "text/html": [
       "<div>\n",
       "<style scoped>\n",
       "    .dataframe tbody tr th:only-of-type {\n",
       "        vertical-align: middle;\n",
       "    }\n",
       "\n",
       "    .dataframe tbody tr th {\n",
       "        vertical-align: top;\n",
       "    }\n",
       "\n",
       "    .dataframe thead th {\n",
       "        text-align: right;\n",
       "    }\n",
       "</style>\n",
       "<table border=\"1\" class=\"dataframe\">\n",
       "  <thead>\n",
       "    <tr style=\"text-align: right;\">\n",
       "      <th></th>\n",
       "      <th>PartyId</th>\n",
       "      <th>PartyNumber</th>\n",
       "      <th>PartyType</th>\n",
       "      <th>Name</th>\n",
       "      <th>FullLegalName</th>\n",
       "      <th>LegalStructure</th>\n",
       "      <th>BeneficialOwnership</th>\n",
       "      <th>AccountRole</th>\n",
       "      <th>EmailAddress</th>\n",
       "      <th>Phone</th>\n",
       "    </tr>\n",
       "  </thead>\n",
       "  <tbody>\n",
       "    <tr>\n",
       "      <th>60</th>\n",
       "      <td>888ad4f2-c08f-11ec-b859-8d4f375c14a8</td>\n",
       "      <td>3494</td>\n",
       "      <td>pri</td>\n",
       "      <td>Lonie</td>\n",
       "      <td>Ariane Satterfield</td>\n",
       "      <td>Dr.</td>\n",
       "      <td>6</td>\n",
       "      <td>US.OBIE.Principal</td>\n",
       "      <td>dave43@example.com</td>\n",
       "      <td>064.154.6629</td>\n",
       "    </tr>\n",
       "    <tr>\n",
       "      <th>480</th>\n",
       "      <td>882de1ac-c08f-11ec-b859-8d4f375c14a8</td>\n",
       "      <td>7278</td>\n",
       "      <td>sol</td>\n",
       "      <td>Josephine</td>\n",
       "      <td>Abdullah Swift</td>\n",
       "      <td>Prof.</td>\n",
       "      <td>2</td>\n",
       "      <td>US.OBIE.Principal</td>\n",
       "      <td>mollie03@example.net</td>\n",
       "      <td>07868407036</td>\n",
       "    </tr>\n",
       "    <tr>\n",
       "      <th>97</th>\n",
       "      <td>891e4c6e-c08f-11ec-b859-8d4f375c14a8</td>\n",
       "      <td>3922</td>\n",
       "      <td>pri</td>\n",
       "      <td>Jean</td>\n",
       "      <td>Whitney Gulgowski</td>\n",
       "      <td>Mrs.</td>\n",
       "      <td>2</td>\n",
       "      <td>DE.OBIE.Principal</td>\n",
       "      <td>koss.kaci@example.net</td>\n",
       "      <td>105.061.0322</td>\n",
       "    </tr>\n",
       "    <tr>\n",
       "      <th>605</th>\n",
       "      <td>895e61c8-c08f-11ec-b859-8d4f375c14a8</td>\n",
       "      <td>9494</td>\n",
       "      <td>pri</td>\n",
       "      <td>Heath</td>\n",
       "      <td>Ivah Stehr</td>\n",
       "      <td>Mrs.</td>\n",
       "      <td>2</td>\n",
       "      <td>US.OBIE.Principal</td>\n",
       "      <td>hyatt.arden@example.com</td>\n",
       "      <td>+10(8)465193</td>\n",
       "    </tr>\n",
       "    <tr>\n",
       "      <th>203</th>\n",
       "      <td>8833d530-c08f-11ec-b859-8d4f375c14a8</td>\n",
       "      <td>3766</td>\n",
       "      <td>pri</td>\n",
       "      <td>Ulices</td>\n",
       "      <td>Ms. Daisha Toy III</td>\n",
       "      <td>Dr.</td>\n",
       "      <td>7</td>\n",
       "      <td>UK.OBIE.Principal</td>\n",
       "      <td>gorczany.lucio@example.org</td>\n",
       "      <td>230-726-0311</td>\n",
       "    </tr>\n",
       "  </tbody>\n",
       "</table>\n",
       "</div>"
      ],
      "text/plain": [
       "                                  PartyId  PartyNumber PartyType       Name  \\\n",
       "60   888ad4f2-c08f-11ec-b859-8d4f375c14a8         3494       pri      Lonie   \n",
       "480  882de1ac-c08f-11ec-b859-8d4f375c14a8         7278       sol  Josephine   \n",
       "97   891e4c6e-c08f-11ec-b859-8d4f375c14a8         3922       pri       Jean   \n",
       "605  895e61c8-c08f-11ec-b859-8d4f375c14a8         9494       pri      Heath   \n",
       "203  8833d530-c08f-11ec-b859-8d4f375c14a8         3766       pri     Ulices   \n",
       "\n",
       "          FullLegalName LegalStructure  BeneficialOwnership  \\\n",
       "60   Ariane Satterfield            Dr.                    6   \n",
       "480      Abdullah Swift          Prof.                    2   \n",
       "97    Whitney Gulgowski           Mrs.                    2   \n",
       "605          Ivah Stehr           Mrs.                    2   \n",
       "203  Ms. Daisha Toy III            Dr.                    7   \n",
       "\n",
       "           AccountRole                EmailAddress         Phone  \n",
       "60   US.OBIE.Principal          dave43@example.com  064.154.6629  \n",
       "480  US.OBIE.Principal        mollie03@example.net   07868407036  \n",
       "97   DE.OBIE.Principal       koss.kaci@example.net  105.061.0322  \n",
       "605  US.OBIE.Principal     hyatt.arden@example.com  +10(8)465193  \n",
       "203  UK.OBIE.Principal  gorczany.lucio@example.org  230-726-0311  "
      ]
     },
     "execution_count": 35,
     "metadata": {},
     "output_type": "execute_result"
    }
   ],
   "source": [
    "CustomerProfileCollection_df.sample(5)"
   ]
  },
  {
   "cell_type": "code",
   "execution_count": 36,
   "metadata": {},
   "outputs": [
    {
     "data": {
      "text/html": [
       "<div>\n",
       "<style scoped>\n",
       "    .dataframe tbody tr th:only-of-type {\n",
       "        vertical-align: middle;\n",
       "    }\n",
       "\n",
       "    .dataframe tbody tr th {\n",
       "        vertical-align: top;\n",
       "    }\n",
       "\n",
       "    .dataframe thead th {\n",
       "        text-align: right;\n",
       "    }\n",
       "</style>\n",
       "<table border=\"1\" class=\"dataframe\">\n",
       "  <thead>\n",
       "    <tr style=\"text-align: right;\">\n",
       "      <th></th>\n",
       "      <th>AddressType</th>\n",
       "      <th>AddressLine</th>\n",
       "      <th>StreetName</th>\n",
       "      <th>BuildingNumber</th>\n",
       "      <th>PostCode</th>\n",
       "      <th>TownName</th>\n",
       "      <th>CountrySubDivision</th>\n",
       "      <th>CountryId</th>\n",
       "      <th>Country_Code</th>\n",
       "      <th>Country_ShortName</th>\n",
       "      <th>Country_Description</th>\n",
       "    </tr>\n",
       "  </thead>\n",
       "  <tbody>\n",
       "    <tr>\n",
       "      <th>3</th>\n",
       "      <td>West</td>\n",
       "      <td>3246 Veum Coves Suite 975</td>\n",
       "      <td>Orie Circle</td>\n",
       "      <td>465</td>\n",
       "      <td>89545-0393</td>\n",
       "      <td>Hoegerside</td>\n",
       "      <td>9.0</td>\n",
       "      <td>2</td>\n",
       "      <td>IND</td>\n",
       "      <td>Spain</td>\n",
       "      <td>Omnis dolore id dicta consequatur sit omnis. E...</td>\n",
       "    </tr>\n",
       "    <tr>\n",
       "      <th>92</th>\n",
       "      <td>Nort</td>\n",
       "      <td>7504 Goldner Ridge</td>\n",
       "      <td>Walsh Street</td>\n",
       "      <td>36257</td>\n",
       "      <td>77295-4427</td>\n",
       "      <td>Isabellemouth</td>\n",
       "      <td>24379.0</td>\n",
       "      <td>2</td>\n",
       "      <td>IND</td>\n",
       "      <td>Spain</td>\n",
       "      <td>Omnis dolore id dicta consequatur sit omnis. E...</td>\n",
       "    </tr>\n",
       "    <tr>\n",
       "      <th>720</th>\n",
       "      <td>Nort</td>\n",
       "      <td>916 Stehr Forge</td>\n",
       "      <td>Marjory Coves</td>\n",
       "      <td>17984</td>\n",
       "      <td>19151-8138</td>\n",
       "      <td>East Elsafurt</td>\n",
       "      <td>539928.0</td>\n",
       "      <td>1</td>\n",
       "      <td>IND</td>\n",
       "      <td>Spain</td>\n",
       "      <td>Omnis dolore id dicta consequatur sit omnis. E...</td>\n",
       "    </tr>\n",
       "    <tr>\n",
       "      <th>980</th>\n",
       "      <td>Sout</td>\n",
       "      <td>076 Kub Mall</td>\n",
       "      <td>Prosacco Throughway</td>\n",
       "      <td>65264</td>\n",
       "      <td>32060-8205</td>\n",
       "      <td>Kaleighfurt</td>\n",
       "      <td>7086.0</td>\n",
       "      <td>1</td>\n",
       "      <td>GBP</td>\n",
       "      <td>USA</td>\n",
       "      <td>Id dolorem a soluta harum iusto qui repellat. ...</td>\n",
       "    </tr>\n",
       "    <tr>\n",
       "      <th>344</th>\n",
       "      <td>Sout</td>\n",
       "      <td>6481 Terry Parkway Suite 551</td>\n",
       "      <td>Simonis Key</td>\n",
       "      <td>15174</td>\n",
       "      <td>02484</td>\n",
       "      <td>Lenoreview</td>\n",
       "      <td>26250.0</td>\n",
       "      <td>2</td>\n",
       "      <td>GBP</td>\n",
       "      <td>USA</td>\n",
       "      <td>Id dolorem a soluta harum iusto qui repellat. ...</td>\n",
       "    </tr>\n",
       "  </tbody>\n",
       "</table>\n",
       "</div>"
      ],
      "text/plain": [
       "    AddressType                   AddressLine           StreetName  \\\n",
       "3          West     3246 Veum Coves Suite 975          Orie Circle   \n",
       "92         Nort            7504 Goldner Ridge         Walsh Street   \n",
       "720        Nort               916 Stehr Forge        Marjory Coves   \n",
       "980        Sout                  076 Kub Mall  Prosacco Throughway   \n",
       "344        Sout  6481 Terry Parkway Suite 551          Simonis Key   \n",
       "\n",
       "     BuildingNumber    PostCode       TownName  CountrySubDivision  CountryId  \\\n",
       "3               465  89545-0393     Hoegerside                 9.0          2   \n",
       "92            36257  77295-4427  Isabellemouth             24379.0          2   \n",
       "720           17984  19151-8138  East Elsafurt            539928.0          1   \n",
       "980           65264  32060-8205    Kaleighfurt              7086.0          1   \n",
       "344           15174       02484     Lenoreview             26250.0          2   \n",
       "\n",
       "    Country_Code Country_ShortName  \\\n",
       "3            IND             Spain   \n",
       "92           IND             Spain   \n",
       "720          IND             Spain   \n",
       "980          GBP               USA   \n",
       "344          GBP               USA   \n",
       "\n",
       "                                   Country_Description  \n",
       "3    Omnis dolore id dicta consequatur sit omnis. E...  \n",
       "92   Omnis dolore id dicta consequatur sit omnis. E...  \n",
       "720  Omnis dolore id dicta consequatur sit omnis. E...  \n",
       "980  Id dolorem a soluta harum iusto qui repellat. ...  \n",
       "344  Id dolorem a soluta harum iusto qui repellat. ...  "
      ]
     },
     "execution_count": 36,
     "metadata": {},
     "output_type": "execute_result"
    }
   ],
   "source": [
    "del(Address_df['PartyId'])\n",
    "Address_df.sample(5)"
   ]
  },
  {
   "cell_type": "code",
   "execution_count": 162,
   "metadata": {},
   "outputs": [],
   "source": [
    "import random\n",
    "\n",
    "def getRandomInsertAddress():    \n",
    "    time_inicial = time.time()\n",
    "    AddressSample = Address_df.sample(1);\n",
    "    #CustomerSample = CustomerProfileCollection_df.sample(1)\n",
    "    \n",
    "    #('c59ef4f2-bfb5-11ec-b0d9-ff5473b2f02a', 'IND', '2724 Charity Station', 'West', '784', 'Omnis dolore id dicta consequatur sit omnis. Eaque impedit debitis consequatur impedit aut quo et blanditiis.', 'Spain', '36623111.0', '26429', 'Antone Cliff', 'West Marieport')\n",
    "    \n",
    "    values = (\n",
    "        random.choice(list_partyId),\n",
    "        str(AddressSample['Country_Code'].iloc[0]).replace(\"'\",\"\"),\n",
    "        str(AddressSample['AddressLine'].iloc[0]).replace(\"'\",\"\"),\n",
    "        str(AddressSample['AddressType'].iloc[0]).replace(\"'\",\"\"),\n",
    "        str(AddressSample['BuildingNumber'].iloc[0]).replace(\"'\",\"\"),\n",
    "        str(AddressSample['Country_Description'].iloc[0]).replace(\"'\",\"\"),\n",
    "        str(AddressSample['Country_ShortName'].iloc[0]).replace(\"'\",\"\"),\n",
    "        str(AddressSample['CountrySubDivision'].iloc[0]).replace(\"'\",\"\"),\n",
    "        str(AddressSample['PostCode'].iloc[0]).replace(\"'\",\"\"),\n",
    "        str(AddressSample['StreetName'].iloc[0]).replace(\"'\",\"\"),\n",
    "        str(AddressSample['TownName'].iloc[0]).replace(\"'\",\"\")\n",
    "    )\n",
    "    print(time.time() - time_inicial)\n",
    "    return values"
   ]
  },
  {
   "cell_type": "code",
   "execution_count": 185,
   "metadata": {},
   "outputs": [],
   "source": [
    "from cassandra import ConsistencyLevel\n",
    "from cassandra.query import SimpleStatement\n",
    "from cassandra import concurrent\n",
    "\n",
    "registers = []\n",
    "batch = BatchStatement(consistency_level=ConsistencyLevel.ALL)\n",
    "INSERT_STMT = \"\"\"INSERT INTO CustomerProfile (partyid, partynumber, partytype, name, fulllegalname, legalstructure, beneficialownership, accountrole, emailaddress, phone) VALUES (%s, %s, %s, %s, %s, %s, %s, %s, %s, %s);\"\"\"\n",
    "#INSERT_ADDRESS_STMT = \"\"\"INSERT INTO CustomerProfileAddress (partyid,country_code,addressline, addresstype, buildingnumber,  country_description, country_shortname, countrysubdivision, postcode, streetname, townname) VALUES ('{}', '{}', '{}', '{}', '{}', '{}', '{}', '{}', '{}', '{}', '{}');\"\"\"\n",
    "INSERT_ADDRESS_STMT = \"\"\"INSERT INTO CustomerProfileAddress (partyid,country_code,addressline, addresstype, buildingnumber,  country_description, country_shortname, countrysubdivision, postcode, streetname, townname) VALUES (%s, %s, %s, %s, %s, %s, %s, %s, %s, %s, %s);\"\"\"\n",
    "batch.clear()\n",
    "#Cargas Masiva con Many\n",
    "def loadCollectionDataFrameCustomerProfile(df,keyspace):\n",
    "    session = cluster.connect(keyspace)\n",
    "    BATCH_SIZE = 50\n",
    "    TRX_SIZE = 1000\n",
    "    iter = 0;\n",
    "    i = 1\n",
    "    time_inicial = time.time()\n",
    "    \n",
    "    for h,item in df.iterrows(): \n",
    "        \n",
    "        values = (\n",
    "            str(item[0].replace(\"'\",\"\")),\n",
    "            str(item[1]),\n",
    "            str(item[2].replace(\"'\",\"\")),\n",
    "            str(item[3].replace(\"'\",\"\")),\n",
    "            str(item[4].replace(\"'\",\"\")),\n",
    "            str(item[5].replace(\"'\",\"\")),\n",
    "            str(item[6]),\n",
    "            str(item[7].replace(\"'\",\"\")),\n",
    "            str(item[8].replace(\"'\",\"\")),\n",
    "            str(item[9].replace(\"'\",\"\"))\n",
    "        )\n",
    "            \n",
    "        batch.add(INSERT_STMT, values) \n",
    "        \n",
    "        values_add = (\n",
    "            str(item[0].replace(\"'\",\"\")),\n",
    "            random.choice(['SPA','GBP', 'IND', 'USA']), \n",
    "            'addressline', \n",
    "            'Type', \n",
    "            'BuildingNumber',\n",
    "            'Country_Description',\n",
    "            'Country_ShortName',\n",
    "            'CountrySubDivision',\n",
    "            'PostCode',\n",
    "            'StreetName',\n",
    "            'TownName'\n",
    "        )\n",
    "        \n",
    "        batch.add(INSERT_ADDRESS_STMT, values_add)\n",
    "                                  \n",
    "        if(i % BATCH_SIZE == 0 and i > 0):\n",
    "            ### FIN BATCH\n",
    "            session = cluster.connect(keyspace)\n",
    "            session.execute(batch)\n",
    "            batch.clear()\n",
    "        if(i % TRX_SIZE == 0 and i > 0):\n",
    "            time_final = time.time()           \n",
    "            data_time_collection = round(time_final - time_inicial,3)\n",
    "            used_cpu = psutil.cpu_percent()\n",
    "            mem_used = psutil.virtual_memory().percent\n",
    "            registers.append((iter,data_time_collection,used_cpu,mem_used))\n",
    "            if(i % 10000 == 0):\n",
    "                print((iter,data_time_collection,used_cpu,mem_used))\n",
    "            iter += TRX_SIZE;\n",
    "            time_inicial = time.time()\n",
    "        i = i + 1\n",
    "    return registers"
   ]
  },
  {
   "cell_type": "code",
   "execution_count": 186,
   "metadata": {},
   "outputs": [
    {
     "data": {
      "text/plain": [
       "<cassandra.cluster.ResultSet at 0x7f8685163990>"
      ]
     },
     "execution_count": 186,
     "metadata": {},
     "output_type": "execute_result"
    }
   ],
   "source": [
    "session.execute('TRUNCATE CustomerProfileKeySpace.CustomerProfile;')\n",
    "session.execute('TRUNCATE CustomerProfileKeySpace.CustomerProfileAddress;')"
   ]
  },
  {
   "cell_type": "code",
   "execution_count": 187,
   "metadata": {},
   "outputs": [
    {
     "name": "stdout",
     "output_type": "stream",
     "text": [
      "(9000, 0.377, 32.5, 93.9)\n",
      "(19000, 0.375, 33.0, 92.6)\n",
      "(29000, 0.367, 32.5, 92.6)\n",
      "(39000, 0.379, 35.1, 92.6)\n",
      "(49000, 0.374, 38.8, 92.6)\n",
      "(59000, 0.381, 35.1, 92.6)\n",
      "(69000, 0.378, 31.7, 92.6)\n",
      "(79000, 0.382, 35.1, 92.6)\n",
      "(89000, 0.383, 33.5, 92.6)\n",
      "(99000, 0.383, 29.2, 92.6)\n",
      "(109000, 0.38, 33.3, 92.6)\n",
      "(119000, 0.381, 34.1, 92.6)\n",
      "(129000, 0.386, 32.0, 92.6)\n",
      "(139000, 0.374, 32.5, 92.7)\n",
      "(149000, 0.411, 38.8, 92.7)\n",
      "(159000, 0.376, 35.3, 92.6)\n",
      "(169000, 0.409, 38.1, 92.6)\n",
      "(179000, 0.382, 35.2, 92.6)\n",
      "(189000, 0.373, 34.3, 92.6)\n",
      "(199000, 0.381, 33.2, 92.6)\n",
      "(209000, 0.389, 35.9, 92.6)\n",
      "(219000, 0.422, 38.0, 92.6)\n",
      "(229000, 0.411, 52.7, 92.6)\n",
      "(239000, 0.426, 40.4, 92.7)\n",
      "(249000, 0.377, 35.6, 92.6)\n",
      "(259000, 0.386, 34.9, 92.6)\n",
      "(269000, 0.441, 51.4, 92.6)\n",
      "(279000, 0.378, 34.9, 92.6)\n",
      "(289000, 0.373, 34.3, 92.5)\n",
      "(299000, 0.412, 39.4, 92.6)\n",
      "(309000, 0.378, 33.5, 92.6)\n",
      "(319000, 0.377, 33.5, 92.6)\n",
      "(329000, 0.383, 36.2, 92.6)\n",
      "(339000, 0.388, 33.0, 92.5)\n",
      "(349000, 0.374, 35.0, 92.6)\n",
      "(359000, 0.378, 34.3, 92.6)\n",
      "(369000, 0.374, 32.2, 92.6)\n",
      "(379000, 0.376, 31.3, 92.5)\n",
      "(389000, 0.464, 46.5, 92.5)\n",
      "(399000, 0.374, 34.3, 92.5)\n",
      "(409000, 0.379, 31.8, 92.5)\n",
      "(419000, 0.419, 54.3, 92.5)\n",
      "(429000, 0.378, 33.7, 92.5)\n",
      "(439000, 0.394, 31.7, 92.5)\n",
      "(449000, 0.382, 34.3, 92.5)\n",
      "(459000, 0.369, 35.7, 92.5)\n",
      "(469000, 0.382, 32.7, 92.5)\n",
      "(479000, 0.387, 36.6, 92.4)\n",
      "(489000, 0.374, 33.2, 92.4)\n",
      "(499000, 0.421, 39.6, 92.4)\n",
      "(509000, 0.381, 34.7, 92.4)\n",
      "(519000, 0.387, 33.5, 92.4)\n",
      "(529000, 0.427, 42.6, 92.4)\n",
      "(539000, 0.376, 35.2, 92.4)\n",
      "(549000, 0.383, 34.8, 92.5)\n",
      "(559000, 0.378, 36.1, 92.5)\n",
      "(569000, 0.395, 36.2, 92.5)\n",
      "(579000, 0.379, 31.8, 92.4)\n",
      "(589000, 0.38, 34.8, 92.4)\n",
      "(599000, 0.381, 34.0, 92.5)\n",
      "(609000, 0.374, 37.3, 92.5)\n",
      "(619000, 0.377, 35.8, 92.5)\n",
      "(629000, 0.377, 32.5, 92.4)\n",
      "(639000, 0.379, 35.2, 92.4)\n",
      "(649000, 0.385, 33.2, 92.4)\n",
      "(659000, 0.383, 34.3, 92.4)\n",
      "(669000, 0.379, 33.3, 92.4)\n",
      "(679000, 0.386, 34.0, 92.4)\n",
      "(689000, 0.376, 32.0, 92.4)\n",
      "(699000, 0.379, 33.5, 92.4)\n",
      "(709000, 0.378, 33.0, 92.4)\n",
      "(719000, 0.383, 32.7, 92.5)\n",
      "(729000, 0.378, 36.3, 92.4)\n",
      "(739000, 0.378, 34.0, 92.4)\n",
      "(749000, 0.381, 34.5, 92.4)\n",
      "(759000, 0.376, 34.5, 92.4)\n",
      "(769000, 0.421, 39.2, 92.4)\n",
      "(779000, 0.409, 36.4, 92.4)\n",
      "(789000, 0.383, 31.6, 92.4)\n",
      "(799000, 0.386, 34.1, 92.4)\n",
      "(809000, 0.382, 36.1, 92.4)\n",
      "(819000, 0.377, 31.8, 92.4)\n",
      "(829000, 0.382, 34.9, 92.4)\n",
      "(839000, 0.441, 41.2, 92.5)\n",
      "(849000, 0.382, 33.8, 92.5)\n",
      "(859000, 0.377, 31.7, 92.5)\n",
      "(869000, 0.372, 32.3, 92.4)\n",
      "(879000, 0.567, 24.8, 92.5)\n",
      "(889000, 0.378, 34.2, 92.4)\n",
      "(899000, 0.386, 34.0, 92.4)\n",
      "(909000, 0.385, 32.8, 92.4)\n",
      "(919000, 0.386, 50.0, 92.4)\n",
      "(929000, 0.394, 32.6, 92.4)\n",
      "(939000, 0.377, 32.7, 92.4)\n",
      "(949000, 0.387, 34.4, 92.4)\n",
      "(959000, 0.428, 40.3, 92.4)\n",
      "(969000, 0.383, 34.6, 92.4)\n",
      "(979000, 0.38, 33.8, 92.4)\n",
      "(989000, 0.383, 34.6, 92.3)\n",
      "(999000, 0.414, 36.0, 92.3)\n"
     ]
    }
   ],
   "source": [
    "registers = loadCollectionDataFrameCustomerProfile(CustomerProfileCollection_df, 'customerprofilekeyspace')"
   ]
  },
  {
   "cell_type": "code",
   "execution_count": 188,
   "metadata": {},
   "outputs": [
    {
     "name": "stdout",
     "output_type": "stream",
     "text": [
      "../Results/Cassandra/Cassandra_Insert_ConsistencyLevel_ALL_CustomerProfile_20042022_13_54_29.csv\n"
     ]
    }
   ],
   "source": [
    "#Guardamos el caso one-to-one cassandra\n",
    "save_results_to_csv(registers,resultados_etl_CutomerProfileKeySpace,'ALL')"
   ]
  },
  {
   "cell_type": "markdown",
   "metadata": {},
   "source": [
    "## CurrentAccount"
   ]
  },
  {
   "cell_type": "code",
   "execution_count": 144,
   "metadata": {},
   "outputs": [
    {
     "data": {
      "text/plain": [
       "<cassandra.cluster.ResultSet at 0x7f31e16470d0>"
      ]
     },
     "execution_count": 144,
     "metadata": {},
     "output_type": "execute_result"
    }
   ],
   "source": [
    "session = cluster.connect('currentaccountkeyspace')\n",
    "session.execute('TRUNCATE TABLE currentaccount;')\n",
    "session.execute('TRUNCATE TABLE currentaccountbyschemename;')"
   ]
  },
  {
   "cell_type": "code",
   "execution_count": 145,
   "metadata": {},
   "outputs": [],
   "source": [
    "CurrentAccount_df = pd.read_csv(CurrentAccountKeyspace_sample_out) #Carga Sample\n",
    "AccountInfo_df = pd.read_csv(CurrentAccountKeyspaceAccountInfo_sample_out) #Carga Sample"
   ]
  },
  {
   "cell_type": "code",
   "execution_count": 146,
   "metadata": {},
   "outputs": [
    {
     "data": {
      "text/html": [
       "<div>\n",
       "<style scoped>\n",
       "    .dataframe tbody tr th:only-of-type {\n",
       "        vertical-align: middle;\n",
       "    }\n",
       "\n",
       "    .dataframe tbody tr th {\n",
       "        vertical-align: top;\n",
       "    }\n",
       "\n",
       "    .dataframe thead th {\n",
       "        text-align: right;\n",
       "    }\n",
       "</style>\n",
       "<table border=\"1\" class=\"dataframe\">\n",
       "  <thead>\n",
       "    <tr style=\"text-align: right;\">\n",
       "      <th></th>\n",
       "      <th>SchemeName</th>\n",
       "      <th>Identification</th>\n",
       "      <th>Name</th>\n",
       "    </tr>\n",
       "  </thead>\n",
       "  <tbody>\n",
       "    <tr>\n",
       "      <th>58</th>\n",
       "      <td>NaN</td>\n",
       "      <td>6.0</td>\n",
       "      <td>Hagenes-Stracke</td>\n",
       "    </tr>\n",
       "  </tbody>\n",
       "</table>\n",
       "</div>"
      ],
      "text/plain": [
       "   SchemeName  Identification             Name\n",
       "58        NaN             6.0  Hagenes-Stracke"
      ]
     },
     "execution_count": 146,
     "metadata": {},
     "output_type": "execute_result"
    }
   ],
   "source": [
    "del(AccountInfo_df['AccountId'])\n",
    "AccountInfo_df.sample(1)"
   ]
  },
  {
   "cell_type": "code",
   "execution_count": 147,
   "metadata": {},
   "outputs": [],
   "source": [
    "for x in range(17): # Generamos un millon de registros aprox\n",
    "    CurrentAccount_df = CurrentAccount_df.append(CurrentAccount_df.sample(frac=0.60,replace = True))"
   ]
  },
  {
   "cell_type": "code",
   "execution_count": 148,
   "metadata": {},
   "outputs": [
    {
     "name": "stdout",
     "output_type": "stream",
     "text": [
      "2951634\n",
      "250\n"
     ]
    }
   ],
   "source": [
    "print(len(CurrentAccount_df))\n",
    "print(len(AccountInfo_df))"
   ]
  },
  {
   "cell_type": "code",
   "execution_count": 149,
   "metadata": {},
   "outputs": [
    {
     "data": {
      "text/plain": [
       "1000000"
      ]
     },
     "execution_count": 149,
     "metadata": {},
     "output_type": "execute_result"
    }
   ],
   "source": [
    "del(CurrentAccount_df['PartyId'])\n",
    "CurrentAccount_df = CurrentAccount_df.sample(num_documentos)\n",
    "len(CurrentAccount_df)"
   ]
  },
  {
   "cell_type": "code",
   "execution_count": 150,
   "metadata": {},
   "outputs": [],
   "source": [
    "sample_mode = True #En cargas masivas reales, poner a false\n",
    "\n",
    "if(sample_mode):     \n",
    "    list_ca = CurrentAccount_df['AccountId'].map(lambda x: str(uuid.uuid1()))\n",
    "    CurrentAccount_df['AccountId'] = list_ca\n",
    "    CurrentAccount_df.set_index('AccountId')\n"
   ]
  },
  {
   "cell_type": "code",
   "execution_count": 151,
   "metadata": {},
   "outputs": [],
   "source": [
    "CurrentAccount_df['PartyId'] = list_partyId.values\n",
    "shiftPos = CurrentAccount_df.pop('PartyId')\n",
    "CurrentAccount_df.insert(0, 'PartyId', shiftPos)"
   ]
  },
  {
   "cell_type": "code",
   "execution_count": 152,
   "metadata": {},
   "outputs": [
    {
     "data": {
      "text/html": [
       "<div>\n",
       "<style scoped>\n",
       "    .dataframe tbody tr th:only-of-type {\n",
       "        vertical-align: middle;\n",
       "    }\n",
       "\n",
       "    .dataframe tbody tr th {\n",
       "        vertical-align: top;\n",
       "    }\n",
       "\n",
       "    .dataframe thead th {\n",
       "        text-align: right;\n",
       "    }\n",
       "</style>\n",
       "<table border=\"1\" class=\"dataframe\">\n",
       "  <thead>\n",
       "    <tr style=\"text-align: right;\">\n",
       "      <th></th>\n",
       "      <th>PartyId</th>\n",
       "      <th>AccountId</th>\n",
       "      <th>Status</th>\n",
       "      <th>StatusUpdateDateTime</th>\n",
       "      <th>AccountType</th>\n",
       "      <th>NickName</th>\n",
       "      <th>OpeningDate</th>\n",
       "      <th>AccountSubType</th>\n",
       "    </tr>\n",
       "  </thead>\n",
       "  <tbody>\n",
       "    <tr>\n",
       "      <th>518</th>\n",
       "      <td>bd29e742-bfc8-11ec-b0d9-ff5473b2f02a</td>\n",
       "      <td>484c4a6c-bfcf-11ec-b0d9-ff5473b2f02a</td>\n",
       "      <td>Enabled</td>\n",
       "      <td>2007-10-03 19:47:09.00</td>\n",
       "      <td>Business</td>\n",
       "      <td>utilize integrated schemas</td>\n",
       "      <td>2006-06-04 22:31:36.00</td>\n",
       "      <td>SAI</td>\n",
       "    </tr>\n",
       "    <tr>\n",
       "      <th>821</th>\n",
       "      <td>bd83607e-bfc8-11ec-b0d9-ff5473b2f02a</td>\n",
       "      <td>48a6b43e-bfcf-11ec-b0d9-ff5473b2f02a</td>\n",
       "      <td>Enabled</td>\n",
       "      <td>1990-06-20 10:48:10.00</td>\n",
       "      <td>Business</td>\n",
       "      <td>deliver interactive interfaces</td>\n",
       "      <td>1991-11-15 20:22:02.00</td>\n",
       "      <td>SAI</td>\n",
       "    </tr>\n",
       "    <tr>\n",
       "      <th>147</th>\n",
       "      <td>be0f6466-bfc8-11ec-b0d9-ff5473b2f02a</td>\n",
       "      <td>49342c92-bfcf-11ec-b0d9-ff5473b2f02a</td>\n",
       "      <td>Disabled</td>\n",
       "      <td>1976-03-17 20:27:44.00</td>\n",
       "      <td>Business</td>\n",
       "      <td>cultivate viral applications</td>\n",
       "      <td>2011-07-13 17:02:21.00</td>\n",
       "      <td>POI</td>\n",
       "    </tr>\n",
       "  </tbody>\n",
       "</table>\n",
       "</div>"
      ],
      "text/plain": [
       "                                  PartyId  \\\n",
       "518  bd29e742-bfc8-11ec-b0d9-ff5473b2f02a   \n",
       "821  bd83607e-bfc8-11ec-b0d9-ff5473b2f02a   \n",
       "147  be0f6466-bfc8-11ec-b0d9-ff5473b2f02a   \n",
       "\n",
       "                                AccountId    Status    StatusUpdateDateTime  \\\n",
       "518  484c4a6c-bfcf-11ec-b0d9-ff5473b2f02a   Enabled  2007-10-03 19:47:09.00   \n",
       "821  48a6b43e-bfcf-11ec-b0d9-ff5473b2f02a   Enabled  1990-06-20 10:48:10.00   \n",
       "147  49342c92-bfcf-11ec-b0d9-ff5473b2f02a  Disabled  1976-03-17 20:27:44.00   \n",
       "\n",
       "    AccountType                        NickName             OpeningDate  \\\n",
       "518    Business      utilize integrated schemas  2006-06-04 22:31:36.00   \n",
       "821    Business  deliver interactive interfaces  1991-11-15 20:22:02.00   \n",
       "147    Business    cultivate viral applications  2011-07-13 17:02:21.00   \n",
       "\n",
       "    AccountSubType  \n",
       "518            SAI  \n",
       "821            SAI  \n",
       "147            POI  "
      ]
     },
     "execution_count": 152,
     "metadata": {},
     "output_type": "execute_result"
    }
   ],
   "source": [
    "CurrentAccount_df.sample(3)"
   ]
  },
  {
   "cell_type": "code",
   "execution_count": 153,
   "metadata": {},
   "outputs": [],
   "source": [
    "import random\n",
    "\n",
    "def getRandomAccountInfoList():\n",
    "    ai_list = []\n",
    "    num_add = random.randint(2, 4)\n",
    "    #print(\"num_add:\", num_add)\n",
    "    for i in range(0,num_add):        \n",
    "        ai_sample = AccountInfo_df.sample(1);       \n",
    "        tuple_add = (            \n",
    "            str(ai_sample['Name'].iloc[0]).replace(\"'\",\"\"),\n",
    "            str(ai_sample['Identification'].iloc[0]).replace(\"'\",\"\"),\n",
    "            str(ai_sample['SchemeName'].iloc[0]).replace(\"'\",\"\")\n",
    "        ) \n",
    "        ai_list.append(tuple_add)  \n",
    "    return ai_list"
   ]
  },
  {
   "cell_type": "code",
   "execution_count": 154,
   "metadata": {},
   "outputs": [],
   "source": [
    "from cassandra import ConsistencyLevel\n",
    "from cassandra.query import SimpleStatement\n",
    "from cassandra import concurrent\n",
    "\n",
    "registers = []\n",
    "batch = BatchStatement(consistency_level=ConsistencyLevel.ALL)\n",
    "\n",
    "#Cargas Masiva con Many\n",
    "def loadCollectionDataFrameCurrentAccount(df,keyspace):\n",
    "    session = cluster.connect(keyspace)\n",
    "    BATCH_SIZE = 90\n",
    "    TRX_SIZE = 1000\n",
    "    iter = 0;\n",
    "    i = 1\n",
    "        \n",
    "    time_inicial = time.time()\n",
    "    for h,item in df.iterrows(): \n",
    "\n",
    "        values = (\n",
    "            str(item[0].replace(\"'\",\"\")),\n",
    "            str(item[1].replace(\"'\",\"\")),\n",
    "            str(item[2].replace(\"'\",\"\")),\n",
    "            str(item[3].replace(\"'\",\"\")),\n",
    "            str(item[4].replace(\"'\",\"\")),\n",
    "            str(item[5].replace(\"'\",\"\")),\n",
    "            str(item[6].replace(\"'\",\"\")))\n",
    "        \n",
    "        INSERT_STMT = \"\"\"INSERT INTO CurrentAccount (partyid, accountid, status, statusupdatedatetime, accountType, nickName, openingDate ) VALUES (%s, %s, %s, %s, %s, %s, %s);\"\"\"            \n",
    "        #session.execute(INSERT_STMT, values)\n",
    "        batch.add(INSERT_STMT, values)\n",
    "        \n",
    "        INSERT_STMT_INFO = \"\"\"UPDATE CurrentAccount SET accountinfo = {} WHERE accountid = '{}';\"\"\".format( getRandomAccountInfoList(), str(item[1].replace(\"'\",\"\")))                    \n",
    "        #session.execute(INSERT_STMT_INFO)\n",
    "        batch.add(INSERT_STMT_INFO)\n",
    "        \n",
    "        INSERT_STMT_SCHEMENAME = \"\"\"INSERT INTO currentaccountbyschemename (accountid, schemename) values (%s, %s);\"\"\"                    \n",
    "        #session.execute(INSERT_STMT_SCHEMENAME,( str(item[1].replace(\"'\",\"\")), str(AccountInfo_df.sample(1)['SchemeName'].iloc[0]).replace(\"'\",\"\") ))\n",
    "        batch.add(INSERT_STMT_SCHEMENAME,( str(item[1].replace(\"'\",\"\")), str(AccountInfo_df.sample(1)['SchemeName'].iloc[0]).replace(\"'\",\"\") ))\n",
    "                                      \n",
    "        if(i % BATCH_SIZE == 0 and i > 0):\n",
    "            ### FIN BATCH\n",
    "            session = cluster.connect(keyspace)\n",
    "            session.execute(batch)\n",
    "            batch.clear()\n",
    "        if(i % TRX_SIZE == 0 and i > 0):\n",
    "            time_final = time.time()           \n",
    "            data_time_collection = round(time_final - time_inicial,3)\n",
    "            used_cpu = psutil.cpu_percent()\n",
    "            mem_used = psutil.virtual_memory().percent\n",
    "            registers.append((iter,data_time_collection,used_cpu,mem_used))\n",
    "            if(i % 10000 == 0 and i > 0):\n",
    "                print((iter,data_time_collection,used_cpu,mem_used))\n",
    "            iter += TRX_SIZE;\n",
    "            time_inicial = time.time()\n",
    "        i = i + 1\n",
    "    return registers"
   ]
  },
  {
   "cell_type": "code",
   "execution_count": 155,
   "metadata": {},
   "outputs": [
    {
     "name": "stdout",
     "output_type": "stream",
     "text": [
      "(9000, 2.205, 16.3, 93.7)\n",
      "(19000, 2.343, 16.6, 93.7)\n",
      "(29000, 2.255, 17.3, 93.6)\n",
      "(39000, 2.267, 19.1, 93.7)\n",
      "(49000, 2.193, 17.5, 93.7)\n",
      "(59000, 2.193, 16.3, 93.7)\n",
      "(69000, 2.247, 16.6, 93.6)\n",
      "(79000, 2.191, 18.6, 93.7)\n",
      "(89000, 2.488, 27.4, 93.8)\n",
      "(99000, 2.376, 21.8, 93.8)\n",
      "(109000, 2.328, 21.7, 93.8)\n",
      "(119000, 2.44, 24.5, 93.9)\n",
      "(129000, 2.323, 29.7, 94.0)\n",
      "(139000, 2.404, 68.4, 97.2)\n",
      "(149000, 2.223, 34.6, 97.2)\n",
      "(159000, 2.324, 37.7, 93.8)\n",
      "(169000, 2.231, 24.9, 94.1)\n",
      "(179000, 2.214, 46.5, 94.0)\n",
      "(189000, 2.416, 21.9, 93.1)\n",
      "(199000, 2.129, 34.3, 94.5)\n",
      "(209000, 2.198, 23.3, 93.5)\n",
      "(219000, 2.227, 27.3, 93.5)\n",
      "(229000, 2.292, 19.2, 92.9)\n",
      "(239000, 2.32, 18.6, 92.7)\n",
      "(249000, 2.354, 19.7, 92.8)\n",
      "(259000, 2.281, 18.2, 92.7)\n",
      "(269000, 2.378, 18.8, 92.7)\n",
      "(279000, 2.274, 36.3, 93.2)\n",
      "(289000, 2.221, 37.1, 93.3)\n",
      "(299000, 2.355, 32.0, 93.5)\n",
      "(309000, 2.238, 36.6, 93.5)\n",
      "(319000, 2.365, 23.4, 93.4)\n",
      "(329000, 2.372, 26.6, 93.4)\n",
      "(339000, 2.247, 24.3, 93.3)\n",
      "(349000, 2.205, 35.5, 93.5)\n",
      "(359000, 2.219, 33.1, 93.2)\n",
      "(369000, 2.26, 32.8, 93.3)\n",
      "(379000, 2.19, 30.5, 93.5)\n",
      "(389000, 2.243, 30.4, 93.4)\n",
      "(399000, 2.167, 30.7, 93.5)\n",
      "(409000, 2.147, 28.1, 93.4)\n",
      "(419000, 2.372, 24.2, 93.4)\n",
      "(429000, 2.477, 24.8, 93.4)\n",
      "(439000, 2.33, 26.9, 93.5)\n",
      "(449000, 2.409, 43.0, 93.4)\n",
      "(459000, 2.399, 27.0, 93.5)\n",
      "(469000, 2.356, 29.2, 93.4)\n",
      "(479000, 2.338, 31.1, 93.4)\n",
      "(489000, 2.458, 36.2, 93.6)\n",
      "(499000, 2.332, 25.3, 93.3)\n",
      "(509000, 2.318, 39.4, 93.3)\n",
      "(519000, 2.395, 34.7, 93.5)\n",
      "(529000, 2.431, 43.4, 93.4)\n",
      "(539000, 2.354, 23.1, 93.3)\n",
      "(549000, 2.333, 22.6, 93.1)\n",
      "(559000, 2.284, 25.9, 93.1)\n",
      "(569000, 2.242, 36.3, 93.3)\n",
      "(579000, 2.257, 36.6, 93.4)\n",
      "(589000, 2.435, 27.9, 93.2)\n",
      "(599000, 2.302, 33.9, 93.3)\n",
      "(609000, 2.204, 28.8, 93.3)\n",
      "(619000, 2.248, 24.3, 93.2)\n",
      "(629000, 2.393, 21.5, 93.4)\n",
      "(639000, 2.234, 33.2, 93.7)\n",
      "(649000, 2.288, 31.7, 93.8)\n",
      "(659000, 2.362, 29.0, 93.9)\n",
      "(669000, 2.297, 28.8, 93.9)\n",
      "(679000, 2.19, 32.5, 94.0)\n",
      "(689000, 2.299, 32.1, 93.9)\n",
      "(699000, 2.32, 23.3, 93.9)\n",
      "(709000, 2.276, 18.9, 93.5)\n",
      "(719000, 2.504, 24.0, 93.7)\n",
      "(729000, 2.355, 21.0, 93.6)\n",
      "(739000, 2.381, 26.3, 93.7)\n",
      "(749000, 2.256, 34.2, 93.8)\n",
      "(759000, 2.187, 40.9, 93.8)\n",
      "(769000, 2.417, 25.1, 93.6)\n",
      "(779000, 2.403, 22.5, 93.5)\n",
      "(789000, 2.218, 21.7, 93.4)\n",
      "(799000, 2.302, 18.4, 93.6)\n",
      "(809000, 2.244, 19.7, 93.6)\n",
      "(819000, 2.323, 18.7, 93.6)\n",
      "(829000, 2.338, 28.9, 93.6)\n",
      "(839000, 2.383, 27.9, 93.6)\n",
      "(849000, 2.315, 31.2, 93.3)\n",
      "(859000, 2.287, 22.6, 93.2)\n",
      "(869000, 2.171, 29.2, 93.2)\n",
      "(879000, 2.315, 35.6, 93.3)\n",
      "(889000, 2.123, 35.8, 93.5)\n",
      "(899000, 2.342, 19.3, 93.1)\n",
      "(909000, 2.195, 20.1, 93.2)\n",
      "(919000, 2.362, 18.4, 93.2)\n",
      "(929000, 2.062, 19.5, 93.2)\n",
      "(939000, 2.178, 18.3, 93.2)\n",
      "(949000, 2.283, 19.4, 93.2)\n",
      "(959000, 2.238, 18.8, 93.1)\n",
      "(969000, 2.17, 17.6, 93.1)\n",
      "(979000, 2.364, 22.5, 93.2)\n",
      "(989000, 2.308, 30.7, 93.4)\n",
      "(999000, 2.387, 20.8, 93.4)\n"
     ]
    }
   ],
   "source": [
    "registers = loadCollectionDataFrameCurrentAccount(CurrentAccount_df, 'currentaccountkeyspace')"
   ]
  },
  {
   "cell_type": "code",
   "execution_count": 156,
   "metadata": {},
   "outputs": [
    {
     "name": "stdout",
     "output_type": "stream",
     "text": [
      "../Results/Cassandra/Cassandra_Insert_ConsistencyLevel_ALL_CurrentAccount_19042022_13_34_21.csv\n"
     ]
    }
   ],
   "source": [
    "#Guardamos el caso one-to-one cassandra\n",
    "save_results_to_csv(registers,resultados_etl_CurrentAccountKeySpace,'ALL')"
   ]
  },
  {
   "cell_type": "code",
   "execution_count": 18,
   "metadata": {},
   "outputs": [
    {
     "data": {
      "text/html": [
       "<div>\n",
       "<style scoped>\n",
       "    .dataframe tbody tr th:only-of-type {\n",
       "        vertical-align: middle;\n",
       "    }\n",
       "\n",
       "    .dataframe tbody tr th {\n",
       "        vertical-align: top;\n",
       "    }\n",
       "\n",
       "    .dataframe thead th {\n",
       "        text-align: right;\n",
       "    }\n",
       "</style>\n",
       "<table border=\"1\" class=\"dataframe\">\n",
       "  <thead>\n",
       "    <tr style=\"text-align: right;\">\n",
       "      <th></th>\n",
       "      <th>AccountId</th>\n",
       "      <th>DateTime</th>\n",
       "      <th>CreditDebitIndicator</th>\n",
       "      <th>Type</th>\n",
       "      <th>Amount_Amount</th>\n",
       "      <th>Amount_Currency_Description</th>\n",
       "      <th>Amount_Currency_Code</th>\n",
       "      <th>CreditLine_Amount</th>\n",
       "      <th>CreditLine_Currency_Description</th>\n",
       "      <th>CreditLine_Currency_Code</th>\n",
       "      <th>CreditLine_Type</th>\n",
       "      <th>CreditLine_Included</th>\n",
       "    </tr>\n",
       "  </thead>\n",
       "  <tbody>\n",
       "    <tr>\n",
       "      <th>64</th>\n",
       "      <td>7603</td>\n",
       "      <td>2017-01-19 20:12:14.00</td>\n",
       "      <td>Credit</td>\n",
       "      <td>Particular</td>\n",
       "      <td>73259.854326</td>\n",
       "      <td>Est quidem repellendus dolor qui. Eos temporib...</td>\n",
       "      <td>USA</td>\n",
       "      <td>0.0</td>\n",
       "      <td>Ut cumque sint laudantium quis impedit. Qui do...</td>\n",
       "      <td>GBP</td>\n",
       "      <td>NaN</td>\n",
       "      <td>0</td>\n",
       "    </tr>\n",
       "  </tbody>\n",
       "</table>\n",
       "</div>"
      ],
      "text/plain": [
       "    AccountId                DateTime CreditDebitIndicator        Type  \\\n",
       "64       7603  2017-01-19 20:12:14.00               Credit  Particular   \n",
       "\n",
       "    Amount_Amount                        Amount_Currency_Description  \\\n",
       "64   73259.854326  Est quidem repellendus dolor qui. Eos temporib...   \n",
       "\n",
       "   Amount_Currency_Code  CreditLine_Amount  \\\n",
       "64                  USA                0.0   \n",
       "\n",
       "                      CreditLine_Currency_Description  \\\n",
       "64  Ut cumque sint laudantium quis impedit. Qui do...   \n",
       "\n",
       "   CreditLine_Currency_Code CreditLine_Type  CreditLine_Included  \n",
       "64                      GBP             NaN                    0  "
      ]
     },
     "execution_count": 18,
     "metadata": {},
     "output_type": "execute_result"
    }
   ],
   "source": [
    "PositionKeeping_df = pd.read_csv(PositionKeepingKeyspace_sample_out) #Carga Sample\n",
    "PositionKeeping_df.sample(1)"
   ]
  },
  {
   "cell_type": "code",
   "execution_count": 19,
   "metadata": {},
   "outputs": [],
   "source": [
    "for x in range(17): # Generamos un millon de registros aprox\n",
    "    PositionKeeping_df = PositionKeeping_df.append(PositionKeeping_df.sample(frac=0.60,replace = True))"
   ]
  },
  {
   "cell_type": "code",
   "execution_count": 20,
   "metadata": {},
   "outputs": [],
   "source": [
    "PositionKeeping_df = PositionKeeping_df.sample(num_documentos)"
   ]
  },
  {
   "cell_type": "code",
   "execution_count": 21,
   "metadata": {},
   "outputs": [
    {
     "name": "stdout",
     "output_type": "stream",
     "text": [
      "SELECT AccountId FROM currentaccountkeyspace.currentaccount;\n",
      "999879\n"
     ]
    }
   ],
   "source": [
    "session.execute('USE currentaccountkeyspace')\n",
    "print(\"\"\"SELECT AccountId FROM currentaccountkeyspace.currentaccount;\"\"\".format(num_documentos))\n",
    "#result = session.execute(\"\"\"SELECT AccountId FROM currentaccountkeyspace.currentaccount limit {};\"\"\".format(num_documentos))\n",
    "result = session.execute(\"\"\"SELECT AccountId FROM currentaccountkeyspace.currentaccount;\"\"\")\n",
    "list_ca = []\n",
    "for account in result:\n",
    "    list_ca.append(account[0])\n",
    "print(len(list_ca))"
   ]
  },
  {
   "cell_type": "code",
   "execution_count": 22,
   "metadata": {},
   "outputs": [
    {
     "data": {
      "text/html": [
       "<div>\n",
       "<style scoped>\n",
       "    .dataframe tbody tr th:only-of-type {\n",
       "        vertical-align: middle;\n",
       "    }\n",
       "\n",
       "    .dataframe tbody tr th {\n",
       "        vertical-align: top;\n",
       "    }\n",
       "\n",
       "    .dataframe thead th {\n",
       "        text-align: right;\n",
       "    }\n",
       "</style>\n",
       "<table border=\"1\" class=\"dataframe\">\n",
       "  <thead>\n",
       "    <tr style=\"text-align: right;\">\n",
       "      <th></th>\n",
       "      <th>AccountId</th>\n",
       "      <th>DateTime</th>\n",
       "      <th>CreditDebitIndicator</th>\n",
       "      <th>Type</th>\n",
       "      <th>Amount_Amount</th>\n",
       "      <th>Amount_Currency_Description</th>\n",
       "      <th>Amount_Currency_Code</th>\n",
       "      <th>CreditLine_Amount</th>\n",
       "      <th>CreditLine_Currency_Description</th>\n",
       "      <th>CreditLine_Currency_Code</th>\n",
       "      <th>CreditLine_Type</th>\n",
       "      <th>CreditLine_Included</th>\n",
       "    </tr>\n",
       "  </thead>\n",
       "  <tbody>\n",
       "    <tr>\n",
       "      <th>128</th>\n",
       "      <td>48b4e8ce-bfcf-11ec-b0d9-ff5473b2f02a</td>\n",
       "      <td>2007-04-15 12:35:54.00</td>\n",
       "      <td>Credit</td>\n",
       "      <td>Particular</td>\n",
       "      <td>0.0</td>\n",
       "      <td>Ut necessitatibus in iure cum et sint. Minima ...</td>\n",
       "      <td>USA</td>\n",
       "      <td>1548.881492</td>\n",
       "      <td>Est quidem repellendus dolor qui. Eos temporib...</td>\n",
       "      <td>IND</td>\n",
       "      <td>NaN</td>\n",
       "      <td>0</td>\n",
       "    </tr>\n",
       "  </tbody>\n",
       "</table>\n",
       "</div>"
      ],
      "text/plain": [
       "                                AccountId                DateTime  \\\n",
       "128  48b4e8ce-bfcf-11ec-b0d9-ff5473b2f02a  2007-04-15 12:35:54.00   \n",
       "\n",
       "    CreditDebitIndicator        Type  Amount_Amount  \\\n",
       "128               Credit  Particular            0.0   \n",
       "\n",
       "                           Amount_Currency_Description Amount_Currency_Code  \\\n",
       "128  Ut necessitatibus in iure cum et sint. Minima ...                  USA   \n",
       "\n",
       "     CreditLine_Amount                    CreditLine_Currency_Description  \\\n",
       "128        1548.881492  Est quidem repellendus dolor qui. Eos temporib...   \n",
       "\n",
       "    CreditLine_Currency_Code CreditLine_Type  CreditLine_Included  \n",
       "128                      IND             NaN                    0  "
      ]
     },
     "execution_count": 22,
     "metadata": {},
     "output_type": "execute_result"
    }
   ],
   "source": [
    "PositionKeeping_df['AccountId'] = PositionKeeping_df['AccountId'].map(lambda x: random.choice(list_ca))\n",
    "PositionKeeping_df.sample(1)"
   ]
  },
  {
   "cell_type": "code",
   "execution_count": 24,
   "metadata": {},
   "outputs": [],
   "source": [
    "batch = BatchStatement(consistency_level=ConsistencyLevel.ALL)\n",
    "\n",
    "def loadCollectionDataFramePositionKeepingBatch(df,keyspace):\n",
    "    registers = []\n",
    "    session = cluster.connect(keyspace)\n",
    "    BATCH_SIZE = 50\n",
    "    TRX_SIZE = 1000\n",
    "    iter = 0;\n",
    "    i = 1\n",
    "    time_inicial = time.time()\n",
    "    for h,item in df.iterrows(): \n",
    "        #print(item)\n",
    "        values = ( \n",
    "            str(item[0].replace(\"'\",\"\")),\n",
    "            str(item[1].replace(\"'\",\"\")),\n",
    "            str(item[2].replace(\"'\",\"\")),\n",
    "            str(item[3].replace(\"'\",\"\")),\n",
    "            item[4],\n",
    "            str(item[5].replace(\"'\",\"\")),\n",
    "            str(item[6].replace(\"'\",\"\")),\n",
    "            item[7],\n",
    "            str(item[9].replace(\"'\",\"\")),\n",
    "            'typed',\n",
    "            bool(item[11]))\n",
    "        INSERT_STMT = \"\"\"INSERT INTO PositionKeeping (\n",
    "        accountid,\n",
    "        datetime,\n",
    "        creditdebtindicator,\n",
    "        type,\n",
    "        amount_amount,\n",
    "        amount_currency_description,\n",
    "        amount_currency_code, \n",
    "        credit_line_amount, \n",
    "        credit_line_currency_code, \n",
    "        creditline_type, \n",
    "        creditline_included) \n",
    "        VALUES (%s, %s, %s, %s, %s, %s, %s, %s, %s, %s , %s);\"\"\"\n",
    "        \n",
    "        #print(INSERT_STMT)\n",
    "        batch.add(INSERT_STMT, values)\n",
    "                        \n",
    "        if(i % BATCH_SIZE == 0 and i > 0):\n",
    "            ### FIN BATCH\n",
    "            session = cluster.connect(keyspace)\n",
    "            session.execute_async(batch) \n",
    "            batch.clear()\n",
    "        if(i % TRX_SIZE == 0 and i > 0):\n",
    "            time_final = time.time()           \n",
    "            data_time_collection = round(time_final - time_inicial,3)\n",
    "            used_cpu = psutil.cpu_percent()\n",
    "            mem_used = psutil.virtual_memory().percent\n",
    "            registers.append((iter,data_time_collection,used_cpu,mem_used))  \n",
    "            if(i % 10000 == 0 and i > 0):\n",
    "                print((iter,data_time_collection,used_cpu,mem_used))\n",
    "            iter += TRX_SIZE;\n",
    "            time_inicial = time.time()\n",
    "        i = i + 1\n",
    "    return registers"
   ]
  },
  {
   "cell_type": "code",
   "execution_count": 25,
   "metadata": {},
   "outputs": [
    {
     "name": "stdout",
     "output_type": "stream",
     "text": [
      "(9000, 0.327, 87.6, 92.4)\n",
      "(19000, 0.312, 72.2, 92.4)\n",
      "(29000, 0.274, 72.2, 92.4)\n",
      "(39000, 0.269, 51.7, 92.4)\n",
      "(49000, 0.269, 51.3, 92.4)\n",
      "(59000, 0.264, 50.0, 92.3)\n",
      "(69000, 0.256, 48.2, 92.3)\n",
      "(79000, 0.256, 40.6, 92.4)\n",
      "(89000, 0.267, 51.6, 92.4)\n",
      "(99000, 0.258, 40.9, 92.4)\n",
      "(109000, 0.25, 36.5, 92.4)\n",
      "(119000, 0.258, 38.8, 92.3)\n",
      "(129000, 0.249, 44.7, 92.3)\n",
      "(139000, 0.285, 37.7, 92.2)\n",
      "(149000, 0.267, 40.3, 92.2)\n",
      "(159000, 0.276, 52.7, 92.2)\n",
      "(169000, 0.265, 42.3, 92.3)\n",
      "(179000, 0.282, 54.0, 92.3)\n",
      "(189000, 0.256, 36.2, 92.3)\n",
      "(199000, 0.256, 38.2, 92.3)\n",
      "(209000, 0.253, 36.2, 92.3)\n",
      "(219000, 0.254, 38.3, 92.1)\n",
      "(229000, 0.252, 37.7, 92.1)\n",
      "(239000, 0.254, 34.6, 92.2)\n",
      "(249000, 0.252, 43.8, 92.1)\n",
      "(259000, 0.251, 41.3, 92.1)\n",
      "(269000, 0.242, 40.5, 92.2)\n",
      "(279000, 0.253, 36.6, 92.2)\n",
      "(289000, 0.245, 38.0, 92.2)\n",
      "(299000, 0.25, 38.4, 92.2)\n",
      "(309000, 0.29, 36.9, 92.2)\n",
      "(319000, 0.296, 38.3, 92.2)\n",
      "(329000, 0.266, 37.3, 92.2)\n",
      "(339000, 0.26, 39.2, 92.2)\n",
      "(349000, 0.261, 37.3, 92.2)\n",
      "(359000, 0.258, 36.6, 92.2)\n",
      "(369000, 0.253, 34.3, 92.2)\n",
      "(379000, 0.257, 45.4, 92.2)\n",
      "(389000, 0.277, 45.0, 92.2)\n",
      "(399000, 0.255, 37.0, 92.2)\n",
      "(409000, 0.251, 38.6, 92.2)\n",
      "(419000, 0.253, 36.8, 92.2)\n",
      "(429000, 0.251, 37.6, 92.2)\n",
      "(439000, 0.246, 40.0, 92.2)\n",
      "(449000, 0.291, 46.9, 92.2)\n",
      "(459000, 0.248, 38.3, 92.2)\n",
      "(469000, 0.246, 37.4, 92.2)\n",
      "(479000, 0.242, 39.7, 92.6)\n",
      "(489000, 0.286, 35.0, 92.6)\n",
      "(499000, 0.264, 44.3, 92.5)\n",
      "(509000, 0.256, 37.6, 92.5)\n",
      "(519000, 0.255, 39.2, 92.5)\n",
      "(529000, 0.261, 36.2, 92.5)\n",
      "(539000, 0.255, 38.7, 92.6)\n",
      "(549000, 0.256, 36.6, 92.5)\n",
      "(559000, 0.265, 46.6, 92.4)\n",
      "(569000, 0.253, 41.5, 92.5)\n",
      "(579000, 0.254, 41.1, 92.6)\n",
      "(589000, 0.252, 40.1, 92.5)\n",
      "(599000, 0.253, 44.7, 92.5)\n",
      "(609000, 0.27, 47.6, 92.5)\n",
      "(619000, 0.25, 36.0, 92.5)\n",
      "(629000, 0.247, 35.3, 92.5)\n",
      "(639000, 0.246, 36.3, 92.5)\n",
      "(649000, 0.249, 38.3, 92.5)\n",
      "(659000, 0.249, 39.1, 92.5)\n",
      "(669000, 0.288, 37.1, 92.5)\n",
      "(679000, 0.277, 45.2, 92.5)\n",
      "(689000, 0.258, 34.8, 92.5)\n",
      "(699000, 0.259, 37.8, 92.5)\n",
      "(709000, 0.256, 37.2, 92.5)\n",
      "(719000, 0.295, 46.3, 92.5)\n",
      "(729000, 0.255, 35.6, 92.5)\n",
      "(739000, 0.251, 37.5, 92.5)\n",
      "(749000, 0.269, 43.6, 92.5)\n",
      "(759000, 0.253, 37.9, 92.5)\n",
      "(769000, 0.26, 35.5, 92.5)\n",
      "(779000, 0.253, 39.9, 92.5)\n",
      "(789000, 0.244, 37.8, 92.5)\n",
      "(799000, 0.248, 38.0, 92.5)\n",
      "(809000, 0.254, 49.3, 92.5)\n",
      "(819000, 0.244, 39.1, 92.6)\n",
      "(829000, 0.253, 38.2, 92.6)\n",
      "(839000, 0.283, 38.2, 92.6)\n",
      "(849000, 0.289, 37.3, 92.6)\n",
      "(859000, 0.298, 35.2, 92.6)\n",
      "(869000, 0.261, 39.7, 92.6)\n",
      "(879000, 0.273, 43.8, 92.6)\n",
      "(889000, 0.264, 36.7, 92.6)\n",
      "(899000, 0.256, 39.9, 92.6)\n",
      "(909000, 0.256, 37.9, 92.6)\n",
      "(919000, 0.259, 40.4, 92.6)\n",
      "(929000, 0.256, 37.1, 92.6)\n",
      "(939000, 0.265, 37.2, 92.5)\n",
      "(949000, 0.248, 38.1, 92.5)\n",
      "(959000, 0.251, 38.0, 92.5)\n",
      "(969000, 0.251, 36.7, 92.5)\n",
      "(979000, 0.248, 38.6, 92.5)\n",
      "(989000, 0.245, 34.6, 92.4)\n",
      "(999000, 0.251, 35.8, 92.6)\n"
     ]
    }
   ],
   "source": [
    "def f(x):\n",
    "    try:\n",
    "        return np.float(x)\n",
    "    except:\n",
    "        return np.nan\n",
    "    \n",
    "#PositionKeeping_df.fillna(0, inplace=True)\n",
    "\n",
    "PositionKeeping_df[\"CreditLine_Amount\"] = PositionKeeping_df[\"CreditLine_Amount\"].apply(f)\n",
    "PositionKeeping_df[\"Amount_Amount\"] = PositionKeeping_df[\"Amount_Amount\"].apply(f)\n",
    "\n",
    "\n",
    "session = cluster.connect('positionkeepingkeyspace')\n",
    "session.execute('TRUNCATE TABLE positionkeeping;')\n",
    "registers = loadCollectionDataFramePositionKeepingBatch(PositionKeeping_df, 'positionkeepingkeyspace')"
   ]
  },
  {
   "cell_type": "code",
   "execution_count": 26,
   "metadata": {},
   "outputs": [
    {
     "name": "stdout",
     "output_type": "stream",
     "text": [
      "../Results/Cassandra/Cassandra_Insert_ConsistencyLevel_ALL_PositionKeeping_20042022_11_44_56.csv\n"
     ]
    }
   ],
   "source": [
    "#Guardamos el caso one-to-one cassandra\n",
    "save_results_to_csv(registers,resultados_etl_PositionKeepingKeySpace,'ALL')"
   ]
  }
 ],
 "metadata": {
  "kernelspec": {
   "display_name": "Python 3",
   "language": "python",
   "name": "python3"
  },
  "language_info": {
   "codemirror_mode": {
    "name": "ipython",
    "version": 3
   },
   "file_extension": ".py",
   "mimetype": "text/x-python",
   "name": "python",
   "nbconvert_exporter": "python",
   "pygments_lexer": "ipython3",
   "version": "3.7.6"
  }
 },
 "nbformat": 4,
 "nbformat_minor": 4
}
