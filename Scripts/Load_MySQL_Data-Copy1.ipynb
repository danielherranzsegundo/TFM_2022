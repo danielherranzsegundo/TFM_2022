{
 "cells": [
  {
   "cell_type": "markdown",
   "metadata": {},
   "source": [
    "Script de carga datos MySQL en cluster con Mongo"
   ]
  },
  {
   "cell_type": "code",
   "execution_count": 1,
   "metadata": {},
   "outputs": [
    {
     "name": "stdout",
     "output_type": "stream",
     "text": [
      "Requirement already satisfied: mysql-connector==2.1.7 in /home/danielherranzsegundo/anaconda3/lib/python3.7/site-packages (2.1.7)\n",
      "Requirement already satisfied: pandas in /home/danielherranzsegundo/anaconda3/lib/python3.7/site-packages (1.0.1)\n",
      "Requirement already satisfied: python-dateutil>=2.6.1 in /home/danielherranzsegundo/anaconda3/lib/python3.7/site-packages (from pandas) (2.8.1)\n",
      "Requirement already satisfied: pytz>=2017.2 in /home/danielherranzsegundo/anaconda3/lib/python3.7/site-packages (from pandas) (2019.3)\n",
      "Requirement already satisfied: numpy>=1.13.3 in /home/danielherranzsegundo/anaconda3/lib/python3.7/site-packages (from pandas) (1.18.1)\n",
      "Requirement already satisfied: six>=1.5 in /home/danielherranzsegundo/anaconda3/lib/python3.7/site-packages (from python-dateutil>=2.6.1->pandas) (1.14.0)\n",
      "Requirement already satisfied: sqlalchemy in /home/danielherranzsegundo/anaconda3/lib/python3.7/site-packages (1.3.13)\n",
      "Requirement already satisfied: mysqlclient in /home/danielherranzsegundo/anaconda3/lib/python3.7/site-packages (2.1.0)\n",
      "Requirement already satisfied: numpy in /home/danielherranzsegundo/anaconda3/lib/python3.7/site-packages (1.18.1)\n",
      "Requirement already satisfied: pymysql in /home/danielherranzsegundo/anaconda3/lib/python3.7/site-packages (1.0.2)\n"
     ]
    }
   ],
   "source": [
    "!pip install mysql-connector==2.1.7\n",
    "!pip install pandas\n",
    "!pip install sqlalchemy\n",
    "#requiere instalación adicional, consultar https://github.com/PyMySQL/mysqlclient\n",
    "!pip install mysqlclient\n",
    "!pip install numpy\n",
    "!pip install pymysql"
   ]
  },
  {
   "cell_type": "code",
   "execution_count": 2,
   "metadata": {},
   "outputs": [],
   "source": [
    "import mysql.connector\n",
    "from mysql.connector import Error\n",
    "import pandas as pd\n",
    "import numpy as np\n",
    "import sqlalchemy\n",
    "import time\n",
    "import matplotlib.pyplot as plt\n",
    "import psutil\n",
    "import random\n",
    "\n",
    "from mysql.connector.cursor import MySQLCursor"
   ]
  },
  {
   "cell_type": "code",
   "execution_count": 3,
   "metadata": {},
   "outputs": [],
   "source": [
    "#Los resultados de medidas de tiempo en carga por dominios se almacenan en estos objetos.\n",
    "#Se itera durante \"repeticiones\" o iteraciones para sacar medias\n",
    "repeats = 100 #100 = 1M de registros"
   ]
  },
  {
   "cell_type": "code",
   "execution_count": 4,
   "metadata": {},
   "outputs": [],
   "source": [
    "#Ficheros de salida\n",
    "resultados_etl_CutomerProfileSchema = '../Results/MySQL/MySQLCustomerProfileSchema_{}.csv'\n",
    "resultados_etl_PositionKeepingSchema = '../Results/MySQL/MySQLresultsPositionKeepingSchema_{}.csv'\n",
    "resultados_etl_CurrentAccountSchema = '../Results/MySQL/MySQLCurrentAccountSchema_{}.csv'"
   ]
  },
  {
   "cell_type": "code",
   "execution_count": 5,
   "metadata": {},
   "outputs": [],
   "source": [
    "def save_results_to_csv(results,file):\n",
    "    #Guardamos los resultados en csv\n",
    "    from datetime import datetime\n",
    "    dia = datetime.now().strftime(\"%d%m%Y_%H_%M_%S\") \n",
    "    data = results\n",
    "    results_df = pd.DataFrame(data, columns =['Registros', 'Tiempo', 'CPU','Memoria'])\n",
    "    results.to_csv(file.format(write_concerns, str(dia)))\n"
   ]
  },
  {
   "cell_type": "code",
   "execution_count": 6,
   "metadata": {},
   "outputs": [],
   "source": [
    "#Borrado de la tabla antes de carga \n",
    "def prepare_table_for_load(entity):\n",
    "    cursor = conn.cursor\n",
    "    alter_table_q = 'ALTER TABLE {} AUTO_INCREMENT=0'.format(entity)\n",
    "    delete_table_q = 'DELETE FROM {}'.format(entity)\n",
    "    cursor.execute(alter_table_q)\n",
    "    cursor.execute(delete_table_q)\n",
    "    conn.commit()"
   ]
  },
  {
   "cell_type": "code",
   "execution_count": 7,
   "metadata": {},
   "outputs": [],
   "source": [
    "#Deshabilitar y habilitar Foreing key (cargas masivas)\n",
    "def set_foreing_key_mysql_value(value):\n",
    "    cursor = conn.cursor()\n",
    "    cursor.execute('SET foreign_key_checks = {}'.format(value))\n",
    "    cursor.close()"
   ]
  },
  {
   "cell_type": "code",
   "execution_count": 8,
   "metadata": {},
   "outputs": [
    {
     "name": "stdout",
     "output_type": "stream",
     "text": [
      "Connected to MySQL database\n"
     ]
    }
   ],
   "source": [
    "conn = mysql.connector.connect(host='localhost',\n",
    "                                    port=6446,\n",
    "                                    database='CustomerProfileDomainSchema',\n",
    "                                    user='root',                                       \n",
    "                                    password='mysql')\n",
    "if conn.is_connected():\n",
    "        conn.autocommit = False #Apenas se observa diferencia de rendimiento\n",
    "        print('Connected to MySQL database')\n",
    "    \n",
    "cursor = conn.cursor()  \n",
    "    \n",
    "def connection_open():\n",
    "   \n",
    "    #InnoDB Cluster\n",
    "    conn = mysql.connector.connect(host='localhost',\n",
    "                                    port=6446,\n",
    "                                    database='CustomerProfileDomainSchema',\n",
    "                                    user='root',                                       \n",
    "                                    password='mysql')\n",
    "\n",
    "\n",
    "    if conn.is_connected():\n",
    "        conn.autocommit = False #Apenas se observa diferencia de rendimiento\n",
    "        print('Connected to MySQL database')\n",
    "    \n",
    "    cursor = conn.cursor()  "
   ]
  },
  {
   "cell_type": "code",
   "execution_count": 9,
   "metadata": {},
   "outputs": [
    {
     "data": {
      "text/plain": [
       "True"
      ]
     },
     "execution_count": 9,
     "metadata": {},
     "output_type": "execute_result"
    }
   ],
   "source": [
    "cursor = conn.cursor(buffered=True)\n",
    "cursor.execute('set global group_replication_transaction_size_limit = 300000000;')\n",
    "cursor.close()"
   ]
  },
  {
   "cell_type": "markdown",
   "metadata": {},
   "source": [
    "# CustomerProfileDomainSchema"
   ]
  },
  {
   "cell_type": "code",
   "execution_count": 20,
   "metadata": {},
   "outputs": [],
   "source": [
    "CustomerProfile_csv_file = \"../MockData/CustomerProfile.csv\"\n",
    "Address_csv_file = \"../MockData/Address.csv\"\n",
    "Country_csv_file = \"../MockData/Country.csv\""
   ]
  },
  {
   "cell_type": "code",
   "execution_count": 21,
   "metadata": {},
   "outputs": [
    {
     "data": {
      "text/html": [
       "<div>\n",
       "<style scoped>\n",
       "    .dataframe tbody tr th:only-of-type {\n",
       "        vertical-align: middle;\n",
       "    }\n",
       "\n",
       "    .dataframe tbody tr th {\n",
       "        vertical-align: top;\n",
       "    }\n",
       "\n",
       "    .dataframe thead th {\n",
       "        text-align: right;\n",
       "    }\n",
       "</style>\n",
       "<table border=\"1\" class=\"dataframe\">\n",
       "  <thead>\n",
       "    <tr style=\"text-align: right;\">\n",
       "      <th></th>\n",
       "      <th>CountryId</th>\n",
       "      <th>ShortName</th>\n",
       "      <th>Description</th>\n",
       "      <th>Code</th>\n",
       "      <th>Unnamed: 4</th>\n",
       "    </tr>\n",
       "  </thead>\n",
       "  <tbody>\n",
       "    <tr>\n",
       "      <th>0</th>\n",
       "      <td>1</td>\n",
       "      <td>Spain</td>\n",
       "      <td>Omnis dolore id dicta consequatur sit omnis. E...</td>\n",
       "      <td>IND</td>\n",
       "      <td>NaN</td>\n",
       "    </tr>\n",
       "    <tr>\n",
       "      <th>1</th>\n",
       "      <td>2</td>\n",
       "      <td>USA</td>\n",
       "      <td>Id dolorem a soluta harum iusto qui repellat. ...</td>\n",
       "      <td>GBP</td>\n",
       "      <td>NaN</td>\n",
       "    </tr>\n",
       "    <tr>\n",
       "      <th>2</th>\n",
       "      <td>3</td>\n",
       "      <td>Greatbrit</td>\n",
       "      <td>Aut sapiente dicta illo consectetur nulla labo...</td>\n",
       "      <td>SPA</td>\n",
       "      <td>NaN</td>\n",
       "    </tr>\n",
       "  </tbody>\n",
       "</table>\n",
       "</div>"
      ],
      "text/plain": [
       "   CountryId  ShortName                                        Description  \\\n",
       "0          1      Spain  Omnis dolore id dicta consequatur sit omnis. E...   \n",
       "1          2        USA  Id dolorem a soluta harum iusto qui repellat. ...   \n",
       "2          3  Greatbrit  Aut sapiente dicta illo consectetur nulla labo...   \n",
       "\n",
       "  Code  Unnamed: 4  \n",
       "0  IND         NaN  \n",
       "1  GBP         NaN  \n",
       "2  SPA         NaN  "
      ]
     },
     "execution_count": 21,
     "metadata": {},
     "output_type": "execute_result"
    }
   ],
   "source": [
    "Country_df = pd.read_csv(Country_csv_file, header=[0])\n",
    "Country_df['Code'] = Country_df[\"Code\"]\n",
    "Country_df"
   ]
  },
  {
   "cell_type": "code",
   "execution_count": 22,
   "metadata": {},
   "outputs": [
    {
     "name": "stdout",
     "output_type": "stream",
     "text": [
      "12611\n"
     ]
    },
    {
     "data": {
      "text/html": [
       "<div>\n",
       "<style scoped>\n",
       "    .dataframe tbody tr th:only-of-type {\n",
       "        vertical-align: middle;\n",
       "    }\n",
       "\n",
       "    .dataframe tbody tr th {\n",
       "        vertical-align: top;\n",
       "    }\n",
       "\n",
       "    .dataframe thead th {\n",
       "        text-align: right;\n",
       "    }\n",
       "</style>\n",
       "<table border=\"1\" class=\"dataframe\">\n",
       "  <thead>\n",
       "    <tr style=\"text-align: right;\">\n",
       "      <th></th>\n",
       "      <th>PartyId</th>\n",
       "      <th>AddressType</th>\n",
       "      <th>AddressLine</th>\n",
       "      <th>StreetName</th>\n",
       "      <th>BuildingNumber</th>\n",
       "      <th>PostCode</th>\n",
       "      <th>TownName</th>\n",
       "      <th>CountrySubDivision</th>\n",
       "      <th>CountryId</th>\n",
       "    </tr>\n",
       "  </thead>\n",
       "  <tbody>\n",
       "    <tr>\n",
       "      <th>217</th>\n",
       "      <td>6796</td>\n",
       "      <td>Lak</td>\n",
       "      <td>5737 Miller Lights</td>\n",
       "      <td>Kuvalis Burgs</td>\n",
       "      <td>721</td>\n",
       "      <td>02128</td>\n",
       "      <td>Ankundingview</td>\n",
       "      <td>def</td>\n",
       "      <td>2</td>\n",
       "    </tr>\n",
       "  </tbody>\n",
       "</table>\n",
       "</div>"
      ],
      "text/plain": [
       "     PartyId AddressType         AddressLine     StreetName  BuildingNumber  \\\n",
       "217     6796         Lak  5737 Miller Lights  Kuvalis Burgs             721   \n",
       "\n",
       "    PostCode       TownName CountrySubDivision  CountryId  \n",
       "217    02128  Ankundingview                def          2  "
      ]
     },
     "execution_count": 22,
     "metadata": {},
     "output_type": "execute_result"
    }
   ],
   "source": [
    "#TRATAMIENTO ENTIDAD ADDRESS\n",
    "Address_df = pd.read_csv(Address_csv_file, header=[0])\n",
    "\n",
    "del(Address_df['Unnamed: 9'])\n",
    "Address_df['AddressType'] = Address_df[\"AddressType\"].str[:3]\n",
    "CountrySubDivisionList=['abc','def','hig']\n",
    "Address_df['CountrySubDivision'] = np.resize(CountrySubDivisionList,len(Address_df))\n",
    "\n",
    "Address_df['PostCode'] = Address_df['PostCode'].astype('string')\n",
    "Address_df['CountrySubDivision'] = Address_df['CountrySubDivision'].astype('string')\n",
    "\n",
    "#Generamos una función mas de 1M de registros basados en registros anteriores\n",
    "def generate_new_values_by_samples(df,rango):\n",
    "    for x in range(rango):\n",
    "        df = df.append(df.sample(frac=0.50,replace = False))\n",
    "    return df\n",
    "\n",
    "\n",
    "Address_df = generate_new_values_by_samples(Address_df,9)\n",
    "\n",
    "print(len(Address_df))\n",
    "Address_df.sample(1)"
   ]
  },
  {
   "cell_type": "code",
   "execution_count": 23,
   "metadata": {},
   "outputs": [
    {
     "name": "stdout",
     "output_type": "stream",
     "text": [
      "10000\n"
     ]
    },
    {
     "data": {
      "text/html": [
       "<div>\n",
       "<style scoped>\n",
       "    .dataframe tbody tr th:only-of-type {\n",
       "        vertical-align: middle;\n",
       "    }\n",
       "\n",
       "    .dataframe tbody tr th {\n",
       "        vertical-align: top;\n",
       "    }\n",
       "\n",
       "    .dataframe thead th {\n",
       "        text-align: right;\n",
       "    }\n",
       "</style>\n",
       "<table border=\"1\" class=\"dataframe\">\n",
       "  <thead>\n",
       "    <tr style=\"text-align: right;\">\n",
       "      <th></th>\n",
       "      <th>PartyId</th>\n",
       "      <th>PartyNumber</th>\n",
       "      <th>PartyType</th>\n",
       "      <th>Name</th>\n",
       "      <th>FullLegalName</th>\n",
       "      <th>LegalStructure</th>\n",
       "      <th>BeneficialOwnership</th>\n",
       "      <th>AccountRole</th>\n",
       "      <th>EmailAddress</th>\n",
       "      <th>Phone</th>\n",
       "      <th>Unnamed: 10</th>\n",
       "    </tr>\n",
       "  </thead>\n",
       "  <tbody>\n",
       "    <tr>\n",
       "      <th>7355</th>\n",
       "      <td>7355</td>\n",
       "      <td>61328.0</td>\n",
       "      <td>so</td>\n",
       "      <td>Heidi</td>\n",
       "      <td>Lowell Friesen</td>\n",
       "      <td>Prof.</td>\n",
       "      <td>6</td>\n",
       "      <td>DE.OBIE.Principal</td>\n",
       "      <td>hwatsica@example.com</td>\n",
       "      <td>1-700-214-</td>\n",
       "      <td>NaN</td>\n",
       "    </tr>\n",
       "  </tbody>\n",
       "</table>\n",
       "</div>"
      ],
      "text/plain": [
       "      PartyId  PartyNumber PartyType   Name   FullLegalName LegalStructure  \\\n",
       "7355     7355      61328.0        so  Heidi  Lowell Friesen          Prof.   \n",
       "\n",
       "      BeneficialOwnership        AccountRole          EmailAddress  \\\n",
       "7355                    6  DE.OBIE.Principal  hwatsica@example.com   \n",
       "\n",
       "           Phone  Unnamed: 10  \n",
       "7355  1-700-214-          NaN  "
      ]
     },
     "execution_count": 23,
     "metadata": {},
     "output_type": "execute_result"
    }
   ],
   "source": [
    "#TRATAMIENTO ENTIDAD CUSTOMER PROFILE\n",
    "\n",
    "CustomerProfile_df = pd.read_csv(CustomerProfile_csv_file, header=[0])\n",
    "\n",
    "#Indexado PartyId para mejor legibilidad\n",
    "CustomerProfile_df['PartyId'].reset_index()\n",
    "CustomerProfile_df['PartyId'] = CustomerProfile_df.index\n",
    "CustomerProfile_df[CustomerProfile_df.columns[pd.Series(CustomerProfile_df.columns).str.startswith('Unnamed:')]]\n",
    "\n",
    "#Limpieza de datos. Eliminamos el apostrofe del campo AccountRole y PartyType\n",
    "CustomerProfile_df['AccountRole'] = CustomerProfile_df['AccountRole'].str.replace(\"'\",'')\n",
    "CustomerProfile_df['PartyType'] = CustomerProfile_df['PartyType'].str.replace(\"'\",'')\n",
    "\n",
    "#Phone y PArtyData debe ser truncado (error generacion FillDB)\n",
    "CustomerProfile_df['Phone'] = CustomerProfile_df[\"Phone\"].str[:10]\n",
    "CustomerProfile_df['PartyType'] = CustomerProfile_df[\"PartyType\"].str[:2]\n",
    "BeneficialOwnerShipValues=[1,2,3,4,5,6,7]\n",
    "CustomerProfile_df['BeneficialOwnership'] = np.resize(BeneficialOwnerShipValues,len(CustomerProfile_df))\n",
    "\n",
    "print(len(CustomerProfile_df))\n",
    "CustomerProfile_df.sample(1)"
   ]
  },
  {
   "cell_type": "markdown",
   "metadata": {},
   "source": [
    "## ETL entidad country"
   ]
  },
  {
   "cell_type": "code",
   "execution_count": null,
   "metadata": {},
   "outputs": [],
   "source": [
    "Country_ETL_times = []"
   ]
  },
  {
   "cell_type": "code",
   "execution_count": null,
   "metadata": {},
   "outputs": [],
   "source": [
    "Country_Insert_query = 'INSERT INTO Country(ShortName,Description,Code) VALUES(%s, %s, %s)'\n",
    "\n",
    "def load_country():\n",
    "    time_inicial = time.time()\n",
    "    for i,row in Country_df.iterrows():\n",
    "        cursor = conn.cursor()\n",
    "        cursor.execute(Country_Insert_query,(row[1],row[2],row[3])) \n",
    "        cursor.close()\n",
    "    time_final = time.time()\n",
    "    Country_ETL_times.append(time_final - time_inicial)\n",
    "    conn.commit() \n",
    "    return Country_ETL_times "
   ]
  },
  {
   "cell_type": "code",
   "execution_count": null,
   "metadata": {},
   "outputs": [],
   "source": [
    "cursor = conn.cursor()\n",
    "alter_table_q = \"\"\"ALTER TABLE Country AUTO_INCREMENT=0\"\"\"\n",
    "delete_table_q = \"\"\"DELETE FROM Country\"\"\"\n",
    "cursor.execute(alter_table_q)\n",
    "cursor.execute(delete_table_q)\n",
    "conn.commit()"
   ]
  },
  {
   "cell_type": "code",
   "execution_count": null,
   "metadata": {},
   "outputs": [],
   "source": [
    "cursor = conn.cursor()  \n",
    "load_country()\n",
    "conn.commit()"
   ]
  },
  {
   "cell_type": "code",
   "execution_count": null,
   "metadata": {},
   "outputs": [],
   "source": [
    "print(\"MAX:\" , max(Country_ETL_times), 'seg')\n",
    "print(\"MIN:\" , min(Country_ETL_times), 'seg')\n",
    "print(\"AVG:\" , np.average(Country_ETL_times), 'seg')"
   ]
  },
  {
   "cell_type": "markdown",
   "metadata": {},
   "source": [
    "## ETL entidad CustomerProfile"
   ]
  },
  {
   "cell_type": "code",
   "execution_count": null,
   "metadata": {},
   "outputs": [],
   "source": [
    "CoustomerProfile_ETL_times = []"
   ]
  },
  {
   "cell_type": "code",
   "execution_count": null,
   "metadata": {},
   "outputs": [],
   "source": [
    "#Preparamos un dataset solo con los values a cargar en la insercción\n",
    "CustomerProfile_sql_df = CustomerProfile_df[['PartyId','PartyNumber', 'PartyType', 'Name', 'FullLegalName','LegalStructure', 'BeneficialOwnership', 'AccountRole', 'EmailAddress','Phone']]\n",
    "CustomerProfile_df.reset_index(drop=True, inplace=True)"
   ]
  },
  {
   "cell_type": "markdown",
   "metadata": {},
   "source": [
    "## ETL entidad Address"
   ]
  },
  {
   "cell_type": "code",
   "execution_count": null,
   "metadata": {},
   "outputs": [],
   "source": [
    "Address_ETL_times = []"
   ]
  },
  {
   "cell_type": "code",
   "execution_count": null,
   "metadata": {},
   "outputs": [],
   "source": [
    "Address_df.columns"
   ]
  },
  {
   "cell_type": "code",
   "execution_count": null,
   "metadata": {},
   "outputs": [],
   "source": [
    "Address_sql_df = Address_df[['PartyId', 'AddressType', 'AddressLine', 'StreetName', 'BuildingNumber',       'PostCode', 'TownName', 'CountrySubDivision', 'CountryId']]\n",
    "Address_sql_df.reset_index(drop=True, inplace=True)\n",
    "Address_sql_df.to_records()\n",
    "Address_sql_df.columns"
   ]
  },
  {
   "cell_type": "markdown",
   "metadata": {},
   "source": [
    "# Batch dominio CustomerProfile Load"
   ]
  },
  {
   "cell_type": "code",
   "execution_count": null,
   "metadata": {},
   "outputs": [],
   "source": [
    "set_foreing_key_mysql_value(0)\n",
    "print(\"Desabilitadas las comprobaciones de foreing key (simulacion batch)\")"
   ]
  },
  {
   "cell_type": "code",
   "execution_count": null,
   "metadata": {},
   "outputs": [],
   "source": [
    "#Borramos las tablas para proceder a la carga\n",
    "cursor = conn.cursor()\n",
    "cursor.execute('ALTER TABLE CustomerProfileDomainSchema.Address AUTO_INCREMENT=0')\n",
    "conn.commit()\n",
    "cursor.execute('DELETE FROM CustomerProfileDomainSchema.Address')\n",
    "conn.commit()\n",
    "cursor.execute('ALTER TABLE CustomerProfileDomainSchema.CustomerProfile AUTO_INCREMENT=0')\n",
    "conn.commit()\n",
    "cursor.execute('DELETE FROM CustomerProfileDomainSchema.CustomerProfile')\n",
    "conn.commit()\n",
    "cursor.close()"
   ]
  },
  {
   "cell_type": "code",
   "execution_count": null,
   "metadata": {},
   "outputs": [],
   "source": [
    "#Resultados transaccion batch de CurrentDomainSchema\n",
    "Total_CurrentDomainSchema = []\n",
    "\n",
    "insert_query_customer = \"\"\"INSERT INTO CustomerProfile(PartyNumber,PartyType,Name,FullLegalName,LegalStructure,BeneficialOwnership,AccountRole,EmailAddress,Phone) VALUES(\"%s\", \"%s\", \"%s\", \"%s\", \"%s\", \"%s\", \"%s\", \"%s\", \"%s\")\"\"\"\n",
    "insert_query_address = \"\"\"INSERT INTO Address (PartyId, AddressType, AddressLine, StreetName, BuildingNumber, PostCode, TownName, CountrySubDivision, CountryId) VALUES (%s, %s, %s, %s, %s, %s, %s, %s, %s)\"\"\"\n",
    "\n",
    "registers = []\n",
    "trx_solo = []\n",
    "total_time = 0\n",
    "Address_inserted = 0\n",
    "time_inicial = time.time()\n",
    "\n",
    "for iteracion in range(0,repeats): #1 millones de registros\n",
    "    for i,row in CustomerProfile_df.iterrows():        \n",
    "        #Obtenemos 1 a 3 direcciones al azar\n",
    "        Address_rd_df = Address_df.sample(random.choice(range(1,3)))               \n",
    "        #Guardamos el cliente\n",
    "        trx_inicio = time.time()\n",
    "        cursor = conn.cursor()\n",
    "        cursor.execute(insert_query_customer,(row[1],row[2],row[3],row[4],row[5],row[6],row[7],row[8],row[9])) \n",
    "        cursor.close()\n",
    "        for j,rowAddress in Address_rd_df.iterrows():            \n",
    "            #Por cada cliente guardamos 1-3 direcciones al azar\n",
    "            cursor = conn.cursor()\n",
    "            cursor.execute(insert_query_address,(rowAddress[0],rowAddress[1],rowAddress[2],rowAddress[3],rowAddress[4],rowAddress[5],rowAddress[6],rowAddress[7],rowAddress[8]))\n",
    "            cursor.close()\n",
    "            Address_inserted = Address_inserted + 1\n",
    "        trx_parcial = time.time()-trx_inicio\n",
    "        trx_solo.append(trx_parcial)\n",
    "        if(i % 1000 == 0 and i > 0):\n",
    "            conn.commit()\n",
    "            used_cpu = psutil.cpu_percent()\n",
    "            mem_used = psutil.virtual_memory().percent\n",
    "            # Tupla con numero de registros, tiempo parcial de la transacción y tiempo acumulado de trxs\n",
    "            total_time = total_time + trx_parcial # Acumulamos el parcial\n",
    "            registers.append(((i + (len(CustomerProfile_df) * iteracion)),total_time * 1000,used_cpu, mem_used ))       \n",
    "total_time_final = time.time() - time_inicial           \n",
    "conn.commit() # Final y salida"
   ]
  },
  {
   "cell_type": "code",
   "execution_count": null,
   "metadata": {},
   "outputs": [],
   "source": [
    "set_foreing_key_mysql_value(1)\n",
    "print(\"Habilitadas las comprobaciones de foreing key\")"
   ]
  },
  {
   "cell_type": "code",
   "execution_count": null,
   "metadata": {},
   "outputs": [],
   "source": [
    "#Guardamos los resultados Customer Profile\n",
    "save_results_to_csv(registers,resultados_etl_CutomerProfileSchema)"
   ]
  },
  {
   "cell_type": "code",
   "execution_count": null,
   "metadata": {
    "scrolled": true
   },
   "outputs": [],
   "source": [
    "plt.plot(*zip(*registers))\n",
    "plt.title(\"MySQL # ETL CustomerProfileDomainSchema#\")\n",
    "plt.xlabel(\"Insercciones\")\n",
    "plt.ylabel(\"Tiempo(s)\")\n",
    "plt.axhline(round(np.average(trx_solo)*100,2), color='r', linestyle='--',label='Media ejecución Trx.')\n",
    "plt.show()"
   ]
  },
  {
   "cell_type": "markdown",
   "metadata": {},
   "source": [
    " _________________________________________________________________"
   ]
  },
  {
   "cell_type": "markdown",
   "metadata": {},
   "source": [
    "# Batch dominio CurrentAccountDomainSchema Load"
   ]
  },
  {
   "cell_type": "code",
   "execution_count": 24,
   "metadata": {},
   "outputs": [],
   "source": [
    "CurrentAccount_csv_file = \"../MockData/CurrentAccount.csv\"\n",
    "AccountInfo_csv_file = \"../MockData/AccountInfo.csv\""
   ]
  },
  {
   "cell_type": "code",
   "execution_count": 25,
   "metadata": {},
   "outputs": [
    {
     "data": {
      "text/html": [
       "<div>\n",
       "<style scoped>\n",
       "    .dataframe tbody tr th:only-of-type {\n",
       "        vertical-align: middle;\n",
       "    }\n",
       "\n",
       "    .dataframe tbody tr th {\n",
       "        vertical-align: top;\n",
       "    }\n",
       "\n",
       "    .dataframe thead th {\n",
       "        text-align: right;\n",
       "    }\n",
       "</style>\n",
       "<table border=\"1\" class=\"dataframe\">\n",
       "  <thead>\n",
       "    <tr style=\"text-align: right;\">\n",
       "      <th></th>\n",
       "      <th>AccountId</th>\n",
       "      <th>PartyId</th>\n",
       "      <th>Status</th>\n",
       "      <th>StatusUpdateDateTime</th>\n",
       "      <th>AccountType</th>\n",
       "      <th>NickName</th>\n",
       "      <th>OpeningDate</th>\n",
       "      <th>AccountSubType</th>\n",
       "    </tr>\n",
       "  </thead>\n",
       "  <tbody>\n",
       "    <tr>\n",
       "      <th>6535</th>\n",
       "      <td>6536</td>\n",
       "      <td>6536</td>\n",
       "      <td>Disabled</td>\n",
       "      <td>2008-08-04 08:08:06.00</td>\n",
       "      <td>Business</td>\n",
       "      <td>strategize end-to-end e-commerce</td>\n",
       "      <td>2006-12-14 16:36:37.00</td>\n",
       "      <td>EDP</td>\n",
       "    </tr>\n",
       "  </tbody>\n",
       "</table>\n",
       "</div>"
      ],
      "text/plain": [
       "      AccountId  PartyId    Status    StatusUpdateDateTime AccountType  \\\n",
       "6535       6536     6536  Disabled  2008-08-04 08:08:06.00    Business   \n",
       "\n",
       "                              NickName             OpeningDate AccountSubType  \n",
       "6535  strategize end-to-end e-commerce  2006-12-14 16:36:37.00            EDP  "
      ]
     },
     "execution_count": 25,
     "metadata": {},
     "output_type": "execute_result"
    }
   ],
   "source": [
    "CurrentAccount_df = pd.read_csv(CurrentAccount_csv_file, header=[0])\n",
    "del(CurrentAccount_df['Unnamed: 8'])\n",
    "CurrentAccount_df['Status'] = CurrentAccount_df['Status'].str.replace(\"'\",'')\n",
    "CurrentAccount_df['AccountType'] = CurrentAccount_df['AccountType'].str.replace(\"'\",'')\n",
    "CurrentAccount_df['AccountSubType'] = CurrentAccount_df['AccountSubType'].str.replace(\"'\",'')\n",
    "CurrentAccount_df.sample(1)"
   ]
  },
  {
   "cell_type": "code",
   "execution_count": 26,
   "metadata": {},
   "outputs": [
    {
     "data": {
      "text/html": [
       "<div>\n",
       "<style scoped>\n",
       "    .dataframe tbody tr th:only-of-type {\n",
       "        vertical-align: middle;\n",
       "    }\n",
       "\n",
       "    .dataframe tbody tr th {\n",
       "        vertical-align: top;\n",
       "    }\n",
       "\n",
       "    .dataframe thead th {\n",
       "        text-align: right;\n",
       "    }\n",
       "</style>\n",
       "<table border=\"1\" class=\"dataframe\">\n",
       "  <thead>\n",
       "    <tr style=\"text-align: right;\">\n",
       "      <th></th>\n",
       "      <th>AccountInfoId</th>\n",
       "      <th>AccountId</th>\n",
       "      <th>SchemeName</th>\n",
       "      <th>Identification</th>\n",
       "      <th>Name</th>\n",
       "    </tr>\n",
       "  </thead>\n",
       "  <tbody>\n",
       "    <tr>\n",
       "      <th>8010</th>\n",
       "      <td>8011</td>\n",
       "      <td>8011</td>\n",
       "      <td>ES.OBIE.SortCodeAccountNumber</td>\n",
       "      <td>Mortgage</td>\n",
       "      <td>Green-Nitzsche</td>\n",
       "    </tr>\n",
       "    <tr>\n",
       "      <th>2367</th>\n",
       "      <td>2368</td>\n",
       "      <td>2368</td>\n",
       "      <td>ES.OBIE.SortCodeAccountNumber</td>\n",
       "      <td>Loan</td>\n",
       "      <td>Bergnaum and Sons</td>\n",
       "    </tr>\n",
       "    <tr>\n",
       "      <th>5091</th>\n",
       "      <td>5092</td>\n",
       "      <td>5092</td>\n",
       "      <td>ES.OBIE.SortCodeAccountNumber</td>\n",
       "      <td>Loan</td>\n",
       "      <td>Purdy, Klein and Botsford</td>\n",
       "    </tr>\n",
       "    <tr>\n",
       "      <th>9697</th>\n",
       "      <td>9698</td>\n",
       "      <td>9698</td>\n",
       "      <td>UK.OBIE.ExternalccountNumber</td>\n",
       "      <td>Money Market</td>\n",
       "      <td>Abshire-Altenwerth</td>\n",
       "    </tr>\n",
       "    <tr>\n",
       "      <th>6070</th>\n",
       "      <td>6071</td>\n",
       "      <td>6071</td>\n",
       "      <td>UK.OBIE.ExternalccountNumber</td>\n",
       "      <td>Mortgage</td>\n",
       "      <td>Goodwin-Zieme</td>\n",
       "    </tr>\n",
       "  </tbody>\n",
       "</table>\n",
       "</div>"
      ],
      "text/plain": [
       "      AccountInfoId  AccountId                     SchemeName Identification  \\\n",
       "8010           8011       8011  ES.OBIE.SortCodeAccountNumber       Mortgage   \n",
       "2367           2368       2368  ES.OBIE.SortCodeAccountNumber           Loan   \n",
       "5091           5092       5092  ES.OBIE.SortCodeAccountNumber           Loan   \n",
       "9697           9698       9698   UK.OBIE.ExternalccountNumber   Money Market   \n",
       "6070           6071       6071   UK.OBIE.ExternalccountNumber       Mortgage   \n",
       "\n",
       "                           Name  \n",
       "8010             Green-Nitzsche  \n",
       "2367          Bergnaum and Sons  \n",
       "5091  Purdy, Klein and Botsford  \n",
       "9697         Abshire-Altenwerth  \n",
       "6070              Goodwin-Zieme  "
      ]
     },
     "execution_count": 26,
     "metadata": {},
     "output_type": "execute_result"
    }
   ],
   "source": [
    "AccountInfo_df = pd.read_csv(AccountInfo_csv_file, header=[0])\n",
    "del(AccountInfo_df['Unnamed: 5'])\n",
    "AccountInfo_df['SchemeName'] = AccountInfo_df['SchemeName'].str.replace(\"'\",'')\n",
    "SchemeNameList=['ES.OBIE.SortCodeAccountNumber','UK.OBIE.ExternalccountNumber','ES.OBIE.ExternalAccountNumber']\n",
    "AccountInfo_df['SchemeName'] = np.resize(SchemeNameList,len(AccountInfo_df))\n",
    "\n",
    "IdentificationList=['Investment','Money Market','Mortgage','Loan']\n",
    "AccountInfo_df['Identification'] = np.resize(IdentificationList,len(AccountInfo_df))\n",
    "\n",
    "AccountInfo_df.sample(5)"
   ]
  },
  {
   "cell_type": "code",
   "execution_count": null,
   "metadata": {},
   "outputs": [],
   "source": [
    "#Borramos las tablas para proceder a la carga\n",
    "cursor = conn.cursor()\n",
    "cursor.execute('ALTER TABLE CurrentAccountDomainSchema.CurrentAccount AUTO_INCREMENT=0')\n",
    "cursor.execute('DELETE FROM CurrentAccountDomainSchema.CurrentAccount')\n",
    "cursor.execute('ALTER TABLE CurrentAccountDomainSchema.CurrentAccount ALTER AccountId SET DEFAULT 0')\n",
    "cursor.execute('ALTER TABLE CurrentAccountDomainSchema.AccountInfo AUTO_INCREMENT=0')\n",
    "cursor.execute('DELETE FROM CurrentAccountDomainSchema.AccountInfo')\n",
    "cursor.close()\n",
    "conn.commit()"
   ]
  },
  {
   "cell_type": "code",
   "execution_count": null,
   "metadata": {},
   "outputs": [],
   "source": [
    "set_foreing_key_mysql_value(0)\n",
    "print(\"Desabilitadas las comprobaciones de foreing key (simulacion batch)\")"
   ]
  },
  {
   "cell_type": "code",
   "execution_count": null,
   "metadata": {},
   "outputs": [],
   "source": [
    "#Resultados transaccion batch de CurrentAccountDomainSchema\n",
    "Total_AccountDomainSchema = []\n",
    "\n",
    "insert_query_accounts = \"\"\"INSERT INTO CurrentAccountDomainSchema.CurrentAccount (PartyId, Status, StatusUpdateDateTime, AccountType, NickName, OpeningDate, AccountSubType) VALUES (%s, %s, %s, %s, %s, %s, %s)\"\"\"\n",
    "insert_query_info = \"\"\"INSERT INTO CurrentAccountDomainSchema.AccountInfo (AccountId, SchemeName, Identification, Name) VALUES (%s, %s, %s, %s)\"\"\"\n",
    "\n",
    "registers = []\n",
    "trx_solo = []\n",
    "total_time = 0\n",
    "Info_inserted = 0\n",
    "time_inicial = time.time()\n",
    "\n",
    "for iteracion in range(0,repeats): #1 millones de registros\n",
    "    for i,row in CurrentAccount_df.iterrows():        \n",
    "        cursor = conn.cursor()\n",
    "        #Obtenemos 1 a 3 infoAccounts\n",
    "        Info_rd_df = AccountInfo_df.sample(random.choice(range(1,3)))               \n",
    "        #Guardamos el cliente\n",
    "        trx_inicio = time.time()\n",
    "        cursor.execute(insert_query_accounts,(row[1],row[2],row[3],row[4],row[5],row[6],row[7]))\n",
    "        for j,rowInfo in Info_rd_df.iterrows():  \n",
    "            #Por cada cliente guardamos 1-3 direcciones al azar\n",
    "            cursor.execute(insert_query_info,(rowInfo[1],rowInfo[2],rowInfo[3],rowInfo[4]))\n",
    "            Address_inserted = Info_inserted + 1\n",
    "        cursor.close()\n",
    "        trx_parcial = time.time()-trx_inicio\n",
    "        trx_solo.append(trx_parcial)\n",
    "        if(i % 1000 == 0 and i > 0):\n",
    "            conn.commit()\n",
    "            used_cpu = psutil.cpu_percent()\n",
    "            mem_used = psutil.virtual_memory().percent\n",
    "            # Tupla con numero de registros, tiempo parcial de la transacción y tiempo acumulado de trxs\n",
    "            total_time = total_time + trx_parcial # Acumulamos el parcial\n",
    "            registers.append(((i + (len(CurrentAccount_df) * iteracion)),total_time * 1000,used_cpu,mem_used ))       \n",
    "total_time_final = time.time() - time_inicial           \n",
    "conn.commit() # Final y salida"
   ]
  },
  {
   "cell_type": "code",
   "execution_count": null,
   "metadata": {},
   "outputs": [],
   "source": [
    "set_foreing_key_mysql_value(1)\n",
    "print(\"Habilitadas las comprobaciones de foreing key\")"
   ]
  },
  {
   "cell_type": "code",
   "execution_count": null,
   "metadata": {},
   "outputs": [],
   "source": [
    "## Tratamiento de resultados\n",
    "results_AccountDomainSchema = list(zip(*registers))\n",
    "print(\"ROWS INSERTED:\", len(CurrentAccount_df) + Address_inserted, ' Total rows')\n",
    "print(\"TOTAL TIME:\" , round(total_time_final,2), 'seg')\n",
    "print(\"MAX:\" , round(max(trx_solo)*100,2), 'seg')\n",
    "print(\"MIN:\" , round(min(trx_solo)*100,2), 'seg')\n",
    "print(\"AVG:\" , round(np.average(trx_solo)*100,2), 'seg')"
   ]
  },
  {
   "cell_type": "code",
   "execution_count": null,
   "metadata": {},
   "outputs": [],
   "source": [
    "plt.plot(*zip(*registers))\n",
    "plt.title(\"MySQL # ETL CurrentAccountDomainSchema\")\n",
    "plt.xlabel(\"Insercciones\")\n",
    "plt.ylabel(\"Tiempo(s)\")\n",
    "plt.axhline(np.average(results_AccountDomainSchema[1]), color='r', linestyle='--',label='Media ejecución Trx.')\n",
    "plt.show()"
   ]
  },
  {
   "cell_type": "code",
   "execution_count": null,
   "metadata": {},
   "outputs": [],
   "source": [
    "#Guardamos los resultados Customer Profile\n",
    "save_results_to_csv(registers,resultados_etl_CurrentAccountSchema)"
   ]
  },
  {
   "cell_type": "markdown",
   "metadata": {},
   "source": [
    " _________________________________________________________________"
   ]
  },
  {
   "cell_type": "markdown",
   "metadata": {},
   "source": [
    "# Batch dominio PositionKeepingDomainSchema Load"
   ]
  },
  {
   "cell_type": "code",
   "execution_count": 10,
   "metadata": {},
   "outputs": [],
   "source": [
    "Currency_csv_file = \"../MockData/Currency.csv\"\n",
    "PositionKeeping_csv_file = \"../MockData/PositionKeeping.csv\"\n",
    "CreditLine_csv_file = \"../MockData/CreditLine.csv\"\n",
    "Amount_csv_file = \"../MockData/Amount.csv\""
   ]
  },
  {
   "cell_type": "code",
   "execution_count": 11,
   "metadata": {},
   "outputs": [
    {
     "data": {
      "text/html": [
       "<div>\n",
       "<style scoped>\n",
       "    .dataframe tbody tr th:only-of-type {\n",
       "        vertical-align: middle;\n",
       "    }\n",
       "\n",
       "    .dataframe tbody tr th {\n",
       "        vertical-align: top;\n",
       "    }\n",
       "\n",
       "    .dataframe thead th {\n",
       "        text-align: right;\n",
       "    }\n",
       "</style>\n",
       "<table border=\"1\" class=\"dataframe\">\n",
       "  <thead>\n",
       "    <tr style=\"text-align: right;\">\n",
       "      <th></th>\n",
       "      <th>CurrencyId</th>\n",
       "      <th>Code</th>\n",
       "      <th>Description</th>\n",
       "    </tr>\n",
       "  </thead>\n",
       "  <tbody>\n",
       "    <tr>\n",
       "      <th>1</th>\n",
       "      <td>2</td>\n",
       "      <td>GBP</td>\n",
       "      <td>Ut cumque sint laudantium quis impedit. Qui do...</td>\n",
       "    </tr>\n",
       "  </tbody>\n",
       "</table>\n",
       "</div>"
      ],
      "text/plain": [
       "   CurrencyId Code                                        Description\n",
       "1           2  GBP  Ut cumque sint laudantium quis impedit. Qui do..."
      ]
     },
     "execution_count": 11,
     "metadata": {},
     "output_type": "execute_result"
    }
   ],
   "source": [
    "Currency_df = pd.read_csv(Currency_csv_file, header=[0])\n",
    "del(Currency_df['Unnamed: 3'])\n",
    "Currency_df.sample(1)"
   ]
  },
  {
   "cell_type": "code",
   "execution_count": 12,
   "metadata": {},
   "outputs": [
    {
     "data": {
      "text/html": [
       "<div>\n",
       "<style scoped>\n",
       "    .dataframe tbody tr th:only-of-type {\n",
       "        vertical-align: middle;\n",
       "    }\n",
       "\n",
       "    .dataframe tbody tr th {\n",
       "        vertical-align: top;\n",
       "    }\n",
       "\n",
       "    .dataframe thead th {\n",
       "        text-align: right;\n",
       "    }\n",
       "</style>\n",
       "<table border=\"1\" class=\"dataframe\">\n",
       "  <thead>\n",
       "    <tr style=\"text-align: right;\">\n",
       "      <th></th>\n",
       "      <th>CreditLineId</th>\n",
       "      <th>CurrencyId</th>\n",
       "      <th>Amount</th>\n",
       "      <th>Type</th>\n",
       "      <th>Included</th>\n",
       "      <th>Unnamed: 5</th>\n",
       "    </tr>\n",
       "  </thead>\n",
       "  <tbody>\n",
       "    <tr>\n",
       "      <th>6824</th>\n",
       "      <td>6825</td>\n",
       "      <td>1</td>\n",
       "      <td>379866.088663</td>\n",
       "      <td>'InterimBooked'</td>\n",
       "      <td>0</td>\n",
       "      <td>NaN</td>\n",
       "    </tr>\n",
       "  </tbody>\n",
       "</table>\n",
       "</div>"
      ],
      "text/plain": [
       "      CreditLineId  CurrencyId         Amount             Type  Included  \\\n",
       "6824          6825           1  379866.088663  'InterimBooked'         0   \n",
       "\n",
       "      Unnamed: 5  \n",
       "6824         NaN  "
      ]
     },
     "execution_count": 12,
     "metadata": {},
     "output_type": "execute_result"
    }
   ],
   "source": [
    "#Credit line\n",
    "CreditLine_df = pd.read_csv(CreditLine_csv_file, header=[0])\n",
    "CreditLine_df.sample(1)"
   ]
  },
  {
   "cell_type": "code",
   "execution_count": 13,
   "metadata": {},
   "outputs": [
    {
     "data": {
      "text/html": [
       "<div>\n",
       "<style scoped>\n",
       "    .dataframe tbody tr th:only-of-type {\n",
       "        vertical-align: middle;\n",
       "    }\n",
       "\n",
       "    .dataframe tbody tr th {\n",
       "        vertical-align: top;\n",
       "    }\n",
       "\n",
       "    .dataframe thead th {\n",
       "        text-align: right;\n",
       "    }\n",
       "</style>\n",
       "<table border=\"1\" class=\"dataframe\">\n",
       "  <thead>\n",
       "    <tr style=\"text-align: right;\">\n",
       "      <th></th>\n",
       "      <th>AmountId</th>\n",
       "      <th>CurrencyId</th>\n",
       "      <th>Amount</th>\n",
       "    </tr>\n",
       "  </thead>\n",
       "  <tbody>\n",
       "    <tr>\n",
       "      <th>4333</th>\n",
       "      <td>4334</td>\n",
       "      <td>2</td>\n",
       "      <td>76</td>\n",
       "    </tr>\n",
       "  </tbody>\n",
       "</table>\n",
       "</div>"
      ],
      "text/plain": [
       "      AmountId  CurrencyId  Amount\n",
       "4333      4334           2      76"
      ]
     },
     "execution_count": 13,
     "metadata": {},
     "output_type": "execute_result"
    }
   ],
   "source": [
    "# Debito (Amount)\n",
    "Amount_df = pd.read_csv(Amount_csv_file, header=[0])\n",
    "del(Amount_df['Unnamed: 3'])\n",
    "Amount_df['Amount'] = Amount_df['Amount'].astype('int')\n",
    "Amount_df.sample(1)"
   ]
  },
  {
   "cell_type": "code",
   "execution_count": 14,
   "metadata": {},
   "outputs": [
    {
     "data": {
      "text/html": [
       "<div>\n",
       "<style scoped>\n",
       "    .dataframe tbody tr th:only-of-type {\n",
       "        vertical-align: middle;\n",
       "    }\n",
       "\n",
       "    .dataframe tbody tr th {\n",
       "        vertical-align: top;\n",
       "    }\n",
       "\n",
       "    .dataframe thead th {\n",
       "        text-align: right;\n",
       "    }\n",
       "</style>\n",
       "<table border=\"1\" class=\"dataframe\">\n",
       "  <thead>\n",
       "    <tr style=\"text-align: right;\">\n",
       "      <th></th>\n",
       "      <th>AccountId</th>\n",
       "      <th>DateTime</th>\n",
       "      <th>CreditDebitIndicator</th>\n",
       "      <th>Type</th>\n",
       "      <th>AmountId</th>\n",
       "      <th>CreditLineId</th>\n",
       "    </tr>\n",
       "  </thead>\n",
       "  <tbody>\n",
       "    <tr>\n",
       "      <th>761</th>\n",
       "      <td>4074</td>\n",
       "      <td>2004-08-06 16:31:18.00</td>\n",
       "      <td>Debit</td>\n",
       "      <td>Particular</td>\n",
       "      <td>1370</td>\n",
       "      <td>4074</td>\n",
       "    </tr>\n",
       "  </tbody>\n",
       "</table>\n",
       "</div>"
      ],
      "text/plain": [
       "     AccountId                DateTime CreditDebitIndicator        Type  \\\n",
       "761       4074  2004-08-06 16:31:18.00                Debit  Particular   \n",
       "\n",
       "     AmountId  CreditLineId  \n",
       "761      1370          4074  "
      ]
     },
     "execution_count": 14,
     "metadata": {},
     "output_type": "execute_result"
    }
   ],
   "source": [
    "PositionKeeping_df = pd.read_csv(PositionKeeping_csv_file, header=[0])\n",
    "del(PositionKeeping_df['Unnamed: 6'])\n",
    "PositionKeeping_df['CreditDebitIndicator'] = PositionKeeping_df['CreditDebitIndicator'].str.replace(\"'\",'')\n",
    "PositionKeeping_df['Type'] = PositionKeeping_df['Type'].str.replace(\"'\",'')\n",
    "PositionKeeping_df.sample(1)"
   ]
  },
  {
   "cell_type": "code",
   "execution_count": 15,
   "metadata": {},
   "outputs": [
    {
     "data": {
      "text/html": [
       "<div>\n",
       "<style scoped>\n",
       "    .dataframe tbody tr th:only-of-type {\n",
       "        vertical-align: middle;\n",
       "    }\n",
       "\n",
       "    .dataframe tbody tr th {\n",
       "        vertical-align: top;\n",
       "    }\n",
       "\n",
       "    .dataframe thead th {\n",
       "        text-align: right;\n",
       "    }\n",
       "</style>\n",
       "<table border=\"1\" class=\"dataframe\">\n",
       "  <thead>\n",
       "    <tr style=\"text-align: right;\">\n",
       "      <th></th>\n",
       "      <th>CreditLineId</th>\n",
       "      <th>CurrencyId</th>\n",
       "      <th>Amount</th>\n",
       "      <th>Type</th>\n",
       "      <th>Included</th>\n",
       "    </tr>\n",
       "  </thead>\n",
       "  <tbody>\n",
       "    <tr>\n",
       "      <th>4347</th>\n",
       "      <td>4348</td>\n",
       "      <td>4</td>\n",
       "      <td>287.336756</td>\n",
       "      <td>InterimBooked</td>\n",
       "      <td>0</td>\n",
       "    </tr>\n",
       "  </tbody>\n",
       "</table>\n",
       "</div>"
      ],
      "text/plain": [
       "      CreditLineId  CurrencyId      Amount           Type  Included\n",
       "4347          4348           4  287.336756  InterimBooked         0"
      ]
     },
     "execution_count": 15,
     "metadata": {},
     "output_type": "execute_result"
    }
   ],
   "source": [
    "del(CreditLine_df['Unnamed: 5'])\n",
    "CreditLine_df['Type'] = CreditLine_df['Type'].str.replace(\"'\",'')\n",
    "CreditLine_df.sample(1)"
   ]
  },
  {
   "cell_type": "code",
   "execution_count": 16,
   "metadata": {},
   "outputs": [],
   "source": [
    "#Borramos las tablas para proceder a la carga\n",
    "cursor = conn.cursor()\n",
    "cursor.execute('ALTER TABLE PositionKeepingDomainSchema.Currency AUTO_INCREMENT=0')\n",
    "cursor.execute('DELETE FROM PositionKeepingDomainSchema.Currency')\n",
    "cursor.execute('ALTER TABLE PositionKeepingDomainSchema.PositionKeeping AUTO_INCREMENT=0')\n",
    "cursor.execute('DELETE FROM PositionKeepingDomainSchema.PositionKeeping')\n",
    "cursor.execute('ALTER TABLE PositionKeepingDomainSchema.CreditLine AUTO_INCREMENT=0')\n",
    "cursor.execute('DELETE FROM PositionKeepingDomainSchema.CreditLine')\n",
    "cursor.execute('ALTER TABLE PositionKeepingDomainSchema.CreditLine ALTER Included SET DEFAULT 0')\n",
    "cursor.execute('ALTER TABLE PositionKeepingDomainSchema.Amount AUTO_INCREMENT=0')\n",
    "cursor.execute('DELETE FROM PositionKeepingDomainSchema.Amount')\n",
    "conn.commit()"
   ]
  },
  {
   "cell_type": "code",
   "execution_count": 17,
   "metadata": {},
   "outputs": [
    {
     "name": "stdout",
     "output_type": "stream",
     "text": [
      "Desabilitadas las comprobaciones de foreing key (simulacion batch)\n"
     ]
    }
   ],
   "source": [
    "set_foreing_key_mysql_value(0)\n",
    "print(\"Desabilitadas las comprobaciones de foreing key (simulacion batch)\")"
   ]
  },
  {
   "cell_type": "code",
   "execution_count": 18,
   "metadata": {},
   "outputs": [],
   "source": [
    "for i,row in Currency_df.iterrows():\n",
    "    insert_query = \"INSERT INTO PositionKeepingDomainSchema.Currency (Code, Description) VALUES (%s, %s)\"    \n",
    "    cursor.execute(insert_query,(row[1],row[2]))"
   ]
  },
  {
   "cell_type": "code",
   "execution_count": 27,
   "metadata": {},
   "outputs": [
    {
     "data": {
      "text/plain": [
       "1000000"
      ]
     },
     "execution_count": 27,
     "metadata": {},
     "output_type": "execute_result"
    }
   ],
   "source": [
    "TotalAccounts = len(CurrentAccount_df) * repeats\n",
    "TotalAccounts"
   ]
  },
  {
   "cell_type": "code",
   "execution_count": 28,
   "metadata": {},
   "outputs": [],
   "source": [
    "#Completamos tantas position Keeping como cuentas (no se puede repetir id)\n",
    "for x in range(20):\n",
    "    PositionKeeping_df = PositionKeeping_df.append(PositionKeeping_df.sample(frac=0.50,replace = True))\n",
    "\n"
   ]
  },
  {
   "cell_type": "code",
   "execution_count": 29,
   "metadata": {},
   "outputs": [
    {
     "data": {
      "text/plain": [
       "1000000"
      ]
     },
     "execution_count": 29,
     "metadata": {},
     "output_type": "execute_result"
    }
   ],
   "source": [
    "PositionKeeping_df = PositionKeeping_df.sample(TotalAccounts)\n",
    "len(PositionKeeping_df)"
   ]
  },
  {
   "cell_type": "code",
   "execution_count": 30,
   "metadata": {},
   "outputs": [],
   "source": [
    "PositionKeeping_df.index = range(0, len(PositionKeeping_df))\n",
    "PositionKeeping_df['AccountId'] = range(0, len(PositionKeeping_df))\n",
    "PositionKeeping_df = PositionKeeping_df[0:TotalAccounts]"
   ]
  },
  {
   "cell_type": "code",
   "execution_count": 31,
   "metadata": {},
   "outputs": [],
   "source": [
    "#Resultados transaccion batch de CurrentDomainSchema\n",
    "Total_PositionKeepingDomainSchema = []\n",
    "\n",
    "insert_query_creditLine = \"\"\"INSERT INTO PositionKeepingDomainSchema.CreditLine (CurrencyId, Amount, Type) VALUES (%s, %s, %s)\"\"\"\n",
    "insert_query_amount = \"\"\"INSERT INTO PositionKeepingDomainSchema.Amount (CurrencyId, Amount) VALUES (%s, %s)\"\"\"\n",
    "insert_query_positionKeeping = \"\"\"INSERT INTO PositionKeepingDomainSchema.PositionKeeping (AccountId, DateTime, CreditDebitIndicator, Type, AmountId, CreditLineId) VALUES (%s, %s, %s, %s, %s, %s)\"\"\"\n",
    "\n",
    "registers = []\n",
    "trx_solo = []\n",
    "total_time = 0\n",
    "Info_inserted_amount = 0\n",
    "Info_inserted_creditline = 0\n",
    "time_inicial = time.time()\n",
    "\n",
    "for iteracion in range(0,1): #1 millones de registros como fuente origen\n",
    "    for i,row in PositionKeeping_df.iterrows():        \n",
    "        cursor = conn.cursor()\n",
    "        trx_inicio = time.time()\n",
    "        #Guardamos amount\n",
    "        for j,rowAM in Amount_df.sample(1).iterrows():\n",
    "            #print(rowAM)\n",
    "            cursor.execute(insert_query_amount,(int(rowAM[1]), int(rowAM[2])))\n",
    "        #Guardamos creditLine\n",
    "        for h,rowCL in CreditLine_df.sample(1).iterrows():\n",
    "            #print(rowCL)\n",
    "            cursor.execute(insert_query_creditLine,(rowCL[1],rowCL[2],rowCL[3]))        \n",
    "        #Guardamos PositionKeeping\n",
    "        #print(row)\n",
    "        cursor.execute(insert_query_positionKeeping,(row[0],row[1],row[2],row[3],row[0],row[0]))                                          \n",
    "        cursor.close()\n",
    "        Info_inserted_amount = Info_inserted_amount + 1\n",
    "        Info_inserted_creditline = Info_inserted_creditline + 1\n",
    "        \n",
    "        trx_parcial = time.time()-trx_inicio\n",
    "        trx_solo.append(trx_parcial)\n",
    "        if(i % 5 == 0 and i > 0):\n",
    "            conn.commit()        \n",
    "            # Tupla con numero de registros, tiempo parcial de la transacción y tiempo acumulado de trxs\n",
    "            total_time = total_time + trx_parcial # Acumulamos el parcial\n",
    "            used_cpu = psutil.cpu_percent()\n",
    "            mem_used = psutil.virtual_memory().percent\n",
    "            registers.append(((i + (len(PositionKeeping_df) * iteracion)),total_time * 1000,used_cpu, mem_used ))       \n",
    "total_time_final = time.time() - time_inicial           \n",
    "conn.commit() # Final y salida"
   ]
  },
  {
   "cell_type": "code",
   "execution_count": 32,
   "metadata": {},
   "outputs": [
    {
     "name": "stdout",
     "output_type": "stream",
     "text": [
      "Habilitadas las comprobaciones de foreing key\n"
     ]
    }
   ],
   "source": [
    "set_foreing_key_mysql_value(1)\n",
    "print(\"Habilitadas las comprobaciones de foreing key\")"
   ]
  },
  {
   "cell_type": "code",
   "execution_count": 33,
   "metadata": {},
   "outputs": [
    {
     "name": "stdout",
     "output_type": "stream",
     "text": [
      "ROWS INSERTED: 3000000  Total rows\n",
      "TOTAL TIME: 7465.89 seg\n",
      "MAX: 7.49 seg\n",
      "MIN: 0.15 seg\n",
      "AVG: 0.42 seg\n"
     ]
    }
   ],
   "source": [
    "## Tratamiento de resultados\n",
    "results_AccountDomainSchema = list(zip(*registers))\n",
    "print(\"ROWS INSERTED:\", len(PositionKeeping_df) + Info_inserted_amount + Info_inserted_creditline, ' Total rows')\n",
    "print(\"TOTAL TIME:\" , round(total_time_final,2), 'seg')\n",
    "print(\"MAX:\" , round(max(trx_solo)*100,2), 'seg')\n",
    "print(\"MIN:\" , round(min(trx_solo)*100,2), 'seg')\n",
    "print(\"AVG:\" , round(np.average(trx_solo)*100,2), 'seg')"
   ]
  },
  {
   "cell_type": "code",
   "execution_count": 34,
   "metadata": {},
   "outputs": [
    {
     "ename": "AttributeError",
     "evalue": "'list' object has no attribute 'to_csv'",
     "output_type": "error",
     "traceback": [
      "\u001b[0;31m---------------------------------------------------------------------------\u001b[0m",
      "\u001b[0;31mAttributeError\u001b[0m                            Traceback (most recent call last)",
      "\u001b[0;32m<ipython-input-34-f5ef45b01339>\u001b[0m in \u001b[0;36m<module>\u001b[0;34m\u001b[0m\n\u001b[1;32m      1\u001b[0m \u001b[0;31m#Guardamos los resultados Customer Profile\u001b[0m\u001b[0;34m\u001b[0m\u001b[0;34m\u001b[0m\u001b[0;34m\u001b[0m\u001b[0m\n\u001b[0;32m----> 2\u001b[0;31m \u001b[0msave_results_to_csv\u001b[0m\u001b[0;34m(\u001b[0m\u001b[0mregisters\u001b[0m\u001b[0;34m,\u001b[0m\u001b[0mresultados_etl_PositionKeepingSchema\u001b[0m\u001b[0;34m)\u001b[0m\u001b[0;34m\u001b[0m\u001b[0;34m\u001b[0m\u001b[0m\n\u001b[0m",
      "\u001b[0;32m<ipython-input-5-c14df2ede4b1>\u001b[0m in \u001b[0;36msave_results_to_csv\u001b[0;34m(results, file)\u001b[0m\n\u001b[1;32m      5\u001b[0m     \u001b[0mdata\u001b[0m \u001b[0;34m=\u001b[0m \u001b[0mresults\u001b[0m\u001b[0;34m\u001b[0m\u001b[0;34m\u001b[0m\u001b[0m\n\u001b[1;32m      6\u001b[0m     \u001b[0mresults_df\u001b[0m \u001b[0;34m=\u001b[0m \u001b[0mpd\u001b[0m\u001b[0;34m.\u001b[0m\u001b[0mDataFrame\u001b[0m\u001b[0;34m(\u001b[0m\u001b[0mdata\u001b[0m\u001b[0;34m,\u001b[0m \u001b[0mcolumns\u001b[0m \u001b[0;34m=\u001b[0m\u001b[0;34m[\u001b[0m\u001b[0;34m'Registros'\u001b[0m\u001b[0;34m,\u001b[0m \u001b[0;34m'Tiempo'\u001b[0m\u001b[0;34m,\u001b[0m \u001b[0;34m'CPU'\u001b[0m\u001b[0;34m,\u001b[0m\u001b[0;34m'Memoria'\u001b[0m\u001b[0;34m]\u001b[0m\u001b[0;34m)\u001b[0m\u001b[0;34m\u001b[0m\u001b[0;34m\u001b[0m\u001b[0m\n\u001b[0;32m----> 7\u001b[0;31m     \u001b[0mresults\u001b[0m\u001b[0;34m.\u001b[0m\u001b[0mto_csv\u001b[0m\u001b[0;34m(\u001b[0m\u001b[0mfile\u001b[0m\u001b[0;34m.\u001b[0m\u001b[0mformat\u001b[0m\u001b[0;34m(\u001b[0m\u001b[0mwrite_concerns\u001b[0m\u001b[0;34m,\u001b[0m \u001b[0mstr\u001b[0m\u001b[0;34m(\u001b[0m\u001b[0mdia\u001b[0m\u001b[0;34m)\u001b[0m\u001b[0;34m)\u001b[0m\u001b[0;34m)\u001b[0m\u001b[0;34m\u001b[0m\u001b[0;34m\u001b[0m\u001b[0m\n\u001b[0m",
      "\u001b[0;31mAttributeError\u001b[0m: 'list' object has no attribute 'to_csv'"
     ]
    }
   ],
   "source": [
    "#Guardamos los resultados Customer Profile\n",
    "save_results_to_csv(registers,resultados_etl_PositionKeepingSchema)"
   ]
  },
  {
   "cell_type": "code",
   "execution_count": null,
   "metadata": {},
   "outputs": [],
   "source": [
    "conn.close()\n",
    "print('Conexion cerrada')"
   ]
  }
 ],
 "metadata": {
  "kernelspec": {
   "display_name": "Python 3",
   "language": "python",
   "name": "python3"
  },
  "language_info": {
   "codemirror_mode": {
    "name": "ipython",
    "version": 3
   },
   "file_extension": ".py",
   "mimetype": "text/x-python",
   "name": "python",
   "nbconvert_exporter": "python",
   "pygments_lexer": "ipython3",
   "version": "3.7.6"
  }
 },
 "nbformat": 4,
 "nbformat_minor": 4
}
