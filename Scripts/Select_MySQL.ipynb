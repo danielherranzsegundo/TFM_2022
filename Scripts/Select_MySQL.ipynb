{
 "cells": [
  {
   "cell_type": "markdown",
   "metadata": {},
   "source": [
    "Script de select datos MySQL en cluster multidomain"
   ]
  },
  {
   "cell_type": "code",
   "execution_count": 50,
   "metadata": {},
   "outputs": [
    {
     "name": "stdout",
     "output_type": "stream",
     "text": [
      "Requirement already satisfied: mysql-connector==2.1.7 in /home/danielherranzsegundo/anaconda3/lib/python3.7/site-packages (2.1.7)\n",
      "Requirement already satisfied: pandas in /home/danielherranzsegundo/anaconda3/lib/python3.7/site-packages (1.0.1)\n",
      "Requirement already satisfied: numpy>=1.13.3 in /home/danielherranzsegundo/anaconda3/lib/python3.7/site-packages (from pandas) (1.18.1)\n",
      "Requirement already satisfied: python-dateutil>=2.6.1 in /home/danielherranzsegundo/anaconda3/lib/python3.7/site-packages (from pandas) (2.8.1)\n",
      "Requirement already satisfied: pytz>=2017.2 in /home/danielherranzsegundo/anaconda3/lib/python3.7/site-packages (from pandas) (2019.3)\n",
      "Requirement already satisfied: six>=1.5 in /home/danielherranzsegundo/anaconda3/lib/python3.7/site-packages (from python-dateutil>=2.6.1->pandas) (1.14.0)\n",
      "Requirement already satisfied: sqlalchemy in /home/danielherranzsegundo/anaconda3/lib/python3.7/site-packages (1.3.13)\n",
      "Requirement already satisfied: mysqlclient in /home/danielherranzsegundo/anaconda3/lib/python3.7/site-packages (2.1.0)\n",
      "Requirement already satisfied: numpy in /home/danielherranzsegundo/anaconda3/lib/python3.7/site-packages (1.18.1)\n",
      "Requirement already satisfied: pymysql in /home/danielherranzsegundo/anaconda3/lib/python3.7/site-packages (1.0.2)\n"
     ]
    }
   ],
   "source": [
    "!pip install mysql-connector==2.1.7\n",
    "!pip install pandas\n",
    "!pip install sqlalchemy\n",
    "#requiere instalación adicional, consultar https://github.com/PyMySQL/mysqlclient\n",
    "!pip install mysqlclient\n",
    "!pip install numpy\n",
    "!pip install pymysql"
   ]
  },
  {
   "cell_type": "code",
   "execution_count": 51,
   "metadata": {},
   "outputs": [],
   "source": [
    "import mysql.connector\n",
    "from mysql.connector import Error\n",
    "import pandas as pd\n",
    "import numpy as np\n",
    "import sqlalchemy\n",
    "import time\n",
    "import matplotlib.pyplot as plt\n",
    "import psutil\n",
    "import random\n",
    "\n",
    "from mysql.connector.cursor import MySQLCursor"
   ]
  },
  {
   "cell_type": "code",
   "execution_count": 52,
   "metadata": {},
   "outputs": [],
   "source": [
    "#Los resultados de medidas de tiempo en carga por dominios se almacenan en estos objetos.\n",
    "#Se itera durante 100 iteraciones para sacar medias\n",
    "#repeticiones\n",
    "repeats = 100"
   ]
  },
  {
   "cell_type": "code",
   "execution_count": 53,
   "metadata": {},
   "outputs": [],
   "source": [
    "#Ficheros de salida\n",
    "resultados_etl_select = '../Results/MySQL/MySQLSelect_test_{}.csv'"
   ]
  },
  {
   "cell_type": "code",
   "execution_count": 54,
   "metadata": {},
   "outputs": [],
   "source": [
    "def save_results_to_csv(results,file):\n",
    "    #Guardamos los resultados en csv\n",
    "    from datetime import datetime\n",
    "    \n",
    "    csv_df = pd.DataFrame(results, columns=['Registros', 'Tiempo', 'CPU','Memoria'])\n",
    "    dia = datetime.now().strftime(\"%d%m%Y_%H_%M_%S\")\n",
    "    csv_df.to_csv(file.format(str(dia)))"
   ]
  },
  {
   "cell_type": "code",
   "execution_count": 55,
   "metadata": {},
   "outputs": [
    {
     "name": "stdout",
     "output_type": "stream",
     "text": [
      "Connected to MySQL database\n"
     ]
    }
   ],
   "source": [
    "conn = mysql.connector.connect(host='localhost',\n",
    "                                    port=6446,\n",
    "                                    database='CustomerProfileDomainSchema',\n",
    "                                    user='root',                                       \n",
    "                                    password='mysql')\n",
    "if conn.is_connected():\n",
    "        conn.autocommit = False #Apenas se observa diferencia de rendimiento\n",
    "        print('Connected to MySQL database')\n",
    "    \n",
    "cursor = conn.cursor()  \n",
    "    \n",
    "def connection_open():\n",
    "   \n",
    "    #InnoDB Cluster\n",
    "    conn = mysql.connector.connect(host='localhost',\n",
    "                                    port=6446,\n",
    "                                    database='CustomerProfileDomainSchema',\n",
    "                                    user='root',                                       \n",
    "                                    password='mysql')\n",
    "\n",
    "\n",
    "    if conn.is_connected():\n",
    "        conn.autocommit = False #Apenas se observa diferencia de rendimiento\n",
    "        print('Connected to MySQL database')\n",
    "    \n",
    "    cursor = conn.cursor()  "
   ]
  },
  {
   "cell_type": "code",
   "execution_count": 56,
   "metadata": {},
   "outputs": [
    {
     "data": {
      "text/plain": [
       "True"
      ]
     },
     "execution_count": 56,
     "metadata": {},
     "output_type": "execute_result"
    }
   ],
   "source": [
    "cursor = conn.cursor(buffered=True)\n",
    "cursor.execute('set global group_replication_transaction_size_limit = 300000000;')\n",
    "cursor.close()"
   ]
  },
  {
   "cell_type": "markdown",
   "metadata": {},
   "source": [
    "# Select test multidomain"
   ]
  },
  {
   "cell_type": "code",
   "execution_count": 57,
   "metadata": {},
   "outputs": [
    {
     "name": "stdout",
     "output_type": "stream",
     "text": [
      "1000000\n"
     ]
    },
    {
     "data": {
      "text/plain": [
       "True"
      ]
     },
     "execution_count": 57,
     "metadata": {},
     "output_type": "execute_result"
    }
   ],
   "source": [
    "#Obtenemos los posibles valores de pais. Se iterará por ellos para cambiar en bucle los registros\n",
    "cursor = conn.cursor(buffered=True)\n",
    "cursor.execute(\"\"\"SELECT DISTINCT (PartyId) FROM CustomerProfileDomainSchema.CustomerProfile\"\"\")\n",
    "partyId_list= []\n",
    "for partyId in cursor.fetchall():\n",
    "    partyId_list.append(partyId[0])\n",
    "print(len(partyId_list))\n",
    "cursor.close()"
   ]
  },
  {
   "cell_type": "code",
   "execution_count": 58,
   "metadata": {},
   "outputs": [],
   "source": [
    "time_inicial = 0\n",
    "time_final = 0\n",
    "registers = []\n",
    " \n",
    "for iteracion in range(0,repeats): \n",
    "    select_query = \"\"\"SELECT * FROM CustomerProfileDomainSchema.CustomerProfile cp\n",
    "INNER JOIN CurrentAccountDomainSchema.CurrentAccount ca ON ca.PartyId = cp.PartyId\n",
    "INNER JOIN CurrentAccountDomainSchema.AccountInfo ai ON ai.AccountId = ca.AccountId\n",
    "INNER JOIN PositionKeepingDomainSchema.PositionKeeping pk ON pk.AccountId = ca.AccountId\n",
    "INNER JOIN PositionKeepingDomainSchema.Amount am ON am.AmountId = pk.AmountId\n",
    "INNER JOIN PositionKeepingDomainSchema.CreditLine cl ON cl.CreditLineId = pk.CreditLineId\n",
    "INNER JOIN PositionKeepingDomainSchema.Currency cr ON cr.CurrencyId = am.CurrencyId\n",
    "WHERE cp.PartyId = {}\"\"\".format(random.choice(partyId_list))\n",
    "    cursor = conn.cursor(buffered=True)\n",
    "    time_inicial = time.time()\n",
    "    cursor.execute(select_query)\n",
    "    time_final = time.time() \n",
    "    used_cpu = psutil.cpu_percent()\n",
    "    mem_used = psutil.virtual_memory().percent\n",
    "    # Tupla con numero de registros, tiempo parcial de la transacción y tiempo acumulado de trxs\n",
    "    total_time = round(time_final - time_inicial,3)\n",
    "    registers.append((iteracion + 1, total_time ,used_cpu, mem_used))\n",
    "    #print((iteracion + 1 , total_time ,used_cpu, mem_used))\n",
    "    cursor.close()\n",
    "conn.close()"
   ]
  },
  {
   "cell_type": "code",
   "execution_count": 59,
   "metadata": {},
   "outputs": [],
   "source": [
    "#Guardamos los resultados Customer Profile\n",
    "save_results_to_csv(registers,resultados_etl_select)"
   ]
  },
  {
   "cell_type": "code",
   "execution_count": 60,
   "metadata": {},
   "outputs": [
    {
     "name": "stdout",
     "output_type": "stream",
     "text": [
      "Conexion cerrada\n"
     ]
    }
   ],
   "source": [
    "conn.close()\n",
    "print('Conexion cerrada')"
   ]
  }
 ],
 "metadata": {
  "kernelspec": {
   "display_name": "Python 3",
   "language": "python",
   "name": "python3"
  },
  "language_info": {
   "codemirror_mode": {
    "name": "ipython",
    "version": 3
   },
   "file_extension": ".py",
   "mimetype": "text/x-python",
   "name": "python",
   "nbconvert_exporter": "python",
   "pygments_lexer": "ipython3",
   "version": "3.7.6"
  }
 },
 "nbformat": 4,
 "nbformat_minor": 4
}
