{
 "cells": [
  {
   "cell_type": "code",
   "execution_count": 2,
   "metadata": {},
   "outputs": [
    {
     "name": "stdout",
     "output_type": "stream",
     "text": [
      "Requirement already satisfied: Flask in /home/danielherranzsegundo/anaconda3/lib/python3.7/site-packages (1.1.1)\n",
      "Requirement already satisfied: Jinja2>=2.10.1 in /home/danielherranzsegundo/anaconda3/lib/python3.7/site-packages (from Flask) (2.11.1)\n",
      "Requirement already satisfied: click>=5.1 in /home/danielherranzsegundo/anaconda3/lib/python3.7/site-packages (from Flask) (7.0)\n",
      "Requirement already satisfied: Werkzeug>=0.15 in /home/danielherranzsegundo/anaconda3/lib/python3.7/site-packages (from Flask) (1.0.0)\n",
      "Requirement already satisfied: itsdangerous>=0.24 in /home/danielherranzsegundo/anaconda3/lib/python3.7/site-packages (from Flask) (1.1.0)\n",
      "Requirement already satisfied: MarkupSafe>=0.23 in /home/danielherranzsegundo/anaconda3/lib/python3.7/site-packages (from Jinja2>=2.10.1->Flask) (1.1.1)\n"
     ]
    }
   ],
   "source": [
    "!pip install Flask"
   ]
  },
  {
   "cell_type": "code",
   "execution_count": 8,
   "metadata": {},
   "outputs": [],
   "source": [
    "import socket\n",
    "import threading\n",
    "import uuid\n",
    "from typing import Any, Callable, cast, Optional\n",
    "\n",
    "from flask import Flask, abort, jsonify\n",
    "from werkzeug.serving import run_simple\n",
    "\n",
    "app = Flask('TFM')\n",
    "\n",
    "\n",
    "@app.route('/tfm/select_test')\n",
    "def data(id: str) -> Any:\n",
    "    func = _data.get(id)\n",
    "    if not func:\n",
    "        abort(400)\n",
    "    return jsonify(func())\n",
    "\n",
    "\n",
    "_data = {}\n",
    "\n",
    "_port: int = 0\n",
    "\n",
    "\n",
    "def register_data(f: Callable[[], Any], id: Optional[str] = None) -> str:\n",
    "    \"\"\"Sets a callback for data and returns a URL\"\"\"\n",
    "    _start_sever()\n",
    "    id = id or str(uuid.uuid4())\n",
    "    _data[id] = f\n",
    "    return f'http://localhost:{_port}/data/{id}'\n",
    "\n",
    "\n",
    "def _start_sever() -> None:\n",
    "    \"\"\"Starts a flask server in the background.\"\"\"\n",
    "    global _port\n",
    "    if _port:\n",
    "        return\n",
    "    _port = 7000\n",
    "    thread = threading.Thread(target=lambda: run_simple('localhost', _port, app))\n",
    "    thread.start()"
   ]
  }
 ],
 "metadata": {
  "kernelspec": {
   "display_name": "Python 3",
   "language": "python",
   "name": "python3"
  },
  "language_info": {
   "codemirror_mode": {
    "name": "ipython",
    "version": 3
   },
   "file_extension": ".py",
   "mimetype": "text/x-python",
   "name": "python",
   "nbconvert_exporter": "python",
   "pygments_lexer": "ipython3",
   "version": "3.7.6"
  }
 },
 "nbformat": 4,
 "nbformat_minor": 4
}
