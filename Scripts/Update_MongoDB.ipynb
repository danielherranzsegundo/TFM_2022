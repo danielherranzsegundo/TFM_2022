{
 "cells": [
  {
   "cell_type": "markdown",
   "metadata": {},
   "source": [
    "Script de update datos MongoDB en cluster multidomain"
   ]
  },
  {
   "cell_type": "code",
   "execution_count": 1,
   "metadata": {},
   "outputs": [],
   "source": [
    "import pandas as pd\n",
    "import numpy as np\n",
    "import os\n",
    "import json\n",
    "import random\n",
    "import pymongo\n",
    "from pymongo import MongoClient\n",
    "import time\n",
    "from pprint import pprint\n",
    "from pymongo import InsertOne, DeleteMany, ReplaceOne, UpdateOne\n",
    "import matplotlib.pyplot as plt\n",
    "import psutil\n",
    "import uuid\n",
    "from bson import objectid"
   ]
  },
  {
   "cell_type": "code",
   "execution_count": 2,
   "metadata": {},
   "outputs": [],
   "source": [
    "#Los resultados de medidas de tiempo en carga por dominios se almacenan en estos objetos.\n",
    "#Se itera durante 100 iteraciones para sacar medias\n",
    "#repeticiones\n",
    "repeats = 100"
   ]
  },
  {
   "cell_type": "code",
   "execution_count": 3,
   "metadata": {},
   "outputs": [],
   "source": [
    "#Ficheros de salida\n",
    "resultados_etl_update = '../Results/MongoDB/MongoDBUpdate_test_{}.csv'"
   ]
  },
  {
   "cell_type": "code",
   "execution_count": 4,
   "metadata": {},
   "outputs": [],
   "source": [
    "def save_results_to_csv(results,file):\n",
    "    #Guardamos los resultados en csv\n",
    "    from datetime import datetime\n",
    "    \n",
    "    csv_df = pd.DataFrame(results, columns=['Registros', 'Tiempo', 'CPU','Memoria'])\n",
    "    dia = datetime.now().strftime(\"%d%m%Y_%H_%M_%S\")\n",
    "    csv_df.to_csv(file.format(str(dia)))"
   ]
  },
  {
   "cell_type": "code",
   "execution_count": 5,
   "metadata": {},
   "outputs": [
    {
     "data": {
      "text/plain": [
       "Database(MongoClient(host=['localhost:27017'], document_class=dict, tz_aware=False, connect=True, w=3), 'tfm_mongo_database')"
      ]
     },
     "execution_count": 5,
     "metadata": {},
     "output_type": "execute_result"
    }
   ],
   "source": [
    "#Conexion unica a colecciones\n",
    "connection = MongoClient('localhost', 27017, w=3) #Conexion con WriteConcern a 3 (primario y dos nodos consolidados)\n",
    "\n",
    "#Creamos una base de datos para el trabajo llamada TFM\n",
    "tfm_mongo_db = connection[\"tfm_mongo_database\"]\n",
    "tfm_mongo_db"
   ]
  },
  {
   "cell_type": "code",
   "execution_count": 6,
   "metadata": {},
   "outputs": [
    {
     "name": "stdout",
     "output_type": "stream",
     "text": [
      "['admin', 'config', 'local', 'tfm_mongo_database']\n"
     ]
    }
   ],
   "source": [
    "CustomerProfileCollection = tfm_mongo_db[\"CustomerProfileCollection\"]\n",
    "CurrentAccountCollection = tfm_mongo_db[\"CurrentAccountCollection\"]\n",
    "PositionKeepingCollection = tfm_mongo_db[\"PositionKeepingCollection\"]\n",
    "print(connection.list_database_names())"
   ]
  },
  {
   "cell_type": "markdown",
   "metadata": {},
   "source": [
    "# Update test multidomain"
   ]
  },
  {
   "cell_type": "code",
   "execution_count": 40,
   "metadata": {},
   "outputs": [],
   "source": [
    "pipeline = [\n",
    "        {\n",
    "          '$match': {\n",
    "              'Status': 'Enabled'\n",
    "          }  \n",
    "        }, \n",
    "        {\n",
    "            '$lookup': {\n",
    "                'from' : 'PositionKeepingCollection',\n",
    "                'localField' : 'AccountId',\n",
    "                'foreignField' : 'AccountId',\n",
    "                'as' : 'PositionKeeping'\n",
    "            }\n",
    "        },\n",
    "        {\n",
    "            '$unwind': '$PositionKeeping'\n",
    "        },\n",
    "        { \n",
    "            '$limit': 100\n",
    "        },\n",
    "        {\n",
    "          '$match': {\n",
    "              'AccountInfo.SchemeName': { '$regex': 'UK.*' },              \n",
    "              'PositionKeeping.Amount.Currency': { '$regex': \".*USA.*\" }\n",
    "          }  \n",
    "        },\n",
    "        {\n",
    "            '$project': {\n",
    "                '_id':0,\n",
    "                'AccountId': 1            \n",
    "            }\n",
    "        }\n",
    "]"
   ]
  },
  {
   "cell_type": "code",
   "execution_count": 41,
   "metadata": {},
   "outputs": [],
   "source": [
    "time_inicial = 0\n",
    "time_final = 0\n",
    "registers = []\n",
    "lista = []\n",
    "for iteracion in range(0,repeats): \n",
    "   \n",
    "    time_inicial = time.time()\n",
    "    result = CurrentAccountCollection.aggregate(pipeline)\n",
    "\n",
    "    for doc in result:\n",
    "        #Update\n",
    "        #print(doc['AccountId'])\n",
    "        lista.append(doc['AccountId'])\n",
    "        CurrentAccountCollection.update_one({'AccountId':doc['AccountId']},{'$set': {'Status':'Disabled_ch'}})\n",
    "        \n",
    "    time_final = time.time() \n",
    "    used_cpu = psutil.cpu_percent()\n",
    "    mem_used = psutil.virtual_memory().percent\n",
    "    # Tupla con numero de registros, tiempo parcial de la transacción y tiempo acumulado de trxs\n",
    "    total_time = round(time_final - time_inicial,3)\n",
    "    registers.append((iteracion + 1, total_time ,used_cpu, mem_used))"
   ]
  },
  {
   "cell_type": "code",
   "execution_count": 42,
   "metadata": {},
   "outputs": [
    {
     "name": "stdout",
     "output_type": "stream",
     "text": [
      "1\n"
     ]
    }
   ],
   "source": [
    "print(CurrentAccountCollection.count_documents({'Status': 'Disabled_ch'}))"
   ]
  },
  {
   "cell_type": "code",
   "execution_count": 43,
   "metadata": {},
   "outputs": [
    {
     "data": {
      "text/plain": [
       "[(1, 0.442, 2.6, 72.5),\n",
       " (2, 0.442, 16.7, 72.5),\n",
       " (3, 0.446, 24.7, 72.6),\n",
       " (4, 0.438, 18.5, 72.6),\n",
       " (5, 0.442, 22.8, 72.6),\n",
       " (6, 0.446, 22.2, 72.6),\n",
       " (7, 0.433, 17.0, 72.6),\n",
       " (8, 0.438, 18.9, 72.6),\n",
       " (9, 0.435, 16.7, 72.6),\n",
       " (10, 0.445, 19.3, 72.6),\n",
       " (11, 0.436, 17.2, 72.6),\n",
       " (12, 0.434, 16.9, 72.6),\n",
       " (13, 0.44, 18.2, 72.6),\n",
       " (14, 0.434, 16.5, 72.5),\n",
       " (15, 0.449, 19.0, 72.5),\n",
       " (16, 0.44, 18.6, 72.6),\n",
       " (17, 0.434, 16.6, 72.6),\n",
       " (18, 0.434, 17.9, 72.6),\n",
       " (19, 0.435, 18.4, 72.6),\n",
       " (20, 0.436, 16.6, 72.6),\n",
       " (21, 0.435, 17.9, 72.6),\n",
       " (22, 0.436, 17.6, 72.6),\n",
       " (23, 0.441, 16.7, 72.6),\n",
       " (24, 0.436, 17.2, 72.6),\n",
       " (25, 0.434, 17.2, 72.6),\n",
       " (26, 0.437, 17.0, 72.6),\n",
       " (27, 0.435, 18.8, 72.6),\n",
       " (28, 0.434, 17.7, 72.6),\n",
       " (29, 0.448, 17.7, 72.6),\n",
       " (30, 0.443, 18.9, 72.6),\n",
       " (31, 0.442, 18.5, 72.6),\n",
       " (32, 0.448, 17.7, 72.6),\n",
       " (33, 0.446, 18.4, 72.6),\n",
       " (34, 0.441, 21.9, 72.6),\n",
       " (35, 0.445, 17.3, 72.6),\n",
       " (36, 0.437, 18.3, 72.6),\n",
       " (37, 0.439, 18.9, 72.5),\n",
       " (38, 0.435, 17.6, 72.5),\n",
       " (39, 0.444, 20.7, 72.5),\n",
       " (40, 0.446, 30.1, 72.6),\n",
       " (41, 0.443, 21.0, 72.6),\n",
       " (42, 0.443, 19.1, 72.7),\n",
       " (43, 0.457, 19.0, 72.6),\n",
       " (44, 0.437, 17.6, 72.6),\n",
       " (45, 0.436, 17.2, 72.6),\n",
       " (46, 0.449, 19.0, 72.7),\n",
       " (47, 0.444, 18.7, 72.6),\n",
       " (48, 0.435, 17.9, 72.6),\n",
       " (49, 0.444, 18.3, 72.6),\n",
       " (50, 0.441, 18.3, 72.6),\n",
       " (51, 0.434, 17.2, 72.6),\n",
       " (52, 0.436, 18.7, 72.6),\n",
       " (53, 0.44, 19.6, 72.6),\n",
       " (54, 0.442, 18.5, 72.6),\n",
       " (55, 0.449, 18.3, 72.6),\n",
       " (56, 0.443, 18.9, 72.6),\n",
       " (57, 0.439, 19.2, 72.6),\n",
       " (58, 0.442, 21.2, 72.6),\n",
       " (59, 0.447, 19.4, 72.6),\n",
       " (60, 0.444, 18.8, 72.6),\n",
       " (61, 0.442, 20.3, 72.6),\n",
       " (62, 0.449, 26.9, 72.6),\n",
       " (63, 0.445, 19.5, 72.6),\n",
       " (64, 0.438, 18.0, 72.6),\n",
       " (65, 0.451, 21.6, 72.6),\n",
       " (66, 0.443, 19.5, 72.6),\n",
       " (67, 0.472, 23.1, 72.6),\n",
       " (68, 0.441, 27.6, 72.6),\n",
       " (69, 0.445, 21.3, 72.6),\n",
       " (70, 0.449, 23.2, 72.6),\n",
       " (71, 0.447, 21.9, 72.6),\n",
       " (72, 0.441, 19.6, 72.6),\n",
       " (73, 0.442, 19.9, 72.6),\n",
       " (74, 0.449, 18.4, 72.6),\n",
       " (75, 0.453, 31.5, 72.9),\n",
       " (76, 0.447, 23.3, 73.0),\n",
       " (77, 0.447, 18.5, 72.8),\n",
       " (78, 0.433, 17.9, 72.7),\n",
       " (79, 0.437, 16.9, 72.7),\n",
       " (80, 0.442, 20.5, 72.7),\n",
       " (81, 0.443, 19.4, 72.7),\n",
       " (82, 0.455, 18.6, 72.6),\n",
       " (83, 0.444, 17.3, 72.6),\n",
       " (84, 0.441, 23.4, 72.6),\n",
       " (85, 0.44, 21.7, 72.6),\n",
       " (86, 0.438, 17.5, 72.5),\n",
       " (87, 0.442, 17.5, 72.5),\n",
       " (88, 0.437, 18.2, 72.5),\n",
       " (89, 0.448, 20.6, 72.5),\n",
       " (90, 0.44, 20.2, 72.5),\n",
       " (91, 0.439, 20.1, 72.5),\n",
       " (92, 0.446, 22.6, 72.5),\n",
       " (93, 0.444, 19.3, 72.5),\n",
       " (94, 0.45, 26.8, 72.4),\n",
       " (95, 0.452, 24.5, 72.4),\n",
       " (96, 0.439, 26.1, 72.4),\n",
       " (97, 0.439, 19.4, 72.4),\n",
       " (98, 0.433, 17.8, 72.4),\n",
       " (99, 0.442, 17.8, 72.4),\n",
       " (100, 0.442, 17.0, 72.4)]"
      ]
     },
     "execution_count": 43,
     "metadata": {},
     "output_type": "execute_result"
    }
   ],
   "source": [
    "registers"
   ]
  },
  {
   "cell_type": "code",
   "execution_count": 44,
   "metadata": {},
   "outputs": [],
   "source": [
    "#Guardamos los resultados Customer Profile\n",
    "save_results_to_csv(registers,resultados_etl_update)"
   ]
  },
  {
   "cell_type": "code",
   "execution_count": 45,
   "metadata": {},
   "outputs": [
    {
     "name": "stdout",
     "output_type": "stream",
     "text": [
      "Conexion cerrada\n"
     ]
    }
   ],
   "source": [
    "connection.close()\n",
    "print('Conexion cerrada')"
   ]
  }
 ],
 "metadata": {
  "kernelspec": {
   "display_name": "Python 3",
   "language": "python",
   "name": "python3"
  },
  "language_info": {
   "codemirror_mode": {
    "name": "ipython",
    "version": 3
   },
   "file_extension": ".py",
   "mimetype": "text/x-python",
   "name": "python",
   "nbconvert_exporter": "python",
   "pygments_lexer": "ipython3",
   "version": "3.7.6"
  }
 },
 "nbformat": 4,
 "nbformat_minor": 4
}
