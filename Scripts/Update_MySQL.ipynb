{
 "cells": [
  {
   "cell_type": "markdown",
   "metadata": {},
   "source": [
    "Script de update datos MySQL en cluster multidomain"
   ]
  },
  {
   "cell_type": "code",
   "execution_count": 1,
   "metadata": {},
   "outputs": [
    {
     "name": "stdout",
     "output_type": "stream",
     "text": [
      "Requirement already satisfied: mysql-connector==2.1.7 in /home/danielherranzsegundo/anaconda3/lib/python3.7/site-packages (2.1.7)\n",
      "Requirement already satisfied: pandas in /home/danielherranzsegundo/anaconda3/lib/python3.7/site-packages (1.0.1)\n",
      "Requirement already satisfied: python-dateutil>=2.6.1 in /home/danielherranzsegundo/anaconda3/lib/python3.7/site-packages (from pandas) (2.8.1)\n",
      "Requirement already satisfied: pytz>=2017.2 in /home/danielherranzsegundo/anaconda3/lib/python3.7/site-packages (from pandas) (2019.3)\n",
      "Requirement already satisfied: numpy>=1.13.3 in /home/danielherranzsegundo/anaconda3/lib/python3.7/site-packages (from pandas) (1.18.1)\n",
      "Requirement already satisfied: six>=1.5 in /home/danielherranzsegundo/anaconda3/lib/python3.7/site-packages (from python-dateutil>=2.6.1->pandas) (1.14.0)\n",
      "Requirement already satisfied: sqlalchemy in /home/danielherranzsegundo/anaconda3/lib/python3.7/site-packages (1.3.13)\n",
      "Requirement already satisfied: mysqlclient in /home/danielherranzsegundo/anaconda3/lib/python3.7/site-packages (2.1.0)\n",
      "Requirement already satisfied: numpy in /home/danielherranzsegundo/anaconda3/lib/python3.7/site-packages (1.18.1)\n",
      "Requirement already satisfied: pymysql in /home/danielherranzsegundo/anaconda3/lib/python3.7/site-packages (1.0.2)\n"
     ]
    }
   ],
   "source": [
    "!pip install mysql-connector==2.1.7\n",
    "!pip install pandas\n",
    "!pip install sqlalchemy\n",
    "#requiere instalación adicional, consultar https://github.com/PyMySQL/mysqlclient\n",
    "!pip install mysqlclient\n",
    "!pip install numpy\n",
    "!pip install pymysql"
   ]
  },
  {
   "cell_type": "code",
   "execution_count": 2,
   "metadata": {},
   "outputs": [],
   "source": [
    "import mysql.connector\n",
    "from mysql.connector import Error\n",
    "import pandas as pd\n",
    "import numpy as np\n",
    "import sqlalchemy\n",
    "import time\n",
    "import matplotlib.pyplot as plt\n",
    "import psutil\n",
    "import random\n",
    "\n",
    "from mysql.connector.cursor import MySQLCursor"
   ]
  },
  {
   "cell_type": "code",
   "execution_count": 3,
   "metadata": {},
   "outputs": [],
   "source": [
    "#Los resultados de medidas de tiempo en carga por dominios se almacenan en estos objetos.\n",
    "#Se itera durante 100 iteraciones para sacar medias\n",
    "#repeticiones\n",
    "repeats = 100"
   ]
  },
  {
   "cell_type": "code",
   "execution_count": 4,
   "metadata": {},
   "outputs": [],
   "source": [
    "#Ficheros de salida\n",
    "resultados_etl_update = '../Results/MySQL/MySQLUpdate_test_{}.csv'"
   ]
  },
  {
   "cell_type": "code",
   "execution_count": 5,
   "metadata": {},
   "outputs": [],
   "source": [
    "def save_results_to_csv(results,file):\n",
    "    #Guardamos los resultados en csv\n",
    "    from datetime import datetime\n",
    "    \n",
    "    csv_df = pd.DataFrame(results, columns=['Registros', 'Tiempo', 'CPU','Memoria'])\n",
    "    dia = datetime.now().strftime(\"%d%m%Y_%H_%M_%S\")\n",
    "    csv_df.to_csv(file.format(str(dia)))"
   ]
  },
  {
   "cell_type": "code",
   "execution_count": 6,
   "metadata": {},
   "outputs": [
    {
     "name": "stdout",
     "output_type": "stream",
     "text": [
      "Connected to MySQL database\n"
     ]
    }
   ],
   "source": [
    "conn = mysql.connector.connect(host='localhost',\n",
    "                                    port=6446,\n",
    "                                    database='CustomerProfileDomainSchema',\n",
    "                                    user='root',                                       \n",
    "                                    password='mysql')\n",
    "if conn.is_connected():\n",
    "        conn.autocommit = False #Apenas se observa diferencia de rendimiento\n",
    "        print('Connected to MySQL database')\n",
    "    \n",
    "cursor = conn.cursor()  \n",
    "    \n",
    "def connection_open():\n",
    "   \n",
    "    #InnoDB Cluster\n",
    "    conn = mysql.connector.connect(host='localhost',\n",
    "                                    port=6446,\n",
    "                                    database='CustomerProfileDomainSchema',\n",
    "                                    user='root',                                       \n",
    "                                    password='mysql')\n",
    "\n",
    "\n",
    "    if conn.is_connected():\n",
    "        conn.autocommit = False #Apenas se observa diferencia de rendimiento\n",
    "        print('Connected to MySQL database')\n",
    "    \n",
    "    cursor = conn.cursor()  "
   ]
  },
  {
   "cell_type": "code",
   "execution_count": 7,
   "metadata": {},
   "outputs": [
    {
     "data": {
      "text/plain": [
       "True"
      ]
     },
     "execution_count": 7,
     "metadata": {},
     "output_type": "execute_result"
    }
   ],
   "source": [
    "cursor = conn.cursor(buffered=True)\n",
    "cursor.execute('set global group_replication_transaction_size_limit = 300000000;')\n",
    "cursor.close()"
   ]
  },
  {
   "cell_type": "markdown",
   "metadata": {},
   "source": [
    "# Update test multidomain"
   ]
  },
  {
   "cell_type": "code",
   "execution_count": 8,
   "metadata": {},
   "outputs": [
    {
     "data": {
      "text/plain": [
       "['IND', 'GBP', 'EUR', 'USA']"
      ]
     },
     "execution_count": 8,
     "metadata": {},
     "output_type": "execute_result"
    }
   ],
   "source": [
    "#Obtenemos los posibles valores de pais. Se iterará por ellos para cambiar en bucle los registros\n",
    "cursor = conn.cursor(buffered=True)\n",
    "cursor.execute(\"\"\"SELECT * FROM PositionKeepingDomainSchema.Currency\"\"\")\n",
    "country_list= []\n",
    "for code in cursor.fetchall():\n",
    "    country_list.append(str(code[1]))\n",
    "country_list"
   ]
  },
  {
   "cell_type": "code",
   "execution_count": 9,
   "metadata": {},
   "outputs": [],
   "source": [
    "time_inicial = 0\n",
    "time_final = 0\n",
    "registers = []\n",
    " \n",
    "for iteracion in range(0,repeats): \n",
    "    update_query = \"\"\"UPDATE PositionKeepingDomainSchema.Amount a \n",
    "INNER JOIN PositionKeepingDomainSchema.PositionKeeping pk ON pk.AmountId = a.AmountId\n",
    "INNER JOIN CurrentAccountDomainSchema.CurrentAccount ca ON ca.AccountId = pk.AccountId\n",
    "INNER JOIN CurrentAccountDomainSchema.AccountInfo ai ON ai.AccountId = ca.AccountId\n",
    "SET a.CurrencyId = (SELECT CurrencyId FROM PositionKeepingDomainSchema.Currency WHERE Code = '{}')\n",
    "WHERE ca.Status = 'Enabled' AND ai.SchemeName LIKE 'UK.%'\"\"\".format(random.choice(country_list))\n",
    "    cursor = conn.cursor()\n",
    "    time_inicial = time.time()\n",
    "    cursor.execute(update_query) \n",
    "    conn.commit()\n",
    "    time_final = time.time() \n",
    "    used_cpu = psutil.cpu_percent()\n",
    "    mem_used = psutil.virtual_memory().percent\n",
    "    # Tupla con numero de registros, tiempo parcial de la transacción y tiempo acumulado de trxs\n",
    "    total_time = round(time_final - time_inicial,3)\n",
    "    registers.append((iteracion + 1, total_time ,used_cpu, mem_used))\n",
    "    #print((iteracion + 1 , total_time ,used_cpu, mem_used))\n",
    "    cursor.close()\n",
    "conn.close()"
   ]
  },
  {
   "cell_type": "code",
   "execution_count": 12,
   "metadata": {},
   "outputs": [
    {
     "data": {
      "text/plain": [
       "[(1, 0.97, 18.8, 51.2),\n",
       " (2, 0.979, 20.4, 51.2),\n",
       " (3, 0.996, 21.8, 51.2),\n",
       " (4, 0.97, 19.2, 51.1),\n",
       " (5, 0.933, 19.4, 51.1),\n",
       " (6, 0.994, 17.7, 51.1),\n",
       " (7, 0.984, 19.7, 51.2),\n",
       " (8, 0.968, 19.6, 51.2),\n",
       " (9, 0.985, 20.3, 51.2),\n",
       " (10, 0.977, 18.9, 51.2),\n",
       " (11, 0.879, 17.6, 51.2),\n",
       " (12, 0.886, 18.6, 51.2),\n",
       " (13, 0.895, 19.6, 51.2),\n",
       " (14, 0.903, 20.5, 51.2),\n",
       " (15, 0.85, 18.1, 51.2),\n",
       " (16, 0.919, 18.8, 51.2),\n",
       " (17, 0.898, 25.7, 51.2),\n",
       " (18, 0.882, 18.0, 51.2),\n",
       " (19, 0.881, 18.8, 51.2),\n",
       " (20, 0.853, 19.6, 51.2),\n",
       " (21, 0.844, 17.5, 51.2),\n",
       " (22, 0.894, 21.5, 51.3),\n",
       " (23, 0.878, 20.0, 51.3),\n",
       " (24, 0.876, 19.5, 51.3),\n",
       " (25, 0.877, 18.8, 51.3),\n",
       " (26, 0.897, 20.3, 51.3),\n",
       " (27, 0.883, 19.6, 51.3),\n",
       " (28, 0.884, 20.2, 51.3),\n",
       " (29, 0.852, 18.2, 51.3),\n",
       " (30, 0.853, 18.6, 51.3),\n",
       " (31, 0.847, 17.0, 51.3),\n",
       " (32, 0.921, 18.2, 51.3),\n",
       " (33, 0.859, 18.9, 51.3),\n",
       " (34, 0.85, 17.5, 51.3),\n",
       " (35, 0.874, 17.7, 51.3),\n",
       " (36, 0.874, 20.2, 51.3),\n",
       " (37, 0.852, 19.4, 51.3),\n",
       " (38, 0.926, 17.0, 51.3),\n",
       " (39, 0.866, 22.4, 51.2),\n",
       " (40, 0.918, 18.7, 51.2),\n",
       " (41, 0.896, 19.7, 51.2),\n",
       " (42, 0.973, 18.6, 51.2),\n",
       " (43, 0.881, 18.3, 51.2),\n",
       " (44, 0.848, 19.7, 51.2),\n",
       " (45, 0.96, 17.6, 51.2),\n",
       " (46, 0.997, 19.0, 51.2),\n",
       " (47, 0.917, 20.0, 51.2),\n",
       " (48, 0.971, 19.9, 51.2),\n",
       " (49, 0.902, 22.8, 51.2),\n",
       " (50, 0.902, 20.4, 51.2),\n",
       " (51, 0.974, 24.8, 51.1),\n",
       " (52, 0.967, 18.4, 51.1),\n",
       " (53, 0.887, 18.6, 51.1),\n",
       " (54, 0.892, 20.3, 51.1),\n",
       " (55, 0.888, 21.5, 51.1),\n",
       " (56, 0.89, 20.2, 51.0),\n",
       " (57, 0.882, 19.9, 51.0),\n",
       " (58, 0.915, 20.5, 51.0),\n",
       " (59, 0.892, 20.9, 51.0),\n",
       " (60, 0.9, 21.4, 51.0),\n",
       " (61, 0.967, 21.6, 51.0),\n",
       " (62, 0.894, 21.7, 51.0),\n",
       " (63, 0.893, 21.6, 51.0),\n",
       " (64, 0.97, 21.1, 51.0),\n",
       " (65, 0.888, 20.5, 51.0),\n",
       " (66, 0.894, 22.0, 51.0),\n",
       " (67, 0.883, 21.4, 51.0),\n",
       " (68, 0.865, 21.3, 51.0),\n",
       " (69, 0.912, 21.2, 51.0),\n",
       " (70, 0.896, 20.9, 51.0),\n",
       " (71, 0.862, 20.9, 51.0),\n",
       " (72, 0.855, 19.7, 51.0),\n",
       " (73, 0.964, 19.4, 51.0),\n",
       " (74, 0.896, 21.0, 51.0),\n",
       " (75, 0.868, 21.4, 51.0),\n",
       " (76, 0.861, 18.8, 51.0),\n",
       " (77, 0.859, 18.8, 51.0),\n",
       " (78, 0.89, 19.7, 51.0),\n",
       " (79, 0.882, 19.7, 51.0),\n",
       " (80, 0.886, 23.6, 51.0),\n",
       " (81, 0.893, 18.3, 51.0),\n",
       " (82, 0.901, 19.9, 51.0),\n",
       " (83, 0.896, 21.3, 51.0),\n",
       " (84, 0.965, 28.1, 51.0),\n",
       " (85, 0.856, 19.4, 51.0),\n",
       " (86, 0.92, 19.0, 51.0),\n",
       " (87, 0.858, 19.3, 51.0),\n",
       " (88, 0.917, 18.1, 51.0),\n",
       " (89, 0.9, 23.0, 51.0),\n",
       " (90, 0.887, 21.3, 51.0),\n",
       " (91, 0.869, 20.3, 51.0),\n",
       " (92, 0.908, 20.0, 51.0),\n",
       " (93, 0.888, 20.0, 51.0),\n",
       " (94, 0.914, 21.1, 51.0),\n",
       " (95, 0.895, 23.0, 51.0),\n",
       " (96, 0.893, 20.9, 51.0),\n",
       " (97, 0.896, 24.2, 51.0),\n",
       " (98, 0.899, 20.5, 51.0),\n",
       " (99, 0.966, 19.7, 51.0),\n",
       " (100, 0.979, 19.7, 51.0)]"
      ]
     },
     "execution_count": 12,
     "metadata": {},
     "output_type": "execute_result"
    }
   ],
   "source": [
    "registers"
   ]
  },
  {
   "cell_type": "code",
   "execution_count": 13,
   "metadata": {},
   "outputs": [],
   "source": [
    "#Guardamos los resultados Customer Profile\n",
    "save_results_to_csv(registers,resultados_etl_update)"
   ]
  },
  {
   "cell_type": "code",
   "execution_count": 11,
   "metadata": {},
   "outputs": [
    {
     "name": "stdout",
     "output_type": "stream",
     "text": [
      "Conexion cerrada\n"
     ]
    }
   ],
   "source": [
    "conn.close()\n",
    "print('Conexion cerrada')"
   ]
  }
 ],
 "metadata": {
  "kernelspec": {
   "display_name": "Python 3",
   "language": "python",
   "name": "python3"
  },
  "language_info": {
   "codemirror_mode": {
    "name": "ipython",
    "version": 3
   },
   "file_extension": ".py",
   "mimetype": "text/x-python",
   "name": "python",
   "nbconvert_exporter": "python",
   "pygments_lexer": "ipython3",
   "version": "3.7.6"
  }
 },
 "nbformat": 4,
 "nbformat_minor": 4
}
