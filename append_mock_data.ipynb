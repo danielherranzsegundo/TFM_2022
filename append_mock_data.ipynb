{
 "cells": [
  {
   "cell_type": "markdown",
   "metadata": {},
   "source": [
    "Script de generación de datos sinteticos TFM Daniel Herranz Segundo"
   ]
  },
  {
   "cell_type": "code",
   "execution_count": 65,
   "metadata": {},
   "outputs": [],
   "source": [
    "import pandas as pd\n",
    "import numpy as np\n",
    "import os"
   ]
  },
  {
   "cell_type": "code",
   "execution_count": 66,
   "metadata": {},
   "outputs": [],
   "source": [
    "#Variables de los ficheros de datos salida\n",
    "AccountInfo_file_out = '../MockData/AccountInfo_1M.csv'\n",
    "Address_file_out = '../MockData/Address_1M.csv'\n",
    "Amount_file_out = '../MockData/Amount_1M.csv'\n",
    "Country_file_out = '../MockData/Country_1M.csv'\n",
    "CreditLine_file_out = '../MockData/CreditLine_1M.csv'\n",
    "Currency_file_out = '../MockData/Currency_1M.csv'\n",
    "CurrentAccount_file_out = '../MockData/CurrentAccount_1M.csv'\n",
    "CustomerProfile_file_out = '../MockData/CustomerProfile_1M.csv'\n",
    "Position_Keeping_file_out = '../MockData/Position_Keeping_1M.csv'"
   ]
  },
  {
   "cell_type": "code",
   "execution_count": 67,
   "metadata": {},
   "outputs": [],
   "source": [
    "#Función para resetear ficheros de salida\n",
    "def reset_files(file):\n",
    "    if os.path.exists(file):\n",
    "        os.remove(file)\n",
    "        print(\"The file\", file ,\"have been removed\")\n",
    "    else:\n",
    "        print(\"The file\", file ,\"does not exist\")"
   ]
  },
  {
   "cell_type": "code",
   "execution_count": 68,
   "metadata": {},
   "outputs": [
    {
     "name": "stdout",
     "output_type": "stream",
     "text": [
      "The file ../MockData/AccountInfo_1M.csv have been removed\n",
      "The file ../MockData/Address_1M.csv have been removed\n",
      "The file ../MockData/Amount_1M.csv have been removed\n",
      "The file ../MockData/Country_1M.csv does not exist\n",
      "The file ../MockData/CreditLine_1M.csv does not exist\n",
      "The file ../MockData/Currency_1M.csv does not exist\n",
      "The file ../MockData/CurrentAccount_1M.csv have been removed\n",
      "The file ../MockData/CustomerProfile_1M.csv have been removed\n",
      "The file ../MockData/Position_Keeping_1M.csv have been removed\n"
     ]
    }
   ],
   "source": [
    "#Limpiamos los ficheros de salida\n",
    "reset_files(AccountInfo_file_out)\n",
    "reset_files(Address_file_out)\n",
    "reset_files(Amount_file_out)\n",
    "reset_files(Country_file_out)\n",
    "reset_files(CreditLine_file_out)\n",
    "reset_files(Currency_file_out)\n",
    "reset_files(CurrentAccount_file_out)\n",
    "reset_files(CustomerProfile_file_out)\n",
    "reset_files(Position_Keeping_file_out)"
   ]
  },
  {
   "cell_type": "code",
   "execution_count": 69,
   "metadata": {},
   "outputs": [],
   "source": [
    "#Carga de la información de dataframes por entidades\n",
    "\n",
    "AccountInfo_df = pd.read_csv('../MockData/base/AccountInfo.csv')\n",
    "Address_df = pd.read_csv('../MockData/base/Address.csv')\n",
    "Amount_df = pd.read_csv('../MockData/base/Amount.csv')\n",
    "Country_df = pd.read_csv('../MockData/base/Country.csv')\n",
    "CreditLine_df = pd.read_csv('../MockData/base/CreditLine.csv')\n",
    "Currency_df = pd.read_csv('../MockData/base/Currency.csv')\n",
    "CurrentAccount_df = pd.read_csv('../MockData/base/CurrentAccount.csv')\n",
    "CustomerProfile_df = pd.read_csv('../MockData/base/CustomerProfile.csv')\n",
    "PositionKeeping_df = pd.read_csv('../MockData/base/PositionKeeping.csv')\n"
   ]
  },
  {
   "cell_type": "code",
   "execution_count": 70,
   "metadata": {},
   "outputs": [],
   "source": [
    "#Generamos una función mas de 1M de registros basados en registros anteriores\n",
    "def generate_new_values_by_samples(df):\n",
    "    for x in range(12):\n",
    "        df = df.append(df.sample(frac=0.50,replace = False))\n",
    "    return df\n"
   ]
  },
  {
   "cell_type": "code",
   "execution_count": 71,
   "metadata": {},
   "outputs": [],
   "source": [
    "AccountInfo_df = generate_new_values_by_samples(AccountInfo_df)\n",
    "Address_df =generate_new_values_by_samples(Address_df)\n",
    "Amount_df = generate_new_values_by_samples(Amount_df)\n",
    "CreditLine_df = generate_new_values_by_samples(CreditLine_df)\n",
    "CurrentAccount_df = generate_new_values_by_samples(CurrentAccount_df)\n",
    "CustomerProfile_df = generate_new_values_by_samples(CustomerProfile_df)\n",
    "PositionKeeping_df = generate_new_values_by_samples(PositionKeeping_df)"
   ]
  },
  {
   "cell_type": "code",
   "execution_count": 72,
   "metadata": {},
   "outputs": [],
   "source": [
    "#Tratamiento secuencia CustomerProfile\n",
    "CustomerProfile_df.reset_index()\n",
    "CustomerProfile_df['PartyId'] = CustomerProfile_df.index\n",
    "CustomerProfile_df['PartyNumber'] = CustomerProfile_df.index"
   ]
  },
  {
   "cell_type": "code",
   "execution_count": 73,
   "metadata": {},
   "outputs": [],
   "source": [
    "#Tratamiento secuencia CustomerProfile\n",
    "AccountInfo_df.reset_index()\n",
    "AccountInfo_df['PartyId'] = CustomerProfile_df.index\n",
    "AccountInfo_df['AccountId'] = AccountInfo_df.index"
   ]
  },
  {
   "cell_type": "code",
   "execution_count": 74,
   "metadata": {},
   "outputs": [],
   "source": [
    "#Tratamiento secuencia Address\n",
    "Address_df.reset_index()\n",
    "Address_df['PartyId'] = range(0,len(Address_df))"
   ]
  },
  {
   "cell_type": "code",
   "execution_count": 75,
   "metadata": {},
   "outputs": [],
   "source": [
    "#Tratamiento secuencia Amount\n",
    "Amount_df.reset_index()\n",
    "Amount_df['AmountId'] = Amount_df.index"
   ]
  },
  {
   "cell_type": "code",
   "execution_count": 76,
   "metadata": {},
   "outputs": [],
   "source": [
    "#Tratamiento secuencia CreditLine\n",
    "CreditLine_df.reset_index()\n",
    "CreditLine_df['CreditLineId'] = CreditLine_df.index"
   ]
  },
  {
   "cell_type": "code",
   "execution_count": 77,
   "metadata": {},
   "outputs": [],
   "source": [
    "#Tratamiento secuencia CustomerProfile\n",
    "CurrentAccount_df.reset_index()\n",
    "CurrentAccount_df['PartyId'] = CustomerProfile_df.index\n",
    "CurrentAccount_df['AccountId'] = CurrentAccount_df.index"
   ]
  },
  {
   "cell_type": "code",
   "execution_count": 78,
   "metadata": {},
   "outputs": [],
   "source": [
    "#Tratamiento position keeping\n",
    "PositionKeeping_df.reset_index()\n",
    "PositionKeeping_df['AmountId'] = PositionKeeping_df.index\n",
    "PositionKeeping_df['CreditLineId'] = PositionKeeping_df.index"
   ]
  },
  {
   "cell_type": "code",
   "execution_count": 79,
   "metadata": {},
   "outputs": [],
   "source": [
    "AccountInfo_df.to_csv(AccountInfo_file_out)\n",
    "Address_df.to_csv(Address_file_out)\n",
    "Amount_df.to_csv(Amount_file_out)\n",
    "CurrentAccount_df.to_csv(CurrentAccount_file_out)\n",
    "CustomerProfile_df.to_csv(CustomerProfile_file_out)\n",
    "PositionKeeping_df.to_csv(Position_Keeping_file_out)\n",
    "CreditLine_df.to_csv(CreditLine_file_out)"
   ]
  }
 ],
 "metadata": {
  "kernelspec": {
   "display_name": "Python 3",
   "language": "python",
   "name": "python3"
  },
  "language_info": {
   "codemirror_mode": {
    "name": "ipython",
    "version": 3
   },
   "file_extension": ".py",
   "mimetype": "text/x-python",
   "name": "python",
   "nbconvert_exporter": "python",
   "pygments_lexer": "ipython3",
   "version": "3.8.3"
  }
 },
 "nbformat": 4,
 "nbformat_minor": 4
}
